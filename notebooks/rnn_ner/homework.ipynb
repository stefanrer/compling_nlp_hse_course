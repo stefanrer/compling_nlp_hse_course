{
 "cells": [
  {
   "cell_type": "markdown",
   "id": "1bf6f873",
   "metadata": {
    "id": "1bf6f873"
   },
   "source": [
    "# Домашнее задание № 8"
   ]
  },
  {
   "cell_type": "markdown",
   "id": "3b4bd487",
   "metadata": {
    "id": "3b4bd487"
   },
   "source": [
    "## Задание 1 (4 балла)"
   ]
  },
  {
   "cell_type": "markdown",
   "id": "bf4c4f87",
   "metadata": {
    "id": "bf4c4f87"
   },
   "source": [
    "Обучите 8 моделей для задачи классификации текста (датасет - lenta_40k ). А именно:\n",
    "1) модель с 1 GRU слоем;\n",
    "2) модель с 1 LSTM слоем\n",
    "3) модель с 1 GRU и 1 LSTM слоем\n",
    "4) модель с 1 BIGRU и 2 LSTM слоями\n",
    "5) модель с 5 GRU слоями и 3 LSTM слоями\n",
    "6) модель 1 BIGRU и 1 BILSTM слоями, причем так чтобы модели для forward и backward прохода отличались\n",
    "7) модель, где последовательно идут слои: LSTM, GRU, BILSTM, BIGRU, GRU, LSTM\n",
    "\n",
    "\n",
    "\n",
    "Параметр units и размер эмбединга можете задать любой. Оцените качество каждой модели и определите победителя."
   ]
  },
  {
   "cell_type": "code",
   "source": [
    "!pip install keras"
   ],
   "metadata": {
    "id": "3heNhGY3KKMp",
    "outputId": "6c745a3a-0a2a-423e-8163-18818ff4c299",
    "colab": {
     "base_uri": "https://localhost:8080/"
    }
   },
   "id": "3heNhGY3KKMp",
   "execution_count": 1,
   "outputs": [
    {
     "output_type": "stream",
     "name": "stdout",
     "text": [
      "Looking in indexes: https://pypi.org/simple, https://us-python.pkg.dev/colab-wheels/public/simple/\n",
      "Requirement already satisfied: keras in /usr/local/lib/python3.10/dist-packages (2.12.0)\n"
     ]
    }
   ]
  },
  {
   "cell_type": "code",
   "source": [
    "!pip install tensorflow"
   ],
   "metadata": {
    "id": "VCiq5R6QKM1r",
    "outputId": "17c58bb6-e27c-4f3d-cf68-e683d38d0487",
    "colab": {
     "base_uri": "https://localhost:8080/"
    }
   },
   "id": "VCiq5R6QKM1r",
   "execution_count": 2,
   "outputs": [
    {
     "output_type": "stream",
     "name": "stdout",
     "text": [
      "Looking in indexes: https://pypi.org/simple, https://us-python.pkg.dev/colab-wheels/public/simple/\n",
      "Requirement already satisfied: tensorflow in /usr/local/lib/python3.10/dist-packages (2.12.0)\n",
      "Requirement already satisfied: absl-py>=1.0.0 in /usr/local/lib/python3.10/dist-packages (from tensorflow) (1.4.0)\n",
      "Requirement already satisfied: astunparse>=1.6.0 in /usr/local/lib/python3.10/dist-packages (from tensorflow) (1.6.3)\n",
      "Requirement already satisfied: flatbuffers>=2.0 in /usr/local/lib/python3.10/dist-packages (from tensorflow) (23.3.3)\n",
      "Requirement already satisfied: gast<=0.4.0,>=0.2.1 in /usr/local/lib/python3.10/dist-packages (from tensorflow) (0.4.0)\n",
      "Requirement already satisfied: google-pasta>=0.1.1 in /usr/local/lib/python3.10/dist-packages (from tensorflow) (0.2.0)\n",
      "Requirement already satisfied: grpcio<2.0,>=1.24.3 in /usr/local/lib/python3.10/dist-packages (from tensorflow) (1.54.0)\n",
      "Requirement already satisfied: h5py>=2.9.0 in /usr/local/lib/python3.10/dist-packages (from tensorflow) (3.8.0)\n",
      "Requirement already satisfied: jax>=0.3.15 in /usr/local/lib/python3.10/dist-packages (from tensorflow) (0.4.10)\n",
      "Requirement already satisfied: keras<2.13,>=2.12.0 in /usr/local/lib/python3.10/dist-packages (from tensorflow) (2.12.0)\n",
      "Requirement already satisfied: libclang>=13.0.0 in /usr/local/lib/python3.10/dist-packages (from tensorflow) (16.0.0)\n",
      "Requirement already satisfied: numpy<1.24,>=1.22 in /usr/local/lib/python3.10/dist-packages (from tensorflow) (1.22.4)\n",
      "Requirement already satisfied: opt-einsum>=2.3.2 in /usr/local/lib/python3.10/dist-packages (from tensorflow) (3.3.0)\n",
      "Requirement already satisfied: packaging in /usr/local/lib/python3.10/dist-packages (from tensorflow) (23.1)\n",
      "Requirement already satisfied: protobuf!=4.21.0,!=4.21.1,!=4.21.2,!=4.21.3,!=4.21.4,!=4.21.5,<5.0.0dev,>=3.20.3 in /usr/local/lib/python3.10/dist-packages (from tensorflow) (3.20.3)\n",
      "Requirement already satisfied: setuptools in /usr/local/lib/python3.10/dist-packages (from tensorflow) (67.7.2)\n",
      "Requirement already satisfied: six>=1.12.0 in /usr/local/lib/python3.10/dist-packages (from tensorflow) (1.16.0)\n",
      "Requirement already satisfied: tensorboard<2.13,>=2.12 in /usr/local/lib/python3.10/dist-packages (from tensorflow) (2.12.2)\n",
      "Requirement already satisfied: tensorflow-estimator<2.13,>=2.12.0 in /usr/local/lib/python3.10/dist-packages (from tensorflow) (2.12.0)\n",
      "Requirement already satisfied: termcolor>=1.1.0 in /usr/local/lib/python3.10/dist-packages (from tensorflow) (2.3.0)\n",
      "Requirement already satisfied: typing-extensions>=3.6.6 in /usr/local/lib/python3.10/dist-packages (from tensorflow) (4.5.0)\n",
      "Requirement already satisfied: wrapt<1.15,>=1.11.0 in /usr/local/lib/python3.10/dist-packages (from tensorflow) (1.14.1)\n",
      "Requirement already satisfied: tensorflow-io-gcs-filesystem>=0.23.1 in /usr/local/lib/python3.10/dist-packages (from tensorflow) (0.32.0)\n",
      "Requirement already satisfied: wheel<1.0,>=0.23.0 in /usr/local/lib/python3.10/dist-packages (from astunparse>=1.6.0->tensorflow) (0.40.0)\n",
      "Requirement already satisfied: ml-dtypes>=0.1.0 in /usr/local/lib/python3.10/dist-packages (from jax>=0.3.15->tensorflow) (0.1.0)\n",
      "Requirement already satisfied: scipy>=1.7 in /usr/local/lib/python3.10/dist-packages (from jax>=0.3.15->tensorflow) (1.10.1)\n",
      "Requirement already satisfied: google-auth<3,>=1.6.3 in /usr/local/lib/python3.10/dist-packages (from tensorboard<2.13,>=2.12->tensorflow) (2.17.3)\n",
      "Requirement already satisfied: google-auth-oauthlib<1.1,>=0.5 in /usr/local/lib/python3.10/dist-packages (from tensorboard<2.13,>=2.12->tensorflow) (1.0.0)\n",
      "Requirement already satisfied: markdown>=2.6.8 in /usr/local/lib/python3.10/dist-packages (from tensorboard<2.13,>=2.12->tensorflow) (3.4.3)\n",
      "Requirement already satisfied: requests<3,>=2.21.0 in /usr/local/lib/python3.10/dist-packages (from tensorboard<2.13,>=2.12->tensorflow) (2.27.1)\n",
      "Requirement already satisfied: tensorboard-data-server<0.8.0,>=0.7.0 in /usr/local/lib/python3.10/dist-packages (from tensorboard<2.13,>=2.12->tensorflow) (0.7.0)\n",
      "Requirement already satisfied: tensorboard-plugin-wit>=1.6.0 in /usr/local/lib/python3.10/dist-packages (from tensorboard<2.13,>=2.12->tensorflow) (1.8.1)\n",
      "Requirement already satisfied: werkzeug>=1.0.1 in /usr/local/lib/python3.10/dist-packages (from tensorboard<2.13,>=2.12->tensorflow) (2.3.0)\n",
      "Requirement already satisfied: cachetools<6.0,>=2.0.0 in /usr/local/lib/python3.10/dist-packages (from google-auth<3,>=1.6.3->tensorboard<2.13,>=2.12->tensorflow) (5.3.0)\n",
      "Requirement already satisfied: pyasn1-modules>=0.2.1 in /usr/local/lib/python3.10/dist-packages (from google-auth<3,>=1.6.3->tensorboard<2.13,>=2.12->tensorflow) (0.3.0)\n",
      "Requirement already satisfied: rsa<5,>=3.1.4 in /usr/local/lib/python3.10/dist-packages (from google-auth<3,>=1.6.3->tensorboard<2.13,>=2.12->tensorflow) (4.9)\n",
      "Requirement already satisfied: requests-oauthlib>=0.7.0 in /usr/local/lib/python3.10/dist-packages (from google-auth-oauthlib<1.1,>=0.5->tensorboard<2.13,>=2.12->tensorflow) (1.3.1)\n",
      "Requirement already satisfied: urllib3<1.27,>=1.21.1 in /usr/local/lib/python3.10/dist-packages (from requests<3,>=2.21.0->tensorboard<2.13,>=2.12->tensorflow) (1.26.15)\n",
      "Requirement already satisfied: certifi>=2017.4.17 in /usr/local/lib/python3.10/dist-packages (from requests<3,>=2.21.0->tensorboard<2.13,>=2.12->tensorflow) (2022.12.7)\n",
      "Requirement already satisfied: charset-normalizer~=2.0.0 in /usr/local/lib/python3.10/dist-packages (from requests<3,>=2.21.0->tensorboard<2.13,>=2.12->tensorflow) (2.0.12)\n",
      "Requirement already satisfied: idna<4,>=2.5 in /usr/local/lib/python3.10/dist-packages (from requests<3,>=2.21.0->tensorboard<2.13,>=2.12->tensorflow) (3.4)\n",
      "Requirement already satisfied: MarkupSafe>=2.1.1 in /usr/local/lib/python3.10/dist-packages (from werkzeug>=1.0.1->tensorboard<2.13,>=2.12->tensorflow) (2.1.2)\n",
      "Requirement already satisfied: pyasn1<0.6.0,>=0.4.6 in /usr/local/lib/python3.10/dist-packages (from pyasn1-modules>=0.2.1->google-auth<3,>=1.6.3->tensorboard<2.13,>=2.12->tensorflow) (0.5.0)\n",
      "Requirement already satisfied: oauthlib>=3.0.0 in /usr/local/lib/python3.10/dist-packages (from requests-oauthlib>=0.7.0->google-auth-oauthlib<1.1,>=0.5->tensorboard<2.13,>=2.12->tensorflow) (3.2.2)\n"
     ]
    }
   ]
  },
  {
   "cell_type": "code",
   "execution_count": 3,
   "id": "83db6635",
   "metadata": {
    "id": "83db6635"
   },
   "outputs": [],
   "source": [
    "import tensorflow as tf\n",
    "import pandas as pd\n",
    "from tensorflow.keras.layers import Dense, Embedding, GRU, LSTM, Bidirectional, Input\n",
    "from tensorflow.keras.models import Sequential\n",
    "import numpy as np\n",
    "from string import punctuation\n",
    "from sklearn.model_selection import train_test_split\n",
    "from collections import Counter\n",
    "from IPython.display import Image\n",
    "from IPython.core.display import HTML\n",
    "import matplotlib.pyplot as plt\n",
    "%matplotlib inline"
   ]
  },
  {
   "cell_type": "code",
   "source": [
    "data = pd.read_csv('lenta_40k.csv.zip')"
   ],
   "metadata": {
    "id": "xwep-k25OuEN"
   },
   "id": "xwep-k25OuEN",
   "execution_count": 4,
   "outputs": []
  },
  {
   "cell_type": "code",
   "source": [
    "data.head(5)"
   ],
   "metadata": {
    "id": "y8IDci-vOzrN",
    "outputId": "fc7b03fa-2e50-4c21-e910-c668c28d9f7d",
    "colab": {
     "base_uri": "https://localhost:8080/",
     "height": 206
    }
   },
   "id": "y8IDci-vOzrN",
   "execution_count": 5,
   "outputs": [
    {
     "output_type": "execute_result",
     "data": {
      "text/plain": [
       "                                                text           topic\n",
       "0  Россия должна сотрудничать с Всемирным антидоп...           Спорт\n",
       "1  Уголовный суд Кувейта 28 июня освободил под за...             Мир\n",
       "2  Французский журнал Charlie Hebdo опубликовал н...  Интернет и СМИ\n",
       "3  В Петербурге в доме № 53 по улице Лени Голиков...          Россия\n",
       "4  В московском аэропорту \"Домодедово\" задержан г...          Россия"
      ],
      "text/html": [
       "\n",
       "  <div id=\"df-4a90dfd5-fc66-43c8-9cec-1d3ec6fff8b7\">\n",
       "    <div class=\"colab-df-container\">\n",
       "      <div>\n",
       "<style scoped>\n",
       "    .dataframe tbody tr th:only-of-type {\n",
       "        vertical-align: middle;\n",
       "    }\n",
       "\n",
       "    .dataframe tbody tr th {\n",
       "        vertical-align: top;\n",
       "    }\n",
       "\n",
       "    .dataframe thead th {\n",
       "        text-align: right;\n",
       "    }\n",
       "</style>\n",
       "<table border=\"1\" class=\"dataframe\">\n",
       "  <thead>\n",
       "    <tr style=\"text-align: right;\">\n",
       "      <th></th>\n",
       "      <th>text</th>\n",
       "      <th>topic</th>\n",
       "    </tr>\n",
       "  </thead>\n",
       "  <tbody>\n",
       "    <tr>\n",
       "      <th>0</th>\n",
       "      <td>Россия должна сотрудничать с Всемирным антидоп...</td>\n",
       "      <td>Спорт</td>\n",
       "    </tr>\n",
       "    <tr>\n",
       "      <th>1</th>\n",
       "      <td>Уголовный суд Кувейта 28 июня освободил под за...</td>\n",
       "      <td>Мир</td>\n",
       "    </tr>\n",
       "    <tr>\n",
       "      <th>2</th>\n",
       "      <td>Французский журнал Charlie Hebdo опубликовал н...</td>\n",
       "      <td>Интернет и СМИ</td>\n",
       "    </tr>\n",
       "    <tr>\n",
       "      <th>3</th>\n",
       "      <td>В Петербурге в доме № 53 по улице Лени Голиков...</td>\n",
       "      <td>Россия</td>\n",
       "    </tr>\n",
       "    <tr>\n",
       "      <th>4</th>\n",
       "      <td>В московском аэропорту \"Домодедово\" задержан г...</td>\n",
       "      <td>Россия</td>\n",
       "    </tr>\n",
       "  </tbody>\n",
       "</table>\n",
       "</div>\n",
       "      <button class=\"colab-df-convert\" onclick=\"convertToInteractive('df-4a90dfd5-fc66-43c8-9cec-1d3ec6fff8b7')\"\n",
       "              title=\"Convert this dataframe to an interactive table.\"\n",
       "              style=\"display:none;\">\n",
       "        \n",
       "  <svg xmlns=\"http://www.w3.org/2000/svg\" height=\"24px\"viewBox=\"0 0 24 24\"\n",
       "       width=\"24px\">\n",
       "    <path d=\"M0 0h24v24H0V0z\" fill=\"none\"/>\n",
       "    <path d=\"M18.56 5.44l.94 2.06.94-2.06 2.06-.94-2.06-.94-.94-2.06-.94 2.06-2.06.94zm-11 1L8.5 8.5l.94-2.06 2.06-.94-2.06-.94L8.5 2.5l-.94 2.06-2.06.94zm10 10l.94 2.06.94-2.06 2.06-.94-2.06-.94-.94-2.06-.94 2.06-2.06.94z\"/><path d=\"M17.41 7.96l-1.37-1.37c-.4-.4-.92-.59-1.43-.59-.52 0-1.04.2-1.43.59L10.3 9.45l-7.72 7.72c-.78.78-.78 2.05 0 2.83L4 21.41c.39.39.9.59 1.41.59.51 0 1.02-.2 1.41-.59l7.78-7.78 2.81-2.81c.8-.78.8-2.07 0-2.86zM5.41 20L4 18.59l7.72-7.72 1.47 1.35L5.41 20z\"/>\n",
       "  </svg>\n",
       "      </button>\n",
       "      \n",
       "  <style>\n",
       "    .colab-df-container {\n",
       "      display:flex;\n",
       "      flex-wrap:wrap;\n",
       "      gap: 12px;\n",
       "    }\n",
       "\n",
       "    .colab-df-convert {\n",
       "      background-color: #E8F0FE;\n",
       "      border: none;\n",
       "      border-radius: 50%;\n",
       "      cursor: pointer;\n",
       "      display: none;\n",
       "      fill: #1967D2;\n",
       "      height: 32px;\n",
       "      padding: 0 0 0 0;\n",
       "      width: 32px;\n",
       "    }\n",
       "\n",
       "    .colab-df-convert:hover {\n",
       "      background-color: #E2EBFA;\n",
       "      box-shadow: 0px 1px 2px rgba(60, 64, 67, 0.3), 0px 1px 3px 1px rgba(60, 64, 67, 0.15);\n",
       "      fill: #174EA6;\n",
       "    }\n",
       "\n",
       "    [theme=dark] .colab-df-convert {\n",
       "      background-color: #3B4455;\n",
       "      fill: #D2E3FC;\n",
       "    }\n",
       "\n",
       "    [theme=dark] .colab-df-convert:hover {\n",
       "      background-color: #434B5C;\n",
       "      box-shadow: 0px 1px 3px 1px rgba(0, 0, 0, 0.15);\n",
       "      filter: drop-shadow(0px 1px 2px rgba(0, 0, 0, 0.3));\n",
       "      fill: #FFFFFF;\n",
       "    }\n",
       "  </style>\n",
       "\n",
       "      <script>\n",
       "        const buttonEl =\n",
       "          document.querySelector('#df-4a90dfd5-fc66-43c8-9cec-1d3ec6fff8b7 button.colab-df-convert');\n",
       "        buttonEl.style.display =\n",
       "          google.colab.kernel.accessAllowed ? 'block' : 'none';\n",
       "\n",
       "        async function convertToInteractive(key) {\n",
       "          const element = document.querySelector('#df-4a90dfd5-fc66-43c8-9cec-1d3ec6fff8b7');\n",
       "          const dataTable =\n",
       "            await google.colab.kernel.invokeFunction('convertToInteractive',\n",
       "                                                     [key], {});\n",
       "          if (!dataTable) return;\n",
       "\n",
       "          const docLinkHtml = 'Like what you see? Visit the ' +\n",
       "            '<a target=\"_blank\" href=https://colab.research.google.com/notebooks/data_table.ipynb>data table notebook</a>'\n",
       "            + ' to learn more about interactive tables.';\n",
       "          element.innerHTML = '';\n",
       "          dataTable['output_type'] = 'display_data';\n",
       "          await google.colab.output.renderOutput(dataTable, element);\n",
       "          const docLink = document.createElement('div');\n",
       "          docLink.innerHTML = docLinkHtml;\n",
       "          element.appendChild(docLink);\n",
       "        }\n",
       "      </script>\n",
       "    </div>\n",
       "  </div>\n",
       "  "
      ]
     },
     "metadata": {},
     "execution_count": 5
    }
   ]
  },
  {
   "cell_type": "code",
   "source": [
    "data.topic.unique()"
   ],
   "metadata": {
    "id": "YmmmVUfTO0W-",
    "outputId": "aa633234-1794-4170-e071-9ef1c9c2932e",
    "colab": {
     "base_uri": "https://localhost:8080/"
    }
   },
   "id": "YmmmVUfTO0W-",
   "execution_count": 6,
   "outputs": [
    {
     "output_type": "execute_result",
     "data": {
      "text/plain": [
       "array(['Спорт', 'Мир', 'Интернет и СМИ', 'Россия', 'Наука и техника',\n",
       "       'Силовые структуры', 'Бывший СССР', 'Культура', 'Экономика',\n",
       "       'Ценности', 'Из жизни', 'Дом', 'Бизнес', '69-я параллель', 'Крым',\n",
       "       'Путешествия', 'Культпросвет ', 'Легпром', 'Библиотека'],\n",
       "      dtype=object)"
      ]
     },
     "metadata": {},
     "execution_count": 6
    }
   ]
  },
  {
   "cell_type": "code",
   "source": [
    "def preprocess(text):\n",
    "    tokens = text.lower().split()\n",
    "    tokens = [token.strip(punctuation) for token in tokens]\n",
    "    return tokens"
   ],
   "metadata": {
    "id": "NXRiPoHfO18R"
   },
   "id": "NXRiPoHfO18R",
   "execution_count": 7,
   "outputs": []
  },
  {
   "cell_type": "code",
   "source": [
    "from tensorflow.keras import backend as K\n",
    "def f1(y_true, y_pred):\n",
    "    def recall(y_true, y_pred):\n",
    "        \"\"\"Recall metric.\n",
    "\n",
    "        Only computes a batch-wise average of recall.\n",
    "\n",
    "        Computes the recall, a metric for multi-label classification of\n",
    "        how many relevant items are selected.\n",
    "        \"\"\"\n",
    "        true_positives = K.sum(K.round(K.clip(y_true * y_pred, 0, 1)))\n",
    "        possible_positives = K.sum(K.round(K.clip(y_true, 0, 1)))\n",
    "        recall = true_positives / (possible_positives + K.epsilon())\n",
    "        return recall\n",
    "\n",
    "    def precision(y_true, y_pred):\n",
    "        \"\"\"Precision metric.\n",
    "\n",
    "        Only computes a batch-wise average of precision.\n",
    "\n",
    "        Computes the precision, a metric for multi-label classification of\n",
    "        how many selected items are relevant.\n",
    "        \"\"\"\n",
    "        true_positives = K.sum(K.round(K.clip(y_true * y_pred, 0, 1)))\n",
    "        predicted_positives = K.sum(K.round(K.clip(y_pred, 0, 1)))\n",
    "        precision = true_positives / (predicted_positives + K.epsilon())\n",
    "        return precision\n",
    "    precision = precision(y_true, y_pred)\n",
    "    recall = recall(y_true, y_pred)\n",
    "    return 2*((precision*recall)/(precision+recall+K.epsilon()))"
   ],
   "metadata": {
    "id": "mtvxbnepO6Ls"
   },
   "id": "mtvxbnepO6Ls",
   "execution_count": 8,
   "outputs": []
  },
  {
   "cell_type": "code",
   "source": [
    "# словарь\n",
    "vocab = Counter()\n",
    "\n",
    "for text in data.text:\n",
    "    vocab.update(preprocess(text))"
   ],
   "metadata": {
    "id": "8A3jP9AvO8u3"
   },
   "id": "8A3jP9AvO8u3",
   "execution_count": 9,
   "outputs": []
  },
  {
   "cell_type": "code",
   "source": [
    "len(vocab)"
   ],
   "metadata": {
    "id": "0dOr51vbPGil",
    "outputId": "2a0ba28c-3f2b-49cc-dce7-164c4bb6bec9",
    "colab": {
     "base_uri": "https://localhost:8080/"
    }
   },
   "id": "0dOr51vbPGil",
   "execution_count": 10,
   "outputs": [
    {
     "output_type": "execute_result",
     "data": {
      "text/plain": [
       "354611"
      ]
     },
     "metadata": {},
     "execution_count": 10
    }
   ]
  },
  {
   "cell_type": "code",
   "source": [
    "# отфильтрованный словарь\n",
    "filtered_vocab = set()\n",
    "\n",
    "for word in vocab:\n",
    "    if vocab[word] > 30:\n",
    "        filtered_vocab.add(word)"
   ],
   "metadata": {
    "id": "y42yey2CPH3g"
   },
   "id": "y42yey2CPH3g",
   "execution_count": 11,
   "outputs": []
  },
  {
   "cell_type": "code",
   "source": [
    "len(filtered_vocab)"
   ],
   "metadata": {
    "id": "MSwCb-0DPJRT",
    "outputId": "7f17ac51-24b2-46e1-dd29-4a830a35286d",
    "colab": {
     "base_uri": "https://localhost:8080/"
    }
   },
   "id": "MSwCb-0DPJRT",
   "execution_count": 12,
   "outputs": [
    {
     "output_type": "execute_result",
     "data": {
      "text/plain": [
       "24091"
      ]
     },
     "metadata": {},
     "execution_count": 12
    }
   ]
  },
  {
   "cell_type": "code",
   "source": [
    "# индексируем слова\n",
    "word2id = {'PAD':0, 'UNK':1}\n",
    "\n",
    "for word in filtered_vocab:\n",
    "    word2id[word] = len(word2id)"
   ],
   "metadata": {
    "id": "d7d39irIPLGi"
   },
   "id": "d7d39irIPLGi",
   "execution_count": 13,
   "outputs": []
  },
  {
   "cell_type": "code",
   "source": [
    "id2word = {i:word for word, i in word2id.items()}"
   ],
   "metadata": {
    "id": "ny2On5UmPM5B"
   },
   "id": "ny2On5UmPM5B",
   "execution_count": 14,
   "outputs": []
  },
  {
   "cell_type": "code",
   "source": [
    "# переводим тексты в последовательности индексов\n",
    "X = []\n",
    "\n",
    "for text in data.text:\n",
    "    tokens = preprocess(text)\n",
    "    ids = [word2id.get(token, 1) for token in tokens]\n",
    "    X.append(ids)"
   ],
   "metadata": {
    "id": "lwCm4-cdPOJk"
   },
   "id": "lwCm4-cdPOJk",
   "execution_count": 15,
   "outputs": []
  },
  {
   "cell_type": "code",
   "source": [
    "MAX_LEN = max(len(x) for x in X)"
   ],
   "metadata": {
    "id": "C7XROkOtPPg_"
   },
   "id": "C7XROkOtPPg_",
   "execution_count": 16,
   "outputs": []
  },
  {
   "cell_type": "code",
   "source": [
    "MEAN_LEN = np.median([len(x) for x in X])"
   ],
   "metadata": {
    "id": "q3vC5Y7mPRYw"
   },
   "id": "q3vC5Y7mPRYw",
   "execution_count": 17,
   "outputs": []
  },
  {
   "cell_type": "code",
   "source": [
    "MAX_LEN, MEAN_LEN"
   ],
   "metadata": {
    "id": "OLSA66E7PSbH",
    "outputId": "27b746ab-f924-424b-f2d1-3d41c8edeeb3",
    "colab": {
     "base_uri": "https://localhost:8080/"
    }
   },
   "id": "OLSA66E7PSbH",
   "execution_count": 18,
   "outputs": [
    {
     "output_type": "execute_result",
     "data": {
      "text/plain": [
       "(1748, 170.0)"
      ]
     },
     "metadata": {},
     "execution_count": 18
    }
   ]
  },
  {
   "cell_type": "code",
   "source": [
    "MAX_LEN = int(MEAN_LEN + 30)"
   ],
   "metadata": {
    "id": "fAwOUlm1PTsE"
   },
   "id": "fAwOUlm1PTsE",
   "execution_count": 19,
   "outputs": []
  },
  {
   "cell_type": "code",
   "source": [
    "# паддинг\n",
    "X = tf.keras.preprocessing.sequence.pad_sequences(X, maxlen=MAX_LEN)"
   ],
   "metadata": {
    "id": "cPFbj42pPU-z"
   },
   "id": "cPFbj42pPU-z",
   "execution_count": 20,
   "outputs": []
  },
  {
   "cell_type": "code",
   "source": [
    "X.shape"
   ],
   "metadata": {
    "id": "F8pyZB24PWB2",
    "outputId": "791322bb-66a3-4b5a-afa2-68b1d33f4d5e",
    "colab": {
     "base_uri": "https://localhost:8080/"
    }
   },
   "id": "F8pyZB24PWB2",
   "execution_count": 21,
   "outputs": [
    {
     "output_type": "execute_result",
     "data": {
      "text/plain": [
       "(44356, 200)"
      ]
     },
     "metadata": {},
     "execution_count": 21
    }
   ]
  },
  {
   "cell_type": "code",
   "source": [
    "id2label = {i:label for i, label in enumerate(set(data.topic.values))}\n",
    "label2id = {l:i for i, l in id2label.items()}"
   ],
   "metadata": {
    "id": "uqpT5lRGPXbD"
   },
   "id": "uqpT5lRGPXbD",
   "execution_count": 22,
   "outputs": []
  },
  {
   "cell_type": "code",
   "source": [
    "y = tf.keras.utils.to_categorical([label2id[label] for label in data.topic.values])"
   ],
   "metadata": {
    "id": "me774bN2PY70"
   },
   "id": "me774bN2PY70",
   "execution_count": 23,
   "outputs": []
  },
  {
   "cell_type": "code",
   "source": [
    "len(label2id)"
   ],
   "metadata": {
    "id": "x3Fnyz8EPaWx",
    "outputId": "b2d9ee65-f12d-4711-964c-261d3ec1b634",
    "colab": {
     "base_uri": "https://localhost:8080/"
    }
   },
   "id": "x3Fnyz8EPaWx",
   "execution_count": 24,
   "outputs": [
    {
     "output_type": "execute_result",
     "data": {
      "text/plain": [
       "19"
      ]
     },
     "metadata": {},
     "execution_count": 24
    }
   ]
  },
  {
   "cell_type": "code",
   "source": [
    "X_train, X_valid, y_train, y_valid = train_test_split(X, y, test_size=0.05, stratify=y)"
   ],
   "metadata": {
    "id": "u4b_VsaOPb0N"
   },
   "id": "u4b_VsaOPb0N",
   "execution_count": 25,
   "outputs": []
  },
  {
   "cell_type": "code",
   "source": [
    "MAX_FEATURES = len(word2id)"
   ],
   "metadata": {
    "id": "q0AYVA2APvXy"
   },
   "id": "q0AYVA2APvXy",
   "execution_count": 26,
   "outputs": []
  },
  {
   "cell_type": "code",
   "source": [
    "from tensorflow.keras.models import Sequential\n",
    "from tensorflow.keras.layers import Embedding, GRU, LSTM, Bidirectional, Dense\n",
    "\n",
    "models = []\n",
    "\n",
    "# 1) Модель с 1 GRU слоем\n",
    "model_1 = Sequential()\n",
    "model_1.add(Embedding(input_dim=len(word2id), output_dim=30, input_length=MAX_LEN))\n",
    "model_1.add(GRU(128))\n",
    "model_1.add(Dense(len(label2id), activation='softmax'))\n",
    "models.append(model_1)\n",
    "\n",
    "# 2) Модель с 1 LSTM слоем\n",
    "model_2 = Sequential()\n",
    "model_2.add(Embedding(input_dim=len(word2id), output_dim=30, input_length=MAX_LEN))\n",
    "model_2.add(LSTM(128))\n",
    "model_2.add(Dense(len(label2id), activation='softmax'))\n",
    "models.append(model_2)\n",
    "\n",
    "# 3) Модель с 1 GRU и 1 LSTM слоем\n",
    "model_3 = Sequential()\n",
    "model_3.add(Embedding(input_dim=len(word2id), output_dim=30, input_length=MAX_LEN))\n",
    "model_3.add(GRU(128, return_sequences=True))\n",
    "model_3.add(LSTM(128))\n",
    "model_3.add(Dense(len(label2id), activation='softmax'))\n",
    "models.append(model_3)\n",
    "\n",
    "# 4) Модель с 1 BIGRU и 2 LSTM слоями\n",
    "model_4 = Sequential()\n",
    "model_4.add(Embedding(input_dim=len(word2id), output_dim=30, input_length=MAX_LEN))\n",
    "model_4.add(Bidirectional(GRU(128, return_sequences=True)))\n",
    "model_4.add(LSTM(128, return_sequences=True))\n",
    "model_4.add(LSTM(128))\n",
    "model_4.add(Dense(len(label2id), activation='softmax'))\n",
    "models.append(model_4)\n",
    "\n",
    "# 5) Модель с 5 GRU слоями и 3 LSTM слоями\n",
    "model_5 = Sequential()\n",
    "model_5.add(Embedding(input_dim=len(word2id), output_dim=30, input_length=MAX_LEN))\n",
    "model_5.add(GRU(128, return_sequences=True))\n",
    "model_5.add(GRU(128, return_sequences=True))\n",
    "model_5.add(GRU(128, return_sequences=True))\n",
    "model_5.add(GRU(128, return_sequences=True))\n",
    "model_5.add(GRU(128, return_sequences=True))\n",
    "model_5.add(LSTM(128, return_sequences=True))\n",
    "model_5.add(LSTM(128, return_sequences=True))\n",
    "model_5.add(LSTM(128))\n",
    "model_5.add(Dense(len(label2id), activation='softmax'))\n",
    "models.append(model_5)\n",
    "\n",
    "# 6) Модель с 1 BIGRU и 1 BILSTM слоями\n",
    "forward_gru = GRU(128, return_sequences=True)\n",
    "backward_gru = GRU(128, return_sequences=True, go_backwards=True)\n",
    "forward_lstm = LSTM(128)\n",
    "backward_lstm = LSTM(128, go_backwards=True)\n",
    "model_6 = Sequential()\n",
    "model_6.add(Embedding(input_dim=len(word2id), output_dim=30, input_length=MAX_LEN))\n",
    "model_6.add(Bidirectional(forward_gru, backward_layer=backward_gru))\n",
    "model_6.add(Bidirectional(forward_lstm, backward_layer=backward_lstm))\n",
    "model_6.add(Dense(len(label2id), activation='softmax'))\n",
    "models.append(model_6)\n",
    "\n",
    "# 7) Модель с последовательностью слоев: LSTM, GRU, BILSTM, BIGRU, GRU, LSTM\n",
    "forward_lstm = LSTM(128, return_sequences=True)\n",
    "backward_lstm = LSTM(128, return_sequences=True, go_backwards=True)\n",
    "forward_gru = GRU(128, return_sequences=True)\n",
    "backward_gru = GRU(128, return_sequences=True, go_backwards=True)\n",
    "model_7 = Sequential()\n",
    "model_7.add(Embedding(input_dim=len(word2id), output_dim=30, input_length=MAX_LEN))\n",
    "model_7.add(LSTM(128, return_sequences=True))\n",
    "model_7.add(GRU(128, return_sequences=True))\n",
    "model_7.add(Bidirectional(forward_lstm, backward_layer=backward_lstm))\n",
    "model_7.add(Bidirectional(forward_gru, backward_layer=backward_gru))\n",
    "model_7.add(GRU(128, return_sequences=True))\n",
    "model_7.add(LSTM(128))\n",
    "model_7.add(Dense(len(label2id), activation='softmax'))\n",
    "models.append(model_7)\n",
    "\n",
    "# Компиляция всех моделей в списке\n",
    "for model in models:\n",
    "    optimizer = tf.keras.optimizers.Adam(learning_rate=0.001)\n",
    "    model.compile(optimizer=optimizer,\n",
    "                  loss='categorical_crossentropy',\n",
    "                  metrics=[f1,\n",
    "                           tf.keras.metrics.RecallAtPrecision(\n",
    "                               0.8,\n",
    "                               name='rec@prec'\n",
    "                           )])"
   ],
   "metadata": {
    "id": "4QciJcMya_Oe"
   },
   "id": "4QciJcMya_Oe",
   "execution_count": 27,
   "outputs": []
  },
  {
   "cell_type": "code",
   "source": [
    "import matplotlib.pyplot as plt\n",
    "\n",
    "history = []\n",
    "\n",
    "for i, model in enumerate(models):\n",
    "    print(f'Training model {i+1}')\n",
    "    hist = model.fit(X_train, y_train,\n",
    "                     validation_data=(X_valid, y_valid),\n",
    "                     batch_size=1000,\n",
    "                     epochs=20)\n",
    "    history.append(hist)\n",
    "\n",
    "for i, hist in enumerate(history):\n",
    "    plt.plot(hist.history['rec@prec'])\n",
    "    plt.plot(hist.history['val_rec@prec'])\n",
    "    plt.title(f'Model {i+1} f1')\n",
    "    plt.ylabel('f1')\n",
    "    plt.xlabel('epoch')\n",
    "    plt.legend(['train', 'val'], loc='upper left')\n",
    "    plt.show()"
   ],
   "metadata": {
    "id": "-CWYYW3Fi1LQ",
    "outputId": "7384fb76-b901-4cca-8031-3c9d29126fcd",
    "colab": {
     "base_uri": "https://localhost:8080/",
     "height": 1000
    }
   },
   "id": "-CWYYW3Fi1LQ",
   "execution_count": 28,
   "outputs": [
    {
     "output_type": "stream",
     "name": "stdout",
     "text": [
      "Training model 1\n",
      "Epoch 1/20\n",
      "43/43 [==============================] - 19s 266ms/step - loss: 2.5428 - f1: 0.0000e+00 - rec@prec: 0.0000e+00 - val_loss: 2.3100 - val_f1: 0.0000e+00 - val_rec@prec: 9.0171e-04\n",
      "Epoch 2/20\n",
      "43/43 [==============================] - 8s 193ms/step - loss: 2.2416 - f1: 1.8558e-04 - rec@prec: 9.4926e-05 - val_loss: 2.2094 - val_f1: 6.6600e-04 - val_rec@prec: 0.0027\n",
      "Epoch 3/20\n",
      "43/43 [==============================] - 9s 204ms/step - loss: 2.0562 - f1: 0.0062 - rec@prec: 0.0019 - val_loss: 2.0026 - val_f1: 0.0218 - val_rec@prec: 0.0077\n",
      "Epoch 4/20\n",
      "43/43 [==============================] - 7s 173ms/step - loss: 1.8470 - f1: 0.0608 - rec@prec: 0.0035 - val_loss: 1.8379 - val_f1: 0.1094 - val_rec@prec: 0.0167\n",
      "Epoch 5/20\n",
      "43/43 [==============================] - 6s 149ms/step - loss: 1.6213 - f1: 0.2096 - rec@prec: 0.1297 - val_loss: 1.7919 - val_f1: 0.2848 - val_rec@prec: 0.0730\n",
      "Epoch 6/20\n",
      "43/43 [==============================] - 7s 163ms/step - loss: 1.4826 - f1: 0.3622 - rec@prec: 0.2255 - val_loss: 1.6424 - val_f1: 0.3050 - val_rec@prec: 0.1353\n",
      "Epoch 7/20\n",
      "43/43 [==============================] - 5s 125ms/step - loss: 1.2757 - f1: 0.4626 - rec@prec: 0.3424 - val_loss: 1.5421 - val_f1: 0.3948 - val_rec@prec: 0.1583\n",
      "Epoch 8/20\n",
      "43/43 [==============================] - 7s 163ms/step - loss: 1.1279 - f1: 0.5515 - rec@prec: 0.4378 - val_loss: 1.6059 - val_f1: 0.4189 - val_rec@prec: 0.1858\n",
      "Epoch 9/20\n",
      "43/43 [==============================] - 5s 108ms/step - loss: 1.0106 - f1: 0.6140 - rec@prec: 0.5177 - val_loss: 1.5586 - val_f1: 0.4678 - val_rec@prec: 0.1930\n",
      "Epoch 10/20\n",
      "43/43 [==============================] - 5s 120ms/step - loss: 0.9056 - f1: 0.6649 - rec@prec: 0.5866 - val_loss: 1.5601 - val_f1: 0.4898 - val_rec@prec: 0.2304\n",
      "Epoch 11/20\n",
      "43/43 [==============================] - 3s 72ms/step - loss: 0.8065 - f1: 0.7101 - rec@prec: 0.6669 - val_loss: 1.5635 - val_f1: 0.5221 - val_rec@prec: 0.2624\n",
      "Epoch 12/20\n",
      "43/43 [==============================] - 4s 84ms/step - loss: 0.7448 - f1: 0.7390 - rec@prec: 0.7120 - val_loss: 1.6208 - val_f1: 0.5325 - val_rec@prec: 0.2606\n",
      "Epoch 13/20\n",
      "43/43 [==============================] - 5s 111ms/step - loss: 0.6475 - f1: 0.7820 - rec@prec: 0.7878 - val_loss: 1.6696 - val_f1: 0.5583 - val_rec@prec: 0.2642\n",
      "Epoch 14/20\n",
      "43/43 [==============================] - 4s 86ms/step - loss: 0.5633 - f1: 0.8187 - rec@prec: 0.8477 - val_loss: 1.7022 - val_f1: 0.5869 - val_rec@prec: 0.3237\n",
      "Epoch 15/20\n",
      "43/43 [==============================] - 4s 85ms/step - loss: 0.4919 - f1: 0.8468 - rec@prec: 0.8895 - val_loss: 1.7411 - val_f1: 0.6008 - val_rec@prec: 0.3575\n",
      "Epoch 16/20\n",
      "43/43 [==============================] - 3s 69ms/step - loss: 0.4384 - f1: 0.8677 - rec@prec: 0.9125 - val_loss: 1.7644 - val_f1: 0.6202 - val_rec@prec: 0.4157\n",
      "Epoch 17/20\n",
      "43/43 [==============================] - 4s 99ms/step - loss: 0.3705 - f1: 0.8940 - rec@prec: 0.9392 - val_loss: 1.8397 - val_f1: 0.6176 - val_rec@prec: 0.4098\n",
      "Epoch 18/20\n",
      "43/43 [==============================] - 3s 74ms/step - loss: 0.3272 - f1: 0.9076 - rec@prec: 0.9534 - val_loss: 1.8586 - val_f1: 0.6226 - val_rec@prec: 0.4225\n",
      "Epoch 19/20\n",
      "43/43 [==============================] - 3s 69ms/step - loss: 0.2816 - f1: 0.9236 - rec@prec: 0.9663 - val_loss: 1.9119 - val_f1: 0.6434 - val_rec@prec: 0.4459\n",
      "Epoch 20/20\n",
      "43/43 [==============================] - 4s 86ms/step - loss: 0.2332 - f1: 0.9421 - rec@prec: 0.9764 - val_loss: 1.9925 - val_f1: 0.6294 - val_rec@prec: 0.4206\n",
      "Training model 2\n",
      "Epoch 1/20\n",
      "43/43 [==============================] - 11s 189ms/step - loss: 2.4973 - f1: 0.0000e+00 - rec@prec: 0.0000e+00 - val_loss: 2.3203 - val_f1: 0.0000e+00 - val_rec@prec: 4.5086e-04\n",
      "Epoch 2/20\n",
      "43/43 [==============================] - 8s 193ms/step - loss: 2.3091 - f1: 0.0000e+00 - rec@prec: 9.4926e-05 - val_loss: 2.2896 - val_f1: 0.0000e+00 - val_rec@prec: 9.0171e-04\n",
      "Epoch 3/20\n",
      "43/43 [==============================] - 7s 159ms/step - loss: 2.1562 - f1: 0.0104 - rec@prec: 0.0045 - val_loss: 1.8681 - val_f1: 0.1456 - val_rec@prec: 0.0712\n",
      "Epoch 4/20\n",
      "43/43 [==============================] - 5s 124ms/step - loss: 1.8777 - f1: 0.0753 - rec@prec: 0.0099 - val_loss: 1.7492 - val_f1: 0.1612 - val_rec@prec: 0.1479\n",
      "Epoch 5/20\n",
      "43/43 [==============================] - 6s 132ms/step - loss: 1.5317 - f1: 0.3188 - rec@prec: 0.1798 - val_loss: 1.4603 - val_f1: 0.4834 - val_rec@prec: 0.2565\n",
      "Epoch 6/20\n",
      "43/43 [==============================] - 5s 116ms/step - loss: 1.2892 - f1: 0.5455 - rec@prec: 0.3696 - val_loss: 1.3048 - val_f1: 0.5683 - val_rec@prec: 0.3702\n",
      "Epoch 7/20\n",
      "43/43 [==============================] - 5s 112ms/step - loss: 1.0818 - f1: 0.6466 - rec@prec: 0.5303 - val_loss: 1.1967 - val_f1: 0.6361 - val_rec@prec: 0.4739\n",
      "Epoch 8/20\n",
      "43/43 [==============================] - 5s 121ms/step - loss: 0.9506 - f1: 0.7016 - rec@prec: 0.6471 - val_loss: 1.0979 - val_f1: 0.6855 - val_rec@prec: 0.5812\n",
      "Epoch 9/20\n",
      "43/43 [==============================] - 4s 98ms/step - loss: 0.8331 - f1: 0.7502 - rec@prec: 0.7292 - val_loss: 1.0743 - val_f1: 0.6929 - val_rec@prec: 0.6023\n",
      "Epoch 10/20\n",
      "43/43 [==============================] - 4s 89ms/step - loss: 0.7222 - f1: 0.7893 - rec@prec: 0.7968 - val_loss: 1.0435 - val_f1: 0.7024 - val_rec@prec: 0.6222\n",
      "Epoch 11/20\n",
      "43/43 [==============================] - 4s 100ms/step - loss: 0.6337 - f1: 0.8183 - rec@prec: 0.8382 - val_loss: 1.0414 - val_f1: 0.7093 - val_rec@prec: 0.6231\n",
      "Epoch 12/20\n",
      "43/43 [==============================] - 4s 102ms/step - loss: 0.5616 - f1: 0.8429 - rec@prec: 0.8684 - val_loss: 1.0766 - val_f1: 0.7091 - val_rec@prec: 0.6069\n",
      "Epoch 13/20\n",
      "43/43 [==============================] - 3s 78ms/step - loss: 0.5254 - f1: 0.8529 - rec@prec: 0.8823 - val_loss: 1.1150 - val_f1: 0.7150 - val_rec@prec: 0.6217\n",
      "Epoch 14/20\n",
      "43/43 [==============================] - 4s 83ms/step - loss: 0.4507 - f1: 0.8744 - rec@prec: 0.9103 - val_loss: 1.1366 - val_f1: 0.6929 - val_rec@prec: 0.5866\n",
      "Epoch 15/20\n",
      "43/43 [==============================] - 4s 101ms/step - loss: 0.4035 - f1: 0.8886 - rec@prec: 0.9266 - val_loss: 1.1268 - val_f1: 0.7105 - val_rec@prec: 0.6321\n",
      "Epoch 16/20\n",
      "43/43 [==============================] - 3s 75ms/step - loss: 0.3686 - f1: 0.8977 - rec@prec: 0.9409 - val_loss: 1.1402 - val_f1: 0.7015 - val_rec@prec: 0.6087\n",
      "Epoch 17/20\n",
      "43/43 [==============================] - 4s 86ms/step - loss: 0.3156 - f1: 0.9153 - rec@prec: 0.9560 - val_loss: 1.1891 - val_f1: 0.7141 - val_rec@prec: 0.6163\n",
      "Epoch 18/20\n",
      "43/43 [==============================] - 3s 80ms/step - loss: 0.2699 - f1: 0.9288 - rec@prec: 0.9664 - val_loss: 1.2653 - val_f1: 0.7055 - val_rec@prec: 0.6032\n",
      "Epoch 19/20\n",
      "43/43 [==============================] - 3s 78ms/step - loss: 0.2418 - f1: 0.9366 - rec@prec: 0.9715 - val_loss: 1.2726 - val_f1: 0.6960 - val_rec@prec: 0.5996\n",
      "Epoch 20/20\n",
      "43/43 [==============================] - 4s 102ms/step - loss: 0.2251 - f1: 0.9416 - rec@prec: 0.9744 - val_loss: 1.3326 - val_f1: 0.7026 - val_rec@prec: 0.6114\n",
      "Training model 3\n",
      "Epoch 1/20\n",
      "43/43 [==============================] - 14s 231ms/step - loss: 2.4462 - f1: 0.0000e+00 - rec@prec: 0.0000e+00 - val_loss: 2.3181 - val_f1: 0.0000e+00 - val_rec@prec: 0.0000e+00\n",
      "Epoch 2/20\n",
      "43/43 [==============================] - 8s 198ms/step - loss: 2.2853 - f1: 0.0000e+00 - rec@prec: 2.1358e-04 - val_loss: 2.0820 - val_f1: 0.0077 - val_rec@prec: 0.0072\n",
      "Epoch 3/20\n",
      "43/43 [==============================] - 8s 193ms/step - loss: 1.9103 - f1: 0.0604 - rec@prec: 0.0046 - val_loss: 1.8481 - val_f1: 0.0495 - val_rec@prec: 0.0023\n",
      "Epoch 4/20\n",
      "43/43 [==============================] - 7s 167ms/step - loss: 1.6707 - f1: 0.1824 - rec@prec: 0.0599 - val_loss: 1.6592 - val_f1: 0.3180 - val_rec@prec: 0.1091\n",
      "Epoch 5/20\n",
      "43/43 [==============================] - 7s 166ms/step - loss: 1.4916 - f1: 0.3563 - rec@prec: 0.1509 - val_loss: 1.5835 - val_f1: 0.4053 - val_rec@prec: 0.1682\n",
      "Epoch 6/20\n",
      "43/43 [==============================] - 8s 178ms/step - loss: 1.3306 - f1: 0.4688 - rec@prec: 0.2531 - val_loss: 1.4629 - val_f1: 0.4798 - val_rec@prec: 0.2507\n",
      "Epoch 7/20\n",
      "43/43 [==============================] - 7s 157ms/step - loss: 1.1800 - f1: 0.5553 - rec@prec: 0.3745 - val_loss: 1.4032 - val_f1: 0.5126 - val_rec@prec: 0.2881\n",
      "Epoch 8/20\n",
      "43/43 [==============================] - 7s 157ms/step - loss: 1.0675 - f1: 0.6285 - rec@prec: 0.4687 - val_loss: 1.4032 - val_f1: 0.5497 - val_rec@prec: 0.3084\n",
      "Epoch 9/20\n",
      "43/43 [==============================] - 6s 146ms/step - loss: 0.9736 - f1: 0.6796 - rec@prec: 0.5789 - val_loss: 1.3772 - val_f1: 0.6010 - val_rec@prec: 0.3458\n",
      "Epoch 10/20\n",
      "43/43 [==============================] - 7s 154ms/step - loss: 0.8845 - f1: 0.7248 - rec@prec: 0.6704 - val_loss: 1.3823 - val_f1: 0.5938 - val_rec@prec: 0.3877\n",
      "Epoch 11/20\n",
      "43/43 [==============================] - 6s 136ms/step - loss: 0.8183 - f1: 0.7526 - rec@prec: 0.7265 - val_loss: 1.3695 - val_f1: 0.6279 - val_rec@prec: 0.4436\n",
      "Epoch 12/20\n",
      "43/43 [==============================] - 6s 147ms/step - loss: 0.8177 - f1: 0.7582 - rec@prec: 0.7309 - val_loss: 1.4080 - val_f1: 0.6225 - val_rec@prec: 0.4400\n",
      "Epoch 13/20\n",
      "43/43 [==============================] - 7s 151ms/step - loss: 0.7277 - f1: 0.7914 - rec@prec: 0.7910 - val_loss: 1.3618 - val_f1: 0.6467 - val_rec@prec: 0.4869\n",
      "Epoch 14/20\n",
      "43/43 [==============================] - 6s 142ms/step - loss: 0.6510 - f1: 0.8186 - rec@prec: 0.8293 - val_loss: 1.4162 - val_f1: 0.6446 - val_rec@prec: 0.4648\n",
      "Epoch 15/20\n",
      "43/43 [==============================] - 7s 153ms/step - loss: 0.6106 - f1: 0.8307 - rec@prec: 0.8477 - val_loss: 1.4352 - val_f1: 0.6399 - val_rec@prec: 0.4761\n",
      "Epoch 16/20\n",
      "43/43 [==============================] - 6s 145ms/step - loss: 0.5469 - f1: 0.8536 - rec@prec: 0.8759 - val_loss: 1.4448 - val_f1: 0.6447 - val_rec@prec: 0.4748\n",
      "Epoch 17/20\n",
      "43/43 [==============================] - 6s 133ms/step - loss: 0.4986 - f1: 0.8669 - rec@prec: 0.8962 - val_loss: 1.5034 - val_f1: 0.6425 - val_rec@prec: 0.4662\n",
      "Epoch 18/20\n",
      "43/43 [==============================] - 6s 137ms/step - loss: 0.5071 - f1: 0.8615 - rec@prec: 0.8882 - val_loss: 1.5199 - val_f1: 0.6530 - val_rec@prec: 0.4689\n",
      "Epoch 19/20\n",
      "43/43 [==============================] - 6s 146ms/step - loss: 0.4496 - f1: 0.8805 - rec@prec: 0.9103 - val_loss: 1.5385 - val_f1: 0.6445 - val_rec@prec: 0.4684\n",
      "Epoch 20/20\n",
      "43/43 [==============================] - 5s 127ms/step - loss: 0.4110 - f1: 0.8932 - rec@prec: 0.9244 - val_loss: 1.5658 - val_f1: 0.6542 - val_rec@prec: 0.4910\n",
      "Training model 4\n",
      "Epoch 1/20\n",
      "43/43 [==============================] - 22s 337ms/step - loss: 2.4338 - f1: 0.0000e+00 - rec@prec: 0.0000e+00 - val_loss: 2.3230 - val_f1: 0.0000e+00 - val_rec@prec: 0.0000e+00\n",
      "Epoch 2/20\n",
      "43/43 [==============================] - 13s 306ms/step - loss: 2.2597 - f1: 0.0000e+00 - rec@prec: 0.0000e+00 - val_loss: 2.1351 - val_f1: 0.0000e+00 - val_rec@prec: 0.0000e+00\n",
      "Epoch 3/20\n",
      "43/43 [==============================] - 13s 301ms/step - loss: 1.9428 - f1: 0.0176 - rec@prec: 0.0026 - val_loss: 1.7926 - val_f1: 0.1311 - val_rec@prec: 0.0329\n",
      "Epoch 4/20\n",
      "43/43 [==============================] - 13s 293ms/step - loss: 1.6996 - f1: 0.1718 - rec@prec: 0.0784 - val_loss: 1.6995 - val_f1: 0.2285 - val_rec@prec: 0.0924\n",
      "Epoch 5/20\n",
      "43/43 [==============================] - 12s 290ms/step - loss: 1.5705 - f1: 0.2385 - rec@prec: 0.1279 - val_loss: 1.6209 - val_f1: 0.2467 - val_rec@prec: 0.1222\n",
      "Epoch 6/20\n",
      "43/43 [==============================] - 12s 283ms/step - loss: 1.4990 - f1: 0.2536 - rec@prec: 0.1471 - val_loss: 1.6132 - val_f1: 0.2626 - val_rec@prec: 0.1357\n",
      "Epoch 7/20\n",
      "43/43 [==============================] - 12s 284ms/step - loss: 1.4295 - f1: 0.2893 - rec@prec: 0.1618 - val_loss: 1.6017 - val_f1: 0.2755 - val_rec@prec: 0.1429\n",
      "Epoch 8/20\n",
      "43/43 [==============================] - 12s 291ms/step - loss: 1.3857 - f1: 0.3308 - rec@prec: 0.1717 - val_loss: 1.5573 - val_f1: 0.3351 - val_rec@prec: 0.1528\n",
      "Epoch 9/20\n",
      "43/43 [==============================] - 12s 283ms/step - loss: 1.3020 - f1: 0.3822 - rec@prec: 0.2304 - val_loss: 1.5032 - val_f1: 0.3448 - val_rec@prec: 0.1993\n",
      "Epoch 10/20\n",
      "43/43 [==============================] - 12s 278ms/step - loss: 1.2238 - f1: 0.4117 - rec@prec: 0.2804 - val_loss: 1.4860 - val_f1: 0.3895 - val_rec@prec: 0.2173\n",
      "Epoch 11/20\n",
      "43/43 [==============================] - 12s 280ms/step - loss: 1.1393 - f1: 0.4518 - rec@prec: 0.3195 - val_loss: 1.4919 - val_f1: 0.4269 - val_rec@prec: 0.2525\n",
      "Epoch 12/20\n",
      "43/43 [==============================] - 12s 277ms/step - loss: 1.0609 - f1: 0.5116 - rec@prec: 0.3705 - val_loss: 1.4258 - val_f1: 0.4939 - val_rec@prec: 0.2750\n",
      "Epoch 13/20\n",
      "43/43 [==============================] - 12s 280ms/step - loss: 1.0039 - f1: 0.5923 - rec@prec: 0.4148 - val_loss: 1.4531 - val_f1: 0.5404 - val_rec@prec: 0.2466\n",
      "Epoch 14/20\n",
      "43/43 [==============================] - 12s 279ms/step - loss: 0.9109 - f1: 0.6856 - rec@prec: 0.5500 - val_loss: 1.3756 - val_f1: 0.5990 - val_rec@prec: 0.3544\n",
      "Epoch 15/20\n",
      "43/43 [==============================] - 12s 271ms/step - loss: 0.8131 - f1: 0.7434 - rec@prec: 0.6939 - val_loss: 1.3712 - val_f1: 0.5982 - val_rec@prec: 0.4085\n",
      "Epoch 16/20\n",
      "43/43 [==============================] - 12s 269ms/step - loss: 0.7405 - f1: 0.7771 - rec@prec: 0.7605 - val_loss: 1.3560 - val_f1: 0.6450 - val_rec@prec: 0.4626\n",
      "Epoch 17/20\n",
      "43/43 [==============================] - 12s 272ms/step - loss: 0.6732 - f1: 0.8031 - rec@prec: 0.8112 - val_loss: 1.3985 - val_f1: 0.6454 - val_rec@prec: 0.4432\n",
      "Epoch 18/20\n",
      "43/43 [==============================] - 12s 278ms/step - loss: 0.6358 - f1: 0.8165 - rec@prec: 0.8326 - val_loss: 1.3988 - val_f1: 0.6573 - val_rec@prec: 0.4310\n",
      "Epoch 19/20\n",
      "43/43 [==============================] - 12s 273ms/step - loss: 0.6167 - f1: 0.8230 - rec@prec: 0.8432 - val_loss: 1.5416 - val_f1: 0.6215 - val_rec@prec: 0.3562\n",
      "Epoch 20/20\n",
      "43/43 [==============================] - 12s 271ms/step - loss: 0.5898 - f1: 0.8322 - rec@prec: 0.8581 - val_loss: 1.3910 - val_f1: 0.6602 - val_rec@prec: 0.4689\n",
      "Training model 5\n",
      "Epoch 1/20\n",
      "43/43 [==============================] - 39s 596ms/step - loss: 2.3909 - f1: 0.0000e+00 - rec@prec: 0.0000e+00 - val_loss: 2.3220 - val_f1: 0.0000e+00 - val_rec@prec: 0.0000e+00\n",
      "Epoch 2/20\n",
      "43/43 [==============================] - 24s 549ms/step - loss: 2.3244 - f1: 0.0000e+00 - rec@prec: 0.0000e+00 - val_loss: 2.3222 - val_f1: 0.0000e+00 - val_rec@prec: 0.0000e+00\n",
      "Epoch 3/20\n",
      "43/43 [==============================] - 23s 541ms/step - loss: 2.3234 - f1: 0.0000e+00 - rec@prec: 0.0000e+00 - val_loss: 2.3227 - val_f1: 0.0000e+00 - val_rec@prec: 0.0000e+00\n",
      "Epoch 4/20\n",
      "43/43 [==============================] - 23s 527ms/step - loss: 2.3226 - f1: 0.0000e+00 - rec@prec: 0.0000e+00 - val_loss: 2.3197 - val_f1: 0.0000e+00 - val_rec@prec: 0.0000e+00\n",
      "Epoch 5/20\n",
      "43/43 [==============================] - 23s 525ms/step - loss: 2.3225 - f1: 0.0000e+00 - rec@prec: 0.0000e+00 - val_loss: 2.3198 - val_f1: 0.0000e+00 - val_rec@prec: 0.0000e+00\n",
      "Epoch 6/20\n",
      "43/43 [==============================] - 22s 504ms/step - loss: 2.3226 - f1: 0.0000e+00 - rec@prec: 0.0000e+00 - val_loss: 2.3212 - val_f1: 0.0000e+00 - val_rec@prec: 0.0000e+00\n",
      "Epoch 7/20\n",
      "43/43 [==============================] - 22s 504ms/step - loss: 2.3228 - f1: 0.0000e+00 - rec@prec: 0.0000e+00 - val_loss: 2.3202 - val_f1: 0.0000e+00 - val_rec@prec: 0.0000e+00\n",
      "Epoch 8/20\n",
      "43/43 [==============================] - 22s 511ms/step - loss: 2.3221 - f1: 0.0000e+00 - rec@prec: 0.0000e+00 - val_loss: 2.3194 - val_f1: 0.0000e+00 - val_rec@prec: 0.0000e+00\n",
      "Epoch 9/20\n",
      "43/43 [==============================] - 22s 512ms/step - loss: 2.3220 - f1: 0.0000e+00 - rec@prec: 0.0000e+00 - val_loss: 2.3209 - val_f1: 0.0000e+00 - val_rec@prec: 0.0000e+00\n",
      "Epoch 10/20\n",
      "43/43 [==============================] - 21s 496ms/step - loss: 2.3221 - f1: 0.0000e+00 - rec@prec: 0.0000e+00 - val_loss: 2.3188 - val_f1: 0.0000e+00 - val_rec@prec: 0.0000e+00\n",
      "Epoch 11/20\n",
      "43/43 [==============================] - 22s 515ms/step - loss: 2.3228 - f1: 0.0000e+00 - rec@prec: 0.0000e+00 - val_loss: 2.3216 - val_f1: 0.0000e+00 - val_rec@prec: 0.0000e+00\n",
      "Epoch 12/20\n",
      "43/43 [==============================] - 21s 491ms/step - loss: 2.3227 - f1: 0.0000e+00 - rec@prec: 0.0000e+00 - val_loss: 2.3187 - val_f1: 0.0000e+00 - val_rec@prec: 0.0000e+00\n",
      "Epoch 13/20\n",
      "43/43 [==============================] - 22s 501ms/step - loss: 2.3216 - f1: 0.0000e+00 - rec@prec: 0.0000e+00 - val_loss: 2.3196 - val_f1: 0.0000e+00 - val_rec@prec: 0.0000e+00\n",
      "Epoch 14/20\n",
      "43/43 [==============================] - 22s 501ms/step - loss: 2.3220 - f1: 0.0000e+00 - rec@prec: 0.0000e+00 - val_loss: 2.3200 - val_f1: 0.0000e+00 - val_rec@prec: 0.0000e+00\n",
      "Epoch 15/20\n",
      "43/43 [==============================] - 22s 503ms/step - loss: 2.3221 - f1: 0.0000e+00 - rec@prec: 0.0000e+00 - val_loss: 2.3191 - val_f1: 0.0000e+00 - val_rec@prec: 0.0000e+00\n",
      "Epoch 16/20\n",
      "43/43 [==============================] - 22s 509ms/step - loss: 2.3223 - f1: 0.0000e+00 - rec@prec: 0.0000e+00 - val_loss: 2.3200 - val_f1: 0.0000e+00 - val_rec@prec: 0.0000e+00\n",
      "Epoch 17/20\n",
      "43/43 [==============================] - 22s 508ms/step - loss: 2.3218 - f1: 0.0000e+00 - rec@prec: 0.0000e+00 - val_loss: 2.3198 - val_f1: 0.0000e+00 - val_rec@prec: 0.0000e+00\n",
      "Epoch 18/20\n",
      "43/43 [==============================] - 21s 494ms/step - loss: 2.3217 - f1: 0.0000e+00 - rec@prec: 0.0000e+00 - val_loss: 2.3187 - val_f1: 0.0000e+00 - val_rec@prec: 0.0000e+00\n",
      "Epoch 19/20\n",
      "43/43 [==============================] - 22s 508ms/step - loss: 2.1635 - f1: 0.0000e+00 - rec@prec: 0.0000e+00 - val_loss: 1.9541 - val_f1: 0.0000e+00 - val_rec@prec: 0.0000e+00\n",
      "Epoch 20/20\n",
      "43/43 [==============================] - 21s 495ms/step - loss: 1.8605 - f1: 0.0078 - rec@prec: 0.0000e+00 - val_loss: 1.8260 - val_f1: 0.0861 - val_rec@prec: 0.0000e+00\n",
      "Training model 6\n",
      "Epoch 1/20\n",
      "43/43 [==============================] - 24s 383ms/step - loss: 2.4257 - f1: 0.0000e+00 - rec@prec: 0.0000e+00 - val_loss: 2.3001 - val_f1: 0.0000e+00 - val_rec@prec: 0.0000e+00\n",
      "Epoch 2/20\n",
      "43/43 [==============================] - 14s 318ms/step - loss: 2.1721 - f1: 0.0063 - rec@prec: 1.6612e-04 - val_loss: 1.8246 - val_f1: 0.0424 - val_rec@prec: 0.0000e+00\n",
      "Epoch 3/20\n",
      "43/43 [==============================] - 14s 334ms/step - loss: 1.6337 - f1: 0.2188 - rec@prec: 0.0886 - val_loss: 1.5003 - val_f1: 0.4544 - val_rec@prec: 0.1758\n",
      "Epoch 4/20\n",
      "43/43 [==============================] - 14s 324ms/step - loss: 1.2856 - f1: 0.5712 - rec@prec: 0.3666 - val_loss: 1.2918 - val_f1: 0.5888 - val_rec@prec: 0.4112\n",
      "Epoch 5/20\n",
      "43/43 [==============================] - 14s 326ms/step - loss: 1.0481 - f1: 0.6676 - rec@prec: 0.5691 - val_loss: 1.2754 - val_f1: 0.6126 - val_rec@prec: 0.4648\n",
      "Epoch 6/20\n",
      "43/43 [==============================] - 13s 312ms/step - loss: 0.9218 - f1: 0.7123 - rec@prec: 0.6499 - val_loss: 1.1888 - val_f1: 0.6627 - val_rec@prec: 0.5180\n",
      "Epoch 7/20\n",
      "43/43 [==============================] - 14s 319ms/step - loss: 0.7554 - f1: 0.7772 - rec@prec: 0.7699 - val_loss: 1.1521 - val_f1: 0.6772 - val_rec@prec: 0.5500\n",
      "Epoch 8/20\n",
      "43/43 [==============================] - 14s 315ms/step - loss: 0.6439 - f1: 0.8162 - rec@prec: 0.8295 - val_loss: 1.2419 - val_f1: 0.6495 - val_rec@prec: 0.5104\n",
      "Epoch 9/20\n",
      "43/43 [==============================] - 13s 314ms/step - loss: 0.5760 - f1: 0.8364 - rec@prec: 0.8611 - val_loss: 1.2616 - val_f1: 0.6660 - val_rec@prec: 0.5126\n",
      "Epoch 10/20\n",
      "43/43 [==============================] - 13s 312ms/step - loss: 0.5241 - f1: 0.8514 - rec@prec: 0.8812 - val_loss: 1.2936 - val_f1: 0.6757 - val_rec@prec: 0.5275\n",
      "Epoch 11/20\n",
      "43/43 [==============================] - 13s 307ms/step - loss: 0.4642 - f1: 0.8723 - rec@prec: 0.9063 - val_loss: 1.3586 - val_f1: 0.6814 - val_rec@prec: 0.5316\n",
      "Epoch 12/20\n",
      "43/43 [==============================] - 13s 303ms/step - loss: 0.4003 - f1: 0.8924 - rec@prec: 0.9290 - val_loss: 1.5107 - val_f1: 0.6602 - val_rec@prec: 0.4950\n",
      "Epoch 13/20\n",
      "43/43 [==============================] - 13s 304ms/step - loss: 0.3955 - f1: 0.8907 - rec@prec: 0.9288 - val_loss: 1.4653 - val_f1: 0.6603 - val_rec@prec: 0.5081\n",
      "Epoch 14/20\n",
      "43/43 [==============================] - 13s 306ms/step - loss: 0.3413 - f1: 0.9074 - rec@prec: 0.9458 - val_loss: 1.5158 - val_f1: 0.6682 - val_rec@prec: 0.5131\n",
      "Epoch 15/20\n",
      "43/43 [==============================] - 13s 302ms/step - loss: 0.3130 - f1: 0.9153 - rec@prec: 0.9538 - val_loss: 1.5659 - val_f1: 0.6770 - val_rec@prec: 0.5036\n",
      "Epoch 16/20\n",
      "43/43 [==============================] - 13s 300ms/step - loss: 0.2803 - f1: 0.9265 - rec@prec: 0.9618 - val_loss: 1.6017 - val_f1: 0.6663 - val_rec@prec: 0.5113\n",
      "Epoch 17/20\n",
      "43/43 [==============================] - 13s 309ms/step - loss: 0.2480 - f1: 0.9349 - rec@prec: 0.9691 - val_loss: 1.6405 - val_f1: 0.6742 - val_rec@prec: 0.5221\n",
      "Epoch 18/20\n",
      "43/43 [==============================] - 13s 301ms/step - loss: 0.2471 - f1: 0.9348 - rec@prec: 0.9695 - val_loss: 1.6834 - val_f1: 0.6696 - val_rec@prec: 0.5000\n",
      "Epoch 19/20\n",
      "43/43 [==============================] - 13s 304ms/step - loss: 0.2069 - f1: 0.9478 - rec@prec: 0.9769 - val_loss: 1.7425 - val_f1: 0.6721 - val_rec@prec: 0.5005\n",
      "Epoch 20/20\n",
      "43/43 [==============================] - 13s 300ms/step - loss: 0.1874 - f1: 0.9532 - rec@prec: 0.9798 - val_loss: 1.7957 - val_f1: 0.6758 - val_rec@prec: 0.4847\n",
      "Training model 7\n",
      "Epoch 1/20\n",
      "43/43 [==============================] - 43s 661ms/step - loss: 2.4007 - f1: 0.0000e+00 - rec@prec: 0.0000e+00 - val_loss: 2.3204 - val_f1: 0.0000e+00 - val_rec@prec: 0.0000e+00\n",
      "Epoch 2/20\n",
      "43/43 [==============================] - 26s 600ms/step - loss: 2.2969 - f1: 0.0054 - rec@prec: 0.0000e+00 - val_loss: 2.2841 - val_f1: 0.0325 - val_rec@prec: 4.5086e-04\n",
      "Epoch 3/20\n",
      "43/43 [==============================] - 25s 582ms/step - loss: 2.2963 - f1: 0.0259 - rec@prec: 2.3732e-05 - val_loss: 2.2810 - val_f1: 0.0307 - val_rec@prec: 0.0000e+00\n",
      "Epoch 4/20\n",
      "43/43 [==============================] - 25s 586ms/step - loss: 2.2829 - f1: 0.0265 - rec@prec: 0.0000e+00 - val_loss: 2.2758 - val_f1: 0.0000e+00 - val_rec@prec: 0.0000e+00\n",
      "Epoch 5/20\n",
      "43/43 [==============================] - 26s 598ms/step - loss: 2.2470 - f1: 0.0286 - rec@prec: 0.0000e+00 - val_loss: 2.2259 - val_f1: 0.0609 - val_rec@prec: 0.0000e+00\n",
      "Epoch 6/20\n",
      "43/43 [==============================] - 25s 586ms/step - loss: 2.2540 - f1: 0.0261 - rec@prec: 0.0000e+00 - val_loss: 2.2255 - val_f1: 0.0000e+00 - val_rec@prec: 0.0000e+00\n",
      "Epoch 7/20\n",
      "43/43 [==============================] - 25s 582ms/step - loss: 2.1969 - f1: 0.0397 - rec@prec: 4.7463e-05 - val_loss: 2.1928 - val_f1: 0.0073 - val_rec@prec: 0.0000e+00\n",
      "Epoch 8/20\n",
      "43/43 [==============================] - 25s 578ms/step - loss: 2.1848 - f1: 0.0494 - rec@prec: 0.0000e+00 - val_loss: 2.2144 - val_f1: 0.0922 - val_rec@prec: 0.0000e+00\n",
      "Epoch 9/20\n",
      "43/43 [==============================] - 25s 572ms/step - loss: 2.1585 - f1: 0.0624 - rec@prec: 0.0000e+00 - val_loss: 2.1803 - val_f1: 0.0795 - val_rec@prec: 0.0000e+00\n",
      "Epoch 10/20\n",
      "43/43 [==============================] - 25s 588ms/step - loss: 2.1284 - f1: 0.0700 - rec@prec: 6.6448e-04 - val_loss: 2.1529 - val_f1: 0.0991 - val_rec@prec: 0.0000e+00\n",
      "Epoch 11/20\n",
      "43/43 [==============================] - 25s 571ms/step - loss: 2.0645 - f1: 0.1136 - rec@prec: 4.2717e-04 - val_loss: 1.9642 - val_f1: 0.1070 - val_rec@prec: 0.0180\n",
      "Epoch 12/20\n",
      "43/43 [==============================] - 24s 565ms/step - loss: 1.6672 - f1: 0.2877 - rec@prec: 0.1003 - val_loss: 1.6504 - val_f1: 0.3208 - val_rec@prec: 0.1136\n",
      "Epoch 13/20\n",
      "43/43 [==============================] - 25s 571ms/step - loss: 1.4673 - f1: 0.4569 - rec@prec: 0.1832 - val_loss: 1.5771 - val_f1: 0.4163 - val_rec@prec: 0.1610\n",
      "Epoch 14/20\n",
      "43/43 [==============================] - 24s 562ms/step - loss: 1.3357 - f1: 0.5432 - rec@prec: 0.2601 - val_loss: 1.5023 - val_f1: 0.4841 - val_rec@prec: 0.2358\n",
      "Epoch 15/20\n",
      "43/43 [==============================] - 25s 574ms/step - loss: 1.1874 - f1: 0.6119 - rec@prec: 0.4283 - val_loss: 1.3774 - val_f1: 0.5544 - val_rec@prec: 0.3350\n",
      "Epoch 16/20\n",
      "43/43 [==============================] - 24s 565ms/step - loss: 0.9984 - f1: 0.6925 - rec@prec: 0.6076 - val_loss: 1.3111 - val_f1: 0.5972 - val_rec@prec: 0.3683\n",
      "Epoch 17/20\n",
      "43/43 [==============================] - 25s 571ms/step - loss: 0.8966 - f1: 0.7298 - rec@prec: 0.6783 - val_loss: 1.3156 - val_f1: 0.6051 - val_rec@prec: 0.3891\n",
      "Epoch 18/20\n",
      "43/43 [==============================] - 24s 565ms/step - loss: 0.7958 - f1: 0.7652 - rec@prec: 0.7451 - val_loss: 1.3174 - val_f1: 0.6156 - val_rec@prec: 0.4288\n",
      "Epoch 19/20\n",
      "43/43 [==============================] - 25s 571ms/step - loss: 0.7290 - f1: 0.7895 - rec@prec: 0.7858 - val_loss: 1.3039 - val_f1: 0.6205 - val_rec@prec: 0.4179\n",
      "Epoch 20/20\n",
      "43/43 [==============================] - 24s 562ms/step - loss: 0.6717 - f1: 0.8088 - rec@prec: 0.8183 - val_loss: 1.3566 - val_f1: 0.6234 - val_rec@prec: 0.3972\n"
     ]
    },
    {
     "output_type": "display_data",
     "data": {
      "text/plain": [
       "<Figure size 640x480 with 1 Axes>"
      ],
      "image/png": "[encoded data removed]"
     },
     "metadata": {}
    },
    {
     "output_type": "display_data",
     "data": {
      "text/plain": [
       "<Figure size 640x480 with 1 Axes>"
      ],
      "image/png": "[encoded data removed]"
     },
     "metadata": {}
    },
    {
     "output_type": "display_data",
     "data": {
      "text/plain": [
       "<Figure size 640x480 with 1 Axes>"
      ],
      "image/png": "[encoded data removed]"
     },
     "metadata": {}
    },
    {
     "output_type": "display_data",
     "data": {
      "text/plain": [
       "<Figure size 640x480 with 1 Axes>"
      ],
      "image/png": "[encoded data removed]"
     },
     "metadata": {}
    },
    {
     "output_type": "display_data",
     "data": {
      "text/plain": [
       "<Figure size 640x480 with 1 Axes>"
      ],
      "image/png": "[encoded data removed]"
     },
     "metadata": {}
    },
    {
     "output_type": "display_data",
     "data": {
      "text/plain": [
       "<Figure size 640x480 with 1 Axes>"
      ],
      "image/png": "[encoded data removed]"
     },
     "metadata": {}
    },
    {
     "output_type": "display_data",
     "data": {
      "text/plain": [
       "<Figure size 640x480 with 1 Axes>"
      ],
      "image/png": "[encoded data removed]"
     },
     "metadata": {}
    }
   ]
  },
  {
   "cell_type": "code",
   "source": [
    "best_val_f1 = 0\n",
    "best_model_index = 0\n",
    "\n",
    "for i, hist in enumerate(history):\n",
    "    val_f1 = hist.history['val_rec@prec'][-1]\n",
    "    print(f'Model {i+1} val f1: {val_f1}')\n",
    "    if val_f1 > best_val_f1:\n",
    "        best_val_f1 = val_f1\n",
    "        best_model_index = i\n",
    "\n",
    "print(f'Best model: {best_model_index+1}')"
   ],
   "metadata": {
    "id": "pet0sx2vjNog",
    "outputId": "b72c86f6-d481-46ce-ef75-431e7bd547e3",
    "colab": {
     "base_uri": "https://localhost:8080/"
    }
   },
   "id": "pet0sx2vjNog",
   "execution_count": 29,
   "outputs": [
    {
     "output_type": "stream",
     "name": "stdout",
     "text": [
      "Model 1 val f1: 0.4206492304801941\n",
      "Model 2 val f1: 0.611361563205719\n",
      "Model 3 val f1: 0.49098286032676697\n",
      "Model 4 val f1: 0.468890905380249\n",
      "Model 5 val f1: 0.0\n",
      "Model 6 val f1: 0.48467087745666504\n",
      "Model 7 val f1: 0.3972046971321106\n",
      "Best model: 2\n"
     ]
    }
   ]
  },
  {
   "cell_type": "markdown",
   "id": "ed5d6eea",
   "metadata": {
    "id": "ed5d6eea"
   },
   "source": [
    "## Задание 2 (6 баллов)\n"
   ]
  },
  {
   "cell_type": "markdown",
   "id": "5c2c07cf",
   "metadata": {
    "id": "5c2c07cf"
   },
   "source": [
    "На данных википедии (wikiann) обучите 2 модели:\n",
    "1) модель в которой будут использованы предобученные эмбединги слов и несколько BILSTM слоев.\n",
    "1) модель в которой будут использованы предобученные эмбединги слов и несколько BIGRU слоев.\n",
    "\n",
    "Сравните качество по метрикам. Также придумайте несколько сложных примеров и проверьте, какие сущности определяет каждая из моделей."
   ]
  },
  {
   "cell_type": "code",
   "source": [
    "!pip install datasets"
   ],
   "metadata": {
    "id": "ioow3xTH4glC",
    "outputId": "58889e8c-cad8-4f03-a9e6-a22b89d2615a",
    "colab": {
     "base_uri": "https://localhost:8080/"
    }
   },
   "id": "ioow3xTH4glC",
   "execution_count": 30,
   "outputs": [
    {
     "output_type": "stream",
     "name": "stdout",
     "text": [
      "Looking in indexes: https://pypi.org/simple, https://us-python.pkg.dev/colab-wheels/public/simple/\n",
      "Collecting datasets\n",
      "  Downloading datasets-2.13.0-py3-none-any.whl (485 kB)\n",
      "\u001B[2K     \u001B[90m━━━━━━━━━━━━━━━━━━━━━━━━━━━━━━━━━━━━━━\u001B[0m \u001B[32m485.6/485.6 kB\u001B[0m \u001B[31m11.1 MB/s\u001B[0m eta \u001B[36m0:00:00\u001B[0m\n",
      "\u001B[?25hRequirement already satisfied: numpy>=1.17 in /usr/local/lib/python3.10/dist-packages (from datasets) (1.22.4)\n",
      "Requirement already satisfied: pyarrow>=8.0.0 in /usr/local/lib/python3.10/dist-packages (from datasets) (9.0.0)\n",
      "Collecting dill<0.3.7,>=0.3.0 (from datasets)\n",
      "  Downloading dill-0.3.6-py3-none-any.whl (110 kB)\n",
      "\u001B[2K     \u001B[90m━━━━━━━━━━━━━━━━━━━━━━━━━━━━━━━━━━━━━━\u001B[0m \u001B[32m110.5/110.5 kB\u001B[0m \u001B[31m16.7 MB/s\u001B[0m eta \u001B[36m0:00:00\u001B[0m\n",
      "\u001B[?25hRequirement already satisfied: pandas in /usr/local/lib/python3.10/dist-packages (from datasets) (1.5.3)\n",
      "Requirement already satisfied: requests>=2.19.0 in /usr/local/lib/python3.10/dist-packages (from datasets) (2.27.1)\n",
      "Requirement already satisfied: tqdm>=4.62.1 in /usr/local/lib/python3.10/dist-packages (from datasets) (4.65.0)\n",
      "Collecting xxhash (from datasets)\n",
      "  Downloading xxhash-3.2.0-cp310-cp310-manylinux_2_17_x86_64.manylinux2014_x86_64.whl (212 kB)\n",
      "\u001B[2K     \u001B[90m━━━━━━━━━━━━━━━━━━━━━━━━━━━━━━━━━━━━━━\u001B[0m \u001B[32m212.5/212.5 kB\u001B[0m \u001B[31m30.8 MB/s\u001B[0m eta \u001B[36m0:00:00\u001B[0m\n",
      "\u001B[?25hCollecting multiprocess (from datasets)\n",
      "  Downloading multiprocess-0.70.14-py310-none-any.whl (134 kB)\n",
      "\u001B[2K     \u001B[90m━━━━━━━━━━━━━━━━━━━━━━━━━━━━━━━━━━━━━━\u001B[0m \u001B[32m134.3/134.3 kB\u001B[0m \u001B[31m18.8 MB/s\u001B[0m eta \u001B[36m0:00:00\u001B[0m\n",
      "\u001B[?25hRequirement already satisfied: fsspec[http]>=2021.11.1 in /usr/local/lib/python3.10/dist-packages (from datasets) (2023.4.0)\n",
      "Collecting aiohttp (from datasets)\n",
      "  Downloading aiohttp-3.8.4-cp310-cp310-manylinux_2_17_x86_64.manylinux2014_x86_64.whl (1.0 MB)\n",
      "\u001B[2K     \u001B[90m━━━━━━━━━━━━━━━━━━━━━━━━━━━━━━━━━━━━━━━━\u001B[0m \u001B[32m1.0/1.0 MB\u001B[0m \u001B[31m45.7 MB/s\u001B[0m eta \u001B[36m0:00:00\u001B[0m\n",
      "\u001B[?25hCollecting huggingface-hub<1.0.0,>=0.11.0 (from datasets)\n",
      "  Downloading huggingface_hub-0.15.1-py3-none-any.whl (236 kB)\n",
      "\u001B[2K     \u001B[90m━━━━━━━━━━━━━━━━━━━━━━━━━━━━━━━━━━━━━━\u001B[0m \u001B[32m236.8/236.8 kB\u001B[0m \u001B[31m32.9 MB/s\u001B[0m eta \u001B[36m0:00:00\u001B[0m\n",
      "\u001B[?25hRequirement already satisfied: packaging in /usr/local/lib/python3.10/dist-packages (from datasets) (23.1)\n",
      "Requirement already satisfied: pyyaml>=5.1 in /usr/local/lib/python3.10/dist-packages (from datasets) (6.0)\n",
      "Requirement already satisfied: attrs>=17.3.0 in /usr/local/lib/python3.10/dist-packages (from aiohttp->datasets) (23.1.0)\n",
      "Requirement already satisfied: charset-normalizer<4.0,>=2.0 in /usr/local/lib/python3.10/dist-packages (from aiohttp->datasets) (2.0.12)\n",
      "Collecting multidict<7.0,>=4.5 (from aiohttp->datasets)\n",
      "  Downloading multidict-6.0.4-cp310-cp310-manylinux_2_17_x86_64.manylinux2014_x86_64.whl (114 kB)\n",
      "\u001B[2K     \u001B[90m━━━━━━━━━━━━━━━━━━━━━━━━━━━━━━━━━━━━━━\u001B[0m \u001B[32m114.5/114.5 kB\u001B[0m \u001B[31m17.8 MB/s\u001B[0m eta \u001B[36m0:00:00\u001B[0m\n",
      "\u001B[?25hCollecting async-timeout<5.0,>=4.0.0a3 (from aiohttp->datasets)\n",
      "  Downloading async_timeout-4.0.2-py3-none-any.whl (5.8 kB)\n",
      "Collecting yarl<2.0,>=1.0 (from aiohttp->datasets)\n",
      "  Downloading yarl-1.9.2-cp310-cp310-manylinux_2_17_x86_64.manylinux2014_x86_64.whl (268 kB)\n",
      "\u001B[2K     \u001B[90m━━━━━━━━━━━━━━━━━━━━━━━━━━━━━━━━━━━━━━\u001B[0m \u001B[32m268.8/268.8 kB\u001B[0m \u001B[31m30.8 MB/s\u001B[0m eta \u001B[36m0:00:00\u001B[0m\n",
      "\u001B[?25hCollecting frozenlist>=1.1.1 (from aiohttp->datasets)\n",
      "  Downloading frozenlist-1.3.3-cp310-cp310-manylinux_2_5_x86_64.manylinux1_x86_64.manylinux_2_17_x86_64.manylinux2014_x86_64.whl (149 kB)\n",
      "\u001B[2K     \u001B[90m━━━━━━━━━━━━━━━━━━━━━━━━━━━━━━━━━━━━━━\u001B[0m \u001B[32m149.6/149.6 kB\u001B[0m \u001B[31m21.1 MB/s\u001B[0m eta \u001B[36m0:00:00\u001B[0m\n",
      "\u001B[?25hCollecting aiosignal>=1.1.2 (from aiohttp->datasets)\n",
      "  Downloading aiosignal-1.3.1-py3-none-any.whl (7.6 kB)\n",
      "Requirement already satisfied: filelock in /usr/local/lib/python3.10/dist-packages (from huggingface-hub<1.0.0,>=0.11.0->datasets) (3.12.0)\n",
      "Requirement already satisfied: typing-extensions>=3.7.4.3 in /usr/local/lib/python3.10/dist-packages (from huggingface-hub<1.0.0,>=0.11.0->datasets) (4.5.0)\n",
      "Requirement already satisfied: urllib3<1.27,>=1.21.1 in /usr/local/lib/python3.10/dist-packages (from requests>=2.19.0->datasets) (1.26.15)\n",
      "Requirement already satisfied: certifi>=2017.4.17 in /usr/local/lib/python3.10/dist-packages (from requests>=2.19.0->datasets) (2022.12.7)\n",
      "Requirement already satisfied: idna<4,>=2.5 in /usr/local/lib/python3.10/dist-packages (from requests>=2.19.0->datasets) (3.4)\n",
      "Requirement already satisfied: python-dateutil>=2.8.1 in /usr/local/lib/python3.10/dist-packages (from pandas->datasets) (2.8.2)\n",
      "Requirement already satisfied: pytz>=2020.1 in /usr/local/lib/python3.10/dist-packages (from pandas->datasets) (2022.7.1)\n",
      "Requirement already satisfied: six>=1.5 in /usr/local/lib/python3.10/dist-packages (from python-dateutil>=2.8.1->pandas->datasets) (1.16.0)\n",
      "Installing collected packages: xxhash, multidict, frozenlist, dill, async-timeout, yarl, multiprocess, huggingface-hub, aiosignal, aiohttp, datasets\n",
      "Successfully installed aiohttp-3.8.4 aiosignal-1.3.1 async-timeout-4.0.2 datasets-2.13.0 dill-0.3.6 frozenlist-1.3.3 huggingface-hub-0.15.1 multidict-6.0.4 multiprocess-0.70.14 xxhash-3.2.0 yarl-1.9.2\n"
     ]
    }
   ]
  },
  {
   "cell_type": "code",
   "source": [
    "from datasets import load_dataset\n",
    "from tensorflow.keras.models import Sequential\n",
    "from tensorflow.keras.layers import Embedding, Bidirectional, LSTM, GRU, Dense\n",
    "from sklearn.metrics import classification_report"
   ],
   "metadata": {
    "id": "2AvRpD1HvvTX"
   },
   "id": "2AvRpD1HvvTX",
   "execution_count": 31,
   "outputs": []
  },
  {
   "cell_type": "code",
   "source": [
    "# Load the Wikiann dataset\n",
    "dataset = load_dataset(\"wikiann\", 'ru')"
   ],
   "metadata": {
    "id": "oDB6T7O5-dg9",
    "outputId": "25de5c0a-58fc-4766-89a8-c2299a80ce53",
    "colab": {
     "base_uri": "https://localhost:8080/",
     "height": 232,
     "referenced_widgets": [
      "b11616f53a1f40339074eb4d162ddfc3",
      "228ac5e4e1734fee9e8971b8495b4eb6",
      "cdf9509a56ef4cfaba7184a48fffacbe",
      "1054da89274b4d05b1c2a28ed721e7b5",
      "705452d4bfe64228b25b0ae4e386b287",
      "d77b0e0cb18746ba992f275f89f3a2a9",
      "2837418b85ff48e2bec0714eb335a59a",
      "60e4e60b39334c04a15b307d488fce45",
      "c420606ae05048bc8cfd808ac45821ac",
      "d581794010dc4b04a6001d486d63deca",
      "d30a6811632e4e2c8e4ba23480efb654",
      "cd2ca34718354cfeb472e5c0d98979e6",
      "594bb052a07b49d982b772375ef49ba0",
      "e1876ed3a0e54182bd636248b2b20287",
      "1d9683361cb94c54a5ce901dcd57fe9f",
      "bec2a137377f4111a65f50d5f53c6b00",
      "e09754e0043f4341b09291bffefd289b",
      "a76741ffb11d46d38e7afa0f2d295216",
      "7feaf42c0fd54fa681e013e57e86a817",
      "211bb91992984737bf50e22507081a07",
      "2754ea8f9cb744549b96b6b9eecde36b",
      "c3cdd4c7e65548949958dccfcddd21b9",
      "b06f23170eaf4eceb44f430077dbbcdc",
      "1497a1fef64148edafb0a1e58093ddfa",
      "875ccd3e667d4fa8a3d3d1e29bbe3c26",
      "1d47cd9501844e29bcb7abf3de00123c",
      "0cb96221209b4e9e9d298afcd9af1f2a",
      "a6febd863a28438a9e501f568350f627",
      "9fedcd60cb7e4253b31b41b608eb1605",
      "7a6866dc612f48cb95f8681923108f4d",
      "deb3f97b710541f789c395c9305f8edf",
      "7691e667a26e4b209ab574967528fa3a",
      "1e3ae6e874634eb196db6756d4e0e193",
      "a34748b97eba4c9ebdd658101caea9e5",
      "0ea1a70b62fa421e9d2ce7d874813505",
      "661360eb200c4edeb3f852a6a8efcd7a",
      "bc717d9251cf475786478ef3285ebf67",
      "803225573ebc47ba848a5ca5d794e227",
      "71eb96994ae44581b889bc01ebd29c06",
      "37a17cfd4e90412f9028cd9a76d61df8",
      "d7bbc60bd23a461197fda977b305e4b7",
      "d461639774754243b67669620859db75",
      "4a432bbda8ac4f95be483b7d498b2fa9",
      "f1380ab4c1f84c1ca07c4d4833b6ca11",
      "ae3c587ae9bf48b3bbe9a7f0680b8765",
      "11c6b08f99f84414a81c4e1e3303f9cb",
      "d72a4f1579a543d9b5013b6b90a3d8d2",
      "59ed42c3a1f74f02968a4c0fa7ef581d",
      "097ae16ea37d43018d1e9d47edf695be",
      "c4463a3264ab466ab631315db43b8c9f",
      "e67deeeaf6b443fbae24fb455fc8672d",
      "09163b277dc74407b0ea08918d7c67fa",
      "0ea50ff259e74e75913334691599bb17",
      "1eef45db7d37402f92ffde20383ae0d5",
      "462b2a1153f14581abf495751bc1d46d",
      "bc72a6eb92b54d34bad889c8a6d366a7",
      "5f0a311b9edc410b9554be6aa449e57c",
      "836bbd987f974f3a8f14fda239f3e402",
      "cd51bb0fa8a5433c983bfb651642248a",
      "0b59650c07284ea192d9068bcf203f44",
      "ef1691f2db1a41d29984f387eff5e363",
      "92dac1f88f254baf9017bb1df5a5f50a",
      "99a5f20ea9c6411cbadde46d579dca43",
      "cf52d038f26c4ac2b7051a6f6e9c6266",
      "2d9626dfcda149cdaef2a29df4a1ec8a",
      "9ed16e952f96458da3084351e8068743",
      "54d94f5007e44880a8abf8d6810280d6",
      "f696b73f572e4786a2099500f4d9a7b1",
      "29ed1dd73afb4891950cb153272538a4",
      "e5ada72ccb9742a1bf2809102fb37443",
      "849c87b96a5c430c823eca0e2990da78",
      "f08d8e9a96bf4b2181f39c0bbdcf6115",
      "6b63952946e642afa5e994cb51736474",
      "1c262b973e5d46368ef4347562f1ab86",
      "e69e645d63e346ce85385085c199cddb",
      "870063b8023147d1a0fbbc588f1da0c2",
      "c4e23155af964eabb07f9c52e17cd1bd",
      "36c08de71ea2422a88e430b0c87d28ce",
      "73fcbf25ea34412883baa74dab445902",
      "965767f501054229a023478530ff9939",
      "1ec561f2cd9342cca1f098bfe3f932a1",
      "affa6a2b7b8e42799b28ba1852d685f5",
      "f30ea32e3a5c4e578982668295c93e85",
      "dde35260948c458aaeb873acbd5c984a",
      "d28d292db5444119980adeb8679237fd",
      "af403af0e6c749639e4109494a863a2b",
      "c63bbf08bdee4ae19fa41e0f3b945a09",
      "b2da8688ae00470c8b637300a69e75a1"
     ]
    }
   },
   "id": "oDB6T7O5-dg9",
   "execution_count": 32,
   "outputs": [
    {
     "output_type": "display_data",
     "data": {
      "text/plain": [
       "Downloading builder script:   0%|          | 0.00/11.6k [00:00<?, ?B/s]"
      ],
      "application/vnd.jupyter.widget-view+json": {
       "version_major": 2,
       "version_minor": 0,
       "model_id": "b11616f53a1f40339074eb4d162ddfc3"
      }
     },
     "metadata": {}
    },
    {
     "output_type": "display_data",
     "data": {
      "text/plain": [
       "Downloading metadata:   0%|          | 0.00/617k [00:00<?, ?B/s]"
      ],
      "application/vnd.jupyter.widget-view+json": {
       "version_major": 2,
       "version_minor": 0,
       "model_id": "cd2ca34718354cfeb472e5c0d98979e6"
      }
     },
     "metadata": {}
    },
    {
     "output_type": "display_data",
     "data": {
      "text/plain": [
       "Downloading readme:   0%|          | 0.00/131k [00:00<?, ?B/s]"
      ],
      "application/vnd.jupyter.widget-view+json": {
       "version_major": 2,
       "version_minor": 0,
       "model_id": "b06f23170eaf4eceb44f430077dbbcdc"
      }
     },
     "metadata": {}
    },
    {
     "output_type": "stream",
     "name": "stdout",
     "text": [
      "Downloading and preparing dataset wikiann/ru to /root/.cache/huggingface/datasets/wikiann/ru/1.1.0/4bfd4fe4468ab78bb6e096968f61fab7a888f44f9d3371c2f3fea7e74a5a354e...\n"
     ]
    },
    {
     "output_type": "display_data",
     "data": {
      "text/plain": [
       "Downloading data:   0%|          | 0.00/234M [00:00<?, ?B/s]"
      ],
      "application/vnd.jupyter.widget-view+json": {
       "version_major": 2,
       "version_minor": 0,
       "model_id": "a34748b97eba4c9ebdd658101caea9e5"
      }
     },
     "metadata": {}
    },
    {
     "output_type": "display_data",
     "data": {
      "text/plain": [
       "Generating validation split:   0%|          | 0/10000 [00:00<?, ? examples/s]"
      ],
      "application/vnd.jupyter.widget-view+json": {
       "version_major": 2,
       "version_minor": 0,
       "model_id": "ae3c587ae9bf48b3bbe9a7f0680b8765"
      }
     },
     "metadata": {}
    },
    {
     "output_type": "display_data",
     "data": {
      "text/plain": [
       "Generating test split:   0%|          | 0/10000 [00:00<?, ? examples/s]"
      ],
      "application/vnd.jupyter.widget-view+json": {
       "version_major": 2,
       "version_minor": 0,
       "model_id": "bc72a6eb92b54d34bad889c8a6d366a7"
      }
     },
     "metadata": {}
    },
    {
     "output_type": "display_data",
     "data": {
      "text/plain": [
       "Generating train split:   0%|          | 0/20000 [00:00<?, ? examples/s]"
      ],
      "application/vnd.jupyter.widget-view+json": {
       "version_major": 2,
       "version_minor": 0,
       "model_id": "54d94f5007e44880a8abf8d6810280d6"
      }
     },
     "metadata": {}
    },
    {
     "output_type": "stream",
     "name": "stdout",
     "text": [
      "Dataset wikiann downloaded and prepared to /root/.cache/huggingface/datasets/wikiann/ru/1.1.0/4bfd4fe4468ab78bb6e096968f61fab7a888f44f9d3371c2f3fea7e74a5a354e. Subsequent calls will reuse this data.\n"
     ]
    },
    {
     "output_type": "display_data",
     "data": {
      "text/plain": [
       "  0%|          | 0/3 [00:00<?, ?it/s]"
      ],
      "application/vnd.jupyter.widget-view+json": {
       "version_major": 2,
       "version_minor": 0,
       "model_id": "36c08de71ea2422a88e430b0c87d28ce"
      }
     },
     "metadata": {}
    }
   ]
  },
  {
   "cell_type": "code",
   "source": [
    "# Create a vocabulary from the training data\n",
    "vocab = Counter()\n",
    "for sent in dataset['train']['tokens']:\n",
    "    vocab.update([x.lower() for x in sent])"
   ],
   "metadata": {
    "id": "RHYTOxj6-deC"
   },
   "id": "RHYTOxj6-deC",
   "execution_count": 33,
   "outputs": []
  },
  {
   "cell_type": "code",
   "source": [
    "# Create word-to-index and index-to-word mappings\n",
    "word2id = {'PAD':0, 'UNK':1}\n",
    "for word in vocab:\n",
    "    word2id[word] = len(word2id)\n",
    "id2word = {i:word for word, i in word2id.items()}"
   ],
   "metadata": {
    "id": "JN12OtRT-dbo"
   },
   "id": "JN12OtRT-dbo",
   "execution_count": 34,
   "outputs": []
  },
  {
   "cell_type": "code",
   "source": [
    "# Convert the text data into sequences of word indices\n",
    "X = []\n",
    "for sent in dataset['train']['tokens']:\n",
    "    tokens = [w.lower() for w in sent]\n",
    "    ids = [word2id.get(token, 1) for token in tokens]\n",
    "    X.append(ids)\n",
    "X_test = []\n",
    "for sent in dataset['test']['tokens']:\n",
    "    tokens = [w.lower() for w in sent]\n",
    "    ids = [word2id.get(token, 1) for token in tokens]\n",
    "    X_test.append(ids)"
   ],
   "metadata": {
    "id": "GT6hhb3_-dZM"
   },
   "id": "GT6hhb3_-dZM",
   "execution_count": 35,
   "outputs": []
  },
  {
   "cell_type": "code",
   "source": [
    "# Determine the maximum sequence length\n",
    "MAX_LEN = max(len(x) for x in X)"
   ],
   "metadata": {
    "id": "AWnqhjf8-dWz"
   },
   "id": "AWnqhjf8-dWz",
   "execution_count": 36,
   "outputs": []
  },
  {
   "cell_type": "code",
   "source": [
    "# Pad the sequences with zeros\n",
    "X = tf.keras.preprocessing.sequence.pad_sequences(X, maxlen=MAX_LEN, padding='post')\n",
    "X_test = tf.keras.preprocessing.sequence.pad_sequences(X_test, maxlen=MAX_LEN, padding='post')"
   ],
   "metadata": {
    "id": "E9BCGV1l-dUY"
   },
   "id": "E9BCGV1l-dUY",
   "execution_count": 37,
   "outputs": []
  },
  {
   "cell_type": "code",
   "source": [
    "# Create label-to-index and index-to-label mappings\n",
    "id2labels = {0:'O', 1:'B-PER', 2:'I-PER', 3:'B-ORG', 4:'I-ORG', 5: 'B-LOC', 6:'I-LOC', 7:'PAD'}\n",
    "label2id = {v:k for k,v in id2labels.items()}"
   ],
   "metadata": {
    "id": "ZP6CtuzH-dR0"
   },
   "id": "ZP6CtuzH-dR0",
   "execution_count": 38,
   "outputs": []
  },
  {
   "cell_type": "code",
   "source": [
    "# Convert the labels into sequences of label indices\n",
    "y = tf.keras.preprocessing.sequence.pad_sequences(dataset['train']['ner_tags'], value=7,\n",
    "                                                  maxlen=MAX_LEN,  padding='post')\n",
    "y_test = tf.keras.preprocessing.sequence.pad_sequences(dataset['test']['ner_tags'], value=7,\n",
    "                                                       maxlen=MAX_LEN,  padding='post')"
   ],
   "metadata": {
    "id": "Cq7Fi2Sc-dPS"
   },
   "id": "Cq7Fi2Sc-dPS",
   "execution_count": 39,
   "outputs": []
  },
  {
   "cell_type": "code",
   "source": [
    "def create_model(model_type):\n",
    "    inputs = tf.keras.layers.Input(shape=(MAX_LEN,))\n",
    "    embeddings = tf.keras.layers.Embedding(input_dim=len(word2id), output_dim=100)(inputs)\n",
    "\n",
    "    if model_type == 'BiLSTM':\n",
    "        rnn_layer = tf.keras.layers.Bidirectional(tf.keras.layers.LSTM(128, return_sequences=True))(embeddings)\n",
    "        rnn_layer = tf.keras.layers.Bidirectional(tf.keras.layers.LSTM(128, return_sequences=True))(rnn_layer)\n",
    "    elif model_type == 'BiGRU':\n",
    "        rnn_layer = tf.keras.layers.Bidirectional(tf.keras.layers.GRU(128, return_sequences=True))(embeddings)\n",
    "        rnn_layer = tf.keras.layers.Bidirectional(tf.keras.layers.GRU(128, return_sequences=True))(rnn_layer)\n",
    "\n",
    "    outputs = tf.keras.layers.Dense(len(label2id), activation='softmax')(rnn_layer)\n",
    "    model = tf.keras.Model(inputs=inputs, outputs=outputs)\n",
    "    model.compile(optimizer='adam',\n",
    "                  loss='sparse_categorical_crossentropy',\n",
    "                  metrics=['accuracy'])\n",
    "    return model"
   ],
   "metadata": {
    "id": "Zusj3v3Z-dKo"
   },
   "id": "Zusj3v3Z-dKo",
   "execution_count": 40,
   "outputs": []
  },
  {
   "cell_type": "code",
   "source": [
    "# Create and train a BiLSTM model\n",
    "bilstm_model = create_model('BiLSTM')\n",
    "bilstm_model.fit(X, y, validation_data=(X_test, y_test), batch_size=128, epochs=5)"
   ],
   "metadata": {
    "id": "SixLkTn5-dIl",
    "outputId": "ea95940b-d5b4-4977-9563-8aefa380a1ad",
    "colab": {
     "base_uri": "https://localhost:8080/"
    }
   },
   "id": "SixLkTn5-dIl",
   "execution_count": 41,
   "outputs": [
    {
     "output_type": "stream",
     "name": "stdout",
     "text": [
      "Epoch 1/5\n",
      "157/157 [==============================] - 47s 205ms/step - loss: 0.2542 - accuracy: 0.9312 - val_loss: 0.1479 - val_accuracy: 0.9546\n",
      "Epoch 2/5\n",
      "157/157 [==============================] - 13s 84ms/step - loss: 0.1226 - accuracy: 0.9612 - val_loss: 0.1041 - val_accuracy: 0.9672\n",
      "Epoch 3/5\n",
      "157/157 [==============================] - 6s 41ms/step - loss: 0.0609 - accuracy: 0.9810 - val_loss: 0.0615 - val_accuracy: 0.9819\n",
      "Epoch 4/5\n",
      "157/157 [==============================] - 7s 43ms/step - loss: 0.0224 - accuracy: 0.9935 - val_loss: 0.0545 - val_accuracy: 0.9843\n",
      "Epoch 5/5\n",
      "157/157 [==============================] - 5s 33ms/step - loss: 0.0098 - accuracy: 0.9974 - val_loss: 0.0652 - val_accuracy: 0.9835\n"
     ]
    },
    {
     "output_type": "execute_result",
     "data": {
      "text/plain": [
       "<keras.callbacks.History at 0x7efdc82254e0>"
      ]
     },
     "metadata": {},
     "execution_count": 41
    }
   ]
  },
  {
   "cell_type": "code",
   "source": [
    "# Create and train a BiGRU model\n",
    "bigru_model = create_model('BiGRU')\n",
    "bigru_model.fit(X, y, validation_data=(X_test, y_test), batch_size=128, epochs=5)"
   ],
   "metadata": {
    "id": "PF97drO8-dGI",
    "outputId": "273d8bcc-f491-402c-8908-83a90e221f2c",
    "colab": {
     "base_uri": "https://localhost:8080/"
    }
   },
   "id": "PF97drO8-dGI",
   "execution_count": 42,
   "outputs": [
    {
     "output_type": "stream",
     "name": "stdout",
     "text": [
      "Epoch 1/5\n",
      "157/157 [==============================] - 27s 127ms/step - loss: 0.2516 - accuracy: 0.9315 - val_loss: 0.1113 - val_accuracy: 0.9627\n",
      "Epoch 2/5\n",
      "157/157 [==============================] - 10s 65ms/step - loss: 0.0651 - accuracy: 0.9789 - val_loss: 0.0584 - val_accuracy: 0.9826\n",
      "Epoch 3/5\n",
      "157/157 [==============================] - 8s 48ms/step - loss: 0.0215 - accuracy: 0.9933 - val_loss: 0.0519 - val_accuracy: 0.9856\n",
      "Epoch 4/5\n",
      "157/157 [==============================] - 7s 46ms/step - loss: 0.0091 - accuracy: 0.9974 - val_loss: 0.0577 - val_accuracy: 0.9854\n",
      "Epoch 5/5\n",
      "157/157 [==============================] - 5s 31ms/step - loss: 0.0049 - accuracy: 0.9987 - val_loss: 0.0651 - val_accuracy: 0.9847\n"
     ]
    },
    {
     "output_type": "execute_result",
     "data": {
      "text/plain": [
       "<keras.callbacks.History at 0x7efecd23a3e0>"
      ]
     },
     "metadata": {},
     "execution_count": 42
    }
   ]
  },
  {
   "cell_type": "code",
   "source": [
    "# Evaluate the models using classification metrics\n",
    "from sklearn.metrics import classification_report\n",
    "\n",
    "bilstm_pred = bilstm_model.predict(X_test).argmax(2)\n",
    "bilstm_rep = classification_report(y_test.reshape(-1), bilstm_pred.reshape(-1), labels=list(id2labels.keys()),\n",
    "                                                                     target_names=list(id2labels.values()),\n",
    "                                                                     zero_division=0)\n",
    "print('BiLSTM Model:')\n",
    "print(bilstm_rep)"
   ],
   "metadata": {
    "id": "6zZYkIHP-dDd",
    "outputId": "a3b48522-2e0d-48ed-ae28-f9131599f36f",
    "colab": {
     "base_uri": "https://localhost:8080/"
    }
   },
   "id": "6zZYkIHP-dDd",
   "execution_count": 43,
   "outputs": [
    {
     "output_type": "stream",
     "name": "stdout",
     "text": [
      "313/313 [==============================] - 3s 6ms/step\n",
      "BiLSTM Model:\n",
      "              precision    recall  f1-score   support\n",
      "\n",
      "           O       0.90      0.97      0.94     40480\n",
      "       B-PER       0.89      0.77      0.83      3542\n",
      "       I-PER       0.92      0.81      0.86      7544\n",
      "       B-ORG       0.83      0.62      0.71      4074\n",
      "       I-ORG       0.90      0.73      0.81      8008\n",
      "       B-LOC       0.63      0.83      0.71      4560\n",
      "       I-LOC       0.84      0.72      0.78      3060\n",
      "         PAD       1.00      1.00      1.00    468732\n",
      "\n",
      "    accuracy                           0.98    540000\n",
      "   macro avg       0.86      0.80      0.83    540000\n",
      "weighted avg       0.98      0.98      0.98    540000\n",
      "\n"
     ]
    }
   ]
  },
  {
   "cell_type": "code",
   "source": [
    "bigru_pred = bigru_model.predict(X_test).argmax(2)\n",
    "bigru_rep = classification_report(y_test.reshape(-1), bigru_pred.reshape(-1), labels=list(id2labels.keys()),\n",
    "                                                                     target_names=list(id2labels.values()),\n",
    "                                                                     zero_division=0)\n",
    "print('BiGRU Model:')\n",
    "print(bigru_rep)"
   ],
   "metadata": {
    "id": "_NKPuL2y-dA2",
    "outputId": "1bd2bb08-09f8-4a47-df89-34c509157a50",
    "colab": {
     "base_uri": "https://localhost:8080/"
    }
   },
   "id": "_NKPuL2y-dA2",
   "execution_count": 44,
   "outputs": [
    {
     "output_type": "stream",
     "name": "stdout",
     "text": [
      "313/313 [==============================] - 4s 6ms/step\n",
      "BiGRU Model:\n",
      "              precision    recall  f1-score   support\n",
      "\n",
      "           O       0.90      0.98      0.94     40480\n",
      "       B-PER       0.89      0.85      0.87      3542\n",
      "       I-PER       0.92      0.83      0.87      7544\n",
      "       B-ORG       0.68      0.72      0.70      4074\n",
      "       I-ORG       0.83      0.78      0.81      8008\n",
      "       B-LOC       0.89      0.66      0.76      4560\n",
      "       I-LOC       0.94      0.66      0.77      3060\n",
      "         PAD       1.00      1.00      1.00    468732\n",
      "\n",
      "    accuracy                           0.98    540000\n",
      "   macro avg       0.88      0.81      0.84    540000\n",
      "weighted avg       0.98      0.98      0.98    540000\n",
      "\n"
     ]
    }
   ]
  },
  {
   "cell_type": "code",
   "source": [
    "from sklearn.metrics import precision_recall_fscore_support\n",
    "\n",
    "# Вычисляем метрики для модели BiLSTM\n",
    "bilstm_precision, bilstm_recall, bilstm_fscore, _ = precision_recall_fscore_support(y_test.reshape(-1), bilstm_pred.reshape(-1), labels=list(id2labels.keys()))\n",
    "\n",
    "# Вычисляем метрики для модели BiGRU\n",
    "bigru_precision, bigru_recall, bigru_fscore, _ = precision_recall_fscore_support(y_test.reshape(-1), bigru_pred.reshape(-1), labels=list(id2labels.keys()))\n",
    "\n",
    "# Вычитаем метрики одной модели из другой\n",
    "diff_precision = bilstm_precision - bigru_precision\n",
    "diff_recall = bilstm_recall - bigru_recall\n",
    "diff_fscore = bilstm_fscore - bigru_fscore\n",
    "\n",
    "# Выводим разницу в метриках\n",
    "print('Difference in precision:', diff_precision)\n",
    "print('Difference in recall:', diff_recall)\n",
    "print('Difference in F-score:', diff_fscore)"
   ],
   "metadata": {
    "id": "grz0jAYeCjrQ",
    "outputId": "d0e48596-acee-477b-97f7-3b9f39f0bf6b",
    "colab": {
     "base_uri": "https://localhost:8080/"
    }
   },
   "id": "grz0jAYeCjrQ",
   "execution_count": 45,
   "outputs": [
    {
     "output_type": "stream",
     "name": "stdout",
     "text": [
      "Difference in precision: [ 1.50188827e-04  3.17879033e-03  8.95260688e-04  1.49448551e-01\n",
      "  6.86521122e-02 -2.63512538e-01 -9.55322635e-02 -1.74890052e-04]\n",
      "Difference in recall: [-0.00600296 -0.08159232 -0.02531813 -0.10333824 -0.0531968   0.16118421\n",
      "  0.0630719   0.        ]\n",
      "Difference in F-score: [-2.70692977e-03 -4.35487864e-02 -1.38022431e-02  8.21627243e-03\n",
      " -7.25649246e-04 -4.80917281e-02  3.00959136e-03 -8.74575242e-05]\n"
     ]
    }
   ]
  },
  {
   "cell_type": "code",
   "source": [
    "import re"
   ],
   "metadata": {
    "id": "tPFKswrpONjS"
   },
   "id": "tPFKswrpONjS",
   "execution_count": 47,
   "outputs": []
  },
  {
   "cell_type": "code",
   "source": [
    "def tokenize(text, word2id):\n",
    "    # токенизирует и переводит в индексы\n",
    "    tokens = re.findall('\\w+|[^\\w\\s]+', text)\n",
    "    ids = [word2id.get(token.lower(), 1) for token in tokens]\n",
    "    return tokens, ids\n",
    "\n",
    "def pred2tags(pred, id2label, length):\n",
    "    # декодирует индексы в части речи\n",
    "    # length нужно чтобы откидывать паддинги или некорректные предсказания\n",
    "    pred = pred.argmax(2)[0, :length]\n",
    "    labels = [id2label[l] for l in pred]\n",
    "    return labels\n",
    "\n",
    "def label_seq(text, word2id, id2label, max_len, model):\n",
    "    tokens, ids = tokenize(text, word2id)\n",
    "    pred = model.predict(tf.keras.preprocessing.sequence.pad_sequences([ids],\n",
    "                                                                       maxlen=max_len,\n",
    "                                                                       padding='post'))\n",
    "    labels = pred2tags(pred, id2label, len(ids))\n",
    "\n",
    "    return list(zip(tokens, labels))"
   ],
   "metadata": {
    "id": "yDppR1yHBuOl"
   },
   "id": "yDppR1yHBuOl",
   "execution_count": 49,
   "outputs": []
  },
  {
   "cell_type": "code",
   "source": [
    "# Примеры для проверки\n",
    "examples = ['Я поступил в ВШЭ в Питер',\n",
    "            'Владимир Путин встретился с Джо Байденом в Женеве',\n",
    "            'Apple выпустила новый iPhone']\n",
    "\n",
    "for text in examples:\n",
    "    print(f'Text: {text}')\n",
    "    print('Model bilstm:')\n",
    "    print(label_seq(text, word2id, id2labels, MAX_LEN, bilstm_model))\n",
    "    print('Model bigru:')\n",
    "    print(label_seq(text, word2id, id2labels, MAX_LEN, bigru_model))"
   ],
   "metadata": {
    "id": "KrNIcX3tOSZE",
    "outputId": "a7f24a86-73fd-4c86-dc8b-8e1f0d204fb3",
    "colab": {
     "base_uri": "https://localhost:8080/"
    }
   },
   "id": "KrNIcX3tOSZE",
   "execution_count": 50,
   "outputs": [
    {
     "output_type": "stream",
     "name": "stdout",
     "text": [
      "Text: Я поступил в ВШЭ в Питер\n",
      "Model bilstm:\n",
      "1/1 [==============================] - 0s 36ms/step\n",
      "[('Я', 'O'), ('поступил', 'O'), ('в', 'O'), ('ВШЭ', 'B-LOC'), ('в', 'I-LOC'), ('Питер', 'PAD')]\n",
      "Model bigru:\n",
      "1/1 [==============================] - 0s 33ms/step\n",
      "[('Я', 'O'), ('поступил', 'O'), ('в', 'O'), ('ВШЭ', 'B-ORG'), ('в', 'I-ORG'), ('Питер', 'I-ORG')]\n",
      "Text: Владимир Путин встретился с Джо Байденом в Женеве\n",
      "Model bilstm:\n",
      "1/1 [==============================] - 0s 38ms/step\n",
      "[('Владимир', 'B-PER'), ('Путин', 'I-PER'), ('встретился', 'I-PER'), ('с', 'O'), ('Джо', 'B-PER'), ('Байденом', 'I-PER'), ('в', 'O'), ('Женеве', 'PAD')]\n",
      "Model bigru:\n",
      "1/1 [==============================] - 0s 38ms/step\n",
      "[('Владимир', 'B-PER'), ('Путин', 'I-PER'), ('встретился', 'I-PER'), ('с', 'O'), ('Джо', 'B-PER'), ('Байденом', 'I-PER'), ('в', 'O'), ('Женеве', 'PAD')]\n",
      "Text: Apple выпустила новый iPhone\n",
      "Model bilstm:\n",
      "1/1 [==============================] - 0s 41ms/step\n",
      "[('Apple', 'B-PER'), ('выпустила', 'I-PER'), ('новый', 'I-PER'), ('iPhone', 'O')]\n",
      "Model bigru:\n",
      "1/1 [==============================] - 0s 61ms/step\n",
      "[('Apple', 'B-PER'), ('выпустила', 'I-PER'), ('новый', 'I-PER'), ('iPhone', 'I-PER')]\n"
     ]
    }
   ]
  }
 ],
 "metadata": {
  "kernelspec": {
   "display_name": "Python 3",
   "name": "python3"
  },
  "language_info": {
   "codemirror_mode": {
    "name": "ipython",
    "version": 3
   },
   "file_extension": ".py",
   "mimetype": "text/x-python",
   "name": "python",
   "nbconvert_exporter": "python",
   "pygments_lexer": "ipython3",
   "version": "3.9.14"
  },
  "colab": {
   "provenance": [],
   "gpuType": "T4"
  },
  "accelerator": "GPU",
  "widgets": {
   "application/vnd.jupyter.widget-state+json": {
    "b11616f53a1f40339074eb4d162ddfc3": {
     "model_module": "@jupyter-widgets/controls",
     "model_name": "HBoxModel",
     "model_module_version": "1.5.0",
     "state": {
      "_dom_classes": [],
      "_model_module": "@jupyter-widgets/controls",
      "_model_module_version": "1.5.0",
      "_model_name": "HBoxModel",
      "_view_count": null,
      "_view_module": "@jupyter-widgets/controls",
      "_view_module_version": "1.5.0",
      "_view_name": "HBoxView",
      "box_style": "",
      "children": [
       "IPY_MODEL_228ac5e4e1734fee9e8971b8495b4eb6",
       "IPY_MODEL_cdf9509a56ef4cfaba7184a48fffacbe",
       "IPY_MODEL_1054da89274b4d05b1c2a28ed721e7b5"
      ],
      "layout": "IPY_MODEL_705452d4bfe64228b25b0ae4e386b287"
     }
    },
    "228ac5e4e1734fee9e8971b8495b4eb6": {
     "model_module": "@jupyter-widgets/controls",
     "model_name": "HTMLModel",
     "model_module_version": "1.5.0",
     "state": {
      "_dom_classes": [],
      "_model_module": "@jupyter-widgets/controls",
      "_model_module_version": "1.5.0",
      "_model_name": "HTMLModel",
      "_view_count": null,
      "_view_module": "@jupyter-widgets/controls",
      "_view_module_version": "1.5.0",
      "_view_name": "HTMLView",
      "description": "",
      "description_tooltip": null,
      "layout": "IPY_MODEL_d77b0e0cb18746ba992f275f89f3a2a9",
      "placeholder": "​",
      "style": "IPY_MODEL_2837418b85ff48e2bec0714eb335a59a",
      "value": "Downloading builder script: 100%"
     }
    },
    "cdf9509a56ef4cfaba7184a48fffacbe": {
     "model_module": "@jupyter-widgets/controls",
     "model_name": "FloatProgressModel",
     "model_module_version": "1.5.0",
     "state": {
      "_dom_classes": [],
      "_model_module": "@jupyter-widgets/controls",
      "_model_module_version": "1.5.0",
      "_model_name": "FloatProgressModel",
      "_view_count": null,
      "_view_module": "@jupyter-widgets/controls",
      "_view_module_version": "1.5.0",
      "_view_name": "ProgressView",
      "bar_style": "success",
      "description": "",
      "description_tooltip": null,
      "layout": "IPY_MODEL_60e4e60b39334c04a15b307d488fce45",
      "max": 11637,
      "min": 0,
      "orientation": "horizontal",
      "style": "IPY_MODEL_c420606ae05048bc8cfd808ac45821ac",
      "value": 11637
     }
    },
    "1054da89274b4d05b1c2a28ed721e7b5": {
     "model_module": "@jupyter-widgets/controls",
     "model_name": "HTMLModel",
     "model_module_version": "1.5.0",
     "state": {
      "_dom_classes": [],
      "_model_module": "@jupyter-widgets/controls",
      "_model_module_version": "1.5.0",
      "_model_name": "HTMLModel",
      "_view_count": null,
      "_view_module": "@jupyter-widgets/controls",
      "_view_module_version": "1.5.0",
      "_view_name": "HTMLView",
      "description": "",
      "description_tooltip": null,
      "layout": "IPY_MODEL_d581794010dc4b04a6001d486d63deca",
      "placeholder": "​",
      "style": "IPY_MODEL_d30a6811632e4e2c8e4ba23480efb654",
      "value": " 11.6k/11.6k [00:00&lt;00:00, 351kB/s]"
     }
    },
    "705452d4bfe64228b25b0ae4e386b287": {
     "model_module": "@jupyter-widgets/base",
     "model_name": "LayoutModel",
     "model_module_version": "1.2.0",
     "state": {
      "_model_module": "@jupyter-widgets/base",
      "_model_module_version": "1.2.0",
      "_model_name": "LayoutModel",
      "_view_count": null,
      "_view_module": "@jupyter-widgets/base",
      "_view_module_version": "1.2.0",
      "_view_name": "LayoutView",
      "align_content": null,
      "align_items": null,
      "align_self": null,
      "border": null,
      "bottom": null,
      "display": null,
      "flex": null,
      "flex_flow": null,
      "grid_area": null,
      "grid_auto_columns": null,
      "grid_auto_flow": null,
      "grid_auto_rows": null,
      "grid_column": null,
      "grid_gap": null,
      "grid_row": null,
      "grid_template_areas": null,
      "grid_template_columns": null,
      "grid_template_rows": null,
      "height": null,
      "justify_content": null,
      "justify_items": null,
      "left": null,
      "margin": null,
      "max_height": null,
      "max_width": null,
      "min_height": null,
      "min_width": null,
      "object_fit": null,
      "object_position": null,
      "order": null,
      "overflow": null,
      "overflow_x": null,
      "overflow_y": null,
      "padding": null,
      "right": null,
      "top": null,
      "visibility": null,
      "width": null
     }
    },
    "d77b0e0cb18746ba992f275f89f3a2a9": {
     "model_module": "@jupyter-widgets/base",
     "model_name": "LayoutModel",
     "model_module_version": "1.2.0",
     "state": {
      "_model_module": "@jupyter-widgets/base",
      "_model_module_version": "1.2.0",
      "_model_name": "LayoutModel",
      "_view_count": null,
      "_view_module": "@jupyter-widgets/base",
      "_view_module_version": "1.2.0",
      "_view_name": "LayoutView",
      "align_content": null,
      "align_items": null,
      "align_self": null,
      "border": null,
      "bottom": null,
      "display": null,
      "flex": null,
      "flex_flow": null,
      "grid_area": null,
      "grid_auto_columns": null,
      "grid_auto_flow": null,
      "grid_auto_rows": null,
      "grid_column": null,
      "grid_gap": null,
      "grid_row": null,
      "grid_template_areas": null,
      "grid_template_columns": null,
      "grid_template_rows": null,
      "height": null,
      "justify_content": null,
      "justify_items": null,
      "left": null,
      "margin": null,
      "max_height": null,
      "max_width": null,
      "min_height": null,
      "min_width": null,
      "object_fit": null,
      "object_position": null,
      "order": null,
      "overflow": null,
      "overflow_x": null,
      "overflow_y": null,
      "padding": null,
      "right": null,
      "top": null,
      "visibility": null,
      "width": null
     }
    },
    "2837418b85ff48e2bec0714eb335a59a": {
     "model_module": "@jupyter-widgets/controls",
     "model_name": "DescriptionStyleModel",
     "model_module_version": "1.5.0",
     "state": {
      "_model_module": "@jupyter-widgets/controls",
      "_model_module_version": "1.5.0",
      "_model_name": "DescriptionStyleModel",
      "_view_count": null,
      "_view_module": "@jupyter-widgets/base",
      "_view_module_version": "1.2.0",
      "_view_name": "StyleView",
      "description_width": ""
     }
    },
    "60e4e60b39334c04a15b307d488fce45": {
     "model_module": "@jupyter-widgets/base",
     "model_name": "LayoutModel",
     "model_module_version": "1.2.0",
     "state": {
      "_model_module": "@jupyter-widgets/base",
      "_model_module_version": "1.2.0",
      "_model_name": "LayoutModel",
      "_view_count": null,
      "_view_module": "@jupyter-widgets/base",
      "_view_module_version": "1.2.0",
      "_view_name": "LayoutView",
      "align_content": null,
      "align_items": null,
      "align_self": null,
      "border": null,
      "bottom": null,
      "display": null,
      "flex": null,
      "flex_flow": null,
      "grid_area": null,
      "grid_auto_columns": null,
      "grid_auto_flow": null,
      "grid_auto_rows": null,
      "grid_column": null,
      "grid_gap": null,
      "grid_row": null,
      "grid_template_areas": null,
      "grid_template_columns": null,
      "grid_template_rows": null,
      "height": null,
      "justify_content": null,
      "justify_items": null,
      "left": null,
      "margin": null,
      "max_height": null,
      "max_width": null,
      "min_height": null,
      "min_width": null,
      "object_fit": null,
      "object_position": null,
      "order": null,
      "overflow": null,
      "overflow_x": null,
      "overflow_y": null,
      "padding": null,
      "right": null,
      "top": null,
      "visibility": null,
      "width": null
     }
    },
    "c420606ae05048bc8cfd808ac45821ac": {
     "model_module": "@jupyter-widgets/controls",
     "model_name": "ProgressStyleModel",
     "model_module_version": "1.5.0",
     "state": {
      "_model_module": "@jupyter-widgets/controls",
      "_model_module_version": "1.5.0",
      "_model_name": "ProgressStyleModel",
      "_view_count": null,
      "_view_module": "@jupyter-widgets/base",
      "_view_module_version": "1.2.0",
      "_view_name": "StyleView",
      "bar_color": null,
      "description_width": ""
     }
    },
    "d581794010dc4b04a6001d486d63deca": {
     "model_module": "@jupyter-widgets/base",
     "model_name": "LayoutModel",
     "model_module_version": "1.2.0",
     "state": {
      "_model_module": "@jupyter-widgets/base",
      "_model_module_version": "1.2.0",
      "_model_name": "LayoutModel",
      "_view_count": null,
      "_view_module": "@jupyter-widgets/base",
      "_view_module_version": "1.2.0",
      "_view_name": "LayoutView",
      "align_content": null,
      "align_items": null,
      "align_self": null,
      "border": null,
      "bottom": null,
      "display": null,
      "flex": null,
      "flex_flow": null,
      "grid_area": null,
      "grid_auto_columns": null,
      "grid_auto_flow": null,
      "grid_auto_rows": null,
      "grid_column": null,
      "grid_gap": null,
      "grid_row": null,
      "grid_template_areas": null,
      "grid_template_columns": null,
      "grid_template_rows": null,
      "height": null,
      "justify_content": null,
      "justify_items": null,
      "left": null,
      "margin": null,
      "max_height": null,
      "max_width": null,
      "min_height": null,
      "min_width": null,
      "object_fit": null,
      "object_position": null,
      "order": null,
      "overflow": null,
      "overflow_x": null,
      "overflow_y": null,
      "padding": null,
      "right": null,
      "top": null,
      "visibility": null,
      "width": null
     }
    },
    "d30a6811632e4e2c8e4ba23480efb654": {
     "model_module": "@jupyter-widgets/controls",
     "model_name": "DescriptionStyleModel",
     "model_module_version": "1.5.0",
     "state": {
      "_model_module": "@jupyter-widgets/controls",
      "_model_module_version": "1.5.0",
      "_model_name": "DescriptionStyleModel",
      "_view_count": null,
      "_view_module": "@jupyter-widgets/base",
      "_view_module_version": "1.2.0",
      "_view_name": "StyleView",
      "description_width": ""
     }
    },
    "cd2ca34718354cfeb472e5c0d98979e6": {
     "model_module": "@jupyter-widgets/controls",
     "model_name": "HBoxModel",
     "model_module_version": "1.5.0",
     "state": {
      "_dom_classes": [],
      "_model_module": "@jupyter-widgets/controls",
      "_model_module_version": "1.5.0",
      "_model_name": "HBoxModel",
      "_view_count": null,
      "_view_module": "@jupyter-widgets/controls",
      "_view_module_version": "1.5.0",
      "_view_name": "HBoxView",
      "box_style": "",
      "children": [
       "IPY_MODEL_594bb052a07b49d982b772375ef49ba0",
       "IPY_MODEL_e1876ed3a0e54182bd636248b2b20287",
       "IPY_MODEL_1d9683361cb94c54a5ce901dcd57fe9f"
      ],
      "layout": "IPY_MODEL_bec2a137377f4111a65f50d5f53c6b00"
     }
    },
    "594bb052a07b49d982b772375ef49ba0": {
     "model_module": "@jupyter-widgets/controls",
     "model_name": "HTMLModel",
     "model_module_version": "1.5.0",
     "state": {
      "_dom_classes": [],
      "_model_module": "@jupyter-widgets/controls",
      "_model_module_version": "1.5.0",
      "_model_name": "HTMLModel",
      "_view_count": null,
      "_view_module": "@jupyter-widgets/controls",
      "_view_module_version": "1.5.0",
      "_view_name": "HTMLView",
      "description": "",
      "description_tooltip": null,
      "layout": "IPY_MODEL_e09754e0043f4341b09291bffefd289b",
      "placeholder": "​",
      "style": "IPY_MODEL_a76741ffb11d46d38e7afa0f2d295216",
      "value": "Downloading metadata: 100%"
     }
    },
    "e1876ed3a0e54182bd636248b2b20287": {
     "model_module": "@jupyter-widgets/controls",
     "model_name": "FloatProgressModel",
     "model_module_version": "1.5.0",
     "state": {
      "_dom_classes": [],
      "_model_module": "@jupyter-widgets/controls",
      "_model_module_version": "1.5.0",
      "_model_name": "FloatProgressModel",
      "_view_count": null,
      "_view_module": "@jupyter-widgets/controls",
      "_view_module_version": "1.5.0",
      "_view_name": "ProgressView",
      "bar_style": "success",
      "description": "",
      "description_tooltip": null,
      "layout": "IPY_MODEL_7feaf42c0fd54fa681e013e57e86a817",
      "max": 617123,
      "min": 0,
      "orientation": "horizontal",
      "style": "IPY_MODEL_211bb91992984737bf50e22507081a07",
      "value": 617123
     }
    },
    "1d9683361cb94c54a5ce901dcd57fe9f": {
     "model_module": "@jupyter-widgets/controls",
     "model_name": "HTMLModel",
     "model_module_version": "1.5.0",
     "state": {
      "_dom_classes": [],
      "_model_module": "@jupyter-widgets/controls",
      "_model_module_version": "1.5.0",
      "_model_name": "HTMLModel",
      "_view_count": null,
      "_view_module": "@jupyter-widgets/controls",
      "_view_module_version": "1.5.0",
      "_view_name": "HTMLView",
      "description": "",
      "description_tooltip": null,
      "layout": "IPY_MODEL_2754ea8f9cb744549b96b6b9eecde36b",
      "placeholder": "​",
      "style": "IPY_MODEL_c3cdd4c7e65548949958dccfcddd21b9",
      "value": " 617k/617k [00:00&lt;00:00, 5.31MB/s]"
     }
    },
    "bec2a137377f4111a65f50d5f53c6b00": {
     "model_module": "@jupyter-widgets/base",
     "model_name": "LayoutModel",
     "model_module_version": "1.2.0",
     "state": {
      "_model_module": "@jupyter-widgets/base",
      "_model_module_version": "1.2.0",
      "_model_name": "LayoutModel",
      "_view_count": null,
      "_view_module": "@jupyter-widgets/base",
      "_view_module_version": "1.2.0",
      "_view_name": "LayoutView",
      "align_content": null,
      "align_items": null,
      "align_self": null,
      "border": null,
      "bottom": null,
      "display": null,
      "flex": null,
      "flex_flow": null,
      "grid_area": null,
      "grid_auto_columns": null,
      "grid_auto_flow": null,
      "grid_auto_rows": null,
      "grid_column": null,
      "grid_gap": null,
      "grid_row": null,
      "grid_template_areas": null,
      "grid_template_columns": null,
      "grid_template_rows": null,
      "height": null,
      "justify_content": null,
      "justify_items": null,
      "left": null,
      "margin": null,
      "max_height": null,
      "max_width": null,
      "min_height": null,
      "min_width": null,
      "object_fit": null,
      "object_position": null,
      "order": null,
      "overflow": null,
      "overflow_x": null,
      "overflow_y": null,
      "padding": null,
      "right": null,
      "top": null,
      "visibility": null,
      "width": null
     }
    },
    "e09754e0043f4341b09291bffefd289b": {
     "model_module": "@jupyter-widgets/base",
     "model_name": "LayoutModel",
     "model_module_version": "1.2.0",
     "state": {
      "_model_module": "@jupyter-widgets/base",
      "_model_module_version": "1.2.0",
      "_model_name": "LayoutModel",
      "_view_count": null,
      "_view_module": "@jupyter-widgets/base",
      "_view_module_version": "1.2.0",
      "_view_name": "LayoutView",
      "align_content": null,
      "align_items": null,
      "align_self": null,
      "border": null,
      "bottom": null,
      "display": null,
      "flex": null,
      "flex_flow": null,
      "grid_area": null,
      "grid_auto_columns": null,
      "grid_auto_flow": null,
      "grid_auto_rows": null,
      "grid_column": null,
      "grid_gap": null,
      "grid_row": null,
      "grid_template_areas": null,
      "grid_template_columns": null,
      "grid_template_rows": null,
      "height": null,
      "justify_content": null,
      "justify_items": null,
      "left": null,
      "margin": null,
      "max_height": null,
      "max_width": null,
      "min_height": null,
      "min_width": null,
      "object_fit": null,
      "object_position": null,
      "order": null,
      "overflow": null,
      "overflow_x": null,
      "overflow_y": null,
      "padding": null,
      "right": null,
      "top": null,
      "visibility": null,
      "width": null
     }
    },
    "a76741ffb11d46d38e7afa0f2d295216": {
     "model_module": "@jupyter-widgets/controls",
     "model_name": "DescriptionStyleModel",
     "model_module_version": "1.5.0",
     "state": {
      "_model_module": "@jupyter-widgets/controls",
      "_model_module_version": "1.5.0",
      "_model_name": "DescriptionStyleModel",
      "_view_count": null,
      "_view_module": "@jupyter-widgets/base",
      "_view_module_version": "1.2.0",
      "_view_name": "StyleView",
      "description_width": ""
     }
    },
    "7feaf42c0fd54fa681e013e57e86a817": {
     "model_module": "@jupyter-widgets/base",
     "model_name": "LayoutModel",
     "model_module_version": "1.2.0",
     "state": {
      "_model_module": "@jupyter-widgets/base",
      "_model_module_version": "1.2.0",
      "_model_name": "LayoutModel",
      "_view_count": null,
      "_view_module": "@jupyter-widgets/base",
      "_view_module_version": "1.2.0",
      "_view_name": "LayoutView",
      "align_content": null,
      "align_items": null,
      "align_self": null,
      "border": null,
      "bottom": null,
      "display": null,
      "flex": null,
      "flex_flow": null,
      "grid_area": null,
      "grid_auto_columns": null,
      "grid_auto_flow": null,
      "grid_auto_rows": null,
      "grid_column": null,
      "grid_gap": null,
      "grid_row": null,
      "grid_template_areas": null,
      "grid_template_columns": null,
      "grid_template_rows": null,
      "height": null,
      "justify_content": null,
      "justify_items": null,
      "left": null,
      "margin": null,
      "max_height": null,
      "max_width": null,
      "min_height": null,
      "min_width": null,
      "object_fit": null,
      "object_position": null,
      "order": null,
      "overflow": null,
      "overflow_x": null,
      "overflow_y": null,
      "padding": null,
      "right": null,
      "top": null,
      "visibility": null,
      "width": null
     }
    },
    "211bb91992984737bf50e22507081a07": {
     "model_module": "@jupyter-widgets/controls",
     "model_name": "ProgressStyleModel",
     "model_module_version": "1.5.0",
     "state": {
      "_model_module": "@jupyter-widgets/controls",
      "_model_module_version": "1.5.0",
      "_model_name": "ProgressStyleModel",
      "_view_count": null,
      "_view_module": "@jupyter-widgets/base",
      "_view_module_version": "1.2.0",
      "_view_name": "StyleView",
      "bar_color": null,
      "description_width": ""
     }
    },
    "2754ea8f9cb744549b96b6b9eecde36b": {
     "model_module": "@jupyter-widgets/base",
     "model_name": "LayoutModel",
     "model_module_version": "1.2.0",
     "state": {
      "_model_module": "@jupyter-widgets/base",
      "_model_module_version": "1.2.0",
      "_model_name": "LayoutModel",
      "_view_count": null,
      "_view_module": "@jupyter-widgets/base",
      "_view_module_version": "1.2.0",
      "_view_name": "LayoutView",
      "align_content": null,
      "align_items": null,
      "align_self": null,
      "border": null,
      "bottom": null,
      "display": null,
      "flex": null,
      "flex_flow": null,
      "grid_area": null,
      "grid_auto_columns": null,
      "grid_auto_flow": null,
      "grid_auto_rows": null,
      "grid_column": null,
      "grid_gap": null,
      "grid_row": null,
      "grid_template_areas": null,
      "grid_template_columns": null,
      "grid_template_rows": null,
      "height": null,
      "justify_content": null,
      "justify_items": null,
      "left": null,
      "margin": null,
      "max_height": null,
      "max_width": null,
      "min_height": null,
      "min_width": null,
      "object_fit": null,
      "object_position": null,
      "order": null,
      "overflow": null,
      "overflow_x": null,
      "overflow_y": null,
      "padding": null,
      "right": null,
      "top": null,
      "visibility": null,
      "width": null
     }
    },
    "c3cdd4c7e65548949958dccfcddd21b9": {
     "model_module": "@jupyter-widgets/controls",
     "model_name": "DescriptionStyleModel",
     "model_module_version": "1.5.0",
     "state": {
      "_model_module": "@jupyter-widgets/controls",
      "_model_module_version": "1.5.0",
      "_model_name": "DescriptionStyleModel",
      "_view_count": null,
      "_view_module": "@jupyter-widgets/base",
      "_view_module_version": "1.2.0",
      "_view_name": "StyleView",
      "description_width": ""
     }
    },
    "b06f23170eaf4eceb44f430077dbbcdc": {
     "model_module": "@jupyter-widgets/controls",
     "model_name": "HBoxModel",
     "model_module_version": "1.5.0",
     "state": {
      "_dom_classes": [],
      "_model_module": "@jupyter-widgets/controls",
      "_model_module_version": "1.5.0",
      "_model_name": "HBoxModel",
      "_view_count": null,
      "_view_module": "@jupyter-widgets/controls",
      "_view_module_version": "1.5.0",
      "_view_name": "HBoxView",
      "box_style": "",
      "children": [
       "IPY_MODEL_1497a1fef64148edafb0a1e58093ddfa",
       "IPY_MODEL_875ccd3e667d4fa8a3d3d1e29bbe3c26",
       "IPY_MODEL_1d47cd9501844e29bcb7abf3de00123c"
      ],
      "layout": "IPY_MODEL_0cb96221209b4e9e9d298afcd9af1f2a"
     }
    },
    "1497a1fef64148edafb0a1e58093ddfa": {
     "model_module": "@jupyter-widgets/controls",
     "model_name": "HTMLModel",
     "model_module_version": "1.5.0",
     "state": {
      "_dom_classes": [],
      "_model_module": "@jupyter-widgets/controls",
      "_model_module_version": "1.5.0",
      "_model_name": "HTMLModel",
      "_view_count": null,
      "_view_module": "@jupyter-widgets/controls",
      "_view_module_version": "1.5.0",
      "_view_name": "HTMLView",
      "description": "",
      "description_tooltip": null,
      "layout": "IPY_MODEL_a6febd863a28438a9e501f568350f627",
      "placeholder": "​",
      "style": "IPY_MODEL_9fedcd60cb7e4253b31b41b608eb1605",
      "value": "Downloading readme: 100%"
     }
    },
    "875ccd3e667d4fa8a3d3d1e29bbe3c26": {
     "model_module": "@jupyter-widgets/controls",
     "model_name": "FloatProgressModel",
     "model_module_version": "1.5.0",
     "state": {
      "_dom_classes": [],
      "_model_module": "@jupyter-widgets/controls",
      "_model_module_version": "1.5.0",
      "_model_name": "FloatProgressModel",
      "_view_count": null,
      "_view_module": "@jupyter-widgets/controls",
      "_view_module_version": "1.5.0",
      "_view_name": "ProgressView",
      "bar_style": "success",
      "description": "",
      "description_tooltip": null,
      "layout": "IPY_MODEL_7a6866dc612f48cb95f8681923108f4d",
      "max": 130679,
      "min": 0,
      "orientation": "horizontal",
      "style": "IPY_MODEL_deb3f97b710541f789c395c9305f8edf",
      "value": 130679
     }
    },
    "1d47cd9501844e29bcb7abf3de00123c": {
     "model_module": "@jupyter-widgets/controls",
     "model_name": "HTMLModel",
     "model_module_version": "1.5.0",
     "state": {
      "_dom_classes": [],
      "_model_module": "@jupyter-widgets/controls",
      "_model_module_version": "1.5.0",
      "_model_name": "HTMLModel",
      "_view_count": null,
      "_view_module": "@jupyter-widgets/controls",
      "_view_module_version": "1.5.0",
      "_view_name": "HTMLView",
      "description": "",
      "description_tooltip": null,
      "layout": "IPY_MODEL_7691e667a26e4b209ab574967528fa3a",
      "placeholder": "​",
      "style": "IPY_MODEL_1e3ae6e874634eb196db6756d4e0e193",
      "value": " 131k/131k [00:00&lt;00:00, 2.02MB/s]"
     }
    },
    "0cb96221209b4e9e9d298afcd9af1f2a": {
     "model_module": "@jupyter-widgets/base",
     "model_name": "LayoutModel",
     "model_module_version": "1.2.0",
     "state": {
      "_model_module": "@jupyter-widgets/base",
      "_model_module_version": "1.2.0",
      "_model_name": "LayoutModel",
      "_view_count": null,
      "_view_module": "@jupyter-widgets/base",
      "_view_module_version": "1.2.0",
      "_view_name": "LayoutView",
      "align_content": null,
      "align_items": null,
      "align_self": null,
      "border": null,
      "bottom": null,
      "display": null,
      "flex": null,
      "flex_flow": null,
      "grid_area": null,
      "grid_auto_columns": null,
      "grid_auto_flow": null,
      "grid_auto_rows": null,
      "grid_column": null,
      "grid_gap": null,
      "grid_row": null,
      "grid_template_areas": null,
      "grid_template_columns": null,
      "grid_template_rows": null,
      "height": null,
      "justify_content": null,
      "justify_items": null,
      "left": null,
      "margin": null,
      "max_height": null,
      "max_width": null,
      "min_height": null,
      "min_width": null,
      "object_fit": null,
      "object_position": null,
      "order": null,
      "overflow": null,
      "overflow_x": null,
      "overflow_y": null,
      "padding": null,
      "right": null,
      "top": null,
      "visibility": null,
      "width": null
     }
    },
    "a6febd863a28438a9e501f568350f627": {
     "model_module": "@jupyter-widgets/base",
     "model_name": "LayoutModel",
     "model_module_version": "1.2.0",
     "state": {
      "_model_module": "@jupyter-widgets/base",
      "_model_module_version": "1.2.0",
      "_model_name": "LayoutModel",
      "_view_count": null,
      "_view_module": "@jupyter-widgets/base",
      "_view_module_version": "1.2.0",
      "_view_name": "LayoutView",
      "align_content": null,
      "align_items": null,
      "align_self": null,
      "border": null,
      "bottom": null,
      "display": null,
      "flex": null,
      "flex_flow": null,
      "grid_area": null,
      "grid_auto_columns": null,
      "grid_auto_flow": null,
      "grid_auto_rows": null,
      "grid_column": null,
      "grid_gap": null,
      "grid_row": null,
      "grid_template_areas": null,
      "grid_template_columns": null,
      "grid_template_rows": null,
      "height": null,
      "justify_content": null,
      "justify_items": null,
      "left": null,
      "margin": null,
      "max_height": null,
      "max_width": null,
      "min_height": null,
      "min_width": null,
      "object_fit": null,
      "object_position": null,
      "order": null,
      "overflow": null,
      "overflow_x": null,
      "overflow_y": null,
      "padding": null,
      "right": null,
      "top": null,
      "visibility": null,
      "width": null
     }
    },
    "9fedcd60cb7e4253b31b41b608eb1605": {
     "model_module": "@jupyter-widgets/controls",
     "model_name": "DescriptionStyleModel",
     "model_module_version": "1.5.0",
     "state": {
      "_model_module": "@jupyter-widgets/controls",
      "_model_module_version": "1.5.0",
      "_model_name": "DescriptionStyleModel",
      "_view_count": null,
      "_view_module": "@jupyter-widgets/base",
      "_view_module_version": "1.2.0",
      "_view_name": "StyleView",
      "description_width": ""
     }
    },
    "7a6866dc612f48cb95f8681923108f4d": {
     "model_module": "@jupyter-widgets/base",
     "model_name": "LayoutModel",
     "model_module_version": "1.2.0",
     "state": {
      "_model_module": "@jupyter-widgets/base",
      "_model_module_version": "1.2.0",
      "_model_name": "LayoutModel",
      "_view_count": null,
      "_view_module": "@jupyter-widgets/base",
      "_view_module_version": "1.2.0",
      "_view_name": "LayoutView",
      "align_content": null,
      "align_items": null,
      "align_self": null,
      "border": null,
      "bottom": null,
      "display": null,
      "flex": null,
      "flex_flow": null,
      "grid_area": null,
      "grid_auto_columns": null,
      "grid_auto_flow": null,
      "grid_auto_rows": null,
      "grid_column": null,
      "grid_gap": null,
      "grid_row": null,
      "grid_template_areas": null,
      "grid_template_columns": null,
      "grid_template_rows": null,
      "height": null,
      "justify_content": null,
      "justify_items": null,
      "left": null,
      "margin": null,
      "max_height": null,
      "max_width": null,
      "min_height": null,
      "min_width": null,
      "object_fit": null,
      "object_position": null,
      "order": null,
      "overflow": null,
      "overflow_x": null,
      "overflow_y": null,
      "padding": null,
      "right": null,
      "top": null,
      "visibility": null,
      "width": null
     }
    },
    "deb3f97b710541f789c395c9305f8edf": {
     "model_module": "@jupyter-widgets/controls",
     "model_name": "ProgressStyleModel",
     "model_module_version": "1.5.0",
     "state": {
      "_model_module": "@jupyter-widgets/controls",
      "_model_module_version": "1.5.0",
      "_model_name": "ProgressStyleModel",
      "_view_count": null,
      "_view_module": "@jupyter-widgets/base",
      "_view_module_version": "1.2.0",
      "_view_name": "StyleView",
      "bar_color": null,
      "description_width": ""
     }
    },
    "7691e667a26e4b209ab574967528fa3a": {
     "model_module": "@jupyter-widgets/base",
     "model_name": "LayoutModel",
     "model_module_version": "1.2.0",
     "state": {
      "_model_module": "@jupyter-widgets/base",
      "_model_module_version": "1.2.0",
      "_model_name": "LayoutModel",
      "_view_count": null,
      "_view_module": "@jupyter-widgets/base",
      "_view_module_version": "1.2.0",
      "_view_name": "LayoutView",
      "align_content": null,
      "align_items": null,
      "align_self": null,
      "border": null,
      "bottom": null,
      "display": null,
      "flex": null,
      "flex_flow": null,
      "grid_area": null,
      "grid_auto_columns": null,
      "grid_auto_flow": null,
      "grid_auto_rows": null,
      "grid_column": null,
      "grid_gap": null,
      "grid_row": null,
      "grid_template_areas": null,
      "grid_template_columns": null,
      "grid_template_rows": null,
      "height": null,
      "justify_content": null,
      "justify_items": null,
      "left": null,
      "margin": null,
      "max_height": null,
      "max_width": null,
      "min_height": null,
      "min_width": null,
      "object_fit": null,
      "object_position": null,
      "order": null,
      "overflow": null,
      "overflow_x": null,
      "overflow_y": null,
      "padding": null,
      "right": null,
      "top": null,
      "visibility": null,
      "width": null
     }
    },
    "1e3ae6e874634eb196db6756d4e0e193": {
     "model_module": "@jupyter-widgets/controls",
     "model_name": "DescriptionStyleModel",
     "model_module_version": "1.5.0",
     "state": {
      "_model_module": "@jupyter-widgets/controls",
      "_model_module_version": "1.5.0",
      "_model_name": "DescriptionStyleModel",
      "_view_count": null,
      "_view_module": "@jupyter-widgets/base",
      "_view_module_version": "1.2.0",
      "_view_name": "StyleView",
      "description_width": ""
     }
    },
    "a34748b97eba4c9ebdd658101caea9e5": {
     "model_module": "@jupyter-widgets/controls",
     "model_name": "HBoxModel",
     "model_module_version": "1.5.0",
     "state": {
      "_dom_classes": [],
      "_model_module": "@jupyter-widgets/controls",
      "_model_module_version": "1.5.0",
      "_model_name": "HBoxModel",
      "_view_count": null,
      "_view_module": "@jupyter-widgets/controls",
      "_view_module_version": "1.5.0",
      "_view_name": "HBoxView",
      "box_style": "",
      "children": [
       "IPY_MODEL_0ea1a70b62fa421e9d2ce7d874813505",
       "IPY_MODEL_661360eb200c4edeb3f852a6a8efcd7a",
       "IPY_MODEL_bc717d9251cf475786478ef3285ebf67"
      ],
      "layout": "IPY_MODEL_803225573ebc47ba848a5ca5d794e227"
     }
    },
    "0ea1a70b62fa421e9d2ce7d874813505": {
     "model_module": "@jupyter-widgets/controls",
     "model_name": "HTMLModel",
     "model_module_version": "1.5.0",
     "state": {
      "_dom_classes": [],
      "_model_module": "@jupyter-widgets/controls",
      "_model_module_version": "1.5.0",
      "_model_name": "HTMLModel",
      "_view_count": null,
      "_view_module": "@jupyter-widgets/controls",
      "_view_module_version": "1.5.0",
      "_view_name": "HTMLView",
      "description": "",
      "description_tooltip": null,
      "layout": "IPY_MODEL_71eb96994ae44581b889bc01ebd29c06",
      "placeholder": "​",
      "style": "IPY_MODEL_37a17cfd4e90412f9028cd9a76d61df8",
      "value": "Downloading data: 100%"
     }
    },
    "661360eb200c4edeb3f852a6a8efcd7a": {
     "model_module": "@jupyter-widgets/controls",
     "model_name": "FloatProgressModel",
     "model_module_version": "1.5.0",
     "state": {
      "_dom_classes": [],
      "_model_module": "@jupyter-widgets/controls",
      "_model_module_version": "1.5.0",
      "_model_name": "FloatProgressModel",
      "_view_count": null,
      "_view_module": "@jupyter-widgets/controls",
      "_view_module_version": "1.5.0",
      "_view_name": "ProgressView",
      "bar_style": "success",
      "description": "",
      "description_tooltip": null,
      "layout": "IPY_MODEL_d7bbc60bd23a461197fda977b305e4b7",
      "max": 234008884,
      "min": 0,
      "orientation": "horizontal",
      "style": "IPY_MODEL_d461639774754243b67669620859db75",
      "value": 234008884
     }
    },
    "bc717d9251cf475786478ef3285ebf67": {
     "model_module": "@jupyter-widgets/controls",
     "model_name": "HTMLModel",
     "model_module_version": "1.5.0",
     "state": {
      "_dom_classes": [],
      "_model_module": "@jupyter-widgets/controls",
      "_model_module_version": "1.5.0",
      "_model_name": "HTMLModel",
      "_view_count": null,
      "_view_module": "@jupyter-widgets/controls",
      "_view_module_version": "1.5.0",
      "_view_name": "HTMLView",
      "description": "",
      "description_tooltip": null,
      "layout": "IPY_MODEL_4a432bbda8ac4f95be483b7d498b2fa9",
      "placeholder": "​",
      "style": "IPY_MODEL_f1380ab4c1f84c1ca07c4d4833b6ca11",
      "value": " 234M/234M [00:05&lt;00:00, 28.5MB/s]"
     }
    },
    "803225573ebc47ba848a5ca5d794e227": {
     "model_module": "@jupyter-widgets/base",
     "model_name": "LayoutModel",
     "model_module_version": "1.2.0",
     "state": {
      "_model_module": "@jupyter-widgets/base",
      "_model_module_version": "1.2.0",
      "_model_name": "LayoutModel",
      "_view_count": null,
      "_view_module": "@jupyter-widgets/base",
      "_view_module_version": "1.2.0",
      "_view_name": "LayoutView",
      "align_content": null,
      "align_items": null,
      "align_self": null,
      "border": null,
      "bottom": null,
      "display": null,
      "flex": null,
      "flex_flow": null,
      "grid_area": null,
      "grid_auto_columns": null,
      "grid_auto_flow": null,
      "grid_auto_rows": null,
      "grid_column": null,
      "grid_gap": null,
      "grid_row": null,
      "grid_template_areas": null,
      "grid_template_columns": null,
      "grid_template_rows": null,
      "height": null,
      "justify_content": null,
      "justify_items": null,
      "left": null,
      "margin": null,
      "max_height": null,
      "max_width": null,
      "min_height": null,
      "min_width": null,
      "object_fit": null,
      "object_position": null,
      "order": null,
      "overflow": null,
      "overflow_x": null,
      "overflow_y": null,
      "padding": null,
      "right": null,
      "top": null,
      "visibility": null,
      "width": null
     }
    },
    "71eb96994ae44581b889bc01ebd29c06": {
     "model_module": "@jupyter-widgets/base",
     "model_name": "LayoutModel",
     "model_module_version": "1.2.0",
     "state": {
      "_model_module": "@jupyter-widgets/base",
      "_model_module_version": "1.2.0",
      "_model_name": "LayoutModel",
      "_view_count": null,
      "_view_module": "@jupyter-widgets/base",
      "_view_module_version": "1.2.0",
      "_view_name": "LayoutView",
      "align_content": null,
      "align_items": null,
      "align_self": null,
      "border": null,
      "bottom": null,
      "display": null,
      "flex": null,
      "flex_flow": null,
      "grid_area": null,
      "grid_auto_columns": null,
      "grid_auto_flow": null,
      "grid_auto_rows": null,
      "grid_column": null,
      "grid_gap": null,
      "grid_row": null,
      "grid_template_areas": null,
      "grid_template_columns": null,
      "grid_template_rows": null,
      "height": null,
      "justify_content": null,
      "justify_items": null,
      "left": null,
      "margin": null,
      "max_height": null,
      "max_width": null,
      "min_height": null,
      "min_width": null,
      "object_fit": null,
      "object_position": null,
      "order": null,
      "overflow": null,
      "overflow_x": null,
      "overflow_y": null,
      "padding": null,
      "right": null,
      "top": null,
      "visibility": null,
      "width": null
     }
    },
    "37a17cfd4e90412f9028cd9a76d61df8": {
     "model_module": "@jupyter-widgets/controls",
     "model_name": "DescriptionStyleModel",
     "model_module_version": "1.5.0",
     "state": {
      "_model_module": "@jupyter-widgets/controls",
      "_model_module_version": "1.5.0",
      "_model_name": "DescriptionStyleModel",
      "_view_count": null,
      "_view_module": "@jupyter-widgets/base",
      "_view_module_version": "1.2.0",
      "_view_name": "StyleView",
      "description_width": ""
     }
    },
    "d7bbc60bd23a461197fda977b305e4b7": {
     "model_module": "@jupyter-widgets/base",
     "model_name": "LayoutModel",
     "model_module_version": "1.2.0",
     "state": {
      "_model_module": "@jupyter-widgets/base",
      "_model_module_version": "1.2.0",
      "_model_name": "LayoutModel",
      "_view_count": null,
      "_view_module": "@jupyter-widgets/base",
      "_view_module_version": "1.2.0",
      "_view_name": "LayoutView",
      "align_content": null,
      "align_items": null,
      "align_self": null,
      "border": null,
      "bottom": null,
      "display": null,
      "flex": null,
      "flex_flow": null,
      "grid_area": null,
      "grid_auto_columns": null,
      "grid_auto_flow": null,
      "grid_auto_rows": null,
      "grid_column": null,
      "grid_gap": null,
      "grid_row": null,
      "grid_template_areas": null,
      "grid_template_columns": null,
      "grid_template_rows": null,
      "height": null,
      "justify_content": null,
      "justify_items": null,
      "left": null,
      "margin": null,
      "max_height": null,
      "max_width": null,
      "min_height": null,
      "min_width": null,
      "object_fit": null,
      "object_position": null,
      "order": null,
      "overflow": null,
      "overflow_x": null,
      "overflow_y": null,
      "padding": null,
      "right": null,
      "top": null,
      "visibility": null,
      "width": null
     }
    },
    "d461639774754243b67669620859db75": {
     "model_module": "@jupyter-widgets/controls",
     "model_name": "ProgressStyleModel",
     "model_module_version": "1.5.0",
     "state": {
      "_model_module": "@jupyter-widgets/controls",
      "_model_module_version": "1.5.0",
      "_model_name": "ProgressStyleModel",
      "_view_count": null,
      "_view_module": "@jupyter-widgets/base",
      "_view_module_version": "1.2.0",
      "_view_name": "StyleView",
      "bar_color": null,
      "description_width": ""
     }
    },
    "4a432bbda8ac4f95be483b7d498b2fa9": {
     "model_module": "@jupyter-widgets/base",
     "model_name": "LayoutModel",
     "model_module_version": "1.2.0",
     "state": {
      "_model_module": "@jupyter-widgets/base",
      "_model_module_version": "1.2.0",
      "_model_name": "LayoutModel",
      "_view_count": null,
      "_view_module": "@jupyter-widgets/base",
      "_view_module_version": "1.2.0",
      "_view_name": "LayoutView",
      "align_content": null,
      "align_items": null,
      "align_self": null,
      "border": null,
      "bottom": null,
      "display": null,
      "flex": null,
      "flex_flow": null,
      "grid_area": null,
      "grid_auto_columns": null,
      "grid_auto_flow": null,
      "grid_auto_rows": null,
      "grid_column": null,
      "grid_gap": null,
      "grid_row": null,
      "grid_template_areas": null,
      "grid_template_columns": null,
      "grid_template_rows": null,
      "height": null,
      "justify_content": null,
      "justify_items": null,
      "left": null,
      "margin": null,
      "max_height": null,
      "max_width": null,
      "min_height": null,
      "min_width": null,
      "object_fit": null,
      "object_position": null,
      "order": null,
      "overflow": null,
      "overflow_x": null,
      "overflow_y": null,
      "padding": null,
      "right": null,
      "top": null,
      "visibility": null,
      "width": null
     }
    },
    "f1380ab4c1f84c1ca07c4d4833b6ca11": {
     "model_module": "@jupyter-widgets/controls",
     "model_name": "DescriptionStyleModel",
     "model_module_version": "1.5.0",
     "state": {
      "_model_module": "@jupyter-widgets/controls",
      "_model_module_version": "1.5.0",
      "_model_name": "DescriptionStyleModel",
      "_view_count": null,
      "_view_module": "@jupyter-widgets/base",
      "_view_module_version": "1.2.0",
      "_view_name": "StyleView",
      "description_width": ""
     }
    },
    "ae3c587ae9bf48b3bbe9a7f0680b8765": {
     "model_module": "@jupyter-widgets/controls",
     "model_name": "HBoxModel",
     "model_module_version": "1.5.0",
     "state": {
      "_dom_classes": [],
      "_model_module": "@jupyter-widgets/controls",
      "_model_module_version": "1.5.0",
      "_model_name": "HBoxModel",
      "_view_count": null,
      "_view_module": "@jupyter-widgets/controls",
      "_view_module_version": "1.5.0",
      "_view_name": "HBoxView",
      "box_style": "",
      "children": [
       "IPY_MODEL_11c6b08f99f84414a81c4e1e3303f9cb",
       "IPY_MODEL_d72a4f1579a543d9b5013b6b90a3d8d2",
       "IPY_MODEL_59ed42c3a1f74f02968a4c0fa7ef581d"
      ],
      "layout": "IPY_MODEL_097ae16ea37d43018d1e9d47edf695be"
     }
    },
    "11c6b08f99f84414a81c4e1e3303f9cb": {
     "model_module": "@jupyter-widgets/controls",
     "model_name": "HTMLModel",
     "model_module_version": "1.5.0",
     "state": {
      "_dom_classes": [],
      "_model_module": "@jupyter-widgets/controls",
      "_model_module_version": "1.5.0",
      "_model_name": "HTMLModel",
      "_view_count": null,
      "_view_module": "@jupyter-widgets/controls",
      "_view_module_version": "1.5.0",
      "_view_name": "HTMLView",
      "description": "",
      "description_tooltip": null,
      "layout": "IPY_MODEL_c4463a3264ab466ab631315db43b8c9f",
      "placeholder": "​",
      "style": "IPY_MODEL_e67deeeaf6b443fbae24fb455fc8672d",
      "value": "Generating validation split:  98%"
     }
    },
    "d72a4f1579a543d9b5013b6b90a3d8d2": {
     "model_module": "@jupyter-widgets/controls",
     "model_name": "FloatProgressModel",
     "model_module_version": "1.5.0",
     "state": {
      "_dom_classes": [],
      "_model_module": "@jupyter-widgets/controls",
      "_model_module_version": "1.5.0",
      "_model_name": "FloatProgressModel",
      "_view_count": null,
      "_view_module": "@jupyter-widgets/controls",
      "_view_module_version": "1.5.0",
      "_view_name": "ProgressView",
      "bar_style": "",
      "description": "",
      "description_tooltip": null,
      "layout": "IPY_MODEL_09163b277dc74407b0ea08918d7c67fa",
      "max": 10000,
      "min": 0,
      "orientation": "horizontal",
      "style": "IPY_MODEL_0ea50ff259e74e75913334691599bb17",
      "value": 10000
     }
    },
    "59ed42c3a1f74f02968a4c0fa7ef581d": {
     "model_module": "@jupyter-widgets/controls",
     "model_name": "HTMLModel",
     "model_module_version": "1.5.0",
     "state": {
      "_dom_classes": [],
      "_model_module": "@jupyter-widgets/controls",
      "_model_module_version": "1.5.0",
      "_model_name": "HTMLModel",
      "_view_count": null,
      "_view_module": "@jupyter-widgets/controls",
      "_view_module_version": "1.5.0",
      "_view_name": "HTMLView",
      "description": "",
      "description_tooltip": null,
      "layout": "IPY_MODEL_1eef45db7d37402f92ffde20383ae0d5",
      "placeholder": "​",
      "style": "IPY_MODEL_462b2a1153f14581abf495751bc1d46d",
      "value": " 9773/10000 [00:03&lt;00:00, 3074.33 examples/s]"
     }
    },
    "097ae16ea37d43018d1e9d47edf695be": {
     "model_module": "@jupyter-widgets/base",
     "model_name": "LayoutModel",
     "model_module_version": "1.2.0",
     "state": {
      "_model_module": "@jupyter-widgets/base",
      "_model_module_version": "1.2.0",
      "_model_name": "LayoutModel",
      "_view_count": null,
      "_view_module": "@jupyter-widgets/base",
      "_view_module_version": "1.2.0",
      "_view_name": "LayoutView",
      "align_content": null,
      "align_items": null,
      "align_self": null,
      "border": null,
      "bottom": null,
      "display": null,
      "flex": null,
      "flex_flow": null,
      "grid_area": null,
      "grid_auto_columns": null,
      "grid_auto_flow": null,
      "grid_auto_rows": null,
      "grid_column": null,
      "grid_gap": null,
      "grid_row": null,
      "grid_template_areas": null,
      "grid_template_columns": null,
      "grid_template_rows": null,
      "height": null,
      "justify_content": null,
      "justify_items": null,
      "left": null,
      "margin": null,
      "max_height": null,
      "max_width": null,
      "min_height": null,
      "min_width": null,
      "object_fit": null,
      "object_position": null,
      "order": null,
      "overflow": null,
      "overflow_x": null,
      "overflow_y": null,
      "padding": null,
      "right": null,
      "top": null,
      "visibility": "hidden",
      "width": null
     }
    },
    "c4463a3264ab466ab631315db43b8c9f": {
     "model_module": "@jupyter-widgets/base",
     "model_name": "LayoutModel",
     "model_module_version": "1.2.0",
     "state": {
      "_model_module": "@jupyter-widgets/base",
      "_model_module_version": "1.2.0",
      "_model_name": "LayoutModel",
      "_view_count": null,
      "_view_module": "@jupyter-widgets/base",
      "_view_module_version": "1.2.0",
      "_view_name": "LayoutView",
      "align_content": null,
      "align_items": null,
      "align_self": null,
      "border": null,
      "bottom": null,
      "display": null,
      "flex": null,
      "flex_flow": null,
      "grid_area": null,
      "grid_auto_columns": null,
      "grid_auto_flow": null,
      "grid_auto_rows": null,
      "grid_column": null,
      "grid_gap": null,
      "grid_row": null,
      "grid_template_areas": null,
      "grid_template_columns": null,
      "grid_template_rows": null,
      "height": null,
      "justify_content": null,
      "justify_items": null,
      "left": null,
      "margin": null,
      "max_height": null,
      "max_width": null,
      "min_height": null,
      "min_width": null,
      "object_fit": null,
      "object_position": null,
      "order": null,
      "overflow": null,
      "overflow_x": null,
      "overflow_y": null,
      "padding": null,
      "right": null,
      "top": null,
      "visibility": null,
      "width": null
     }
    },
    "e67deeeaf6b443fbae24fb455fc8672d": {
     "model_module": "@jupyter-widgets/controls",
     "model_name": "DescriptionStyleModel",
     "model_module_version": "1.5.0",
     "state": {
      "_model_module": "@jupyter-widgets/controls",
      "_model_module_version": "1.5.0",
      "_model_name": "DescriptionStyleModel",
      "_view_count": null,
      "_view_module": "@jupyter-widgets/base",
      "_view_module_version": "1.2.0",
      "_view_name": "StyleView",
      "description_width": ""
     }
    },
    "09163b277dc74407b0ea08918d7c67fa": {
     "model_module": "@jupyter-widgets/base",
     "model_name": "LayoutModel",
     "model_module_version": "1.2.0",
     "state": {
      "_model_module": "@jupyter-widgets/base",
      "_model_module_version": "1.2.0",
      "_model_name": "LayoutModel",
      "_view_count": null,
      "_view_module": "@jupyter-widgets/base",
      "_view_module_version": "1.2.0",
      "_view_name": "LayoutView",
      "align_content": null,
      "align_items": null,
      "align_self": null,
      "border": null,
      "bottom": null,
      "display": null,
      "flex": null,
      "flex_flow": null,
      "grid_area": null,
      "grid_auto_columns": null,
      "grid_auto_flow": null,
      "grid_auto_rows": null,
      "grid_column": null,
      "grid_gap": null,
      "grid_row": null,
      "grid_template_areas": null,
      "grid_template_columns": null,
      "grid_template_rows": null,
      "height": null,
      "justify_content": null,
      "justify_items": null,
      "left": null,
      "margin": null,
      "max_height": null,
      "max_width": null,
      "min_height": null,
      "min_width": null,
      "object_fit": null,
      "object_position": null,
      "order": null,
      "overflow": null,
      "overflow_x": null,
      "overflow_y": null,
      "padding": null,
      "right": null,
      "top": null,
      "visibility": null,
      "width": null
     }
    },
    "0ea50ff259e74e75913334691599bb17": {
     "model_module": "@jupyter-widgets/controls",
     "model_name": "ProgressStyleModel",
     "model_module_version": "1.5.0",
     "state": {
      "_model_module": "@jupyter-widgets/controls",
      "_model_module_version": "1.5.0",
      "_model_name": "ProgressStyleModel",
      "_view_count": null,
      "_view_module": "@jupyter-widgets/base",
      "_view_module_version": "1.2.0",
      "_view_name": "StyleView",
      "bar_color": null,
      "description_width": ""
     }
    },
    "1eef45db7d37402f92ffde20383ae0d5": {
     "model_module": "@jupyter-widgets/base",
     "model_name": "LayoutModel",
     "model_module_version": "1.2.0",
     "state": {
      "_model_module": "@jupyter-widgets/base",
      "_model_module_version": "1.2.0",
      "_model_name": "LayoutModel",
      "_view_count": null,
      "_view_module": "@jupyter-widgets/base",
      "_view_module_version": "1.2.0",
      "_view_name": "LayoutView",
      "align_content": null,
      "align_items": null,
      "align_self": null,
      "border": null,
      "bottom": null,
      "display": null,
      "flex": null,
      "flex_flow": null,
      "grid_area": null,
      "grid_auto_columns": null,
      "grid_auto_flow": null,
      "grid_auto_rows": null,
      "grid_column": null,
      "grid_gap": null,
      "grid_row": null,
      "grid_template_areas": null,
      "grid_template_columns": null,
      "grid_template_rows": null,
      "height": null,
      "justify_content": null,
      "justify_items": null,
      "left": null,
      "margin": null,
      "max_height": null,
      "max_width": null,
      "min_height": null,
      "min_width": null,
      "object_fit": null,
      "object_position": null,
      "order": null,
      "overflow": null,
      "overflow_x": null,
      "overflow_y": null,
      "padding": null,
      "right": null,
      "top": null,
      "visibility": null,
      "width": null
     }
    },
    "462b2a1153f14581abf495751bc1d46d": {
     "model_module": "@jupyter-widgets/controls",
     "model_name": "DescriptionStyleModel",
     "model_module_version": "1.5.0",
     "state": {
      "_model_module": "@jupyter-widgets/controls",
      "_model_module_version": "1.5.0",
      "_model_name": "DescriptionStyleModel",
      "_view_count": null,
      "_view_module": "@jupyter-widgets/base",
      "_view_module_version": "1.2.0",
      "_view_name": "StyleView",
      "description_width": ""
     }
    },
    "bc72a6eb92b54d34bad889c8a6d366a7": {
     "model_module": "@jupyter-widgets/controls",
     "model_name": "HBoxModel",
     "model_module_version": "1.5.0",
     "state": {
      "_dom_classes": [],
      "_model_module": "@jupyter-widgets/controls",
      "_model_module_version": "1.5.0",
      "_model_name": "HBoxModel",
      "_view_count": null,
      "_view_module": "@jupyter-widgets/controls",
      "_view_module_version": "1.5.0",
      "_view_name": "HBoxView",
      "box_style": "",
      "children": [
       "IPY_MODEL_5f0a311b9edc410b9554be6aa449e57c",
       "IPY_MODEL_836bbd987f974f3a8f14fda239f3e402",
       "IPY_MODEL_cd51bb0fa8a5433c983bfb651642248a"
      ],
      "layout": "IPY_MODEL_0b59650c07284ea192d9068bcf203f44"
     }
    },
    "5f0a311b9edc410b9554be6aa449e57c": {
     "model_module": "@jupyter-widgets/controls",
     "model_name": "HTMLModel",
     "model_module_version": "1.5.0",
     "state": {
      "_dom_classes": [],
      "_model_module": "@jupyter-widgets/controls",
      "_model_module_version": "1.5.0",
      "_model_name": "HTMLModel",
      "_view_count": null,
      "_view_module": "@jupyter-widgets/controls",
      "_view_module_version": "1.5.0",
      "_view_name": "HTMLView",
      "description": "",
      "description_tooltip": null,
      "layout": "IPY_MODEL_ef1691f2db1a41d29984f387eff5e363",
      "placeholder": "​",
      "style": "IPY_MODEL_92dac1f88f254baf9017bb1df5a5f50a",
      "value": "Generating test split:  97%"
     }
    },
    "836bbd987f974f3a8f14fda239f3e402": {
     "model_module": "@jupyter-widgets/controls",
     "model_name": "FloatProgressModel",
     "model_module_version": "1.5.0",
     "state": {
      "_dom_classes": [],
      "_model_module": "@jupyter-widgets/controls",
      "_model_module_version": "1.5.0",
      "_model_name": "FloatProgressModel",
      "_view_count": null,
      "_view_module": "@jupyter-widgets/controls",
      "_view_module_version": "1.5.0",
      "_view_name": "ProgressView",
      "bar_style": "",
      "description": "",
      "description_tooltip": null,
      "layout": "IPY_MODEL_99a5f20ea9c6411cbadde46d579dca43",
      "max": 10000,
      "min": 0,
      "orientation": "horizontal",
      "style": "IPY_MODEL_cf52d038f26c4ac2b7051a6f6e9c6266",
      "value": 10000
     }
    },
    "cd51bb0fa8a5433c983bfb651642248a": {
     "model_module": "@jupyter-widgets/controls",
     "model_name": "HTMLModel",
     "model_module_version": "1.5.0",
     "state": {
      "_dom_classes": [],
      "_model_module": "@jupyter-widgets/controls",
      "_model_module_version": "1.5.0",
      "_model_name": "HTMLModel",
      "_view_count": null,
      "_view_module": "@jupyter-widgets/controls",
      "_view_module_version": "1.5.0",
      "_view_name": "HTMLView",
      "description": "",
      "description_tooltip": null,
      "layout": "IPY_MODEL_2d9626dfcda149cdaef2a29df4a1ec8a",
      "placeholder": "​",
      "style": "IPY_MODEL_9ed16e952f96458da3084351e8068743",
      "value": " 9734/10000 [00:03&lt;00:00, 3039.94 examples/s]"
     }
    },
    "0b59650c07284ea192d9068bcf203f44": {
     "model_module": "@jupyter-widgets/base",
     "model_name": "LayoutModel",
     "model_module_version": "1.2.0",
     "state": {
      "_model_module": "@jupyter-widgets/base",
      "_model_module_version": "1.2.0",
      "_model_name": "LayoutModel",
      "_view_count": null,
      "_view_module": "@jupyter-widgets/base",
      "_view_module_version": "1.2.0",
      "_view_name": "LayoutView",
      "align_content": null,
      "align_items": null,
      "align_self": null,
      "border": null,
      "bottom": null,
      "display": null,
      "flex": null,
      "flex_flow": null,
      "grid_area": null,
      "grid_auto_columns": null,
      "grid_auto_flow": null,
      "grid_auto_rows": null,
      "grid_column": null,
      "grid_gap": null,
      "grid_row": null,
      "grid_template_areas": null,
      "grid_template_columns": null,
      "grid_template_rows": null,
      "height": null,
      "justify_content": null,
      "justify_items": null,
      "left": null,
      "margin": null,
      "max_height": null,
      "max_width": null,
      "min_height": null,
      "min_width": null,
      "object_fit": null,
      "object_position": null,
      "order": null,
      "overflow": null,
      "overflow_x": null,
      "overflow_y": null,
      "padding": null,
      "right": null,
      "top": null,
      "visibility": "hidden",
      "width": null
     }
    },
    "ef1691f2db1a41d29984f387eff5e363": {
     "model_module": "@jupyter-widgets/base",
     "model_name": "LayoutModel",
     "model_module_version": "1.2.0",
     "state": {
      "_model_module": "@jupyter-widgets/base",
      "_model_module_version": "1.2.0",
      "_model_name": "LayoutModel",
      "_view_count": null,
      "_view_module": "@jupyter-widgets/base",
      "_view_module_version": "1.2.0",
      "_view_name": "LayoutView",
      "align_content": null,
      "align_items": null,
      "align_self": null,
      "border": null,
      "bottom": null,
      "display": null,
      "flex": null,
      "flex_flow": null,
      "grid_area": null,
      "grid_auto_columns": null,
      "grid_auto_flow": null,
      "grid_auto_rows": null,
      "grid_column": null,
      "grid_gap": null,
      "grid_row": null,
      "grid_template_areas": null,
      "grid_template_columns": null,
      "grid_template_rows": null,
      "height": null,
      "justify_content": null,
      "justify_items": null,
      "left": null,
      "margin": null,
      "max_height": null,
      "max_width": null,
      "min_height": null,
      "min_width": null,
      "object_fit": null,
      "object_position": null,
      "order": null,
      "overflow": null,
      "overflow_x": null,
      "overflow_y": null,
      "padding": null,
      "right": null,
      "top": null,
      "visibility": null,
      "width": null
     }
    },
    "92dac1f88f254baf9017bb1df5a5f50a": {
     "model_module": "@jupyter-widgets/controls",
     "model_name": "DescriptionStyleModel",
     "model_module_version": "1.5.0",
     "state": {
      "_model_module": "@jupyter-widgets/controls",
      "_model_module_version": "1.5.0",
      "_model_name": "DescriptionStyleModel",
      "_view_count": null,
      "_view_module": "@jupyter-widgets/base",
      "_view_module_version": "1.2.0",
      "_view_name": "StyleView",
      "description_width": ""
     }
    },
    "99a5f20ea9c6411cbadde46d579dca43": {
     "model_module": "@jupyter-widgets/base",
     "model_name": "LayoutModel",
     "model_module_version": "1.2.0",
     "state": {
      "_model_module": "@jupyter-widgets/base",
      "_model_module_version": "1.2.0",
      "_model_name": "LayoutModel",
      "_view_count": null,
      "_view_module": "@jupyter-widgets/base",
      "_view_module_version": "1.2.0",
      "_view_name": "LayoutView",
      "align_content": null,
      "align_items": null,
      "align_self": null,
      "border": null,
      "bottom": null,
      "display": null,
      "flex": null,
      "flex_flow": null,
      "grid_area": null,
      "grid_auto_columns": null,
      "grid_auto_flow": null,
      "grid_auto_rows": null,
      "grid_column": null,
      "grid_gap": null,
      "grid_row": null,
      "grid_template_areas": null,
      "grid_template_columns": null,
      "grid_template_rows": null,
      "height": null,
      "justify_content": null,
      "justify_items": null,
      "left": null,
      "margin": null,
      "max_height": null,
      "max_width": null,
      "min_height": null,
      "min_width": null,
      "object_fit": null,
      "object_position": null,
      "order": null,
      "overflow": null,
      "overflow_x": null,
      "overflow_y": null,
      "padding": null,
      "right": null,
      "top": null,
      "visibility": null,
      "width": null
     }
    },
    "cf52d038f26c4ac2b7051a6f6e9c6266": {
     "model_module": "@jupyter-widgets/controls",
     "model_name": "ProgressStyleModel",
     "model_module_version": "1.5.0",
     "state": {
      "_model_module": "@jupyter-widgets/controls",
      "_model_module_version": "1.5.0",
      "_model_name": "ProgressStyleModel",
      "_view_count": null,
      "_view_module": "@jupyter-widgets/base",
      "_view_module_version": "1.2.0",
      "_view_name": "StyleView",
      "bar_color": null,
      "description_width": ""
     }
    },
    "2d9626dfcda149cdaef2a29df4a1ec8a": {
     "model_module": "@jupyter-widgets/base",
     "model_name": "LayoutModel",
     "model_module_version": "1.2.0",
     "state": {
      "_model_module": "@jupyter-widgets/base",
      "_model_module_version": "1.2.0",
      "_model_name": "LayoutModel",
      "_view_count": null,
      "_view_module": "@jupyter-widgets/base",
      "_view_module_version": "1.2.0",
      "_view_name": "LayoutView",
      "align_content": null,
      "align_items": null,
      "align_self": null,
      "border": null,
      "bottom": null,
      "display": null,
      "flex": null,
      "flex_flow": null,
      "grid_area": null,
      "grid_auto_columns": null,
      "grid_auto_flow": null,
      "grid_auto_rows": null,
      "grid_column": null,
      "grid_gap": null,
      "grid_row": null,
      "grid_template_areas": null,
      "grid_template_columns": null,
      "grid_template_rows": null,
      "height": null,
      "justify_content": null,
      "justify_items": null,
      "left": null,
      "margin": null,
      "max_height": null,
      "max_width": null,
      "min_height": null,
      "min_width": null,
      "object_fit": null,
      "object_position": null,
      "order": null,
      "overflow": null,
      "overflow_x": null,
      "overflow_y": null,
      "padding": null,
      "right": null,
      "top": null,
      "visibility": null,
      "width": null
     }
    },
    "9ed16e952f96458da3084351e8068743": {
     "model_module": "@jupyter-widgets/controls",
     "model_name": "DescriptionStyleModel",
     "model_module_version": "1.5.0",
     "state": {
      "_model_module": "@jupyter-widgets/controls",
      "_model_module_version": "1.5.0",
      "_model_name": "DescriptionStyleModel",
      "_view_count": null,
      "_view_module": "@jupyter-widgets/base",
      "_view_module_version": "1.2.0",
      "_view_name": "StyleView",
      "description_width": ""
     }
    },
    "54d94f5007e44880a8abf8d6810280d6": {
     "model_module": "@jupyter-widgets/controls",
     "model_name": "HBoxModel",
     "model_module_version": "1.5.0",
     "state": {
      "_dom_classes": [],
      "_model_module": "@jupyter-widgets/controls",
      "_model_module_version": "1.5.0",
      "_model_name": "HBoxModel",
      "_view_count": null,
      "_view_module": "@jupyter-widgets/controls",
      "_view_module_version": "1.5.0",
      "_view_name": "HBoxView",
      "box_style": "",
      "children": [
       "IPY_MODEL_f696b73f572e4786a2099500f4d9a7b1",
       "IPY_MODEL_29ed1dd73afb4891950cb153272538a4",
       "IPY_MODEL_e5ada72ccb9742a1bf2809102fb37443"
      ],
      "layout": "IPY_MODEL_849c87b96a5c430c823eca0e2990da78"
     }
    },
    "f696b73f572e4786a2099500f4d9a7b1": {
     "model_module": "@jupyter-widgets/controls",
     "model_name": "HTMLModel",
     "model_module_version": "1.5.0",
     "state": {
      "_dom_classes": [],
      "_model_module": "@jupyter-widgets/controls",
      "_model_module_version": "1.5.0",
      "_model_name": "HTMLModel",
      "_view_count": null,
      "_view_module": "@jupyter-widgets/controls",
      "_view_module_version": "1.5.0",
      "_view_name": "HTMLView",
      "description": "",
      "description_tooltip": null,
      "layout": "IPY_MODEL_f08d8e9a96bf4b2181f39c0bbdcf6115",
      "placeholder": "​",
      "style": "IPY_MODEL_6b63952946e642afa5e994cb51736474",
      "value": "Generating train split: 100%"
     }
    },
    "29ed1dd73afb4891950cb153272538a4": {
     "model_module": "@jupyter-widgets/controls",
     "model_name": "FloatProgressModel",
     "model_module_version": "1.5.0",
     "state": {
      "_dom_classes": [],
      "_model_module": "@jupyter-widgets/controls",
      "_model_module_version": "1.5.0",
      "_model_name": "FloatProgressModel",
      "_view_count": null,
      "_view_module": "@jupyter-widgets/controls",
      "_view_module_version": "1.5.0",
      "_view_name": "ProgressView",
      "bar_style": "",
      "description": "",
      "description_tooltip": null,
      "layout": "IPY_MODEL_1c262b973e5d46368ef4347562f1ab86",
      "max": 20000,
      "min": 0,
      "orientation": "horizontal",
      "style": "IPY_MODEL_e69e645d63e346ce85385085c199cddb",
      "value": 20000
     }
    },
    "e5ada72ccb9742a1bf2809102fb37443": {
     "model_module": "@jupyter-widgets/controls",
     "model_name": "HTMLModel",
     "model_module_version": "1.5.0",
     "state": {
      "_dom_classes": [],
      "_model_module": "@jupyter-widgets/controls",
      "_model_module_version": "1.5.0",
      "_model_name": "HTMLModel",
      "_view_count": null,
      "_view_module": "@jupyter-widgets/controls",
      "_view_module_version": "1.5.0",
      "_view_name": "HTMLView",
      "description": "",
      "description_tooltip": null,
      "layout": "IPY_MODEL_870063b8023147d1a0fbbc588f1da0c2",
      "placeholder": "​",
      "style": "IPY_MODEL_c4e23155af964eabb07f9c52e17cd1bd",
      "value": " 19983/20000 [00:08&lt;00:00, 4193.80 examples/s]"
     }
    },
    "849c87b96a5c430c823eca0e2990da78": {
     "model_module": "@jupyter-widgets/base",
     "model_name": "LayoutModel",
     "model_module_version": "1.2.0",
     "state": {
      "_model_module": "@jupyter-widgets/base",
      "_model_module_version": "1.2.0",
      "_model_name": "LayoutModel",
      "_view_count": null,
      "_view_module": "@jupyter-widgets/base",
      "_view_module_version": "1.2.0",
      "_view_name": "LayoutView",
      "align_content": null,
      "align_items": null,
      "align_self": null,
      "border": null,
      "bottom": null,
      "display": null,
      "flex": null,
      "flex_flow": null,
      "grid_area": null,
      "grid_auto_columns": null,
      "grid_auto_flow": null,
      "grid_auto_rows": null,
      "grid_column": null,
      "grid_gap": null,
      "grid_row": null,
      "grid_template_areas": null,
      "grid_template_columns": null,
      "grid_template_rows": null,
      "height": null,
      "justify_content": null,
      "justify_items": null,
      "left": null,
      "margin": null,
      "max_height": null,
      "max_width": null,
      "min_height": null,
      "min_width": null,
      "object_fit": null,
      "object_position": null,
      "order": null,
      "overflow": null,
      "overflow_x": null,
      "overflow_y": null,
      "padding": null,
      "right": null,
      "top": null,
      "visibility": "hidden",
      "width": null
     }
    },
    "f08d8e9a96bf4b2181f39c0bbdcf6115": {
     "model_module": "@jupyter-widgets/base",
     "model_name": "LayoutModel",
     "model_module_version": "1.2.0",
     "state": {
      "_model_module": "@jupyter-widgets/base",
      "_model_module_version": "1.2.0",
      "_model_name": "LayoutModel",
      "_view_count": null,
      "_view_module": "@jupyter-widgets/base",
      "_view_module_version": "1.2.0",
      "_view_name": "LayoutView",
      "align_content": null,
      "align_items": null,
      "align_self": null,
      "border": null,
      "bottom": null,
      "display": null,
      "flex": null,
      "flex_flow": null,
      "grid_area": null,
      "grid_auto_columns": null,
      "grid_auto_flow": null,
      "grid_auto_rows": null,
      "grid_column": null,
      "grid_gap": null,
      "grid_row": null,
      "grid_template_areas": null,
      "grid_template_columns": null,
      "grid_template_rows": null,
      "height": null,
      "justify_content": null,
      "justify_items": null,
      "left": null,
      "margin": null,
      "max_height": null,
      "max_width": null,
      "min_height": null,
      "min_width": null,
      "object_fit": null,
      "object_position": null,
      "order": null,
      "overflow": null,
      "overflow_x": null,
      "overflow_y": null,
      "padding": null,
      "right": null,
      "top": null,
      "visibility": null,
      "width": null
     }
    },
    "6b63952946e642afa5e994cb51736474": {
     "model_module": "@jupyter-widgets/controls",
     "model_name": "DescriptionStyleModel",
     "model_module_version": "1.5.0",
     "state": {
      "_model_module": "@jupyter-widgets/controls",
      "_model_module_version": "1.5.0",
      "_model_name": "DescriptionStyleModel",
      "_view_count": null,
      "_view_module": "@jupyter-widgets/base",
      "_view_module_version": "1.2.0",
      "_view_name": "StyleView",
      "description_width": ""
     }
    },
    "1c262b973e5d46368ef4347562f1ab86": {
     "model_module": "@jupyter-widgets/base",
     "model_name": "LayoutModel",
     "model_module_version": "1.2.0",
     "state": {
      "_model_module": "@jupyter-widgets/base",
      "_model_module_version": "1.2.0",
      "_model_name": "LayoutModel",
      "_view_count": null,
      "_view_module": "@jupyter-widgets/base",
      "_view_module_version": "1.2.0",
      "_view_name": "LayoutView",
      "align_content": null,
      "align_items": null,
      "align_self": null,
      "border": null,
      "bottom": null,
      "display": null,
      "flex": null,
      "flex_flow": null,
      "grid_area": null,
      "grid_auto_columns": null,
      "grid_auto_flow": null,
      "grid_auto_rows": null,
      "grid_column": null,
      "grid_gap": null,
      "grid_row": null,
      "grid_template_areas": null,
      "grid_template_columns": null,
      "grid_template_rows": null,
      "height": null,
      "justify_content": null,
      "justify_items": null,
      "left": null,
      "margin": null,
      "max_height": null,
      "max_width": null,
      "min_height": null,
      "min_width": null,
      "object_fit": null,
      "object_position": null,
      "order": null,
      "overflow": null,
      "overflow_x": null,
      "overflow_y": null,
      "padding": null,
      "right": null,
      "top": null,
      "visibility": null,
      "width": null
     }
    },
    "e69e645d63e346ce85385085c199cddb": {
     "model_module": "@jupyter-widgets/controls",
     "model_name": "ProgressStyleModel",
     "model_module_version": "1.5.0",
     "state": {
      "_model_module": "@jupyter-widgets/controls",
      "_model_module_version": "1.5.0",
      "_model_name": "ProgressStyleModel",
      "_view_count": null,
      "_view_module": "@jupyter-widgets/base",
      "_view_module_version": "1.2.0",
      "_view_name": "StyleView",
      "bar_color": null,
      "description_width": ""
     }
    },
    "870063b8023147d1a0fbbc588f1da0c2": {
     "model_module": "@jupyter-widgets/base",
     "model_name": "LayoutModel",
     "model_module_version": "1.2.0",
     "state": {
      "_model_module": "@jupyter-widgets/base",
      "_model_module_version": "1.2.0",
      "_model_name": "LayoutModel",
      "_view_count": null,
      "_view_module": "@jupyter-widgets/base",
      "_view_module_version": "1.2.0",
      "_view_name": "LayoutView",
      "align_content": null,
      "align_items": null,
      "align_self": null,
      "border": null,
      "bottom": null,
      "display": null,
      "flex": null,
      "flex_flow": null,
      "grid_area": null,
      "grid_auto_columns": null,
      "grid_auto_flow": null,
      "grid_auto_rows": null,
      "grid_column": null,
      "grid_gap": null,
      "grid_row": null,
      "grid_template_areas": null,
      "grid_template_columns": null,
      "grid_template_rows": null,
      "height": null,
      "justify_content": null,
      "justify_items": null,
      "left": null,
      "margin": null,
      "max_height": null,
      "max_width": null,
      "min_height": null,
      "min_width": null,
      "object_fit": null,
      "object_position": null,
      "order": null,
      "overflow": null,
      "overflow_x": null,
      "overflow_y": null,
      "padding": null,
      "right": null,
      "top": null,
      "visibility": null,
      "width": null
     }
    },
    "c4e23155af964eabb07f9c52e17cd1bd": {
     "model_module": "@jupyter-widgets/controls",
     "model_name": "DescriptionStyleModel",
     "model_module_version": "1.5.0",
     "state": {
      "_model_module": "@jupyter-widgets/controls",
      "_model_module_version": "1.5.0",
      "_model_name": "DescriptionStyleModel",
      "_view_count": null,
      "_view_module": "@jupyter-widgets/base",
      "_view_module_version": "1.2.0",
      "_view_name": "StyleView",
      "description_width": ""
     }
    },
    "36c08de71ea2422a88e430b0c87d28ce": {
     "model_module": "@jupyter-widgets/controls",
     "model_name": "HBoxModel",
     "model_module_version": "1.5.0",
     "state": {
      "_dom_classes": [],
      "_model_module": "@jupyter-widgets/controls",
      "_model_module_version": "1.5.0",
      "_model_name": "HBoxModel",
      "_view_count": null,
      "_view_module": "@jupyter-widgets/controls",
      "_view_module_version": "1.5.0",
      "_view_name": "HBoxView",
      "box_style": "",
      "children": [
       "IPY_MODEL_73fcbf25ea34412883baa74dab445902",
       "IPY_MODEL_965767f501054229a023478530ff9939",
       "IPY_MODEL_1ec561f2cd9342cca1f098bfe3f932a1"
      ],
      "layout": "IPY_MODEL_affa6a2b7b8e42799b28ba1852d685f5"
     }
    },
    "73fcbf25ea34412883baa74dab445902": {
     "model_module": "@jupyter-widgets/controls",
     "model_name": "HTMLModel",
     "model_module_version": "1.5.0",
     "state": {
      "_dom_classes": [],
      "_model_module": "@jupyter-widgets/controls",
      "_model_module_version": "1.5.0",
      "_model_name": "HTMLModel",
      "_view_count": null,
      "_view_module": "@jupyter-widgets/controls",
      "_view_module_version": "1.5.0",
      "_view_name": "HTMLView",
      "description": "",
      "description_tooltip": null,
      "layout": "IPY_MODEL_f30ea32e3a5c4e578982668295c93e85",
      "placeholder": "​",
      "style": "IPY_MODEL_dde35260948c458aaeb873acbd5c984a",
      "value": "100%"
     }
    },
    "965767f501054229a023478530ff9939": {
     "model_module": "@jupyter-widgets/controls",
     "model_name": "FloatProgressModel",
     "model_module_version": "1.5.0",
     "state": {
      "_dom_classes": [],
      "_model_module": "@jupyter-widgets/controls",
      "_model_module_version": "1.5.0",
      "_model_name": "FloatProgressModel",
      "_view_count": null,
      "_view_module": "@jupyter-widgets/controls",
      "_view_module_version": "1.5.0",
      "_view_name": "ProgressView",
      "bar_style": "success",
      "description": "",
      "description_tooltip": null,
      "layout": "IPY_MODEL_d28d292db5444119980adeb8679237fd",
      "max": 3,
      "min": 0,
      "orientation": "horizontal",
      "style": "IPY_MODEL_af403af0e6c749639e4109494a863a2b",
      "value": 3
     }
    },
    "1ec561f2cd9342cca1f098bfe3f932a1": {
     "model_module": "@jupyter-widgets/controls",
     "model_name": "HTMLModel",
     "model_module_version": "1.5.0",
     "state": {
      "_dom_classes": [],
      "_model_module": "@jupyter-widgets/controls",
      "_model_module_version": "1.5.0",
      "_model_name": "HTMLModel",
      "_view_count": null,
      "_view_module": "@jupyter-widgets/controls",
      "_view_module_version": "1.5.0",
      "_view_name": "HTMLView",
      "description": "",
      "description_tooltip": null,
      "layout": "IPY_MODEL_c63bbf08bdee4ae19fa41e0f3b945a09",
      "placeholder": "​",
      "style": "IPY_MODEL_b2da8688ae00470c8b637300a69e75a1",
      "value": " 3/3 [00:00&lt;00:00, 71.94it/s]"
     }
    },
    "affa6a2b7b8e42799b28ba1852d685f5": {
     "model_module": "@jupyter-widgets/base",
     "model_name": "LayoutModel",
     "model_module_version": "1.2.0",
     "state": {
      "_model_module": "@jupyter-widgets/base",
      "_model_module_version": "1.2.0",
      "_model_name": "LayoutModel",
      "_view_count": null,
      "_view_module": "@jupyter-widgets/base",
      "_view_module_version": "1.2.0",
      "_view_name": "LayoutView",
      "align_content": null,
      "align_items": null,
      "align_self": null,
      "border": null,
      "bottom": null,
      "display": null,
      "flex": null,
      "flex_flow": null,
      "grid_area": null,
      "grid_auto_columns": null,
      "grid_auto_flow": null,
      "grid_auto_rows": null,
      "grid_column": null,
      "grid_gap": null,
      "grid_row": null,
      "grid_template_areas": null,
      "grid_template_columns": null,
      "grid_template_rows": null,
      "height": null,
      "justify_content": null,
      "justify_items": null,
      "left": null,
      "margin": null,
      "max_height": null,
      "max_width": null,
      "min_height": null,
      "min_width": null,
      "object_fit": null,
      "object_position": null,
      "order": null,
      "overflow": null,
      "overflow_x": null,
      "overflow_y": null,
      "padding": null,
      "right": null,
      "top": null,
      "visibility": null,
      "width": null
     }
    },
    "f30ea32e3a5c4e578982668295c93e85": {
     "model_module": "@jupyter-widgets/base",
     "model_name": "LayoutModel",
     "model_module_version": "1.2.0",
     "state": {
      "_model_module": "@jupyter-widgets/base",
      "_model_module_version": "1.2.0",
      "_model_name": "LayoutModel",
      "_view_count": null,
      "_view_module": "@jupyter-widgets/base",
      "_view_module_version": "1.2.0",
      "_view_name": "LayoutView",
      "align_content": null,
      "align_items": null,
      "align_self": null,
      "border": null,
      "bottom": null,
      "display": null,
      "flex": null,
      "flex_flow": null,
      "grid_area": null,
      "grid_auto_columns": null,
      "grid_auto_flow": null,
      "grid_auto_rows": null,
      "grid_column": null,
      "grid_gap": null,
      "grid_row": null,
      "grid_template_areas": null,
      "grid_template_columns": null,
      "grid_template_rows": null,
      "height": null,
      "justify_content": null,
      "justify_items": null,
      "left": null,
      "margin": null,
      "max_height": null,
      "max_width": null,
      "min_height": null,
      "min_width": null,
      "object_fit": null,
      "object_position": null,
      "order": null,
      "overflow": null,
      "overflow_x": null,
      "overflow_y": null,
      "padding": null,
      "right": null,
      "top": null,
      "visibility": null,
      "width": null
     }
    },
    "dde35260948c458aaeb873acbd5c984a": {
     "model_module": "@jupyter-widgets/controls",
     "model_name": "DescriptionStyleModel",
     "model_module_version": "1.5.0",
     "state": {
      "_model_module": "@jupyter-widgets/controls",
      "_model_module_version": "1.5.0",
      "_model_name": "DescriptionStyleModel",
      "_view_count": null,
      "_view_module": "@jupyter-widgets/base",
      "_view_module_version": "1.2.0",
      "_view_name": "StyleView",
      "description_width": ""
     }
    },
    "d28d292db5444119980adeb8679237fd": {
     "model_module": "@jupyter-widgets/base",
     "model_name": "LayoutModel",
     "model_module_version": "1.2.0",
     "state": {
      "_model_module": "@jupyter-widgets/base",
      "_model_module_version": "1.2.0",
      "_model_name": "LayoutModel",
      "_view_count": null,
      "_view_module": "@jupyter-widgets/base",
      "_view_module_version": "1.2.0",
      "_view_name": "LayoutView",
      "align_content": null,
      "align_items": null,
      "align_self": null,
      "border": null,
      "bottom": null,
      "display": null,
      "flex": null,
      "flex_flow": null,
      "grid_area": null,
      "grid_auto_columns": null,
      "grid_auto_flow": null,
      "grid_auto_rows": null,
      "grid_column": null,
      "grid_gap": null,
      "grid_row": null,
      "grid_template_areas": null,
      "grid_template_columns": null,
      "grid_template_rows": null,
      "height": null,
      "justify_content": null,
      "justify_items": null,
      "left": null,
      "margin": null,
      "max_height": null,
      "max_width": null,
      "min_height": null,
      "min_width": null,
      "object_fit": null,
      "object_position": null,
      "order": null,
      "overflow": null,
      "overflow_x": null,
      "overflow_y": null,
      "padding": null,
      "right": null,
      "top": null,
      "visibility": null,
      "width": null
     }
    },
    "af403af0e6c749639e4109494a863a2b": {
     "model_module": "@jupyter-widgets/controls",
     "model_name": "ProgressStyleModel",
     "model_module_version": "1.5.0",
     "state": {
      "_model_module": "@jupyter-widgets/controls",
      "_model_module_version": "1.5.0",
      "_model_name": "ProgressStyleModel",
      "_view_count": null,
      "_view_module": "@jupyter-widgets/base",
      "_view_module_version": "1.2.0",
      "_view_name": "StyleView",
      "bar_color": null,
      "description_width": ""
     }
    },
    "c63bbf08bdee4ae19fa41e0f3b945a09": {
     "model_module": "@jupyter-widgets/base",
     "model_name": "LayoutModel",
     "model_module_version": "1.2.0",
     "state": {
      "_model_module": "@jupyter-widgets/base",
      "_model_module_version": "1.2.0",
      "_model_name": "LayoutModel",
      "_view_count": null,
      "_view_module": "@jupyter-widgets/base",
      "_view_module_version": "1.2.0",
      "_view_name": "LayoutView",
      "align_content": null,
      "align_items": null,
      "align_self": null,
      "border": null,
      "bottom": null,
      "display": null,
      "flex": null,
      "flex_flow": null,
      "grid_area": null,
      "grid_auto_columns": null,
      "grid_auto_flow": null,
      "grid_auto_rows": null,
      "grid_column": null,
      "grid_gap": null,
      "grid_row": null,
      "grid_template_areas": null,
      "grid_template_columns": null,
      "grid_template_rows": null,
      "height": null,
      "justify_content": null,
      "justify_items": null,
      "left": null,
      "margin": null,
      "max_height": null,
      "max_width": null,
      "min_height": null,
      "min_width": null,
      "object_fit": null,
      "object_position": null,
      "order": null,
      "overflow": null,
      "overflow_x": null,
      "overflow_y": null,
      "padding": null,
      "right": null,
      "top": null,
      "visibility": null,
      "width": null
     }
    },
    "b2da8688ae00470c8b637300a69e75a1": {
     "model_module": "@jupyter-widgets/controls",
     "model_name": "DescriptionStyleModel",
     "model_module_version": "1.5.0",
     "state": {
      "_model_module": "@jupyter-widgets/controls",
      "_model_module_version": "1.5.0",
      "_model_name": "DescriptionStyleModel",
      "_view_count": null,
      "_view_module": "@jupyter-widgets/base",
      "_view_module_version": "1.2.0",
      "_view_name": "StyleView",
      "description_width": ""
     }
    }
   }
  }
 },
 "nbformat": 4,
 "nbformat_minor": 5
}
