{
 "cells": [
  {
   "cell_type": "markdown",
   "id": "f5f1173d",
   "metadata": {
    "id": "f5f1173d"
   },
   "source": [
    "# Домашнее задание № 9. Предобученные трансформеры"
   ]
  },
  {
   "cell_type": "markdown",
   "id": "61808033",
   "metadata": {
    "id": "61808033"
   },
   "source": [
    "### Задание 1 (8 баллов).\n",
    "Дообучите 3 предобученных модели на тех же данных, что и в семинаре. Сравните качество и выберите лучшую.\n",
    "Модели должны отличаться друг от друга не только параметрами ru/en/multilingual, base/large, cased/uncased. Все три выбранные модели должны работать лучше, чем бейзлайн без дообучения (т.е. если модель не работает, попробуйте другую).\n"
   ]
  },
  {
   "cell_type": "markdown",
   "source": [],
   "metadata": {
    "collapsed": false
   }
  },
  {
   "cell_type": "code",
   "execution_count": 1,
   "outputs": [
    {
     "name": "stdout",
     "output_type": "stream",
     "text": [
      "Looking in indexes: https://download.pytorch.org/whl/cu117\n",
      "Requirement already satisfied: torch in c:\\users\\robst\\pycharmprojects\\hse_nlp\\venv2\\lib\\site-packages (1.13.1)\n",
      "Requirement already satisfied: torchvision in c:\\users\\robst\\pycharmprojects\\hse_nlp\\venv2\\lib\\site-packages (0.14.1)\n",
      "Requirement already satisfied: torchaudio in c:\\users\\robst\\pycharmprojects\\hse_nlp\\venv2\\lib\\site-packages (0.13.1+cu117)\n",
      "Requirement already satisfied: typing-extensions in c:\\users\\robst\\pycharmprojects\\hse_nlp\\venv2\\lib\\site-packages (from torch) (4.6.3)\n",
      "Requirement already satisfied: pillow!=8.3.*,>=5.3.0 in c:\\users\\robst\\pycharmprojects\\hse_nlp\\venv2\\lib\\site-packages (from torchvision) (9.5.0)\n",
      "Requirement already satisfied: numpy in c:\\users\\robst\\pycharmprojects\\hse_nlp\\venv2\\lib\\site-packages (from torchvision) (1.21.6)\n",
      "Requirement already satisfied: requests in c:\\users\\robst\\pycharmprojects\\hse_nlp\\venv2\\lib\\site-packages (from torchvision) (2.31.0)\n",
      "Requirement already satisfied: idna<4,>=2.5 in c:\\users\\robst\\pycharmprojects\\hse_nlp\\venv2\\lib\\site-packages (from requests->torchvision) (3.4)\n",
      "Requirement already satisfied: certifi>=2017.4.17 in c:\\users\\robst\\pycharmprojects\\hse_nlp\\venv2\\lib\\site-packages (from requests->torchvision) (2023.5.7)\n",
      "Requirement already satisfied: urllib3<3,>=1.21.1 in c:\\users\\robst\\pycharmprojects\\hse_nlp\\venv2\\lib\\site-packages (from requests->torchvision) (1.26.16)\n",
      "Requirement already satisfied: charset-normalizer<4,>=2 in c:\\users\\robst\\pycharmprojects\\hse_nlp\\venv2\\lib\\site-packages (from requests->torchvision) (3.1.0)\n",
      "Note: you may need to restart the kernel to use updated packages.\n"
     ]
    },
    {
     "name": "stderr",
     "output_type": "stream",
     "text": [
      "\n",
      "[notice] A new release of pip available: 22.3.1 -> 23.1.2\n",
      "[notice] To update, run: python.exe -m pip install --upgrade pip\n"
     ]
    }
   ],
   "source": [
    "%pip install torch torchvision torchaudio --index-url https://download.pytorch.org/whl/cu117"
   ],
   "metadata": {
    "collapsed": false,
    "ExecuteTime": {
     "end_time": "2023-06-15T10:25:52.960195300Z",
     "start_time": "2023-06-15T10:25:49.597542800Z"
    }
   }
  },
  {
   "cell_type": "code",
   "execution_count": 2,
   "outputs": [
    {
     "name": "stdout",
     "output_type": "stream",
     "text": [
      "^C\n",
      "Note: you may need to restart the kernel to use updated packages.\n"
     ]
    }
   ],
   "source": [
    "%pip uninstall tensorflow"
   ],
   "metadata": {
    "collapsed": false,
    "ExecuteTime": {
     "end_time": "2023-06-15T14:17:48.880410200Z",
     "start_time": "2023-06-15T11:01:59.541083900Z"
    }
   }
  },
  {
   "cell_type": "code",
   "execution_count": 3,
   "outputs": [
    {
     "name": "stdout",
     "output_type": "stream",
     "text": [
      "^C\n",
      "Note: you may need to restart the kernel to use updated packages.\n"
     ]
    }
   ],
   "source": [
    "%pip install tensorflow-gpu"
   ],
   "metadata": {
    "collapsed": false,
    "ExecuteTime": {
     "end_time": "2023-06-15T14:17:49.037622300Z",
     "start_time": "2023-06-15T14:17:48.882343600Z"
    }
   }
  },
  {
   "cell_type": "code",
   "source": [
    "%pip install scikit-learn"
   ],
   "metadata": {
    "id": "MwtX1n2uKLBQ",
    "outputId": "9b0814bf-3877-468a-b370-dee76ad5c707",
    "colab": {
     "base_uri": "https://localhost:8080/"
    },
    "ExecuteTime": {
     "end_time": "2023-06-15T09:26:28.776808700Z",
     "start_time": "2023-06-15T09:26:27.381834300Z"
    }
   },
   "id": "MwtX1n2uKLBQ",
   "execution_count": 1,
   "outputs": [
    {
     "name": "stdout",
     "output_type": "stream",
     "text": [
      "Requirement already satisfied: scikit-learn in c:\\users\\robst\\pycharmprojects\\hse_nlp\\venv2\\lib\\site-packages (1.0.2)\n",
      "Requirement already satisfied: scipy>=1.1.0 in c:\\users\\robst\\pycharmprojects\\hse_nlp\\venv2\\lib\\site-packages (from scikit-learn) (1.7.3)\n",
      "Requirement already satisfied: numpy>=1.14.6 in c:\\users\\robst\\pycharmprojects\\hse_nlp\\venv2\\lib\\site-packages (from scikit-learn) (1.21.6)\n",
      "Requirement already satisfied: threadpoolctl>=2.0.0 in c:\\users\\robst\\pycharmprojects\\hse_nlp\\venv2\\lib\\site-packages (from scikit-learn) (3.1.0)\n",
      "Requirement already satisfied: joblib>=0.11 in c:\\users\\robst\\pycharmprojects\\hse_nlp\\venv2\\lib\\site-packages (from scikit-learn) (1.2.0)\n",
      "Note: you may need to restart the kernel to use updated packages.\n"
     ]
    },
    {
     "name": "stderr",
     "output_type": "stream",
     "text": [
      "\n",
      "[notice] A new release of pip available: 22.3.1 -> 23.1.2\n",
      "[notice] To update, run: python.exe -m pip install --upgrade pip\n"
     ]
    }
   ]
  },
  {
   "cell_type": "code",
   "source": [
    "%pip install pandas"
   ],
   "metadata": {
    "id": "nkPMZMscKVtR",
    "outputId": "6a75e9bb-bc51-4ec9-b36d-3e70daf8f39c",
    "colab": {
     "base_uri": "https://localhost:8080/"
    },
    "ExecuteTime": {
     "end_time": "2023-06-15T09:26:29.740841500Z",
     "start_time": "2023-06-15T09:26:28.777848800Z"
    }
   },
   "id": "nkPMZMscKVtR",
   "execution_count": 2,
   "outputs": [
    {
     "name": "stdout",
     "output_type": "stream",
     "text": [
      "Requirement already satisfied: pandas in c:\\users\\robst\\pycharmprojects\\hse_nlp\\venv2\\lib\\site-packages (1.3.5)\n",
      "Requirement already satisfied: python-dateutil>=2.7.3 in c:\\users\\robst\\pycharmprojects\\hse_nlp\\venv2\\lib\\site-packages (from pandas) (2.8.2)\n",
      "Requirement already satisfied: pytz>=2017.3 in c:\\users\\robst\\pycharmprojects\\hse_nlp\\venv2\\lib\\site-packages (from pandas) (2023.3)\n",
      "Requirement already satisfied: numpy>=1.17.3 in c:\\users\\robst\\pycharmprojects\\hse_nlp\\venv2\\lib\\site-packages (from pandas) (1.21.6)\n",
      "Requirement already satisfied: six>=1.5 in c:\\users\\robst\\pycharmprojects\\hse_nlp\\venv2\\lib\\site-packages (from python-dateutil>=2.7.3->pandas) (1.16.0)\n",
      "Note: you may need to restart the kernel to use updated packages.\n"
     ]
    },
    {
     "name": "stderr",
     "output_type": "stream",
     "text": [
      "\n",
      "[notice] A new release of pip available: 22.3.1 -> 23.1.2\n",
      "[notice] To update, run: python.exe -m pip install --upgrade pip\n"
     ]
    }
   ]
  },
  {
   "cell_type": "code",
   "source": [
    "%pip install matplotlib"
   ],
   "metadata": {
    "id": "fZ2xz925KYkK",
    "outputId": "8b75c556-5b98-455a-8740-01772cb793f9",
    "colab": {
     "base_uri": "https://localhost:8080/"
    },
    "ExecuteTime": {
     "end_time": "2023-06-15T09:26:30.687645500Z",
     "start_time": "2023-06-15T09:26:29.739849100Z"
    }
   },
   "id": "fZ2xz925KYkK",
   "execution_count": 3,
   "outputs": [
    {
     "name": "stdout",
     "output_type": "stream",
     "text": [
      "Requirement already satisfied: matplotlib in c:\\users\\robst\\pycharmprojects\\hse_nlp\\venv2\\lib\\site-packages (3.5.3)\n",
      "Requirement already satisfied: pillow>=6.2.0 in c:\\users\\robst\\pycharmprojects\\hse_nlp\\venv2\\lib\\site-packages (from matplotlib) (9.5.0)\n",
      "Requirement already satisfied: kiwisolver>=1.0.1 in c:\\users\\robst\\pycharmprojects\\hse_nlp\\venv2\\lib\\site-packages (from matplotlib) (1.4.4)\n",
      "Requirement already satisfied: pyparsing>=2.2.1 in c:\\users\\robst\\pycharmprojects\\hse_nlp\\venv2\\lib\\site-packages (from matplotlib) (3.0.9)\n",
      "Requirement already satisfied: python-dateutil>=2.7 in c:\\users\\robst\\pycharmprojects\\hse_nlp\\venv2\\lib\\site-packages (from matplotlib) (2.8.2)\n",
      "Requirement already satisfied: packaging>=20.0 in c:\\users\\robst\\pycharmprojects\\hse_nlp\\venv2\\lib\\site-packages (from matplotlib) (23.1)\n",
      "Requirement already satisfied: cycler>=0.10 in c:\\users\\robst\\pycharmprojects\\hse_nlp\\venv2\\lib\\site-packages (from matplotlib) (0.11.0)\n",
      "Requirement already satisfied: fonttools>=4.22.0 in c:\\users\\robst\\pycharmprojects\\hse_nlp\\venv2\\lib\\site-packages (from matplotlib) (4.38.0)\n",
      "Requirement already satisfied: numpy>=1.17 in c:\\users\\robst\\pycharmprojects\\hse_nlp\\venv2\\lib\\site-packages (from matplotlib) (1.21.6)\n",
      "Requirement already satisfied: typing-extensions in c:\\users\\robst\\pycharmprojects\\hse_nlp\\venv2\\lib\\site-packages (from kiwisolver>=1.0.1->matplotlib) (4.6.3)\n",
      "Requirement already satisfied: six>=1.5 in c:\\users\\robst\\pycharmprojects\\hse_nlp\\venv2\\lib\\site-packages (from python-dateutil>=2.7->matplotlib) (1.16.0)\n",
      "Note: you may need to restart the kernel to use updated packages.\n"
     ]
    },
    {
     "name": "stderr",
     "output_type": "stream",
     "text": [
      "\n",
      "[notice] A new release of pip available: 22.3.1 -> 23.1.2\n",
      "[notice] To update, run: python.exe -m pip install --upgrade pip\n"
     ]
    }
   ]
  },
  {
   "cell_type": "code",
   "source": [
    "%pip install transformers"
   ],
   "metadata": {
    "id": "fyB01qnRKa1r",
    "outputId": "160a3d1b-4ef3-4c35-f4b8-7be2206f99a3",
    "colab": {
     "base_uri": "https://localhost:8080/"
    },
    "ExecuteTime": {
     "end_time": "2023-06-15T09:26:39.300442Z",
     "start_time": "2023-06-15T09:26:30.684825600Z"
    }
   },
   "id": "fyB01qnRKa1r",
   "execution_count": 4,
   "outputs": [
    {
     "name": "stdout",
     "output_type": "stream",
     "text": [
      "Collecting transformers\n",
      "  Downloading transformers-4.30.2-py3-none-any.whl (7.2 MB)\n",
      "     ---------------------------------------- 7.2/7.2 MB 21.8 MB/s eta 0:00:00\n",
      "Collecting pyyaml>=5.1\n",
      "  Downloading PyYAML-6.0-cp37-cp37m-win_amd64.whl (153 kB)\n",
      "     ---------------------------------------- 153.2/153.2 kB ? eta 0:00:00\n",
      "Requirement already satisfied: numpy>=1.17 in c:\\users\\robst\\pycharmprojects\\hse_nlp\\venv2\\lib\\site-packages (from transformers) (1.21.6)\n",
      "Collecting safetensors>=0.3.1\n",
      "  Downloading safetensors-0.3.1-cp37-cp37m-win_amd64.whl (263 kB)\n",
      "     ------------------------------------- 263.9/263.9 kB 15.9 MB/s eta 0:00:00\n",
      "Requirement already satisfied: importlib-metadata in c:\\users\\robst\\pycharmprojects\\hse_nlp\\venv2\\lib\\site-packages (from transformers) (6.6.0)\n",
      "Requirement already satisfied: packaging>=20.0 in c:\\users\\robst\\pycharmprojects\\hse_nlp\\venv2\\lib\\site-packages (from transformers) (23.1)\n",
      "Collecting tokenizers!=0.11.3,<0.14,>=0.11.1\n",
      "  Downloading tokenizers-0.13.3-cp37-cp37m-win_amd64.whl (3.5 MB)\n",
      "     ---------------------------------------- 3.5/3.5 MB 44.3 MB/s eta 0:00:00\n",
      "Requirement already satisfied: requests in c:\\users\\robst\\pycharmprojects\\hse_nlp\\venv2\\lib\\site-packages (from transformers) (2.31.0)\n",
      "Collecting tqdm>=4.27\n",
      "  Using cached tqdm-4.65.0-py3-none-any.whl (77 kB)\n",
      "Collecting regex!=2019.12.17\n",
      "  Downloading regex-2023.6.3-cp37-cp37m-win_amd64.whl (268 kB)\n",
      "     ------------------------------------- 268.4/268.4 kB 16.1 MB/s eta 0:00:00\n",
      "Collecting huggingface-hub<1.0,>=0.14.1\n",
      "  Downloading huggingface_hub-0.15.1-py3-none-any.whl (236 kB)\n",
      "     ------------------------------------- 236.8/236.8 kB 14.2 MB/s eta 0:00:00\n",
      "Collecting filelock\n",
      "  Downloading filelock-3.12.2-py3-none-any.whl (10 kB)\n",
      "Collecting fsspec\n",
      "  Using cached fsspec-2023.1.0-py3-none-any.whl (143 kB)\n",
      "Requirement already satisfied: typing-extensions>=3.7.4.3 in c:\\users\\robst\\pycharmprojects\\hse_nlp\\venv2\\lib\\site-packages (from huggingface-hub<1.0,>=0.14.1->transformers) (4.6.3)\n",
      "Requirement already satisfied: colorama in c:\\users\\robst\\pycharmprojects\\hse_nlp\\venv2\\lib\\site-packages (from tqdm>=4.27->transformers) (0.4.6)\n",
      "Requirement already satisfied: zipp>=0.5 in c:\\users\\robst\\pycharmprojects\\hse_nlp\\venv2\\lib\\site-packages (from importlib-metadata->transformers) (3.15.0)\n",
      "Requirement already satisfied: idna<4,>=2.5 in c:\\users\\robst\\pycharmprojects\\hse_nlp\\venv2\\lib\\site-packages (from requests->transformers) (3.4)\n",
      "Requirement already satisfied: certifi>=2017.4.17 in c:\\users\\robst\\pycharmprojects\\hse_nlp\\venv2\\lib\\site-packages (from requests->transformers) (2023.5.7)\n",
      "Requirement already satisfied: charset-normalizer<4,>=2 in c:\\users\\robst\\pycharmprojects\\hse_nlp\\venv2\\lib\\site-packages (from requests->transformers) (3.1.0)\n",
      "Requirement already satisfied: urllib3<3,>=1.21.1 in c:\\users\\robst\\pycharmprojects\\hse_nlp\\venv2\\lib\\site-packages (from requests->transformers) (1.26.16)\n",
      "Installing collected packages: tokenizers, safetensors, tqdm, regex, pyyaml, fsspec, filelock, huggingface-hub, transformers\n",
      "Successfully installed filelock-3.12.2 fsspec-2023.1.0 huggingface-hub-0.15.1 pyyaml-6.0 regex-2023.6.3 safetensors-0.3.1 tokenizers-0.13.3 tqdm-4.65.0 transformers-4.30.2\n",
      "Note: you may need to restart the kernel to use updated packages.\n"
     ]
    },
    {
     "name": "stderr",
     "output_type": "stream",
     "text": [
      "\n",
      "[notice] A new release of pip available: 22.3.1 -> 23.1.2\n",
      "[notice] To update, run: python.exe -m pip install --upgrade pip\n"
     ]
    }
   ]
  },
  {
   "cell_type": "code",
   "execution_count": 30,
   "id": "29742a54",
   "metadata": {
    "id": "29742a54",
    "ExecuteTime": {
     "end_time": "2023-06-15T16:46:38.811170400Z",
     "start_time": "2023-06-15T16:46:38.796138400Z"
    }
   },
   "outputs": [],
   "source": [
    "# стандартные библиотеки\n",
    "import os, re\n",
    "import numpy as np\n",
    "from time import time\n",
    "from sklearn.model_selection import train_test_split\n",
    "import pandas as pd\n",
    "from collections import Counter\n",
    "from string import punctuation\n",
    "import matplotlib.pyplot as plt\n",
    "%matplotlib inline\n",
    "\n",
    "\n",
    "# tf и huggingface\n",
    "import tensorflow as tf\n",
    "from transformers import TFAutoModel, TFAutoModelForSequenceClassification\n",
    "from transformers import AutoTokenizer"
   ]
  },
  {
   "cell_type": "code",
   "execution_count": 6,
   "id": "1f6a0b99",
   "metadata": {
    "id": "1f6a0b99",
    "ExecuteTime": {
     "end_time": "2023-06-15T16:28:54.475601900Z",
     "start_time": "2023-06-15T16:28:54.422370800Z"
    }
   },
   "outputs": [],
   "source": [
    "data = pd.read_csv('lenta_sample.csv')\n",
    "data.dropna(subset=['topic', 'text'], inplace=True)"
   ]
  },
  {
   "cell_type": "code",
   "source": [
    "data.topic.value_counts()"
   ],
   "metadata": {
    "id": "7335G3ORGmqg",
    "outputId": "e3866c11-f333-438a-851d-dd481494d5a2",
    "colab": {
     "base_uri": "https://localhost:8080/"
    },
    "ExecuteTime": {
     "end_time": "2023-06-15T16:28:54.490616200Z",
     "start_time": "2023-06-15T16:28:54.470600400Z"
    }
   },
   "id": "7335G3ORGmqg",
   "execution_count": 7,
   "outputs": [
    {
     "data": {
      "text/plain": "Из жизни             55\nНаука и техника      54\nБывший СССР          54\nКультура             53\nЦенности             45\nДом                  45\nБизнес               44\nИнтернет и СМИ       44\nСиловые структуры    40\nСпорт                39\nРоссия               32\nЭкономика            32\nМир                  27\n69-я параллель       13\nЛегпром              13\nБиблиотека           10\nКрым                  7\nName: topic, dtype: int64"
     },
     "execution_count": 7,
     "metadata": {},
     "output_type": "execute_result"
    }
   ]
  },
  {
   "cell_type": "code",
   "source": [
    "data.shape"
   ],
   "metadata": {
    "id": "7wgRHCqIGpRU",
    "outputId": "59e325d8-968b-436d-f5ae-afb01c2127fd",
    "colab": {
     "base_uri": "https://localhost:8080/"
    },
    "ExecuteTime": {
     "end_time": "2023-06-15T16:28:54.497617200Z",
     "start_time": "2023-06-15T16:28:54.482621800Z"
    }
   },
   "id": "7wgRHCqIGpRU",
   "execution_count": 8,
   "outputs": [
    {
     "data": {
      "text/plain": "(607, 6)"
     },
     "execution_count": 8,
     "metadata": {},
     "output_type": "execute_result"
    }
   ]
  },
  {
   "cell_type": "markdown",
   "source": [
    "# Модель 1"
   ],
   "metadata": {
    "id": "1PHrF9j-Jkjv"
   },
   "id": "1PHrF9j-Jkjv"
  },
  {
   "cell_type": "code",
   "source": [
    "tokenizer_1 = AutoTokenizer.from_pretrained(\"DeepPavlov/rubert-base-cased\")\n",
    "\n",
    "model_1 = TFAutoModel.from_pretrained(\"DeepPavlov/rubert-base-cased\", from_pt=True)"
   ],
   "metadata": {
    "id": "ljGmoIKQJnLy",
    "outputId": "b1b7ad1b-976a-4095-a7bd-29529e7e7eab",
    "colab": {
     "base_uri": "https://localhost:8080/"
    },
    "ExecuteTime": {
     "end_time": "2023-06-15T16:29:24.584480Z",
     "start_time": "2023-06-15T16:28:54.498617900Z"
    }
   },
   "id": "ljGmoIKQJnLy",
   "execution_count": 9,
   "outputs": [
    {
     "data": {
      "text/plain": "Downloading (…)okenizer_config.json:   0%|          | 0.00/24.0 [00:00<?, ?B/s]",
      "application/vnd.jupyter.widget-view+json": {
       "version_major": 2,
       "version_minor": 0,
       "model_id": "dbf6710b984d49eca98ca88a6256a371"
      }
     },
     "metadata": {},
     "output_type": "display_data"
    },
    {
     "name": "stderr",
     "output_type": "stream",
     "text": [
      "C:\\Users\\robst\\PycharmProjects\\HSE_NLP\\venv2\\lib\\site-packages\\huggingface_hub\\file_download.py:133: UserWarning: `huggingface_hub` cache-system uses symlinks by default to efficiently store duplicated files but your machine does not support them in C:\\Users\\robst\\.cache\\huggingface\\hub. Caching files will still work but in a degraded version that might require more space on your disk. This warning can be disabled by setting the `HF_HUB_DISABLE_SYMLINKS_WARNING` environment variable. For more details, see https://huggingface.co/docs/huggingface_hub/how-to-cache#limitations.\n",
      "To support symlinks on Windows, you either need to activate Developer Mode or to run Python as an administrator. In order to see activate developer mode, see this article: https://docs.microsoft.com/en-us/windows/apps/get-started/enable-your-device-for-development\n",
      "  warnings.warn(message)\n"
     ]
    },
    {
     "data": {
      "text/plain": "Downloading (…)lve/main/config.json:   0%|          | 0.00/642 [00:00<?, ?B/s]",
      "application/vnd.jupyter.widget-view+json": {
       "version_major": 2,
       "version_minor": 0,
       "model_id": "818d16a8848047ab85c715cf5fb228bb"
      }
     },
     "metadata": {},
     "output_type": "display_data"
    },
    {
     "data": {
      "text/plain": "Downloading (…)solve/main/vocab.txt:   0%|          | 0.00/1.65M [00:00<?, ?B/s]",
      "application/vnd.jupyter.widget-view+json": {
       "version_major": 2,
       "version_minor": 0,
       "model_id": "3a0191fb55364febbe1295f86d5e435e"
      }
     },
     "metadata": {},
     "output_type": "display_data"
    },
    {
     "data": {
      "text/plain": "Downloading (…)cial_tokens_map.json:   0%|          | 0.00/112 [00:00<?, ?B/s]",
      "application/vnd.jupyter.widget-view+json": {
       "version_major": 2,
       "version_minor": 0,
       "model_id": "db96de9eb0674b53a0b05ef0e97823bf"
      }
     },
     "metadata": {},
     "output_type": "display_data"
    },
    {
     "data": {
      "text/plain": "Downloading pytorch_model.bin:   0%|          | 0.00/714M [00:00<?, ?B/s]",
      "application/vnd.jupyter.widget-view+json": {
       "version_major": 2,
       "version_minor": 0,
       "model_id": "2a8267181ea142c8954d857c31af07fd"
      }
     },
     "metadata": {},
     "output_type": "display_data"
    },
    {
     "name": "stderr",
     "output_type": "stream",
     "text": [
      "Some weights of the PyTorch model were not used when initializing the TF 2.0 model TFBertModel: ['cls.predictions.transform.dense.bias', 'cls.predictions.bias', 'cls.seq_relationship.weight', 'cls.seq_relationship.bias', 'cls.predictions.transform.LayerNorm.weight', 'cls.predictions.transform.dense.weight', 'cls.predictions.decoder.bias', 'cls.predictions.transform.LayerNorm.bias', 'cls.predictions.decoder.weight', 'bert.embeddings.position_ids']\n",
      "- This IS expected if you are initializing TFBertModel from a PyTorch model trained on another task or with another architecture (e.g. initializing a TFBertForSequenceClassification model from a BertForPreTraining model).\n",
      "- This IS NOT expected if you are initializing TFBertModel from a PyTorch model that you expect to be exactly identical (e.g. initializing a TFBertForSequenceClassification model from a BertForSequenceClassification model).\n",
      "All the weights of TFBertModel were initialized from the PyTorch model.\n",
      "If your task is similar to the task the model of the checkpoint was trained on, you can already use TFBertModel for predictions without further training.\n"
     ]
    }
   ]
  },
  {
   "cell_type": "code",
   "source": [
    "data.loc[4, 'title']"
   ],
   "metadata": {
    "id": "vGLDgqCZK43t",
    "outputId": "a9554bbd-7e4f-4de8-a7be-dfe95a793d87",
    "colab": {
     "base_uri": "https://localhost:8080/",
     "height": 36
    },
    "ExecuteTime": {
     "end_time": "2023-06-15T16:29:24.645451700Z",
     "start_time": "2023-06-15T16:29:24.587480400Z"
    }
   },
   "id": "vGLDgqCZK43t",
   "execution_count": 10,
   "outputs": [
    {
     "data": {
      "text/plain": "'По факту пожара на\\xa0заводе в\\xa0Югре заведено дело'"
     },
     "execution_count": 10,
     "metadata": {},
     "output_type": "execute_result"
    }
   ]
  },
  {
   "cell_type": "code",
   "execution_count": 29,
   "outputs": [
    {
     "data": {
      "text/plain": "                                              url  \\\n0     https://lenta.ru/news/2010/12/16/passports/   \n1       https://lenta.ru/news/2014/05/19/student/   \n2         https://lenta.ru/news/2008/09/27/catch/   \n3        https://lenta.ru/news/2009/07/23/refuse/   \n4       https://lenta.ru/news/2012/09/29/factory/   \n..                                            ...   \n602     https://lenta.ru/news/2014/09/14/pattern/   \n603   https://lenta.ru/news/2014/12/23/christmas/   \n604  https://lenta.ru/news/2014/10/21/dobrovolec/   \n605  https://lenta.ru/news/2014/09/18/postoffice/   \n606   https://lenta.ru/news/1914/09/16/lermontov/   \n\n                                                 title  \\\n0       Московская милиция ужесточила паспортный режим   \n1    Московского студента ограбили на 6 миллионов р...   \n2            В Ставропольском крае обезврежены боевики   \n3    Лужков отказался трудоустраивать китайцев с Че...   \n4       По факту пожара на заводе в Югре заведено дело   \n..                                                 ...   \n602                        1914. Выкройки для раненых    \n603  1914. Немецкие и британские солдаты отметили п...   \n604                    1914. Польский доброволец-герой   \n605  1914. Письма в действующую армию на деревню де...   \n606  1914. Празднование столетия М.Ю. Лермонтова от...   \n\n                                                  text       topic  \\\n0    В Москве после серии массовых беспорядков на н...      Россия   \n1    Неизвестные вынесли из квартиры московского ст...      Россия   \n2    В Ставропольском крае задержаны боевики, котор...      Россия   \n3    Мэр Москвы Юрий Лужков заявил, что не намерен ...      Россия   \n4    Следственный комитет России возбудил уголовное...      Россия   \n..                                                 ...         ...   \n602  В дополнение к выкройкам белья для раненых, ра...  Библиотека   \n603  24 декабря в Бельгии в районе Ипра произошло н...  Библиотека   \n604  В числе поступивших в нашу армию добровольцев ...  Библиотека   \n605  За последнее время на имя начальника штаба Вер...  Библиотека   \n606  Министерство народного просвещения, в виду про...  Библиотека   \n\n               tags        date  \n0               Все  2010/12/16  \n1               NaN  2014/05/19  \n2               Все  2008/09/27  \n3               Все  2009/07/23  \n4               Все  2012/09/29  \n..              ...         ...  \n602  Первая мировая  2014/09/14  \n603  Первая мировая  2014/12/23  \n604  Первая мировая  2014/10/21  \n605  Первая мировая  2014/09/18  \n606  Первая мировая  1914/09/16  \n\n[607 rows x 6 columns]",
      "text/html": "<div>\n<style scoped>\n    .dataframe tbody tr th:only-of-type {\n        vertical-align: middle;\n    }\n\n    .dataframe tbody tr th {\n        vertical-align: top;\n    }\n\n    .dataframe thead th {\n        text-align: right;\n    }\n</style>\n<table border=\"1\" class=\"dataframe\">\n  <thead>\n    <tr style=\"text-align: right;\">\n      <th></th>\n      <th>url</th>\n      <th>title</th>\n      <th>text</th>\n      <th>topic</th>\n      <th>tags</th>\n      <th>date</th>\n    </tr>\n  </thead>\n  <tbody>\n    <tr>\n      <th>0</th>\n      <td>https://lenta.ru/news/2010/12/16/passports/</td>\n      <td>Московская милиция ужесточила паспортный режим</td>\n      <td>В Москве после серии массовых беспорядков на н...</td>\n      <td>Россия</td>\n      <td>Все</td>\n      <td>2010/12/16</td>\n    </tr>\n    <tr>\n      <th>1</th>\n      <td>https://lenta.ru/news/2014/05/19/student/</td>\n      <td>Московского студента ограбили на 6 миллионов р...</td>\n      <td>Неизвестные вынесли из квартиры московского ст...</td>\n      <td>Россия</td>\n      <td>NaN</td>\n      <td>2014/05/19</td>\n    </tr>\n    <tr>\n      <th>2</th>\n      <td>https://lenta.ru/news/2008/09/27/catch/</td>\n      <td>В Ставропольском крае обезврежены боевики</td>\n      <td>В Ставропольском крае задержаны боевики, котор...</td>\n      <td>Россия</td>\n      <td>Все</td>\n      <td>2008/09/27</td>\n    </tr>\n    <tr>\n      <th>3</th>\n      <td>https://lenta.ru/news/2009/07/23/refuse/</td>\n      <td>Лужков отказался трудоустраивать китайцев с Че...</td>\n      <td>Мэр Москвы Юрий Лужков заявил, что не намерен ...</td>\n      <td>Россия</td>\n      <td>Все</td>\n      <td>2009/07/23</td>\n    </tr>\n    <tr>\n      <th>4</th>\n      <td>https://lenta.ru/news/2012/09/29/factory/</td>\n      <td>По факту пожара на заводе в Югре заведено дело</td>\n      <td>Следственный комитет России возбудил уголовное...</td>\n      <td>Россия</td>\n      <td>Все</td>\n      <td>2012/09/29</td>\n    </tr>\n    <tr>\n      <th>...</th>\n      <td>...</td>\n      <td>...</td>\n      <td>...</td>\n      <td>...</td>\n      <td>...</td>\n      <td>...</td>\n    </tr>\n    <tr>\n      <th>602</th>\n      <td>https://lenta.ru/news/2014/09/14/pattern/</td>\n      <td>1914. Выкройки для раненых</td>\n      <td>В дополнение к выкройкам белья для раненых, ра...</td>\n      <td>Библиотека</td>\n      <td>Первая мировая</td>\n      <td>2014/09/14</td>\n    </tr>\n    <tr>\n      <th>603</th>\n      <td>https://lenta.ru/news/2014/12/23/christmas/</td>\n      <td>1914. Немецкие и британские солдаты отметили п...</td>\n      <td>24 декабря в Бельгии в районе Ипра произошло н...</td>\n      <td>Библиотека</td>\n      <td>Первая мировая</td>\n      <td>2014/12/23</td>\n    </tr>\n    <tr>\n      <th>604</th>\n      <td>https://lenta.ru/news/2014/10/21/dobrovolec/</td>\n      <td>1914. Польский доброволец-герой</td>\n      <td>В числе поступивших в нашу армию добровольцев ...</td>\n      <td>Библиотека</td>\n      <td>Первая мировая</td>\n      <td>2014/10/21</td>\n    </tr>\n    <tr>\n      <th>605</th>\n      <td>https://lenta.ru/news/2014/09/18/postoffice/</td>\n      <td>1914. Письма в действующую армию на деревню де...</td>\n      <td>За последнее время на имя начальника штаба Вер...</td>\n      <td>Библиотека</td>\n      <td>Первая мировая</td>\n      <td>2014/09/18</td>\n    </tr>\n    <tr>\n      <th>606</th>\n      <td>https://lenta.ru/news/1914/09/16/lermontov/</td>\n      <td>1914. Празднование столетия М.Ю. Лермонтова от...</td>\n      <td>Министерство народного просвещения, в виду про...</td>\n      <td>Библиотека</td>\n      <td>Первая мировая</td>\n      <td>1914/09/16</td>\n    </tr>\n  </tbody>\n</table>\n<p>607 rows × 6 columns</p>\n</div>"
     },
     "execution_count": 29,
     "metadata": {},
     "output_type": "execute_result"
    }
   ],
   "source": [
    "data"
   ],
   "metadata": {
    "collapsed": false,
    "ExecuteTime": {
     "end_time": "2023-06-15T16:45:21.940361400Z",
     "start_time": "2023-06-15T16:45:21.914797800Z"
    }
   }
  },
  {
   "cell_type": "code",
   "source": [
    "# переводим тексты в последовательности индексов\n",
    "# У берта есть ограничение на максимальную длину последовательности - 512\n",
    "# Для заголовков это не очень актуально, но для других данных пригодится\n",
    "\n",
    "X = []\n",
    "\n",
    "for text in data.title:\n",
    "    ids = tokenizer_1.encode(text)\n",
    "\n",
    "    X.append(ids[:512])"
   ],
   "metadata": {
    "id": "Cr349M6AMAg8",
    "ExecuteTime": {
     "end_time": "2023-06-15T16:29:24.655665700Z",
     "start_time": "2023-06-15T16:29:24.601876900Z"
    }
   },
   "id": "Cr349M6AMAg8",
   "execution_count": 11,
   "outputs": []
  },
  {
   "cell_type": "code",
   "source": [
    "X = tf.keras.preprocessing.sequence.pad_sequences(X, padding='post', maxlen=512)"
   ],
   "metadata": {
    "id": "I2qrn25sMCAa",
    "ExecuteTime": {
     "end_time": "2023-06-15T16:29:24.665241700Z",
     "start_time": "2023-06-15T16:29:24.648946400Z"
    }
   },
   "id": "I2qrn25sMCAa",
   "execution_count": 12,
   "outputs": []
  },
  {
   "cell_type": "code",
   "source": [
    "id2label = {i:label for i, label in enumerate(set(data.topic.values))}\n",
    "label2id = {l:i for i, l in id2label.items()}\n",
    "\n",
    "y = tf.keras.utils.to_categorical([label2id[label] for label in data.topic.values])"
   ],
   "metadata": {
    "id": "lQ_LgPMwMDfH",
    "ExecuteTime": {
     "end_time": "2023-06-15T16:29:24.694675Z",
     "start_time": "2023-06-15T16:29:24.664251400Z"
    }
   },
   "id": "lQ_LgPMwMDfH",
   "execution_count": 13,
   "outputs": []
  },
  {
   "cell_type": "code",
   "source": [
    "X.shape"
   ],
   "metadata": {
    "id": "PTJjxy8xMEsZ",
    "outputId": "89f5cd90-9f2d-4b40-f5e6-7ecfbde927b3",
    "colab": {
     "base_uri": "https://localhost:8080/"
    },
    "ExecuteTime": {
     "end_time": "2023-06-15T16:29:24.694675Z",
     "start_time": "2023-06-15T16:29:24.680752400Z"
    }
   },
   "id": "PTJjxy8xMEsZ",
   "execution_count": 14,
   "outputs": [
    {
     "data": {
      "text/plain": "(607, 512)"
     },
     "execution_count": 14,
     "metadata": {},
     "output_type": "execute_result"
    }
   ]
  },
  {
   "cell_type": "code",
   "source": [
    "train_index, valid_index = train_test_split(list(range(len(X))), test_size=0.05, stratify=data.topic)"
   ],
   "metadata": {
    "id": "qDqitirSMGct",
    "ExecuteTime": {
     "end_time": "2023-06-15T16:29:24.709256400Z",
     "start_time": "2023-06-15T16:29:24.695674600Z"
    }
   },
   "id": "qDqitirSMGct",
   "execution_count": 15,
   "outputs": []
  },
  {
   "cell_type": "code",
   "source": [
    "X_train, y_train = X[train_index], y[train_index]\n",
    "X_valid, y_valid = X[valid_index], y[valid_index]"
   ],
   "metadata": {
    "id": "oFiGjaLQMIHI",
    "ExecuteTime": {
     "end_time": "2023-06-15T16:29:24.769506400Z",
     "start_time": "2023-06-15T16:29:24.710667100Z"
    }
   },
   "id": "oFiGjaLQMIHI",
   "execution_count": 16,
   "outputs": []
  },
  {
   "cell_type": "code",
   "source": [
    "input_word_ids = tf.keras.layers.Input(shape=(512,), dtype=tf.int32,\n",
    "                                     name=\"input_ids\")\n",
    "output = model_1(input_word_ids)\n",
    "drop = tf.keras.layers.Dropout(0.1)(output[0][:, 0])\n",
    "dense = tf.keras.layers.Dense(y.shape[1], activation='softmax')(drop)\n",
    "\n",
    "model_1_clf = tf.keras.Model(inputs=input_word_ids, outputs=dense)\n",
    "\n",
    "model_1_clf.compile(tf.optimizers.Adam(learning_rate=2e-6),\n",
    "                  loss='categorical_crossentropy',\n",
    "                  metrics=['accuracy',\n",
    "                           tf.keras.metrics.RecallAtPrecision(0.80, name='rec_prec')])"
   ],
   "metadata": {
    "id": "u1Km0Qx0MXjg"
   },
   "id": "u1Km0Qx0MXjg",
   "execution_count": 44,
   "outputs": []
  },
  {
   "cell_type": "code",
   "source": [
    "model_1_clf.fit(X_train, y_train,\n",
    "          validation_data=(X_valid, y_valid),\n",
    "          batch_size=4,\n",
    "         epochs=20)"
   ],
   "metadata": {
    "id": "LTK0EJ6QO3tn",
    "outputId": "f5fab7b9-5063-49cb-9d21-494c4ae9be70",
    "colab": {
     "base_uri": "https://localhost:8080/"
    }
   },
   "id": "LTK0EJ6QO3tn",
   "execution_count": 45,
   "outputs": [
    {
     "output_type": "stream",
     "name": "stdout",
     "text": [
      "Epoch 1/20\n"
     ]
    },
    {
     "output_type": "stream",
     "name": "stderr",
     "text": [
      "WARNING:tensorflow:Gradients do not exist for variables ['tf_bert_model/bert/pooler/dense/kernel:0', 'tf_bert_model/bert/pooler/dense/bias:0'] when minimizing the loss. If you're using `model.compile()`, did you forget to provide a `loss` argument?\n",
      "WARNING:tensorflow:Gradients do not exist for variables ['tf_bert_model/bert/pooler/dense/kernel:0', 'tf_bert_model/bert/pooler/dense/bias:0'] when minimizing the loss. If you're using `model.compile()`, did you forget to provide a `loss` argument?\n",
      "WARNING:tensorflow:Gradients do not exist for variables ['tf_bert_model/bert/pooler/dense/kernel:0', 'tf_bert_model/bert/pooler/dense/bias:0'] when minimizing the loss. If you're using `model.compile()`, did you forget to provide a `loss` argument?\n",
      "WARNING:tensorflow:Gradients do not exist for variables ['tf_bert_model/bert/pooler/dense/kernel:0', 'tf_bert_model/bert/pooler/dense/bias:0'] when minimizing the loss. If you're using `model.compile()`, did you forget to provide a `loss` argument?\n"
     ]
    },
    {
     "output_type": "stream",
     "name": "stdout",
     "text": [
      "144/144 [==============================] - 124s 543ms/step - loss: 2.9215 - accuracy: 0.0642 - rec_prec: 0.0000e+00 - val_loss: 2.7457 - val_accuracy: 0.0968 - val_rec_prec: 0.0000e+00\n",
      "Epoch 2/20\n",
      "144/144 [==============================] - 73s 508ms/step - loss: 2.8350 - accuracy: 0.0642 - rec_prec: 0.0000e+00 - val_loss: 2.7765 - val_accuracy: 0.0645 - val_rec_prec: 0.0000e+00\n",
      "Epoch 3/20\n",
      "144/144 [==============================] - 72s 501ms/step - loss: 2.8414 - accuracy: 0.0816 - rec_prec: 0.0000e+00 - val_loss: 2.7465 - val_accuracy: 0.0323 - val_rec_prec: 0.0000e+00\n",
      "Epoch 4/20\n",
      "144/144 [==============================] - 74s 513ms/step - loss: 2.7803 - accuracy: 0.0816 - rec_prec: 0.0000e+00 - val_loss: 2.7702 - val_accuracy: 0.0645 - val_rec_prec: 0.0000e+00\n",
      "Epoch 5/20\n",
      "144/144 [==============================] - 75s 524ms/step - loss: 2.7952 - accuracy: 0.0694 - rec_prec: 0.0000e+00 - val_loss: 2.7449 - val_accuracy: 0.0968 - val_rec_prec: 0.0000e+00\n",
      "Epoch 6/20\n",
      "144/144 [==============================] - 73s 508ms/step - loss: 2.7778 - accuracy: 0.0538 - rec_prec: 0.0000e+00 - val_loss: 2.7077 - val_accuracy: 0.1290 - val_rec_prec: 0.0000e+00\n",
      "Epoch 7/20\n",
      "144/144 [==============================] - 73s 507ms/step - loss: 2.7471 - accuracy: 0.0885 - rec_prec: 0.0000e+00 - val_loss: 2.6457 - val_accuracy: 0.1935 - val_rec_prec: 0.0323\n",
      "Epoch 8/20\n",
      "144/144 [==============================] - 74s 511ms/step - loss: 2.6356 - accuracy: 0.1545 - rec_prec: 0.0035 - val_loss: 2.4936 - val_accuracy: 0.2581 - val_rec_prec: 0.0000e+00\n",
      "Epoch 9/20\n",
      "144/144 [==============================] - 73s 507ms/step - loss: 2.3316 - accuracy: 0.2951 - rec_prec: 0.0069 - val_loss: 2.1646 - val_accuracy: 0.2903 - val_rec_prec: 0.0000e+00\n",
      "Epoch 10/20\n",
      "144/144 [==============================] - 74s 513ms/step - loss: 1.8283 - accuracy: 0.4722 - rec_prec: 0.1823 - val_loss: 1.7431 - val_accuracy: 0.4516 - val_rec_prec: 0.2903\n",
      "Epoch 11/20\n",
      "144/144 [==============================] - 73s 510ms/step - loss: 1.5156 - accuracy: 0.5573 - rec_prec: 0.2622 - val_loss: 1.6026 - val_accuracy: 0.4194 - val_rec_prec: 0.1290\n",
      "Epoch 12/20\n",
      "144/144 [==============================] - 72s 501ms/step - loss: 1.1526 - accuracy: 0.6528 - rec_prec: 0.5139 - val_loss: 1.4328 - val_accuracy: 0.4194 - val_rec_prec: 0.3548\n",
      "Epoch 13/20\n",
      "144/144 [==============================] - 73s 509ms/step - loss: 0.9968 - accuracy: 0.7222 - rec_prec: 0.5972 - val_loss: 1.3646 - val_accuracy: 0.4194 - val_rec_prec: 0.3548\n",
      "Epoch 14/20\n",
      "144/144 [==============================] - 72s 500ms/step - loss: 0.8564 - accuracy: 0.7535 - rec_prec: 0.7049 - val_loss: 1.2808 - val_accuracy: 0.6129 - val_rec_prec: 0.2903\n",
      "Epoch 15/20\n",
      "144/144 [==============================] - 73s 508ms/step - loss: 0.6987 - accuracy: 0.8212 - rec_prec: 0.8351 - val_loss: 1.2315 - val_accuracy: 0.5806 - val_rec_prec: 0.4516\n",
      "Epoch 16/20\n",
      "144/144 [==============================] - 73s 509ms/step - loss: 0.5626 - accuracy: 0.8490 - rec_prec: 0.9062 - val_loss: 1.2012 - val_accuracy: 0.6452 - val_rec_prec: 0.6452\n",
      "Epoch 17/20\n",
      "144/144 [==============================] - 73s 508ms/step - loss: 0.4787 - accuracy: 0.8993 - rec_prec: 0.9358 - val_loss: 1.2353 - val_accuracy: 0.5806 - val_rec_prec: 0.4194\n",
      "Epoch 18/20\n",
      "144/144 [==============================] - 73s 509ms/step - loss: 0.3997 - accuracy: 0.8993 - rec_prec: 0.9583 - val_loss: 1.2071 - val_accuracy: 0.6129 - val_rec_prec: 0.4194\n",
      "Epoch 19/20\n",
      "144/144 [==============================] - 72s 500ms/step - loss: 0.3154 - accuracy: 0.9410 - rec_prec: 0.9809 - val_loss: 1.2051 - val_accuracy: 0.6452 - val_rec_prec: 0.6129\n",
      "Epoch 20/20\n",
      "144/144 [==============================] - 73s 510ms/step - loss: 0.2719 - accuracy: 0.9462 - rec_prec: 0.9878 - val_loss: 1.2086 - val_accuracy: 0.6129 - val_rec_prec: 0.6129\n"
     ]
    },
    {
     "output_type": "execute_result",
     "data": {
      "text/plain": [
       "<keras.callbacks.History at 0x7fd9be2f94b0>"
      ]
     },
     "metadata": {},
     "execution_count": 45
    }
   ]
  },
  {
   "cell_type": "code",
   "source": [
    "print(model_1_clf.history.history.keys())\n",
    "plt.plot(model_1_clf.history.history['accuracy'])\n",
    "plt.plot(model_1_clf.history.history['val_accuracy'])\n",
    "plt.title('model rec_prec')\n",
    "plt.ylabel('rec_prec')\n",
    "plt.xlabel('epoch')\n",
    "plt.legend(['train', 'val'], loc='upper left')\n",
    "plt.show()"
   ],
   "metadata": {
    "id": "FS8LyCzEPegg",
    "outputId": "3d499630-228e-4078-e197-ec87f2a3d1c9",
    "colab": {
     "base_uri": "https://localhost:8080/",
     "height": 490
    }
   },
   "id": "FS8LyCzEPegg",
   "execution_count": 46,
   "outputs": [
    {
     "output_type": "stream",
     "name": "stdout",
     "text": [
      "dict_keys(['loss', 'accuracy', 'rec_prec', 'val_loss', 'val_accuracy', 'val_rec_prec'])\n"
     ]
    },
    {
     "output_type": "display_data",
     "data": {
      "text/plain": [
       "<Figure size 640x480 with 1 Axes>"
      ],
      "image/png": "[encoded data removed]"
     },
     "metadata": {}
    }
   ]
  },
  {
   "cell_type": "code",
   "source": [
    "from sklearn.metrics import classification_report"
   ],
   "metadata": {
    "id": "WTvgwrpQPitk",
    "ExecuteTime": {
     "end_time": "2023-06-15T16:29:24.784537100Z",
     "start_time": "2023-06-15T16:29:24.725737100Z"
    }
   },
   "id": "WTvgwrpQPitk",
   "execution_count": 17,
   "outputs": []
  },
  {
   "cell_type": "code",
   "source": [
    "pred = model_1_clf.predict(X_valid, batch_size=5).argmax(1)"
   ],
   "metadata": {
    "id": "n79KKYsNPjhg",
    "outputId": "c29cff8b-7cd1-4646-d800-1867576adc0b",
    "colab": {
     "base_uri": "https://localhost:8080/"
    }
   },
   "id": "n79KKYsNPjhg",
   "execution_count": 48,
   "outputs": [
    {
     "output_type": "stream",
     "name": "stdout",
     "text": [
      "7/7 [==============================] - 4s 198ms/step\n"
     ]
    }
   ]
  },
  {
   "cell_type": "code",
   "source": [
    "print(classification_report(y_valid.argmax(1), pred, labels=list(range(len(label2id))),\n",
    "                            target_names=list(label2id), zero_division=0))"
   ],
   "metadata": {
    "id": "iDImYXcSPlUe",
    "outputId": "38adfcf7-a096-4db7-f2e8-969e6a101fe5",
    "colab": {
     "base_uri": "https://localhost:8080/"
    }
   },
   "id": "iDImYXcSPlUe",
   "execution_count": 49,
   "outputs": [
    {
     "output_type": "stream",
     "name": "stdout",
     "text": [
      "                   precision    recall  f1-score   support\n",
      "\n",
      "           Россия       0.50      0.50      0.50         2\n",
      "              Дом       0.50      0.50      0.50         2\n",
      "Силовые структуры       0.50      0.50      0.50         2\n",
      "   69-я параллель       1.00      1.00      1.00         1\n",
      "  Наука и техника       0.67      0.67      0.67         3\n",
      "         Из жизни       1.00      0.33      0.50         3\n",
      "      Бывший СССР       0.40      0.67      0.50         3\n",
      "           Бизнес       1.00      1.00      1.00         2\n",
      "            Спорт       1.00      1.00      1.00         2\n",
      "             Крым       0.00      0.00      0.00         0\n",
      "       Библиотека       0.00      0.00      0.00         0\n",
      "        Экономика       1.00      1.00      1.00         2\n",
      "   Интернет и СМИ       0.33      0.50      0.40         2\n",
      "         Культура       0.33      0.33      0.33         3\n",
      "              Мир       0.00      0.00      0.00         1\n",
      "          Легпром       0.00      0.00      0.00         1\n",
      "         Ценности       1.00      1.00      1.00         2\n",
      "\n",
      "        micro avg       0.61      0.61      0.61        31\n",
      "        macro avg       0.54      0.53      0.52        31\n",
      "     weighted avg       0.64      0.61      0.61        31\n",
      "\n"
     ]
    }
   ]
  },
  {
   "cell_type": "markdown",
   "source": [
    "# Не совсем понял про бейзлайн"
   ],
   "metadata": {
    "collapsed": false
   }
  },
  {
   "cell_type": "code",
   "execution_count": 38,
   "outputs": [
    {
     "name": "stderr",
     "output_type": "stream",
     "text": [
      "Some weights of the PyTorch model were not used when initializing the TF 2.0 model TFBertForSequenceClassification: ['bert.embeddings.position_ids']\n",
      "- This IS expected if you are initializing TFBertForSequenceClassification from a PyTorch model trained on another task or with another architecture (e.g. initializing a TFBertForSequenceClassification model from a BertForPreTraining model).\n",
      "- This IS NOT expected if you are initializing TFBertForSequenceClassification from a PyTorch model that you expect to be exactly identical (e.g. initializing a TFBertForSequenceClassification model from a BertForSequenceClassification model).\n",
      "Some weights or buffers of the TF 2.0 model TFBertForSequenceClassification were not initialized from the PyTorch model and are newly initialized: ['classifier.weight', 'classifier.bias']\n",
      "You should probably TRAIN this model on a down-stream task to be able to use it for predictions and inference.\n"
     ]
    },
    {
     "name": "stdout",
     "output_type": "stream",
     "text": [
      "                   precision    recall  f1-score   support\n",
      "\n",
      "           Россия       0.06      1.00      0.12         2\n",
      "         Ценности       0.00      0.00      0.00         2\n",
      "        Экономика       0.00      0.00      0.00         2\n",
      "              Мир       0.00      0.00      0.00         1\n",
      "   69-я параллель       0.00      0.00      0.00         1\n",
      "Силовые структуры       0.00      0.00      0.00         2\n",
      "      Бывший СССР       0.00      0.00      0.00         3\n",
      "   Интернет и СМИ       0.00      0.00      0.00         2\n",
      "         Из жизни       0.00      0.00      0.00         3\n",
      "          Легпром       0.00      0.00      0.00         1\n",
      "         Культура       0.00      0.00      0.00         3\n",
      "  Наука и техника       0.00      0.00      0.00         3\n",
      "            Спорт       0.00      0.00      0.00         2\n",
      "              Дом       0.00      0.00      0.00         2\n",
      "           Бизнес       0.00      0.00      0.00         2\n",
      "             Крым       0.00      0.00      0.00         0\n",
      "       Библиотека       0.00      0.00      0.00         0\n",
      "\n",
      "        micro avg       0.06      0.06      0.06        31\n",
      "        macro avg       0.00      0.06      0.01        31\n",
      "     weighted avg       0.00      0.06      0.01        31\n",
      "\n"
     ]
    }
   ],
   "source": [
    "from transformers import AutoTokenizer, TFAutoModelForSequenceClassification\n",
    "from sklearn.metrics import classification_report\n",
    "from sklearn.model_selection import train_test_split\n",
    "\n",
    "tokenizer_1 = AutoTokenizer.from_pretrained(\"DeepPavlov/rubert-base-cased\")\n",
    "model_base_1 = TFAutoModelForSequenceClassification.from_pretrained(\"DeepPavlov/rubert-base-cased\", from_pt=True)\n",
    "\n",
    "# Токенизация текстов из колонки title\n",
    "X = []\n",
    "\n",
    "for text in data.title:\n",
    "    ids = tokenizer_1.encode(text)\n",
    "    X.append(ids[:512])\n",
    "\n",
    "X = tf.keras.preprocessing.sequence.pad_sequences(X, padding='post', maxlen=512)\n",
    "\n",
    "id2label = {i:label for i, label in enumerate(set(data.topic.values))}\n",
    "label2id = {l:i for i, l in id2label.items()}\n",
    "\n",
    "y = tf.keras.utils.to_categorical([label2id[label] for label in data.topic.values])\n",
    "\n",
    "# Разделение данных на обучающую и валидационную выборки\n",
    "train_index, valid_index = train_test_split(list(range(len(X))), test_size=0.05, stratify=data.topic)\n",
    "X_train, y_train = X[train_index], y[train_index]\n",
    "X_valid, y_valid = X[valid_index], y[valid_index]\n",
    "\n",
    "# Получение предсказаний модели на валидационных данных\n",
    "logits = model_base_1(X_valid).logits\n",
    "pred_base = tf.nn.softmax(logits, axis=-1).numpy().argmax(axis=-1)\n",
    "\n",
    "# Вычисление метрик качества\n",
    "print(classification_report(y_valid.argmax(axis=-1), pred_base, labels=list(range(len(label2id))),\n",
    "                            target_names=list(label2id), zero_division=0))"
   ],
   "metadata": {
    "collapsed": false,
    "ExecuteTime": {
     "end_time": "2023-06-15T16:57:31.296972400Z",
     "start_time": "2023-06-15T16:57:15.908444600Z"
    }
   }
  },
  {
   "cell_type": "markdown",
   "source": [
    "# Модель 2"
   ],
   "metadata": {
    "id": "0G6w-l1dQzHu"
   },
   "id": "0G6w-l1dQzHu"
  },
  {
   "cell_type": "code",
   "source": [
    "tokenizer_2 = AutoTokenizer.from_pretrained(\"roberta-base\")\n",
    "model_2 = TFAutoModel.from_pretrained(\"roberta-base\", from_pt=True)"
   ],
   "metadata": {
    "id": "Kten6MGbQJS3",
    "outputId": "5cf0881d-6d4a-4813-91b4-e955ac63af47",
    "colab": {
     "base_uri": "https://localhost:8080/",
     "height": 289,
     "referenced_widgets": [
      "6d250931074043c8a4eb92ed20c2253d",
      "6a758e5e1a114c6590bd89c445948999",
      "89a05a7c2e6c442693ca0ffa1e90b5b6",
      "d1140d69dd504ee38b7b0d6e0fad7551",
      "0e08c737256744758610c894b08ecb5b",
      "abe4107cccac4c739ceec256c0df50fb",
      "193da684d8fb4efbb757d77e51bbc503",
      "a14d0bebc56245e293ce422667ad6f0c",
      "483cb2729607412ba9eaa84c53075532",
      "e5a08c7e98204f6491046b42ffd77522",
      "b4b782369b0f4790acd424e95fb5c26a",
      "7ee2098006094bf1a234606cdfde9bb6",
      "6a13efc8e0f74689b855d8fe436a82d6",
      "1b65de2db0284b98aa07664227d7d345",
      "24dc128345c34a8f92c94edac46914f6",
      "b9515032b71f4e52b969f83d2289e521",
      "bb4e1de4ef084633b5ba8bcfb131cc4c",
      "05bfa945bc044f8e8ea9205c134213b3",
      "78184c7555824393b41bdea950cbaa1d",
      "3a04ab5593194ad2a190072454de6c6d",
      "52b0dbc169e94918b1d784319fa15497",
      "1bb00ce2513d496cb329ccf55755c001",
      "5fb1d8ce209c4db8950e4fe84496ad45",
      "27b9dd6b96464f2fb162c729028ed850",
      "bb4fb26e91c74fe79536a0f07bb5ac16",
      "7d58187a4dfb4ce7be6854a486982317",
      "b482eb2ff4a74cd9bc8694d488651463",
      "941e729f97b94158850b3cb2d46562c1",
      "797f32f1545e4b7aab1a7d0c33d654bf",
      "7373f4167aef4d2e958ce306798d657c",
      "bd679d9341c6438889103cda17d98e8b",
      "5e69a80d1f334eac8c57ae614e059373",
      "99dfb52258404e95b153672315886308",
      "102252218f684454861bddd393a47701",
      "7966ed8115b74ca49363d012853030cc",
      "a113d3a28ff44e98a18f58693eec160e",
      "d7a80f638388436a99a7132408fea727",
      "a8abc1fecc3446bd94ceb41ad30da080",
      "16ac21e268934256ad92b75086fec48e",
      "be10e258249748dd8629c73c00bd1759",
      "426ddec4ec1c4477a8082c0ff7134dfd",
      "3a277b87c05b44c09e7a723cdba171f8",
      "b70369ca81274934abbc2166e4d8e6d7",
      "f16fd707cd73454399d87c74cdaaeec4",
      "847c72b67b344b5b955a6c6267918585",
      "ff7b8659575c402b9b646d2a1a6b6686",
      "89645ab6e2f34aa490ff6f358efae8d3",
      "15db89e967884232b7cb369aa102cbf1",
      "4406af5af64c42e8bd6fae4440d74cac",
      "2ca4c194333a4516a9fb80cb74e687ca",
      "463588b4c8234dd9929c03a77054ca78",
      "c748853e5a2748bea730d601ace63a04",
      "7a80ab93e8414a03b9f0ef93469081c7",
      "0b1ff1799757471ab9c04c24fc9539c1",
      "def3c3d158cf4cbb94bd64299e1793c9"
     ]
    },
    "ExecuteTime": {
     "end_time": "2023-06-15T17:00:33.749486Z",
     "start_time": "2023-06-15T16:59:40.001262900Z"
    }
   },
   "id": "Kten6MGbQJS3",
   "execution_count": 39,
   "outputs": [
    {
     "data": {
      "text/plain": "Downloading (…)lve/main/config.json:   0%|          | 0.00/481 [00:00<?, ?B/s]",
      "application/vnd.jupyter.widget-view+json": {
       "version_major": 2,
       "version_minor": 0,
       "model_id": "f20f35c2e17341b6b8fb297537c9bdd2"
      }
     },
     "metadata": {},
     "output_type": "display_data"
    },
    {
     "data": {
      "text/plain": "Downloading (…)olve/main/vocab.json:   0%|          | 0.00/899k [00:00<?, ?B/s]",
      "application/vnd.jupyter.widget-view+json": {
       "version_major": 2,
       "version_minor": 0,
       "model_id": "cdb30a7b7f9347b5a46f04c48a2a4643"
      }
     },
     "metadata": {},
     "output_type": "display_data"
    },
    {
     "data": {
      "text/plain": "Downloading (…)olve/main/merges.txt:   0%|          | 0.00/456k [00:00<?, ?B/s]",
      "application/vnd.jupyter.widget-view+json": {
       "version_major": 2,
       "version_minor": 0,
       "model_id": "92a0a291ac7547bfb99e671cd6d896b4"
      }
     },
     "metadata": {},
     "output_type": "display_data"
    },
    {
     "data": {
      "text/plain": "Downloading (…)/main/tokenizer.json:   0%|          | 0.00/1.36M [00:00<?, ?B/s]",
      "application/vnd.jupyter.widget-view+json": {
       "version_major": 2,
       "version_minor": 0,
       "model_id": "747c84bcd9144e30b12a6c25dbd5c002"
      }
     },
     "metadata": {},
     "output_type": "display_data"
    },
    {
     "data": {
      "text/plain": "Downloading pytorch_model.bin:   0%|          | 0.00/501M [00:00<?, ?B/s]",
      "application/vnd.jupyter.widget-view+json": {
       "version_major": 2,
       "version_minor": 0,
       "model_id": "73a98f7eea664e07bf1ce11c6b0b5250"
      }
     },
     "metadata": {},
     "output_type": "display_data"
    },
    {
     "name": "stderr",
     "output_type": "stream",
     "text": [
      "Some weights of the PyTorch model were not used when initializing the TF 2.0 model TFRobertaModel: ['lm_head.decoder.weight', 'lm_head.bias', 'lm_head.layer_norm.weight', 'lm_head.dense.bias', 'lm_head.dense.weight', 'lm_head.layer_norm.bias']\n",
      "- This IS expected if you are initializing TFRobertaModel from a PyTorch model trained on another task or with another architecture (e.g. initializing a TFBertForSequenceClassification model from a BertForPreTraining model).\n",
      "- This IS NOT expected if you are initializing TFRobertaModel from a PyTorch model that you expect to be exactly identical (e.g. initializing a TFBertForSequenceClassification model from a BertForSequenceClassification model).\n",
      "All the weights of TFRobertaModel were initialized from the PyTorch model.\n",
      "If your task is similar to the task the model of the checkpoint was trained on, you can already use TFRobertaModel for predictions without further training.\n"
     ]
    }
   ]
  },
  {
   "cell_type": "code",
   "source": [
    "# переводим тексты в последовательности индексов\n",
    "# У берта есть ограничение на максимальную длину последовательности - 512\n",
    "# Для заголовков это не очень актуально, но для других данных пригодится\n",
    "\n",
    "X = []\n",
    "\n",
    "for text in data.title:\n",
    "    ids = tokenizer_2.encode(text)\n",
    "\n",
    "    X.append(ids[:512])"
   ],
   "metadata": {
    "id": "KOyOUmfxQR9W",
    "ExecuteTime": {
     "end_time": "2023-06-15T17:00:46.020322900Z",
     "start_time": "2023-06-15T17:00:45.961488600Z"
    }
   },
   "id": "KOyOUmfxQR9W",
   "execution_count": 40,
   "outputs": []
  },
  {
   "cell_type": "code",
   "source": [
    "X = tf.keras.preprocessing.sequence.pad_sequences(X, padding='post', maxlen=512)"
   ],
   "metadata": {
    "id": "7MD9KBZYQVHA",
    "ExecuteTime": {
     "end_time": "2023-06-15T17:00:47.982950800Z",
     "start_time": "2023-06-15T17:00:47.972443Z"
    }
   },
   "id": "7MD9KBZYQVHA",
   "execution_count": 41,
   "outputs": []
  },
  {
   "cell_type": "code",
   "source": [
    "id2label = {i:label for i, label in enumerate(set(data.topic.values))}\n",
    "label2id = {l:i for i, l in id2label.items()}\n",
    "\n",
    "y = tf.keras.utils.to_categorical([label2id[label] for label in data.topic.values])"
   ],
   "metadata": {
    "id": "fJl0kYZzQXlG",
    "ExecuteTime": {
     "end_time": "2023-06-15T17:00:48.475552500Z",
     "start_time": "2023-06-15T17:00:48.451507800Z"
    }
   },
   "id": "fJl0kYZzQXlG",
   "execution_count": 42,
   "outputs": []
  },
  {
   "cell_type": "code",
   "source": [
    "train_index, valid_index = train_test_split(list(range(len(X))), test_size=0.05, stratify=data.topic)"
   ],
   "metadata": {
    "id": "YgvgY3c8Qbio",
    "ExecuteTime": {
     "end_time": "2023-06-15T17:00:48.870500Z",
     "start_time": "2023-06-15T17:00:48.845426700Z"
    }
   },
   "id": "YgvgY3c8Qbio",
   "execution_count": 43,
   "outputs": []
  },
  {
   "cell_type": "code",
   "source": [
    "X_train, y_train = X[train_index], y[train_index]\n",
    "X_valid, y_valid = X[valid_index], y[valid_index]"
   ],
   "metadata": {
    "id": "NnbdApGQQbfl",
    "ExecuteTime": {
     "end_time": "2023-06-15T17:00:49.434631700Z",
     "start_time": "2023-06-15T17:00:49.411468100Z"
    }
   },
   "id": "NnbdApGQQbfl",
   "execution_count": 44,
   "outputs": []
  },
  {
   "cell_type": "code",
   "source": [
    "input_word_ids = tf.keras.layers.Input(shape=(512,), dtype=tf.int32,\n",
    "                                     name=\"input_ids\")\n",
    "output = model_2(input_word_ids)\n",
    "drop = tf.keras.layers.Dropout(0.1)(output[0][:, 0])\n",
    "dense = tf.keras.layers.Dense(y.shape[1], activation='softmax')(drop)\n",
    "\n",
    "model_2_clf = tf.keras.Model(inputs=input_word_ids, outputs=dense)\n",
    "\n",
    "model_2_clf.compile(tf.optimizers.Adam(learning_rate=2e-6),\n",
    "                  loss='categorical_crossentropy',\n",
    "                  metrics=['accuracy',\n",
    "                           tf.keras.metrics.RecallAtPrecision(0.80, name='rec_prec')])"
   ],
   "metadata": {
    "id": "kDj3hXvZQbZV",
    "ExecuteTime": {
     "end_time": "2023-06-15T17:00:52.891397700Z",
     "start_time": "2023-06-15T17:00:50.619054Z"
    }
   },
   "id": "kDj3hXvZQbZV",
   "execution_count": 45,
   "outputs": []
  },
  {
   "cell_type": "code",
   "source": [
    "model_2_clf.fit(X_train, y_train,\n",
    "          validation_data=(X_valid, y_valid),\n",
    "          batch_size=4,\n",
    "         epochs=20)"
   ],
   "metadata": {
    "id": "A2TR9jx1Ql9v",
    "outputId": "1e854806-f4d6-4bb9-c774-fe25c3c6bbad",
    "colab": {
     "base_uri": "https://localhost:8080/"
    },
    "ExecuteTime": {
     "end_time": "2023-06-15T17:04:01.247502900Z",
     "start_time": "2023-06-15T17:00:55.956819200Z"
    }
   },
   "id": "A2TR9jx1Ql9v",
   "execution_count": 46,
   "outputs": [
    {
     "name": "stdout",
     "output_type": "stream",
     "text": [
      "Epoch 1/20\n",
      "WARNING:tensorflow:Gradients do not exist for variables ['tf_roberta_model/roberta/pooler/dense/kernel:0', 'tf_roberta_model/roberta/pooler/dense/bias:0'] when minimizing the loss. If you're using `model.compile()`, did you forget to provide a `loss` argument?\n",
      "WARNING:tensorflow:Gradients do not exist for variables ['tf_roberta_model/roberta/pooler/dense/kernel:0', 'tf_roberta_model/roberta/pooler/dense/bias:0'] when minimizing the loss. If you're using `model.compile()`, did you forget to provide a `loss` argument?\n",
      "WARNING:tensorflow:Gradients do not exist for variables ['tf_roberta_model/roberta/pooler/dense/kernel:0', 'tf_roberta_model/roberta/pooler/dense/bias:0'] when minimizing the loss. If you're using `model.compile()`, did you forget to provide a `loss` argument?\n",
      "WARNING:tensorflow:Gradients do not exist for variables ['tf_roberta_model/roberta/pooler/dense/kernel:0', 'tf_roberta_model/roberta/pooler/dense/bias:0'] when minimizing the loss. If you're using `model.compile()`, did you forget to provide a `loss` argument?\n",
      " 32/144 [=====>........................] - ETA: 9:58 - loss: 3.1092 - accuracy: 0.0391 - rec_prec: 0.0000e+00"
     ]
    },
    {
     "ename": "KeyboardInterrupt",
     "evalue": "",
     "output_type": "error",
     "traceback": [
      "\u001B[1;31m---------------------------------------------------------------------------\u001B[0m",
      "\u001B[1;31mKeyboardInterrupt\u001B[0m                         Traceback (most recent call last)",
      "\u001B[1;32m~\\AppData\\Local\\Temp\\ipykernel_22592\\3274318241.py\u001B[0m in \u001B[0;36m<module>\u001B[1;34m\u001B[0m\n\u001B[0;32m      2\u001B[0m           \u001B[0mvalidation_data\u001B[0m\u001B[1;33m=\u001B[0m\u001B[1;33m(\u001B[0m\u001B[0mX_valid\u001B[0m\u001B[1;33m,\u001B[0m \u001B[0my_valid\u001B[0m\u001B[1;33m)\u001B[0m\u001B[1;33m,\u001B[0m\u001B[1;33m\u001B[0m\u001B[1;33m\u001B[0m\u001B[0m\n\u001B[0;32m      3\u001B[0m           \u001B[0mbatch_size\u001B[0m\u001B[1;33m=\u001B[0m\u001B[1;36m4\u001B[0m\u001B[1;33m,\u001B[0m\u001B[1;33m\u001B[0m\u001B[1;33m\u001B[0m\u001B[0m\n\u001B[1;32m----> 4\u001B[1;33m          epochs=20)\n\u001B[0m",
      "\u001B[1;32m~\\PycharmProjects\\HSE_NLP\\venv2\\lib\\site-packages\\keras\\utils\\traceback_utils.py\u001B[0m in \u001B[0;36merror_handler\u001B[1;34m(*args, **kwargs)\u001B[0m\n\u001B[0;32m     63\u001B[0m         \u001B[0mfiltered_tb\u001B[0m \u001B[1;33m=\u001B[0m \u001B[1;32mNone\u001B[0m\u001B[1;33m\u001B[0m\u001B[1;33m\u001B[0m\u001B[0m\n\u001B[0;32m     64\u001B[0m         \u001B[1;32mtry\u001B[0m\u001B[1;33m:\u001B[0m\u001B[1;33m\u001B[0m\u001B[1;33m\u001B[0m\u001B[0m\n\u001B[1;32m---> 65\u001B[1;33m             \u001B[1;32mreturn\u001B[0m \u001B[0mfn\u001B[0m\u001B[1;33m(\u001B[0m\u001B[1;33m*\u001B[0m\u001B[0margs\u001B[0m\u001B[1;33m,\u001B[0m \u001B[1;33m**\u001B[0m\u001B[0mkwargs\u001B[0m\u001B[1;33m)\u001B[0m\u001B[1;33m\u001B[0m\u001B[1;33m\u001B[0m\u001B[0m\n\u001B[0m\u001B[0;32m     66\u001B[0m         \u001B[1;32mexcept\u001B[0m \u001B[0mException\u001B[0m \u001B[1;32mas\u001B[0m \u001B[0me\u001B[0m\u001B[1;33m:\u001B[0m\u001B[1;33m\u001B[0m\u001B[1;33m\u001B[0m\u001B[0m\n\u001B[0;32m     67\u001B[0m             \u001B[0mfiltered_tb\u001B[0m \u001B[1;33m=\u001B[0m \u001B[0m_process_traceback_frames\u001B[0m\u001B[1;33m(\u001B[0m\u001B[0me\u001B[0m\u001B[1;33m.\u001B[0m\u001B[0m__traceback__\u001B[0m\u001B[1;33m)\u001B[0m\u001B[1;33m\u001B[0m\u001B[1;33m\u001B[0m\u001B[0m\n",
      "\u001B[1;32m~\\PycharmProjects\\HSE_NLP\\venv2\\lib\\site-packages\\keras\\engine\\training.py\u001B[0m in \u001B[0;36mfit\u001B[1;34m(self, x, y, batch_size, epochs, verbose, callbacks, validation_split, validation_data, shuffle, class_weight, sample_weight, initial_epoch, steps_per_epoch, validation_steps, validation_batch_size, validation_freq, max_queue_size, workers, use_multiprocessing)\u001B[0m\n\u001B[0;32m   1648\u001B[0m                         ):\n\u001B[0;32m   1649\u001B[0m                             \u001B[0mcallbacks\u001B[0m\u001B[1;33m.\u001B[0m\u001B[0mon_train_batch_begin\u001B[0m\u001B[1;33m(\u001B[0m\u001B[0mstep\u001B[0m\u001B[1;33m)\u001B[0m\u001B[1;33m\u001B[0m\u001B[1;33m\u001B[0m\u001B[0m\n\u001B[1;32m-> 1650\u001B[1;33m                             \u001B[0mtmp_logs\u001B[0m \u001B[1;33m=\u001B[0m \u001B[0mself\u001B[0m\u001B[1;33m.\u001B[0m\u001B[0mtrain_function\u001B[0m\u001B[1;33m(\u001B[0m\u001B[0miterator\u001B[0m\u001B[1;33m)\u001B[0m\u001B[1;33m\u001B[0m\u001B[1;33m\u001B[0m\u001B[0m\n\u001B[0m\u001B[0;32m   1651\u001B[0m                             \u001B[1;32mif\u001B[0m \u001B[0mdata_handler\u001B[0m\u001B[1;33m.\u001B[0m\u001B[0mshould_sync\u001B[0m\u001B[1;33m:\u001B[0m\u001B[1;33m\u001B[0m\u001B[1;33m\u001B[0m\u001B[0m\n\u001B[0;32m   1652\u001B[0m                                 \u001B[0mcontext\u001B[0m\u001B[1;33m.\u001B[0m\u001B[0masync_wait\u001B[0m\u001B[1;33m(\u001B[0m\u001B[1;33m)\u001B[0m\u001B[1;33m\u001B[0m\u001B[1;33m\u001B[0m\u001B[0m\n",
      "\u001B[1;32m~\\PycharmProjects\\HSE_NLP\\venv2\\lib\\site-packages\\tensorflow\\python\\util\\traceback_utils.py\u001B[0m in \u001B[0;36merror_handler\u001B[1;34m(*args, **kwargs)\u001B[0m\n\u001B[0;32m    148\u001B[0m     \u001B[0mfiltered_tb\u001B[0m \u001B[1;33m=\u001B[0m \u001B[1;32mNone\u001B[0m\u001B[1;33m\u001B[0m\u001B[1;33m\u001B[0m\u001B[0m\n\u001B[0;32m    149\u001B[0m     \u001B[1;32mtry\u001B[0m\u001B[1;33m:\u001B[0m\u001B[1;33m\u001B[0m\u001B[1;33m\u001B[0m\u001B[0m\n\u001B[1;32m--> 150\u001B[1;33m       \u001B[1;32mreturn\u001B[0m \u001B[0mfn\u001B[0m\u001B[1;33m(\u001B[0m\u001B[1;33m*\u001B[0m\u001B[0margs\u001B[0m\u001B[1;33m,\u001B[0m \u001B[1;33m**\u001B[0m\u001B[0mkwargs\u001B[0m\u001B[1;33m)\u001B[0m\u001B[1;33m\u001B[0m\u001B[1;33m\u001B[0m\u001B[0m\n\u001B[0m\u001B[0;32m    151\u001B[0m     \u001B[1;32mexcept\u001B[0m \u001B[0mException\u001B[0m \u001B[1;32mas\u001B[0m \u001B[0me\u001B[0m\u001B[1;33m:\u001B[0m\u001B[1;33m\u001B[0m\u001B[1;33m\u001B[0m\u001B[0m\n\u001B[0;32m    152\u001B[0m       \u001B[0mfiltered_tb\u001B[0m \u001B[1;33m=\u001B[0m \u001B[0m_process_traceback_frames\u001B[0m\u001B[1;33m(\u001B[0m\u001B[0me\u001B[0m\u001B[1;33m.\u001B[0m\u001B[0m__traceback__\u001B[0m\u001B[1;33m)\u001B[0m\u001B[1;33m\u001B[0m\u001B[1;33m\u001B[0m\u001B[0m\n",
      "\u001B[1;32m~\\PycharmProjects\\HSE_NLP\\venv2\\lib\\site-packages\\tensorflow\\python\\eager\\polymorphic_function\\polymorphic_function.py\u001B[0m in \u001B[0;36m__call__\u001B[1;34m(self, *args, **kwds)\u001B[0m\n\u001B[0;32m    878\u001B[0m \u001B[1;33m\u001B[0m\u001B[0m\n\u001B[0;32m    879\u001B[0m       \u001B[1;32mwith\u001B[0m \u001B[0mOptionalXlaContext\u001B[0m\u001B[1;33m(\u001B[0m\u001B[0mself\u001B[0m\u001B[1;33m.\u001B[0m\u001B[0m_jit_compile\u001B[0m\u001B[1;33m)\u001B[0m\u001B[1;33m:\u001B[0m\u001B[1;33m\u001B[0m\u001B[1;33m\u001B[0m\u001B[0m\n\u001B[1;32m--> 880\u001B[1;33m         \u001B[0mresult\u001B[0m \u001B[1;33m=\u001B[0m \u001B[0mself\u001B[0m\u001B[1;33m.\u001B[0m\u001B[0m_call\u001B[0m\u001B[1;33m(\u001B[0m\u001B[1;33m*\u001B[0m\u001B[0margs\u001B[0m\u001B[1;33m,\u001B[0m \u001B[1;33m**\u001B[0m\u001B[0mkwds\u001B[0m\u001B[1;33m)\u001B[0m\u001B[1;33m\u001B[0m\u001B[1;33m\u001B[0m\u001B[0m\n\u001B[0m\u001B[0;32m    881\u001B[0m \u001B[1;33m\u001B[0m\u001B[0m\n\u001B[0;32m    882\u001B[0m       \u001B[0mnew_tracing_count\u001B[0m \u001B[1;33m=\u001B[0m \u001B[0mself\u001B[0m\u001B[1;33m.\u001B[0m\u001B[0mexperimental_get_tracing_count\u001B[0m\u001B[1;33m(\u001B[0m\u001B[1;33m)\u001B[0m\u001B[1;33m\u001B[0m\u001B[1;33m\u001B[0m\u001B[0m\n",
      "\u001B[1;32m~\\PycharmProjects\\HSE_NLP\\venv2\\lib\\site-packages\\tensorflow\\python\\eager\\polymorphic_function\\polymorphic_function.py\u001B[0m in \u001B[0;36m_call\u001B[1;34m(self, *args, **kwds)\u001B[0m\n\u001B[0;32m    910\u001B[0m       \u001B[1;31m# In this case we have created variables on the first call, so we run the\u001B[0m\u001B[1;33m\u001B[0m\u001B[1;33m\u001B[0m\u001B[1;33m\u001B[0m\u001B[0m\n\u001B[0;32m    911\u001B[0m       \u001B[1;31m# defunned version which is guaranteed to never create variables.\u001B[0m\u001B[1;33m\u001B[0m\u001B[1;33m\u001B[0m\u001B[1;33m\u001B[0m\u001B[0m\n\u001B[1;32m--> 912\u001B[1;33m       \u001B[1;32mreturn\u001B[0m \u001B[0mself\u001B[0m\u001B[1;33m.\u001B[0m\u001B[0m_no_variable_creation_fn\u001B[0m\u001B[1;33m(\u001B[0m\u001B[1;33m*\u001B[0m\u001B[0margs\u001B[0m\u001B[1;33m,\u001B[0m \u001B[1;33m**\u001B[0m\u001B[0mkwds\u001B[0m\u001B[1;33m)\u001B[0m  \u001B[1;31m# pylint: disable=not-callable\u001B[0m\u001B[1;33m\u001B[0m\u001B[1;33m\u001B[0m\u001B[0m\n\u001B[0m\u001B[0;32m    913\u001B[0m     \u001B[1;32melif\u001B[0m \u001B[0mself\u001B[0m\u001B[1;33m.\u001B[0m\u001B[0m_variable_creation_fn\u001B[0m \u001B[1;32mis\u001B[0m \u001B[1;32mnot\u001B[0m \u001B[1;32mNone\u001B[0m\u001B[1;33m:\u001B[0m\u001B[1;33m\u001B[0m\u001B[1;33m\u001B[0m\u001B[0m\n\u001B[0;32m    914\u001B[0m       \u001B[1;31m# Release the lock early so that multiple threads can perform the call\u001B[0m\u001B[1;33m\u001B[0m\u001B[1;33m\u001B[0m\u001B[1;33m\u001B[0m\u001B[0m\n",
      "\u001B[1;32m~\\PycharmProjects\\HSE_NLP\\venv2\\lib\\site-packages\\tensorflow\\python\\eager\\polymorphic_function\\tracing_compiler.py\u001B[0m in \u001B[0;36m__call__\u001B[1;34m(self, *args, **kwargs)\u001B[0m\n\u001B[0;32m    133\u001B[0m        filtered_flat_args) = self._maybe_define_function(args, kwargs)\n\u001B[0;32m    134\u001B[0m     return concrete_function._call_flat(\n\u001B[1;32m--> 135\u001B[1;33m         filtered_flat_args, captured_inputs=concrete_function.captured_inputs)  # pylint: disable=protected-access\n\u001B[0m\u001B[0;32m    136\u001B[0m \u001B[1;33m\u001B[0m\u001B[0m\n\u001B[0;32m    137\u001B[0m   \u001B[1;33m@\u001B[0m\u001B[0mproperty\u001B[0m\u001B[1;33m\u001B[0m\u001B[1;33m\u001B[0m\u001B[0m\n",
      "\u001B[1;32m~\\PycharmProjects\\HSE_NLP\\venv2\\lib\\site-packages\\tensorflow\\python\\eager\\polymorphic_function\\monomorphic_function.py\u001B[0m in \u001B[0;36m_call_flat\u001B[1;34m(self, args, captured_inputs, cancellation_manager)\u001B[0m\n\u001B[0;32m   1744\u001B[0m       \u001B[1;31m# No tape is watching; skip to running the function.\u001B[0m\u001B[1;33m\u001B[0m\u001B[1;33m\u001B[0m\u001B[1;33m\u001B[0m\u001B[0m\n\u001B[0;32m   1745\u001B[0m       return self._build_call_outputs(self._inference_function.call(\n\u001B[1;32m-> 1746\u001B[1;33m           ctx, args, cancellation_manager=cancellation_manager))\n\u001B[0m\u001B[0;32m   1747\u001B[0m     forward_backward = self._select_forward_and_backward_functions(\n\u001B[0;32m   1748\u001B[0m         \u001B[0margs\u001B[0m\u001B[1;33m,\u001B[0m\u001B[1;33m\u001B[0m\u001B[1;33m\u001B[0m\u001B[0m\n",
      "\u001B[1;32m~\\PycharmProjects\\HSE_NLP\\venv2\\lib\\site-packages\\tensorflow\\python\\eager\\polymorphic_function\\monomorphic_function.py\u001B[0m in \u001B[0;36mcall\u001B[1;34m(self, ctx, args, cancellation_manager)\u001B[0m\n\u001B[0;32m    381\u001B[0m               \u001B[0minputs\u001B[0m\u001B[1;33m=\u001B[0m\u001B[0margs\u001B[0m\u001B[1;33m,\u001B[0m\u001B[1;33m\u001B[0m\u001B[1;33m\u001B[0m\u001B[0m\n\u001B[0;32m    382\u001B[0m               \u001B[0mattrs\u001B[0m\u001B[1;33m=\u001B[0m\u001B[0mattrs\u001B[0m\u001B[1;33m,\u001B[0m\u001B[1;33m\u001B[0m\u001B[1;33m\u001B[0m\u001B[0m\n\u001B[1;32m--> 383\u001B[1;33m               ctx=ctx)\n\u001B[0m\u001B[0;32m    384\u001B[0m         \u001B[1;32melse\u001B[0m\u001B[1;33m:\u001B[0m\u001B[1;33m\u001B[0m\u001B[1;33m\u001B[0m\u001B[0m\n\u001B[0;32m    385\u001B[0m           outputs = execute.execute_with_cancellation(\n",
      "\u001B[1;32m~\\PycharmProjects\\HSE_NLP\\venv2\\lib\\site-packages\\tensorflow\\python\\eager\\execute.py\u001B[0m in \u001B[0;36mquick_execute\u001B[1;34m(op_name, num_outputs, inputs, attrs, ctx, name)\u001B[0m\n\u001B[0;32m     51\u001B[0m     \u001B[0mctx\u001B[0m\u001B[1;33m.\u001B[0m\u001B[0mensure_initialized\u001B[0m\u001B[1;33m(\u001B[0m\u001B[1;33m)\u001B[0m\u001B[1;33m\u001B[0m\u001B[1;33m\u001B[0m\u001B[0m\n\u001B[0;32m     52\u001B[0m     tensors = pywrap_tfe.TFE_Py_Execute(ctx._handle, device_name, op_name,\n\u001B[1;32m---> 53\u001B[1;33m                                         inputs, attrs, num_outputs)\n\u001B[0m\u001B[0;32m     54\u001B[0m   \u001B[1;32mexcept\u001B[0m \u001B[0mcore\u001B[0m\u001B[1;33m.\u001B[0m\u001B[0m_NotOkStatusException\u001B[0m \u001B[1;32mas\u001B[0m \u001B[0me\u001B[0m\u001B[1;33m:\u001B[0m\u001B[1;33m\u001B[0m\u001B[1;33m\u001B[0m\u001B[0m\n\u001B[0;32m     55\u001B[0m     \u001B[1;32mif\u001B[0m \u001B[0mname\u001B[0m \u001B[1;32mis\u001B[0m \u001B[1;32mnot\u001B[0m \u001B[1;32mNone\u001B[0m\u001B[1;33m:\u001B[0m\u001B[1;33m\u001B[0m\u001B[1;33m\u001B[0m\u001B[0m\n",
      "\u001B[1;31mKeyboardInterrupt\u001B[0m: "
     ]
    }
   ]
  },
  {
   "cell_type": "code",
   "source": [
    "print(model_2_clf.history.history.keys())\n",
    "plt.plot(model_2_clf.history.history['accuracy'])\n",
    "plt.plot(model_2_clf.history.history['val_accuracy'])\n",
    "plt.title('model rec_prec')\n",
    "plt.ylabel('rec_prec')\n",
    "plt.xlabel('epoch')\n",
    "plt.legend(['train', 'val'], loc='upper left')\n",
    "plt.show()"
   ],
   "metadata": {
    "id": "1n0OwnKfQpAN",
    "outputId": "e7adf1e1-6991-446e-c439-f567f8e9cb8d",
    "colab": {
     "base_uri": "https://localhost:8080/",
     "height": 490
    },
    "ExecuteTime": {
     "start_time": "2023-06-15T14:17:49.084398500Z"
    }
   },
   "id": "1n0OwnKfQpAN",
   "execution_count": null,
   "outputs": []
  },
  {
   "cell_type": "code",
   "source": [
    "pred = model_2_clf.predict(X_valid, batch_size=5).argmax(1)"
   ],
   "metadata": {
    "id": "LUZaaxcJQuh-",
    "outputId": "f3f50445-d9ff-4848-d13a-b86395976e00",
    "colab": {
     "base_uri": "https://localhost:8080/"
    },
    "ExecuteTime": {
     "start_time": "2023-06-15T14:17:49.084398500Z"
    }
   },
   "id": "LUZaaxcJQuh-",
   "execution_count": null,
   "outputs": []
  },
  {
   "cell_type": "code",
   "source": [
    "print(classification_report(y_valid.argmax(1), pred, labels=list(range(len(label2id))),\n",
    "                            target_names=list(label2id), zero_division=0))"
   ],
   "metadata": {
    "id": "PoCwo9P6Qxov",
    "outputId": "d67a7c5c-17ca-4051-fac5-956df0477e3b",
    "colab": {
     "base_uri": "https://localhost:8080/"
    },
    "ExecuteTime": {
     "start_time": "2023-06-15T14:17:49.084398500Z"
    }
   },
   "id": "PoCwo9P6Qxov",
   "execution_count": null,
   "outputs": []
  },
  {
   "cell_type": "markdown",
   "source": [
    "# Модель 3\n"
   ],
   "metadata": {
    "id": "BPxR4naPRGFs"
   },
   "id": "BPxR4naPRGFs"
  },
  {
   "cell_type": "code",
   "source": [
    "tokenizer_3 = AutoTokenizer.from_pretrained('ai-forever/ruT5-base')\n",
    "model_3 = TFAutoModel.from_pretrained('ai-forever/ruT5-based')"
   ],
   "metadata": {
    "id": "5MvzfLasRBQV",
    "outputId": "a8221c16-3767-45ee-d7c2-d492448e497d",
    "colab": {
     "base_uri": "https://localhost:8080/",
     "height": 676
    }
   },
   "id": "5MvzfLasRBQV",
   "execution_count": 61,
   "outputs": [
    {
     "output_type": "error",
     "ename": "OSError",
     "evalue": "ignored",
     "traceback": [
      "\u001B[0;31m---------------------------------------------------------------------------\u001B[0m",
      "\u001B[0;31mHTTPError\u001B[0m                                 Traceback (most recent call last)",
      "\u001B[0;32m/usr/local/lib/python3.10/dist-packages/huggingface_hub/utils/_errors.py\u001B[0m in \u001B[0;36mhf_raise_for_status\u001B[0;34m(response, endpoint_name)\u001B[0m\n\u001B[1;32m    258\u001B[0m     \u001B[0;32mtry\u001B[0m\u001B[0;34m:\u001B[0m\u001B[0;34m\u001B[0m\u001B[0;34m\u001B[0m\u001B[0m\n\u001B[0;32m--> 259\u001B[0;31m         \u001B[0mresponse\u001B[0m\u001B[0;34m.\u001B[0m\u001B[0mraise_for_status\u001B[0m\u001B[0;34m(\u001B[0m\u001B[0;34m)\u001B[0m\u001B[0;34m\u001B[0m\u001B[0;34m\u001B[0m\u001B[0m\n\u001B[0m\u001B[1;32m    260\u001B[0m     \u001B[0;32mexcept\u001B[0m \u001B[0mHTTPError\u001B[0m \u001B[0;32mas\u001B[0m \u001B[0me\u001B[0m\u001B[0;34m:\u001B[0m\u001B[0;34m\u001B[0m\u001B[0;34m\u001B[0m\u001B[0m\n",
      "\u001B[0;32m/usr/local/lib/python3.10/dist-packages/requests/models.py\u001B[0m in \u001B[0;36mraise_for_status\u001B[0;34m(self)\u001B[0m\n\u001B[1;32m    959\u001B[0m         \u001B[0;32mif\u001B[0m \u001B[0mhttp_error_msg\u001B[0m\u001B[0;34m:\u001B[0m\u001B[0;34m\u001B[0m\u001B[0;34m\u001B[0m\u001B[0m\n\u001B[0;32m--> 960\u001B[0;31m             \u001B[0;32mraise\u001B[0m \u001B[0mHTTPError\u001B[0m\u001B[0;34m(\u001B[0m\u001B[0mhttp_error_msg\u001B[0m\u001B[0;34m,\u001B[0m \u001B[0mresponse\u001B[0m\u001B[0;34m=\u001B[0m\u001B[0mself\u001B[0m\u001B[0;34m)\u001B[0m\u001B[0;34m\u001B[0m\u001B[0;34m\u001B[0m\u001B[0m\n\u001B[0m\u001B[1;32m    961\u001B[0m \u001B[0;34m\u001B[0m\u001B[0m\n",
      "\u001B[0;31mHTTPError\u001B[0m: 401 Client Error: Unauthorized for url: https://huggingface.co/bert-large-ru-cased/resolve/main/tokenizer_config.json",
      "\nThe above exception was the direct cause of the following exception:\n",
      "\u001B[0;31mRepositoryNotFoundError\u001B[0m                   Traceback (most recent call last)",
      "\u001B[0;32m/usr/local/lib/python3.10/dist-packages/transformers/utils/hub.py\u001B[0m in \u001B[0;36mcached_file\u001B[0;34m(path_or_repo_id, filename, cache_dir, force_download, resume_download, proxies, use_auth_token, revision, local_files_only, subfolder, repo_type, user_agent, _raise_exceptions_for_missing_entries, _raise_exceptions_for_connection_errors, _commit_hash)\u001B[0m\n\u001B[1;32m    416\u001B[0m         \u001B[0;31m# Load from URL or cache if already cached\u001B[0m\u001B[0;34m\u001B[0m\u001B[0;34m\u001B[0m\u001B[0m\n\u001B[0;32m--> 417\u001B[0;31m         resolved_file = hf_hub_download(\n\u001B[0m\u001B[1;32m    418\u001B[0m             \u001B[0mpath_or_repo_id\u001B[0m\u001B[0;34m,\u001B[0m\u001B[0;34m\u001B[0m\u001B[0;34m\u001B[0m\u001B[0m\n",
      "\u001B[0;32m/usr/local/lib/python3.10/dist-packages/huggingface_hub/utils/_validators.py\u001B[0m in \u001B[0;36m_inner_fn\u001B[0;34m(*args, **kwargs)\u001B[0m\n\u001B[1;32m    117\u001B[0m \u001B[0;34m\u001B[0m\u001B[0m\n\u001B[0;32m--> 118\u001B[0;31m         \u001B[0;32mreturn\u001B[0m \u001B[0mfn\u001B[0m\u001B[0;34m(\u001B[0m\u001B[0;34m*\u001B[0m\u001B[0margs\u001B[0m\u001B[0;34m,\u001B[0m \u001B[0;34m**\u001B[0m\u001B[0mkwargs\u001B[0m\u001B[0;34m)\u001B[0m\u001B[0;34m\u001B[0m\u001B[0;34m\u001B[0m\u001B[0m\n\u001B[0m\u001B[1;32m    119\u001B[0m \u001B[0;34m\u001B[0m\u001B[0m\n",
      "\u001B[0;32m/usr/local/lib/python3.10/dist-packages/huggingface_hub/file_download.py\u001B[0m in \u001B[0;36mhf_hub_download\u001B[0;34m(repo_id, filename, subfolder, repo_type, revision, library_name, library_version, cache_dir, local_dir, local_dir_use_symlinks, user_agent, force_download, force_filename, proxies, etag_timeout, resume_download, token, local_files_only, legacy_cache_layout)\u001B[0m\n\u001B[1;32m   1194\u001B[0m             \u001B[0;32mtry\u001B[0m\u001B[0;34m:\u001B[0m\u001B[0;34m\u001B[0m\u001B[0;34m\u001B[0m\u001B[0m\n\u001B[0;32m-> 1195\u001B[0;31m                 metadata = get_hf_file_metadata(\n\u001B[0m\u001B[1;32m   1196\u001B[0m                     \u001B[0murl\u001B[0m\u001B[0;34m=\u001B[0m\u001B[0murl\u001B[0m\u001B[0;34m,\u001B[0m\u001B[0;34m\u001B[0m\u001B[0;34m\u001B[0m\u001B[0m\n",
      "\u001B[0;32m/usr/local/lib/python3.10/dist-packages/huggingface_hub/utils/_validators.py\u001B[0m in \u001B[0;36m_inner_fn\u001B[0;34m(*args, **kwargs)\u001B[0m\n\u001B[1;32m    117\u001B[0m \u001B[0;34m\u001B[0m\u001B[0m\n\u001B[0;32m--> 118\u001B[0;31m         \u001B[0;32mreturn\u001B[0m \u001B[0mfn\u001B[0m\u001B[0;34m(\u001B[0m\u001B[0;34m*\u001B[0m\u001B[0margs\u001B[0m\u001B[0;34m,\u001B[0m \u001B[0;34m**\u001B[0m\u001B[0mkwargs\u001B[0m\u001B[0;34m)\u001B[0m\u001B[0;34m\u001B[0m\u001B[0;34m\u001B[0m\u001B[0m\n\u001B[0m\u001B[1;32m    119\u001B[0m \u001B[0;34m\u001B[0m\u001B[0m\n",
      "\u001B[0;32m/usr/local/lib/python3.10/dist-packages/huggingface_hub/file_download.py\u001B[0m in \u001B[0;36mget_hf_file_metadata\u001B[0;34m(url, token, proxies, timeout)\u001B[0m\n\u001B[1;32m   1540\u001B[0m     )\n\u001B[0;32m-> 1541\u001B[0;31m     \u001B[0mhf_raise_for_status\u001B[0m\u001B[0;34m(\u001B[0m\u001B[0mr\u001B[0m\u001B[0;34m)\u001B[0m\u001B[0;34m\u001B[0m\u001B[0;34m\u001B[0m\u001B[0m\n\u001B[0m\u001B[1;32m   1542\u001B[0m \u001B[0;34m\u001B[0m\u001B[0m\n",
      "\u001B[0;32m/usr/local/lib/python3.10/dist-packages/huggingface_hub/utils/_errors.py\u001B[0m in \u001B[0;36mhf_raise_for_status\u001B[0;34m(response, endpoint_name)\u001B[0m\n\u001B[1;32m    290\u001B[0m             )\n\u001B[0;32m--> 291\u001B[0;31m             \u001B[0;32mraise\u001B[0m \u001B[0mRepositoryNotFoundError\u001B[0m\u001B[0;34m(\u001B[0m\u001B[0mmessage\u001B[0m\u001B[0;34m,\u001B[0m \u001B[0mresponse\u001B[0m\u001B[0;34m)\u001B[0m \u001B[0;32mfrom\u001B[0m \u001B[0me\u001B[0m\u001B[0;34m\u001B[0m\u001B[0;34m\u001B[0m\u001B[0m\n\u001B[0m\u001B[1;32m    292\u001B[0m \u001B[0;34m\u001B[0m\u001B[0m\n",
      "\u001B[0;31mRepositoryNotFoundError\u001B[0m: 401 Client Error. (Request ID: Root=1-648a58bc-2ade8fcc0484a8e119476c0a)\n\nRepository Not Found for url: https://huggingface.co/bert-large-ru-cased/resolve/main/tokenizer_config.json.\nPlease make sure you specified the correct `repo_id` and `repo_type`.\nIf you are trying to access a private or gated repo, make sure you are authenticated.\nInvalid username or password.",
      "\nDuring handling of the above exception, another exception occurred:\n",
      "\u001B[0;31mOSError\u001B[0m                                   Traceback (most recent call last)",
      "\u001B[0;32m<ipython-input-61-08167e724690>\u001B[0m in \u001B[0;36m<cell line: 1>\u001B[0;34m()\u001B[0m\n\u001B[0;32m----> 1\u001B[0;31m \u001B[0mtokenizer_3\u001B[0m \u001B[0;34m=\u001B[0m \u001B[0mAutoTokenizer\u001B[0m\u001B[0;34m.\u001B[0m\u001B[0mfrom_pretrained\u001B[0m\u001B[0;34m(\u001B[0m\u001B[0;34m'bert-large-ru-cased'\u001B[0m\u001B[0;34m)\u001B[0m\u001B[0;34m\u001B[0m\u001B[0;34m\u001B[0m\u001B[0m\n\u001B[0m\u001B[1;32m      2\u001B[0m \u001B[0mmodel_3\u001B[0m \u001B[0;34m=\u001B[0m \u001B[0mTFAutoModel\u001B[0m\u001B[0;34m.\u001B[0m\u001B[0mfrom_pretrained\u001B[0m\u001B[0;34m(\u001B[0m\u001B[0;34m'bert-large-ru-cased'\u001B[0m\u001B[0;34m)\u001B[0m\u001B[0;34m\u001B[0m\u001B[0;34m\u001B[0m\u001B[0m\n",
      "\u001B[0;32m/usr/local/lib/python3.10/dist-packages/transformers/models/auto/tokenization_auto.py\u001B[0m in \u001B[0;36mfrom_pretrained\u001B[0;34m(cls, pretrained_model_name_or_path, *inputs, **kwargs)\u001B[0m\n\u001B[1;32m    641\u001B[0m \u001B[0;34m\u001B[0m\u001B[0m\n\u001B[1;32m    642\u001B[0m         \u001B[0;31m# Next, let's try to use the tokenizer_config file to get the tokenizer class.\u001B[0m\u001B[0;34m\u001B[0m\u001B[0;34m\u001B[0m\u001B[0m\n\u001B[0;32m--> 643\u001B[0;31m         \u001B[0mtokenizer_config\u001B[0m \u001B[0;34m=\u001B[0m \u001B[0mget_tokenizer_config\u001B[0m\u001B[0;34m(\u001B[0m\u001B[0mpretrained_model_name_or_path\u001B[0m\u001B[0;34m,\u001B[0m \u001B[0;34m**\u001B[0m\u001B[0mkwargs\u001B[0m\u001B[0;34m)\u001B[0m\u001B[0;34m\u001B[0m\u001B[0;34m\u001B[0m\u001B[0m\n\u001B[0m\u001B[1;32m    644\u001B[0m         \u001B[0;32mif\u001B[0m \u001B[0;34m\"_commit_hash\"\u001B[0m \u001B[0;32min\u001B[0m \u001B[0mtokenizer_config\u001B[0m\u001B[0;34m:\u001B[0m\u001B[0;34m\u001B[0m\u001B[0;34m\u001B[0m\u001B[0m\n\u001B[1;32m    645\u001B[0m             \u001B[0mkwargs\u001B[0m\u001B[0;34m[\u001B[0m\u001B[0;34m\"_commit_hash\"\u001B[0m\u001B[0;34m]\u001B[0m \u001B[0;34m=\u001B[0m \u001B[0mtokenizer_config\u001B[0m\u001B[0;34m[\u001B[0m\u001B[0;34m\"_commit_hash\"\u001B[0m\u001B[0;34m]\u001B[0m\u001B[0;34m\u001B[0m\u001B[0;34m\u001B[0m\u001B[0m\n",
      "\u001B[0;32m/usr/local/lib/python3.10/dist-packages/transformers/models/auto/tokenization_auto.py\u001B[0m in \u001B[0;36mget_tokenizer_config\u001B[0;34m(pretrained_model_name_or_path, cache_dir, force_download, resume_download, proxies, use_auth_token, revision, local_files_only, subfolder, **kwargs)\u001B[0m\n\u001B[1;32m    485\u001B[0m     ```\"\"\"\n\u001B[1;32m    486\u001B[0m     \u001B[0mcommit_hash\u001B[0m \u001B[0;34m=\u001B[0m \u001B[0mkwargs\u001B[0m\u001B[0;34m.\u001B[0m\u001B[0mget\u001B[0m\u001B[0;34m(\u001B[0m\u001B[0;34m\"_commit_hash\"\u001B[0m\u001B[0;34m,\u001B[0m \u001B[0;32mNone\u001B[0m\u001B[0;34m)\u001B[0m\u001B[0;34m\u001B[0m\u001B[0;34m\u001B[0m\u001B[0m\n\u001B[0;32m--> 487\u001B[0;31m     resolved_config_file = cached_file(\n\u001B[0m\u001B[1;32m    488\u001B[0m         \u001B[0mpretrained_model_name_or_path\u001B[0m\u001B[0;34m,\u001B[0m\u001B[0;34m\u001B[0m\u001B[0;34m\u001B[0m\u001B[0m\n\u001B[1;32m    489\u001B[0m         \u001B[0mTOKENIZER_CONFIG_FILE\u001B[0m\u001B[0;34m,\u001B[0m\u001B[0;34m\u001B[0m\u001B[0;34m\u001B[0m\u001B[0m\n",
      "\u001B[0;32m/usr/local/lib/python3.10/dist-packages/transformers/utils/hub.py\u001B[0m in \u001B[0;36mcached_file\u001B[0;34m(path_or_repo_id, filename, cache_dir, force_download, resume_download, proxies, use_auth_token, revision, local_files_only, subfolder, repo_type, user_agent, _raise_exceptions_for_missing_entries, _raise_exceptions_for_connection_errors, _commit_hash)\u001B[0m\n\u001B[1;32m    431\u001B[0m \u001B[0;34m\u001B[0m\u001B[0m\n\u001B[1;32m    432\u001B[0m     \u001B[0;32mexcept\u001B[0m \u001B[0mRepositoryNotFoundError\u001B[0m\u001B[0;34m:\u001B[0m\u001B[0;34m\u001B[0m\u001B[0;34m\u001B[0m\u001B[0m\n\u001B[0;32m--> 433\u001B[0;31m         raise EnvironmentError(\n\u001B[0m\u001B[1;32m    434\u001B[0m             \u001B[0;34mf\"{path_or_repo_id} is not a local folder and is not a valid model identifier \"\u001B[0m\u001B[0;34m\u001B[0m\u001B[0;34m\u001B[0m\u001B[0m\n\u001B[1;32m    435\u001B[0m             \u001B[0;34m\"listed on 'https://huggingface.co/models'\\nIf this is a private repository, make sure to \"\u001B[0m\u001B[0;34m\u001B[0m\u001B[0;34m\u001B[0m\u001B[0m\n",
      "\u001B[0;31mOSError\u001B[0m: bert-large-ru-cased is not a local folder and is not a valid model identifier listed on 'https://huggingface.co/models'\nIf this is a private repository, make sure to pass a token having permission to this repo with `use_auth_token` or log in with `huggingface-cli login` and pass `use_auth_token=True`."
     ]
    }
   ]
  },
  {
   "cell_type": "code",
   "source": [
    "# переводим тексты в последовательности индексов\n",
    "# У берта есть ограничение на максимальную длину последовательности - 512\n",
    "# Для заголовков это не очень актуально, но для других данных пригодится\n",
    "\n",
    "X = []\n",
    "\n",
    "for text in data.title:\n",
    "    ids = tokenizer_3.encode(text)\n",
    "\n",
    "    X.append(ids[:512])"
   ],
   "metadata": {
    "id": "KUF7_BCWRUmL"
   },
   "id": "KUF7_BCWRUmL",
   "execution_count": null,
   "outputs": []
  },
  {
   "cell_type": "code",
   "source": [
    "X = tf.keras.preprocessing.sequence.pad_sequences(X, padding='post', maxlen=512)"
   ],
   "metadata": {
    "id": "ChfIQ8wwRXJI"
   },
   "id": "ChfIQ8wwRXJI",
   "execution_count": null,
   "outputs": []
  },
  {
   "cell_type": "code",
   "source": [
    "id2label = {i:label for i, label in enumerate(set(data.topic.values))}\n",
    "label2id = {l:i for i, l in id2label.items()}\n",
    "\n",
    "y = tf.keras.utils.to_categorical([label2id[label] for label in data.topic.values])"
   ],
   "metadata": {
    "id": "R6la48o3RYvl"
   },
   "id": "R6la48o3RYvl",
   "execution_count": null,
   "outputs": []
  },
  {
   "cell_type": "code",
   "source": [
    "train_index, valid_index = train_test_split(list(range(len(X))), test_size=0.05, stratify=data.topic)"
   ],
   "metadata": {
    "id": "QOwRIUyfRbKc"
   },
   "id": "QOwRIUyfRbKc",
   "execution_count": null,
   "outputs": []
  },
  {
   "cell_type": "code",
   "source": [
    "X_train, y_train = X[train_index], y[train_index]\n",
    "X_valid, y_valid = X[valid_index], y[valid_index]"
   ],
   "metadata": {
    "id": "zpeYXs31RcZX"
   },
   "id": "zpeYXs31RcZX",
   "execution_count": null,
   "outputs": []
  },
  {
   "cell_type": "code",
   "source": [
    "input_word_ids = tf.keras.layers.Input(shape=(512,), dtype=tf.int32,\n",
    "                                     name=\"input_ids\")\n",
    "output = model_3(input_word_ids)\n",
    "drop = tf.keras.layers.Dropout(0.1)(output[0][:, 0])\n",
    "dense = tf.keras.layers.Dense(y.shape[1], activation='softmax')(drop)\n",
    "\n",
    "model_3_clf = tf.keras.Model(inputs=input_word_ids, outputs=dense)\n",
    "\n",
    "model_3_clf.compile(tf.optimizers.Adam(learning_rate=2e-6),\n",
    "                  loss='categorical_crossentropy',\n",
    "                  metrics=['accuracy',\n",
    "                           tf.keras.metrics.RecallAtPrecision(0.80, name='rec_prec')])"
   ],
   "metadata": {
    "id": "6LGfNyHhRd5W"
   },
   "id": "6LGfNyHhRd5W",
   "execution_count": null,
   "outputs": []
  },
  {
   "cell_type": "code",
   "source": [
    "model_3_clf.fit(X_train, y_train,\n",
    "          validation_data=(X_valid, y_valid),\n",
    "          batch_size=4,\n",
    "         epochs=20)"
   ],
   "metadata": {
    "id": "D8uRVvNbRlwF"
   },
   "id": "D8uRVvNbRlwF",
   "execution_count": null,
   "outputs": []
  },
  {
   "cell_type": "code",
   "source": [
    "print(model_3_clf.history.history.keys())\n",
    "plt.plot(model_3_clf.history.history['accuracy'])\n",
    "plt.plot(model_3_clf.history.history['val_accuracy'])\n",
    "plt.title('model rec_prec')\n",
    "plt.ylabel('rec_prec')\n",
    "plt.xlabel('epoch')\n",
    "plt.legend(['train', 'val'], loc='upper left')\n",
    "plt.show()"
   ],
   "metadata": {
    "id": "k5pNa9uORnby"
   },
   "id": "k5pNa9uORnby",
   "execution_count": null,
   "outputs": []
  },
  {
   "cell_type": "code",
   "source": [
    "pred = model_3_clf.predict(X_valid, batch_size=5).argmax(1)"
   ],
   "metadata": {
    "id": "EMVgPX0vRqlr"
   },
   "id": "EMVgPX0vRqlr",
   "execution_count": null,
   "outputs": []
  },
  {
   "cell_type": "code",
   "source": [
    "print(classification_report(y_valid.argmax(1), pred, labels=list(range(len(label2id))),\n",
    "                            target_names=list(label2id), zero_division=0))"
   ],
   "metadata": {
    "id": "M3heSOYQRsUd"
   },
   "id": "M3heSOYQRsUd",
   "execution_count": null,
   "outputs": []
  },
  {
   "cell_type": "markdown",
   "id": "ca34045b",
   "metadata": {
    "id": "ca34045b"
   },
   "source": [
    "### Задание  2 (2 балла)\n",
    "\n",
    "Ответьте на следующие вопросы (напишите хотя бы по несколько предложений):\n",
    "\n",
    "1) Чем ROBERTA отличается от BERT? В какой статье описана ROBERTA?\n",
    "\n",
    "2) Чем модель T5 отличается от ROBERTA/BERT?"
   ]
  },
  {
   "cell_type": "code",
   "execution_count": null,
   "id": "6444a758",
   "metadata": {
    "id": "6444a758"
   },
   "outputs": [],
   "source": []
  },
  {
   "cell_type": "code",
   "execution_count": null,
   "id": "ed8ee3ef",
   "metadata": {
    "id": "ed8ee3ef"
   },
   "outputs": [],
   "source": []
  }
 ],
 "metadata": {
  "kernelspec": {
   "name": "python3",
   "language": "python",
   "display_name": "Python 3 (ipykernel)"
  },
  "language_info": {
   "codemirror_mode": {
    "name": "ipython",
    "version": 3
   },
   "file_extension": ".py",
   "mimetype": "text/x-python",
   "name": "python",
   "nbconvert_exporter": "python",
   "pygments_lexer": "ipython3",
   "version": "3.9.14"
  },
  "colab": {
   "provenance": [],
   "gpuType": "T4"
  },
  "accelerator": "GPU",
  "widgets": {
   "application/vnd.jupyter.widget-state+json": {
    "6d250931074043c8a4eb92ed20c2253d": {
     "model_module": "@jupyter-widgets/controls",
     "model_name": "HBoxModel",
     "model_module_version": "1.5.0",
     "state": {
      "_dom_classes": [],
      "_model_module": "@jupyter-widgets/controls",
      "_model_module_version": "1.5.0",
      "_model_name": "HBoxModel",
      "_view_count": null,
      "_view_module": "@jupyter-widgets/controls",
      "_view_module_version": "1.5.0",
      "_view_name": "HBoxView",
      "box_style": "",
      "children": [
       "IPY_MODEL_6a758e5e1a114c6590bd89c445948999",
       "IPY_MODEL_89a05a7c2e6c442693ca0ffa1e90b5b6",
       "IPY_MODEL_d1140d69dd504ee38b7b0d6e0fad7551"
      ],
      "layout": "IPY_MODEL_0e08c737256744758610c894b08ecb5b"
     }
    },
    "6a758e5e1a114c6590bd89c445948999": {
     "model_module": "@jupyter-widgets/controls",
     "model_name": "HTMLModel",
     "model_module_version": "1.5.0",
     "state": {
      "_dom_classes": [],
      "_model_module": "@jupyter-widgets/controls",
      "_model_module_version": "1.5.0",
      "_model_name": "HTMLModel",
      "_view_count": null,
      "_view_module": "@jupyter-widgets/controls",
      "_view_module_version": "1.5.0",
      "_view_name": "HTMLView",
      "description": "",
      "description_tooltip": null,
      "layout": "IPY_MODEL_abe4107cccac4c739ceec256c0df50fb",
      "placeholder": "​",
      "style": "IPY_MODEL_193da684d8fb4efbb757d77e51bbc503",
      "value": "Downloading (…)okenizer_config.json: 100%"
     }
    },
    "89a05a7c2e6c442693ca0ffa1e90b5b6": {
     "model_module": "@jupyter-widgets/controls",
     "model_name": "FloatProgressModel",
     "model_module_version": "1.5.0",
     "state": {
      "_dom_classes": [],
      "_model_module": "@jupyter-widgets/controls",
      "_model_module_version": "1.5.0",
      "_model_name": "FloatProgressModel",
      "_view_count": null,
      "_view_module": "@jupyter-widgets/controls",
      "_view_module_version": "1.5.0",
      "_view_name": "ProgressView",
      "bar_style": "success",
      "description": "",
      "description_tooltip": null,
      "layout": "IPY_MODEL_a14d0bebc56245e293ce422667ad6f0c",
      "max": 28,
      "min": 0,
      "orientation": "horizontal",
      "style": "IPY_MODEL_483cb2729607412ba9eaa84c53075532",
      "value": 28
     }
    },
    "d1140d69dd504ee38b7b0d6e0fad7551": {
     "model_module": "@jupyter-widgets/controls",
     "model_name": "HTMLModel",
     "model_module_version": "1.5.0",
     "state": {
      "_dom_classes": [],
      "_model_module": "@jupyter-widgets/controls",
      "_model_module_version": "1.5.0",
      "_model_name": "HTMLModel",
      "_view_count": null,
      "_view_module": "@jupyter-widgets/controls",
      "_view_module_version": "1.5.0",
      "_view_name": "HTMLView",
      "description": "",
      "description_tooltip": null,
      "layout": "IPY_MODEL_e5a08c7e98204f6491046b42ffd77522",
      "placeholder": "​",
      "style": "IPY_MODEL_b4b782369b0f4790acd424e95fb5c26a",
      "value": " 28.0/28.0 [00:00&lt;00:00, 2.21kB/s]"
     }
    },
    "0e08c737256744758610c894b08ecb5b": {
     "model_module": "@jupyter-widgets/base",
     "model_name": "LayoutModel",
     "model_module_version": "1.2.0",
     "state": {
      "_model_module": "@jupyter-widgets/base",
      "_model_module_version": "1.2.0",
      "_model_name": "LayoutModel",
      "_view_count": null,
      "_view_module": "@jupyter-widgets/base",
      "_view_module_version": "1.2.0",
      "_view_name": "LayoutView",
      "align_content": null,
      "align_items": null,
      "align_self": null,
      "border": null,
      "bottom": null,
      "display": null,
      "flex": null,
      "flex_flow": null,
      "grid_area": null,
      "grid_auto_columns": null,
      "grid_auto_flow": null,
      "grid_auto_rows": null,
      "grid_column": null,
      "grid_gap": null,
      "grid_row": null,
      "grid_template_areas": null,
      "grid_template_columns": null,
      "grid_template_rows": null,
      "height": null,
      "justify_content": null,
      "justify_items": null,
      "left": null,
      "margin": null,
      "max_height": null,
      "max_width": null,
      "min_height": null,
      "min_width": null,
      "object_fit": null,
      "object_position": null,
      "order": null,
      "overflow": null,
      "overflow_x": null,
      "overflow_y": null,
      "padding": null,
      "right": null,
      "top": null,
      "visibility": null,
      "width": null
     }
    },
    "abe4107cccac4c739ceec256c0df50fb": {
     "model_module": "@jupyter-widgets/base",
     "model_name": "LayoutModel",
     "model_module_version": "1.2.0",
     "state": {
      "_model_module": "@jupyter-widgets/base",
      "_model_module_version": "1.2.0",
      "_model_name": "LayoutModel",
      "_view_count": null,
      "_view_module": "@jupyter-widgets/base",
      "_view_module_version": "1.2.0",
      "_view_name": "LayoutView",
      "align_content": null,
      "align_items": null,
      "align_self": null,
      "border": null,
      "bottom": null,
      "display": null,
      "flex": null,
      "flex_flow": null,
      "grid_area": null,
      "grid_auto_columns": null,
      "grid_auto_flow": null,
      "grid_auto_rows": null,
      "grid_column": null,
      "grid_gap": null,
      "grid_row": null,
      "grid_template_areas": null,
      "grid_template_columns": null,
      "grid_template_rows": null,
      "height": null,
      "justify_content": null,
      "justify_items": null,
      "left": null,
      "margin": null,
      "max_height": null,
      "max_width": null,
      "min_height": null,
      "min_width": null,
      "object_fit": null,
      "object_position": null,
      "order": null,
      "overflow": null,
      "overflow_x": null,
      "overflow_y": null,
      "padding": null,
      "right": null,
      "top": null,
      "visibility": null,
      "width": null
     }
    },
    "193da684d8fb4efbb757d77e51bbc503": {
     "model_module": "@jupyter-widgets/controls",
     "model_name": "DescriptionStyleModel",
     "model_module_version": "1.5.0",
     "state": {
      "_model_module": "@jupyter-widgets/controls",
      "_model_module_version": "1.5.0",
      "_model_name": "DescriptionStyleModel",
      "_view_count": null,
      "_view_module": "@jupyter-widgets/base",
      "_view_module_version": "1.2.0",
      "_view_name": "StyleView",
      "description_width": ""
     }
    },
    "a14d0bebc56245e293ce422667ad6f0c": {
     "model_module": "@jupyter-widgets/base",
     "model_name": "LayoutModel",
     "model_module_version": "1.2.0",
     "state": {
      "_model_module": "@jupyter-widgets/base",
      "_model_module_version": "1.2.0",
      "_model_name": "LayoutModel",
      "_view_count": null,
      "_view_module": "@jupyter-widgets/base",
      "_view_module_version": "1.2.0",
      "_view_name": "LayoutView",
      "align_content": null,
      "align_items": null,
      "align_self": null,
      "border": null,
      "bottom": null,
      "display": null,
      "flex": null,
      "flex_flow": null,
      "grid_area": null,
      "grid_auto_columns": null,
      "grid_auto_flow": null,
      "grid_auto_rows": null,
      "grid_column": null,
      "grid_gap": null,
      "grid_row": null,
      "grid_template_areas": null,
      "grid_template_columns": null,
      "grid_template_rows": null,
      "height": null,
      "justify_content": null,
      "justify_items": null,
      "left": null,
      "margin": null,
      "max_height": null,
      "max_width": null,
      "min_height": null,
      "min_width": null,
      "object_fit": null,
      "object_position": null,
      "order": null,
      "overflow": null,
      "overflow_x": null,
      "overflow_y": null,
      "padding": null,
      "right": null,
      "top": null,
      "visibility": null,
      "width": null
     }
    },
    "483cb2729607412ba9eaa84c53075532": {
     "model_module": "@jupyter-widgets/controls",
     "model_name": "ProgressStyleModel",
     "model_module_version": "1.5.0",
     "state": {
      "_model_module": "@jupyter-widgets/controls",
      "_model_module_version": "1.5.0",
      "_model_name": "ProgressStyleModel",
      "_view_count": null,
      "_view_module": "@jupyter-widgets/base",
      "_view_module_version": "1.2.0",
      "_view_name": "StyleView",
      "bar_color": null,
      "description_width": ""
     }
    },
    "e5a08c7e98204f6491046b42ffd77522": {
     "model_module": "@jupyter-widgets/base",
     "model_name": "LayoutModel",
     "model_module_version": "1.2.0",
     "state": {
      "_model_module": "@jupyter-widgets/base",
      "_model_module_version": "1.2.0",
      "_model_name": "LayoutModel",
      "_view_count": null,
      "_view_module": "@jupyter-widgets/base",
      "_view_module_version": "1.2.0",
      "_view_name": "LayoutView",
      "align_content": null,
      "align_items": null,
      "align_self": null,
      "border": null,
      "bottom": null,
      "display": null,
      "flex": null,
      "flex_flow": null,
      "grid_area": null,
      "grid_auto_columns": null,
      "grid_auto_flow": null,
      "grid_auto_rows": null,
      "grid_column": null,
      "grid_gap": null,
      "grid_row": null,
      "grid_template_areas": null,
      "grid_template_columns": null,
      "grid_template_rows": null,
      "height": null,
      "justify_content": null,
      "justify_items": null,
      "left": null,
      "margin": null,
      "max_height": null,
      "max_width": null,
      "min_height": null,
      "min_width": null,
      "object_fit": null,
      "object_position": null,
      "order": null,
      "overflow": null,
      "overflow_x": null,
      "overflow_y": null,
      "padding": null,
      "right": null,
      "top": null,
      "visibility": null,
      "width": null
     }
    },
    "b4b782369b0f4790acd424e95fb5c26a": {
     "model_module": "@jupyter-widgets/controls",
     "model_name": "DescriptionStyleModel",
     "model_module_version": "1.5.0",
     "state": {
      "_model_module": "@jupyter-widgets/controls",
      "_model_module_version": "1.5.0",
      "_model_name": "DescriptionStyleModel",
      "_view_count": null,
      "_view_module": "@jupyter-widgets/base",
      "_view_module_version": "1.2.0",
      "_view_name": "StyleView",
      "description_width": ""
     }
    },
    "7ee2098006094bf1a234606cdfde9bb6": {
     "model_module": "@jupyter-widgets/controls",
     "model_name": "HBoxModel",
     "model_module_version": "1.5.0",
     "state": {
      "_dom_classes": [],
      "_model_module": "@jupyter-widgets/controls",
      "_model_module_version": "1.5.0",
      "_model_name": "HBoxModel",
      "_view_count": null,
      "_view_module": "@jupyter-widgets/controls",
      "_view_module_version": "1.5.0",
      "_view_name": "HBoxView",
      "box_style": "",
      "children": [
       "IPY_MODEL_6a13efc8e0f74689b855d8fe436a82d6",
       "IPY_MODEL_1b65de2db0284b98aa07664227d7d345",
       "IPY_MODEL_24dc128345c34a8f92c94edac46914f6"
      ],
      "layout": "IPY_MODEL_b9515032b71f4e52b969f83d2289e521"
     }
    },
    "6a13efc8e0f74689b855d8fe436a82d6": {
     "model_module": "@jupyter-widgets/controls",
     "model_name": "HTMLModel",
     "model_module_version": "1.5.0",
     "state": {
      "_dom_classes": [],
      "_model_module": "@jupyter-widgets/controls",
      "_model_module_version": "1.5.0",
      "_model_name": "HTMLModel",
      "_view_count": null,
      "_view_module": "@jupyter-widgets/controls",
      "_view_module_version": "1.5.0",
      "_view_name": "HTMLView",
      "description": "",
      "description_tooltip": null,
      "layout": "IPY_MODEL_bb4e1de4ef084633b5ba8bcfb131cc4c",
      "placeholder": "​",
      "style": "IPY_MODEL_05bfa945bc044f8e8ea9205c134213b3",
      "value": "Downloading (…)lve/main/config.json: 100%"
     }
    },
    "1b65de2db0284b98aa07664227d7d345": {
     "model_module": "@jupyter-widgets/controls",
     "model_name": "FloatProgressModel",
     "model_module_version": "1.5.0",
     "state": {
      "_dom_classes": [],
      "_model_module": "@jupyter-widgets/controls",
      "_model_module_version": "1.5.0",
      "_model_name": "FloatProgressModel",
      "_view_count": null,
      "_view_module": "@jupyter-widgets/controls",
      "_view_module_version": "1.5.0",
      "_view_name": "ProgressView",
      "bar_style": "success",
      "description": "",
      "description_tooltip": null,
      "layout": "IPY_MODEL_78184c7555824393b41bdea950cbaa1d",
      "max": 625,
      "min": 0,
      "orientation": "horizontal",
      "style": "IPY_MODEL_3a04ab5593194ad2a190072454de6c6d",
      "value": 625
     }
    },
    "24dc128345c34a8f92c94edac46914f6": {
     "model_module": "@jupyter-widgets/controls",
     "model_name": "HTMLModel",
     "model_module_version": "1.5.0",
     "state": {
      "_dom_classes": [],
      "_model_module": "@jupyter-widgets/controls",
      "_model_module_version": "1.5.0",
      "_model_name": "HTMLModel",
      "_view_count": null,
      "_view_module": "@jupyter-widgets/controls",
      "_view_module_version": "1.5.0",
      "_view_name": "HTMLView",
      "description": "",
      "description_tooltip": null,
      "layout": "IPY_MODEL_52b0dbc169e94918b1d784319fa15497",
      "placeholder": "​",
      "style": "IPY_MODEL_1bb00ce2513d496cb329ccf55755c001",
      "value": " 625/625 [00:00&lt;00:00, 40.7kB/s]"
     }
    },
    "b9515032b71f4e52b969f83d2289e521": {
     "model_module": "@jupyter-widgets/base",
     "model_name": "LayoutModel",
     "model_module_version": "1.2.0",
     "state": {
      "_model_module": "@jupyter-widgets/base",
      "_model_module_version": "1.2.0",
      "_model_name": "LayoutModel",
      "_view_count": null,
      "_view_module": "@jupyter-widgets/base",
      "_view_module_version": "1.2.0",
      "_view_name": "LayoutView",
      "align_content": null,
      "align_items": null,
      "align_self": null,
      "border": null,
      "bottom": null,
      "display": null,
      "flex": null,
      "flex_flow": null,
      "grid_area": null,
      "grid_auto_columns": null,
      "grid_auto_flow": null,
      "grid_auto_rows": null,
      "grid_column": null,
      "grid_gap": null,
      "grid_row": null,
      "grid_template_areas": null,
      "grid_template_columns": null,
      "grid_template_rows": null,
      "height": null,
      "justify_content": null,
      "justify_items": null,
      "left": null,
      "margin": null,
      "max_height": null,
      "max_width": null,
      "min_height": null,
      "min_width": null,
      "object_fit": null,
      "object_position": null,
      "order": null,
      "overflow": null,
      "overflow_x": null,
      "overflow_y": null,
      "padding": null,
      "right": null,
      "top": null,
      "visibility": null,
      "width": null
     }
    },
    "bb4e1de4ef084633b5ba8bcfb131cc4c": {
     "model_module": "@jupyter-widgets/base",
     "model_name": "LayoutModel",
     "model_module_version": "1.2.0",
     "state": {
      "_model_module": "@jupyter-widgets/base",
      "_model_module_version": "1.2.0",
      "_model_name": "LayoutModel",
      "_view_count": null,
      "_view_module": "@jupyter-widgets/base",
      "_view_module_version": "1.2.0",
      "_view_name": "LayoutView",
      "align_content": null,
      "align_items": null,
      "align_self": null,
      "border": null,
      "bottom": null,
      "display": null,
      "flex": null,
      "flex_flow": null,
      "grid_area": null,
      "grid_auto_columns": null,
      "grid_auto_flow": null,
      "grid_auto_rows": null,
      "grid_column": null,
      "grid_gap": null,
      "grid_row": null,
      "grid_template_areas": null,
      "grid_template_columns": null,
      "grid_template_rows": null,
      "height": null,
      "justify_content": null,
      "justify_items": null,
      "left": null,
      "margin": null,
      "max_height": null,
      "max_width": null,
      "min_height": null,
      "min_width": null,
      "object_fit": null,
      "object_position": null,
      "order": null,
      "overflow": null,
      "overflow_x": null,
      "overflow_y": null,
      "padding": null,
      "right": null,
      "top": null,
      "visibility": null,
      "width": null
     }
    },
    "05bfa945bc044f8e8ea9205c134213b3": {
     "model_module": "@jupyter-widgets/controls",
     "model_name": "DescriptionStyleModel",
     "model_module_version": "1.5.0",
     "state": {
      "_model_module": "@jupyter-widgets/controls",
      "_model_module_version": "1.5.0",
      "_model_name": "DescriptionStyleModel",
      "_view_count": null,
      "_view_module": "@jupyter-widgets/base",
      "_view_module_version": "1.2.0",
      "_view_name": "StyleView",
      "description_width": ""
     }
    },
    "78184c7555824393b41bdea950cbaa1d": {
     "model_module": "@jupyter-widgets/base",
     "model_name": "LayoutModel",
     "model_module_version": "1.2.0",
     "state": {
      "_model_module": "@jupyter-widgets/base",
      "_model_module_version": "1.2.0",
      "_model_name": "LayoutModel",
      "_view_count": null,
      "_view_module": "@jupyter-widgets/base",
      "_view_module_version": "1.2.0",
      "_view_name": "LayoutView",
      "align_content": null,
      "align_items": null,
      "align_self": null,
      "border": null,
      "bottom": null,
      "display": null,
      "flex": null,
      "flex_flow": null,
      "grid_area": null,
      "grid_auto_columns": null,
      "grid_auto_flow": null,
      "grid_auto_rows": null,
      "grid_column": null,
      "grid_gap": null,
      "grid_row": null,
      "grid_template_areas": null,
      "grid_template_columns": null,
      "grid_template_rows": null,
      "height": null,
      "justify_content": null,
      "justify_items": null,
      "left": null,
      "margin": null,
      "max_height": null,
      "max_width": null,
      "min_height": null,
      "min_width": null,
      "object_fit": null,
      "object_position": null,
      "order": null,
      "overflow": null,
      "overflow_x": null,
      "overflow_y": null,
      "padding": null,
      "right": null,
      "top": null,
      "visibility": null,
      "width": null
     }
    },
    "3a04ab5593194ad2a190072454de6c6d": {
     "model_module": "@jupyter-widgets/controls",
     "model_name": "ProgressStyleModel",
     "model_module_version": "1.5.0",
     "state": {
      "_model_module": "@jupyter-widgets/controls",
      "_model_module_version": "1.5.0",
      "_model_name": "ProgressStyleModel",
      "_view_count": null,
      "_view_module": "@jupyter-widgets/base",
      "_view_module_version": "1.2.0",
      "_view_name": "StyleView",
      "bar_color": null,
      "description_width": ""
     }
    },
    "52b0dbc169e94918b1d784319fa15497": {
     "model_module": "@jupyter-widgets/base",
     "model_name": "LayoutModel",
     "model_module_version": "1.2.0",
     "state": {
      "_model_module": "@jupyter-widgets/base",
      "_model_module_version": "1.2.0",
      "_model_name": "LayoutModel",
      "_view_count": null,
      "_view_module": "@jupyter-widgets/base",
      "_view_module_version": "1.2.0",
      "_view_name": "LayoutView",
      "align_content": null,
      "align_items": null,
      "align_self": null,
      "border": null,
      "bottom": null,
      "display": null,
      "flex": null,
      "flex_flow": null,
      "grid_area": null,
      "grid_auto_columns": null,
      "grid_auto_flow": null,
      "grid_auto_rows": null,
      "grid_column": null,
      "grid_gap": null,
      "grid_row": null,
      "grid_template_areas": null,
      "grid_template_columns": null,
      "grid_template_rows": null,
      "height": null,
      "justify_content": null,
      "justify_items": null,
      "left": null,
      "margin": null,
      "max_height": null,
      "max_width": null,
      "min_height": null,
      "min_width": null,
      "object_fit": null,
      "object_position": null,
      "order": null,
      "overflow": null,
      "overflow_x": null,
      "overflow_y": null,
      "padding": null,
      "right": null,
      "top": null,
      "visibility": null,
      "width": null
     }
    },
    "1bb00ce2513d496cb329ccf55755c001": {
     "model_module": "@jupyter-widgets/controls",
     "model_name": "DescriptionStyleModel",
     "model_module_version": "1.5.0",
     "state": {
      "_model_module": "@jupyter-widgets/controls",
      "_model_module_version": "1.5.0",
      "_model_name": "DescriptionStyleModel",
      "_view_count": null,
      "_view_module": "@jupyter-widgets/base",
      "_view_module_version": "1.2.0",
      "_view_name": "StyleView",
      "description_width": ""
     }
    },
    "5fb1d8ce209c4db8950e4fe84496ad45": {
     "model_module": "@jupyter-widgets/controls",
     "model_name": "HBoxModel",
     "model_module_version": "1.5.0",
     "state": {
      "_dom_classes": [],
      "_model_module": "@jupyter-widgets/controls",
      "_model_module_version": "1.5.0",
      "_model_name": "HBoxModel",
      "_view_count": null,
      "_view_module": "@jupyter-widgets/controls",
      "_view_module_version": "1.5.0",
      "_view_name": "HBoxView",
      "box_style": "",
      "children": [
       "IPY_MODEL_27b9dd6b96464f2fb162c729028ed850",
       "IPY_MODEL_bb4fb26e91c74fe79536a0f07bb5ac16",
       "IPY_MODEL_7d58187a4dfb4ce7be6854a486982317"
      ],
      "layout": "IPY_MODEL_b482eb2ff4a74cd9bc8694d488651463"
     }
    },
    "27b9dd6b96464f2fb162c729028ed850": {
     "model_module": "@jupyter-widgets/controls",
     "model_name": "HTMLModel",
     "model_module_version": "1.5.0",
     "state": {
      "_dom_classes": [],
      "_model_module": "@jupyter-widgets/controls",
      "_model_module_version": "1.5.0",
      "_model_name": "HTMLModel",
      "_view_count": null,
      "_view_module": "@jupyter-widgets/controls",
      "_view_module_version": "1.5.0",
      "_view_name": "HTMLView",
      "description": "",
      "description_tooltip": null,
      "layout": "IPY_MODEL_941e729f97b94158850b3cb2d46562c1",
      "placeholder": "​",
      "style": "IPY_MODEL_797f32f1545e4b7aab1a7d0c33d654bf",
      "value": "Downloading (…)solve/main/vocab.txt: 100%"
     }
    },
    "bb4fb26e91c74fe79536a0f07bb5ac16": {
     "model_module": "@jupyter-widgets/controls",
     "model_name": "FloatProgressModel",
     "model_module_version": "1.5.0",
     "state": {
      "_dom_classes": [],
      "_model_module": "@jupyter-widgets/controls",
      "_model_module_version": "1.5.0",
      "_model_name": "FloatProgressModel",
      "_view_count": null,
      "_view_module": "@jupyter-widgets/controls",
      "_view_module_version": "1.5.0",
      "_view_name": "ProgressView",
      "bar_style": "success",
      "description": "",
      "description_tooltip": null,
      "layout": "IPY_MODEL_7373f4167aef4d2e958ce306798d657c",
      "max": 871891,
      "min": 0,
      "orientation": "horizontal",
      "style": "IPY_MODEL_bd679d9341c6438889103cda17d98e8b",
      "value": 871891
     }
    },
    "7d58187a4dfb4ce7be6854a486982317": {
     "model_module": "@jupyter-widgets/controls",
     "model_name": "HTMLModel",
     "model_module_version": "1.5.0",
     "state": {
      "_dom_classes": [],
      "_model_module": "@jupyter-widgets/controls",
      "_model_module_version": "1.5.0",
      "_model_name": "HTMLModel",
      "_view_count": null,
      "_view_module": "@jupyter-widgets/controls",
      "_view_module_version": "1.5.0",
      "_view_name": "HTMLView",
      "description": "",
      "description_tooltip": null,
      "layout": "IPY_MODEL_5e69a80d1f334eac8c57ae614e059373",
      "placeholder": "​",
      "style": "IPY_MODEL_99dfb52258404e95b153672315886308",
      "value": " 872k/872k [00:00&lt;00:00, 1.05MB/s]"
     }
    },
    "b482eb2ff4a74cd9bc8694d488651463": {
     "model_module": "@jupyter-widgets/base",
     "model_name": "LayoutModel",
     "model_module_version": "1.2.0",
     "state": {
      "_model_module": "@jupyter-widgets/base",
      "_model_module_version": "1.2.0",
      "_model_name": "LayoutModel",
      "_view_count": null,
      "_view_module": "@jupyter-widgets/base",
      "_view_module_version": "1.2.0",
      "_view_name": "LayoutView",
      "align_content": null,
      "align_items": null,
      "align_self": null,
      "border": null,
      "bottom": null,
      "display": null,
      "flex": null,
      "flex_flow": null,
      "grid_area": null,
      "grid_auto_columns": null,
      "grid_auto_flow": null,
      "grid_auto_rows": null,
      "grid_column": null,
      "grid_gap": null,
      "grid_row": null,
      "grid_template_areas": null,
      "grid_template_columns": null,
      "grid_template_rows": null,
      "height": null,
      "justify_content": null,
      "justify_items": null,
      "left": null,
      "margin": null,
      "max_height": null,
      "max_width": null,
      "min_height": null,
      "min_width": null,
      "object_fit": null,
      "object_position": null,
      "order": null,
      "overflow": null,
      "overflow_x": null,
      "overflow_y": null,
      "padding": null,
      "right": null,
      "top": null,
      "visibility": null,
      "width": null
     }
    },
    "941e729f97b94158850b3cb2d46562c1": {
     "model_module": "@jupyter-widgets/base",
     "model_name": "LayoutModel",
     "model_module_version": "1.2.0",
     "state": {
      "_model_module": "@jupyter-widgets/base",
      "_model_module_version": "1.2.0",
      "_model_name": "LayoutModel",
      "_view_count": null,
      "_view_module": "@jupyter-widgets/base",
      "_view_module_version": "1.2.0",
      "_view_name": "LayoutView",
      "align_content": null,
      "align_items": null,
      "align_self": null,
      "border": null,
      "bottom": null,
      "display": null,
      "flex": null,
      "flex_flow": null,
      "grid_area": null,
      "grid_auto_columns": null,
      "grid_auto_flow": null,
      "grid_auto_rows": null,
      "grid_column": null,
      "grid_gap": null,
      "grid_row": null,
      "grid_template_areas": null,
      "grid_template_columns": null,
      "grid_template_rows": null,
      "height": null,
      "justify_content": null,
      "justify_items": null,
      "left": null,
      "margin": null,
      "max_height": null,
      "max_width": null,
      "min_height": null,
      "min_width": null,
      "object_fit": null,
      "object_position": null,
      "order": null,
      "overflow": null,
      "overflow_x": null,
      "overflow_y": null,
      "padding": null,
      "right": null,
      "top": null,
      "visibility": null,
      "width": null
     }
    },
    "797f32f1545e4b7aab1a7d0c33d654bf": {
     "model_module": "@jupyter-widgets/controls",
     "model_name": "DescriptionStyleModel",
     "model_module_version": "1.5.0",
     "state": {
      "_model_module": "@jupyter-widgets/controls",
      "_model_module_version": "1.5.0",
      "_model_name": "DescriptionStyleModel",
      "_view_count": null,
      "_view_module": "@jupyter-widgets/base",
      "_view_module_version": "1.2.0",
      "_view_name": "StyleView",
      "description_width": ""
     }
    },
    "7373f4167aef4d2e958ce306798d657c": {
     "model_module": "@jupyter-widgets/base",
     "model_name": "LayoutModel",
     "model_module_version": "1.2.0",
     "state": {
      "_model_module": "@jupyter-widgets/base",
      "_model_module_version": "1.2.0",
      "_model_name": "LayoutModel",
      "_view_count": null,
      "_view_module": "@jupyter-widgets/base",
      "_view_module_version": "1.2.0",
      "_view_name": "LayoutView",
      "align_content": null,
      "align_items": null,
      "align_self": null,
      "border": null,
      "bottom": null,
      "display": null,
      "flex": null,
      "flex_flow": null,
      "grid_area": null,
      "grid_auto_columns": null,
      "grid_auto_flow": null,
      "grid_auto_rows": null,
      "grid_column": null,
      "grid_gap": null,
      "grid_row": null,
      "grid_template_areas": null,
      "grid_template_columns": null,
      "grid_template_rows": null,
      "height": null,
      "justify_content": null,
      "justify_items": null,
      "left": null,
      "margin": null,
      "max_height": null,
      "max_width": null,
      "min_height": null,
      "min_width": null,
      "object_fit": null,
      "object_position": null,
      "order": null,
      "overflow": null,
      "overflow_x": null,
      "overflow_y": null,
      "padding": null,
      "right": null,
      "top": null,
      "visibility": null,
      "width": null
     }
    },
    "bd679d9341c6438889103cda17d98e8b": {
     "model_module": "@jupyter-widgets/controls",
     "model_name": "ProgressStyleModel",
     "model_module_version": "1.5.0",
     "state": {
      "_model_module": "@jupyter-widgets/controls",
      "_model_module_version": "1.5.0",
      "_model_name": "ProgressStyleModel",
      "_view_count": null,
      "_view_module": "@jupyter-widgets/base",
      "_view_module_version": "1.2.0",
      "_view_name": "StyleView",
      "bar_color": null,
      "description_width": ""
     }
    },
    "5e69a80d1f334eac8c57ae614e059373": {
     "model_module": "@jupyter-widgets/base",
     "model_name": "LayoutModel",
     "model_module_version": "1.2.0",
     "state": {
      "_model_module": "@jupyter-widgets/base",
      "_model_module_version": "1.2.0",
      "_model_name": "LayoutModel",
      "_view_count": null,
      "_view_module": "@jupyter-widgets/base",
      "_view_module_version": "1.2.0",
      "_view_name": "LayoutView",
      "align_content": null,
      "align_items": null,
      "align_self": null,
      "border": null,
      "bottom": null,
      "display": null,
      "flex": null,
      "flex_flow": null,
      "grid_area": null,
      "grid_auto_columns": null,
      "grid_auto_flow": null,
      "grid_auto_rows": null,
      "grid_column": null,
      "grid_gap": null,
      "grid_row": null,
      "grid_template_areas": null,
      "grid_template_columns": null,
      "grid_template_rows": null,
      "height": null,
      "justify_content": null,
      "justify_items": null,
      "left": null,
      "margin": null,
      "max_height": null,
      "max_width": null,
      "min_height": null,
      "min_width": null,
      "object_fit": null,
      "object_position": null,
      "order": null,
      "overflow": null,
      "overflow_x": null,
      "overflow_y": null,
      "padding": null,
      "right": null,
      "top": null,
      "visibility": null,
      "width": null
     }
    },
    "99dfb52258404e95b153672315886308": {
     "model_module": "@jupyter-widgets/controls",
     "model_name": "DescriptionStyleModel",
     "model_module_version": "1.5.0",
     "state": {
      "_model_module": "@jupyter-widgets/controls",
      "_model_module_version": "1.5.0",
      "_model_name": "DescriptionStyleModel",
      "_view_count": null,
      "_view_module": "@jupyter-widgets/base",
      "_view_module_version": "1.2.0",
      "_view_name": "StyleView",
      "description_width": ""
     }
    },
    "102252218f684454861bddd393a47701": {
     "model_module": "@jupyter-widgets/controls",
     "model_name": "HBoxModel",
     "model_module_version": "1.5.0",
     "state": {
      "_dom_classes": [],
      "_model_module": "@jupyter-widgets/controls",
      "_model_module_version": "1.5.0",
      "_model_name": "HBoxModel",
      "_view_count": null,
      "_view_module": "@jupyter-widgets/controls",
      "_view_module_version": "1.5.0",
      "_view_name": "HBoxView",
      "box_style": "",
      "children": [
       "IPY_MODEL_7966ed8115b74ca49363d012853030cc",
       "IPY_MODEL_a113d3a28ff44e98a18f58693eec160e",
       "IPY_MODEL_d7a80f638388436a99a7132408fea727"
      ],
      "layout": "IPY_MODEL_a8abc1fecc3446bd94ceb41ad30da080"
     }
    },
    "7966ed8115b74ca49363d012853030cc": {
     "model_module": "@jupyter-widgets/controls",
     "model_name": "HTMLModel",
     "model_module_version": "1.5.0",
     "state": {
      "_dom_classes": [],
      "_model_module": "@jupyter-widgets/controls",
      "_model_module_version": "1.5.0",
      "_model_name": "HTMLModel",
      "_view_count": null,
      "_view_module": "@jupyter-widgets/controls",
      "_view_module_version": "1.5.0",
      "_view_name": "HTMLView",
      "description": "",
      "description_tooltip": null,
      "layout": "IPY_MODEL_16ac21e268934256ad92b75086fec48e",
      "placeholder": "​",
      "style": "IPY_MODEL_be10e258249748dd8629c73c00bd1759",
      "value": "Downloading (…)/main/tokenizer.json: 100%"
     }
    },
    "a113d3a28ff44e98a18f58693eec160e": {
     "model_module": "@jupyter-widgets/controls",
     "model_name": "FloatProgressModel",
     "model_module_version": "1.5.0",
     "state": {
      "_dom_classes": [],
      "_model_module": "@jupyter-widgets/controls",
      "_model_module_version": "1.5.0",
      "_model_name": "FloatProgressModel",
      "_view_count": null,
      "_view_module": "@jupyter-widgets/controls",
      "_view_module_version": "1.5.0",
      "_view_name": "ProgressView",
      "bar_style": "success",
      "description": "",
      "description_tooltip": null,
      "layout": "IPY_MODEL_426ddec4ec1c4477a8082c0ff7134dfd",
      "max": 1715180,
      "min": 0,
      "orientation": "horizontal",
      "style": "IPY_MODEL_3a277b87c05b44c09e7a723cdba171f8",
      "value": 1715180
     }
    },
    "d7a80f638388436a99a7132408fea727": {
     "model_module": "@jupyter-widgets/controls",
     "model_name": "HTMLModel",
     "model_module_version": "1.5.0",
     "state": {
      "_dom_classes": [],
      "_model_module": "@jupyter-widgets/controls",
      "_model_module_version": "1.5.0",
      "_model_name": "HTMLModel",
      "_view_count": null,
      "_view_module": "@jupyter-widgets/controls",
      "_view_module_version": "1.5.0",
      "_view_name": "HTMLView",
      "description": "",
      "description_tooltip": null,
      "layout": "IPY_MODEL_b70369ca81274934abbc2166e4d8e6d7",
      "placeholder": "​",
      "style": "IPY_MODEL_f16fd707cd73454399d87c74cdaaeec4",
      "value": " 1.72M/1.72M [00:01&lt;00:00, 1.63MB/s]"
     }
    },
    "a8abc1fecc3446bd94ceb41ad30da080": {
     "model_module": "@jupyter-widgets/base",
     "model_name": "LayoutModel",
     "model_module_version": "1.2.0",
     "state": {
      "_model_module": "@jupyter-widgets/base",
      "_model_module_version": "1.2.0",
      "_model_name": "LayoutModel",
      "_view_count": null,
      "_view_module": "@jupyter-widgets/base",
      "_view_module_version": "1.2.0",
      "_view_name": "LayoutView",
      "align_content": null,
      "align_items": null,
      "align_self": null,
      "border": null,
      "bottom": null,
      "display": null,
      "flex": null,
      "flex_flow": null,
      "grid_area": null,
      "grid_auto_columns": null,
      "grid_auto_flow": null,
      "grid_auto_rows": null,
      "grid_column": null,
      "grid_gap": null,
      "grid_row": null,
      "grid_template_areas": null,
      "grid_template_columns": null,
      "grid_template_rows": null,
      "height": null,
      "justify_content": null,
      "justify_items": null,
      "left": null,
      "margin": null,
      "max_height": null,
      "max_width": null,
      "min_height": null,
      "min_width": null,
      "object_fit": null,
      "object_position": null,
      "order": null,
      "overflow": null,
      "overflow_x": null,
      "overflow_y": null,
      "padding": null,
      "right": null,
      "top": null,
      "visibility": null,
      "width": null
     }
    },
    "16ac21e268934256ad92b75086fec48e": {
     "model_module": "@jupyter-widgets/base",
     "model_name": "LayoutModel",
     "model_module_version": "1.2.0",
     "state": {
      "_model_module": "@jupyter-widgets/base",
      "_model_module_version": "1.2.0",
      "_model_name": "LayoutModel",
      "_view_count": null,
      "_view_module": "@jupyter-widgets/base",
      "_view_module_version": "1.2.0",
      "_view_name": "LayoutView",
      "align_content": null,
      "align_items": null,
      "align_self": null,
      "border": null,
      "bottom": null,
      "display": null,
      "flex": null,
      "flex_flow": null,
      "grid_area": null,
      "grid_auto_columns": null,
      "grid_auto_flow": null,
      "grid_auto_rows": null,
      "grid_column": null,
      "grid_gap": null,
      "grid_row": null,
      "grid_template_areas": null,
      "grid_template_columns": null,
      "grid_template_rows": null,
      "height": null,
      "justify_content": null,
      "justify_items": null,
      "left": null,
      "margin": null,
      "max_height": null,
      "max_width": null,
      "min_height": null,
      "min_width": null,
      "object_fit": null,
      "object_position": null,
      "order": null,
      "overflow": null,
      "overflow_x": null,
      "overflow_y": null,
      "padding": null,
      "right": null,
      "top": null,
      "visibility": null,
      "width": null
     }
    },
    "be10e258249748dd8629c73c00bd1759": {
     "model_module": "@jupyter-widgets/controls",
     "model_name": "DescriptionStyleModel",
     "model_module_version": "1.5.0",
     "state": {
      "_model_module": "@jupyter-widgets/controls",
      "_model_module_version": "1.5.0",
      "_model_name": "DescriptionStyleModel",
      "_view_count": null,
      "_view_module": "@jupyter-widgets/base",
      "_view_module_version": "1.2.0",
      "_view_name": "StyleView",
      "description_width": ""
     }
    },
    "426ddec4ec1c4477a8082c0ff7134dfd": {
     "model_module": "@jupyter-widgets/base",
     "model_name": "LayoutModel",
     "model_module_version": "1.2.0",
     "state": {
      "_model_module": "@jupyter-widgets/base",
      "_model_module_version": "1.2.0",
      "_model_name": "LayoutModel",
      "_view_count": null,
      "_view_module": "@jupyter-widgets/base",
      "_view_module_version": "1.2.0",
      "_view_name": "LayoutView",
      "align_content": null,
      "align_items": null,
      "align_self": null,
      "border": null,
      "bottom": null,
      "display": null,
      "flex": null,
      "flex_flow": null,
      "grid_area": null,
      "grid_auto_columns": null,
      "grid_auto_flow": null,
      "grid_auto_rows": null,
      "grid_column": null,
      "grid_gap": null,
      "grid_row": null,
      "grid_template_areas": null,
      "grid_template_columns": null,
      "grid_template_rows": null,
      "height": null,
      "justify_content": null,
      "justify_items": null,
      "left": null,
      "margin": null,
      "max_height": null,
      "max_width": null,
      "min_height": null,
      "min_width": null,
      "object_fit": null,
      "object_position": null,
      "order": null,
      "overflow": null,
      "overflow_x": null,
      "overflow_y": null,
      "padding": null,
      "right": null,
      "top": null,
      "visibility": null,
      "width": null
     }
    },
    "3a277b87c05b44c09e7a723cdba171f8": {
     "model_module": "@jupyter-widgets/controls",
     "model_name": "ProgressStyleModel",
     "model_module_version": "1.5.0",
     "state": {
      "_model_module": "@jupyter-widgets/controls",
      "_model_module_version": "1.5.0",
      "_model_name": "ProgressStyleModel",
      "_view_count": null,
      "_view_module": "@jupyter-widgets/base",
      "_view_module_version": "1.2.0",
      "_view_name": "StyleView",
      "bar_color": null,
      "description_width": ""
     }
    },
    "b70369ca81274934abbc2166e4d8e6d7": {
     "model_module": "@jupyter-widgets/base",
     "model_name": "LayoutModel",
     "model_module_version": "1.2.0",
     "state": {
      "_model_module": "@jupyter-widgets/base",
      "_model_module_version": "1.2.0",
      "_model_name": "LayoutModel",
      "_view_count": null,
      "_view_module": "@jupyter-widgets/base",
      "_view_module_version": "1.2.0",
      "_view_name": "LayoutView",
      "align_content": null,
      "align_items": null,
      "align_self": null,
      "border": null,
      "bottom": null,
      "display": null,
      "flex": null,
      "flex_flow": null,
      "grid_area": null,
      "grid_auto_columns": null,
      "grid_auto_flow": null,
      "grid_auto_rows": null,
      "grid_column": null,
      "grid_gap": null,
      "grid_row": null,
      "grid_template_areas": null,
      "grid_template_columns": null,
      "grid_template_rows": null,
      "height": null,
      "justify_content": null,
      "justify_items": null,
      "left": null,
      "margin": null,
      "max_height": null,
      "max_width": null,
      "min_height": null,
      "min_width": null,
      "object_fit": null,
      "object_position": null,
      "order": null,
      "overflow": null,
      "overflow_x": null,
      "overflow_y": null,
      "padding": null,
      "right": null,
      "top": null,
      "visibility": null,
      "width": null
     }
    },
    "f16fd707cd73454399d87c74cdaaeec4": {
     "model_module": "@jupyter-widgets/controls",
     "model_name": "DescriptionStyleModel",
     "model_module_version": "1.5.0",
     "state": {
      "_model_module": "@jupyter-widgets/controls",
      "_model_module_version": "1.5.0",
      "_model_name": "DescriptionStyleModel",
      "_view_count": null,
      "_view_module": "@jupyter-widgets/base",
      "_view_module_version": "1.2.0",
      "_view_name": "StyleView",
      "description_width": ""
     }
    },
    "847c72b67b344b5b955a6c6267918585": {
     "model_module": "@jupyter-widgets/controls",
     "model_name": "HBoxModel",
     "model_module_version": "1.5.0",
     "state": {
      "_dom_classes": [],
      "_model_module": "@jupyter-widgets/controls",
      "_model_module_version": "1.5.0",
      "_model_name": "HBoxModel",
      "_view_count": null,
      "_view_module": "@jupyter-widgets/controls",
      "_view_module_version": "1.5.0",
      "_view_name": "HBoxView",
      "box_style": "",
      "children": [
       "IPY_MODEL_ff7b8659575c402b9b646d2a1a6b6686",
       "IPY_MODEL_89645ab6e2f34aa490ff6f358efae8d3",
       "IPY_MODEL_15db89e967884232b7cb369aa102cbf1"
      ],
      "layout": "IPY_MODEL_4406af5af64c42e8bd6fae4440d74cac"
     }
    },
    "ff7b8659575c402b9b646d2a1a6b6686": {
     "model_module": "@jupyter-widgets/controls",
     "model_name": "HTMLModel",
     "model_module_version": "1.5.0",
     "state": {
      "_dom_classes": [],
      "_model_module": "@jupyter-widgets/controls",
      "_model_module_version": "1.5.0",
      "_model_name": "HTMLModel",
      "_view_count": null,
      "_view_module": "@jupyter-widgets/controls",
      "_view_module_version": "1.5.0",
      "_view_name": "HTMLView",
      "description": "",
      "description_tooltip": null,
      "layout": "IPY_MODEL_2ca4c194333a4516a9fb80cb74e687ca",
      "placeholder": "​",
      "style": "IPY_MODEL_463588b4c8234dd9929c03a77054ca78",
      "value": "Downloading model.safetensors: 100%"
     }
    },
    "89645ab6e2f34aa490ff6f358efae8d3": {
     "model_module": "@jupyter-widgets/controls",
     "model_name": "FloatProgressModel",
     "model_module_version": "1.5.0",
     "state": {
      "_dom_classes": [],
      "_model_module": "@jupyter-widgets/controls",
      "_model_module_version": "1.5.0",
      "_model_name": "FloatProgressModel",
      "_view_count": null,
      "_view_module": "@jupyter-widgets/controls",
      "_view_module_version": "1.5.0",
      "_view_name": "ProgressView",
      "bar_style": "success",
      "description": "",
      "description_tooltip": null,
      "layout": "IPY_MODEL_c748853e5a2748bea730d601ace63a04",
      "max": 672247920,
      "min": 0,
      "orientation": "horizontal",
      "style": "IPY_MODEL_7a80ab93e8414a03b9f0ef93469081c7",
      "value": 672247920
     }
    },
    "15db89e967884232b7cb369aa102cbf1": {
     "model_module": "@jupyter-widgets/controls",
     "model_name": "HTMLModel",
     "model_module_version": "1.5.0",
     "state": {
      "_dom_classes": [],
      "_model_module": "@jupyter-widgets/controls",
      "_model_module_version": "1.5.0",
      "_model_name": "HTMLModel",
      "_view_count": null,
      "_view_module": "@jupyter-widgets/controls",
      "_view_module_version": "1.5.0",
      "_view_name": "HTMLView",
      "description": "",
      "description_tooltip": null,
      "layout": "IPY_MODEL_0b1ff1799757471ab9c04c24fc9539c1",
      "placeholder": "​",
      "style": "IPY_MODEL_def3c3d158cf4cbb94bd64299e1793c9",
      "value": " 672M/672M [00:02&lt;00:00, 255MB/s]"
     }
    },
    "4406af5af64c42e8bd6fae4440d74cac": {
     "model_module": "@jupyter-widgets/base",
     "model_name": "LayoutModel",
     "model_module_version": "1.2.0",
     "state": {
      "_model_module": "@jupyter-widgets/base",
      "_model_module_version": "1.2.0",
      "_model_name": "LayoutModel",
      "_view_count": null,
      "_view_module": "@jupyter-widgets/base",
      "_view_module_version": "1.2.0",
      "_view_name": "LayoutView",
      "align_content": null,
      "align_items": null,
      "align_self": null,
      "border": null,
      "bottom": null,
      "display": null,
      "flex": null,
      "flex_flow": null,
      "grid_area": null,
      "grid_auto_columns": null,
      "grid_auto_flow": null,
      "grid_auto_rows": null,
      "grid_column": null,
      "grid_gap": null,
      "grid_row": null,
      "grid_template_areas": null,
      "grid_template_columns": null,
      "grid_template_rows": null,
      "height": null,
      "justify_content": null,
      "justify_items": null,
      "left": null,
      "margin": null,
      "max_height": null,
      "max_width": null,
      "min_height": null,
      "min_width": null,
      "object_fit": null,
      "object_position": null,
      "order": null,
      "overflow": null,
      "overflow_x": null,
      "overflow_y": null,
      "padding": null,
      "right": null,
      "top": null,
      "visibility": null,
      "width": null
     }
    },
    "2ca4c194333a4516a9fb80cb74e687ca": {
     "model_module": "@jupyter-widgets/base",
     "model_name": "LayoutModel",
     "model_module_version": "1.2.0",
     "state": {
      "_model_module": "@jupyter-widgets/base",
      "_model_module_version": "1.2.0",
      "_model_name": "LayoutModel",
      "_view_count": null,
      "_view_module": "@jupyter-widgets/base",
      "_view_module_version": "1.2.0",
      "_view_name": "LayoutView",
      "align_content": null,
      "align_items": null,
      "align_self": null,
      "border": null,
      "bottom": null,
      "display": null,
      "flex": null,
      "flex_flow": null,
      "grid_area": null,
      "grid_auto_columns": null,
      "grid_auto_flow": null,
      "grid_auto_rows": null,
      "grid_column": null,
      "grid_gap": null,
      "grid_row": null,
      "grid_template_areas": null,
      "grid_template_columns": null,
      "grid_template_rows": null,
      "height": null,
      "justify_content": null,
      "justify_items": null,
      "left": null,
      "margin": null,
      "max_height": null,
      "max_width": null,
      "min_height": null,
      "min_width": null,
      "object_fit": null,
      "object_position": null,
      "order": null,
      "overflow": null,
      "overflow_x": null,
      "overflow_y": null,
      "padding": null,
      "right": null,
      "top": null,
      "visibility": null,
      "width": null
     }
    },
    "463588b4c8234dd9929c03a77054ca78": {
     "model_module": "@jupyter-widgets/controls",
     "model_name": "DescriptionStyleModel",
     "model_module_version": "1.5.0",
     "state": {
      "_model_module": "@jupyter-widgets/controls",
      "_model_module_version": "1.5.0",
      "_model_name": "DescriptionStyleModel",
      "_view_count": null,
      "_view_module": "@jupyter-widgets/base",
      "_view_module_version": "1.2.0",
      "_view_name": "StyleView",
      "description_width": ""
     }
    },
    "c748853e5a2748bea730d601ace63a04": {
     "model_module": "@jupyter-widgets/base",
     "model_name": "LayoutModel",
     "model_module_version": "1.2.0",
     "state": {
      "_model_module": "@jupyter-widgets/base",
      "_model_module_version": "1.2.0",
      "_model_name": "LayoutModel",
      "_view_count": null,
      "_view_module": "@jupyter-widgets/base",
      "_view_module_version": "1.2.0",
      "_view_name": "LayoutView",
      "align_content": null,
      "align_items": null,
      "align_self": null,
      "border": null,
      "bottom": null,
      "display": null,
      "flex": null,
      "flex_flow": null,
      "grid_area": null,
      "grid_auto_columns": null,
      "grid_auto_flow": null,
      "grid_auto_rows": null,
      "grid_column": null,
      "grid_gap": null,
      "grid_row": null,
      "grid_template_areas": null,
      "grid_template_columns": null,
      "grid_template_rows": null,
      "height": null,
      "justify_content": null,
      "justify_items": null,
      "left": null,
      "margin": null,
      "max_height": null,
      "max_width": null,
      "min_height": null,
      "min_width": null,
      "object_fit": null,
      "object_position": null,
      "order": null,
      "overflow": null,
      "overflow_x": null,
      "overflow_y": null,
      "padding": null,
      "right": null,
      "top": null,
      "visibility": null,
      "width": null
     }
    },
    "7a80ab93e8414a03b9f0ef93469081c7": {
     "model_module": "@jupyter-widgets/controls",
     "model_name": "ProgressStyleModel",
     "model_module_version": "1.5.0",
     "state": {
      "_model_module": "@jupyter-widgets/controls",
      "_model_module_version": "1.5.0",
      "_model_name": "ProgressStyleModel",
      "_view_count": null,
      "_view_module": "@jupyter-widgets/base",
      "_view_module_version": "1.2.0",
      "_view_name": "StyleView",
      "bar_color": null,
      "description_width": ""
     }
    },
    "0b1ff1799757471ab9c04c24fc9539c1": {
     "model_module": "@jupyter-widgets/base",
     "model_name": "LayoutModel",
     "model_module_version": "1.2.0",
     "state": {
      "_model_module": "@jupyter-widgets/base",
      "_model_module_version": "1.2.0",
      "_model_name": "LayoutModel",
      "_view_count": null,
      "_view_module": "@jupyter-widgets/base",
      "_view_module_version": "1.2.0",
      "_view_name": "LayoutView",
      "align_content": null,
      "align_items": null,
      "align_self": null,
      "border": null,
      "bottom": null,
      "display": null,
      "flex": null,
      "flex_flow": null,
      "grid_area": null,
      "grid_auto_columns": null,
      "grid_auto_flow": null,
      "grid_auto_rows": null,
      "grid_column": null,
      "grid_gap": null,
      "grid_row": null,
      "grid_template_areas": null,
      "grid_template_columns": null,
      "grid_template_rows": null,
      "height": null,
      "justify_content": null,
      "justify_items": null,
      "left": null,
      "margin": null,
      "max_height": null,
      "max_width": null,
      "min_height": null,
      "min_width": null,
      "object_fit": null,
      "object_position": null,
      "order": null,
      "overflow": null,
      "overflow_x": null,
      "overflow_y": null,
      "padding": null,
      "right": null,
      "top": null,
      "visibility": null,
      "width": null
     }
    },
    "def3c3d158cf4cbb94bd64299e1793c9": {
     "model_module": "@jupyter-widgets/controls",
     "model_name": "DescriptionStyleModel",
     "model_module_version": "1.5.0",
     "state": {
      "_model_module": "@jupyter-widgets/controls",
      "_model_module_version": "1.5.0",
      "_model_name": "DescriptionStyleModel",
      "_view_count": null,
      "_view_module": "@jupyter-widgets/base",
      "_view_module_version": "1.2.0",
      "_view_name": "StyleView",
      "description_width": ""
     }
    }
   }
  }
 },
 "nbformat": 4,
 "nbformat_minor": 5
}
