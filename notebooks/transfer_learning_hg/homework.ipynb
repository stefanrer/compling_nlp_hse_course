{
 "cells": [
  {
   "cell_type": "markdown",
   "id": "f5f1173d",
   "metadata": {
    "id": "f5f1173d"
   },
   "source": [
    "# Домашнее задание № 9. Предобученные трансформеры"
   ]
  },
  {
   "cell_type": "markdown",
   "id": "61808033",
   "metadata": {
    "id": "61808033"
   },
   "source": [
    "### Задание 1 (8 баллов).\n",
    "Дообучите 3 предобученных модели на тех же данных, что и в семинаре. Сравните качество и выберите лучшую.\n",
    "Модели должны отличаться друг от друга не только параметрами ru/en/multilingual, base/large, cased/uncased. Все три выбранные модели должны работать лучше, чем бейзлайн без дообучения (т.е. если модель не работает, попробуйте другую).\n"
   ]
  },
  {
   "cell_type": "markdown",
   "id": "vVhp-Km1BvYr",
   "metadata": {
    "id": "vVhp-Km1BvYr"
   },
   "source": []
  },
  {
   "cell_type": "code",
   "execution_count": 1,
   "id": "29742a54",
   "metadata": {
    "id": "29742a54",
    "ExecuteTime": {
     "end_time": "2023-06-15T20:43:14.431552700Z",
     "start_time": "2023-06-15T20:43:11.229854900Z"
    }
   },
   "outputs": [],
   "source": [
    "# стандартные библиотеки\n",
    "import os, re\n",
    "import numpy as np\n",
    "from time import time\n",
    "from sklearn.model_selection import train_test_split\n",
    "import pandas as pd\n",
    "from collections import Counter\n",
    "from string import punctuation\n",
    "import matplotlib.pyplot as plt\n",
    "%matplotlib inline\n",
    "\n",
    "\n",
    "# tf и huggingface\n",
    "import tensorflow as tf\n",
    "from transformers import TFAutoModel, TFAutoModelForSequenceClassification\n",
    "from transformers import AutoTokenizer\n",
    "from sklearn.metrics import classification_report"
   ]
  },
  {
   "cell_type": "code",
   "execution_count": 2,
   "id": "1f6a0b99",
   "metadata": {
    "id": "1f6a0b99",
    "ExecuteTime": {
     "end_time": "2023-06-15T20:43:23.322598400Z",
     "start_time": "2023-06-15T20:43:23.291864900Z"
    }
   },
   "outputs": [],
   "source": [
    "data = pd.read_csv('lenta_sample.csv')\n",
    "data.dropna(subset=['topic', 'text'], inplace=True)"
   ]
  },
  {
   "cell_type": "code",
   "execution_count": 3,
   "id": "7335G3ORGmqg",
   "metadata": {
    "colab": {
     "base_uri": "https://localhost:8080/"
    },
    "id": "7335G3ORGmqg",
    "outputId": "5c2e329b-4917-4fdf-996f-cd6b7096de7c",
    "ExecuteTime": {
     "end_time": "2023-06-15T20:43:24.155157600Z",
     "start_time": "2023-06-15T20:43:24.138305500Z"
    }
   },
   "outputs": [
    {
     "data": {
      "text/plain": "Из жизни             55\nНаука и техника      54\nБывший СССР          54\nКультура             53\nЦенности             45\nДом                  45\nБизнес               44\nИнтернет и СМИ       44\nСиловые структуры    40\nСпорт                39\nРоссия               32\nЭкономика            32\nМир                  27\n69-я параллель       13\nЛегпром              13\nБиблиотека           10\nКрым                  7\nName: topic, dtype: int64"
     },
     "execution_count": 3,
     "metadata": {},
     "output_type": "execute_result"
    }
   ],
   "source": [
    "data.topic.value_counts()"
   ]
  },
  {
   "cell_type": "code",
   "execution_count": 4,
   "id": "7wgRHCqIGpRU",
   "metadata": {
    "colab": {
     "base_uri": "https://localhost:8080/"
    },
    "id": "7wgRHCqIGpRU",
    "outputId": "18ad775c-af92-4a91-d5dd-4d496248d99d",
    "ExecuteTime": {
     "end_time": "2023-06-15T20:43:24.892162600Z",
     "start_time": "2023-06-15T20:43:24.876752300Z"
    }
   },
   "outputs": [
    {
     "data": {
      "text/plain": "(607, 6)"
     },
     "execution_count": 4,
     "metadata": {},
     "output_type": "execute_result"
    }
   ],
   "source": [
    "data.shape"
   ]
  },
  {
   "cell_type": "markdown",
   "id": "1PHrF9j-Jkjv",
   "metadata": {
    "id": "1PHrF9j-Jkjv"
   },
   "source": [
    "# Модель 1"
   ]
  },
  {
   "cell_type": "code",
   "execution_count": null,
   "id": "ljGmoIKQJnLy",
   "metadata": {
    "ExecuteTime": {
     "end_time": "2023-06-15T16:29:24.584480Z",
     "start_time": "2023-06-15T16:28:54.498617900Z"
    },
    "colab": {
     "base_uri": "https://localhost:8080/",
     "referenced_widgets": [
      "dbf6710b984d49eca98ca88a6256a371",
      "818d16a8848047ab85c715cf5fb228bb",
      "3a0191fb55364febbe1295f86d5e435e",
      "db96de9eb0674b53a0b05ef0e97823bf",
      "2a8267181ea142c8954d857c31af07fd"
     ]
    },
    "id": "ljGmoIKQJnLy",
    "outputId": "b1b7ad1b-976a-4095-a7bd-29529e7e7eab"
   },
   "outputs": [
    {
     "data": {
      "application/vnd.jupyter.widget-view+json": {
       "model_id": "dbf6710b984d49eca98ca88a6256a371",
       "version_major": 2,
       "version_minor": 0
      },
      "text/plain": [
       "Downloading (…)okenizer_config.json:   0%|          | 0.00/24.0 [00:00<?, ?B/s]"
      ]
     },
     "metadata": {},
     "output_type": "display_data"
    },
    {
     "name": "stderr",
     "output_type": "stream",
     "text": [
      "C:\\Users\\robst\\PycharmProjects\\HSE_NLP\\venv2\\lib\\site-packages\\huggingface_hub\\file_download.py:133: UserWarning: `huggingface_hub` cache-system uses symlinks by default to efficiently store duplicated files but your machine does not support them in C:\\Users\\robst\\.cache\\huggingface\\hub. Caching files will still work but in a degraded version that might require more space on your disk. This warning can be disabled by setting the `HF_HUB_DISABLE_SYMLINKS_WARNING` environment variable. For more details, see https://huggingface.co/docs/huggingface_hub/how-to-cache#limitations.\n",
      "To support symlinks on Windows, you either need to activate Developer Mode or to run Python as an administrator. In order to see activate developer mode, see this article: https://docs.microsoft.com/en-us/windows/apps/get-started/enable-your-device-for-development\n",
      "  warnings.warn(message)\n"
     ]
    },
    {
     "data": {
      "application/vnd.jupyter.widget-view+json": {
       "model_id": "818d16a8848047ab85c715cf5fb228bb",
       "version_major": 2,
       "version_minor": 0
      },
      "text/plain": [
       "Downloading (…)lve/main/config.json:   0%|          | 0.00/642 [00:00<?, ?B/s]"
      ]
     },
     "metadata": {},
     "output_type": "display_data"
    },
    {
     "data": {
      "application/vnd.jupyter.widget-view+json": {
       "model_id": "3a0191fb55364febbe1295f86d5e435e",
       "version_major": 2,
       "version_minor": 0
      },
      "text/plain": [
       "Downloading (…)solve/main/vocab.txt:   0%|          | 0.00/1.65M [00:00<?, ?B/s]"
      ]
     },
     "metadata": {},
     "output_type": "display_data"
    },
    {
     "data": {
      "application/vnd.jupyter.widget-view+json": {
       "model_id": "db96de9eb0674b53a0b05ef0e97823bf",
       "version_major": 2,
       "version_minor": 0
      },
      "text/plain": [
       "Downloading (…)cial_tokens_map.json:   0%|          | 0.00/112 [00:00<?, ?B/s]"
      ]
     },
     "metadata": {},
     "output_type": "display_data"
    },
    {
     "data": {
      "application/vnd.jupyter.widget-view+json": {
       "model_id": "2a8267181ea142c8954d857c31af07fd",
       "version_major": 2,
       "version_minor": 0
      },
      "text/plain": [
       "Downloading pytorch_model.bin:   0%|          | 0.00/714M [00:00<?, ?B/s]"
      ]
     },
     "metadata": {},
     "output_type": "display_data"
    },
    {
     "name": "stderr",
     "output_type": "stream",
     "text": [
      "Some weights of the PyTorch model were not used when initializing the TF 2.0 model TFBertModel: ['cls.predictions.transform.dense.bias', 'cls.predictions.bias', 'cls.seq_relationship.weight', 'cls.seq_relationship.bias', 'cls.predictions.transform.LayerNorm.weight', 'cls.predictions.transform.dense.weight', 'cls.predictions.decoder.bias', 'cls.predictions.transform.LayerNorm.bias', 'cls.predictions.decoder.weight', 'bert.embeddings.position_ids']\n",
      "- This IS expected if you are initializing TFBertModel from a PyTorch model trained on another task or with another architecture (e.g. initializing a TFBertForSequenceClassification model from a BertForPreTraining model).\n",
      "- This IS NOT expected if you are initializing TFBertModel from a PyTorch model that you expect to be exactly identical (e.g. initializing a TFBertForSequenceClassification model from a BertForSequenceClassification model).\n",
      "All the weights of TFBertModel were initialized from the PyTorch model.\n",
      "If your task is similar to the task the model of the checkpoint was trained on, you can already use TFBertModel for predictions without further training.\n"
     ]
    }
   ],
   "source": [
    "tokenizer_1 = AutoTokenizer.from_pretrained(\"DeepPavlov/rubert-base-cased\")\n",
    "\n",
    "model_1 = TFAutoModel.from_pretrained(\"DeepPavlov/rubert-base-cased\", from_pt=True)"
   ]
  },
  {
   "cell_type": "code",
   "execution_count": null,
   "id": "vGLDgqCZK43t",
   "metadata": {
    "ExecuteTime": {
     "end_time": "2023-06-15T16:29:24.645451700Z",
     "start_time": "2023-06-15T16:29:24.587480400Z"
    },
    "colab": {
     "base_uri": "https://localhost:8080/",
     "height": 36
    },
    "id": "vGLDgqCZK43t",
    "outputId": "a9554bbd-7e4f-4de8-a7be-dfe95a793d87"
   },
   "outputs": [
    {
     "data": {
      "text/plain": [
       "'По факту пожара на\\xa0заводе в\\xa0Югре заведено дело'"
      ]
     },
     "execution_count": 10,
     "metadata": {},
     "output_type": "execute_result"
    }
   ],
   "source": [
    "data.loc[4, 'title']"
   ]
  },
  {
   "cell_type": "code",
   "execution_count": null,
   "id": "LPg2Plb-BvYu",
   "metadata": {
    "ExecuteTime": {
     "end_time": "2023-06-15T16:45:21.940361400Z",
     "start_time": "2023-06-15T16:45:21.914797800Z"
    },
    "id": "LPg2Plb-BvYu",
    "outputId": "cc698a52-5550-4e06-befa-3d2e6cf509dc"
   },
   "outputs": [
    {
     "data": {
      "text/html": [
       "<div>\n",
       "<style scoped>\n",
       "    .dataframe tbody tr th:only-of-type {\n",
       "        vertical-align: middle;\n",
       "    }\n",
       "\n",
       "    .dataframe tbody tr th {\n",
       "        vertical-align: top;\n",
       "    }\n",
       "\n",
       "    .dataframe thead th {\n",
       "        text-align: right;\n",
       "    }\n",
       "</style>\n",
       "<table border=\"1\" class=\"dataframe\">\n",
       "  <thead>\n",
       "    <tr style=\"text-align: right;\">\n",
       "      <th></th>\n",
       "      <th>url</th>\n",
       "      <th>title</th>\n",
       "      <th>text</th>\n",
       "      <th>topic</th>\n",
       "      <th>tags</th>\n",
       "      <th>date</th>\n",
       "    </tr>\n",
       "  </thead>\n",
       "  <tbody>\n",
       "    <tr>\n",
       "      <th>0</th>\n",
       "      <td>https://lenta.ru/news/2010/12/16/passports/</td>\n",
       "      <td>Московская милиция ужесточила паспортный режим</td>\n",
       "      <td>В Москве после серии массовых беспорядков на н...</td>\n",
       "      <td>Россия</td>\n",
       "      <td>Все</td>\n",
       "      <td>2010/12/16</td>\n",
       "    </tr>\n",
       "    <tr>\n",
       "      <th>1</th>\n",
       "      <td>https://lenta.ru/news/2014/05/19/student/</td>\n",
       "      <td>Московского студента ограбили на 6 миллионов р...</td>\n",
       "      <td>Неизвестные вынесли из квартиры московского ст...</td>\n",
       "      <td>Россия</td>\n",
       "      <td>NaN</td>\n",
       "      <td>2014/05/19</td>\n",
       "    </tr>\n",
       "    <tr>\n",
       "      <th>2</th>\n",
       "      <td>https://lenta.ru/news/2008/09/27/catch/</td>\n",
       "      <td>В Ставропольском крае обезврежены боевики</td>\n",
       "      <td>В Ставропольском крае задержаны боевики, котор...</td>\n",
       "      <td>Россия</td>\n",
       "      <td>Все</td>\n",
       "      <td>2008/09/27</td>\n",
       "    </tr>\n",
       "    <tr>\n",
       "      <th>3</th>\n",
       "      <td>https://lenta.ru/news/2009/07/23/refuse/</td>\n",
       "      <td>Лужков отказался трудоустраивать китайцев с Че...</td>\n",
       "      <td>Мэр Москвы Юрий Лужков заявил, что не намерен ...</td>\n",
       "      <td>Россия</td>\n",
       "      <td>Все</td>\n",
       "      <td>2009/07/23</td>\n",
       "    </tr>\n",
       "    <tr>\n",
       "      <th>4</th>\n",
       "      <td>https://lenta.ru/news/2012/09/29/factory/</td>\n",
       "      <td>По факту пожара на заводе в Югре заведено дело</td>\n",
       "      <td>Следственный комитет России возбудил уголовное...</td>\n",
       "      <td>Россия</td>\n",
       "      <td>Все</td>\n",
       "      <td>2012/09/29</td>\n",
       "    </tr>\n",
       "    <tr>\n",
       "      <th>...</th>\n",
       "      <td>...</td>\n",
       "      <td>...</td>\n",
       "      <td>...</td>\n",
       "      <td>...</td>\n",
       "      <td>...</td>\n",
       "      <td>...</td>\n",
       "    </tr>\n",
       "    <tr>\n",
       "      <th>602</th>\n",
       "      <td>https://lenta.ru/news/2014/09/14/pattern/</td>\n",
       "      <td>1914. Выкройки для раненых</td>\n",
       "      <td>В дополнение к выкройкам белья для раненых, ра...</td>\n",
       "      <td>Библиотека</td>\n",
       "      <td>Первая мировая</td>\n",
       "      <td>2014/09/14</td>\n",
       "    </tr>\n",
       "    <tr>\n",
       "      <th>603</th>\n",
       "      <td>https://lenta.ru/news/2014/12/23/christmas/</td>\n",
       "      <td>1914. Немецкие и британские солдаты отметили п...</td>\n",
       "      <td>24 декабря в Бельгии в районе Ипра произошло н...</td>\n",
       "      <td>Библиотека</td>\n",
       "      <td>Первая мировая</td>\n",
       "      <td>2014/12/23</td>\n",
       "    </tr>\n",
       "    <tr>\n",
       "      <th>604</th>\n",
       "      <td>https://lenta.ru/news/2014/10/21/dobrovolec/</td>\n",
       "      <td>1914. Польский доброволец-герой</td>\n",
       "      <td>В числе поступивших в нашу армию добровольцев ...</td>\n",
       "      <td>Библиотека</td>\n",
       "      <td>Первая мировая</td>\n",
       "      <td>2014/10/21</td>\n",
       "    </tr>\n",
       "    <tr>\n",
       "      <th>605</th>\n",
       "      <td>https://lenta.ru/news/2014/09/18/postoffice/</td>\n",
       "      <td>1914. Письма в действующую армию на деревню де...</td>\n",
       "      <td>За последнее время на имя начальника штаба Вер...</td>\n",
       "      <td>Библиотека</td>\n",
       "      <td>Первая мировая</td>\n",
       "      <td>2014/09/18</td>\n",
       "    </tr>\n",
       "    <tr>\n",
       "      <th>606</th>\n",
       "      <td>https://lenta.ru/news/1914/09/16/lermontov/</td>\n",
       "      <td>1914. Празднование столетия М.Ю. Лермонтова от...</td>\n",
       "      <td>Министерство народного просвещения, в виду про...</td>\n",
       "      <td>Библиотека</td>\n",
       "      <td>Первая мировая</td>\n",
       "      <td>1914/09/16</td>\n",
       "    </tr>\n",
       "  </tbody>\n",
       "</table>\n",
       "<p>607 rows × 6 columns</p>\n",
       "</div>"
      ],
      "text/plain": [
       "                                              url  \\\n",
       "0     https://lenta.ru/news/2010/12/16/passports/   \n",
       "1       https://lenta.ru/news/2014/05/19/student/   \n",
       "2         https://lenta.ru/news/2008/09/27/catch/   \n",
       "3        https://lenta.ru/news/2009/07/23/refuse/   \n",
       "4       https://lenta.ru/news/2012/09/29/factory/   \n",
       "..                                            ...   \n",
       "602     https://lenta.ru/news/2014/09/14/pattern/   \n",
       "603   https://lenta.ru/news/2014/12/23/christmas/   \n",
       "604  https://lenta.ru/news/2014/10/21/dobrovolec/   \n",
       "605  https://lenta.ru/news/2014/09/18/postoffice/   \n",
       "606   https://lenta.ru/news/1914/09/16/lermontov/   \n",
       "\n",
       "                                                 title  \\\n",
       "0       Московская милиция ужесточила паспортный режим   \n",
       "1    Московского студента ограбили на 6 миллионов р...   \n",
       "2            В Ставропольском крае обезврежены боевики   \n",
       "3    Лужков отказался трудоустраивать китайцев с Че...   \n",
       "4       По факту пожара на заводе в Югре заведено дело   \n",
       "..                                                 ...   \n",
       "602                        1914. Выкройки для раненых    \n",
       "603  1914. Немецкие и британские солдаты отметили п...   \n",
       "604                    1914. Польский доброволец-герой   \n",
       "605  1914. Письма в действующую армию на деревню де...   \n",
       "606  1914. Празднование столетия М.Ю. Лермонтова от...   \n",
       "\n",
       "                                                  text       topic  \\\n",
       "0    В Москве после серии массовых беспорядков на н...      Россия   \n",
       "1    Неизвестные вынесли из квартиры московского ст...      Россия   \n",
       "2    В Ставропольском крае задержаны боевики, котор...      Россия   \n",
       "3    Мэр Москвы Юрий Лужков заявил, что не намерен ...      Россия   \n",
       "4    Следственный комитет России возбудил уголовное...      Россия   \n",
       "..                                                 ...         ...   \n",
       "602  В дополнение к выкройкам белья для раненых, ра...  Библиотека   \n",
       "603  24 декабря в Бельгии в районе Ипра произошло н...  Библиотека   \n",
       "604  В числе поступивших в нашу армию добровольцев ...  Библиотека   \n",
       "605  За последнее время на имя начальника штаба Вер...  Библиотека   \n",
       "606  Министерство народного просвещения, в виду про...  Библиотека   \n",
       "\n",
       "               tags        date  \n",
       "0               Все  2010/12/16  \n",
       "1               NaN  2014/05/19  \n",
       "2               Все  2008/09/27  \n",
       "3               Все  2009/07/23  \n",
       "4               Все  2012/09/29  \n",
       "..              ...         ...  \n",
       "602  Первая мировая  2014/09/14  \n",
       "603  Первая мировая  2014/12/23  \n",
       "604  Первая мировая  2014/10/21  \n",
       "605  Первая мировая  2014/09/18  \n",
       "606  Первая мировая  1914/09/16  \n",
       "\n",
       "[607 rows x 6 columns]"
      ]
     },
     "execution_count": 29,
     "metadata": {},
     "output_type": "execute_result"
    }
   ],
   "source": [
    "data"
   ]
  },
  {
   "cell_type": "code",
   "execution_count": null,
   "id": "Cr349M6AMAg8",
   "metadata": {
    "ExecuteTime": {
     "end_time": "2023-06-15T16:29:24.655665700Z",
     "start_time": "2023-06-15T16:29:24.601876900Z"
    },
    "id": "Cr349M6AMAg8"
   },
   "outputs": [],
   "source": [
    "# переводим тексты в последовательности индексов\n",
    "# У берта есть ограничение на максимальную длину последовательности - 512\n",
    "# Для заголовков это не очень актуально, но для других данных пригодится\n",
    "\n",
    "X = []\n",
    "\n",
    "for text in data.title:\n",
    "    ids = tokenizer_1.encode(text)\n",
    "\n",
    "    X.append(ids[:512])"
   ]
  },
  {
   "cell_type": "code",
   "execution_count": null,
   "id": "I2qrn25sMCAa",
   "metadata": {
    "ExecuteTime": {
     "end_time": "2023-06-15T16:29:24.665241700Z",
     "start_time": "2023-06-15T16:29:24.648946400Z"
    },
    "id": "I2qrn25sMCAa"
   },
   "outputs": [],
   "source": [
    "X = tf.keras.preprocessing.sequence.pad_sequences(X, padding='post', maxlen=512)"
   ]
  },
  {
   "cell_type": "code",
   "execution_count": null,
   "id": "lQ_LgPMwMDfH",
   "metadata": {
    "ExecuteTime": {
     "end_time": "2023-06-15T16:29:24.694675Z",
     "start_time": "2023-06-15T16:29:24.664251400Z"
    },
    "id": "lQ_LgPMwMDfH"
   },
   "outputs": [],
   "source": [
    "id2label = {i:label for i, label in enumerate(set(data.topic.values))}\n",
    "label2id = {l:i for i, l in id2label.items()}\n",
    "\n",
    "y = tf.keras.utils.to_categorical([label2id[label] for label in data.topic.values])"
   ]
  },
  {
   "cell_type": "code",
   "execution_count": null,
   "id": "PTJjxy8xMEsZ",
   "metadata": {
    "ExecuteTime": {
     "end_time": "2023-06-15T16:29:24.694675Z",
     "start_time": "2023-06-15T16:29:24.680752400Z"
    },
    "colab": {
     "base_uri": "https://localhost:8080/"
    },
    "id": "PTJjxy8xMEsZ",
    "outputId": "89f5cd90-9f2d-4b40-f5e6-7ecfbde927b3"
   },
   "outputs": [
    {
     "data": {
      "text/plain": [
       "(607, 512)"
      ]
     },
     "execution_count": 14,
     "metadata": {},
     "output_type": "execute_result"
    }
   ],
   "source": [
    "X.shape"
   ]
  },
  {
   "cell_type": "code",
   "execution_count": null,
   "id": "qDqitirSMGct",
   "metadata": {
    "ExecuteTime": {
     "end_time": "2023-06-15T16:29:24.709256400Z",
     "start_time": "2023-06-15T16:29:24.695674600Z"
    },
    "id": "qDqitirSMGct"
   },
   "outputs": [],
   "source": [
    "train_index, valid_index = train_test_split(list(range(len(X))), test_size=0.05, stratify=data.topic)"
   ]
  },
  {
   "cell_type": "code",
   "execution_count": null,
   "id": "oFiGjaLQMIHI",
   "metadata": {
    "ExecuteTime": {
     "end_time": "2023-06-15T16:29:24.769506400Z",
     "start_time": "2023-06-15T16:29:24.710667100Z"
    },
    "id": "oFiGjaLQMIHI"
   },
   "outputs": [],
   "source": [
    "X_train, y_train = X[train_index], y[train_index]\n",
    "X_valid, y_valid = X[valid_index], y[valid_index]"
   ]
  },
  {
   "cell_type": "code",
   "execution_count": null,
   "id": "u1Km0Qx0MXjg",
   "metadata": {
    "id": "u1Km0Qx0MXjg"
   },
   "outputs": [],
   "source": [
    "input_word_ids = tf.keras.layers.Input(shape=(512,), dtype=tf.int32,\n",
    "                                     name=\"input_ids\")\n",
    "output = model_1(input_word_ids)\n",
    "drop = tf.keras.layers.Dropout(0.1)(output[0][:, 0])\n",
    "dense = tf.keras.layers.Dense(y.shape[1], activation='softmax')(drop)\n",
    "\n",
    "model_1_clf = tf.keras.Model(inputs=input_word_ids, outputs=dense)\n",
    "\n",
    "model_1_clf.compile(tf.optimizers.Adam(learning_rate=2e-6),\n",
    "                  loss='categorical_crossentropy',\n",
    "                  metrics=['accuracy',\n",
    "                           tf.keras.metrics.RecallAtPrecision(0.80, name='rec_prec')])"
   ]
  },
  {
   "cell_type": "code",
   "execution_count": null,
   "id": "LTK0EJ6QO3tn",
   "metadata": {
    "colab": {
     "base_uri": "https://localhost:8080/"
    },
    "id": "LTK0EJ6QO3tn",
    "outputId": "f5fab7b9-5063-49cb-9d21-494c4ae9be70"
   },
   "outputs": [
    {
     "name": "stdout",
     "output_type": "stream",
     "text": [
      "Epoch 1/20\n"
     ]
    },
    {
     "name": "stderr",
     "output_type": "stream",
     "text": [
      "WARNING:tensorflow:Gradients do not exist for variables ['tf_bert_model/bert/pooler/dense/kernel:0', 'tf_bert_model/bert/pooler/dense/bias:0'] when minimizing the loss. If you're using `model.compile()`, did you forget to provide a `loss` argument?\n",
      "WARNING:tensorflow:Gradients do not exist for variables ['tf_bert_model/bert/pooler/dense/kernel:0', 'tf_bert_model/bert/pooler/dense/bias:0'] when minimizing the loss. If you're using `model.compile()`, did you forget to provide a `loss` argument?\n",
      "WARNING:tensorflow:Gradients do not exist for variables ['tf_bert_model/bert/pooler/dense/kernel:0', 'tf_bert_model/bert/pooler/dense/bias:0'] when minimizing the loss. If you're using `model.compile()`, did you forget to provide a `loss` argument?\n",
      "WARNING:tensorflow:Gradients do not exist for variables ['tf_bert_model/bert/pooler/dense/kernel:0', 'tf_bert_model/bert/pooler/dense/bias:0'] when minimizing the loss. If you're using `model.compile()`, did you forget to provide a `loss` argument?\n"
     ]
    },
    {
     "name": "stdout",
     "output_type": "stream",
     "text": [
      "144/144 [==============================] - 124s 543ms/step - loss: 2.9215 - accuracy: 0.0642 - rec_prec: 0.0000e+00 - val_loss: 2.7457 - val_accuracy: 0.0968 - val_rec_prec: 0.0000e+00\n",
      "Epoch 2/20\n",
      "144/144 [==============================] - 73s 508ms/step - loss: 2.8350 - accuracy: 0.0642 - rec_prec: 0.0000e+00 - val_loss: 2.7765 - val_accuracy: 0.0645 - val_rec_prec: 0.0000e+00\n",
      "Epoch 3/20\n",
      "144/144 [==============================] - 72s 501ms/step - loss: 2.8414 - accuracy: 0.0816 - rec_prec: 0.0000e+00 - val_loss: 2.7465 - val_accuracy: 0.0323 - val_rec_prec: 0.0000e+00\n",
      "Epoch 4/20\n",
      "144/144 [==============================] - 74s 513ms/step - loss: 2.7803 - accuracy: 0.0816 - rec_prec: 0.0000e+00 - val_loss: 2.7702 - val_accuracy: 0.0645 - val_rec_prec: 0.0000e+00\n",
      "Epoch 5/20\n",
      "144/144 [==============================] - 75s 524ms/step - loss: 2.7952 - accuracy: 0.0694 - rec_prec: 0.0000e+00 - val_loss: 2.7449 - val_accuracy: 0.0968 - val_rec_prec: 0.0000e+00\n",
      "Epoch 6/20\n",
      "144/144 [==============================] - 73s 508ms/step - loss: 2.7778 - accuracy: 0.0538 - rec_prec: 0.0000e+00 - val_loss: 2.7077 - val_accuracy: 0.1290 - val_rec_prec: 0.0000e+00\n",
      "Epoch 7/20\n",
      "144/144 [==============================] - 73s 507ms/step - loss: 2.7471 - accuracy: 0.0885 - rec_prec: 0.0000e+00 - val_loss: 2.6457 - val_accuracy: 0.1935 - val_rec_prec: 0.0323\n",
      "Epoch 8/20\n",
      "144/144 [==============================] - 74s 511ms/step - loss: 2.6356 - accuracy: 0.1545 - rec_prec: 0.0035 - val_loss: 2.4936 - val_accuracy: 0.2581 - val_rec_prec: 0.0000e+00\n",
      "Epoch 9/20\n",
      "144/144 [==============================] - 73s 507ms/step - loss: 2.3316 - accuracy: 0.2951 - rec_prec: 0.0069 - val_loss: 2.1646 - val_accuracy: 0.2903 - val_rec_prec: 0.0000e+00\n",
      "Epoch 10/20\n",
      "144/144 [==============================] - 74s 513ms/step - loss: 1.8283 - accuracy: 0.4722 - rec_prec: 0.1823 - val_loss: 1.7431 - val_accuracy: 0.4516 - val_rec_prec: 0.2903\n",
      "Epoch 11/20\n",
      "144/144 [==============================] - 73s 510ms/step - loss: 1.5156 - accuracy: 0.5573 - rec_prec: 0.2622 - val_loss: 1.6026 - val_accuracy: 0.4194 - val_rec_prec: 0.1290\n",
      "Epoch 12/20\n",
      "144/144 [==============================] - 72s 501ms/step - loss: 1.1526 - accuracy: 0.6528 - rec_prec: 0.5139 - val_loss: 1.4328 - val_accuracy: 0.4194 - val_rec_prec: 0.3548\n",
      "Epoch 13/20\n",
      "144/144 [==============================] - 73s 509ms/step - loss: 0.9968 - accuracy: 0.7222 - rec_prec: 0.5972 - val_loss: 1.3646 - val_accuracy: 0.4194 - val_rec_prec: 0.3548\n",
      "Epoch 14/20\n",
      "144/144 [==============================] - 72s 500ms/step - loss: 0.8564 - accuracy: 0.7535 - rec_prec: 0.7049 - val_loss: 1.2808 - val_accuracy: 0.6129 - val_rec_prec: 0.2903\n",
      "Epoch 15/20\n",
      "144/144 [==============================] - 73s 508ms/step - loss: 0.6987 - accuracy: 0.8212 - rec_prec: 0.8351 - val_loss: 1.2315 - val_accuracy: 0.5806 - val_rec_prec: 0.4516\n",
      "Epoch 16/20\n",
      "144/144 [==============================] - 73s 509ms/step - loss: 0.5626 - accuracy: 0.8490 - rec_prec: 0.9062 - val_loss: 1.2012 - val_accuracy: 0.6452 - val_rec_prec: 0.6452\n",
      "Epoch 17/20\n",
      "144/144 [==============================] - 73s 508ms/step - loss: 0.4787 - accuracy: 0.8993 - rec_prec: 0.9358 - val_loss: 1.2353 - val_accuracy: 0.5806 - val_rec_prec: 0.4194\n",
      "Epoch 18/20\n",
      "144/144 [==============================] - 73s 509ms/step - loss: 0.3997 - accuracy: 0.8993 - rec_prec: 0.9583 - val_loss: 1.2071 - val_accuracy: 0.6129 - val_rec_prec: 0.4194\n",
      "Epoch 19/20\n",
      "144/144 [==============================] - 72s 500ms/step - loss: 0.3154 - accuracy: 0.9410 - rec_prec: 0.9809 - val_loss: 1.2051 - val_accuracy: 0.6452 - val_rec_prec: 0.6129\n",
      "Epoch 20/20\n",
      "144/144 [==============================] - 73s 510ms/step - loss: 0.2719 - accuracy: 0.9462 - rec_prec: 0.9878 - val_loss: 1.2086 - val_accuracy: 0.6129 - val_rec_prec: 0.6129\n"
     ]
    },
    {
     "data": {
      "text/plain": [
       "<keras.callbacks.History at 0x7fd9be2f94b0>"
      ]
     },
     "execution_count": 45,
     "metadata": {},
     "output_type": "execute_result"
    }
   ],
   "source": [
    "model_1_clf.fit(X_train, y_train,\n",
    "          validation_data=(X_valid, y_valid),\n",
    "          batch_size=4,\n",
    "         epochs=20)"
   ]
  },
  {
   "cell_type": "code",
   "execution_count": null,
   "id": "FS8LyCzEPegg",
   "metadata": {
    "colab": {
     "base_uri": "https://localhost:8080/",
     "height": 490
    },
    "id": "FS8LyCzEPegg",
    "outputId": "3d499630-228e-4078-e197-ec87f2a3d1c9"
   },
   "outputs": [
    {
     "name": "stdout",
     "output_type": "stream",
     "text": [
      "dict_keys(['loss', 'accuracy', 'rec_prec', 'val_loss', 'val_accuracy', 'val_rec_prec'])\n"
     ]
    },
    {
     "data": {
      "image/png": "[encoded data removed]",
      "text/plain": [
       "<Figure size 640x480 with 1 Axes>"
      ]
     },
     "metadata": {},
     "output_type": "display_data"
    }
   ],
   "source": [
    "print(model_1_clf.history.history.keys())\n",
    "plt.plot(model_1_clf.history.history['accuracy'])\n",
    "plt.plot(model_1_clf.history.history['val_accuracy'])\n",
    "plt.title('model rec_prec')\n",
    "plt.ylabel('rec_prec')\n",
    "plt.xlabel('epoch')\n",
    "plt.legend(['train', 'val'], loc='upper left')\n",
    "plt.show()"
   ]
  },
  {
   "cell_type": "code",
   "execution_count": null,
   "id": "n79KKYsNPjhg",
   "metadata": {
    "colab": {
     "base_uri": "https://localhost:8080/"
    },
    "id": "n79KKYsNPjhg",
    "outputId": "c29cff8b-7cd1-4646-d800-1867576adc0b"
   },
   "outputs": [
    {
     "name": "stdout",
     "output_type": "stream",
     "text": [
      "7/7 [==============================] - 4s 198ms/step\n"
     ]
    }
   ],
   "source": [
    "pred = model_1_clf.predict(X_valid, batch_size=5).argmax(1)"
   ]
  },
  {
   "cell_type": "code",
   "execution_count": null,
   "id": "iDImYXcSPlUe",
   "metadata": {
    "colab": {
     "base_uri": "https://localhost:8080/"
    },
    "id": "iDImYXcSPlUe",
    "outputId": "38adfcf7-a096-4db7-f2e8-969e6a101fe5"
   },
   "outputs": [
    {
     "name": "stdout",
     "output_type": "stream",
     "text": [
      "                   precision    recall  f1-score   support\n",
      "\n",
      "           Россия       0.50      0.50      0.50         2\n",
      "              Дом       0.50      0.50      0.50         2\n",
      "Силовые структуры       0.50      0.50      0.50         2\n",
      "   69-я параллель       1.00      1.00      1.00         1\n",
      "  Наука и техника       0.67      0.67      0.67         3\n",
      "         Из жизни       1.00      0.33      0.50         3\n",
      "      Бывший СССР       0.40      0.67      0.50         3\n",
      "           Бизнес       1.00      1.00      1.00         2\n",
      "            Спорт       1.00      1.00      1.00         2\n",
      "             Крым       0.00      0.00      0.00         0\n",
      "       Библиотека       0.00      0.00      0.00         0\n",
      "        Экономика       1.00      1.00      1.00         2\n",
      "   Интернет и СМИ       0.33      0.50      0.40         2\n",
      "         Культура       0.33      0.33      0.33         3\n",
      "              Мир       0.00      0.00      0.00         1\n",
      "          Легпром       0.00      0.00      0.00         1\n",
      "         Ценности       1.00      1.00      1.00         2\n",
      "\n",
      "        micro avg       0.61      0.61      0.61        31\n",
      "        macro avg       0.54      0.53      0.52        31\n",
      "     weighted avg       0.64      0.61      0.61        31\n",
      "\n"
     ]
    }
   ],
   "source": [
    "print(classification_report(y_valid.argmax(1), pred, labels=list(range(len(label2id))),\n",
    "                            target_names=list(label2id), zero_division=0))"
   ]
  },
  {
   "cell_type": "markdown",
   "id": "ykeQdIR9BvYw",
   "metadata": {
    "id": "ykeQdIR9BvYw"
   },
   "source": [
    "# Не совсем понял про бейзлайн"
   ]
  },
  {
   "cell_type": "code",
   "execution_count": null,
   "id": "9bFxkXeIBvYw",
   "metadata": {
    "ExecuteTime": {
     "end_time": "2023-06-15T16:57:31.296972400Z",
     "start_time": "2023-06-15T16:57:15.908444600Z"
    },
    "id": "9bFxkXeIBvYw",
    "outputId": "c9ed7c26-1fdb-43d6-e0e8-c363a43a1199"
   },
   "outputs": [
    {
     "name": "stderr",
     "output_type": "stream",
     "text": [
      "Some weights of the PyTorch model were not used when initializing the TF 2.0 model TFBertForSequenceClassification: ['bert.embeddings.position_ids']\n",
      "- This IS expected if you are initializing TFBertForSequenceClassification from a PyTorch model trained on another task or with another architecture (e.g. initializing a TFBertForSequenceClassification model from a BertForPreTraining model).\n",
      "- This IS NOT expected if you are initializing TFBertForSequenceClassification from a PyTorch model that you expect to be exactly identical (e.g. initializing a TFBertForSequenceClassification model from a BertForSequenceClassification model).\n",
      "Some weights or buffers of the TF 2.0 model TFBertForSequenceClassification were not initialized from the PyTorch model and are newly initialized: ['classifier.weight', 'classifier.bias']\n",
      "You should probably TRAIN this model on a down-stream task to be able to use it for predictions and inference.\n"
     ]
    },
    {
     "name": "stdout",
     "output_type": "stream",
     "text": [
      "                   precision    recall  f1-score   support\n",
      "\n",
      "           Россия       0.06      1.00      0.12         2\n",
      "         Ценности       0.00      0.00      0.00         2\n",
      "        Экономика       0.00      0.00      0.00         2\n",
      "              Мир       0.00      0.00      0.00         1\n",
      "   69-я параллель       0.00      0.00      0.00         1\n",
      "Силовые структуры       0.00      0.00      0.00         2\n",
      "      Бывший СССР       0.00      0.00      0.00         3\n",
      "   Интернет и СМИ       0.00      0.00      0.00         2\n",
      "         Из жизни       0.00      0.00      0.00         3\n",
      "          Легпром       0.00      0.00      0.00         1\n",
      "         Культура       0.00      0.00      0.00         3\n",
      "  Наука и техника       0.00      0.00      0.00         3\n",
      "            Спорт       0.00      0.00      0.00         2\n",
      "              Дом       0.00      0.00      0.00         2\n",
      "           Бизнес       0.00      0.00      0.00         2\n",
      "             Крым       0.00      0.00      0.00         0\n",
      "       Библиотека       0.00      0.00      0.00         0\n",
      "\n",
      "        micro avg       0.06      0.06      0.06        31\n",
      "        macro avg       0.00      0.06      0.01        31\n",
      "     weighted avg       0.00      0.06      0.01        31\n",
      "\n"
     ]
    }
   ],
   "source": [
    "from transformers import AutoTokenizer, TFAutoModelForSequenceClassification\n",
    "from sklearn.metrics import classification_report\n",
    "from sklearn.model_selection import train_test_split\n",
    "\n",
    "tokenizer_1 = AutoTokenizer.from_pretrained(\"DeepPavlov/rubert-base-cased\")\n",
    "model_base_1 = TFAutoModelForSequenceClassification.from_pretrained(\"DeepPavlov/rubert-base-cased\", from_pt=True)\n",
    "\n",
    "# Токенизация текстов из колонки title\n",
    "X = []\n",
    "\n",
    "for text in data.title:\n",
    "    ids = tokenizer_1.encode(text)\n",
    "    X.append(ids[:512])\n",
    "\n",
    "X = tf.keras.preprocessing.sequence.pad_sequences(X, padding='post', maxlen=512)\n",
    "\n",
    "id2label = {i:label for i, label in enumerate(set(data.topic.values))}\n",
    "label2id = {l:i for i, l in id2label.items()}\n",
    "\n",
    "y = tf.keras.utils.to_categorical([label2id[label] for label in data.topic.values])\n",
    "\n",
    "# Разделение данных на обучающую и валидационную выборки\n",
    "train_index, valid_index = train_test_split(list(range(len(X))), test_size=0.05, stratify=data.topic)\n",
    "X_train, y_train = X[train_index], y[train_index]\n",
    "X_valid, y_valid = X[valid_index], y[valid_index]\n",
    "\n",
    "# Получение предсказаний модели на валидационных данных\n",
    "logits = model_base_1(X_valid).logits\n",
    "pred_base = tf.nn.softmax(logits, axis=-1).numpy().argmax(axis=-1)\n",
    "\n",
    "# Вычисление метрик качества\n",
    "print(classification_report(y_valid.argmax(axis=-1), pred_base, labels=list(range(len(label2id))),\n",
    "                            target_names=list(label2id), zero_division=0))"
   ]
  },
  {
   "cell_type": "markdown",
   "id": "0G6w-l1dQzHu",
   "metadata": {
    "id": "0G6w-l1dQzHu"
   },
   "source": [
    "# Модель 2"
   ]
  },
  {
   "cell_type": "code",
   "execution_count": 6,
   "id": "Kten6MGbQJS3",
   "metadata": {
    "ExecuteTime": {
     "end_time": "2023-06-15T17:00:33.749486Z",
     "start_time": "2023-06-15T16:59:40.001262900Z"
    },
    "colab": {
     "base_uri": "https://localhost:8080/"
    },
    "id": "Kten6MGbQJS3",
    "outputId": "54b28799-f4c9-4c65-dfdb-4771e6b0ac41"
   },
   "outputs": [
    {
     "name": "stderr",
     "output_type": "stream",
     "text": [
      "Some weights of the PyTorch model were not used when initializing the TF 2.0 model TFBertModel: ['cls.predictions.bias', 'cls.predictions.transform.LayerNorm.bias', 'cls.predictions.transform.dense.weight', 'cls.predictions.transform.dense.bias', 'cls.seq_relationship.weight', 'cls.predictions.transform.LayerNorm.weight', 'cls.seq_relationship.bias', 'cls.predictions.decoder.bias', 'cls.predictions.decoder.weight']\n",
      "- This IS expected if you are initializing TFBertModel from a PyTorch model trained on another task or with another architecture (e.g. initializing a TFBertForSequenceClassification model from a BertForPreTraining model).\n",
      "- This IS NOT expected if you are initializing TFBertModel from a PyTorch model that you expect to be exactly identical (e.g. initializing a TFBertForSequenceClassification model from a BertForSequenceClassification model).\n",
      "All the weights of TFBertModel were initialized from the PyTorch model.\n",
      "If your task is similar to the task the model of the checkpoint was trained on, you can already use TFBertModel for predictions without further training.\n"
     ]
    }
   ],
   "source": [
    "tokenizer_2 = AutoTokenizer.from_pretrained(\"ai-forever/ruBert-base\")\n",
    "model_2 = TFAutoModel.from_pretrained(\"ai-forever/ruBert-base\", from_pt=True)"
   ]
  },
  {
   "cell_type": "code",
   "execution_count": 7,
   "id": "KOyOUmfxQR9W",
   "metadata": {
    "ExecuteTime": {
     "end_time": "2023-06-15T17:00:46.020322900Z",
     "start_time": "2023-06-15T17:00:45.961488600Z"
    },
    "id": "KOyOUmfxQR9W"
   },
   "outputs": [],
   "source": [
    "# переводим тексты в последовательности индексов\n",
    "# У берта есть ограничение на максимальную длину последовательности - 512\n",
    "# Для заголовков это не очень актуально, но для других данных пригодится\n",
    "\n",
    "X = []\n",
    "\n",
    "for text in data.title:\n",
    "    ids = tokenizer_2.encode(text)\n",
    "\n",
    "    X.append(ids[:512])"
   ]
  },
  {
   "cell_type": "code",
   "execution_count": 8,
   "id": "7MD9KBZYQVHA",
   "metadata": {
    "ExecuteTime": {
     "end_time": "2023-06-15T17:00:47.982950800Z",
     "start_time": "2023-06-15T17:00:47.972443Z"
    },
    "id": "7MD9KBZYQVHA"
   },
   "outputs": [],
   "source": [
    "X = tf.keras.preprocessing.sequence.pad_sequences(X, padding='post', maxlen=512)"
   ]
  },
  {
   "cell_type": "code",
   "execution_count": 9,
   "id": "fJl0kYZzQXlG",
   "metadata": {
    "ExecuteTime": {
     "end_time": "2023-06-15T17:00:48.475552500Z",
     "start_time": "2023-06-15T17:00:48.451507800Z"
    },
    "id": "fJl0kYZzQXlG"
   },
   "outputs": [],
   "source": [
    "id2label = {i:label for i, label in enumerate(set(data.topic.values))}\n",
    "label2id = {l:i for i, l in id2label.items()}\n",
    "\n",
    "y = tf.keras.utils.to_categorical([label2id[label] for label in data.topic.values])"
   ]
  },
  {
   "cell_type": "code",
   "execution_count": 10,
   "id": "YgvgY3c8Qbio",
   "metadata": {
    "ExecuteTime": {
     "end_time": "2023-06-15T17:00:48.870500Z",
     "start_time": "2023-06-15T17:00:48.845426700Z"
    },
    "id": "YgvgY3c8Qbio"
   },
   "outputs": [],
   "source": [
    "train_index, valid_index = train_test_split(list(range(len(X))), test_size=0.05, stratify=data.topic)"
   ]
  },
  {
   "cell_type": "code",
   "execution_count": 11,
   "id": "NnbdApGQQbfl",
   "metadata": {
    "ExecuteTime": {
     "end_time": "2023-06-15T17:00:49.434631700Z",
     "start_time": "2023-06-15T17:00:49.411468100Z"
    },
    "id": "NnbdApGQQbfl"
   },
   "outputs": [],
   "source": [
    "X_train, y_train = X[train_index], y[train_index]\n",
    "X_valid, y_valid = X[valid_index], y[valid_index]"
   ]
  },
  {
   "cell_type": "code",
   "execution_count": 12,
   "id": "kDj3hXvZQbZV",
   "metadata": {
    "ExecuteTime": {
     "end_time": "2023-06-15T17:00:52.891397700Z",
     "start_time": "2023-06-15T17:00:50.619054Z"
    },
    "id": "kDj3hXvZQbZV"
   },
   "outputs": [],
   "source": [
    "input_word_ids = tf.keras.layers.Input(shape=(512,), dtype=tf.int32,\n",
    "                                     name=\"input_ids\")\n",
    "output = model_2(input_word_ids)\n",
    "drop = tf.keras.layers.Dropout(0.1)(output[0][:, 0])\n",
    "dense = tf.keras.layers.Dense(y.shape[1], activation='softmax')(drop)\n",
    "\n",
    "model_2_clf = tf.keras.Model(inputs=input_word_ids, outputs=dense)\n",
    "\n",
    "model_2_clf.compile(tf.optimizers.Adam(learning_rate=2e-6),\n",
    "                  loss='categorical_crossentropy',\n",
    "                  metrics=['accuracy',\n",
    "                           tf.keras.metrics.RecallAtPrecision(0.80, name='rec_prec')])"
   ]
  },
  {
   "cell_type": "code",
   "execution_count": 13,
   "id": "A2TR9jx1Ql9v",
   "metadata": {
    "ExecuteTime": {
     "end_time": "2023-06-15T17:04:01.247502900Z",
     "start_time": "2023-06-15T17:00:55.956819200Z"
    },
    "colab": {
     "base_uri": "https://localhost:8080/"
    },
    "id": "A2TR9jx1Ql9v",
    "outputId": "eae4fde9-b013-4a61-d397-cb2e2b9fce4b"
   },
   "outputs": [
    {
     "name": "stdout",
     "output_type": "stream",
     "text": [
      "Epoch 1/20\n"
     ]
    },
    {
     "name": "stderr",
     "output_type": "stream",
     "text": [
      "WARNING:tensorflow:Gradients do not exist for variables ['tf_bert_model/bert/pooler/dense/kernel:0', 'tf_bert_model/bert/pooler/dense/bias:0'] when minimizing the loss. If you're using `model.compile()`, did you forget to provide a `loss` argument?\n",
      "WARNING:tensorflow:Gradients do not exist for variables ['tf_bert_model/bert/pooler/dense/kernel:0', 'tf_bert_model/bert/pooler/dense/bias:0'] when minimizing the loss. If you're using `model.compile()`, did you forget to provide a `loss` argument?\n",
      "WARNING:tensorflow:Gradients do not exist for variables ['tf_bert_model/bert/pooler/dense/kernel:0', 'tf_bert_model/bert/pooler/dense/bias:0'] when minimizing the loss. If you're using `model.compile()`, did you forget to provide a `loss` argument?\n",
      "WARNING:tensorflow:Gradients do not exist for variables ['tf_bert_model/bert/pooler/dense/kernel:0', 'tf_bert_model/bert/pooler/dense/bias:0'] when minimizing the loss. If you're using `model.compile()`, did you forget to provide a `loss` argument?\n"
     ]
    },
    {
     "name": "stdout",
     "output_type": "stream",
     "text": [
      "144/144 [==============================] - 149s 575ms/step - loss: 2.8872 - accuracy: 0.0660 - rec_prec: 0.0000e+00 - val_loss: 2.7980 - val_accuracy: 0.0645 - val_rec_prec: 0.0000e+00\n",
      "Epoch 2/20\n",
      "144/144 [==============================] - 77s 535ms/step - loss: 2.8358 - accuracy: 0.0816 - rec_prec: 0.0000e+00 - val_loss: 2.7156 - val_accuracy: 0.0968 - val_rec_prec: 0.0000e+00\n",
      "Epoch 3/20\n",
      "144/144 [==============================] - 77s 534ms/step - loss: 2.8032 - accuracy: 0.0816 - rec_prec: 0.0000e+00 - val_loss: 2.7007 - val_accuracy: 0.0645 - val_rec_prec: 0.0000e+00\n",
      "Epoch 4/20\n",
      "144/144 [==============================] - 77s 534ms/step - loss: 2.8111 - accuracy: 0.0677 - rec_prec: 0.0000e+00 - val_loss: 2.6932 - val_accuracy: 0.0645 - val_rec_prec: 0.0000e+00\n",
      "Epoch 5/20\n",
      "144/144 [==============================] - 76s 526ms/step - loss: 2.7346 - accuracy: 0.1042 - rec_prec: 0.0017 - val_loss: 2.7749 - val_accuracy: 0.0968 - val_rec_prec: 0.0000e+00\n",
      "Epoch 6/20\n",
      "144/144 [==============================] - 76s 526ms/step - loss: 2.7515 - accuracy: 0.1059 - rec_prec: 0.0000e+00 - val_loss: 2.6801 - val_accuracy: 0.0323 - val_rec_prec: 0.0000e+00\n",
      "Epoch 7/20\n",
      "144/144 [==============================] - 77s 533ms/step - loss: 2.6931 - accuracy: 0.1285 - rec_prec: 0.0000e+00 - val_loss: 2.5959 - val_accuracy: 0.2258 - val_rec_prec: 0.0000e+00\n",
      "Epoch 8/20\n",
      "144/144 [==============================] - 76s 526ms/step - loss: 2.4869 - accuracy: 0.2153 - rec_prec: 0.0069 - val_loss: 2.3395 - val_accuracy: 0.3226 - val_rec_prec: 0.1290\n",
      "Epoch 9/20\n",
      "144/144 [==============================] - 77s 532ms/step - loss: 2.1647 - accuracy: 0.3559 - rec_prec: 0.0955 - val_loss: 2.1052 - val_accuracy: 0.3548 - val_rec_prec: 0.1290\n",
      "Epoch 10/20\n",
      "144/144 [==============================] - 76s 525ms/step - loss: 1.8861 - accuracy: 0.4931 - rec_prec: 0.1788 - val_loss: 1.9070 - val_accuracy: 0.4516 - val_rec_prec: 0.2258\n",
      "Epoch 11/20\n",
      "144/144 [==============================] - 75s 524ms/step - loss: 1.6270 - accuracy: 0.5625 - rec_prec: 0.3264 - val_loss: 1.8467 - val_accuracy: 0.4194 - val_rec_prec: 0.1935\n",
      "Epoch 12/20\n",
      "144/144 [==============================] - 76s 525ms/step - loss: 1.4042 - accuracy: 0.6372 - rec_prec: 0.4757 - val_loss: 1.7623 - val_accuracy: 0.4194 - val_rec_prec: 0.2258\n",
      "Epoch 13/20\n",
      "144/144 [==============================] - 77s 535ms/step - loss: 1.2252 - accuracy: 0.6736 - rec_prec: 0.5417 - val_loss: 1.7416 - val_accuracy: 0.4516 - val_rec_prec: 0.2258\n",
      "Epoch 14/20\n",
      "144/144 [==============================] - 77s 534ms/step - loss: 1.0593 - accuracy: 0.7292 - rec_prec: 0.6719 - val_loss: 1.7402 - val_accuracy: 0.4194 - val_rec_prec: 0.2581\n",
      "Epoch 15/20\n",
      "144/144 [==============================] - 77s 534ms/step - loss: 0.9198 - accuracy: 0.7708 - rec_prec: 0.7361 - val_loss: 1.7625 - val_accuracy: 0.4194 - val_rec_prec: 0.2903\n",
      "Epoch 16/20\n",
      "144/144 [==============================] - 77s 534ms/step - loss: 0.8020 - accuracy: 0.8108 - rec_prec: 0.8108 - val_loss: 1.6691 - val_accuracy: 0.5161 - val_rec_prec: 0.2581\n",
      "Epoch 17/20\n",
      "144/144 [==============================] - 76s 526ms/step - loss: 0.6625 - accuracy: 0.8681 - rec_prec: 0.8993 - val_loss: 1.6750 - val_accuracy: 0.4839 - val_rec_prec: 0.2581\n",
      "Epoch 18/20\n",
      "144/144 [==============================] - 77s 533ms/step - loss: 0.5697 - accuracy: 0.8698 - rec_prec: 0.9184 - val_loss: 1.6782 - val_accuracy: 0.4516 - val_rec_prec: 0.2903\n",
      "Epoch 19/20\n",
      "144/144 [==============================] - 77s 535ms/step - loss: 0.4920 - accuracy: 0.9045 - rec_prec: 0.9427 - val_loss: 1.7105 - val_accuracy: 0.4194 - val_rec_prec: 0.3548\n",
      "Epoch 20/20\n",
      "144/144 [==============================] - 77s 533ms/step - loss: 0.4035 - accuracy: 0.9288 - rec_prec: 0.9688 - val_loss: 1.8089 - val_accuracy: 0.4516 - val_rec_prec: 0.2581\n"
     ]
    },
    {
     "data": {
      "text/plain": [
       "<keras.callbacks.History at 0x7fce8cfbbbb0>"
      ]
     },
     "execution_count": 13,
     "metadata": {},
     "output_type": "execute_result"
    }
   ],
   "source": [
    "model_2_clf.fit(X_train, y_train,\n",
    "          validation_data=(X_valid, y_valid),\n",
    "          batch_size=4,\n",
    "         epochs=20)"
   ]
  },
  {
   "cell_type": "code",
   "execution_count": 14,
   "id": "1n0OwnKfQpAN",
   "metadata": {
    "ExecuteTime": {
     "start_time": "2023-06-15T14:17:49.084398500Z"
    },
    "colab": {
     "base_uri": "https://localhost:8080/",
     "height": 489
    },
    "id": "1n0OwnKfQpAN",
    "outputId": "6470b2d6-587d-46b2-a9b0-2eb87b072064"
   },
   "outputs": [
    {
     "name": "stdout",
     "output_type": "stream",
     "text": [
      "dict_keys(['loss', 'accuracy', 'rec_prec', 'val_loss', 'val_accuracy', 'val_rec_prec'])\n"
     ]
    },
    {
     "data": {
      "image/png": "[encoded data removed]",
      "text/plain": [
       "<Figure size 640x480 with 1 Axes>"
      ]
     },
     "metadata": {},
     "output_type": "display_data"
    }
   ],
   "source": [
    "print(model_2_clf.history.history.keys())\n",
    "plt.plot(model_2_clf.history.history['accuracy'])\n",
    "plt.plot(model_2_clf.history.history['val_accuracy'])\n",
    "plt.title('model rec_prec')\n",
    "plt.ylabel('rec_prec')\n",
    "plt.xlabel('epoch')\n",
    "plt.legend(['train', 'val'], loc='upper left')\n",
    "plt.show()"
   ]
  },
  {
   "cell_type": "code",
   "execution_count": 15,
   "id": "LUZaaxcJQuh-",
   "metadata": {
    "ExecuteTime": {
     "start_time": "2023-06-15T14:17:49.084398500Z"
    },
    "colab": {
     "base_uri": "https://localhost:8080/"
    },
    "id": "LUZaaxcJQuh-",
    "outputId": "8e455174-5969-480a-fdf3-3fd69f330ea2"
   },
   "outputs": [
    {
     "name": "stdout",
     "output_type": "stream",
     "text": [
      "7/7 [==============================] - 5s 194ms/step\n"
     ]
    }
   ],
   "source": [
    "pred = model_2_clf.predict(X_valid, batch_size=5).argmax(1)"
   ]
  },
  {
   "cell_type": "code",
   "execution_count": 17,
   "id": "PoCwo9P6Qxov",
   "metadata": {
    "ExecuteTime": {
     "start_time": "2023-06-15T14:17:49.084398500Z"
    },
    "colab": {
     "base_uri": "https://localhost:8080/"
    },
    "id": "PoCwo9P6Qxov",
    "outputId": "c88b844e-29cc-40fb-f80e-495458c9c1c4"
   },
   "outputs": [
    {
     "name": "stdout",
     "output_type": "stream",
     "text": [
      "                   precision    recall  f1-score   support\n",
      "\n",
      "              Дом       0.50      0.50      0.50         2\n",
      "        Экономика       0.00      0.00      0.00         2\n",
      "            Спорт       1.00      1.00      1.00         2\n",
      "      Бывший СССР       0.50      0.67      0.57         3\n",
      "         Ценности       0.50      0.50      0.50         2\n",
      "  Наука и техника       0.50      0.33      0.40         3\n",
      "          Легпром       0.00      0.00      0.00         1\n",
      "       Библиотека       0.00      0.00      0.00         0\n",
      "           Бизнес       0.25      0.50      0.33         2\n",
      "           Россия       0.33      0.50      0.40         2\n",
      "         Из жизни       1.00      0.67      0.80         3\n",
      "         Культура       1.00      0.33      0.50         3\n",
      "              Мир       0.00      0.00      0.00         1\n",
      "   Интернет и СМИ       0.33      0.50      0.40         2\n",
      "             Крым       0.00      0.00      0.00         0\n",
      "Силовые структуры       0.33      0.50      0.40         2\n",
      "   69-я параллель       0.00      0.00      0.00         1\n",
      "\n",
      "        micro avg       0.45      0.45      0.45        31\n",
      "        macro avg       0.37      0.35      0.34        31\n",
      "     weighted avg       0.50      0.45      0.45        31\n",
      "\n"
     ]
    }
   ],
   "source": [
    "print(classification_report(y_valid.argmax(1), pred, labels=list(range(len(label2id))),\n",
    "                            target_names=list(label2id), zero_division=0))"
   ]
  },
  {
   "cell_type": "markdown",
   "id": "BPxR4naPRGFs",
   "metadata": {
    "id": "BPxR4naPRGFs"
   },
   "source": [
    "# Модель 3\n"
   ]
  },
  {
   "cell_type": "code",
   "execution_count": 6,
   "id": "5MvzfLasRBQV",
   "metadata": {
    "colab": {
     "base_uri": "https://localhost:8080/",
     "height": 252,
     "referenced_widgets": [
      "71b40ec588b24ff6b90c9f922605b938",
      "6cb24cb6ff424b2e9da5c8e2a1c117a7",
      "e233f613fbe54b5db49ed4b1e98a2571",
      "608444844ce945c2832b5c7872ef3575",
      "d905d2b4f3224813b8cfc1e6068d9be3",
      "be7fa4a982b8462087e14ec8acbe6e99",
      "da83caa04e934975b3c2d16ff278328e",
      "7329fbdb7dd54c66bc1a33004ebdfa81",
      "6d41f8aa785347f2b87bae6426dc0ca0",
      "a34671c2081149d9bb2629672701b625",
      "077e98d1bbe74055ab2d51a460091385",
      "a5490602c24540d0afac1b5fb603e8e6",
      "96dca3d9646e43d4aa66ce1e7a709819",
      "0b82f1f665a645738b4e649922d8a1cb",
      "76f5dfb17533456186307cfb1eb19111",
      "6ec7b33ee5fc4e14a1404ccbad5dc149",
      "d9675518933a4956986b221479038f69",
      "27c66960b1eb4bd68dee5958c1c01ce2",
      "67b8f16412c54eedb24eea50b03e1814",
      "c9e06f7e9d9c42d29d9c1dfcfb3985b7",
      "d1a2e90a1c3a477b83d1e93f3d0c2b4d",
      "f55f1d4bc9d04169ab0109b6c72d0cce",
      "47153b5664a145ab884d8d1fabb4dad5",
      "be7e9e90d4b64a318e5043cc49b4651e",
      "193be505a4d04f94954bf7138588155a",
      "18701a274bbf428c8acd4ac06b4640cd",
      "8dc5f2c70e96471288a24178cb064446",
      "8313820a752343a191dd65e29e4b43d9",
      "5880f9680f2e4fc2902a1553ca31f420",
      "6fa5dfaf7f6542189f77e127ec6e7f0d",
      "4ccd42c69d924ee4bf9615abf71dd13a",
      "e62235619d6547b0bc766f276fe1509a",
      "06e7780578494f8fa5f9030d6d49c0c5",
      "fb4550820dde4628b61ed103a1bdf6bc",
      "c5ae2a45413243f9a3da7026d553a879",
      "ccc94168f73540a4aede5f821e68ecf6",
      "ec14c186258c46188a067596dec8527f",
      "770bca3de4444b50a6ec332e2d3a2789",
      "cdacc51c9543448ea80796267df2165b",
      "0e0b24be380b429ab897cca81475ea6d",
      "0ebf13d6e31b4f30924933ec190f4240",
      "2f6a64ac679346c2b3205aa63533e88c",
      "849923a62f3043aea2517c0174cea0ab",
      "32923b5b0c844f12b3cf6226ea8b3001"
     ]
    },
    "id": "5MvzfLasRBQV",
    "outputId": "c67b0632-5502-45c8-a7bb-3163232c999c",
    "ExecuteTime": {
     "end_time": "2023-06-15T20:44:49.817159500Z",
     "start_time": "2023-06-15T20:44:29.833740400Z"
    }
   },
   "outputs": [
    {
     "data": {
      "text/plain": "Downloading model.safetensors:   0%|          | 0.00/388M [00:00<?, ?B/s]",
      "application/vnd.jupyter.widget-view+json": {
       "version_major": 2,
       "version_minor": 0,
       "model_id": "fbd81aa2d819495eb84f6dce64d27c76"
      }
     },
     "metadata": {},
     "output_type": "display_data"
    },
    {
     "name": "stderr",
     "output_type": "stream",
     "text": [
      "C:\\Users\\robst\\anaconda3\\envs\\tf\\lib\\site-packages\\huggingface_hub\\file_download.py:133: UserWarning: `huggingface_hub` cache-system uses symlinks by default to efficiently store duplicated files but your machine does not support them in C:\\Users\\robst\\.cache\\huggingface\\hub. Caching files will still work but in a degraded version that might require more space on your disk. This warning can be disabled by setting the `HF_HUB_DISABLE_SYMLINKS_WARNING` environment variable. For more details, see https://huggingface.co/docs/huggingface_hub/how-to-cache#limitations.\n",
      "To support symlinks on Windows, you either need to activate Developer Mode or to run Python as an administrator. In order to see activate developer mode, see this article: https://docs.microsoft.com/en-us/windows/apps/get-started/enable-your-device-for-development\n",
      "  warnings.warn(message)\n",
      "Some weights of the PyTorch model were not used when initializing the TF 2.0 model TFBertModel: ['cls.predictions.transform.LayerNorm.weight', 'cls.predictions.bias', 'cls.predictions.transform.dense.bias', 'bert.embeddings.position_ids', 'cls.predictions.transform.LayerNorm.bias', 'cls.predictions.transform.dense.weight']\n",
      "- This IS expected if you are initializing TFBertModel from a PyTorch model trained on another task or with another architecture (e.g. initializing a TFBertForSequenceClassification model from a BertForPreTraining model).\n",
      "- This IS NOT expected if you are initializing TFBertModel from a PyTorch model that you expect to be exactly identical (e.g. initializing a TFBertForSequenceClassification model from a BertForSequenceClassification model).\n",
      "Some weights or buffers of the TF 2.0 model TFBertModel were not initialized from the PyTorch model and are newly initialized: ['bert.pooler.dense.weight', 'bert.pooler.dense.bias']\n",
      "You should probably TRAIN this model on a down-stream task to be able to use it for predictions and inference.\n"
     ]
    }
   ],
   "source": [
    "tokenizer_3 = tokenizer = AutoTokenizer.from_pretrained(\"Geotrend/bert-base-ru-cased\")\n",
    "model_3 = TFAutoModel.from_pretrained('Geotrend/bert-base-ru-cased')"
   ]
  },
  {
   "cell_type": "code",
   "execution_count": 7,
   "outputs": [
    {
     "name": "stdout",
     "output_type": "stream",
     "text": [
      "GPU is available\n"
     ]
    }
   ],
   "source": [
    "print(\"GPU is\", \"available\" if tf.config.list_physical_devices('GPU') else \"NOT AVAILABLE\")"
   ],
   "metadata": {
    "collapsed": false,
    "ExecuteTime": {
     "end_time": "2023-06-15T20:45:12.177069700Z",
     "start_time": "2023-06-15T20:45:12.171566800Z"
    }
   }
  },
  {
   "cell_type": "code",
   "execution_count": 8,
   "id": "KUF7_BCWRUmL",
   "metadata": {
    "id": "KUF7_BCWRUmL",
    "ExecuteTime": {
     "end_time": "2023-06-15T20:45:16.522972100Z",
     "start_time": "2023-06-15T20:45:16.479430500Z"
    }
   },
   "outputs": [],
   "source": [
    "# переводим тексты в последовательности индексов\n",
    "# У берта есть ограничение на максимальную длину последовательности - 512\n",
    "# Для заголовков это не очень актуально, но для других данных пригодится\n",
    "\n",
    "X = []\n",
    "\n",
    "for text in data.title:\n",
    "    ids = tokenizer_3.encode(text)\n",
    "\n",
    "    X.append(ids[:512])"
   ]
  },
  {
   "cell_type": "code",
   "execution_count": 9,
   "id": "ChfIQ8wwRXJI",
   "metadata": {
    "id": "ChfIQ8wwRXJI",
    "ExecuteTime": {
     "end_time": "2023-06-15T20:45:17.082282600Z",
     "start_time": "2023-06-15T20:45:17.059244400Z"
    }
   },
   "outputs": [],
   "source": [
    "X = tf.keras.preprocessing.sequence.pad_sequences(X, padding='post', maxlen=512)"
   ]
  },
  {
   "cell_type": "code",
   "execution_count": 10,
   "id": "R6la48o3RYvl",
   "metadata": {
    "id": "R6la48o3RYvl",
    "ExecuteTime": {
     "end_time": "2023-06-15T20:45:17.735072600Z",
     "start_time": "2023-06-15T20:45:17.714415300Z"
    }
   },
   "outputs": [],
   "source": [
    "id2label = {i:label for i, label in enumerate(set(data.topic.values))}\n",
    "label2id = {l:i for i, l in id2label.items()}\n",
    "\n",
    "y = tf.keras.utils.to_categorical([label2id[label] for label in data.topic.values])"
   ]
  },
  {
   "cell_type": "code",
   "execution_count": 11,
   "id": "QOwRIUyfRbKc",
   "metadata": {
    "id": "QOwRIUyfRbKc",
    "ExecuteTime": {
     "end_time": "2023-06-15T20:45:18.179865900Z",
     "start_time": "2023-06-15T20:45:18.159808100Z"
    }
   },
   "outputs": [],
   "source": [
    "train_index, valid_index = train_test_split(list(range(len(X))), test_size=0.05, stratify=data.topic)"
   ]
  },
  {
   "cell_type": "code",
   "execution_count": 12,
   "id": "zpeYXs31RcZX",
   "metadata": {
    "id": "zpeYXs31RcZX",
    "ExecuteTime": {
     "end_time": "2023-06-15T20:45:19.033345100Z",
     "start_time": "2023-06-15T20:45:19.011782800Z"
    }
   },
   "outputs": [],
   "source": [
    "X_train, y_train = X[train_index], y[train_index]\n",
    "X_valid, y_valid = X[valid_index], y[valid_index]"
   ]
  },
  {
   "cell_type": "code",
   "execution_count": 13,
   "id": "6LGfNyHhRd5W",
   "metadata": {
    "id": "6LGfNyHhRd5W",
    "ExecuteTime": {
     "end_time": "2023-06-15T20:45:22.392059200Z",
     "start_time": "2023-06-15T20:45:19.471380700Z"
    }
   },
   "outputs": [],
   "source": [
    "input_word_ids = tf.keras.layers.Input(shape=(512,), dtype=tf.int32,\n",
    "                                     name=\"input_ids\")\n",
    "output = model_3(input_word_ids)\n",
    "drop = tf.keras.layers.Dropout(0.1)(output[0][:, 0])\n",
    "dense = tf.keras.layers.Dense(y.shape[1], activation='softmax')(drop)\n",
    "\n",
    "model_3_clf = tf.keras.Model(inputs=input_word_ids, outputs=dense)\n",
    "\n",
    "model_3_clf.compile(tf.optimizers.Adam(learning_rate=2e-6),\n",
    "                  loss='categorical_crossentropy',\n",
    "                  metrics=['accuracy',\n",
    "                           tf.keras.metrics.RecallAtPrecision(0.80, name='rec_prec')])"
   ]
  },
  {
   "cell_type": "code",
   "execution_count": 14,
   "id": "D8uRVvNbRlwF",
   "metadata": {
    "colab": {
     "base_uri": "https://localhost:8080/"
    },
    "id": "D8uRVvNbRlwF",
    "outputId": "bdea46a1-357a-4580-e0b9-254933b513cc",
    "ExecuteTime": {
     "end_time": "2023-06-15T20:55:14.135214200Z",
     "start_time": "2023-06-15T20:45:25.203126900Z"
    }
   },
   "outputs": [
    {
     "name": "stdout",
     "output_type": "stream",
     "text": [
      "Epoch 1/20\n",
      "WARNING:tensorflow:Gradients do not exist for variables ['tf_bert_model/bert/pooler/dense/kernel:0', 'tf_bert_model/bert/pooler/dense/bias:0'] when minimizing the loss. If you're using `model.compile()`, did you forget to provide a `loss` argument?\n",
      "WARNING:tensorflow:Gradients do not exist for variables ['tf_bert_model/bert/pooler/dense/kernel:0', 'tf_bert_model/bert/pooler/dense/bias:0'] when minimizing the loss. If you're using `model.compile()`, did you forget to provide a `loss` argument?\n",
      "144/144 [==============================] - 37s 217ms/step - loss: 2.8591 - accuracy: 0.0642 - rec_prec: 0.0000e+00 - val_loss: 2.7779 - val_accuracy: 0.0968 - val_rec_prec: 0.0000e+00\n",
      "Epoch 2/20\n",
      "144/144 [==============================] - 30s 206ms/step - loss: 2.7959 - accuracy: 0.0833 - rec_prec: 0.0000e+00 - val_loss: 2.6939 - val_accuracy: 0.0968 - val_rec_prec: 0.0000e+00\n",
      "Epoch 3/20\n",
      "144/144 [==============================] - 29s 199ms/step - loss: 2.7609 - accuracy: 0.1042 - rec_prec: 0.0000e+00 - val_loss: 2.6743 - val_accuracy: 0.1290 - val_rec_prec: 0.0000e+00\n",
      "Epoch 4/20\n",
      "144/144 [==============================] - 29s 202ms/step - loss: 2.6873 - accuracy: 0.1285 - rec_prec: 0.0017 - val_loss: 2.5852 - val_accuracy: 0.2903 - val_rec_prec: 0.0000e+00\n",
      "Epoch 5/20\n",
      "144/144 [==============================] - 29s 199ms/step - loss: 2.5560 - accuracy: 0.2049 - rec_prec: 0.0017 - val_loss: 2.3641 - val_accuracy: 0.1935 - val_rec_prec: 0.0323\n",
      "Epoch 6/20\n",
      "144/144 [==============================] - 29s 203ms/step - loss: 2.1896 - accuracy: 0.3212 - rec_prec: 0.0330 - val_loss: 1.9707 - val_accuracy: 0.2903 - val_rec_prec: 0.1290\n",
      "Epoch 7/20\n",
      "144/144 [==============================] - 29s 202ms/step - loss: 1.8927 - accuracy: 0.4167 - rec_prec: 0.0712 - val_loss: 1.7867 - val_accuracy: 0.4194 - val_rec_prec: 0.1290\n",
      "Epoch 8/20\n",
      "144/144 [==============================] - 29s 205ms/step - loss: 1.5687 - accuracy: 0.5104 - rec_prec: 0.2153 - val_loss: 1.8394 - val_accuracy: 0.4194 - val_rec_prec: 0.0323\n",
      "Epoch 9/20\n",
      "144/144 [==============================] - 30s 206ms/step - loss: 1.2987 - accuracy: 0.6181 - rec_prec: 0.4132 - val_loss: 1.6738 - val_accuracy: 0.4194 - val_rec_prec: 0.1613\n",
      "Epoch 10/20\n",
      "144/144 [==============================] - 29s 204ms/step - loss: 1.1375 - accuracy: 0.6545 - rec_prec: 0.5000 - val_loss: 1.5348 - val_accuracy: 0.4839 - val_rec_prec: 0.1613\n",
      "Epoch 11/20\n",
      "144/144 [==============================] - 29s 202ms/step - loss: 0.9952 - accuracy: 0.7083 - rec_prec: 0.6476 - val_loss: 1.5759 - val_accuracy: 0.4516 - val_rec_prec: 0.2258\n",
      "Epoch 12/20\n",
      "144/144 [==============================] - 29s 199ms/step - loss: 0.8424 - accuracy: 0.7795 - rec_prec: 0.7361 - val_loss: 1.5520 - val_accuracy: 0.5484 - val_rec_prec: 0.2258\n",
      "Epoch 13/20\n",
      "144/144 [==============================] - 29s 198ms/step - loss: 0.7637 - accuracy: 0.7865 - rec_prec: 0.7847 - val_loss: 1.4812 - val_accuracy: 0.5161 - val_rec_prec: 0.2903\n",
      "Epoch 14/20\n",
      "144/144 [==============================] - 29s 200ms/step - loss: 0.6788 - accuracy: 0.8056 - rec_prec: 0.7830 - val_loss: 1.6868 - val_accuracy: 0.5161 - val_rec_prec: 0.2258\n",
      "Epoch 15/20\n",
      "144/144 [==============================] - 29s 199ms/step - loss: 0.5743 - accuracy: 0.8507 - rec_prec: 0.8819 - val_loss: 1.8100 - val_accuracy: 0.4516 - val_rec_prec: 0.1935\n",
      "Epoch 16/20\n",
      "144/144 [==============================] - 29s 200ms/step - loss: 0.4577 - accuracy: 0.8872 - rec_prec: 0.9236 - val_loss: 1.7463 - val_accuracy: 0.4516 - val_rec_prec: 0.2581\n",
      "Epoch 17/20\n",
      "144/144 [==============================] - 29s 201ms/step - loss: 0.4297 - accuracy: 0.8941 - rec_prec: 0.9479 - val_loss: 1.7568 - val_accuracy: 0.4516 - val_rec_prec: 0.2258\n",
      "Epoch 18/20\n",
      "144/144 [==============================] - 29s 201ms/step - loss: 0.3645 - accuracy: 0.9184 - rec_prec: 0.9531 - val_loss: 1.8358 - val_accuracy: 0.5161 - val_rec_prec: 0.0645\n",
      "Epoch 19/20\n",
      "144/144 [==============================] - 29s 202ms/step - loss: 0.3038 - accuracy: 0.9271 - rec_prec: 0.9826 - val_loss: 1.8478 - val_accuracy: 0.4516 - val_rec_prec: 0.0000e+00\n",
      "Epoch 20/20\n",
      "144/144 [==============================] - 30s 206ms/step - loss: 0.2746 - accuracy: 0.9392 - rec_prec: 0.9792 - val_loss: 1.9596 - val_accuracy: 0.4839 - val_rec_prec: 0.1290\n"
     ]
    },
    {
     "data": {
      "text/plain": "<keras.callbacks.History at 0x27139622f70>"
     },
     "execution_count": 14,
     "metadata": {},
     "output_type": "execute_result"
    }
   ],
   "source": [
    "model_3_clf.fit(X_train, y_train,\n",
    "          validation_data=(X_valid, y_valid),\n",
    "          batch_size=4,\n",
    "         epochs=20)"
   ]
  },
  {
   "cell_type": "code",
   "execution_count": 15,
   "id": "k5pNa9uORnby",
   "metadata": {
    "id": "k5pNa9uORnby",
    "ExecuteTime": {
     "end_time": "2023-06-15T20:55:14.384327800Z",
     "start_time": "2023-06-15T20:55:14.136199100Z"
    }
   },
   "outputs": [
    {
     "name": "stdout",
     "output_type": "stream",
     "text": [
      "dict_keys(['loss', 'accuracy', 'rec_prec', 'val_loss', 'val_accuracy', 'val_rec_prec'])\n"
     ]
    },
    {
     "data": {
      "text/plain": "<Figure size 640x480 with 1 Axes>",
      "image/png": "[encoded data removed]"
     },
     "metadata": {},
     "output_type": "display_data"
    }
   ],
   "source": [
    "print(model_3_clf.history.history.keys())\n",
    "plt.plot(model_3_clf.history.history['accuracy'])\n",
    "plt.plot(model_3_clf.history.history['val_accuracy'])\n",
    "plt.title('model rec_prec')\n",
    "plt.ylabel('rec_prec')\n",
    "plt.xlabel('epoch')\n",
    "plt.legend(['train', 'val'], loc='upper left')\n",
    "plt.show()"
   ]
  },
  {
   "cell_type": "code",
   "execution_count": 16,
   "id": "EMVgPX0vRqlr",
   "metadata": {
    "id": "EMVgPX0vRqlr",
    "ExecuteTime": {
     "end_time": "2023-06-15T20:55:19.275084900Z",
     "start_time": "2023-06-15T20:55:14.387337400Z"
    }
   },
   "outputs": [
    {
     "name": "stdout",
     "output_type": "stream",
     "text": [
      "7/7 [==============================] - 5s 111ms/step\n"
     ]
    }
   ],
   "source": [
    "pred = model_3_clf.predict(X_valid, batch_size=5).argmax(1)"
   ]
  },
  {
   "cell_type": "code",
   "execution_count": 17,
   "id": "M3heSOYQRsUd",
   "metadata": {
    "id": "M3heSOYQRsUd",
    "ExecuteTime": {
     "end_time": "2023-06-15T20:55:19.312215700Z",
     "start_time": "2023-06-15T20:55:19.268076400Z"
    }
   },
   "outputs": [
    {
     "name": "stdout",
     "output_type": "stream",
     "text": [
      "                   precision    recall  f1-score   support\n",
      "\n",
      "   69-я параллель       0.00      0.00      0.00         1\n",
      "         Из жизни       1.00      1.00      1.00         3\n",
      "         Культура       1.00      0.67      0.80         3\n",
      "              Мир       0.33      1.00      0.50         1\n",
      "      Бывший СССР       0.25      0.33      0.29         3\n",
      "         Ценности       1.00      0.50      0.67         2\n",
      "            Спорт       1.00      0.50      0.67         2\n",
      "           Россия       0.50      0.50      0.50         2\n",
      "              Дом       0.00      0.00      0.00         2\n",
      "          Легпром       0.00      0.00      0.00         1\n",
      "       Библиотека       0.00      0.00      0.00         0\n",
      "Силовые структуры       0.00      0.00      0.00         2\n",
      "           Бизнес       0.29      1.00      0.44         2\n",
      "        Экономика       0.50      0.50      0.50         2\n",
      "   Интернет и СМИ       0.00      0.00      0.00         2\n",
      "  Наука и техника       0.67      0.67      0.67         3\n",
      "             Крым       0.00      0.00      0.00         0\n",
      "\n",
      "        micro avg       0.48      0.48      0.48        31\n",
      "        macro avg       0.38      0.39      0.35        31\n",
      "     weighted avg       0.50      0.48      0.46        31\n",
      "\n"
     ]
    }
   ],
   "source": [
    "print(classification_report(y_valid.argmax(1), pred, labels=list(range(len(label2id))),\n",
    "                            target_names=list(label2id), zero_division=0))"
   ]
  },
  {
   "cell_type": "markdown",
   "id": "ca34045b",
   "metadata": {
    "id": "ca34045b"
   },
   "source": [
    "### Задание  2 (2 балла)\n",
    "\n",
    "Ответьте на следующие вопросы (напишите хотя бы по несколько предложений):\n",
    "\n",
    "1) Чем ROBERTA отличается от BERT? В какой статье описана ROBERTA? https://arxiv.org/abs/1907.11692 \"RoBERTa: A Robustly Optimized BERT Pretraining Approach\"\n",
    "    RoBERTa обучалась на гораздо большем наборе данных. (Более длительное время обучения и больший объем обучающих данных (в 10 раз больше — от 16GB к 160GB))\n",
    "    RoBERTa использует более эффективную процедуру обучения. (Размер батча от 256 к 8000 и больший словарь — от 30k to 50k)\n",
    "    RoBERTa использует байтовый BPE в качестве токенизатора (похоже на GPT-2). (В качестве входных данных используются более длинные последовательности, но RoBERTa по-прежнему имеет ограничение на максимальное количество\n",
    "    токенов — 512, как и у BERT)\n",
    "    RoBERTa использует другую схему предварительного обучения. (Динамическое маскирование позволяет маскирующей схеме меняться при каждой подаче последовательности на модель. Отличие от BERT в том, что везде используется одна\n",
    "    и та же маскирующая схема)\n",
    "2) Чем модель T5 отличается от ROBERTA/BERT?\n",
    "    T5 использует Text-To-Text формат для всех задач обработки естественного языка. (Входные и выходные данные всегда представлены в виде текстовых строк.)\n",
    "    Также T5 позволяет использовать одну и ту же модель, функцию потерь и гиперпараметры для любой задачи обработки естественного языка, включая машинный перевод, документное резюмирование, ответы на вопросы и задачи\n",
    "    классификации (например, анализ тональности).\n",
    "    T5 может предсказывать несколько слов, в то время как BERT предсказывает цель, состоящую из одного слова (маскировка одного токена)."
   ]
  },
  {
   "cell_type": "code",
   "execution_count": null,
   "outputs": [],
   "source": [],
   "metadata": {
    "collapsed": false
   }
  }
 ],
 "metadata": {
  "accelerator": "GPU",
  "colab": {
   "gpuType": "T4",
   "provenance": []
  },
  "kernelspec": {
   "display_name": "Python 3 (ipykernel)",
   "language": "python",
   "name": "python3"
  },
  "language_info": {
   "codemirror_mode": {
    "name": "ipython",
    "version": 3
   },
   "file_extension": ".py",
   "mimetype": "text/x-python",
   "name": "python",
   "nbconvert_exporter": "python",
   "pygments_lexer": "ipython3",
   "version": "3.9.13"
  },
  "widgets": {
   "application/vnd.jupyter.widget-state+json": {
    "06e7780578494f8fa5f9030d6d49c0c5": {
     "model_module": "@jupyter-widgets/controls",
     "model_module_version": "1.5.0",
     "model_name": "DescriptionStyleModel",
     "state": {
      "_model_module": "@jupyter-widgets/controls",
      "_model_module_version": "1.5.0",
      "_model_name": "DescriptionStyleModel",
      "_view_count": null,
      "_view_module": "@jupyter-widgets/base",
      "_view_module_version": "1.2.0",
      "_view_name": "StyleView",
      "description_width": ""
     }
    },
    "077e98d1bbe74055ab2d51a460091385": {
     "model_module": "@jupyter-widgets/controls",
     "model_module_version": "1.5.0",
     "model_name": "DescriptionStyleModel",
     "state": {
      "_model_module": "@jupyter-widgets/controls",
      "_model_module_version": "1.5.0",
      "_model_name": "DescriptionStyleModel",
      "_view_count": null,
      "_view_module": "@jupyter-widgets/base",
      "_view_module_version": "1.2.0",
      "_view_name": "StyleView",
      "description_width": ""
     }
    },
    "0b82f1f665a645738b4e649922d8a1cb": {
     "model_module": "@jupyter-widgets/controls",
     "model_module_version": "1.5.0",
     "model_name": "FloatProgressModel",
     "state": {
      "_dom_classes": [],
      "_model_module": "@jupyter-widgets/controls",
      "_model_module_version": "1.5.0",
      "_model_name": "FloatProgressModel",
      "_view_count": null,
      "_view_module": "@jupyter-widgets/controls",
      "_view_module_version": "1.5.0",
      "_view_name": "ProgressView",
      "bar_style": "success",
      "description": "",
      "description_tooltip": null,
      "layout": "IPY_MODEL_67b8f16412c54eedb24eea50b03e1814",
      "max": 659,
      "min": 0,
      "orientation": "horizontal",
      "style": "IPY_MODEL_c9e06f7e9d9c42d29d9c1dfcfb3985b7",
      "value": 659
     }
    },
    "0e0b24be380b429ab897cca81475ea6d": {
     "model_module": "@jupyter-widgets/controls",
     "model_module_version": "1.5.0",
     "model_name": "DescriptionStyleModel",
     "state": {
      "_model_module": "@jupyter-widgets/controls",
      "_model_module_version": "1.5.0",
      "_model_name": "DescriptionStyleModel",
      "_view_count": null,
      "_view_module": "@jupyter-widgets/base",
      "_view_module_version": "1.2.0",
      "_view_name": "StyleView",
      "description_width": ""
     }
    },
    "0ebf13d6e31b4f30924933ec190f4240": {
     "model_module": "@jupyter-widgets/base",
     "model_module_version": "1.2.0",
     "model_name": "LayoutModel",
     "state": {
      "_model_module": "@jupyter-widgets/base",
      "_model_module_version": "1.2.0",
      "_model_name": "LayoutModel",
      "_view_count": null,
      "_view_module": "@jupyter-widgets/base",
      "_view_module_version": "1.2.0",
      "_view_name": "LayoutView",
      "align_content": null,
      "align_items": null,
      "align_self": null,
      "border": null,
      "bottom": null,
      "display": null,
      "flex": null,
      "flex_flow": null,
      "grid_area": null,
      "grid_auto_columns": null,
      "grid_auto_flow": null,
      "grid_auto_rows": null,
      "grid_column": null,
      "grid_gap": null,
      "grid_row": null,
      "grid_template_areas": null,
      "grid_template_columns": null,
      "grid_template_rows": null,
      "height": null,
      "justify_content": null,
      "justify_items": null,
      "left": null,
      "margin": null,
      "max_height": null,
      "max_width": null,
      "min_height": null,
      "min_width": null,
      "object_fit": null,
      "object_position": null,
      "order": null,
      "overflow": null,
      "overflow_x": null,
      "overflow_y": null,
      "padding": null,
      "right": null,
      "top": null,
      "visibility": null,
      "width": null
     }
    },
    "18701a274bbf428c8acd4ac06b4640cd": {
     "model_module": "@jupyter-widgets/controls",
     "model_module_version": "1.5.0",
     "model_name": "HTMLModel",
     "state": {
      "_dom_classes": [],
      "_model_module": "@jupyter-widgets/controls",
      "_model_module_version": "1.5.0",
      "_model_name": "HTMLModel",
      "_view_count": null,
      "_view_module": "@jupyter-widgets/controls",
      "_view_module_version": "1.5.0",
      "_view_name": "HTMLView",
      "description": "",
      "description_tooltip": null,
      "layout": "IPY_MODEL_e62235619d6547b0bc766f276fe1509a",
      "placeholder": "​",
      "style": "IPY_MODEL_06e7780578494f8fa5f9030d6d49c0c5",
      "value": " 133k/133k [00:00&lt;00:00, 2.07MB/s]"
     }
    },
    "193be505a4d04f94954bf7138588155a": {
     "model_module": "@jupyter-widgets/controls",
     "model_module_version": "1.5.0",
     "model_name": "FloatProgressModel",
     "state": {
      "_dom_classes": [],
      "_model_module": "@jupyter-widgets/controls",
      "_model_module_version": "1.5.0",
      "_model_name": "FloatProgressModel",
      "_view_count": null,
      "_view_module": "@jupyter-widgets/controls",
      "_view_module_version": "1.5.0",
      "_view_name": "ProgressView",
      "bar_style": "success",
      "description": "",
      "description_tooltip": null,
      "layout": "IPY_MODEL_6fa5dfaf7f6542189f77e127ec6e7f0d",
      "max": 132977,
      "min": 0,
      "orientation": "horizontal",
      "style": "IPY_MODEL_4ccd42c69d924ee4bf9615abf71dd13a",
      "value": 132977
     }
    },
    "27c66960b1eb4bd68dee5958c1c01ce2": {
     "model_module": "@jupyter-widgets/controls",
     "model_module_version": "1.5.0",
     "model_name": "DescriptionStyleModel",
     "state": {
      "_model_module": "@jupyter-widgets/controls",
      "_model_module_version": "1.5.0",
      "_model_name": "DescriptionStyleModel",
      "_view_count": null,
      "_view_module": "@jupyter-widgets/base",
      "_view_module_version": "1.2.0",
      "_view_name": "StyleView",
      "description_width": ""
     }
    },
    "2f6a64ac679346c2b3205aa63533e88c": {
     "model_module": "@jupyter-widgets/controls",
     "model_module_version": "1.5.0",
     "model_name": "ProgressStyleModel",
     "state": {
      "_model_module": "@jupyter-widgets/controls",
      "_model_module_version": "1.5.0",
      "_model_name": "ProgressStyleModel",
      "_view_count": null,
      "_view_module": "@jupyter-widgets/base",
      "_view_module_version": "1.2.0",
      "_view_name": "StyleView",
      "bar_color": null,
      "description_width": ""
     }
    },
    "32923b5b0c844f12b3cf6226ea8b3001": {
     "model_module": "@jupyter-widgets/controls",
     "model_module_version": "1.5.0",
     "model_name": "DescriptionStyleModel",
     "state": {
      "_model_module": "@jupyter-widgets/controls",
      "_model_module_version": "1.5.0",
      "_model_name": "DescriptionStyleModel",
      "_view_count": null,
      "_view_module": "@jupyter-widgets/base",
      "_view_module_version": "1.2.0",
      "_view_name": "StyleView",
      "description_width": ""
     }
    },
    "47153b5664a145ab884d8d1fabb4dad5": {
     "model_module": "@jupyter-widgets/controls",
     "model_module_version": "1.5.0",
     "model_name": "HBoxModel",
     "state": {
      "_dom_classes": [],
      "_model_module": "@jupyter-widgets/controls",
      "_model_module_version": "1.5.0",
      "_model_name": "HBoxModel",
      "_view_count": null,
      "_view_module": "@jupyter-widgets/controls",
      "_view_module_version": "1.5.0",
      "_view_name": "HBoxView",
      "box_style": "",
      "children": [
       "IPY_MODEL_be7e9e90d4b64a318e5043cc49b4651e",
       "IPY_MODEL_193be505a4d04f94954bf7138588155a",
       "IPY_MODEL_18701a274bbf428c8acd4ac06b4640cd"
      ],
      "layout": "IPY_MODEL_8dc5f2c70e96471288a24178cb064446"
     }
    },
    "4ccd42c69d924ee4bf9615abf71dd13a": {
     "model_module": "@jupyter-widgets/controls",
     "model_module_version": "1.5.0",
     "model_name": "ProgressStyleModel",
     "state": {
      "_model_module": "@jupyter-widgets/controls",
      "_model_module_version": "1.5.0",
      "_model_name": "ProgressStyleModel",
      "_view_count": null,
      "_view_module": "@jupyter-widgets/base",
      "_view_module_version": "1.2.0",
      "_view_name": "StyleView",
      "bar_color": null,
      "description_width": ""
     }
    },
    "5880f9680f2e4fc2902a1553ca31f420": {
     "model_module": "@jupyter-widgets/controls",
     "model_module_version": "1.5.0",
     "model_name": "DescriptionStyleModel",
     "state": {
      "_model_module": "@jupyter-widgets/controls",
      "_model_module_version": "1.5.0",
      "_model_name": "DescriptionStyleModel",
      "_view_count": null,
      "_view_module": "@jupyter-widgets/base",
      "_view_module_version": "1.2.0",
      "_view_name": "StyleView",
      "description_width": ""
     }
    },
    "608444844ce945c2832b5c7872ef3575": {
     "model_module": "@jupyter-widgets/controls",
     "model_module_version": "1.5.0",
     "model_name": "HTMLModel",
     "state": {
      "_dom_classes": [],
      "_model_module": "@jupyter-widgets/controls",
      "_model_module_version": "1.5.0",
      "_model_name": "HTMLModel",
      "_view_count": null,
      "_view_module": "@jupyter-widgets/controls",
      "_view_module_version": "1.5.0",
      "_view_name": "HTMLView",
      "description": "",
      "description_tooltip": null,
      "layout": "IPY_MODEL_a34671c2081149d9bb2629672701b625",
      "placeholder": "​",
      "style": "IPY_MODEL_077e98d1bbe74055ab2d51a460091385",
      "value": " 49.0/49.0 [00:00&lt;00:00, 753B/s]"
     }
    },
    "67b8f16412c54eedb24eea50b03e1814": {
     "model_module": "@jupyter-widgets/base",
     "model_module_version": "1.2.0",
     "model_name": "LayoutModel",
     "state": {
      "_model_module": "@jupyter-widgets/base",
      "_model_module_version": "1.2.0",
      "_model_name": "LayoutModel",
      "_view_count": null,
      "_view_module": "@jupyter-widgets/base",
      "_view_module_version": "1.2.0",
      "_view_name": "LayoutView",
      "align_content": null,
      "align_items": null,
      "align_self": null,
      "border": null,
      "bottom": null,
      "display": null,
      "flex": null,
      "flex_flow": null,
      "grid_area": null,
      "grid_auto_columns": null,
      "grid_auto_flow": null,
      "grid_auto_rows": null,
      "grid_column": null,
      "grid_gap": null,
      "grid_row": null,
      "grid_template_areas": null,
      "grid_template_columns": null,
      "grid_template_rows": null,
      "height": null,
      "justify_content": null,
      "justify_items": null,
      "left": null,
      "margin": null,
      "max_height": null,
      "max_width": null,
      "min_height": null,
      "min_width": null,
      "object_fit": null,
      "object_position": null,
      "order": null,
      "overflow": null,
      "overflow_x": null,
      "overflow_y": null,
      "padding": null,
      "right": null,
      "top": null,
      "visibility": null,
      "width": null
     }
    },
    "6cb24cb6ff424b2e9da5c8e2a1c117a7": {
     "model_module": "@jupyter-widgets/controls",
     "model_module_version": "1.5.0",
     "model_name": "HTMLModel",
     "state": {
      "_dom_classes": [],
      "_model_module": "@jupyter-widgets/controls",
      "_model_module_version": "1.5.0",
      "_model_name": "HTMLModel",
      "_view_count": null,
      "_view_module": "@jupyter-widgets/controls",
      "_view_module_version": "1.5.0",
      "_view_name": "HTMLView",
      "description": "",
      "description_tooltip": null,
      "layout": "IPY_MODEL_be7fa4a982b8462087e14ec8acbe6e99",
      "placeholder": "​",
      "style": "IPY_MODEL_da83caa04e934975b3c2d16ff278328e",
      "value": "Downloading (…)okenizer_config.json: 100%"
     }
    },
    "6d41f8aa785347f2b87bae6426dc0ca0": {
     "model_module": "@jupyter-widgets/controls",
     "model_module_version": "1.5.0",
     "model_name": "ProgressStyleModel",
     "state": {
      "_model_module": "@jupyter-widgets/controls",
      "_model_module_version": "1.5.0",
      "_model_name": "ProgressStyleModel",
      "_view_count": null,
      "_view_module": "@jupyter-widgets/base",
      "_view_module_version": "1.2.0",
      "_view_name": "StyleView",
      "bar_color": null,
      "description_width": ""
     }
    },
    "6ec7b33ee5fc4e14a1404ccbad5dc149": {
     "model_module": "@jupyter-widgets/base",
     "model_module_version": "1.2.0",
     "model_name": "LayoutModel",
     "state": {
      "_model_module": "@jupyter-widgets/base",
      "_model_module_version": "1.2.0",
      "_model_name": "LayoutModel",
      "_view_count": null,
      "_view_module": "@jupyter-widgets/base",
      "_view_module_version": "1.2.0",
      "_view_name": "LayoutView",
      "align_content": null,
      "align_items": null,
      "align_self": null,
      "border": null,
      "bottom": null,
      "display": null,
      "flex": null,
      "flex_flow": null,
      "grid_area": null,
      "grid_auto_columns": null,
      "grid_auto_flow": null,
      "grid_auto_rows": null,
      "grid_column": null,
      "grid_gap": null,
      "grid_row": null,
      "grid_template_areas": null,
      "grid_template_columns": null,
      "grid_template_rows": null,
      "height": null,
      "justify_content": null,
      "justify_items": null,
      "left": null,
      "margin": null,
      "max_height": null,
      "max_width": null,
      "min_height": null,
      "min_width": null,
      "object_fit": null,
      "object_position": null,
      "order": null,
      "overflow": null,
      "overflow_x": null,
      "overflow_y": null,
      "padding": null,
      "right": null,
      "top": null,
      "visibility": null,
      "width": null
     }
    },
    "6fa5dfaf7f6542189f77e127ec6e7f0d": {
     "model_module": "@jupyter-widgets/base",
     "model_module_version": "1.2.0",
     "model_name": "LayoutModel",
     "state": {
      "_model_module": "@jupyter-widgets/base",
      "_model_module_version": "1.2.0",
      "_model_name": "LayoutModel",
      "_view_count": null,
      "_view_module": "@jupyter-widgets/base",
      "_view_module_version": "1.2.0",
      "_view_name": "LayoutView",
      "align_content": null,
      "align_items": null,
      "align_self": null,
      "border": null,
      "bottom": null,
      "display": null,
      "flex": null,
      "flex_flow": null,
      "grid_area": null,
      "grid_auto_columns": null,
      "grid_auto_flow": null,
      "grid_auto_rows": null,
      "grid_column": null,
      "grid_gap": null,
      "grid_row": null,
      "grid_template_areas": null,
      "grid_template_columns": null,
      "grid_template_rows": null,
      "height": null,
      "justify_content": null,
      "justify_items": null,
      "left": null,
      "margin": null,
      "max_height": null,
      "max_width": null,
      "min_height": null,
      "min_width": null,
      "object_fit": null,
      "object_position": null,
      "order": null,
      "overflow": null,
      "overflow_x": null,
      "overflow_y": null,
      "padding": null,
      "right": null,
      "top": null,
      "visibility": null,
      "width": null
     }
    },
    "71b40ec588b24ff6b90c9f922605b938": {
     "model_module": "@jupyter-widgets/controls",
     "model_module_version": "1.5.0",
     "model_name": "HBoxModel",
     "state": {
      "_dom_classes": [],
      "_model_module": "@jupyter-widgets/controls",
      "_model_module_version": "1.5.0",
      "_model_name": "HBoxModel",
      "_view_count": null,
      "_view_module": "@jupyter-widgets/controls",
      "_view_module_version": "1.5.0",
      "_view_name": "HBoxView",
      "box_style": "",
      "children": [
       "IPY_MODEL_6cb24cb6ff424b2e9da5c8e2a1c117a7",
       "IPY_MODEL_e233f613fbe54b5db49ed4b1e98a2571",
       "IPY_MODEL_608444844ce945c2832b5c7872ef3575"
      ],
      "layout": "IPY_MODEL_d905d2b4f3224813b8cfc1e6068d9be3"
     }
    },
    "7329fbdb7dd54c66bc1a33004ebdfa81": {
     "model_module": "@jupyter-widgets/base",
     "model_module_version": "1.2.0",
     "model_name": "LayoutModel",
     "state": {
      "_model_module": "@jupyter-widgets/base",
      "_model_module_version": "1.2.0",
      "_model_name": "LayoutModel",
      "_view_count": null,
      "_view_module": "@jupyter-widgets/base",
      "_view_module_version": "1.2.0",
      "_view_name": "LayoutView",
      "align_content": null,
      "align_items": null,
      "align_self": null,
      "border": null,
      "bottom": null,
      "display": null,
      "flex": null,
      "flex_flow": null,
      "grid_area": null,
      "grid_auto_columns": null,
      "grid_auto_flow": null,
      "grid_auto_rows": null,
      "grid_column": null,
      "grid_gap": null,
      "grid_row": null,
      "grid_template_areas": null,
      "grid_template_columns": null,
      "grid_template_rows": null,
      "height": null,
      "justify_content": null,
      "justify_items": null,
      "left": null,
      "margin": null,
      "max_height": null,
      "max_width": null,
      "min_height": null,
      "min_width": null,
      "object_fit": null,
      "object_position": null,
      "order": null,
      "overflow": null,
      "overflow_x": null,
      "overflow_y": null,
      "padding": null,
      "right": null,
      "top": null,
      "visibility": null,
      "width": null
     }
    },
    "76f5dfb17533456186307cfb1eb19111": {
     "model_module": "@jupyter-widgets/controls",
     "model_module_version": "1.5.0",
     "model_name": "HTMLModel",
     "state": {
      "_dom_classes": [],
      "_model_module": "@jupyter-widgets/controls",
      "_model_module_version": "1.5.0",
      "_model_name": "HTMLModel",
      "_view_count": null,
      "_view_module": "@jupyter-widgets/controls",
      "_view_module_version": "1.5.0",
      "_view_name": "HTMLView",
      "description": "",
      "description_tooltip": null,
      "layout": "IPY_MODEL_d1a2e90a1c3a477b83d1e93f3d0c2b4d",
      "placeholder": "​",
      "style": "IPY_MODEL_f55f1d4bc9d04169ab0109b6c72d0cce",
      "value": " 659/659 [00:00&lt;00:00, 7.62kB/s]"
     }
    },
    "770bca3de4444b50a6ec332e2d3a2789": {
     "model_module": "@jupyter-widgets/base",
     "model_module_version": "1.2.0",
     "model_name": "LayoutModel",
     "state": {
      "_model_module": "@jupyter-widgets/base",
      "_model_module_version": "1.2.0",
      "_model_name": "LayoutModel",
      "_view_count": null,
      "_view_module": "@jupyter-widgets/base",
      "_view_module_version": "1.2.0",
      "_view_name": "LayoutView",
      "align_content": null,
      "align_items": null,
      "align_self": null,
      "border": null,
      "bottom": null,
      "display": null,
      "flex": null,
      "flex_flow": null,
      "grid_area": null,
      "grid_auto_columns": null,
      "grid_auto_flow": null,
      "grid_auto_rows": null,
      "grid_column": null,
      "grid_gap": null,
      "grid_row": null,
      "grid_template_areas": null,
      "grid_template_columns": null,
      "grid_template_rows": null,
      "height": null,
      "justify_content": null,
      "justify_items": null,
      "left": null,
      "margin": null,
      "max_height": null,
      "max_width": null,
      "min_height": null,
      "min_width": null,
      "object_fit": null,
      "object_position": null,
      "order": null,
      "overflow": null,
      "overflow_x": null,
      "overflow_y": null,
      "padding": null,
      "right": null,
      "top": null,
      "visibility": null,
      "width": null
     }
    },
    "8313820a752343a191dd65e29e4b43d9": {
     "model_module": "@jupyter-widgets/base",
     "model_module_version": "1.2.0",
     "model_name": "LayoutModel",
     "state": {
      "_model_module": "@jupyter-widgets/base",
      "_model_module_version": "1.2.0",
      "_model_name": "LayoutModel",
      "_view_count": null,
      "_view_module": "@jupyter-widgets/base",
      "_view_module_version": "1.2.0",
      "_view_name": "LayoutView",
      "align_content": null,
      "align_items": null,
      "align_self": null,
      "border": null,
      "bottom": null,
      "display": null,
      "flex": null,
      "flex_flow": null,
      "grid_area": null,
      "grid_auto_columns": null,
      "grid_auto_flow": null,
      "grid_auto_rows": null,
      "grid_column": null,
      "grid_gap": null,
      "grid_row": null,
      "grid_template_areas": null,
      "grid_template_columns": null,
      "grid_template_rows": null,
      "height": null,
      "justify_content": null,
      "justify_items": null,
      "left": null,
      "margin": null,
      "max_height": null,
      "max_width": null,
      "min_height": null,
      "min_width": null,
      "object_fit": null,
      "object_position": null,
      "order": null,
      "overflow": null,
      "overflow_x": null,
      "overflow_y": null,
      "padding": null,
      "right": null,
      "top": null,
      "visibility": null,
      "width": null
     }
    },
    "849923a62f3043aea2517c0174cea0ab": {
     "model_module": "@jupyter-widgets/base",
     "model_module_version": "1.2.0",
     "model_name": "LayoutModel",
     "state": {
      "_model_module": "@jupyter-widgets/base",
      "_model_module_version": "1.2.0",
      "_model_name": "LayoutModel",
      "_view_count": null,
      "_view_module": "@jupyter-widgets/base",
      "_view_module_version": "1.2.0",
      "_view_name": "LayoutView",
      "align_content": null,
      "align_items": null,
      "align_self": null,
      "border": null,
      "bottom": null,
      "display": null,
      "flex": null,
      "flex_flow": null,
      "grid_area": null,
      "grid_auto_columns": null,
      "grid_auto_flow": null,
      "grid_auto_rows": null,
      "grid_column": null,
      "grid_gap": null,
      "grid_row": null,
      "grid_template_areas": null,
      "grid_template_columns": null,
      "grid_template_rows": null,
      "height": null,
      "justify_content": null,
      "justify_items": null,
      "left": null,
      "margin": null,
      "max_height": null,
      "max_width": null,
      "min_height": null,
      "min_width": null,
      "object_fit": null,
      "object_position": null,
      "order": null,
      "overflow": null,
      "overflow_x": null,
      "overflow_y": null,
      "padding": null,
      "right": null,
      "top": null,
      "visibility": null,
      "width": null
     }
    },
    "8dc5f2c70e96471288a24178cb064446": {
     "model_module": "@jupyter-widgets/base",
     "model_module_version": "1.2.0",
     "model_name": "LayoutModel",
     "state": {
      "_model_module": "@jupyter-widgets/base",
      "_model_module_version": "1.2.0",
      "_model_name": "LayoutModel",
      "_view_count": null,
      "_view_module": "@jupyter-widgets/base",
      "_view_module_version": "1.2.0",
      "_view_name": "LayoutView",
      "align_content": null,
      "align_items": null,
      "align_self": null,
      "border": null,
      "bottom": null,
      "display": null,
      "flex": null,
      "flex_flow": null,
      "grid_area": null,
      "grid_auto_columns": null,
      "grid_auto_flow": null,
      "grid_auto_rows": null,
      "grid_column": null,
      "grid_gap": null,
      "grid_row": null,
      "grid_template_areas": null,
      "grid_template_columns": null,
      "grid_template_rows": null,
      "height": null,
      "justify_content": null,
      "justify_items": null,
      "left": null,
      "margin": null,
      "max_height": null,
      "max_width": null,
      "min_height": null,
      "min_width": null,
      "object_fit": null,
      "object_position": null,
      "order": null,
      "overflow": null,
      "overflow_x": null,
      "overflow_y": null,
      "padding": null,
      "right": null,
      "top": null,
      "visibility": null,
      "width": null
     }
    },
    "96dca3d9646e43d4aa66ce1e7a709819": {
     "model_module": "@jupyter-widgets/controls",
     "model_module_version": "1.5.0",
     "model_name": "HTMLModel",
     "state": {
      "_dom_classes": [],
      "_model_module": "@jupyter-widgets/controls",
      "_model_module_version": "1.5.0",
      "_model_name": "HTMLModel",
      "_view_count": null,
      "_view_module": "@jupyter-widgets/controls",
      "_view_module_version": "1.5.0",
      "_view_name": "HTMLView",
      "description": "",
      "description_tooltip": null,
      "layout": "IPY_MODEL_d9675518933a4956986b221479038f69",
      "placeholder": "​",
      "style": "IPY_MODEL_27c66960b1eb4bd68dee5958c1c01ce2",
      "value": "Downloading (…)lve/main/config.json: 100%"
     }
    },
    "a34671c2081149d9bb2629672701b625": {
     "model_module": "@jupyter-widgets/base",
     "model_module_version": "1.2.0",
     "model_name": "LayoutModel",
     "state": {
      "_model_module": "@jupyter-widgets/base",
      "_model_module_version": "1.2.0",
      "_model_name": "LayoutModel",
      "_view_count": null,
      "_view_module": "@jupyter-widgets/base",
      "_view_module_version": "1.2.0",
      "_view_name": "LayoutView",
      "align_content": null,
      "align_items": null,
      "align_self": null,
      "border": null,
      "bottom": null,
      "display": null,
      "flex": null,
      "flex_flow": null,
      "grid_area": null,
      "grid_auto_columns": null,
      "grid_auto_flow": null,
      "grid_auto_rows": null,
      "grid_column": null,
      "grid_gap": null,
      "grid_row": null,
      "grid_template_areas": null,
      "grid_template_columns": null,
      "grid_template_rows": null,
      "height": null,
      "justify_content": null,
      "justify_items": null,
      "left": null,
      "margin": null,
      "max_height": null,
      "max_width": null,
      "min_height": null,
      "min_width": null,
      "object_fit": null,
      "object_position": null,
      "order": null,
      "overflow": null,
      "overflow_x": null,
      "overflow_y": null,
      "padding": null,
      "right": null,
      "top": null,
      "visibility": null,
      "width": null
     }
    },
    "a5490602c24540d0afac1b5fb603e8e6": {
     "model_module": "@jupyter-widgets/controls",
     "model_module_version": "1.5.0",
     "model_name": "HBoxModel",
     "state": {
      "_dom_classes": [],
      "_model_module": "@jupyter-widgets/controls",
      "_model_module_version": "1.5.0",
      "_model_name": "HBoxModel",
      "_view_count": null,
      "_view_module": "@jupyter-widgets/controls",
      "_view_module_version": "1.5.0",
      "_view_name": "HBoxView",
      "box_style": "",
      "children": [
       "IPY_MODEL_96dca3d9646e43d4aa66ce1e7a709819",
       "IPY_MODEL_0b82f1f665a645738b4e649922d8a1cb",
       "IPY_MODEL_76f5dfb17533456186307cfb1eb19111"
      ],
      "layout": "IPY_MODEL_6ec7b33ee5fc4e14a1404ccbad5dc149"
     }
    },
    "be7e9e90d4b64a318e5043cc49b4651e": {
     "model_module": "@jupyter-widgets/controls",
     "model_module_version": "1.5.0",
     "model_name": "HTMLModel",
     "state": {
      "_dom_classes": [],
      "_model_module": "@jupyter-widgets/controls",
      "_model_module_version": "1.5.0",
      "_model_name": "HTMLModel",
      "_view_count": null,
      "_view_module": "@jupyter-widgets/controls",
      "_view_module_version": "1.5.0",
      "_view_name": "HTMLView",
      "description": "",
      "description_tooltip": null,
      "layout": "IPY_MODEL_8313820a752343a191dd65e29e4b43d9",
      "placeholder": "​",
      "style": "IPY_MODEL_5880f9680f2e4fc2902a1553ca31f420",
      "value": "Downloading (…)solve/main/vocab.txt: 100%"
     }
    },
    "be7fa4a982b8462087e14ec8acbe6e99": {
     "model_module": "@jupyter-widgets/base",
     "model_module_version": "1.2.0",
     "model_name": "LayoutModel",
     "state": {
      "_model_module": "@jupyter-widgets/base",
      "_model_module_version": "1.2.0",
      "_model_name": "LayoutModel",
      "_view_count": null,
      "_view_module": "@jupyter-widgets/base",
      "_view_module_version": "1.2.0",
      "_view_name": "LayoutView",
      "align_content": null,
      "align_items": null,
      "align_self": null,
      "border": null,
      "bottom": null,
      "display": null,
      "flex": null,
      "flex_flow": null,
      "grid_area": null,
      "grid_auto_columns": null,
      "grid_auto_flow": null,
      "grid_auto_rows": null,
      "grid_column": null,
      "grid_gap": null,
      "grid_row": null,
      "grid_template_areas": null,
      "grid_template_columns": null,
      "grid_template_rows": null,
      "height": null,
      "justify_content": null,
      "justify_items": null,
      "left": null,
      "margin": null,
      "max_height": null,
      "max_width": null,
      "min_height": null,
      "min_width": null,
      "object_fit": null,
      "object_position": null,
      "order": null,
      "overflow": null,
      "overflow_x": null,
      "overflow_y": null,
      "padding": null,
      "right": null,
      "top": null,
      "visibility": null,
      "width": null
     }
    },
    "c5ae2a45413243f9a3da7026d553a879": {
     "model_module": "@jupyter-widgets/controls",
     "model_module_version": "1.5.0",
     "model_name": "HTMLModel",
     "state": {
      "_dom_classes": [],
      "_model_module": "@jupyter-widgets/controls",
      "_model_module_version": "1.5.0",
      "_model_name": "HTMLModel",
      "_view_count": null,
      "_view_module": "@jupyter-widgets/controls",
      "_view_module_version": "1.5.0",
      "_view_name": "HTMLView",
      "description": "",
      "description_tooltip": null,
      "layout": "IPY_MODEL_cdacc51c9543448ea80796267df2165b",
      "placeholder": "​",
      "style": "IPY_MODEL_0e0b24be380b429ab897cca81475ea6d",
      "value": "Downloading pytorch_model.bin: 100%"
     }
    },
    "c9e06f7e9d9c42d29d9c1dfcfb3985b7": {
     "model_module": "@jupyter-widgets/controls",
     "model_module_version": "1.5.0",
     "model_name": "ProgressStyleModel",
     "state": {
      "_model_module": "@jupyter-widgets/controls",
      "_model_module_version": "1.5.0",
      "_model_name": "ProgressStyleModel",
      "_view_count": null,
      "_view_module": "@jupyter-widgets/base",
      "_view_module_version": "1.2.0",
      "_view_name": "StyleView",
      "bar_color": null,
      "description_width": ""
     }
    },
    "ccc94168f73540a4aede5f821e68ecf6": {
     "model_module": "@jupyter-widgets/controls",
     "model_module_version": "1.5.0",
     "model_name": "FloatProgressModel",
     "state": {
      "_dom_classes": [],
      "_model_module": "@jupyter-widgets/controls",
      "_model_module_version": "1.5.0",
      "_model_name": "FloatProgressModel",
      "_view_count": null,
      "_view_module": "@jupyter-widgets/controls",
      "_view_module_version": "1.5.0",
      "_view_name": "ProgressView",
      "bar_style": "success",
      "description": "",
      "description_tooltip": null,
      "layout": "IPY_MODEL_0ebf13d6e31b4f30924933ec190f4240",
      "max": 388193298,
      "min": 0,
      "orientation": "horizontal",
      "style": "IPY_MODEL_2f6a64ac679346c2b3205aa63533e88c",
      "value": 388193298
     }
    },
    "cdacc51c9543448ea80796267df2165b": {
     "model_module": "@jupyter-widgets/base",
     "model_module_version": "1.2.0",
     "model_name": "LayoutModel",
     "state": {
      "_model_module": "@jupyter-widgets/base",
      "_model_module_version": "1.2.0",
      "_model_name": "LayoutModel",
      "_view_count": null,
      "_view_module": "@jupyter-widgets/base",
      "_view_module_version": "1.2.0",
      "_view_name": "LayoutView",
      "align_content": null,
      "align_items": null,
      "align_self": null,
      "border": null,
      "bottom": null,
      "display": null,
      "flex": null,
      "flex_flow": null,
      "grid_area": null,
      "grid_auto_columns": null,
      "grid_auto_flow": null,
      "grid_auto_rows": null,
      "grid_column": null,
      "grid_gap": null,
      "grid_row": null,
      "grid_template_areas": null,
      "grid_template_columns": null,
      "grid_template_rows": null,
      "height": null,
      "justify_content": null,
      "justify_items": null,
      "left": null,
      "margin": null,
      "max_height": null,
      "max_width": null,
      "min_height": null,
      "min_width": null,
      "object_fit": null,
      "object_position": null,
      "order": null,
      "overflow": null,
      "overflow_x": null,
      "overflow_y": null,
      "padding": null,
      "right": null,
      "top": null,
      "visibility": null,
      "width": null
     }
    },
    "d1a2e90a1c3a477b83d1e93f3d0c2b4d": {
     "model_module": "@jupyter-widgets/base",
     "model_module_version": "1.2.0",
     "model_name": "LayoutModel",
     "state": {
      "_model_module": "@jupyter-widgets/base",
      "_model_module_version": "1.2.0",
      "_model_name": "LayoutModel",
      "_view_count": null,
      "_view_module": "@jupyter-widgets/base",
      "_view_module_version": "1.2.0",
      "_view_name": "LayoutView",
      "align_content": null,
      "align_items": null,
      "align_self": null,
      "border": null,
      "bottom": null,
      "display": null,
      "flex": null,
      "flex_flow": null,
      "grid_area": null,
      "grid_auto_columns": null,
      "grid_auto_flow": null,
      "grid_auto_rows": null,
      "grid_column": null,
      "grid_gap": null,
      "grid_row": null,
      "grid_template_areas": null,
      "grid_template_columns": null,
      "grid_template_rows": null,
      "height": null,
      "justify_content": null,
      "justify_items": null,
      "left": null,
      "margin": null,
      "max_height": null,
      "max_width": null,
      "min_height": null,
      "min_width": null,
      "object_fit": null,
      "object_position": null,
      "order": null,
      "overflow": null,
      "overflow_x": null,
      "overflow_y": null,
      "padding": null,
      "right": null,
      "top": null,
      "visibility": null,
      "width": null
     }
    },
    "d905d2b4f3224813b8cfc1e6068d9be3": {
     "model_module": "@jupyter-widgets/base",
     "model_module_version": "1.2.0",
     "model_name": "LayoutModel",
     "state": {
      "_model_module": "@jupyter-widgets/base",
      "_model_module_version": "1.2.0",
      "_model_name": "LayoutModel",
      "_view_count": null,
      "_view_module": "@jupyter-widgets/base",
      "_view_module_version": "1.2.0",
      "_view_name": "LayoutView",
      "align_content": null,
      "align_items": null,
      "align_self": null,
      "border": null,
      "bottom": null,
      "display": null,
      "flex": null,
      "flex_flow": null,
      "grid_area": null,
      "grid_auto_columns": null,
      "grid_auto_flow": null,
      "grid_auto_rows": null,
      "grid_column": null,
      "grid_gap": null,
      "grid_row": null,
      "grid_template_areas": null,
      "grid_template_columns": null,
      "grid_template_rows": null,
      "height": null,
      "justify_content": null,
      "justify_items": null,
      "left": null,
      "margin": null,
      "max_height": null,
      "max_width": null,
      "min_height": null,
      "min_width": null,
      "object_fit": null,
      "object_position": null,
      "order": null,
      "overflow": null,
      "overflow_x": null,
      "overflow_y": null,
      "padding": null,
      "right": null,
      "top": null,
      "visibility": null,
      "width": null
     }
    },
    "d9675518933a4956986b221479038f69": {
     "model_module": "@jupyter-widgets/base",
     "model_module_version": "1.2.0",
     "model_name": "LayoutModel",
     "state": {
      "_model_module": "@jupyter-widgets/base",
      "_model_module_version": "1.2.0",
      "_model_name": "LayoutModel",
      "_view_count": null,
      "_view_module": "@jupyter-widgets/base",
      "_view_module_version": "1.2.0",
      "_view_name": "LayoutView",
      "align_content": null,
      "align_items": null,
      "align_self": null,
      "border": null,
      "bottom": null,
      "display": null,
      "flex": null,
      "flex_flow": null,
      "grid_area": null,
      "grid_auto_columns": null,
      "grid_auto_flow": null,
      "grid_auto_rows": null,
      "grid_column": null,
      "grid_gap": null,
      "grid_row": null,
      "grid_template_areas": null,
      "grid_template_columns": null,
      "grid_template_rows": null,
      "height": null,
      "justify_content": null,
      "justify_items": null,
      "left": null,
      "margin": null,
      "max_height": null,
      "max_width": null,
      "min_height": null,
      "min_width": null,
      "object_fit": null,
      "object_position": null,
      "order": null,
      "overflow": null,
      "overflow_x": null,
      "overflow_y": null,
      "padding": null,
      "right": null,
      "top": null,
      "visibility": null,
      "width": null
     }
    },
    "da83caa04e934975b3c2d16ff278328e": {
     "model_module": "@jupyter-widgets/controls",
     "model_module_version": "1.5.0",
     "model_name": "DescriptionStyleModel",
     "state": {
      "_model_module": "@jupyter-widgets/controls",
      "_model_module_version": "1.5.0",
      "_model_name": "DescriptionStyleModel",
      "_view_count": null,
      "_view_module": "@jupyter-widgets/base",
      "_view_module_version": "1.2.0",
      "_view_name": "StyleView",
      "description_width": ""
     }
    },
    "e233f613fbe54b5db49ed4b1e98a2571": {
     "model_module": "@jupyter-widgets/controls",
     "model_module_version": "1.5.0",
     "model_name": "FloatProgressModel",
     "state": {
      "_dom_classes": [],
      "_model_module": "@jupyter-widgets/controls",
      "_model_module_version": "1.5.0",
      "_model_name": "FloatProgressModel",
      "_view_count": null,
      "_view_module": "@jupyter-widgets/controls",
      "_view_module_version": "1.5.0",
      "_view_name": "ProgressView",
      "bar_style": "success",
      "description": "",
      "description_tooltip": null,
      "layout": "IPY_MODEL_7329fbdb7dd54c66bc1a33004ebdfa81",
      "max": 49,
      "min": 0,
      "orientation": "horizontal",
      "style": "IPY_MODEL_6d41f8aa785347f2b87bae6426dc0ca0",
      "value": 49
     }
    },
    "e62235619d6547b0bc766f276fe1509a": {
     "model_module": "@jupyter-widgets/base",
     "model_module_version": "1.2.0",
     "model_name": "LayoutModel",
     "state": {
      "_model_module": "@jupyter-widgets/base",
      "_model_module_version": "1.2.0",
      "_model_name": "LayoutModel",
      "_view_count": null,
      "_view_module": "@jupyter-widgets/base",
      "_view_module_version": "1.2.0",
      "_view_name": "LayoutView",
      "align_content": null,
      "align_items": null,
      "align_self": null,
      "border": null,
      "bottom": null,
      "display": null,
      "flex": null,
      "flex_flow": null,
      "grid_area": null,
      "grid_auto_columns": null,
      "grid_auto_flow": null,
      "grid_auto_rows": null,
      "grid_column": null,
      "grid_gap": null,
      "grid_row": null,
      "grid_template_areas": null,
      "grid_template_columns": null,
      "grid_template_rows": null,
      "height": null,
      "justify_content": null,
      "justify_items": null,
      "left": null,
      "margin": null,
      "max_height": null,
      "max_width": null,
      "min_height": null,
      "min_width": null,
      "object_fit": null,
      "object_position": null,
      "order": null,
      "overflow": null,
      "overflow_x": null,
      "overflow_y": null,
      "padding": null,
      "right": null,
      "top": null,
      "visibility": null,
      "width": null
     }
    },
    "ec14c186258c46188a067596dec8527f": {
     "model_module": "@jupyter-widgets/controls",
     "model_module_version": "1.5.0",
     "model_name": "HTMLModel",
     "state": {
      "_dom_classes": [],
      "_model_module": "@jupyter-widgets/controls",
      "_model_module_version": "1.5.0",
      "_model_name": "HTMLModel",
      "_view_count": null,
      "_view_module": "@jupyter-widgets/controls",
      "_view_module_version": "1.5.0",
      "_view_name": "HTMLView",
      "description": "",
      "description_tooltip": null,
      "layout": "IPY_MODEL_849923a62f3043aea2517c0174cea0ab",
      "placeholder": "​",
      "style": "IPY_MODEL_32923b5b0c844f12b3cf6226ea8b3001",
      "value": " 388M/388M [00:10&lt;00:00, 36.5MB/s]"
     }
    },
    "f55f1d4bc9d04169ab0109b6c72d0cce": {
     "model_module": "@jupyter-widgets/controls",
     "model_module_version": "1.5.0",
     "model_name": "DescriptionStyleModel",
     "state": {
      "_model_module": "@jupyter-widgets/controls",
      "_model_module_version": "1.5.0",
      "_model_name": "DescriptionStyleModel",
      "_view_count": null,
      "_view_module": "@jupyter-widgets/base",
      "_view_module_version": "1.2.0",
      "_view_name": "StyleView",
      "description_width": ""
     }
    },
    "fb4550820dde4628b61ed103a1bdf6bc": {
     "model_module": "@jupyter-widgets/controls",
     "model_module_version": "1.5.0",
     "model_name": "HBoxModel",
     "state": {
      "_dom_classes": [],
      "_model_module": "@jupyter-widgets/controls",
      "_model_module_version": "1.5.0",
      "_model_name": "HBoxModel",
      "_view_count": null,
      "_view_module": "@jupyter-widgets/controls",
      "_view_module_version": "1.5.0",
      "_view_name": "HBoxView",
      "box_style": "",
      "children": [
       "IPY_MODEL_c5ae2a45413243f9a3da7026d553a879",
       "IPY_MODEL_ccc94168f73540a4aede5f821e68ecf6",
       "IPY_MODEL_ec14c186258c46188a067596dec8527f"
      ],
      "layout": "IPY_MODEL_770bca3de4444b50a6ec332e2d3a2789"
     }
    }
   }
  }
 },
 "nbformat": 4,
 "nbformat_minor": 5
}
