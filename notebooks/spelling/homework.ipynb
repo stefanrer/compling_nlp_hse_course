{
 "cells": [
  {
   "cell_type": "markdown",
   "id": "371970ff",
   "metadata": {},
   "source": [
    "# Домашнее задание № 3. Исправление опечаток"
   ]
  },
  {
   "cell_type": "markdown",
   "id": "b35cf8bd",
   "metadata": {},
   "source": [
    "## 1. Доп. ранжирование по вероятности (3 балла)"
   ]
  },
  {
   "cell_type": "markdown",
   "id": "0c6be25c",
   "metadata": {},
   "source": [
    "Дополните get_closest_hybrid_match в семинаре так, чтобы из кандидатов с одинаковым расстоянием редактирования выбиралось наиболее вероятное."
   ]
  },
  {
   "cell_type": "code",
   "execution_count": 57,
   "outputs": [],
   "source": [
    "import re\n",
    "import textdistance\n",
    "from sklearn.feature_extraction.text import CountVectorizer\n",
    "from sklearn.metrics.pairwise import cosine_distances\n",
    "from collections import Counter"
   ],
   "metadata": {
    "collapsed": false,
    "ExecuteTime": {
     "end_time": "2023-06-08T08:18:47.808660200Z",
     "start_time": "2023-06-08T08:18:47.723220800Z"
    }
   }
  },
  {
   "cell_type": "code",
   "execution_count": 58,
   "outputs": [],
   "source": [
    "corpus = open('data/wiki_data.txt', encoding='utf8').read()\n",
    "# создаем словарь\n",
    "vocab = Counter(re.findall('\\w+', corpus.lower()))"
   ],
   "metadata": {
    "collapsed": false,
    "ExecuteTime": {
     "end_time": "2023-06-08T08:18:50.125603600Z",
     "start_time": "2023-06-08T08:18:47.727408100Z"
    }
   }
  },
  {
   "cell_type": "code",
   "execution_count": 59,
   "outputs": [],
   "source": [
    "word2id = list(vocab.keys())\n",
    "id2word = {i:word for i, word in enumerate(vocab)}\n",
    "\n",
    "vec = CountVectorizer(analyzer='char', ngram_range=(1,1))\n",
    "X = vec.fit_transform(vocab)"
   ],
   "metadata": {
    "collapsed": false,
    "ExecuteTime": {
     "end_time": "2023-06-08T08:18:51.471044900Z",
     "start_time": "2023-06-08T08:18:50.125603600Z"
    }
   }
  },
  {
   "cell_type": "code",
   "execution_count": 60,
   "outputs": [],
   "source": [
    "def get_closest_match_vec(text, X, vec, topn=20):\n",
    "    v = vec.transform([text])\n",
    "\n",
    "    # вся эффективноть берется из того, что мы сразу считаем близость\n",
    "    # 1 вектора ко всей матрице (словам в словаре)\n",
    "    # считать по отдельности циклом было бы дольше\n",
    "    # вместо одного вектора может даже целая матрица\n",
    "    # тогда считаться в итоге будет ещё быстрее\n",
    "\n",
    "    similarities = cosine_distances(v, X)[0]\n",
    "    topn = similarities.argsort()[:topn]\n",
    "\n",
    "    return [(id2word[top], similarities[top]) for top in topn]"
   ],
   "metadata": {
    "collapsed": false,
    "ExecuteTime": {
     "end_time": "2023-06-08T08:18:51.472048900Z",
     "start_time": "2023-06-08T08:18:51.470181400Z"
    }
   }
  },
  {
   "cell_type": "code",
   "execution_count": 61,
   "id": "f8e8814a",
   "metadata": {
    "ExecuteTime": {
     "end_time": "2023-06-08T08:18:51.505241200Z",
     "start_time": "2023-06-08T08:18:51.474126800Z"
    }
   },
   "outputs": [],
   "source": [
    "def get_closest_match_with_metric(text, lookup,topn=20, metric=textdistance.levenshtein):\n",
    "    # Counter можно использовать и с не целыми числами\n",
    "    similarities = Counter()\n",
    "    \n",
    "    for word in lookup:\n",
    "        similarities[word] = metric.normalized_similarity(text, word) \n",
    "    \n",
    "    return similarities.most_common(topn)\n",
    "\n",
    "def get_closest_hybrid_match(text, X, vec, topn=3, metric=textdistance.damerau_levenshtein):\n",
    "    candidates = get_closest_match_vec(text, X, vec, topn*4)\n",
    "    lookup = [cand[0] for cand in candidates]\n",
    "    closest = get_closest_match_with_metric(text, lookup, topn, metric=metric)\n",
    "\n",
    "    \n",
    "    return max(closest)[0]\n",
    "\n",
    "# N = sum(vocab.values())\n",
    "#\n",
    "# def P(word, N=N):\n",
    "#     return vocab[word] / N\n",
    "\n",
    "def predict_mistaken(word, vocab):\n",
    "    return 0 if word in vocab else 1\n"
   ]
  },
  {
   "cell_type": "code",
   "execution_count": 62,
   "id": "e67f8d02",
   "metadata": {
    "ExecuteTime": {
     "end_time": "2023-06-08T08:18:51.611986100Z",
     "start_time": "2023-06-08T08:18:51.504241300Z"
    }
   },
   "outputs": [
    {
     "name": "stdout",
     "output_type": "stream",
     "text": [
      "CPU times: total: 0 ns\n",
      "Wall time: 0 ns\n"
     ]
    },
    {
     "data": {
      "text/plain": "'крэйг'"
     },
     "execution_count": 62,
     "metadata": {},
     "output_type": "execute_result"
    }
   ],
   "source": [
    "%time\n",
    "get_closest_hybrid_match('крйг', X, vec)"
   ]
  },
  {
   "cell_type": "markdown",
   "id": "f9cf9985",
   "metadata": {},
   "source": [
    "## 2.  Symspell (5 баллов)"
   ]
  },
  {
   "cell_type": "markdown",
   "id": "9392cc23",
   "metadata": {},
   "source": [
    "Реализуйте алгоритм Symspell. Он похож на алгоритм Норвига, но проще и быстрее. Там к словам применяется только одна операция - удаление символа. Описание алгоритма по шагам:\n",
    "\n",
    "1) Составляется словарь правильных слов  \n",
    "2) На основе словаря правильных слов составляется словарь удалений - для каждого правильного слова создаются все варианты удалений и создается словарь, где ключ - слово с удалением, а значение - правильное слово   \n",
    "3) Для выбора исправления для слова с опечаткой генерируются все варианты удаления, из них выбираются те, что есть в словаре удалений, построенного на шаге 2. Слово с опечаткой заменяется на правильное слово, соответствующее варианту удаления  \n",
    "4) Если в словаре удалений есть несколько вариантов, то выбирается удаление, которому соответствует наиболее вероятное правильное слово  \n",
    "\n",
    "\n",
    "Оцените качество полученного алгоритма теми же тремя метриками."
   ]
  },
  {
   "cell_type": "code",
   "execution_count": 63,
   "outputs": [],
   "source": [
    "import re\n",
    "from collections import Counter"
   ],
   "metadata": {
    "collapsed": false,
    "ExecuteTime": {
     "end_time": "2023-06-08T08:18:51.614758600Z",
     "start_time": "2023-06-08T08:18:51.612986400Z"
    }
   }
  },
  {
   "cell_type": "code",
   "execution_count": 64,
   "id": "96c9fae0",
   "metadata": {
    "ExecuteTime": {
     "end_time": "2023-06-08T08:18:51.627790300Z",
     "start_time": "2023-06-08T08:18:51.625274400Z"
    }
   },
   "outputs": [],
   "source": [
    "class Symspell:\n",
    "    def __init__(self, dictionary):\n",
    "        self.dictionary = dictionary\n",
    "        self.deletion_dict = self.build_deletion_dict()\n",
    "        self.word_probabilities = self.build_probability_dict()\n",
    "\n",
    "    def build_deletion_dict(self):\n",
    "        deletion_dict = {}\n",
    "        for word in self.dictionary:\n",
    "            for i in range(len(word)):\n",
    "                deletion = word[:i] + word[i+1:]\n",
    "                if deletion not in deletion_dict:\n",
    "                    deletion_dict[deletion] = []\n",
    "                deletion_dict[deletion].append(word)\n",
    "        return deletion_dict\n",
    "\n",
    "    def build_probability_dict(self):\n",
    "        word_counts = Counter(self.dictionary)\n",
    "        total_words = sum(word_counts.values())\n",
    "        probability_dict = {word: count / total_words for word, count in word_counts.items()}\n",
    "        return probability_dict\n",
    "\n",
    "    def correct(self, word):\n",
    "        if word in self.dictionary:\n",
    "            return word\n",
    "\n",
    "        candidates = []\n",
    "        for i in range(len(word)):\n",
    "            deletion = word[:i] + word[i+1:]\n",
    "            if deletion in self.deletion_dict:\n",
    "                candidates.extend(self.deletion_dict[deletion])\n",
    "\n",
    "        if not candidates:\n",
    "            return word\n",
    "\n",
    "        # выбираем кандидата с наибольшей вероятностью\n",
    "        best_candidate = max(candidates, key=lambda candidate: self.word_probabilities.get(candidate, 0))\n",
    "\n",
    "        return best_candidate"
   ]
  },
  {
   "cell_type": "code",
   "execution_count": 65,
   "outputs": [],
   "source": [
    "corpus = open('data/wiki_data.txt', encoding='utf8').read()\n",
    "# создаем словарь правильных слов\n",
    "vocab = Counter(re.findall('\\w+', corpus.lower()))"
   ],
   "metadata": {
    "collapsed": false,
    "ExecuteTime": {
     "end_time": "2023-06-08T08:18:53.791143900Z",
     "start_time": "2023-06-08T08:18:51.629289800Z"
    }
   }
  },
  {
   "cell_type": "code",
   "execution_count": 66,
   "outputs": [],
   "source": [
    "sym = Symspell(vocab)"
   ],
   "metadata": {
    "collapsed": false,
    "ExecuteTime": {
     "end_time": "2023-06-08T08:18:56.878038900Z",
     "start_time": "2023-06-08T08:18:53.791143900Z"
    }
   }
  },
  {
   "cell_type": "code",
   "execution_count": 67,
   "outputs": [
    {
     "name": "stdout",
     "output_type": "stream",
     "text": [
      "CPU times: total: 0 ns\n",
      "Wall time: 0 ns\n"
     ]
    },
    {
     "data": {
      "text/plain": "'круг'"
     },
     "execution_count": 67,
     "metadata": {},
     "output_type": "execute_result"
    }
   ],
   "source": [
    "%time\n",
    "sym.correct('крйг')"
   ],
   "metadata": {
    "collapsed": false,
    "ExecuteTime": {
     "end_time": "2023-06-08T08:18:56.881081100Z",
     "start_time": "2023-06-08T08:18:56.878038900Z"
    }
   }
  },
  {
   "cell_type": "markdown",
   "id": "b292d96d",
   "metadata": {},
   "source": [
    "## *3. Чтение. (2 балла)"
   ]
  },
  {
   "cell_type": "markdown",
   "id": "dee4b28f",
   "metadata": {},
   "source": [
    "Прочитайте эту главу в книге Speech and Language Processing - https://web.stanford.edu/~jurafsky/slp3/2.pdf .\n",
    "Ответьте на следующий вопрос:\n",
    "\n",
    "1. Что такое Byte-Pair Encoding (опишите по-русски, как минимум 10 предложениями)?\n",
    "\n",
    "*Это задание не связано напрямую с исправлением опечаток, но это важная тема, к которой мы вернемся в конце курса"
   ]
  },
  {
   "cell_type": "markdown",
   "source": [
    "Byte-Pair Encoding (BPE) - это алгоритм сжатия текстов, который впоследствии был использован OpenAI для токенизации при предварительном обучении модели GPT.\n",
    "BPE отличается простотой и скоростью работы, что делает его подходящим для задач обработки естественного языка. Однако BPE имеет свои ограничения и недостатки.\n",
    "Например, он может не всегда корректно обрабатывать редкие и неизвестные слова. Кроме того, качество работы BPE зависит от качества исходного словаря правильных слов.\n",
    "Он используется многими моделями Transformer (включая GPT, GPT-2, RoBERTa, BART и DeBERTa).\n",
    "\n",
    "BPE начинается с составления словаря правильных слов. На основе этого словаря создается словарь удалений - для каждого правильного слова создаются все варианты удалений и создается словарь, где ключ - слово с удалением, а значение - правильное слово.\n",
    "Для выбора исправления для слова с опечаткой генерируются все варианты удаления, из них выбираются те, что есть в словаре удалений.\n",
    "Слово с опечаткой заменяется на правильное слово, соответствующее варианту удаления. Если в словаре удалений есть несколько вариантов, то выбирается удаление, которому соответствует наиболее вероятное правильное слово."
   ],
   "metadata": {
    "collapsed": false
   }
  },
  {
   "cell_type": "markdown",
   "source": [
    "# Или"
   ],
   "metadata": {
    "collapsed": false
   }
  },
  {
   "cell_type": "markdown",
   "source": [
    "Byte-Pair Encoding (BPE) - это алгоритм сжатия текстов, который был предложен Sennrich и др. в 2016 году. Он начинается с составления словаря, который включает в себя все отдельные символы. Затем алгоритм анализирует обучающий корпус и выбирает два наиболее часто встречающихся рядом символа (например, ‘A’ и ‘B’), добавляет новый объединенный символ ‘AB’ в словарь и заменяет каждый смежный ‘A’ ‘B’ в корпусе на новый символ ‘AB’.\n",
    "\n",
    "Этот процесс повторяется, пока не будет выполнено k объединений, создавая k новых токенов; k является параметром алгоритма. Результирующий словарь состоит из исходного набора символов плюс k новых символов.\n",
    "\n",
    "Алгоритм обычно запускается внутри слов (не объединяя через границы слов), поэтому входной корпус сначала разделяется на пробелы, чтобы получить набор строк, каждая из которых соответствует символам слова, плюс специальный символ конца слова.\n",
    "\n",
    "После обучения словаря используется сегментатор токенов для токенизации тестового предложения. Сегментатор токенов просто запускает на тестовых данных объединения, которые мы изучили из обучающих данных, жадно, в порядке, в котором мы их изучили."
   ],
   "metadata": {
    "collapsed": false
   }
  },
  {
   "cell_type": "code",
   "execution_count": 67,
   "outputs": [],
   "source": [],
   "metadata": {
    "collapsed": false,
    "ExecuteTime": {
     "end_time": "2023-06-08T08:18:56.889156800Z",
     "start_time": "2023-06-08T08:18:56.882099500Z"
    }
   }
  }
 ],
 "metadata": {
  "kernelspec": {
   "display_name": "Python 3 (ipykernel)",
   "language": "python",
   "name": "python3"
  },
  "language_info": {
   "codemirror_mode": {
    "name": "ipython",
    "version": 3
   },
   "file_extension": ".py",
   "mimetype": "text/x-python",
   "name": "python",
   "nbconvert_exporter": "python",
   "pygments_lexer": "ipython3",
   "version": "3.9.13"
  }
 },
 "nbformat": 4,
 "nbformat_minor": 5
}
