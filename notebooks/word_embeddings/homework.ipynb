{
 "cells": [
  {
   "cell_type": "markdown",
   "id": "6af66482",
   "metadata": {},
   "source": [
    "#### Важное требование ко всей домашке в целом: в jupyter ноутбуке не должно был лишнего кода (т.е. если вы взяли за основу семинар, не забудьте удалить все лишнее)"
   ]
  },
  {
   "cell_type": "markdown",
   "id": "9c422aa0",
   "metadata": {},
   "source": [
    "# Задание 1 (3 балла)"
   ]
  },
  {
   "cell_type": "markdown",
   "id": "e4a72790",
   "metadata": {},
   "source": [
    "Обучите word2vec модели с негативным семплированием (cbow и skip-gram) с помощью tensorflow аналогично тому, как это было сделано в семинаре. Вам нужно изменить следующие пункты: \n",
    "1) добавьте лемматизацию в предобработку (любым способом)  \n",
    "2) измените размер окна на 6 для cbow и 12 для skip gram (обратите внимание, что размер окна = #слов слева + #слов справа, в gen_batches в семинаре window используется не так и вам нужно это изменить!)\n",
    "\n",
    "Выберете несколько не похожих по смыслу слов, и протестируйте полученные эмбединги (найдите ближайшие слова и оцените правильность, как в семинаре)"
   ]
  },
  {
   "cell_type": "code",
   "execution_count": 9,
   "outputs": [],
   "source": [
    "import tensorflow as tf\n",
    "import numpy as np\n",
    "import re\n",
    "import pandas as pd\n",
    "from pymystem3 import Mystem\n",
    "from string import punctuation\n",
    "from sklearn.model_selection import train_test_split\n",
    "from collections import Counter\n",
    "import matplotlib.pyplot as plt\n",
    "from sklearn.decomposition import TruncatedSVD\n",
    "from sklearn.feature_extraction.text import CountVectorizer\n",
    "from sklearn.metrics.pairwise import cosine_distances\n",
    "\n",
    "from IPython.display import Image\n",
    "from IPython.core.display import HTML\n",
    "%matplotlib inline"
   ],
   "metadata": {
    "collapsed": false,
    "ExecuteTime": {
     "end_time": "2023-06-14T12:09:10.514513900Z",
     "start_time": "2023-06-14T12:09:07.344389700Z"
    }
   }
  },
  {
   "cell_type": "code",
   "execution_count": 329,
   "id": "cde5fd96",
   "metadata": {
    "ExecuteTime": {
     "end_time": "2023-06-13T03:14:50.839695900Z",
     "start_time": "2023-06-13T03:14:50.418712100Z"
    }
   },
   "outputs": [],
   "source": [
    "def preprocess(p_text):\n",
    "    p_tokens = re.sub('#+', ' ', p_text.lower()).split()\n",
    "    p_tokens = [token.strip(punctuation) for token in p_tokens]\n",
    "    p_tokens = [token for token in p_tokens if token]\n",
    "    return p_tokens"
   ]
  },
  {
   "cell_type": "code",
   "execution_count": 330,
   "outputs": [],
   "source": [
    "wiki = open('wiki_data.txt', encoding='UTF8').read().split('\\n')"
   ],
   "metadata": {
    "collapsed": false,
    "ExecuteTime": {
     "end_time": "2023-06-13T03:14:50.925238700Z",
     "start_time": "2023-06-13T03:14:50.430731300Z"
    }
   }
  },
  {
   "cell_type": "code",
   "execution_count": 331,
   "id": "4f71d7cb",
   "metadata": {
    "ExecuteTime": {
     "end_time": "2023-06-13T03:14:53.060467700Z",
     "start_time": "2023-06-13T03:14:50.743872500Z"
    }
   },
   "outputs": [],
   "source": [
    "vocab = Counter()\n",
    "\n",
    "for text in wiki:\n",
    "    vocab.update(preprocess(text))"
   ]
  },
  {
   "cell_type": "code",
   "execution_count": 332,
   "outputs": [],
   "source": [
    "filtered_vocab = set()\n",
    "\n",
    "for word in vocab:\n",
    "    if vocab[word] > 30:\n",
    "        filtered_vocab.add(word)"
   ],
   "metadata": {
    "collapsed": false,
    "ExecuteTime": {
     "end_time": "2023-06-13T03:14:53.131783700Z",
     "start_time": "2023-06-13T03:14:53.055468Z"
    }
   }
  },
  {
   "cell_type": "code",
   "execution_count": 333,
   "outputs": [
    {
     "data": {
      "text/plain": "17016"
     },
     "execution_count": 333,
     "metadata": {},
     "output_type": "execute_result"
    }
   ],
   "source": [
    "len(filtered_vocab)"
   ],
   "metadata": {
    "collapsed": false,
    "ExecuteTime": {
     "end_time": "2023-06-13T03:14:53.147939800Z",
     "start_time": "2023-06-13T03:14:53.131783700Z"
    }
   }
  },
  {
   "cell_type": "code",
   "execution_count": 334,
   "outputs": [
    {
     "data": {
      "text/plain": "7311"
     },
     "execution_count": 334,
     "metadata": {},
     "output_type": "execute_result"
    }
   ],
   "source": [
    "mystem = Mystem()\n",
    "lemmatized_vocab = set(mystem.lemmatize(' '.join(filtered_vocab)))\n",
    "len(lemmatized_vocab)"
   ],
   "metadata": {
    "collapsed": false,
    "ExecuteTime": {
     "end_time": "2023-06-13T03:14:54.392856800Z",
     "start_time": "2023-06-13T03:14:53.147939800Z"
    }
   }
  },
  {
   "cell_type": "code",
   "execution_count": 335,
   "outputs": [],
   "source": [
    "word2id = {'PAD': 0}\n",
    "\n",
    "for word in lemmatized_vocab:\n",
    "    word2id[word] = len(word2id)\n",
    "id2word = {i: word for word, i in word2id.items()}"
   ],
   "metadata": {
    "collapsed": false,
    "ExecuteTime": {
     "end_time": "2023-06-13T03:14:54.436991900Z",
     "start_time": "2023-06-13T03:14:54.393856300Z"
    }
   }
  },
  {
   "cell_type": "code",
   "execution_count": 336,
   "outputs": [
    {
     "data": {
      "text/plain": "7312"
     },
     "execution_count": 336,
     "metadata": {},
     "output_type": "execute_result"
    }
   ],
   "source": [
    "len(word2id)"
   ],
   "metadata": {
    "collapsed": false,
    "ExecuteTime": {
     "end_time": "2023-06-13T03:14:54.448126Z",
     "start_time": "2023-06-13T03:14:54.409019600Z"
    }
   }
  },
  {
   "cell_type": "code",
   "execution_count": 337,
   "outputs": [],
   "source": [
    "sentences = []\n",
    "\n",
    "for text in wiki:\n",
    "    tokens = preprocess(text)\n",
    "    if not tokens:\n",
    "        continue\n",
    "    ids = [word2id[token] for token in tokens if token in word2id]\n",
    "    sentences.append(ids)"
   ],
   "metadata": {
    "collapsed": false,
    "ExecuteTime": {
     "end_time": "2023-06-13T03:14:56.635461900Z",
     "start_time": "2023-06-13T03:14:54.424869400Z"
    }
   }
  },
  {
   "cell_type": "code",
   "execution_count": 338,
   "outputs": [],
   "source": [
    "vocab_size = len(id2word)"
   ],
   "metadata": {
    "collapsed": false,
    "ExecuteTime": {
     "end_time": "2023-06-13T03:14:56.650997600Z",
     "start_time": "2023-06-13T03:14:56.636462900Z"
    }
   }
  },
  {
   "cell_type": "code",
   "execution_count": 339,
   "outputs": [
    {
     "data": {
      "text/plain": "7312"
     },
     "execution_count": 339,
     "metadata": {},
     "output_type": "execute_result"
    }
   ],
   "source": [
    "len(id2word)"
   ],
   "metadata": {
    "collapsed": false,
    "ExecuteTime": {
     "end_time": "2023-06-13T03:14:56.697029Z",
     "start_time": "2023-06-13T03:14:56.652001700Z"
    }
   }
  },
  {
   "cell_type": "code",
   "execution_count": 340,
   "outputs": [],
   "source": [
    "# skip gram\n",
    "def gen_batches_sg(sentences, window = 12, batch_size=1000):\n",
    "    while True:\n",
    "        X_target = []\n",
    "        X_context = []\n",
    "        y = []\n",
    "\n",
    "        for sent in sentences:\n",
    "            for i in range(len(sent)-1):\n",
    "                word = sent[i]\n",
    "                half_window = window // 2\n",
    "                context = sent[max(0, i-half_window):i] + sent[i+1:i+half_window+1]\n",
    "                for context_word in context:\n",
    "                    X_target.append(word)\n",
    "                    X_context.append(context_word)\n",
    "                    y.append(1)\n",
    "\n",
    "                    X_target.append(word)\n",
    "                    X_context.append(np.random.randint(vocab_size))\n",
    "                    y.append(0)\n",
    "\n",
    "                    if len(X_target) >= batch_size:\n",
    "                        X_target = np.array(X_target)\n",
    "                        X_context = np.array(X_context)\n",
    "                        y = np.array(y)\n",
    "                        yield ((X_target, X_context), y)\n",
    "                        X_target = []\n",
    "                        X_context = []\n",
    "                        y = []"
   ],
   "metadata": {
    "collapsed": false,
    "ExecuteTime": {
     "end_time": "2023-06-13T03:14:56.700534300Z",
     "start_time": "2023-06-13T03:14:56.672025200Z"
    }
   }
  },
  {
   "cell_type": "code",
   "execution_count": 341,
   "outputs": [],
   "source": [
    "# # cbow\n",
    "def gen_batches_cbow(sentences, window = 6, batch_size=1000):\n",
    "    while True:\n",
    "        X_target = []\n",
    "        X_context = []\n",
    "        y = []\n",
    "\n",
    "        for sent in sentences:\n",
    "            for i in range(len(sent)-1):\n",
    "                word = sent[i]\n",
    "                half_window = window // 2\n",
    "                context = sent[max(0, i-half_window):i] + sent[i+1:i+half_window+1]\n",
    "\n",
    "                X_target.append(word)\n",
    "                X_context.append(context)\n",
    "                y.append(1)\n",
    "\n",
    "                X_target.append(np.random.randint(vocab_size))\n",
    "                X_context.append(context)\n",
    "                y.append(0)\n",
    "\n",
    "                if len(X_target) == batch_size:\n",
    "                    X_target = np.array(X_target)\n",
    "                    X_context = tf.keras.preprocessing.sequence.pad_sequences(X_context, maxlen=window)\n",
    "                    y = np.array(y)\n",
    "                    yield ((X_target, X_context), y)\n",
    "                    X_target = []\n",
    "                    X_context = []\n",
    "                    y = []"
   ],
   "metadata": {
    "collapsed": false,
    "ExecuteTime": {
     "end_time": "2023-06-13T03:14:56.700534300Z",
     "start_time": "2023-06-13T03:14:56.688550300Z"
    }
   }
  },
  {
   "cell_type": "code",
   "execution_count": 342,
   "outputs": [],
   "source": [
    "# skip gram\n",
    "inputs_target = tf.keras.layers.Input(shape=(1,))\n",
    "inputs_context = tf.keras.layers.Input(shape=(1,))\n",
    "\n",
    "embeddings_target = tf.keras.layers.Embedding(input_dim=len(word2id), output_dim=300)(inputs_target, )\n",
    "embeddings_context = tf.keras.layers.Embedding(input_dim=len(word2id), output_dim=300)(inputs_context, )\n",
    "\n",
    "target = tf.keras.layers.Flatten()(embeddings_target)\n",
    "context = tf.keras.layers.Flatten()(embeddings_context)\n",
    "\n",
    "dot = tf.keras.layers.Dot(1)([target, context])\n",
    "outputs = tf.keras.layers.Activation(activation='sigmoid')(dot)\n",
    "\n",
    "model_neg_skip = tf.keras.Model(inputs=[inputs_target, inputs_context],\n",
    "                       outputs=outputs)\n",
    "optimizer = tf.keras.optimizers.Adam(learning_rate=0.001)\n",
    "model_neg_skip.compile(optimizer=optimizer,\n",
    "              loss='binary_crossentropy',\n",
    "              metrics=['accuracy'])"
   ],
   "metadata": {
    "collapsed": false,
    "ExecuteTime": {
     "end_time": "2023-06-13T03:14:56.746480900Z",
     "start_time": "2023-06-13T03:14:56.699028800Z"
    }
   }
  },
  {
   "cell_type": "code",
   "execution_count": 343,
   "outputs": [
    {
     "name": "stdout",
     "output_type": "stream",
     "text": [
      "Epoch 1/2\n",
      "10000/10000 [==============================] - 250s 25ms/step - loss: 0.3552 - accuracy: 0.8518 - val_loss: 0.3642 - val_accuracy: 0.8561\n",
      "Epoch 2/2\n",
      "10000/10000 [==============================] - 260s 26ms/step - loss: 0.3298 - accuracy: 0.8640 - val_loss: 0.3125 - val_accuracy: 0.8756\n"
     ]
    },
    {
     "data": {
      "text/plain": "<keras.callbacks.History at 0x2a573321d08>"
     },
     "execution_count": 343,
     "metadata": {},
     "output_type": "execute_result"
    }
   ],
   "source": [
    "model_neg_skip.fit(gen_batches_sg(sentences[:19000], window=12),\n",
    "          validation_data=gen_batches_sg(sentences[19000:], window=12),\n",
    "          batch_size=1000,\n",
    "          steps_per_epoch=10000,\n",
    "          validation_steps=30,\n",
    "          epochs=2)"
   ],
   "metadata": {
    "collapsed": false,
    "ExecuteTime": {
     "end_time": "2023-06-13T03:23:27.788683200Z",
     "start_time": "2023-06-13T03:14:56.747481500Z"
    }
   }
  },
  {
   "cell_type": "code",
   "execution_count": 344,
   "outputs": [],
   "source": [
    "def most_similar(word, embeddings):\n",
    "    similar = [id2word[i] for i in\n",
    "               cosine_distances(embeddings[word2id[word]].reshape(1, -1), embeddings).argsort()[0][:10]]\n",
    "    return similar"
   ],
   "metadata": {
    "collapsed": false,
    "ExecuteTime": {
     "end_time": "2023-06-13T03:23:27.812620900Z",
     "start_time": "2023-06-13T03:23:27.788683200Z"
    }
   }
  },
  {
   "cell_type": "code",
   "execution_count": 345,
   "outputs": [],
   "source": [
    "embeddings = model_neg_skip.layers[2].get_weights()[0]"
   ],
   "metadata": {
    "collapsed": false,
    "ExecuteTime": {
     "end_time": "2023-06-13T03:23:27.835167700Z",
     "start_time": "2023-06-13T03:23:27.804052600Z"
    }
   }
  },
  {
   "cell_type": "code",
   "execution_count": 346,
   "outputs": [
    {
     "data": {
      "text/plain": "(7312, 300)"
     },
     "execution_count": 346,
     "metadata": {},
     "output_type": "execute_result"
    }
   ],
   "source": [
    "embeddings.shape"
   ],
   "metadata": {
    "collapsed": false,
    "ExecuteTime": {
     "end_time": "2023-06-13T03:23:27.879389700Z",
     "start_time": "2023-06-13T03:23:27.835167700Z"
    }
   }
  },
  {
   "cell_type": "code",
   "execution_count": 347,
   "outputs": [
    {
     "data": {
      "text/plain": "['церковь',\n 'храм',\n 'пресвятой',\n 'каменный',\n 'монастырь',\n 'честь',\n 'xix',\n 'здесь',\n 'собор',\n 'памятник']"
     },
     "execution_count": 347,
     "metadata": {},
     "output_type": "execute_result"
    }
   ],
   "source": [
    "most_similar('церковь', embeddings)"
   ],
   "metadata": {
    "collapsed": false,
    "ExecuteTime": {
     "end_time": "2023-06-13T03:23:27.891848300Z",
     "start_time": "2023-06-13T03:23:27.851731100Z"
    }
   }
  },
  {
   "cell_type": "code",
   "execution_count": 348,
   "outputs": [],
   "source": [
    "#cbow negative sampling\n",
    "inputs_target = tf.keras.layers.Input(shape=(1,))\n",
    "inputs_context = tf.keras.layers.Input(shape=(10,))\n",
    "\n",
    "embeddings_target = tf.keras.layers.Embedding(input_dim=len(word2id), output_dim=300)(inputs_target, )\n",
    "embeddings_context = tf.keras.layers.Embedding(input_dim=len(word2id), output_dim=300)(inputs_context, )\n",
    "\n",
    "target = tf.keras.layers.Flatten()(embeddings_target)\n",
    "context = tf.keras.layers.Lambda(lambda x: tf.keras.backend.sum(x, axis=1))(embeddings_context)\n",
    "dot = tf.keras.layers.Dot(1)([target, context])\n",
    "\n",
    "# полученную близость нужно преобразовать в вероятность\n",
    "# когда она одна используется не софтмакс и сигмоида\n",
    "outputs = tf.keras.layers.Activation(activation='sigmoid')(dot)\n",
    "\n",
    "model_neg_cbow = tf.keras.Model(inputs=[inputs_target, inputs_context],\n",
    "                       outputs=outputs)\n",
    "\n",
    "optimizer = tf.keras.optimizers.Adam(learning_rate=0.001)\n",
    "model_neg_cbow.compile(optimizer=optimizer,\n",
    "              loss='binary_crossentropy',\n",
    "              metrics=['accuracy'])\n",
    "\n"
   ],
   "metadata": {
    "collapsed": false,
    "ExecuteTime": {
     "end_time": "2023-06-13T03:23:27.977378Z",
     "start_time": "2023-06-13T03:23:27.884836300Z"
    }
   }
  },
  {
   "cell_type": "code",
   "execution_count": 349,
   "outputs": [
    {
     "name": "stdout",
     "output_type": "stream",
     "text": [
      "Epoch 1/2\n",
      "5000/5000 [==============================] - 121s 24ms/step - loss: 0.2885 - accuracy: 0.8816 - val_loss: 0.2572 - val_accuracy: 0.8978\n",
      "Epoch 2/2\n",
      "5000/5000 [==============================] - 107s 21ms/step - loss: 0.2111 - accuracy: 0.9138 - val_loss: 0.2386 - val_accuracy: 0.9054\n"
     ]
    },
    {
     "data": {
      "text/plain": "<keras.callbacks.History at 0x2a54b46b608>"
     },
     "execution_count": 349,
     "metadata": {},
     "output_type": "execute_result"
    }
   ],
   "source": [
    "model_neg_cbow.fit(gen_batches_cbow(sentences[:19000], window=6),\n",
    "          validation_data=gen_batches_cbow(sentences[19000:], window=6),\n",
    "          batch_size=1000,\n",
    "          steps_per_epoch=5000,\n",
    "          validation_steps=30,\n",
    "          epochs=2)"
   ],
   "metadata": {
    "collapsed": false,
    "ExecuteTime": {
     "end_time": "2023-06-13T03:27:15.283753700Z",
     "start_time": "2023-06-13T03:23:27.983876700Z"
    }
   }
  },
  {
   "cell_type": "code",
   "execution_count": 350,
   "outputs": [],
   "source": [
    "embeddings = model_neg_cbow.layers[2].get_weights()[0]"
   ],
   "metadata": {
    "collapsed": false,
    "ExecuteTime": {
     "end_time": "2023-06-13T03:27:15.374894500Z",
     "start_time": "2023-06-13T03:27:15.282732500Z"
    }
   }
  },
  {
   "cell_type": "code",
   "execution_count": 351,
   "outputs": [
    {
     "data": {
      "text/plain": "['семья',\n 'петербург',\n 'детство',\n '1882',\n 'лос-анджелес',\n 'оттуда',\n 'когда-то',\n 'учиться',\n 'мама',\n 'преподавать']"
     },
     "execution_count": 351,
     "metadata": {},
     "output_type": "execute_result"
    }
   ],
   "source": [
    "most_similar('семья', embeddings)"
   ],
   "metadata": {
    "collapsed": false,
    "ExecuteTime": {
     "end_time": "2023-06-13T03:27:15.390562Z",
     "start_time": "2023-06-13T03:27:15.297249600Z"
    }
   }
  },
  {
   "cell_type": "markdown",
   "id": "c3b61b7c",
   "metadata": {},
   "source": [
    "# Задание 2 (3 балла)"
   ]
  },
  {
   "cell_type": "markdown",
   "id": "66eff080",
   "metadata": {},
   "source": [
    "Обучите 1 word2vec и 1 fastext модель в gensim. В каждой из модели нужно задать все параметры, которые мы разбирали на семинаре. Заданные значения должны отличаться от дефолтных и от тех, что мы использовали на семинаре."
   ]
  },
  {
   "cell_type": "code",
   "execution_count": 352,
   "outputs": [],
   "source": [
    "import gensim"
   ],
   "metadata": {
    "collapsed": false,
    "ExecuteTime": {
     "end_time": "2023-06-13T03:27:15.390562Z",
     "start_time": "2023-06-13T03:27:15.316078100Z"
    }
   }
  },
  {
   "cell_type": "code",
   "execution_count": 353,
   "id": "986c2018",
   "metadata": {
    "ExecuteTime": {
     "end_time": "2023-06-13T03:27:15.656114700Z",
     "start_time": "2023-06-13T03:27:15.330302600Z"
    }
   },
   "outputs": [],
   "source": [
    "wiki = open('wiki_data.txt', encoding='UTF8').read().split('\\n')"
   ]
  },
  {
   "cell_type": "code",
   "execution_count": 354,
   "id": "e5035bdc",
   "metadata": {
    "ExecuteTime": {
     "end_time": "2023-06-13T03:27:17.147999Z",
     "start_time": "2023-06-13T03:27:15.660113800Z"
    }
   },
   "outputs": [],
   "source": [
    "texts = [preprocess(text) for text in wiki]"
   ]
  },
  {
   "cell_type": "code",
   "execution_count": 355,
   "outputs": [
    {
     "name": "stdout",
     "output_type": "stream",
     "text": [
      "Wall time: 6.12 s\n"
     ]
    }
   ],
   "source": [
    "%%time\n",
    "w2v_vector_size = 500\n",
    "w2v = gensim.models.Word2Vec(texts,\n",
    "                             vector_size=w2v_vector_size,\n",
    "                             min_count=10,\n",
    "                             max_vocab_size=15000,\n",
    "                             window=10,\n",
    "                             epochs=10,\n",
    "                             sg=0,\n",
    "                             hs=1,\n",
    "                             negative=15,\n",
    "                             sample=1e-6,\n",
    "                             ns_exponent=0.9,\n",
    "                             cbow_mean=0\n",
    "                            )"
   ],
   "metadata": {
    "collapsed": false,
    "ExecuteTime": {
     "end_time": "2023-06-13T03:27:23.283730900Z",
     "start_time": "2023-06-13T03:27:17.148998400Z"
    }
   }
  },
  {
   "cell_type": "code",
   "execution_count": 356,
   "outputs": [
    {
     "data": {
      "text/plain": "[('власти', 0.9664920568466187),\n ('хутора', 0.9629204869270325),\n ('империи', 0.9608736634254456),\n ('станицы', 0.9603092074394226),\n ('входят', 0.9602205753326416),\n ('имеется', 0.9564201831817627),\n ('недалеко', 0.956389844417572),\n ('революции', 0.9560890197753906),\n ('жителей', 0.9533519744873047),\n ('дорога', 0.9530216455459595)]"
     },
     "execution_count": 356,
     "metadata": {},
     "output_type": "execute_result"
    }
   ],
   "source": [
    "w2v.wv.most_similar('церковь')"
   ],
   "metadata": {
    "collapsed": false,
    "ExecuteTime": {
     "end_time": "2023-06-13T03:27:23.389819Z",
     "start_time": "2023-06-13T03:27:23.284733900Z"
    }
   }
  },
  {
   "cell_type": "code",
   "execution_count": 357,
   "outputs": [
    {
     "name": "stdout",
     "output_type": "stream",
     "text": [
      "Wall time: 1min 26s\n"
     ]
    }
   ],
   "source": [
    "%%time\n",
    "ft_vector_size = 300\n",
    "ft = gensim.models.FastText(texts, min_n=4, max_n=7, vector_size=ft_vector_size, window=2, min_count=6, sample=1e-4, sg=0,hs=1, negative=6)"
   ],
   "metadata": {
    "collapsed": false,
    "ExecuteTime": {
     "end_time": "2023-06-13T03:28:49.462503400Z",
     "start_time": "2023-06-13T03:27:23.300309700Z"
    }
   }
  },
  {
   "cell_type": "code",
   "execution_count": 358,
   "outputs": [
    {
     "data": {
      "text/plain": "[('«церковь', 0.9794607162475586),\n ('церковь»', 0.9729459881782532),\n ('це́рковь', 0.8935835361480713),\n ('церковью', 0.8693404197692871),\n ('морковь', 0.768290638923645),\n ('церковная', 0.7579393982887268),\n ('часовня', 0.7346314191818237),\n ('церквям', 0.7231943607330322),\n ('церкви»', 0.7155362963676453),\n ('церкви', 0.6968863010406494)]"
     },
     "execution_count": 358,
     "metadata": {},
     "output_type": "execute_result"
    }
   ],
   "source": [
    "ft.wv.most_similar('церковь')"
   ],
   "metadata": {
    "collapsed": false,
    "ExecuteTime": {
     "end_time": "2023-06-13T03:28:49.551833400Z",
     "start_time": "2023-06-13T03:28:49.463674Z"
    }
   }
  },
  {
   "cell_type": "markdown",
   "id": "e4bb928c",
   "metadata": {},
   "source": [
    "# Задание 3 (4 балла)"
   ]
  },
  {
   "cell_type": "markdown",
   "id": "3019b0d1",
   "metadata": {},
   "source": [
    "Используя датасет для классификации (labeled.csv) и простую нейронную сеть (последняя модель в семинаре), оцените качество полученных эмбедингов в задании 1 и 2 (4 набора эмбедингов), также проверьте 1 любую из предобученных моделей с rus-vectores (но только не tayga_upos_skipgram_300_2_2019). \n",
    "Какая модель показывает наилучший результат?\n",
    "\n",
    "Убедитесь, что для каждой модели вы корректно воспроизводите пайплайн предобработки (в 1 задании у вас лемматизация, не забудьте ее применить к датасету для классификации; у выбранной предобученной модели может быть своя специфичная предобработка - ее нужно воспроизвести)"
   ]
  },
  {
   "cell_type": "code",
   "execution_count": 11,
   "outputs": [],
   "source": [
    "def preprocess(p_text):\n",
    "    p_tokens = re.sub('#+', ' ', p_text.lower()).split()\n",
    "    p_tokens = [token.strip(punctuation) for token in p_tokens]\n",
    "    p_tokens = [token for token in p_tokens if token]\n",
    "    return p_tokens"
   ],
   "metadata": {
    "collapsed": false,
    "ExecuteTime": {
     "end_time": "2023-06-14T12:09:30.309117300Z",
     "start_time": "2023-06-14T12:09:30.277593100Z"
    }
   }
  },
  {
   "cell_type": "code",
   "execution_count": 12,
   "id": "ed908832",
   "metadata": {
    "ExecuteTime": {
     "end_time": "2023-06-14T12:09:30.796647Z",
     "start_time": "2023-06-14T12:09:30.726063400Z"
    }
   },
   "outputs": [],
   "source": [
    "data = pd.read_csv('labeled.csv', encoding='UTF8')"
   ]
  },
  {
   "cell_type": "code",
   "execution_count": 13,
   "id": "60c18c5a",
   "metadata": {
    "ExecuteTime": {
     "end_time": "2023-06-14T12:09:31.251998300Z",
     "start_time": "2023-06-14T12:09:31.171736900Z"
    }
   },
   "outputs": [],
   "source": [
    "data['norm_text'] = data.comment.apply(preprocess)"
   ]
  },
  {
   "cell_type": "code",
   "execution_count": 14,
   "outputs": [
    {
     "data": {
      "text/plain": "                                                 comment  toxic  \\\n0                 Верблюдов-то за что? Дебилы, бл...\\r\\n    1.0   \n1      Хохлы, это отдушина затюканого россиянина, мол...    1.0   \n2                            Собаке - собачья смерть\\r\\n    1.0   \n3      Страницу обнови, дебил. Это тоже не оскорблени...    1.0   \n4      тебя не убедил 6-страничный пдф в том, что Скр...    1.0   \n...                                                  ...    ...   \n14407  Вонючий совковый скот прибежал и ноет. А вот и...    1.0   \n14408  А кого любить? Гоблина тупорылого что-ли? Или ...    1.0   \n14409  Посмотрел Утомленных солнцем 2. И оказалось, ч...    0.0   \n14410  КРЫМОТРЕД НАРУШАЕТ ПРАВИЛА РАЗДЕЛА Т.К В НЕМ Н...    1.0   \n14411  До сих пор пересматриваю его видео. Орамбо кст...    0.0   \n\n                                               norm_text  \n0                    [верблюдов-то, за, что, дебилы, бл]  \n1      [хохлы, это, отдушина, затюканого, россиянина,...  \n2                              [собаке, собачья, смерть]  \n3      [страницу, обнови, дебил, это, тоже, не, оскор...  \n4      [тебя, не, убедил, 6-страничный, пдф, в, том, ...  \n...                                                  ...  \n14407  [вонючий, совковый, скот, прибежал, и, ноет, а...  \n14408  [а, кого, любить, гоблина, тупорылого, что-ли,...  \n14409  [посмотрел, утомленных, солнцем, 2, и, оказало...  \n14410  [крымотред, нарушает, правила, раздела, т.к, в...  \n14411  [до, сих, пор, пересматриваю, его, видео, орам...  \n\n[14412 rows x 3 columns]",
      "text/html": "<div>\n<style scoped>\n    .dataframe tbody tr th:only-of-type {\n        vertical-align: middle;\n    }\n\n    .dataframe tbody tr th {\n        vertical-align: top;\n    }\n\n    .dataframe thead th {\n        text-align: right;\n    }\n</style>\n<table border=\"1\" class=\"dataframe\">\n  <thead>\n    <tr style=\"text-align: right;\">\n      <th></th>\n      <th>comment</th>\n      <th>toxic</th>\n      <th>norm_text</th>\n    </tr>\n  </thead>\n  <tbody>\n    <tr>\n      <th>0</th>\n      <td>Верблюдов-то за что? Дебилы, бл...\\r\\n</td>\n      <td>1.0</td>\n      <td>[верблюдов-то, за, что, дебилы, бл]</td>\n    </tr>\n    <tr>\n      <th>1</th>\n      <td>Хохлы, это отдушина затюканого россиянина, мол...</td>\n      <td>1.0</td>\n      <td>[хохлы, это, отдушина, затюканого, россиянина,...</td>\n    </tr>\n    <tr>\n      <th>2</th>\n      <td>Собаке - собачья смерть\\r\\n</td>\n      <td>1.0</td>\n      <td>[собаке, собачья, смерть]</td>\n    </tr>\n    <tr>\n      <th>3</th>\n      <td>Страницу обнови, дебил. Это тоже не оскорблени...</td>\n      <td>1.0</td>\n      <td>[страницу, обнови, дебил, это, тоже, не, оскор...</td>\n    </tr>\n    <tr>\n      <th>4</th>\n      <td>тебя не убедил 6-страничный пдф в том, что Скр...</td>\n      <td>1.0</td>\n      <td>[тебя, не, убедил, 6-страничный, пдф, в, том, ...</td>\n    </tr>\n    <tr>\n      <th>...</th>\n      <td>...</td>\n      <td>...</td>\n      <td>...</td>\n    </tr>\n    <tr>\n      <th>14407</th>\n      <td>Вонючий совковый скот прибежал и ноет. А вот и...</td>\n      <td>1.0</td>\n      <td>[вонючий, совковый, скот, прибежал, и, ноет, а...</td>\n    </tr>\n    <tr>\n      <th>14408</th>\n      <td>А кого любить? Гоблина тупорылого что-ли? Или ...</td>\n      <td>1.0</td>\n      <td>[а, кого, любить, гоблина, тупорылого, что-ли,...</td>\n    </tr>\n    <tr>\n      <th>14409</th>\n      <td>Посмотрел Утомленных солнцем 2. И оказалось, ч...</td>\n      <td>0.0</td>\n      <td>[посмотрел, утомленных, солнцем, 2, и, оказало...</td>\n    </tr>\n    <tr>\n      <th>14410</th>\n      <td>КРЫМОТРЕД НАРУШАЕТ ПРАВИЛА РАЗДЕЛА Т.К В НЕМ Н...</td>\n      <td>1.0</td>\n      <td>[крымотред, нарушает, правила, раздела, т.к, в...</td>\n    </tr>\n    <tr>\n      <th>14411</th>\n      <td>До сих пор пересматриваю его видео. Орамбо кст...</td>\n      <td>0.0</td>\n      <td>[до, сих, пор, пересматриваю, его, видео, орам...</td>\n    </tr>\n  </tbody>\n</table>\n<p>14412 rows × 3 columns</p>\n</div>"
     },
     "execution_count": 14,
     "metadata": {},
     "output_type": "execute_result"
    }
   ],
   "source": [
    "data"
   ],
   "metadata": {
    "collapsed": false,
    "ExecuteTime": {
     "end_time": "2023-06-14T12:09:31.558933300Z",
     "start_time": "2023-06-14T12:09:31.510954600Z"
    }
   }
  },
  {
   "cell_type": "code",
   "execution_count": 15,
   "outputs": [
    {
     "data": {
      "text/plain": "7231"
     },
     "execution_count": 15,
     "metadata": {},
     "output_type": "execute_result"
    }
   ],
   "source": [
    "vocab = Counter()\n",
    "\n",
    "for text in data['norm_text']:\n",
    "    vocab.update(text)\n",
    "\n",
    "filtered_vocab = set()\n",
    "\n",
    "for word in vocab:\n",
    "    if vocab[word] > 5:\n",
    "        filtered_vocab.add(word)\n",
    "\n",
    "len(filtered_vocab)"
   ],
   "metadata": {
    "collapsed": false,
    "ExecuteTime": {
     "end_time": "2023-06-14T12:09:32.381104800Z",
     "start_time": "2023-06-14T12:09:32.334311100Z"
    }
   }
  },
  {
   "cell_type": "code",
   "execution_count": 16,
   "outputs": [
    {
     "data": {
      "text/plain": "3623"
     },
     "execution_count": 16,
     "metadata": {},
     "output_type": "execute_result"
    }
   ],
   "source": [
    "mystem = Mystem()\n",
    "lemmatized_vocab = set(mystem.lemmatize(' '.join(filtered_vocab)))\n",
    "len(lemmatized_vocab)"
   ],
   "metadata": {
    "collapsed": false,
    "ExecuteTime": {
     "end_time": "2023-06-14T12:09:33.930484300Z",
     "start_time": "2023-06-14T12:09:32.941740700Z"
    }
   }
  },
  {
   "cell_type": "code",
   "execution_count": 17,
   "outputs": [
    {
     "data": {
      "text/plain": "3624"
     },
     "execution_count": 17,
     "metadata": {},
     "output_type": "execute_result"
    }
   ],
   "source": [
    "word2id = { 'PAD':0}\n",
    "\n",
    "for word in lemmatized_vocab:\n",
    "    word2id[word] = len(word2id)\n",
    "id2word = {i:word for word, i in word2id.items()}\n",
    "len(word2id)"
   ],
   "metadata": {
    "collapsed": false,
    "ExecuteTime": {
     "end_time": "2023-06-14T12:09:36.056946800Z",
     "start_time": "2023-06-14T12:09:36.019116400Z"
    }
   }
  },
  {
   "cell_type": "markdown",
   "source": [
    "# 1 модель"
   ],
   "metadata": {
    "collapsed": false
   }
  },
  {
   "cell_type": "code",
   "execution_count": 366,
   "outputs": [],
   "source": [
    "X = []\n",
    "for tokens in data['norm_text']:\n",
    "    ids = [word2id[token] for token in tokens if token in word2id]\n",
    "    X.append(ids)"
   ],
   "metadata": {
    "collapsed": false,
    "ExecuteTime": {
     "end_time": "2023-06-13T03:28:50.715995600Z",
     "start_time": "2023-06-13T03:28:50.633792300Z"
    }
   }
  },
  {
   "cell_type": "code",
   "execution_count": 367,
   "outputs": [],
   "source": [
    "X = tf.keras.preprocessing.sequence.pad_sequences(X, maxlen=ft_vector_size)\n",
    "y = data.toxic.values"
   ],
   "metadata": {
    "collapsed": false,
    "ExecuteTime": {
     "end_time": "2023-06-13T03:28:50.731735600Z",
     "start_time": "2023-06-13T03:28:50.700940300Z"
    }
   }
  },
  {
   "cell_type": "code",
   "execution_count": 368,
   "outputs": [],
   "source": [
    "X_train, X_valid, y_train, y_valid = train_test_split(X, y, test_size=0.05)"
   ],
   "metadata": {
    "collapsed": false,
    "ExecuteTime": {
     "end_time": "2023-06-13T03:28:50.756242800Z",
     "start_time": "2023-06-13T03:28:50.729214300Z"
    }
   }
  },
  {
   "cell_type": "code",
   "execution_count": 369,
   "outputs": [],
   "source": [
    "inputs = tf.keras.layers.Input(shape=(ft_vector_size,))\n",
    "\n",
    "embeddings = tf.keras.layers.Embedding(input_dim=len(word2id), output_dim=ft_vector_size)(inputs, )\n",
    "# embedding слой возвращает последовательность векторов\n",
    "# а нам нужно классифицировать сразу весь текст\n",
    "# стандартный подход в этом случае - усреднить единичные вектора в 1 вектор текста\n",
    "mean = tf.keras.layers.Lambda(lambda x: tf.keras.backend.mean(x,  axis=1))(embeddings)\n",
    "# к усредненному вектору мы уже применяем полносвязный слой, который вернет вероятность токсичности\n",
    "outputs = tf.keras.layers.Dense(1, activation='sigmoid')(mean)\n",
    "\n",
    "model = tf.keras.Model(inputs=inputs, outputs=outputs)\n",
    "optimizer = tf.keras.optimizers.Adam()\n",
    "model.compile(optimizer=optimizer,\n",
    "              loss='binary_crossentropy',\n",
    "              metrics=['accuracy'])"
   ],
   "metadata": {
    "collapsed": false,
    "ExecuteTime": {
     "end_time": "2023-06-13T03:28:50.772747800Z",
     "start_time": "2023-06-13T03:28:50.742919500Z"
    }
   }
  },
  {
   "cell_type": "code",
   "execution_count": 370,
   "outputs": [
    {
     "name": "stdout",
     "output_type": "stream",
     "text": [
      "Epoch 1/30\n",
      "428/428 [==============================] - 4s 9ms/step - loss: 0.6337 - accuracy: 0.6650 - val_loss: 0.6175 - val_accuracy: 0.6685\n",
      "Epoch 2/30\n",
      "428/428 [==============================] - 4s 9ms/step - loss: 0.6067 - accuracy: 0.6652 - val_loss: 0.5867 - val_accuracy: 0.6699\n",
      "Epoch 3/30\n",
      "428/428 [==============================] - 4s 9ms/step - loss: 0.5719 - accuracy: 0.6846 - val_loss: 0.5539 - val_accuracy: 0.6796\n",
      "Epoch 4/30\n",
      "428/428 [==============================] - 4s 9ms/step - loss: 0.5278 - accuracy: 0.7292 - val_loss: 0.5246 - val_accuracy: 0.7198\n",
      "Epoch 5/30\n",
      "428/428 [==============================] - 4s 9ms/step - loss: 0.4871 - accuracy: 0.7666 - val_loss: 0.5023 - val_accuracy: 0.7601\n",
      "Epoch 6/30\n",
      "428/428 [==============================] - 4s 9ms/step - loss: 0.4596 - accuracy: 0.7877 - val_loss: 0.4896 - val_accuracy: 0.7892\n",
      "Epoch 7/30\n",
      "428/428 [==============================] - 4s 9ms/step - loss: 0.4378 - accuracy: 0.8031 - val_loss: 0.4801 - val_accuracy: 0.7920\n",
      "Epoch 8/30\n",
      "428/428 [==============================] - 4s 9ms/step - loss: 0.4199 - accuracy: 0.8131 - val_loss: 0.4803 - val_accuracy: 0.8322\n",
      "Epoch 9/30\n",
      "428/428 [==============================] - 4s 9ms/step - loss: 0.4087 - accuracy: 0.8173 - val_loss: 0.5067 - val_accuracy: 0.7822\n",
      "Epoch 10/30\n",
      "428/428 [==============================] - 4s 9ms/step - loss: 0.3955 - accuracy: 0.8213 - val_loss: 0.4714 - val_accuracy: 0.7920\n",
      "Epoch 11/30\n",
      "428/428 [==============================] - 4s 9ms/step - loss: 0.3851 - accuracy: 0.8296 - val_loss: 0.4651 - val_accuracy: 0.8141\n",
      "Epoch 12/30\n",
      "428/428 [==============================] - 4s 9ms/step - loss: 0.3758 - accuracy: 0.8327 - val_loss: 0.4657 - val_accuracy: 0.8086\n",
      "Epoch 13/30\n",
      "428/428 [==============================] - 4s 9ms/step - loss: 0.3679 - accuracy: 0.8365 - val_loss: 0.4668 - val_accuracy: 0.8058\n",
      "Epoch 14/30\n",
      "428/428 [==============================] - 4s 9ms/step - loss: 0.3606 - accuracy: 0.8399 - val_loss: 0.4686 - val_accuracy: 0.8141\n",
      "Epoch 15/30\n",
      "428/428 [==============================] - 4s 9ms/step - loss: 0.3531 - accuracy: 0.8427 - val_loss: 0.4855 - val_accuracy: 0.7947\n",
      "Epoch 16/30\n",
      "428/428 [==============================] - 4s 9ms/step - loss: 0.3464 - accuracy: 0.8446 - val_loss: 0.4736 - val_accuracy: 0.8017\n",
      "Epoch 17/30\n",
      "428/428 [==============================] - 4s 9ms/step - loss: 0.3404 - accuracy: 0.8457 - val_loss: 0.4805 - val_accuracy: 0.8128\n",
      "Epoch 18/30\n",
      "428/428 [==============================] - 4s 9ms/step - loss: 0.3361 - accuracy: 0.8487 - val_loss: 0.4716 - val_accuracy: 0.8197\n",
      "Epoch 19/30\n",
      "428/428 [==============================] - 4s 9ms/step - loss: 0.3293 - accuracy: 0.8530 - val_loss: 0.4932 - val_accuracy: 0.7920\n",
      "Epoch 20/30\n",
      "428/428 [==============================] - 4s 9ms/step - loss: 0.3257 - accuracy: 0.8522 - val_loss: 0.4741 - val_accuracy: 0.8169\n",
      "Epoch 21/30\n",
      "428/428 [==============================] - 4s 9ms/step - loss: 0.3249 - accuracy: 0.8501 - val_loss: 0.4776 - val_accuracy: 0.8100\n",
      "Epoch 22/30\n",
      "428/428 [==============================] - 4s 9ms/step - loss: 0.3175 - accuracy: 0.8579 - val_loss: 0.4801 - val_accuracy: 0.8169\n",
      "Epoch 23/30\n",
      "428/428 [==============================] - 4s 9ms/step - loss: 0.3158 - accuracy: 0.8562 - val_loss: 0.4856 - val_accuracy: 0.8141\n",
      "Epoch 24/30\n",
      "428/428 [==============================] - 4s 9ms/step - loss: 0.3113 - accuracy: 0.8558 - val_loss: 0.4845 - val_accuracy: 0.8072\n",
      "Epoch 25/30\n",
      "428/428 [==============================] - 4s 9ms/step - loss: 0.3064 - accuracy: 0.8570 - val_loss: 0.4866 - val_accuracy: 0.8100\n",
      "Epoch 26/30\n",
      "428/428 [==============================] - 4s 9ms/step - loss: 0.3041 - accuracy: 0.8591 - val_loss: 0.4899 - val_accuracy: 0.8141\n",
      "Epoch 27/30\n",
      "428/428 [==============================] - 4s 9ms/step - loss: 0.3021 - accuracy: 0.8571 - val_loss: 0.5175 - val_accuracy: 0.7809\n",
      "Epoch 28/30\n",
      "428/428 [==============================] - 4s 9ms/step - loss: 0.3022 - accuracy: 0.8579 - val_loss: 0.5093 - val_accuracy: 0.7933\n",
      "Epoch 29/30\n",
      "428/428 [==============================] - 4s 9ms/step - loss: 0.2965 - accuracy: 0.8630 - val_loss: 0.5152 - val_accuracy: 0.7850\n",
      "Epoch 30/30\n",
      "428/428 [==============================] - 4s 9ms/step - loss: 0.2946 - accuracy: 0.8630 - val_loss: 0.5132 - val_accuracy: 0.8141\n"
     ]
    },
    {
     "data": {
      "text/plain": "<keras.callbacks.History at 0x2a5498ac7c8>"
     },
     "execution_count": 370,
     "metadata": {},
     "output_type": "execute_result"
    }
   ],
   "source": [
    "model.fit(X_train, y_train,\n",
    "          validation_data=(X_valid, y_valid),\n",
    "          batch_size=32,\n",
    "         epochs=30)"
   ],
   "metadata": {
    "collapsed": false,
    "ExecuteTime": {
     "end_time": "2023-06-13T03:30:49.146835Z",
     "start_time": "2023-06-13T03:28:50.772747800Z"
    }
   }
  },
  {
   "cell_type": "code",
   "execution_count": 371,
   "outputs": [],
   "source": [
    "weights = np.zeros((len(word2id), ft_vector_size))\n",
    "\n",
    "for word, i in word2id.items():\n",
    "    # вектор паддинга оставим нулевым\n",
    "    if word == 'PAD':\n",
    "        continue\n",
    "\n",
    "    try:\n",
    "        weights[i] = ft.wv[word]\n",
    "\n",
    "\n",
    "    except KeyError:\n",
    "        # для слов, которых нет в модели тоже возьмем какой-то  рандомный вектор\n",
    "        continue\n",
    "        weights[i] = ft.wv['опрагпллирао']"
   ],
   "metadata": {
    "collapsed": false,
    "ExecuteTime": {
     "end_time": "2023-06-13T03:30:49.222775200Z",
     "start_time": "2023-06-13T03:30:49.148823900Z"
    }
   }
  },
  {
   "cell_type": "code",
   "execution_count": 372,
   "outputs": [],
   "source": [
    "inputs = tf.keras.layers.Input(shape=(ft_vector_size,))\n",
    "\n",
    "# передаем матрицу в эмбединг слой\n",
    "# указываем параметр trainable=False, чтобы вектора не обучались\n",
    "# Пояснение: кажется, что обучение векторов отключать не стоит, так как модель должна взять готовые\n",
    "# эмбединги и подогнать их к нашей задаче. На практитке это однако не работает - эмбединги просто\n",
    "# обучатся заново\n",
    "embeddings = tf.keras.layers.Embedding(input_dim=len(word2id), output_dim=ft_vector_size,\n",
    "                                       trainable=True,\n",
    "                                       weights=[weights])(inputs, )\n",
    "mean = tf.keras.layers.Lambda(lambda x: tf.keras.backend.mean(x,  axis=1))(embeddings)\n",
    "\n",
    "outputs = tf.keras.layers.Dense(1, activation='sigmoid')(mean)\n",
    "\n",
    "model_ft = tf.keras.Model(inputs=inputs, outputs=outputs)\n",
    "optimizer = tf.keras.optimizers.Adam()\n",
    "model_ft.compile(optimizer=optimizer,\n",
    "              loss='binary_crossentropy',\n",
    "              metrics=['accuracy'])"
   ],
   "metadata": {
    "collapsed": false,
    "ExecuteTime": {
     "end_time": "2023-06-13T03:30:49.255412200Z",
     "start_time": "2023-06-13T03:30:49.193066Z"
    }
   }
  },
  {
   "cell_type": "code",
   "execution_count": 373,
   "outputs": [
    {
     "name": "stdout",
     "output_type": "stream",
     "text": [
      "Epoch 1/30\n",
      "428/428 [==============================] - 4s 9ms/step - loss: 0.6264 - accuracy: 0.6647 - val_loss: 0.6094 - val_accuracy: 0.6685\n",
      "Epoch 2/30\n",
      "428/428 [==============================] - 4s 9ms/step - loss: 0.6094 - accuracy: 0.6654 - val_loss: 0.6001 - val_accuracy: 0.6852\n",
      "Epoch 3/30\n",
      "428/428 [==============================] - 4s 9ms/step - loss: 0.5862 - accuracy: 0.6699 - val_loss: 0.5683 - val_accuracy: 0.6879\n",
      "Epoch 4/30\n",
      "428/428 [==============================] - 4s 9ms/step - loss: 0.5541 - accuracy: 0.7014 - val_loss: 0.5422 - val_accuracy: 0.7143\n",
      "Epoch 5/30\n",
      "428/428 [==============================] - 4s 9ms/step - loss: 0.5192 - accuracy: 0.7354 - val_loss: 0.5262 - val_accuracy: 0.7795\n",
      "Epoch 6/30\n",
      "428/428 [==============================] - 4s 9ms/step - loss: 0.4883 - accuracy: 0.7651 - val_loss: 0.5057 - val_accuracy: 0.7517\n",
      "Epoch 7/30\n",
      "428/428 [==============================] - 4s 9ms/step - loss: 0.4643 - accuracy: 0.7850 - val_loss: 0.4956 - val_accuracy: 0.7642\n",
      "Epoch 8/30\n",
      "428/428 [==============================] - 4s 9ms/step - loss: 0.4460 - accuracy: 0.7953 - val_loss: 0.4882 - val_accuracy: 0.7684\n",
      "Epoch 9/30\n",
      "428/428 [==============================] - 4s 9ms/step - loss: 0.4308 - accuracy: 0.8061 - val_loss: 0.4840 - val_accuracy: 0.8155\n",
      "Epoch 10/30\n",
      "428/428 [==============================] - 4s 9ms/step - loss: 0.4185 - accuracy: 0.8157 - val_loss: 0.4749 - val_accuracy: 0.8086\n",
      "Epoch 11/30\n",
      "428/428 [==============================] - 4s 9ms/step - loss: 0.4054 - accuracy: 0.8194 - val_loss: 0.4757 - val_accuracy: 0.8211\n",
      "Epoch 12/30\n",
      "428/428 [==============================] - 4s 9ms/step - loss: 0.3954 - accuracy: 0.8262 - val_loss: 0.4691 - val_accuracy: 0.8211\n",
      "Epoch 13/30\n",
      "428/428 [==============================] - 4s 9ms/step - loss: 0.3866 - accuracy: 0.8308 - val_loss: 0.4671 - val_accuracy: 0.8128\n",
      "Epoch 14/30\n",
      "428/428 [==============================] - 4s 9ms/step - loss: 0.3780 - accuracy: 0.8319 - val_loss: 0.4749 - val_accuracy: 0.7947\n",
      "Epoch 15/30\n",
      "428/428 [==============================] - 4s 9ms/step - loss: 0.3732 - accuracy: 0.8332 - val_loss: 0.4647 - val_accuracy: 0.8169\n",
      "Epoch 16/30\n",
      "428/428 [==============================] - 4s 9ms/step - loss: 0.3650 - accuracy: 0.8376 - val_loss: 0.4683 - val_accuracy: 0.8169\n",
      "Epoch 17/30\n",
      "428/428 [==============================] - 4s 9ms/step - loss: 0.3597 - accuracy: 0.8389 - val_loss: 0.4655 - val_accuracy: 0.8155\n",
      "Epoch 18/30\n",
      "428/428 [==============================] - 4s 9ms/step - loss: 0.3527 - accuracy: 0.8425 - val_loss: 0.4693 - val_accuracy: 0.8197\n",
      "Epoch 19/30\n",
      "428/428 [==============================] - 4s 9ms/step - loss: 0.3486 - accuracy: 0.8435 - val_loss: 0.4661 - val_accuracy: 0.8128\n",
      "Epoch 20/30\n",
      "428/428 [==============================] - 4s 9ms/step - loss: 0.3432 - accuracy: 0.8451 - val_loss: 0.4680 - val_accuracy: 0.8128\n",
      "Epoch 21/30\n",
      "428/428 [==============================] - 4s 9ms/step - loss: 0.3370 - accuracy: 0.8494 - val_loss: 0.4706 - val_accuracy: 0.8155\n",
      "Epoch 22/30\n",
      "428/428 [==============================] - 4s 9ms/step - loss: 0.3335 - accuracy: 0.8495 - val_loss: 0.4685 - val_accuracy: 0.8211\n",
      "Epoch 23/30\n",
      "428/428 [==============================] - 4s 9ms/step - loss: 0.3280 - accuracy: 0.8545 - val_loss: 0.5021 - val_accuracy: 0.7809\n",
      "Epoch 24/30\n",
      "428/428 [==============================] - 4s 9ms/step - loss: 0.3251 - accuracy: 0.8519 - val_loss: 0.4754 - val_accuracy: 0.8128\n",
      "Epoch 25/30\n",
      "428/428 [==============================] - 4s 9ms/step - loss: 0.3203 - accuracy: 0.8570 - val_loss: 0.4969 - val_accuracy: 0.7906\n",
      "Epoch 26/30\n",
      "428/428 [==============================] - 4s 9ms/step - loss: 0.3190 - accuracy: 0.8539 - val_loss: 0.4779 - val_accuracy: 0.8128\n",
      "Epoch 27/30\n",
      "428/428 [==============================] - 4s 9ms/step - loss: 0.3135 - accuracy: 0.8569 - val_loss: 0.4906 - val_accuracy: 0.8058\n",
      "Epoch 28/30\n",
      "428/428 [==============================] - 4s 9ms/step - loss: 0.3127 - accuracy: 0.8555 - val_loss: 0.4830 - val_accuracy: 0.8072\n",
      "Epoch 29/30\n",
      "428/428 [==============================] - 4s 9ms/step - loss: 0.3087 - accuracy: 0.8576 - val_loss: 0.4902 - val_accuracy: 0.8086\n",
      "Epoch 30/30\n",
      "428/428 [==============================] - 4s 9ms/step - loss: 0.3066 - accuracy: 0.8577 - val_loss: 0.5031 - val_accuracy: 0.7850\n"
     ]
    },
    {
     "data": {
      "text/plain": "<keras.callbacks.History at 0x2a503b8efc8>"
     },
     "execution_count": 373,
     "metadata": {},
     "output_type": "execute_result"
    }
   ],
   "source": [
    "model_ft.fit(X_train, y_train,\n",
    "          validation_data=(X_valid, y_valid),\n",
    "          batch_size=32,\n",
    "         epochs=30)"
   ],
   "metadata": {
    "collapsed": false,
    "ExecuteTime": {
     "end_time": "2023-06-13T03:32:46.900740300Z",
     "start_time": "2023-06-13T03:30:49.227897700Z"
    }
   }
  },
  {
   "cell_type": "code",
   "execution_count": 374,
   "outputs": [
    {
     "name": "stdout",
     "output_type": "stream",
     "text": [
      "dict_keys(['loss', 'accuracy', 'val_loss', 'val_accuracy'])\n"
     ]
    },
    {
     "data": {
      "text/plain": "<Figure size 640x480 with 1 Axes>",
      "image/png": "[encoded data removed]"
     },
     "metadata": {},
     "output_type": "display_data"
    }
   ],
   "source": [
    "print(model_ft.history.history.keys())\n",
    "# summarize history for accuracy\n",
    "plt.plot(model_ft.history.history['accuracy'])\n",
    "plt.plot(model_ft.history.history['val_accuracy'])\n",
    "plt.title('model accuracy')\n",
    "plt.ylabel('accuracy')\n",
    "plt.xlabel('epoch')\n",
    "plt.legend(['train', 'val'], loc='upper left')\n",
    "plt.show()"
   ],
   "metadata": {
    "collapsed": false,
    "ExecuteTime": {
     "end_time": "2023-06-13T03:32:46.991883700Z",
     "start_time": "2023-06-13T03:32:46.901742400Z"
    }
   }
  },
  {
   "cell_type": "markdown",
   "source": [
    "# 2 модель"
   ],
   "metadata": {
    "collapsed": false
   }
  },
  {
   "cell_type": "code",
   "execution_count": 375,
   "outputs": [],
   "source": [
    "X = []\n",
    "for tokens in data['norm_text']:\n",
    "    ids = [word2id[token] for token in tokens if token in word2id]\n",
    "    X.append(ids)"
   ],
   "metadata": {
    "collapsed": false,
    "ExecuteTime": {
     "end_time": "2023-06-13T03:32:47.102061500Z",
     "start_time": "2023-06-13T03:32:47.016938Z"
    }
   }
  },
  {
   "cell_type": "code",
   "execution_count": 376,
   "outputs": [],
   "source": [
    "X = tf.keras.preprocessing.sequence.pad_sequences(X, maxlen=w2v_vector_size)\n",
    "y = data.toxic.values"
   ],
   "metadata": {
    "collapsed": false,
    "ExecuteTime": {
     "end_time": "2023-06-13T03:32:47.129363800Z",
     "start_time": "2023-06-13T03:32:47.027458500Z"
    }
   }
  },
  {
   "cell_type": "code",
   "execution_count": 377,
   "outputs": [],
   "source": [
    "X_train, X_valid, y_train, y_valid = train_test_split(X, y, test_size=0.05)"
   ],
   "metadata": {
    "collapsed": false,
    "ExecuteTime": {
     "end_time": "2023-06-13T03:32:47.130377700Z",
     "start_time": "2023-06-13T03:32:47.056430300Z"
    }
   }
  },
  {
   "cell_type": "code",
   "execution_count": 378,
   "outputs": [],
   "source": [
    "inputs = tf.keras.layers.Input(shape=(w2v_vector_size,))\n",
    "\n",
    "embeddings = tf.keras.layers.Embedding(input_dim=len(word2id), output_dim=w2v_vector_size)(inputs, )\n",
    "# embedding слой возвращает последовательность векторов\n",
    "# а нам нужно классифицировать сразу весь текст\n",
    "# стандартный подход в этом случае - усреднить единичные вектора в 1 вектор текста\n",
    "mean = tf.keras.layers.Lambda(lambda x: tf.keras.backend.mean(x,  axis=1))(embeddings)\n",
    "# к усредненному вектору мы уже применяем полносвязный слой, который вернет вероятность токсичности\n",
    "outputs = tf.keras.layers.Dense(1, activation='sigmoid')(mean)\n",
    "\n",
    "model = tf.keras.Model(inputs=inputs, outputs=outputs)\n",
    "optimizer = tf.keras.optimizers.Adam()\n",
    "model.compile(optimizer=optimizer,\n",
    "              loss='binary_crossentropy',\n",
    "              metrics=['accuracy'])"
   ],
   "metadata": {
    "collapsed": false,
    "ExecuteTime": {
     "end_time": "2023-06-13T03:32:47.131944100Z",
     "start_time": "2023-06-13T03:32:47.077923800Z"
    }
   }
  },
  {
   "cell_type": "code",
   "execution_count": 379,
   "outputs": [
    {
     "name": "stdout",
     "output_type": "stream",
     "text": [
      "Epoch 1/30\n",
      "428/428 [==============================] - 8s 17ms/step - loss: 0.6354 - accuracy: 0.6646 - val_loss: 0.6245 - val_accuracy: 0.6671\n",
      "Epoch 2/30\n",
      "428/428 [==============================] - 7s 17ms/step - loss: 0.6174 - accuracy: 0.6655 - val_loss: 0.6000 - val_accuracy: 0.6671\n",
      "Epoch 3/30\n",
      "428/428 [==============================] - 7s 17ms/step - loss: 0.5909 - accuracy: 0.6700 - val_loss: 0.5709 - val_accuracy: 0.6879\n",
      "Epoch 4/30\n",
      "428/428 [==============================] - 7s 17ms/step - loss: 0.5568 - accuracy: 0.7062 - val_loss: 0.5412 - val_accuracy: 0.6976\n",
      "Epoch 5/30\n",
      "428/428 [==============================] - 7s 17ms/step - loss: 0.5161 - accuracy: 0.7422 - val_loss: 0.5148 - val_accuracy: 0.7171\n",
      "Epoch 6/30\n",
      "428/428 [==============================] - 7s 17ms/step - loss: 0.4863 - accuracy: 0.7673 - val_loss: 0.4975 - val_accuracy: 0.7906\n",
      "Epoch 7/30\n",
      "428/428 [==============================] - 7s 17ms/step - loss: 0.4613 - accuracy: 0.7869 - val_loss: 0.4900 - val_accuracy: 0.8017\n",
      "Epoch 8/30\n",
      "428/428 [==============================] - 7s 17ms/step - loss: 0.4426 - accuracy: 0.7985 - val_loss: 0.4713 - val_accuracy: 0.7684\n",
      "Epoch 9/30\n",
      "428/428 [==============================] - 7s 17ms/step - loss: 0.4265 - accuracy: 0.8104 - val_loss: 0.4606 - val_accuracy: 0.7767\n",
      "Epoch 10/30\n",
      "428/428 [==============================] - 7s 17ms/step - loss: 0.4134 - accuracy: 0.8165 - val_loss: 0.4650 - val_accuracy: 0.8017\n",
      "Epoch 11/30\n",
      "428/428 [==============================] - 7s 17ms/step - loss: 0.4029 - accuracy: 0.8203 - val_loss: 0.4501 - val_accuracy: 0.7892\n",
      "Epoch 12/30\n",
      "428/428 [==============================] - 7s 17ms/step - loss: 0.3952 - accuracy: 0.8239 - val_loss: 0.4490 - val_accuracy: 0.7892\n",
      "Epoch 13/30\n",
      "428/428 [==============================] - 7s 17ms/step - loss: 0.3844 - accuracy: 0.8327 - val_loss: 0.4439 - val_accuracy: 0.8003\n",
      "Epoch 14/30\n",
      "428/428 [==============================] - 7s 17ms/step - loss: 0.3786 - accuracy: 0.8312 - val_loss: 0.4452 - val_accuracy: 0.7822\n",
      "Epoch 15/30\n",
      "428/428 [==============================] - 7s 17ms/step - loss: 0.3722 - accuracy: 0.8322 - val_loss: 0.4476 - val_accuracy: 0.7850\n",
      "Epoch 16/30\n",
      "428/428 [==============================] - 7s 17ms/step - loss: 0.3663 - accuracy: 0.8338 - val_loss: 0.4449 - val_accuracy: 0.7864\n",
      "Epoch 17/30\n",
      "428/428 [==============================] - 7s 17ms/step - loss: 0.3619 - accuracy: 0.8360 - val_loss: 0.4535 - val_accuracy: 0.8155\n",
      "Epoch 18/30\n",
      "428/428 [==============================] - 7s 17ms/step - loss: 0.3552 - accuracy: 0.8422 - val_loss: 0.4465 - val_accuracy: 0.8211\n",
      "Epoch 19/30\n",
      "428/428 [==============================] - 7s 17ms/step - loss: 0.3485 - accuracy: 0.8453 - val_loss: 0.4449 - val_accuracy: 0.8197\n",
      "Epoch 20/30\n",
      "428/428 [==============================] - 7s 17ms/step - loss: 0.3470 - accuracy: 0.8431 - val_loss: 0.4391 - val_accuracy: 0.8031\n",
      "Epoch 21/30\n",
      "428/428 [==============================] - 7s 17ms/step - loss: 0.3371 - accuracy: 0.8486 - val_loss: 0.4444 - val_accuracy: 0.8197\n",
      "Epoch 22/30\n",
      "428/428 [==============================] - 7s 17ms/step - loss: 0.3359 - accuracy: 0.8495 - val_loss: 0.4655 - val_accuracy: 0.7850\n",
      "Epoch 23/30\n",
      "428/428 [==============================] - 7s 17ms/step - loss: 0.3299 - accuracy: 0.8489 - val_loss: 0.4457 - val_accuracy: 0.8003\n",
      "Epoch 24/30\n",
      "428/428 [==============================] - 7s 17ms/step - loss: 0.3286 - accuracy: 0.8499 - val_loss: 0.4466 - val_accuracy: 0.7975\n",
      "Epoch 25/30\n",
      "428/428 [==============================] - 7s 17ms/step - loss: 0.3262 - accuracy: 0.8489 - val_loss: 0.4450 - val_accuracy: 0.8197\n",
      "Epoch 26/30\n",
      "428/428 [==============================] - 7s 17ms/step - loss: 0.3212 - accuracy: 0.8522 - val_loss: 0.4462 - val_accuracy: 0.7975\n",
      "Epoch 27/30\n",
      "428/428 [==============================] - 7s 17ms/step - loss: 0.3155 - accuracy: 0.8528 - val_loss: 0.4511 - val_accuracy: 0.8197\n",
      "Epoch 28/30\n",
      "428/428 [==============================] - 7s 17ms/step - loss: 0.3157 - accuracy: 0.8533 - val_loss: 0.4521 - val_accuracy: 0.8197\n",
      "Epoch 29/30\n",
      "428/428 [==============================] - 7s 17ms/step - loss: 0.3115 - accuracy: 0.8539 - val_loss: 0.4557 - val_accuracy: 0.8141\n",
      "Epoch 30/30\n",
      "428/428 [==============================] - 7s 17ms/step - loss: 0.3079 - accuracy: 0.8550 - val_loss: 0.4557 - val_accuracy: 0.7975\n"
     ]
    },
    {
     "data": {
      "text/plain": "<keras.callbacks.History at 0x2a499cdf0c8>"
     },
     "execution_count": 379,
     "metadata": {},
     "output_type": "execute_result"
    }
   ],
   "source": [
    "model.fit(X_train, y_train,\n",
    "          validation_data=(X_valid, y_valid),\n",
    "          batch_size=32,\n",
    "         epochs=30)"
   ],
   "metadata": {
    "collapsed": false,
    "ExecuteTime": {
     "end_time": "2023-06-13T03:36:23.202293100Z",
     "start_time": "2023-06-13T03:32:47.105071600Z"
    }
   }
  },
  {
   "cell_type": "code",
   "execution_count": 380,
   "outputs": [],
   "source": [
    "weights = np.zeros((len(word2id), w2v_vector_size))\n",
    "\n",
    "for word, i in word2id.items():\n",
    "    # вектор паддинга оставим нулевым\n",
    "    if word == 'PAD':\n",
    "        continue\n",
    "\n",
    "    try:\n",
    "        weights[i] = w2v.wv[word]\n",
    "\n",
    "\n",
    "    except KeyError:\n",
    "        # для слов, которых нет в модели тоже возьмем какой-то  рандомный вектор\n",
    "        continue\n",
    "        weights[i] = w2v.wv['опрагпллирао']"
   ],
   "metadata": {
    "collapsed": false,
    "ExecuteTime": {
     "end_time": "2023-06-13T03:36:23.310788900Z",
     "start_time": "2023-06-13T03:36:23.203297800Z"
    }
   }
  },
  {
   "cell_type": "code",
   "execution_count": 381,
   "outputs": [],
   "source": [
    "inputs = tf.keras.layers.Input(shape=(w2v_vector_size,))\n",
    "\n",
    "# передаем матрицу в эмбединг слой\n",
    "# указываем параметр trainable=False, чтобы вектора не обучались\n",
    "# Пояснение: кажется, что обучение векторов отключать не стоит, так как модель должна взять готовые\n",
    "# эмбединги и подогнать их к нашей задаче. На практитке это однако не работает - эмбединги просто\n",
    "# обучатся заново\n",
    "embeddings = tf.keras.layers.Embedding(input_dim=len(word2id), output_dim=w2v_vector_size,\n",
    "                                       trainable=True,\n",
    "                                       weights=[weights])(inputs, )\n",
    "mean = tf.keras.layers.Lambda(lambda x: tf.keras.backend.mean(x,  axis=1))(embeddings)\n",
    "\n",
    "outputs = tf.keras.layers.Dense(1, activation='sigmoid')(mean)\n",
    "\n",
    "model_w2v = tf.keras.Model(inputs=inputs, outputs=outputs)\n",
    "optimizer = tf.keras.optimizers.Adam()\n",
    "model_w2v.compile(optimizer=optimizer,\n",
    "              loss='binary_crossentropy',\n",
    "              metrics=['accuracy'])"
   ],
   "metadata": {
    "collapsed": false,
    "ExecuteTime": {
     "end_time": "2023-06-13T03:36:23.327981500Z",
     "start_time": "2023-06-13T03:36:23.220340800Z"
    }
   }
  },
  {
   "cell_type": "code",
   "execution_count": 382,
   "outputs": [
    {
     "name": "stdout",
     "output_type": "stream",
     "text": [
      "Epoch 1/30\n",
      "428/428 [==============================] - 8s 17ms/step - loss: 0.6347 - accuracy: 0.6650 - val_loss: 0.6252 - val_accuracy: 0.6671\n",
      "Epoch 2/30\n",
      "428/428 [==============================] - 7s 17ms/step - loss: 0.6170 - accuracy: 0.6650 - val_loss: 0.6010 - val_accuracy: 0.6671\n",
      "Epoch 3/30\n",
      "428/428 [==============================] - 7s 17ms/step - loss: 0.5930 - accuracy: 0.6729 - val_loss: 0.5721 - val_accuracy: 0.6768\n",
      "Epoch 4/30\n",
      "428/428 [==============================] - 7s 17ms/step - loss: 0.5544 - accuracy: 0.7063 - val_loss: 0.5359 - val_accuracy: 0.7157\n",
      "Epoch 5/30\n",
      "428/428 [==============================] - 7s 17ms/step - loss: 0.5094 - accuracy: 0.7498 - val_loss: 0.5041 - val_accuracy: 0.7601\n",
      "Epoch 6/30\n",
      "428/428 [==============================] - 7s 17ms/step - loss: 0.4731 - accuracy: 0.7780 - val_loss: 0.4851 - val_accuracy: 0.7906\n",
      "Epoch 7/30\n",
      "428/428 [==============================] - 7s 17ms/step - loss: 0.4532 - accuracy: 0.7939 - val_loss: 0.4706 - val_accuracy: 0.7892\n",
      "Epoch 8/30\n",
      "428/428 [==============================] - 7s 17ms/step - loss: 0.4315 - accuracy: 0.8074 - val_loss: 0.4630 - val_accuracy: 0.7933\n",
      "Epoch 9/30\n",
      "428/428 [==============================] - 8s 19ms/step - loss: 0.4153 - accuracy: 0.8162 - val_loss: 0.4611 - val_accuracy: 0.7698\n",
      "Epoch 10/30\n",
      "428/428 [==============================] - 11s 26ms/step - loss: 0.4055 - accuracy: 0.8183 - val_loss: 0.4834 - val_accuracy: 0.7684\n",
      "Epoch 11/30\n",
      "428/428 [==============================] - 11s 27ms/step - loss: 0.3920 - accuracy: 0.8248 - val_loss: 0.4537 - val_accuracy: 0.8058\n",
      "Epoch 12/30\n",
      "428/428 [==============================] - 12s 28ms/step - loss: 0.3825 - accuracy: 0.8317 - val_loss: 0.4434 - val_accuracy: 0.7989\n",
      "Epoch 13/30\n",
      "428/428 [==============================] - 12s 27ms/step - loss: 0.3731 - accuracy: 0.8337 - val_loss: 0.4429 - val_accuracy: 0.8072\n",
      "Epoch 14/30\n",
      "428/428 [==============================] - 12s 27ms/step - loss: 0.3677 - accuracy: 0.8351 - val_loss: 0.4412 - val_accuracy: 0.7975\n",
      "Epoch 15/30\n",
      "428/428 [==============================] - 12s 27ms/step - loss: 0.3589 - accuracy: 0.8381 - val_loss: 0.4408 - val_accuracy: 0.8058\n",
      "Epoch 16/30\n",
      "428/428 [==============================] - 12s 28ms/step - loss: 0.3521 - accuracy: 0.8430 - val_loss: 0.4402 - val_accuracy: 0.8017\n",
      "Epoch 17/30\n",
      "428/428 [==============================] - 12s 28ms/step - loss: 0.3477 - accuracy: 0.8435 - val_loss: 0.4436 - val_accuracy: 0.8183\n",
      "Epoch 18/30\n",
      "428/428 [==============================] - 12s 27ms/step - loss: 0.3404 - accuracy: 0.8461 - val_loss: 0.4425 - val_accuracy: 0.8058\n",
      "Epoch 19/30\n",
      "428/428 [==============================] - 12s 27ms/step - loss: 0.3369 - accuracy: 0.8444 - val_loss: 0.4638 - val_accuracy: 0.7920\n",
      "Epoch 20/30\n",
      "428/428 [==============================] - 12s 29ms/step - loss: 0.3337 - accuracy: 0.8479 - val_loss: 0.5487 - val_accuracy: 0.7684\n",
      "Epoch 21/30\n",
      "428/428 [==============================] - 10s 25ms/step - loss: 0.3249 - accuracy: 0.8537 - val_loss: 0.4457 - val_accuracy: 0.8100\n",
      "Epoch 22/30\n",
      "428/428 [==============================] - 11s 25ms/step - loss: 0.3257 - accuracy: 0.8495 - val_loss: 0.4710 - val_accuracy: 0.7906\n",
      "Epoch 23/30\n",
      "428/428 [==============================] - 10s 24ms/step - loss: 0.3180 - accuracy: 0.8539 - val_loss: 0.4703 - val_accuracy: 0.7892\n",
      "Epoch 24/30\n",
      "428/428 [==============================] - 10s 23ms/step - loss: 0.3166 - accuracy: 0.8534 - val_loss: 0.4530 - val_accuracy: 0.8183\n",
      "Epoch 25/30\n",
      "428/428 [==============================] - 10s 23ms/step - loss: 0.3163 - accuracy: 0.8513 - val_loss: 0.4771 - val_accuracy: 0.7920\n",
      "Epoch 26/30\n",
      "428/428 [==============================] - 10s 23ms/step - loss: 0.3118 - accuracy: 0.8536 - val_loss: 0.4648 - val_accuracy: 0.7989\n",
      "Epoch 27/30\n",
      "428/428 [==============================] - 10s 23ms/step - loss: 0.3086 - accuracy: 0.8536 - val_loss: 0.4622 - val_accuracy: 0.8169\n",
      "Epoch 28/30\n",
      "428/428 [==============================] - 10s 23ms/step - loss: 0.3010 - accuracy: 0.8593 - val_loss: 0.5060 - val_accuracy: 0.7878\n",
      "Epoch 29/30\n",
      "428/428 [==============================] - 10s 23ms/step - loss: 0.3017 - accuracy: 0.8557 - val_loss: 0.4670 - val_accuracy: 0.8031\n",
      "Epoch 30/30\n",
      "428/428 [==============================] - 10s 23ms/step - loss: 0.2972 - accuracy: 0.8590 - val_loss: 0.4712 - val_accuracy: 0.8072\n"
     ]
    },
    {
     "data": {
      "text/plain": "<keras.callbacks.History at 0x2a506f94c88>"
     },
     "execution_count": 382,
     "metadata": {},
     "output_type": "execute_result"
    }
   ],
   "source": [
    "model_w2v.fit(X_train, y_train,\n",
    "          validation_data=(X_valid, y_valid),\n",
    "          batch_size=32,\n",
    "         epochs=30)"
   ],
   "metadata": {
    "collapsed": false,
    "ExecuteTime": {
     "end_time": "2023-06-13T03:41:18.133229700Z",
     "start_time": "2023-06-13T03:36:23.251513400Z"
    }
   }
  },
  {
   "cell_type": "code",
   "execution_count": 383,
   "outputs": [
    {
     "name": "stdout",
     "output_type": "stream",
     "text": [
      "dict_keys(['loss', 'accuracy', 'val_loss', 'val_accuracy'])\n"
     ]
    },
    {
     "data": {
      "text/plain": "<Figure size 640x480 with 1 Axes>",
      "image/png": "[encoded data removed]"
     },
     "metadata": {},
     "output_type": "display_data"
    }
   ],
   "source": [
    "print(model_w2v.history.history.keys())\n",
    "# summarize history for accuracy\n",
    "plt.plot(model_w2v.history.history['accuracy'])\n",
    "plt.plot(model_w2v.history.history['val_accuracy'])\n",
    "plt.title('model accuracy')\n",
    "plt.ylabel('accuracy')\n",
    "plt.xlabel('epoch')\n",
    "plt.legend(['train', 'val'], loc='upper left')\n",
    "plt.show()"
   ],
   "metadata": {
    "collapsed": false,
    "ExecuteTime": {
     "end_time": "2023-06-13T03:41:18.289168600Z",
     "start_time": "2023-06-13T03:41:18.134224600Z"
    }
   }
  },
  {
   "cell_type": "markdown",
   "source": [
    "# 3 модель"
   ],
   "metadata": {
    "collapsed": false
   }
  },
  {
   "cell_type": "code",
   "execution_count": 384,
   "outputs": [],
   "source": [
    "# Get the weights of the target embedding layer\n",
    "embeddings_loaded = model_neg_skip.layers[2].get_weights()[0]"
   ],
   "metadata": {
    "collapsed": false,
    "ExecuteTime": {
     "end_time": "2023-06-13T03:41:18.302315900Z",
     "start_time": "2023-06-13T03:41:18.289168600Z"
    }
   }
  },
  {
   "cell_type": "code",
   "execution_count": 385,
   "outputs": [
    {
     "data": {
      "text/plain": "(7312, 300)"
     },
     "execution_count": 385,
     "metadata": {},
     "output_type": "execute_result"
    }
   ],
   "source": [
    "embeddings_loaded.shape"
   ],
   "metadata": {
    "collapsed": false,
    "ExecuteTime": {
     "end_time": "2023-06-13T03:41:18.333507100Z",
     "start_time": "2023-06-13T03:41:18.303359800Z"
    }
   }
  },
  {
   "cell_type": "code",
   "execution_count": 386,
   "outputs": [],
   "source": [
    "X = []\n",
    "for tokens in data['norm_text']:\n",
    "    ids = [word2id[token] for token in tokens if token in word2id]\n",
    "    X.append(ids)\n",
    "X = tf.keras.preprocessing.sequence.pad_sequences(X, maxlen=300)\n",
    "y = data.toxic.values\n",
    "X_train, X_valid, y_train, y_valid = train_test_split(X, y, test_size=0.05)"
   ],
   "metadata": {
    "collapsed": false,
    "ExecuteTime": {
     "end_time": "2023-06-13T03:41:18.489793200Z",
     "start_time": "2023-06-13T03:41:18.336873900Z"
    }
   }
  },
  {
   "cell_type": "code",
   "execution_count": 387,
   "outputs": [],
   "source": [
    "# Create an input layer with the correct shape\n",
    "inputs = tf.keras.layers.Input(shape=(None,))\n",
    "\n",
    "# Create an embedding layer\n",
    "embeddings = tf.keras.layers.Embedding(input_dim=embeddings_loaded.shape[0], output_dim=300, trainable=True)(inputs)\n",
    "\n",
    "# Compute the mean of the embeddings\n",
    "mean = tf.keras.layers.Lambda(lambda x: tf.keras.backend.mean(x, axis=1))(embeddings)\n",
    "\n",
    "# Create an output layer\n",
    "outputs = tf.keras.layers.Dense(1, activation='sigmoid')(mean)\n",
    "\n",
    "# Create a model\n",
    "model_skip = tf.keras.Model(inputs=inputs, outputs=outputs)\n",
    "\n",
    "# Set the weights of the embedding layer\n",
    "model_skip.layers[1].set_weights([embeddings_loaded])\n",
    "\n",
    "# Compile the model\n",
    "optimizer = tf.keras.optimizers.Adam()\n",
    "model_skip.compile(optimizer=optimizer,\n",
    "              loss='binary_crossentropy',\n",
    "              metrics=['accuracy'])"
   ],
   "metadata": {
    "collapsed": false,
    "ExecuteTime": {
     "end_time": "2023-06-13T03:41:18.552429Z",
     "start_time": "2023-06-13T03:41:18.492846900Z"
    }
   }
  },
  {
   "cell_type": "code",
   "execution_count": 388,
   "outputs": [
    {
     "name": "stdout",
     "output_type": "stream",
     "text": [
      "Epoch 1/30\n",
      "428/428 [==============================] - 9s 20ms/step - loss: 0.6341 - accuracy: 0.6634 - val_loss: 0.6103 - val_accuracy: 0.6782\n",
      "Epoch 2/30\n",
      "428/428 [==============================] - 8s 18ms/step - loss: 0.6097 - accuracy: 0.6647 - val_loss: 0.6011 - val_accuracy: 0.6782\n",
      "Epoch 3/30\n",
      "428/428 [==============================] - 7s 17ms/step - loss: 0.5763 - accuracy: 0.6819 - val_loss: 0.5514 - val_accuracy: 0.6824\n",
      "Epoch 4/30\n",
      "428/428 [==============================] - 7s 17ms/step - loss: 0.5345 - accuracy: 0.7260 - val_loss: 0.5161 - val_accuracy: 0.7171\n",
      "Epoch 5/30\n",
      "428/428 [==============================] - 7s 17ms/step - loss: 0.4956 - accuracy: 0.7604 - val_loss: 0.4966 - val_accuracy: 0.8044\n",
      "Epoch 6/30\n",
      "428/428 [==============================] - 7s 17ms/step - loss: 0.4636 - accuracy: 0.7875 - val_loss: 0.4774 - val_accuracy: 0.7920\n",
      "Epoch 7/30\n",
      "428/428 [==============================] - 7s 17ms/step - loss: 0.4418 - accuracy: 0.7982 - val_loss: 0.4660 - val_accuracy: 0.7864\n",
      "Epoch 8/30\n",
      "428/428 [==============================] - 7s 17ms/step - loss: 0.4260 - accuracy: 0.8098 - val_loss: 0.4599 - val_accuracy: 0.7892\n",
      "Epoch 9/30\n",
      "428/428 [==============================] - 7s 17ms/step - loss: 0.4099 - accuracy: 0.8162 - val_loss: 0.4523 - val_accuracy: 0.8128\n",
      "Epoch 10/30\n",
      "428/428 [==============================] - 7s 17ms/step - loss: 0.3973 - accuracy: 0.8228 - val_loss: 0.4525 - val_accuracy: 0.8197\n",
      "Epoch 11/30\n",
      "428/428 [==============================] - 7s 17ms/step - loss: 0.3892 - accuracy: 0.8274 - val_loss: 0.4493 - val_accuracy: 0.7933\n",
      "Epoch 12/30\n",
      "428/428 [==============================] - 7s 17ms/step - loss: 0.3776 - accuracy: 0.8341 - val_loss: 0.4471 - val_accuracy: 0.8058\n",
      "Epoch 13/30\n",
      "428/428 [==============================] - 7s 17ms/step - loss: 0.3712 - accuracy: 0.8364 - val_loss: 0.4558 - val_accuracy: 0.7989\n",
      "Epoch 14/30\n",
      "428/428 [==============================] - 7s 17ms/step - loss: 0.3642 - accuracy: 0.8390 - val_loss: 0.4546 - val_accuracy: 0.7975\n",
      "Epoch 15/30\n",
      "428/428 [==============================] - 7s 17ms/step - loss: 0.3568 - accuracy: 0.8435 - val_loss: 0.4470 - val_accuracy: 0.8100\n",
      "Epoch 16/30\n",
      "428/428 [==============================] - 7s 17ms/step - loss: 0.3509 - accuracy: 0.8454 - val_loss: 0.4522 - val_accuracy: 0.7975\n",
      "Epoch 17/30\n",
      "428/428 [==============================] - 7s 16ms/step - loss: 0.3436 - accuracy: 0.8496 - val_loss: 0.4495 - val_accuracy: 0.8155\n",
      "Epoch 18/30\n",
      "428/428 [==============================] - 7s 17ms/step - loss: 0.3388 - accuracy: 0.8469 - val_loss: 0.4515 - val_accuracy: 0.8017\n",
      "Epoch 19/30\n",
      "428/428 [==============================] - 7s 17ms/step - loss: 0.3348 - accuracy: 0.8504 - val_loss: 0.4685 - val_accuracy: 0.7920\n",
      "Epoch 20/30\n",
      "428/428 [==============================] - 7s 17ms/step - loss: 0.3295 - accuracy: 0.8528 - val_loss: 0.4662 - val_accuracy: 0.7933\n",
      "Epoch 21/30\n",
      "428/428 [==============================] - 7s 17ms/step - loss: 0.3243 - accuracy: 0.8536 - val_loss: 0.4601 - val_accuracy: 0.8141\n",
      "Epoch 22/30\n",
      "428/428 [==============================] - 7s 17ms/step - loss: 0.3206 - accuracy: 0.8539 - val_loss: 0.4621 - val_accuracy: 0.8003\n",
      "Epoch 23/30\n",
      "428/428 [==============================] - 7s 17ms/step - loss: 0.3170 - accuracy: 0.8541 - val_loss: 0.4635 - val_accuracy: 0.8169\n",
      "Epoch 24/30\n",
      "428/428 [==============================] - 7s 17ms/step - loss: 0.3128 - accuracy: 0.8548 - val_loss: 0.4741 - val_accuracy: 0.7933\n",
      "Epoch 25/30\n",
      "428/428 [==============================] - 7s 17ms/step - loss: 0.3101 - accuracy: 0.8558 - val_loss: 0.4762 - val_accuracy: 0.7975\n",
      "Epoch 26/30\n",
      "428/428 [==============================] - 7s 17ms/step - loss: 0.3053 - accuracy: 0.8588 - val_loss: 0.4748 - val_accuracy: 0.8072\n",
      "Epoch 27/30\n",
      "428/428 [==============================] - 7s 17ms/step - loss: 0.3054 - accuracy: 0.8582 - val_loss: 0.4784 - val_accuracy: 0.8003\n",
      "Epoch 28/30\n",
      "428/428 [==============================] - 7s 17ms/step - loss: 0.3023 - accuracy: 0.8579 - val_loss: 0.4817 - val_accuracy: 0.8114\n",
      "Epoch 29/30\n",
      "428/428 [==============================] - 7s 17ms/step - loss: 0.2980 - accuracy: 0.8643 - val_loss: 0.4894 - val_accuracy: 0.8058\n",
      "Epoch 30/30\n",
      "428/428 [==============================] - 7s 17ms/step - loss: 0.2940 - accuracy: 0.8636 - val_loss: 0.4916 - val_accuracy: 0.7989\n"
     ]
    },
    {
     "data": {
      "text/plain": "<keras.callbacks.History at 0x2a5475a3d88>"
     },
     "execution_count": 388,
     "metadata": {},
     "output_type": "execute_result"
    }
   ],
   "source": [
    "model_skip.fit(X_train, y_train,\n",
    "          validation_data=(X_valid, y_valid),\n",
    "          batch_size=32,\n",
    "         epochs=30)"
   ],
   "metadata": {
    "collapsed": false,
    "ExecuteTime": {
     "end_time": "2023-06-13T03:44:58.751668400Z",
     "start_time": "2023-06-13T03:41:18.554431700Z"
    }
   }
  },
  {
   "cell_type": "code",
   "execution_count": 389,
   "outputs": [
    {
     "name": "stdout",
     "output_type": "stream",
     "text": [
      "dict_keys(['loss', 'accuracy', 'val_loss', 'val_accuracy'])\n"
     ]
    },
    {
     "data": {
      "text/plain": "<Figure size 640x480 with 1 Axes>",
      "image/png": "[encoded data removed]"
     },
     "metadata": {},
     "output_type": "display_data"
    }
   ],
   "source": [
    "print(model_skip.history.history.keys())\n",
    "# summarize history for accuracy\n",
    "plt.plot(model_skip.history.history['accuracy'])\n",
    "plt.plot(model_skip.history.history['val_accuracy'])\n",
    "plt.title('model accuracy')\n",
    "plt.ylabel('accuracy')\n",
    "plt.xlabel('epoch')\n",
    "plt.legend(['train', 'val'], loc='upper left')\n",
    "plt.show()"
   ],
   "metadata": {
    "collapsed": false,
    "ExecuteTime": {
     "end_time": "2023-06-13T03:44:58.906692500Z",
     "start_time": "2023-06-13T03:44:58.755462800Z"
    }
   }
  },
  {
   "cell_type": "markdown",
   "source": [
    "# 4 модель"
   ],
   "metadata": {
    "collapsed": false
   }
  },
  {
   "cell_type": "code",
   "execution_count": 390,
   "outputs": [
    {
     "data": {
      "text/plain": "(7312, 300)"
     },
     "execution_count": 390,
     "metadata": {},
     "output_type": "execute_result"
    }
   ],
   "source": [
    "embeddings_loaded = model_neg_cbow.layers[2].get_weights()[0]\n",
    "embeddings_loaded.shape"
   ],
   "metadata": {
    "collapsed": false,
    "ExecuteTime": {
     "end_time": "2023-06-13T03:44:59.030099600Z",
     "start_time": "2023-06-13T03:44:58.908695900Z"
    }
   }
  },
  {
   "cell_type": "code",
   "execution_count": 391,
   "outputs": [],
   "source": [
    "X = []\n",
    "for tokens in data['norm_text']:\n",
    "    ids = [word2id[token] for token in tokens if token in word2id]\n",
    "    X.append(ids)\n",
    "X = tf.keras.preprocessing.sequence.pad_sequences(X, maxlen=300)\n",
    "y = data.toxic.values\n",
    "X_train, X_valid, y_train, y_valid = train_test_split(X, y, test_size=0.05)"
   ],
   "metadata": {
    "collapsed": false,
    "ExecuteTime": {
     "end_time": "2023-06-13T03:44:59.079495900Z",
     "start_time": "2023-06-13T03:44:58.940497300Z"
    }
   }
  },
  {
   "cell_type": "code",
   "execution_count": 392,
   "outputs": [],
   "source": [
    "# Create an input layer with the correct shape\n",
    "inputs = tf.keras.layers.Input(shape=(None,))\n",
    "\n",
    "# Create an embedding layer\n",
    "embeddings = tf.keras.layers.Embedding(input_dim=embeddings_loaded.shape[0], output_dim=300, trainable=True)(inputs)\n",
    "\n",
    "# Compute the mean of the embeddings\n",
    "mean = tf.keras.layers.Lambda(lambda x: tf.keras.backend.mean(x, axis=1))(embeddings)\n",
    "\n",
    "# Create an output layer\n",
    "outputs = tf.keras.layers.Dense(1, activation='sigmoid')(mean)\n",
    "\n",
    "# Create a model\n",
    "model_cbow = tf.keras.Model(inputs=inputs, outputs=outputs)\n",
    "\n",
    "# Set the weights of the embedding layer\n",
    "model_cbow.layers[1].set_weights([embeddings_loaded])\n",
    "\n",
    "# Compile the model\n",
    "optimizer = tf.keras.optimizers.Adam()\n",
    "model_cbow.compile(optimizer=optimizer,\n",
    "              loss='binary_crossentropy',\n",
    "              metrics=['accuracy'])"
   ],
   "metadata": {
    "collapsed": false,
    "ExecuteTime": {
     "end_time": "2023-06-13T03:44:59.158492800Z",
     "start_time": "2023-06-13T03:44:59.080491900Z"
    }
   }
  },
  {
   "cell_type": "code",
   "execution_count": 393,
   "outputs": [
    {
     "name": "stdout",
     "output_type": "stream",
     "text": [
      "Epoch 1/30\n",
      "428/428 [==============================] - 9s 19ms/step - loss: 0.6362 - accuracy: 0.6635 - val_loss: 0.6065 - val_accuracy: 0.6963\n",
      "Epoch 2/30\n",
      "428/428 [==============================] - 9s 20ms/step - loss: 0.6238 - accuracy: 0.6635 - val_loss: 0.5999 - val_accuracy: 0.6963\n",
      "Epoch 3/30\n",
      "428/428 [==============================] - 10s 23ms/step - loss: 0.6108 - accuracy: 0.6646 - val_loss: 0.5892 - val_accuracy: 0.6963\n",
      "Epoch 4/30\n",
      "428/428 [==============================] - 10s 23ms/step - loss: 0.5961 - accuracy: 0.6658 - val_loss: 0.5796 - val_accuracy: 0.7060\n",
      "Epoch 5/30\n",
      "428/428 [==============================] - 7s 17ms/step - loss: 0.5788 - accuracy: 0.6740 - val_loss: 0.5605 - val_accuracy: 0.7143\n",
      "Epoch 6/30\n",
      "428/428 [==============================] - 7s 17ms/step - loss: 0.5570 - accuracy: 0.6991 - val_loss: 0.5395 - val_accuracy: 0.7351\n",
      "Epoch 7/30\n",
      "428/428 [==============================] - 7s 17ms/step - loss: 0.5376 - accuracy: 0.7151 - val_loss: 0.5195 - val_accuracy: 0.7351\n",
      "Epoch 8/30\n",
      "428/428 [==============================] - 7s 17ms/step - loss: 0.5159 - accuracy: 0.7387 - val_loss: 0.5101 - val_accuracy: 0.7906\n",
      "Epoch 9/30\n",
      "428/428 [==============================] - 7s 17ms/step - loss: 0.4970 - accuracy: 0.7569 - val_loss: 0.4871 - val_accuracy: 0.7656\n",
      "Epoch 10/30\n",
      "428/428 [==============================] - 7s 17ms/step - loss: 0.4821 - accuracy: 0.7701 - val_loss: 0.4772 - val_accuracy: 0.7975\n",
      "Epoch 11/30\n",
      "428/428 [==============================] - 7s 17ms/step - loss: 0.4686 - accuracy: 0.7834 - val_loss: 0.4709 - val_accuracy: 0.8044\n",
      "Epoch 12/30\n",
      "428/428 [==============================] - 7s 17ms/step - loss: 0.4552 - accuracy: 0.7902 - val_loss: 0.4597 - val_accuracy: 0.8072\n",
      "Epoch 13/30\n",
      "428/428 [==============================] - 7s 17ms/step - loss: 0.4459 - accuracy: 0.7972 - val_loss: 0.4498 - val_accuracy: 0.8031\n",
      "Epoch 14/30\n",
      "428/428 [==============================] - 7s 17ms/step - loss: 0.4356 - accuracy: 0.8043 - val_loss: 0.4421 - val_accuracy: 0.7961\n",
      "Epoch 15/30\n",
      "428/428 [==============================] - 7s 17ms/step - loss: 0.4277 - accuracy: 0.8110 - val_loss: 0.4419 - val_accuracy: 0.8155\n",
      "Epoch 16/30\n",
      "428/428 [==============================] - 7s 17ms/step - loss: 0.4189 - accuracy: 0.8145 - val_loss: 0.4447 - val_accuracy: 0.8155\n",
      "Epoch 17/30\n",
      "428/428 [==============================] - 7s 17ms/step - loss: 0.4112 - accuracy: 0.8211 - val_loss: 0.4299 - val_accuracy: 0.8031\n",
      "Epoch 18/30\n",
      "428/428 [==============================] - 7s 17ms/step - loss: 0.4063 - accuracy: 0.8193 - val_loss: 0.4267 - val_accuracy: 0.8086\n",
      "Epoch 19/30\n",
      "428/428 [==============================] - 7s 17ms/step - loss: 0.3993 - accuracy: 0.8228 - val_loss: 0.4232 - val_accuracy: 0.8128\n",
      "Epoch 20/30\n",
      "428/428 [==============================] - 7s 17ms/step - loss: 0.3940 - accuracy: 0.8298 - val_loss: 0.4277 - val_accuracy: 0.8225\n",
      "Epoch 21/30\n",
      "428/428 [==============================] - 8s 18ms/step - loss: 0.3880 - accuracy: 0.8284 - val_loss: 0.4540 - val_accuracy: 0.8100\n",
      "Epoch 22/30\n",
      "428/428 [==============================] - 8s 18ms/step - loss: 0.3845 - accuracy: 0.8311 - val_loss: 0.4191 - val_accuracy: 0.8183\n",
      "Epoch 23/30\n",
      "428/428 [==============================] - 7s 17ms/step - loss: 0.3793 - accuracy: 0.8349 - val_loss: 0.4171 - val_accuracy: 0.8141\n",
      "Epoch 24/30\n",
      "428/428 [==============================] - 7s 17ms/step - loss: 0.3745 - accuracy: 0.8365 - val_loss: 0.4193 - val_accuracy: 0.8211\n",
      "Epoch 25/30\n",
      "428/428 [==============================] - 7s 17ms/step - loss: 0.3702 - accuracy: 0.8376 - val_loss: 0.4159 - val_accuracy: 0.8197\n",
      "Epoch 26/30\n",
      "428/428 [==============================] - 7s 17ms/step - loss: 0.3654 - accuracy: 0.8419 - val_loss: 0.4260 - val_accuracy: 0.8197\n",
      "Epoch 27/30\n",
      "428/428 [==============================] - 7s 17ms/step - loss: 0.3624 - accuracy: 0.8412 - val_loss: 0.4166 - val_accuracy: 0.8197\n",
      "Epoch 28/30\n",
      "428/428 [==============================] - 7s 17ms/step - loss: 0.3590 - accuracy: 0.8410 - val_loss: 0.4402 - val_accuracy: 0.8155\n",
      "Epoch 29/30\n",
      "428/428 [==============================] - 7s 17ms/step - loss: 0.3557 - accuracy: 0.8436 - val_loss: 0.4205 - val_accuracy: 0.8072\n",
      "Epoch 30/30\n",
      "428/428 [==============================] - 7s 17ms/step - loss: 0.3524 - accuracy: 0.8407 - val_loss: 0.4150 - val_accuracy: 0.8169\n"
     ]
    },
    {
     "data": {
      "text/plain": "<keras.callbacks.History at 0x2a5495b7d48>"
     },
     "execution_count": 393,
     "metadata": {},
     "output_type": "execute_result"
    }
   ],
   "source": [
    "model_cbow.fit(X_train, y_train,\n",
    "          validation_data=(X_valid, y_valid),\n",
    "          batch_size=32,\n",
    "         epochs=30)"
   ],
   "metadata": {
    "collapsed": false,
    "ExecuteTime": {
     "end_time": "2023-06-13T03:48:48.144166Z",
     "start_time": "2023-06-13T03:44:59.159497900Z"
    }
   }
  },
  {
   "cell_type": "code",
   "execution_count": 394,
   "outputs": [
    {
     "name": "stdout",
     "output_type": "stream",
     "text": [
      "dict_keys(['loss', 'accuracy', 'val_loss', 'val_accuracy'])\n"
     ]
    },
    {
     "data": {
      "text/plain": "<Figure size 640x480 with 1 Axes>",
      "image/png": "[encoded data removed]"
     },
     "metadata": {},
     "output_type": "display_data"
    }
   ],
   "source": [
    "print(model_cbow.history.history.keys())\n",
    "# summarize history for accuracy\n",
    "plt.plot(model_cbow.history.history['accuracy'])\n",
    "plt.plot(model_cbow.history.history['val_accuracy'])\n",
    "plt.title('model accuracy')\n",
    "plt.ylabel('accuracy')\n",
    "plt.xlabel('epoch')\n",
    "plt.legend(['train', 'val'], loc='upper left')\n",
    "plt.show()"
   ],
   "metadata": {
    "collapsed": false,
    "ExecuteTime": {
     "end_time": "2023-06-13T03:48:48.315889900Z",
     "start_time": "2023-06-13T03:48:48.146168400Z"
    }
   }
  },
  {
   "cell_type": "code",
   "execution_count": 396,
   "outputs": [
    {
     "data": {
      "text/plain": "0.8436198830604553"
     },
     "execution_count": 396,
     "metadata": {},
     "output_type": "execute_result"
    }
   ],
   "source": [
    "max(model_cbow.history.history['accuracy'])"
   ],
   "metadata": {
    "collapsed": false,
    "ExecuteTime": {
     "end_time": "2023-06-13T04:02:34.185207Z",
     "start_time": "2023-06-13T04:02:34.169074400Z"
    }
   }
  },
  {
   "cell_type": "code",
   "execution_count": 443,
   "outputs": [
    {
     "data": {
      "text/plain": "0.8642904162406921"
     },
     "execution_count": 443,
     "metadata": {},
     "output_type": "execute_result"
    }
   ],
   "source": [
    "max(model_skip.history.history['accuracy'])"
   ],
   "metadata": {
    "collapsed": false,
    "ExecuteTime": {
     "end_time": "2023-06-13T07:00:59.113409100Z",
     "start_time": "2023-06-13T07:00:59.094408400Z"
    }
   }
  },
  {
   "cell_type": "code",
   "execution_count": 444,
   "outputs": [
    {
     "data": {
      "text/plain": "0.8592506051063538"
     },
     "execution_count": 444,
     "metadata": {},
     "output_type": "execute_result"
    }
   ],
   "source": [
    "max(model_w2v.history.history['accuracy'])"
   ],
   "metadata": {
    "collapsed": false,
    "ExecuteTime": {
     "end_time": "2023-06-13T07:01:38.557451800Z",
     "start_time": "2023-06-13T07:01:38.534863300Z"
    }
   }
  },
  {
   "cell_type": "code",
   "execution_count": 445,
   "outputs": [
    {
     "data": {
      "text/plain": "0.8577167391777039"
     },
     "execution_count": 445,
     "metadata": {},
     "output_type": "execute_result"
    }
   ],
   "source": [
    "max(model_ft.history.history['accuracy'])"
   ],
   "metadata": {
    "collapsed": false,
    "ExecuteTime": {
     "end_time": "2023-06-13T07:01:50.965645600Z",
     "start_time": "2023-06-13T07:01:50.939731600Z"
    }
   }
  },
  {
   "cell_type": "markdown",
   "source": [
    "# rus_vectores"
   ],
   "metadata": {
    "collapsed": false
   }
  },
  {
   "cell_type": "code",
   "execution_count": 24,
   "outputs": [],
   "source": [
    "import gensim\n",
    "model_pre = gensim.models.KeyedVectors.load_word2vec_format('180/model.bin', binary=True)"
   ],
   "metadata": {
    "collapsed": false,
    "ExecuteTime": {
     "end_time": "2023-06-14T12:15:48.511079500Z",
     "start_time": "2023-06-14T12:15:47.451471500Z"
    }
   }
  },
  {
   "cell_type": "code",
   "execution_count": 25,
   "outputs": [],
   "source": [
    "mapping = {}\n",
    "\n",
    "for line in open('./ru-rnc.map'):\n",
    "    ms, ud = line.strip('\\n').split()\n",
    "    mapping[ms] = ud"
   ],
   "metadata": {
    "collapsed": false,
    "ExecuteTime": {
     "end_time": "2023-06-14T12:15:49.054681900Z",
     "start_time": "2023-06-14T12:15:49.037635400Z"
    }
   }
  },
  {
   "cell_type": "code",
   "execution_count": 26,
   "outputs": [
    {
     "data": {
      "text/plain": "{'A': 'ADJ',\n 'ADV': 'ADV',\n 'ADVPRO': 'ADV',\n 'ANUM': 'ADJ',\n 'APRO': 'DET',\n 'COM': 'ADJ',\n 'CONJ': 'SCONJ',\n 'INTJ': 'INTJ',\n 'NONLEX': 'X',\n 'NUM': 'NUM',\n 'PART': 'PART',\n 'PR': 'ADP',\n 'S': 'NOUN',\n 'SPRO': 'PRON',\n 'UNKN': 'X',\n 'V': 'VERB'}"
     },
     "execution_count": 26,
     "metadata": {},
     "output_type": "execute_result"
    }
   ],
   "source": [
    "mapping"
   ],
   "metadata": {
    "collapsed": false,
    "ExecuteTime": {
     "end_time": "2023-06-14T12:15:50.178655900Z",
     "start_time": "2023-06-14T12:15:50.152500200Z"
    }
   }
  },
  {
   "cell_type": "code",
   "execution_count": 27,
   "outputs": [],
   "source": [
    "from pymystem3 import Mystem\n",
    "m = Mystem()"
   ],
   "metadata": {
    "collapsed": false,
    "ExecuteTime": {
     "end_time": "2023-06-14T12:15:52.468802100Z",
     "start_time": "2023-06-14T12:15:52.450901500Z"
    }
   }
  },
  {
   "cell_type": "code",
   "execution_count": 28,
   "outputs": [],
   "source": [
    "def normalize_mystem(text):\n",
    "    tokens = []\n",
    "    norm_words = m.analyze(text)\n",
    "    for norm_word in norm_words:\n",
    "        if 'analysis' not in norm_word:\n",
    "            continue\n",
    "\n",
    "        if not len(norm_word['analysis']):\n",
    "            lemma = norm_word['text']\n",
    "            pos = 'UNKN'\n",
    "        else:\n",
    "            lemma = norm_word[\"analysis\"][0][\"lex\"].lower().strip()\n",
    "            pos = norm_word[\"analysis\"][0][\"gr\"].split(',')[0]\n",
    "            pos = pos.split('=')[0].strip()\n",
    "        pos = mapping[pos]\n",
    "        tokens.append(lemma+'_'+pos)\n",
    "\n",
    "    return tokens"
   ],
   "metadata": {
    "collapsed": false,
    "ExecuteTime": {
     "end_time": "2023-06-14T12:15:52.845465200Z",
     "start_time": "2023-06-14T12:15:52.824837Z"
    }
   }
  },
  {
   "cell_type": "code",
   "execution_count": 29,
   "outputs": [
    {
     "data": {
      "text/plain": "['обучать_VERB',\n 'классификатор_NOUN',\n 'парафраз_NOUN',\n 'на_ADP',\n 'предобученный_ADJ',\n 'модель_NOUN',\n 'вы_PRON',\n 'нужно_ADV',\n 'быть_VERB',\n 'дома_ADV']"
     },
     "execution_count": 29,
     "metadata": {},
     "output_type": "execute_result"
    }
   ],
   "source": [
    "normalize_mystem('Обучить классификатор парафразов на предобученной модели вам нужно будет дома')"
   ],
   "metadata": {
    "collapsed": false,
    "ExecuteTime": {
     "end_time": "2023-06-14T12:15:56.006177700Z",
     "start_time": "2023-06-14T12:15:55.296927100Z"
    }
   }
  },
  {
   "cell_type": "code",
   "execution_count": 30,
   "outputs": [],
   "source": [
    "def text_embedding(tokens):\n",
    "    # Initialize an array to store the embeddings\n",
    "    embeddings = np.zeros((1, model_pre.vector_size))\n",
    "\n",
    "    # Compute the average embedding for the text\n",
    "    count = 0\n",
    "    for token in tokens:\n",
    "        if token in model_pre:\n",
    "            embeddings += model_pre[token]\n",
    "            count += 1\n",
    "    if count > 0:\n",
    "        embeddings /= count\n",
    "\n",
    "    return embeddings"
   ],
   "metadata": {
    "collapsed": false,
    "ExecuteTime": {
     "end_time": "2023-06-14T12:16:04.615990900Z",
     "start_time": "2023-06-14T12:16:04.586721100Z"
    }
   }
  },
  {
   "cell_type": "code",
   "execution_count": 32,
   "outputs": [],
   "source": [
    "data['mystem'] = data.comment.apply(normalize_mystem)"
   ],
   "metadata": {
    "collapsed": false,
    "ExecuteTime": {
     "end_time": "2023-06-14T14:26:55.473348800Z",
     "start_time": "2023-06-14T12:16:10.803361Z"
    }
   }
  },
  {
   "cell_type": "code",
   "execution_count": 33,
   "outputs": [
    {
     "data": {
      "text/plain": "                                                 comment  toxic  \\\n0                 Верблюдов-то за что? Дебилы, бл...\\r\\n    1.0   \n1      Хохлы, это отдушина затюканого россиянина, мол...    1.0   \n2                            Собаке - собачья смерть\\r\\n    1.0   \n3      Страницу обнови, дебил. Это тоже не оскорблени...    1.0   \n4      тебя не убедил 6-страничный пдф в том, что Скр...    1.0   \n...                                                  ...    ...   \n14407  Вонючий совковый скот прибежал и ноет. А вот и...    1.0   \n14408  А кого любить? Гоблина тупорылого что-ли? Или ...    1.0   \n14409  Посмотрел Утомленных солнцем 2. И оказалось, ч...    0.0   \n14410  КРЫМОТРЕД НАРУШАЕТ ПРАВИЛА РАЗДЕЛА Т.К В НЕМ Н...    1.0   \n14411  До сих пор пересматриваю его видео. Орамбо кст...    0.0   \n\n                                               norm_text  \\\n0                    [верблюдов-то, за, что, дебилы, бл]   \n1      [хохлы, это, отдушина, затюканого, россиянина,...   \n2                              [собаке, собачья, смерть]   \n3      [страницу, обнови, дебил, это, тоже, не, оскор...   \n4      [тебя, не, убедил, 6-страничный, пдф, в, том, ...   \n...                                                  ...   \n14407  [вонючий, совковый, скот, прибежал, и, ноет, а...   \n14408  [а, кого, любить, гоблина, тупорылого, что-ли,...   \n14409  [посмотрел, утомленных, солнцем, 2, и, оказало...   \n14410  [крымотред, нарушает, правила, раздела, т.к, в...   \n14411  [до, сих, пор, пересматриваю, его, видео, орам...   \n\n                                                  mystem  \n0      [верблюд_NOUN, то_PART, за_ADP, что_PRON, деби...  \n1      [хохол_NOUN, это_PART, отдушина_NOUN, затюканы...  \n2                [собака_NOUN, собачий_ADJ, смерть_NOUN]  \n3      [страница_NOUN, обновлять_VERB, дебил_NOUN, эт...  \n4      [ты_PRON, не_PART, убеждать_VERB, страничный_A...  \n...                                                  ...  \n14407  [вонючий_ADJ, совковый_ADJ, скот_NOUN, прибега...  \n14408  [а_SCONJ, кто_PRON, любить_VERB, гоблин_NOUN, ...  \n14409  [посмотреть_VERB, утомленный_ADJ, солнце_NOUN,...  \n14410  [крымотред_ADV, нарушать_VERB, правило_NOUN, р...  \n14411  [до_ADP, сей_DET, пора_NOUN, пересматривать_VE...  \n\n[14412 rows x 4 columns]",
      "text/html": "<div>\n<style scoped>\n    .dataframe tbody tr th:only-of-type {\n        vertical-align: middle;\n    }\n\n    .dataframe tbody tr th {\n        vertical-align: top;\n    }\n\n    .dataframe thead th {\n        text-align: right;\n    }\n</style>\n<table border=\"1\" class=\"dataframe\">\n  <thead>\n    <tr style=\"text-align: right;\">\n      <th></th>\n      <th>comment</th>\n      <th>toxic</th>\n      <th>norm_text</th>\n      <th>mystem</th>\n    </tr>\n  </thead>\n  <tbody>\n    <tr>\n      <th>0</th>\n      <td>Верблюдов-то за что? Дебилы, бл...\\r\\n</td>\n      <td>1.0</td>\n      <td>[верблюдов-то, за, что, дебилы, бл]</td>\n      <td>[верблюд_NOUN, то_PART, за_ADP, что_PRON, деби...</td>\n    </tr>\n    <tr>\n      <th>1</th>\n      <td>Хохлы, это отдушина затюканого россиянина, мол...</td>\n      <td>1.0</td>\n      <td>[хохлы, это, отдушина, затюканого, россиянина,...</td>\n      <td>[хохол_NOUN, это_PART, отдушина_NOUN, затюканы...</td>\n    </tr>\n    <tr>\n      <th>2</th>\n      <td>Собаке - собачья смерть\\r\\n</td>\n      <td>1.0</td>\n      <td>[собаке, собачья, смерть]</td>\n      <td>[собака_NOUN, собачий_ADJ, смерть_NOUN]</td>\n    </tr>\n    <tr>\n      <th>3</th>\n      <td>Страницу обнови, дебил. Это тоже не оскорблени...</td>\n      <td>1.0</td>\n      <td>[страницу, обнови, дебил, это, тоже, не, оскор...</td>\n      <td>[страница_NOUN, обновлять_VERB, дебил_NOUN, эт...</td>\n    </tr>\n    <tr>\n      <th>4</th>\n      <td>тебя не убедил 6-страничный пдф в том, что Скр...</td>\n      <td>1.0</td>\n      <td>[тебя, не, убедил, 6-страничный, пдф, в, том, ...</td>\n      <td>[ты_PRON, не_PART, убеждать_VERB, страничный_A...</td>\n    </tr>\n    <tr>\n      <th>...</th>\n      <td>...</td>\n      <td>...</td>\n      <td>...</td>\n      <td>...</td>\n    </tr>\n    <tr>\n      <th>14407</th>\n      <td>Вонючий совковый скот прибежал и ноет. А вот и...</td>\n      <td>1.0</td>\n      <td>[вонючий, совковый, скот, прибежал, и, ноет, а...</td>\n      <td>[вонючий_ADJ, совковый_ADJ, скот_NOUN, прибега...</td>\n    </tr>\n    <tr>\n      <th>14408</th>\n      <td>А кого любить? Гоблина тупорылого что-ли? Или ...</td>\n      <td>1.0</td>\n      <td>[а, кого, любить, гоблина, тупорылого, что-ли,...</td>\n      <td>[а_SCONJ, кто_PRON, любить_VERB, гоблин_NOUN, ...</td>\n    </tr>\n    <tr>\n      <th>14409</th>\n      <td>Посмотрел Утомленных солнцем 2. И оказалось, ч...</td>\n      <td>0.0</td>\n      <td>[посмотрел, утомленных, солнцем, 2, и, оказало...</td>\n      <td>[посмотреть_VERB, утомленный_ADJ, солнце_NOUN,...</td>\n    </tr>\n    <tr>\n      <th>14410</th>\n      <td>КРЫМОТРЕД НАРУШАЕТ ПРАВИЛА РАЗДЕЛА Т.К В НЕМ Н...</td>\n      <td>1.0</td>\n      <td>[крымотред, нарушает, правила, раздела, т.к, в...</td>\n      <td>[крымотред_ADV, нарушать_VERB, правило_NOUN, р...</td>\n    </tr>\n    <tr>\n      <th>14411</th>\n      <td>До сих пор пересматриваю его видео. Орамбо кст...</td>\n      <td>0.0</td>\n      <td>[до, сих, пор, пересматриваю, его, видео, орам...</td>\n      <td>[до_ADP, сей_DET, пора_NOUN, пересматривать_VE...</td>\n    </tr>\n  </tbody>\n</table>\n<p>14412 rows × 4 columns</p>\n</div>"
     },
     "execution_count": 33,
     "metadata": {},
     "output_type": "execute_result"
    }
   ],
   "source": [
    "data"
   ],
   "metadata": {
    "collapsed": false,
    "ExecuteTime": {
     "end_time": "2023-06-14T14:26:55.522180100Z",
     "start_time": "2023-06-14T14:26:55.505980Z"
    }
   }
  },
  {
   "cell_type": "code",
   "execution_count": 34,
   "outputs": [],
   "source": [
    "X = np.concatenate([text_embedding(tokens) for tokens in data['mystem']])\n",
    "y = data.toxic.values\n",
    "X_train, X_valid, y_train, y_valid = train_test_split(X, y, test_size=0.05)"
   ],
   "metadata": {
    "collapsed": false,
    "ExecuteTime": {
     "end_time": "2023-06-14T14:57:05.544419600Z",
     "start_time": "2023-06-14T14:57:04.695278200Z"
    }
   }
  },
  {
   "cell_type": "code",
   "execution_count": 35,
   "outputs": [],
   "source": [
    "# Create an input layer with the correct shape\n",
    "inputs = tf.keras.layers.Input(shape=(model_pre.vector_size,))\n",
    "\n",
    "# Create an output layer\n",
    "outputs = tf.keras.layers.Dense(1, activation='sigmoid')(inputs)\n",
    "\n",
    "# Create a model\n",
    "clf = tf.keras.Model(inputs=inputs, outputs=outputs)\n",
    "\n",
    "# Compile the model\n",
    "optimizer = tf.keras.optimizers.Adam()\n",
    "clf.compile(optimizer=optimizer,\n",
    "              loss='binary_crossentropy',\n",
    "              metrics=['accuracy'])"
   ],
   "metadata": {
    "collapsed": false,
    "ExecuteTime": {
     "end_time": "2023-06-14T14:57:08.139307900Z",
     "start_time": "2023-06-14T14:57:08.067178Z"
    }
   }
  },
  {
   "cell_type": "code",
   "execution_count": 36,
   "outputs": [
    {
     "name": "stdout",
     "output_type": "stream",
     "text": [
      "Epoch 1/30\n",
      "428/428 [==============================] - 1s 930us/step - loss: 0.4566 - accuracy: 0.7867 - val_loss: 0.3635 - val_accuracy: 0.8488\n",
      "Epoch 2/30\n",
      "428/428 [==============================] - 0s 659us/step - loss: 0.3917 - accuracy: 0.8331 - val_loss: 0.3466 - val_accuracy: 0.8544\n",
      "Epoch 3/30\n",
      "428/428 [==============================] - 0s 677us/step - loss: 0.3765 - accuracy: 0.8423 - val_loss: 0.3415 - val_accuracy: 0.8599\n",
      "Epoch 4/30\n",
      "428/428 [==============================] - 0s 658us/step - loss: 0.3682 - accuracy: 0.8474 - val_loss: 0.3375 - val_accuracy: 0.8585\n",
      "Epoch 5/30\n",
      "428/428 [==============================] - 0s 645us/step - loss: 0.3628 - accuracy: 0.8508 - val_loss: 0.3366 - val_accuracy: 0.8571\n",
      "Epoch 6/30\n",
      "428/428 [==============================] - 0s 660us/step - loss: 0.3598 - accuracy: 0.8497 - val_loss: 0.3317 - val_accuracy: 0.8669\n",
      "Epoch 7/30\n",
      "428/428 [==============================] - 0s 655us/step - loss: 0.3572 - accuracy: 0.8511 - val_loss: 0.3292 - val_accuracy: 0.8627\n",
      "Epoch 8/30\n",
      "428/428 [==============================] - 0s 664us/step - loss: 0.3558 - accuracy: 0.8541 - val_loss: 0.3255 - val_accuracy: 0.8696\n",
      "Epoch 9/30\n",
      "428/428 [==============================] - 0s 630us/step - loss: 0.3541 - accuracy: 0.8539 - val_loss: 0.3254 - val_accuracy: 0.8682\n",
      "Epoch 10/30\n",
      "428/428 [==============================] - 0s 675us/step - loss: 0.3534 - accuracy: 0.8536 - val_loss: 0.3228 - val_accuracy: 0.8696\n",
      "Epoch 11/30\n",
      "428/428 [==============================] - 0s 636us/step - loss: 0.3521 - accuracy: 0.8561 - val_loss: 0.3283 - val_accuracy: 0.8682\n",
      "Epoch 12/30\n",
      "428/428 [==============================] - 0s 646us/step - loss: 0.3516 - accuracy: 0.8558 - val_loss: 0.3249 - val_accuracy: 0.8682\n",
      "Epoch 13/30\n",
      "428/428 [==============================] - 0s 679us/step - loss: 0.3509 - accuracy: 0.8542 - val_loss: 0.3269 - val_accuracy: 0.8710\n",
      "Epoch 14/30\n",
      "428/428 [==============================] - 0s 670us/step - loss: 0.3505 - accuracy: 0.8560 - val_loss: 0.3259 - val_accuracy: 0.8710\n",
      "Epoch 15/30\n",
      "428/428 [==============================] - 0s 636us/step - loss: 0.3507 - accuracy: 0.8563 - val_loss: 0.3277 - val_accuracy: 0.8696\n",
      "Epoch 16/30\n",
      "428/428 [==============================] - 0s 673us/step - loss: 0.3506 - accuracy: 0.8570 - val_loss: 0.3251 - val_accuracy: 0.8696\n",
      "Epoch 17/30\n",
      "428/428 [==============================] - 0s 685us/step - loss: 0.3501 - accuracy: 0.8576 - val_loss: 0.3286 - val_accuracy: 0.8724\n",
      "Epoch 18/30\n",
      "428/428 [==============================] - 0s 634us/step - loss: 0.3495 - accuracy: 0.8580 - val_loss: 0.3280 - val_accuracy: 0.8655\n",
      "Epoch 19/30\n",
      "428/428 [==============================] - 0s 647us/step - loss: 0.3496 - accuracy: 0.8562 - val_loss: 0.3282 - val_accuracy: 0.8655\n",
      "Epoch 20/30\n",
      "428/428 [==============================] - 0s 682us/step - loss: 0.3495 - accuracy: 0.8576 - val_loss: 0.3261 - val_accuracy: 0.8669\n",
      "Epoch 21/30\n",
      "428/428 [==============================] - 0s 677us/step - loss: 0.3495 - accuracy: 0.8575 - val_loss: 0.3248 - val_accuracy: 0.8710\n",
      "Epoch 22/30\n",
      "428/428 [==============================] - 0s 651us/step - loss: 0.3495 - accuracy: 0.8579 - val_loss: 0.3281 - val_accuracy: 0.8710\n",
      "Epoch 23/30\n",
      "428/428 [==============================] - 0s 612us/step - loss: 0.3493 - accuracy: 0.8576 - val_loss: 0.3256 - val_accuracy: 0.8710\n",
      "Epoch 24/30\n",
      "428/428 [==============================] - 0s 641us/step - loss: 0.3494 - accuracy: 0.8580 - val_loss: 0.3286 - val_accuracy: 0.8655\n",
      "Epoch 25/30\n",
      "428/428 [==============================] - 0s 660us/step - loss: 0.3488 - accuracy: 0.8594 - val_loss: 0.3257 - val_accuracy: 0.8641\n",
      "Epoch 26/30\n",
      "428/428 [==============================] - 0s 637us/step - loss: 0.3493 - accuracy: 0.8580 - val_loss: 0.3268 - val_accuracy: 0.8696\n",
      "Epoch 27/30\n",
      "428/428 [==============================] - 0s 633us/step - loss: 0.3488 - accuracy: 0.8588 - val_loss: 0.3290 - val_accuracy: 0.8696\n",
      "Epoch 28/30\n",
      "428/428 [==============================] - 0s 655us/step - loss: 0.3495 - accuracy: 0.8579 - val_loss: 0.3236 - val_accuracy: 0.8710\n",
      "Epoch 29/30\n",
      "428/428 [==============================] - 0s 632us/step - loss: 0.3486 - accuracy: 0.8581 - val_loss: 0.3262 - val_accuracy: 0.8724\n",
      "Epoch 30/30\n",
      "428/428 [==============================] - 0s 618us/step - loss: 0.3491 - accuracy: 0.8583 - val_loss: 0.3274 - val_accuracy: 0.8682\n"
     ]
    },
    {
     "data": {
      "text/plain": "<keras.callbacks.History at 0x243ff6f5888>"
     },
     "execution_count": 36,
     "metadata": {},
     "output_type": "execute_result"
    }
   ],
   "source": [
    "clf.fit(X_train, y_train, validation_data=(X_valid, y_valid), batch_size=32, epochs=30)"
   ],
   "metadata": {
    "collapsed": false,
    "ExecuteTime": {
     "end_time": "2023-06-14T14:57:19.126120500Z",
     "start_time": "2023-06-14T14:57:10.258109200Z"
    }
   }
  },
  {
   "cell_type": "code",
   "execution_count": 37,
   "outputs": [
    {
     "name": "stdout",
     "output_type": "stream",
     "text": [
      "dict_keys(['loss', 'accuracy', 'val_loss', 'val_accuracy'])\n"
     ]
    },
    {
     "data": {
      "text/plain": "<Figure size 640x480 with 1 Axes>",
      "image/png": "[encoded data removed]"
     },
     "metadata": {},
     "output_type": "display_data"
    }
   ],
   "source": [
    "print(clf.history.history.keys())\n",
    "# summarize history for accuracy\n",
    "plt.plot(clf.history.history['accuracy'])\n",
    "plt.plot(clf.history.history['val_accuracy'])\n",
    "plt.title('model accuracy')\n",
    "plt.ylabel('accuracy')\n",
    "plt.xlabel('epoch')\n",
    "plt.legend(['train', 'val'], loc='upper left')\n",
    "plt.show()"
   ],
   "metadata": {
    "collapsed": false,
    "ExecuteTime": {
     "end_time": "2023-06-14T14:57:19.205454Z",
     "start_time": "2023-06-14T14:57:19.131120400Z"
    }
   }
  },
  {
   "cell_type": "code",
   "execution_count": null,
   "outputs": [],
   "source": [],
   "metadata": {
    "collapsed": false
   }
  }
 ],
 "metadata": {
  "kernelspec": {
   "display_name": "Python 3 (ipykernel)",
   "language": "python",
   "name": "python3"
  },
  "language_info": {
   "codemirror_mode": {
    "name": "ipython",
    "version": 3
   },
   "file_extension": ".py",
   "mimetype": "text/x-python",
   "name": "python",
   "nbconvert_exporter": "python",
   "pygments_lexer": "ipython3",
   "version": "3.9.13"
  }
 },
 "nbformat": 4,
 "nbformat_minor": 5
}
