{
 "cells": [
  {
   "cell_type": "markdown",
   "id": "b20f786e",
   "metadata": {},
   "source": [
    "# Домашнее задание № 2. Мешок слов"
   ]
  },
  {
   "cell_type": "markdown",
   "id": "0cf72d19",
   "metadata": {},
   "source": [
    "## Задание 1 (3 балла)"
   ]
  },
  {
   "cell_type": "markdown",
   "id": "4a045e99",
   "metadata": {},
   "source": [
    "У векторайзеров в sklearn есть встроенная токенизация на регулярных выражениях. Найдите способо заменить её на кастомную токенизацию"
   ]
  },
  {
   "cell_type": "markdown",
   "id": "90b4d453",
   "metadata": {},
   "source": [
    "Обучите векторайзер с дефолтной токенизацией и с токенизацией razdel.tokenize. Обучите классификатор (любой) с каждым из векторизаторов. Сравните метрики и выберете победителя. \n",
    "\n",
    "(в вашей тетрадке должен быть код обучения и все метрики; если вы сдаете в .py файлах то сохраните полученные метрики в отдельном файле или в комментариях)"
   ]
  },
  {
   "cell_type": "code",
   "execution_count": 657,
   "id": "129c4d2e",
   "metadata": {
    "ExecuteTime": {
     "end_time": "2023-06-07T15:13:43.633211900Z",
     "start_time": "2023-06-07T15:13:43.512159200Z"
    }
   },
   "outputs": [],
   "source": [
    "import pandas as pd\n",
    "from sklearn.feature_extraction.text import CountVectorizer, TfidfVectorizer\n",
    "from sklearn.linear_model import LogisticRegression\n",
    "from sklearn.tree import DecisionTreeClassifier\n",
    "from sklearn.neighbors import KNeighborsClassifier\n",
    "from sklearn.naive_bayes import MultinomialNB\n",
    "from sklearn.ensemble import RandomForestClassifier\n",
    "from sklearn.model_selection import train_test_split\n",
    "from sklearn.metrics import classification_report, accuracy_score\n",
    "from sklearn.metrics.pairwise import cosine_distances, cosine_similarity\n",
    "from razdel import tokenize\n",
    "\n",
    "from IPython.display import Image\n",
    "from IPython.core.display import HTML"
   ]
  },
  {
   "cell_type": "code",
   "execution_count": 658,
   "id": "b4314de5",
   "metadata": {
    "ExecuteTime": {
     "end_time": "2023-06-07T15:13:43.831050200Z",
     "start_time": "2023-06-07T15:13:43.515668600Z"
    }
   },
   "outputs": [
    {
     "data": {
      "text/plain": "toxic\n0.0    0.66514\n1.0    0.33486\nName: proportion, dtype: float64"
     },
     "execution_count": 658,
     "metadata": {},
     "output_type": "execute_result"
    }
   ],
   "source": [
    "data = pd.read_csv('labeled.csv')\n",
    "data.toxic.value_counts(normalize=True)"
   ]
  },
  {
   "cell_type": "code",
   "execution_count": 659,
   "outputs": [
    {
     "data": {
      "text/plain": "                                             comment  toxic\n0               Верблюдов-то за что? Дебилы, бл...\\n    1.0\n1  Хохлы, это отдушина затюканого россиянина, мол...    1.0\n2                          Собаке - собачья смерть\\n    1.0\n3  Страницу обнови, дебил. Это тоже не оскорблени...    1.0\n4  тебя не убедил 6-страничный пдф в том, что Скр...    1.0",
      "text/html": "<div>\n<style scoped>\n    .dataframe tbody tr th:only-of-type {\n        vertical-align: middle;\n    }\n\n    .dataframe tbody tr th {\n        vertical-align: top;\n    }\n\n    .dataframe thead th {\n        text-align: right;\n    }\n</style>\n<table border=\"1\" class=\"dataframe\">\n  <thead>\n    <tr style=\"text-align: right;\">\n      <th></th>\n      <th>comment</th>\n      <th>toxic</th>\n    </tr>\n  </thead>\n  <tbody>\n    <tr>\n      <th>0</th>\n      <td>Верблюдов-то за что? Дебилы, бл...\\n</td>\n      <td>1.0</td>\n    </tr>\n    <tr>\n      <th>1</th>\n      <td>Хохлы, это отдушина затюканого россиянина, мол...</td>\n      <td>1.0</td>\n    </tr>\n    <tr>\n      <th>2</th>\n      <td>Собаке - собачья смерть\\n</td>\n      <td>1.0</td>\n    </tr>\n    <tr>\n      <th>3</th>\n      <td>Страницу обнови, дебил. Это тоже не оскорблени...</td>\n      <td>1.0</td>\n    </tr>\n    <tr>\n      <th>4</th>\n      <td>тебя не убедил 6-страничный пдф в том, что Скр...</td>\n      <td>1.0</td>\n    </tr>\n  </tbody>\n</table>\n</div>"
     },
     "execution_count": 659,
     "metadata": {},
     "output_type": "execute_result"
    }
   ],
   "source": [
    "data.head()"
   ],
   "metadata": {
    "collapsed": false,
    "ExecuteTime": {
     "end_time": "2023-06-07T15:13:43.831050200Z",
     "start_time": "2023-06-07T15:13:43.589799200Z"
    }
   }
  },
  {
   "cell_type": "code",
   "execution_count": 660,
   "outputs": [],
   "source": [
    "def razdel_tokenize(text):\n",
    "    tokens = list(tokenize(text))\n",
    "    return [_.text for _ in tokens]"
   ],
   "metadata": {
    "collapsed": false,
    "ExecuteTime": {
     "end_time": "2023-06-07T15:13:43.831050200Z",
     "start_time": "2023-06-07T15:13:43.593817800Z"
    }
   }
  },
  {
   "cell_type": "code",
   "execution_count": 661,
   "outputs": [],
   "source": [
    "vectorizer_def = TfidfVectorizer(min_df=10, max_df=0.3)\n",
    "vectorizer_raz = TfidfVectorizer(min_df=10, max_df=0.3, tokenizer=razdel_tokenize)"
   ],
   "metadata": {
    "collapsed": false,
    "ExecuteTime": {
     "end_time": "2023-06-07T15:13:43.831050200Z",
     "start_time": "2023-06-07T15:13:43.602275400Z"
    }
   }
  },
  {
   "cell_type": "code",
   "execution_count": 662,
   "id": "1d2477b9",
   "metadata": {
    "ExecuteTime": {
     "end_time": "2023-06-07T15:13:43.831553700Z",
     "start_time": "2023-06-07T15:13:43.613741700Z"
    }
   },
   "outputs": [],
   "source": [
    "train, test = train_test_split(data, test_size=0.1, shuffle=True)\n",
    "train.reset_index(inplace=True)\n",
    "test.reset_index(inplace=True)"
   ]
  },
  {
   "cell_type": "code",
   "execution_count": 663,
   "id": "a07af34c",
   "metadata": {
    "ExecuteTime": {
     "end_time": "2023-06-07T15:13:45.441239Z",
     "start_time": "2023-06-07T15:13:43.624688100Z"
    }
   },
   "outputs": [
    {
     "name": "stderr",
     "output_type": "stream",
     "text": [
      "C:\\Users\\robst\\PycharmProjects\\HSE_NLP\\venv\\Lib\\site-packages\\sklearn\\feature_extraction\\text.py:528: UserWarning: The parameter 'token_pattern' will not be used since 'tokenizer' is not None'\n",
      "  warnings.warn(\n"
     ]
    }
   ],
   "source": [
    "default_X = vectorizer_def.fit_transform(train.comment)\n",
    "default_X_test = vectorizer_def.transform(test.comment)\n",
    "\n",
    "razdel_X = vectorizer_raz.fit_transform(train.comment)\n",
    "razdel_X_test = vectorizer_raz.transform(test.comment)"
   ]
  },
  {
   "cell_type": "code",
   "execution_count": 664,
   "outputs": [
    {
     "data": {
      "text/plain": "((12970, 3380), (1442, 3380))"
     },
     "execution_count": 664,
     "metadata": {},
     "output_type": "execute_result"
    }
   ],
   "source": [
    "default_X.shape, default_X_test.shape"
   ],
   "metadata": {
    "collapsed": false,
    "ExecuteTime": {
     "end_time": "2023-06-07T15:13:45.445261700Z",
     "start_time": "2023-06-07T15:13:45.442243100Z"
    }
   }
  },
  {
   "cell_type": "code",
   "execution_count": 665,
   "outputs": [
    {
     "data": {
      "text/plain": "((12970, 3437), (1442, 3437))"
     },
     "execution_count": 665,
     "metadata": {},
     "output_type": "execute_result"
    }
   ],
   "source": [
    "razdel_X.shape, razdel_X_test.shape"
   ],
   "metadata": {
    "collapsed": false,
    "ExecuteTime": {
     "end_time": "2023-06-07T15:13:45.462860100Z",
     "start_time": "2023-06-07T15:13:45.445261700Z"
    }
   }
  },
  {
   "cell_type": "code",
   "execution_count": 666,
   "outputs": [],
   "source": [
    "y = train.toxic.values\n",
    "y_test = test.toxic.values"
   ],
   "metadata": {
    "collapsed": false,
    "ExecuteTime": {
     "end_time": "2023-06-07T15:13:45.494056800Z",
     "start_time": "2023-06-07T15:13:45.463861300Z"
    }
   }
  },
  {
   "cell_type": "code",
   "execution_count": 667,
   "outputs": [],
   "source": [
    "clf_def = LogisticRegression(C=0.1, class_weight='balanced')\n",
    "clf_raz = LogisticRegression(C=0.1, class_weight='balanced')"
   ],
   "metadata": {
    "collapsed": false,
    "ExecuteTime": {
     "end_time": "2023-06-07T15:13:45.494056800Z",
     "start_time": "2023-06-07T15:13:45.471320500Z"
    }
   }
  },
  {
   "cell_type": "code",
   "execution_count": 668,
   "outputs": [
    {
     "data": {
      "text/plain": "LogisticRegression(C=0.1, class_weight='balanced')",
      "text/html": "<style>#sk-container-id-6 {color: black;background-color: white;}#sk-container-id-6 pre{padding: 0;}#sk-container-id-6 div.sk-toggleable {background-color: white;}#sk-container-id-6 label.sk-toggleable__label {cursor: pointer;display: block;width: 100%;margin-bottom: 0;padding: 0.3em;box-sizing: border-box;text-align: center;}#sk-container-id-6 label.sk-toggleable__label-arrow:before {content: \"▸\";float: left;margin-right: 0.25em;color: #696969;}#sk-container-id-6 label.sk-toggleable__label-arrow:hover:before {color: black;}#sk-container-id-6 div.sk-estimator:hover label.sk-toggleable__label-arrow:before {color: black;}#sk-container-id-6 div.sk-toggleable__content {max-height: 0;max-width: 0;overflow: hidden;text-align: left;background-color: #f0f8ff;}#sk-container-id-6 div.sk-toggleable__content pre {margin: 0.2em;color: black;border-radius: 0.25em;background-color: #f0f8ff;}#sk-container-id-6 input.sk-toggleable__control:checked~div.sk-toggleable__content {max-height: 200px;max-width: 100%;overflow: auto;}#sk-container-id-6 input.sk-toggleable__control:checked~label.sk-toggleable__label-arrow:before {content: \"▾\";}#sk-container-id-6 div.sk-estimator input.sk-toggleable__control:checked~label.sk-toggleable__label {background-color: #d4ebff;}#sk-container-id-6 div.sk-label input.sk-toggleable__control:checked~label.sk-toggleable__label {background-color: #d4ebff;}#sk-container-id-6 input.sk-hidden--visually {border: 0;clip: rect(1px 1px 1px 1px);clip: rect(1px, 1px, 1px, 1px);height: 1px;margin: -1px;overflow: hidden;padding: 0;position: absolute;width: 1px;}#sk-container-id-6 div.sk-estimator {font-family: monospace;background-color: #f0f8ff;border: 1px dotted black;border-radius: 0.25em;box-sizing: border-box;margin-bottom: 0.5em;}#sk-container-id-6 div.sk-estimator:hover {background-color: #d4ebff;}#sk-container-id-6 div.sk-parallel-item::after {content: \"\";width: 100%;border-bottom: 1px solid gray;flex-grow: 1;}#sk-container-id-6 div.sk-label:hover label.sk-toggleable__label {background-color: #d4ebff;}#sk-container-id-6 div.sk-serial::before {content: \"\";position: absolute;border-left: 1px solid gray;box-sizing: border-box;top: 0;bottom: 0;left: 50%;z-index: 0;}#sk-container-id-6 div.sk-serial {display: flex;flex-direction: column;align-items: center;background-color: white;padding-right: 0.2em;padding-left: 0.2em;position: relative;}#sk-container-id-6 div.sk-item {position: relative;z-index: 1;}#sk-container-id-6 div.sk-parallel {display: flex;align-items: stretch;justify-content: center;background-color: white;position: relative;}#sk-container-id-6 div.sk-item::before, #sk-container-id-6 div.sk-parallel-item::before {content: \"\";position: absolute;border-left: 1px solid gray;box-sizing: border-box;top: 0;bottom: 0;left: 50%;z-index: -1;}#sk-container-id-6 div.sk-parallel-item {display: flex;flex-direction: column;z-index: 1;position: relative;background-color: white;}#sk-container-id-6 div.sk-parallel-item:first-child::after {align-self: flex-end;width: 50%;}#sk-container-id-6 div.sk-parallel-item:last-child::after {align-self: flex-start;width: 50%;}#sk-container-id-6 div.sk-parallel-item:only-child::after {width: 0;}#sk-container-id-6 div.sk-dashed-wrapped {border: 1px dashed gray;margin: 0 0.4em 0.5em 0.4em;box-sizing: border-box;padding-bottom: 0.4em;background-color: white;}#sk-container-id-6 div.sk-label label {font-family: monospace;font-weight: bold;display: inline-block;line-height: 1.2em;}#sk-container-id-6 div.sk-label-container {text-align: center;}#sk-container-id-6 div.sk-container {/* jupyter's `normalize.less` sets `[hidden] { display: none; }` but bootstrap.min.css set `[hidden] { display: none !important; }` so we also need the `!important` here to be able to override the default hidden behavior on the sphinx rendered scikit-learn.org. See: https://github.com/scikit-learn/scikit-learn/issues/21755 */display: inline-block !important;position: relative;}#sk-container-id-6 div.sk-text-repr-fallback {display: none;}</style><div id=\"sk-container-id-6\" class=\"sk-top-container\"><div class=\"sk-text-repr-fallback\"><pre>LogisticRegression(C=0.1, class_weight=&#x27;balanced&#x27;)</pre><b>In a Jupyter environment, please rerun this cell to show the HTML representation or trust the notebook. <br />On GitHub, the HTML representation is unable to render, please try loading this page with nbviewer.org.</b></div><div class=\"sk-container\" hidden><div class=\"sk-item\"><div class=\"sk-estimator sk-toggleable\"><input class=\"sk-toggleable__control sk-hidden--visually\" id=\"sk-estimator-id-6\" type=\"checkbox\" checked><label for=\"sk-estimator-id-6\" class=\"sk-toggleable__label sk-toggleable__label-arrow\">LogisticRegression</label><div class=\"sk-toggleable__content\"><pre>LogisticRegression(C=0.1, class_weight=&#x27;balanced&#x27;)</pre></div></div></div></div></div>"
     },
     "execution_count": 668,
     "metadata": {},
     "output_type": "execute_result"
    }
   ],
   "source": [
    "clf_def.fit(default_X, y)"
   ],
   "metadata": {
    "collapsed": false,
    "ExecuteTime": {
     "end_time": "2023-06-07T15:13:45.505715300Z",
     "start_time": "2023-06-07T15:13:45.478099200Z"
    }
   }
  },
  {
   "cell_type": "code",
   "execution_count": 669,
   "outputs": [
    {
     "data": {
      "text/plain": "LogisticRegression(C=0.1, class_weight='balanced')",
      "text/html": "<style>#sk-container-id-7 {color: black;background-color: white;}#sk-container-id-7 pre{padding: 0;}#sk-container-id-7 div.sk-toggleable {background-color: white;}#sk-container-id-7 label.sk-toggleable__label {cursor: pointer;display: block;width: 100%;margin-bottom: 0;padding: 0.3em;box-sizing: border-box;text-align: center;}#sk-container-id-7 label.sk-toggleable__label-arrow:before {content: \"▸\";float: left;margin-right: 0.25em;color: #696969;}#sk-container-id-7 label.sk-toggleable__label-arrow:hover:before {color: black;}#sk-container-id-7 div.sk-estimator:hover label.sk-toggleable__label-arrow:before {color: black;}#sk-container-id-7 div.sk-toggleable__content {max-height: 0;max-width: 0;overflow: hidden;text-align: left;background-color: #f0f8ff;}#sk-container-id-7 div.sk-toggleable__content pre {margin: 0.2em;color: black;border-radius: 0.25em;background-color: #f0f8ff;}#sk-container-id-7 input.sk-toggleable__control:checked~div.sk-toggleable__content {max-height: 200px;max-width: 100%;overflow: auto;}#sk-container-id-7 input.sk-toggleable__control:checked~label.sk-toggleable__label-arrow:before {content: \"▾\";}#sk-container-id-7 div.sk-estimator input.sk-toggleable__control:checked~label.sk-toggleable__label {background-color: #d4ebff;}#sk-container-id-7 div.sk-label input.sk-toggleable__control:checked~label.sk-toggleable__label {background-color: #d4ebff;}#sk-container-id-7 input.sk-hidden--visually {border: 0;clip: rect(1px 1px 1px 1px);clip: rect(1px, 1px, 1px, 1px);height: 1px;margin: -1px;overflow: hidden;padding: 0;position: absolute;width: 1px;}#sk-container-id-7 div.sk-estimator {font-family: monospace;background-color: #f0f8ff;border: 1px dotted black;border-radius: 0.25em;box-sizing: border-box;margin-bottom: 0.5em;}#sk-container-id-7 div.sk-estimator:hover {background-color: #d4ebff;}#sk-container-id-7 div.sk-parallel-item::after {content: \"\";width: 100%;border-bottom: 1px solid gray;flex-grow: 1;}#sk-container-id-7 div.sk-label:hover label.sk-toggleable__label {background-color: #d4ebff;}#sk-container-id-7 div.sk-serial::before {content: \"\";position: absolute;border-left: 1px solid gray;box-sizing: border-box;top: 0;bottom: 0;left: 50%;z-index: 0;}#sk-container-id-7 div.sk-serial {display: flex;flex-direction: column;align-items: center;background-color: white;padding-right: 0.2em;padding-left: 0.2em;position: relative;}#sk-container-id-7 div.sk-item {position: relative;z-index: 1;}#sk-container-id-7 div.sk-parallel {display: flex;align-items: stretch;justify-content: center;background-color: white;position: relative;}#sk-container-id-7 div.sk-item::before, #sk-container-id-7 div.sk-parallel-item::before {content: \"\";position: absolute;border-left: 1px solid gray;box-sizing: border-box;top: 0;bottom: 0;left: 50%;z-index: -1;}#sk-container-id-7 div.sk-parallel-item {display: flex;flex-direction: column;z-index: 1;position: relative;background-color: white;}#sk-container-id-7 div.sk-parallel-item:first-child::after {align-self: flex-end;width: 50%;}#sk-container-id-7 div.sk-parallel-item:last-child::after {align-self: flex-start;width: 50%;}#sk-container-id-7 div.sk-parallel-item:only-child::after {width: 0;}#sk-container-id-7 div.sk-dashed-wrapped {border: 1px dashed gray;margin: 0 0.4em 0.5em 0.4em;box-sizing: border-box;padding-bottom: 0.4em;background-color: white;}#sk-container-id-7 div.sk-label label {font-family: monospace;font-weight: bold;display: inline-block;line-height: 1.2em;}#sk-container-id-7 div.sk-label-container {text-align: center;}#sk-container-id-7 div.sk-container {/* jupyter's `normalize.less` sets `[hidden] { display: none; }` but bootstrap.min.css set `[hidden] { display: none !important; }` so we also need the `!important` here to be able to override the default hidden behavior on the sphinx rendered scikit-learn.org. See: https://github.com/scikit-learn/scikit-learn/issues/21755 */display: inline-block !important;position: relative;}#sk-container-id-7 div.sk-text-repr-fallback {display: none;}</style><div id=\"sk-container-id-7\" class=\"sk-top-container\"><div class=\"sk-text-repr-fallback\"><pre>LogisticRegression(C=0.1, class_weight=&#x27;balanced&#x27;)</pre><b>In a Jupyter environment, please rerun this cell to show the HTML representation or trust the notebook. <br />On GitHub, the HTML representation is unable to render, please try loading this page with nbviewer.org.</b></div><div class=\"sk-container\" hidden><div class=\"sk-item\"><div class=\"sk-estimator sk-toggleable\"><input class=\"sk-toggleable__control sk-hidden--visually\" id=\"sk-estimator-id-7\" type=\"checkbox\" checked><label for=\"sk-estimator-id-7\" class=\"sk-toggleable__label sk-toggleable__label-arrow\">LogisticRegression</label><div class=\"sk-toggleable__content\"><pre>LogisticRegression(C=0.1, class_weight=&#x27;balanced&#x27;)</pre></div></div></div></div></div>"
     },
     "execution_count": 669,
     "metadata": {},
     "output_type": "execute_result"
    }
   ],
   "source": [
    "clf_raz.fit(razdel_X, y)"
   ],
   "metadata": {
    "collapsed": false,
    "ExecuteTime": {
     "end_time": "2023-06-07T15:13:45.541490100Z",
     "start_time": "2023-06-07T15:13:45.505715300Z"
    }
   }
  },
  {
   "cell_type": "code",
   "execution_count": 670,
   "outputs": [],
   "source": [
    "preds_def = clf_def.predict(default_X_test)"
   ],
   "metadata": {
    "collapsed": false,
    "ExecuteTime": {
     "end_time": "2023-06-07T15:13:45.551163200Z",
     "start_time": "2023-06-07T15:13:45.528400Z"
    }
   }
  },
  {
   "cell_type": "code",
   "execution_count": 671,
   "outputs": [],
   "source": [
    "preds_raz = clf_raz.predict(razdel_X_test)"
   ],
   "metadata": {
    "collapsed": false,
    "ExecuteTime": {
     "end_time": "2023-06-07T15:13:45.551163200Z",
     "start_time": "2023-06-07T15:13:45.533421600Z"
    }
   }
  },
  {
   "cell_type": "code",
   "execution_count": 672,
   "outputs": [
    {
     "data": {
      "text/plain": "array([1., 0., 1., ..., 0., 0., 0.])"
     },
     "execution_count": 672,
     "metadata": {},
     "output_type": "execute_result"
    }
   ],
   "source": [
    "preds_def"
   ],
   "metadata": {
    "collapsed": false,
    "ExecuteTime": {
     "end_time": "2023-06-07T15:13:45.551902800Z",
     "start_time": "2023-06-07T15:13:45.541490100Z"
    }
   }
  },
  {
   "cell_type": "code",
   "execution_count": 673,
   "outputs": [
    {
     "data": {
      "text/plain": "array([1., 0., 1., ..., 0., 0., 0.])"
     },
     "execution_count": 673,
     "metadata": {},
     "output_type": "execute_result"
    }
   ],
   "source": [
    "preds_raz"
   ],
   "metadata": {
    "collapsed": false,
    "ExecuteTime": {
     "end_time": "2023-06-07T15:13:45.560355200Z",
     "start_time": "2023-06-07T15:13:45.548163100Z"
    }
   }
  },
  {
   "cell_type": "code",
   "execution_count": 674,
   "outputs": [
    {
     "name": "stdout",
     "output_type": "stream",
     "text": [
      "              precision    recall  f1-score   support\n",
      "\n",
      "         0.0       0.89      0.84      0.86       985\n",
      "         1.0       0.69      0.77      0.73       457\n",
      "\n",
      "    accuracy                           0.82      1442\n",
      "   macro avg       0.79      0.80      0.79      1442\n",
      "weighted avg       0.82      0.82      0.82      1442\n",
      "\n"
     ]
    }
   ],
   "source": [
    "print(classification_report(y_test, preds_def, zero_division=0))"
   ],
   "metadata": {
    "collapsed": false,
    "ExecuteTime": {
     "end_time": "2023-06-07T15:13:45.565881400Z",
     "start_time": "2023-06-07T15:13:45.555847Z"
    }
   }
  },
  {
   "cell_type": "code",
   "execution_count": 675,
   "outputs": [
    {
     "name": "stdout",
     "output_type": "stream",
     "text": [
      "              precision    recall  f1-score   support\n",
      "\n",
      "         0.0       0.88      0.84      0.86       985\n",
      "         1.0       0.69      0.76      0.72       457\n",
      "\n",
      "    accuracy                           0.82      1442\n",
      "   macro avg       0.79      0.80      0.79      1442\n",
      "weighted avg       0.82      0.82      0.82      1442\n",
      "\n"
     ]
    }
   ],
   "source": [
    "print(classification_report(y_test, preds_raz, zero_division=0))"
   ],
   "metadata": {
    "collapsed": false,
    "ExecuteTime": {
     "end_time": "2023-06-07T15:13:45.598381100Z",
     "start_time": "2023-06-07T15:13:45.564880500Z"
    }
   }
  },
  {
   "cell_type": "code",
   "execution_count": 676,
   "outputs": [],
   "source": [
    "probas_def = clf_def.predict_proba(default_X_test)\n",
    "probas_raz = clf_raz.predict_proba(razdel_X_test)"
   ],
   "metadata": {
    "collapsed": false,
    "ExecuteTime": {
     "end_time": "2023-06-07T15:13:45.598381100Z",
     "start_time": "2023-06-07T15:13:45.573389800Z"
    }
   }
  },
  {
   "cell_type": "code",
   "execution_count": 677,
   "outputs": [
    {
     "data": {
      "text/plain": "array([[0.49453097, 0.50546903],\n       [0.5828941 , 0.4171059 ],\n       [0.27883016, 0.72116984],\n       ...,\n       [0.70526961, 0.29473039],\n       [0.61567224, 0.38432776],\n       [0.6194527 , 0.3805473 ]])"
     },
     "execution_count": 677,
     "metadata": {},
     "output_type": "execute_result"
    }
   ],
   "source": [
    "probas_def"
   ],
   "metadata": {
    "collapsed": false,
    "ExecuteTime": {
     "end_time": "2023-06-07T15:13:45.598381100Z",
     "start_time": "2023-06-07T15:13:45.576613Z"
    }
   }
  },
  {
   "cell_type": "code",
   "execution_count": 678,
   "outputs": [
    {
     "data": {
      "text/plain": "array([[0.49143227, 0.50856773],\n       [0.58355404, 0.41644596],\n       [0.30183449, 0.69816551],\n       ...,\n       [0.59878933, 0.40121067],\n       [0.6234262 , 0.3765738 ],\n       [0.5797565 , 0.4202435 ]])"
     },
     "execution_count": 678,
     "metadata": {},
     "output_type": "execute_result"
    }
   ],
   "source": [
    "probas_raz"
   ],
   "metadata": {
    "collapsed": false,
    "ExecuteTime": {
     "end_time": "2023-06-07T15:13:45.599380700Z",
     "start_time": "2023-06-07T15:13:45.584244100Z"
    }
   }
  },
  {
   "cell_type": "code",
   "execution_count": 679,
   "outputs": [],
   "source": [
    "preds_def = (probas_def[:,1]>0.85).astype(int)\n",
    "preds_raz = (probas_raz[:,1]>0.85).astype(int)"
   ],
   "metadata": {
    "collapsed": false,
    "ExecuteTime": {
     "end_time": "2023-06-07T15:13:45.599380700Z",
     "start_time": "2023-06-07T15:13:45.591429600Z"
    }
   }
  },
  {
   "cell_type": "code",
   "execution_count": 680,
   "outputs": [
    {
     "name": "stdout",
     "output_type": "stream",
     "text": [
      "              precision    recall  f1-score   support\n",
      "\n",
      "         0.0       0.69      1.00      0.82       985\n",
      "         1.0       0.95      0.05      0.09       457\n",
      "\n",
      "    accuracy                           0.70      1442\n",
      "   macro avg       0.82      0.52      0.45      1442\n",
      "weighted avg       0.78      0.70      0.59      1442\n",
      "\n"
     ]
    }
   ],
   "source": [
    "print(classification_report(y_test, preds_def, zero_division=0))"
   ],
   "metadata": {
    "collapsed": false,
    "ExecuteTime": {
     "end_time": "2023-06-07T15:13:45.615405500Z",
     "start_time": "2023-06-07T15:13:45.596381600Z"
    }
   }
  },
  {
   "cell_type": "code",
   "execution_count": 681,
   "outputs": [
    {
     "name": "stdout",
     "output_type": "stream",
     "text": [
      "              precision    recall  f1-score   support\n",
      "\n",
      "         0.0       0.69      1.00      0.82       985\n",
      "         1.0       0.92      0.05      0.10       457\n",
      "\n",
      "    accuracy                           0.70      1442\n",
      "   macro avg       0.81      0.53      0.46      1442\n",
      "weighted avg       0.77      0.70      0.59      1442\n",
      "\n"
     ]
    }
   ],
   "source": [
    "print(classification_report(y_test, preds_raz, zero_division=0))"
   ],
   "metadata": {
    "collapsed": false,
    "ExecuteTime": {
     "end_time": "2023-06-07T15:13:45.618069Z",
     "start_time": "2023-06-07T15:13:45.607595200Z"
    }
   }
  },
  {
   "cell_type": "markdown",
   "id": "8e3c896c",
   "metadata": {},
   "source": [
    "## Задание 2 (3 балла)"
   ]
  },
  {
   "cell_type": "markdown",
   "id": "bfcd27a3",
   "metadata": {},
   "source": [
    "Преобразуйте таблицу с абсолютными частотностями в семинарской тетрадке в таблицу с tfidf значениями. (Таблица - https://i.ibb.co/r5Nc2HC/abs-bow.jpg) Формула tfidf есть в семинаре на картинке с пояснениями на английском.\n",
    "Считать нужно в питоне. Формат итоговой таблицы может быть любым, главное, чтобы был код и можно было воспроизвести вычисления."
   ]
  },
  {
   "cell_type": "code",
   "execution_count": 682,
   "outputs": [
    {
     "name": "stderr",
     "output_type": "stream",
     "text": [
      "C:\\Users\\robst\\AppData\\Local\\Temp\\ipykernel_9584\\3164112859.py:4: DeprecationWarning: Please use `csr_matrix` from the `scipy.sparse` namespace, the `scipy.sparse.csr` namespace is deprecated.\n",
      "  from scipy.sparse.csr import csr_matrix\n"
     ]
    }
   ],
   "source": [
    "from sklearn.feature_extraction.text import TfidfVectorizer\n",
    "import numpy as np\n",
    "import pandas as pd\n",
    "from scipy.sparse.csr import csr_matrix"
   ],
   "metadata": {
    "collapsed": false,
    "ExecuteTime": {
     "end_time": "2023-06-07T15:13:45.634193700Z",
     "start_time": "2023-06-07T15:13:45.614406200Z"
    }
   }
  },
  {
   "cell_type": "code",
   "execution_count": 683,
   "outputs": [],
   "source": [
    "def razdel_tokenize_fix(text):\n",
    "    tokens = list(tokenize(text))\n",
    "    return [_.text for _ in tokens if _.text != \",\"]"
   ],
   "metadata": {
    "collapsed": false,
    "ExecuteTime": {
     "end_time": "2023-06-07T15:13:45.679416Z",
     "start_time": "2023-06-07T15:13:45.619064200Z"
    }
   }
  },
  {
   "cell_type": "code",
   "execution_count": 684,
   "outputs": [],
   "source": [
    "vec = TfidfVectorizer(tokenizer=razdel_tokenize_fix)"
   ],
   "metadata": {
    "collapsed": false,
    "ExecuteTime": {
     "end_time": "2023-06-07T15:13:45.679416Z",
     "start_time": "2023-06-07T15:13:45.625900500Z"
    }
   }
  },
  {
   "cell_type": "code",
   "execution_count": 685,
   "id": "c5b50abc",
   "metadata": {
    "ExecuteTime": {
     "end_time": "2023-06-07T15:13:45.680407700Z",
     "start_time": "2023-06-07T15:13:45.631156400Z"
    }
   },
   "outputs": [],
   "source": [
    "texts = [\n",
    "    \"я и ты\",\n",
    "    \"ты и я\",\n",
    "    \"я, я и только я\",\n",
    "    \"только не я\",\n",
    "    \"он\"\n",
    "]"
   ]
  },
  {
   "cell_type": "code",
   "execution_count": 686,
   "outputs": [
    {
     "name": "stdout",
     "output_type": "stream",
     "text": [
      "  (0, 4)\t0.6778032959469461\n",
      "  (0, 0)\t0.5626379641131365\n",
      "  (0, 5)\t0.47330879280030447\n",
      "  (1, 4)\t0.6778032959469461\n",
      "  (1, 0)\t0.5626379641131365\n",
      "  (1, 5)\t0.47330879280030447\n",
      "  (2, 3)\t0.4056325249335055\n",
      "  (2, 0)\t0.33671163798017656\n",
      "  (2, 5)\t0.8497573345166112\n",
      "  (3, 1)\t0.7127752157729959\n",
      "  (3, 3)\t0.5750625560879445\n",
      "  (3, 5)\t0.4015651234424611\n",
      "  (4, 2)\t1.0\n"
     ]
    },
    {
     "name": "stderr",
     "output_type": "stream",
     "text": [
      "C:\\Users\\robst\\PycharmProjects\\HSE_NLP\\venv\\Lib\\site-packages\\sklearn\\feature_extraction\\text.py:528: UserWarning: The parameter 'token_pattern' will not be used since 'tokenizer' is not None'\n",
      "  warnings.warn(\n"
     ]
    }
   ],
   "source": [
    "table = vec.fit_transform(texts)\n",
    "print(table)"
   ],
   "metadata": {
    "collapsed": false,
    "ExecuteTime": {
     "end_time": "2023-06-07T15:13:45.680407700Z",
     "start_time": "2023-06-07T15:13:45.639432400Z"
    }
   }
  },
  {
   "cell_type": "markdown",
   "source": [
    "0 = sentence no.\n",
    "4 = word index\n",
    "0.6778032959469461 = tf-idf weight"
   ],
   "metadata": {
    "collapsed": false
   }
  },
  {
   "cell_type": "code",
   "execution_count": 687,
   "outputs": [
    {
     "name": "stdout",
     "output_type": "stream",
     "text": [
      "0 и\n",
      "1 не\n",
      "2 он\n",
      "3 только\n",
      "4 ты\n",
      "5 я\n"
     ]
    }
   ],
   "source": [
    "for i, feature in enumerate(vec.get_feature_names_out()):\n",
    "    print(i, feature)\n",
    "feature_names = vec.get_feature_names_out()"
   ],
   "metadata": {
    "collapsed": false,
    "ExecuteTime": {
     "end_time": "2023-06-07T15:13:45.680407700Z",
     "start_time": "2023-06-07T15:13:45.647592300Z"
    }
   }
  },
  {
   "cell_type": "code",
   "execution_count": 688,
   "outputs": [
    {
     "name": "stdout",
     "output_type": "stream",
     "text": [
      "                        и        не   он    только        ты         я\n",
      "я и ты           0.562638  0.000000  0.0  0.000000  0.677803  0.473309\n",
      "ты и я           0.562638  0.000000  0.0  0.000000  0.677803  0.473309\n",
      "я, я и только я  0.336712  0.000000  0.0  0.405633  0.000000  0.849757\n",
      "только не я      0.000000  0.712775  0.0  0.575063  0.000000  0.401565\n",
      "он               0.000000  0.000000  1.0  0.000000  0.000000  0.000000\n"
     ]
    }
   ],
   "source": [
    "df = pd.DataFrame(table.toarray(), columns = vec.get_feature_names_out(), index=texts)\n",
    "print(df)"
   ],
   "metadata": {
    "collapsed": false,
    "ExecuteTime": {
     "end_time": "2023-06-07T15:13:45.680407700Z",
     "start_time": "2023-06-07T15:13:45.651917400Z"
    }
   }
  },
  {
   "cell_type": "markdown",
   "id": "91b9076e",
   "metadata": {},
   "source": [
    "    ## Задание 3 (2 балла)"
   ]
  },
  {
   "cell_type": "markdown",
   "id": "14e25357",
   "metadata": {},
   "source": [
    "Обучите 2 любых разных классификатора из семинара. Предскажите токсичность для текстов из тестовой выборки (используйте одну и ту же выборку для обоих классификаторов) и найдите 10 самых токсичных для каждого из классификаторов. Сравните получаемые тексты - какие тексты совпадают, какие отличаются, правда ли тексты токсичные?"
   ]
  },
  {
   "cell_type": "markdown",
   "id": "7de962ad",
   "metadata": {},
   "source": [
    "Требования к моделям:\n",
    "а) один классификатор должен использовать CountVectorizer, другой TfidfVectorizer  \n",
    "б) у векторазера должны быть вручную заданы как минимум 5 параметров (можно ставить разные параметры tfidfvectorizer и countvectorizer)  \n",
    "в) у классификатора должно быть задано вручную как минимум 2 параметра (по возможности)  \n",
    "г) f1 мера каждого из классификаторов должна быть минимум 0.75\n",
    "\n",
    "*random_seed не считается за параметр"
   ]
  },
  {
   "cell_type": "code",
   "execution_count": 689,
   "id": "ac0a5471",
   "metadata": {
    "ExecuteTime": {
     "end_time": "2023-06-07T15:13:45.681409400Z",
     "start_time": "2023-06-07T15:13:45.661100400Z"
    }
   },
   "outputs": [],
   "source": [
    "import pandas as pd\n",
    "from sklearn.feature_extraction.text import CountVectorizer, TfidfVectorizer\n",
    "from sklearn.linear_model import LogisticRegression\n",
    "from sklearn.naive_bayes import MultinomialNB\n",
    "from sklearn.model_selection import train_test_split\n",
    "from sklearn.metrics import classification_report\n",
    "from razdel import tokenize"
   ]
  },
  {
   "cell_type": "code",
   "execution_count": 690,
   "id": "745bd58f",
   "metadata": {
    "ExecuteTime": {
     "end_time": "2023-06-07T15:13:45.681409400Z",
     "start_time": "2023-06-07T15:13:45.666615300Z"
    }
   },
   "outputs": [],
   "source": [
    "def razdel_tokenize(text):\n",
    "    tokens = list(tokenize(text))\n",
    "    return [_.text for _ in tokens]"
   ]
  },
  {
   "cell_type": "code",
   "execution_count": 691,
   "id": "90311fac",
   "metadata": {
    "ExecuteTime": {
     "end_time": "2023-06-07T15:13:45.784547Z",
     "start_time": "2023-06-07T15:13:45.674409Z"
    }
   },
   "outputs": [
    {
     "data": {
      "text/plain": "toxic\n0.0    0.66514\n1.0    0.33486\nName: proportion, dtype: float64"
     },
     "execution_count": 691,
     "metadata": {},
     "output_type": "execute_result"
    }
   ],
   "source": [
    "data = pd.read_csv('labeled.csv')\n",
    "data.toxic.value_counts(normalize=True)"
   ]
  },
  {
   "cell_type": "code",
   "execution_count": 692,
   "outputs": [
    {
     "data": {
      "text/plain": "                                             comment  toxic\n0               Верблюдов-то за что? Дебилы, бл...\\n    1.0\n1  Хохлы, это отдушина затюканого россиянина, мол...    1.0\n2                          Собаке - собачья смерть\\n    1.0\n3  Страницу обнови, дебил. Это тоже не оскорблени...    1.0\n4  тебя не убедил 6-страничный пдф в том, что Скр...    1.0",
      "text/html": "<div>\n<style scoped>\n    .dataframe tbody tr th:only-of-type {\n        vertical-align: middle;\n    }\n\n    .dataframe tbody tr th {\n        vertical-align: top;\n    }\n\n    .dataframe thead th {\n        text-align: right;\n    }\n</style>\n<table border=\"1\" class=\"dataframe\">\n  <thead>\n    <tr style=\"text-align: right;\">\n      <th></th>\n      <th>comment</th>\n      <th>toxic</th>\n    </tr>\n  </thead>\n  <tbody>\n    <tr>\n      <th>0</th>\n      <td>Верблюдов-то за что? Дебилы, бл...\\n</td>\n      <td>1.0</td>\n    </tr>\n    <tr>\n      <th>1</th>\n      <td>Хохлы, это отдушина затюканого россиянина, мол...</td>\n      <td>1.0</td>\n    </tr>\n    <tr>\n      <th>2</th>\n      <td>Собаке - собачья смерть\\n</td>\n      <td>1.0</td>\n    </tr>\n    <tr>\n      <th>3</th>\n      <td>Страницу обнови, дебил. Это тоже не оскорблени...</td>\n      <td>1.0</td>\n    </tr>\n    <tr>\n      <th>4</th>\n      <td>тебя не убедил 6-страничный пдф в том, что Скр...</td>\n      <td>1.0</td>\n    </tr>\n  </tbody>\n</table>\n</div>"
     },
     "execution_count": 692,
     "metadata": {},
     "output_type": "execute_result"
    }
   ],
   "source": [
    "data.head()"
   ],
   "metadata": {
    "collapsed": false,
    "ExecuteTime": {
     "end_time": "2023-06-07T15:13:45.784547Z",
     "start_time": "2023-06-07T15:13:45.739817900Z"
    }
   }
  },
  {
   "cell_type": "code",
   "execution_count": 693,
   "outputs": [],
   "source": [
    "vec_count = CountVectorizer(min_df=8, max_df=0.3, tokenizer=razdel_tokenize, lowercase=True, ngram_range=(1,4), strip_accents='unicode')\n",
    "vec_tfidf = TfidfVectorizer(min_df=8, max_df=0.3, tokenizer=razdel_tokenize, lowercase=True, ngram_range=(1,5), strip_accents='unicode')"
   ],
   "metadata": {
    "collapsed": false,
    "ExecuteTime": {
     "end_time": "2023-06-07T15:13:45.888894500Z",
     "start_time": "2023-06-07T15:13:45.747013200Z"
    }
   }
  },
  {
   "cell_type": "code",
   "execution_count": 694,
   "outputs": [],
   "source": [
    "train, test = train_test_split(data, test_size=0.1, shuffle=True)\n",
    "train.reset_index(inplace=True)\n",
    "test.reset_index(inplace=True)"
   ],
   "metadata": {
    "collapsed": false,
    "ExecuteTime": {
     "end_time": "2023-06-07T15:13:45.889908300Z",
     "start_time": "2023-06-07T15:13:45.879670100Z"
    }
   }
  },
  {
   "cell_type": "code",
   "execution_count": 695,
   "outputs": [
    {
     "name": "stderr",
     "output_type": "stream",
     "text": [
      "C:\\Users\\robst\\PycharmProjects\\HSE_NLP\\venv\\Lib\\site-packages\\sklearn\\feature_extraction\\text.py:528: UserWarning: The parameter 'token_pattern' will not be used since 'tokenizer' is not None'\n",
      "  warnings.warn(\n"
     ]
    }
   ],
   "source": [
    "count_X = vec_count.fit_transform(train.comment)\n",
    "count_X_test = vec_count.transform(test.comment)\n",
    "\n",
    "tfidf_X = vec_tfidf.fit_transform(train.comment)\n",
    "tfidf_X_test = vec_tfidf.transform(test.comment)"
   ],
   "metadata": {
    "collapsed": false,
    "ExecuteTime": {
     "end_time": "2023-06-07T15:13:52.739154600Z",
     "start_time": "2023-06-07T15:13:45.885895300Z"
    }
   }
  },
  {
   "cell_type": "code",
   "execution_count": 696,
   "outputs": [
    {
     "data": {
      "text/plain": "((12970, 9207), (1442, 9207))"
     },
     "execution_count": 696,
     "metadata": {},
     "output_type": "execute_result"
    }
   ],
   "source": [
    "count_X.shape, count_X_test.shape"
   ],
   "metadata": {
    "collapsed": false,
    "ExecuteTime": {
     "end_time": "2023-06-07T15:13:52.742220200Z",
     "start_time": "2023-06-07T15:13:52.739154600Z"
    }
   }
  },
  {
   "cell_type": "code",
   "execution_count": 697,
   "outputs": [
    {
     "data": {
      "text/plain": "((12970, 9221), (1442, 9221))"
     },
     "execution_count": 697,
     "metadata": {},
     "output_type": "execute_result"
    }
   ],
   "source": [
    "tfidf_X.shape, tfidf_X_test .shape"
   ],
   "metadata": {
    "collapsed": false,
    "ExecuteTime": {
     "end_time": "2023-06-07T15:13:52.759706600Z",
     "start_time": "2023-06-07T15:13:52.744488500Z"
    }
   }
  },
  {
   "cell_type": "code",
   "execution_count": 698,
   "outputs": [],
   "source": [
    "y = train.toxic.values\n",
    "y_test = test.toxic.values"
   ],
   "metadata": {
    "collapsed": false,
    "ExecuteTime": {
     "end_time": "2023-06-07T15:13:52.794810900Z",
     "start_time": "2023-06-07T15:13:52.759706600Z"
    }
   }
  },
  {
   "cell_type": "code",
   "execution_count": 699,
   "outputs": [
    {
     "name": "stdout",
     "output_type": "stream",
     "text": [
      "              precision    recall  f1-score   support\n",
      "\n",
      "         0.0       0.86      0.87      0.86       953\n",
      "         1.0       0.74      0.72      0.73       489\n",
      "\n",
      "    accuracy                           0.82      1442\n",
      "   macro avg       0.80      0.80      0.80      1442\n",
      "weighted avg       0.82      0.82      0.82      1442\n",
      "\n"
     ]
    }
   ],
   "source": [
    "dec_class = MultinomialNB(alpha=0.1)\n",
    "dec_class.fit(count_X, y)\n",
    "dec_preds = dec_class.predict(count_X_test)\n",
    "\n",
    "print(classification_report(y_test, dec_preds))\n"
   ],
   "metadata": {
    "collapsed": false,
    "ExecuteTime": {
     "end_time": "2023-06-07T15:13:52.794810900Z",
     "start_time": "2023-06-07T15:13:52.766948200Z"
    }
   }
  },
  {
   "cell_type": "code",
   "execution_count": 700,
   "outputs": [
    {
     "name": "stdout",
     "output_type": "stream",
     "text": [
      "              precision    recall  f1-score   support\n",
      "\n",
      "         0.0       0.88      0.86      0.87       953\n",
      "         1.0       0.73      0.78      0.75       489\n",
      "\n",
      "    accuracy                           0.83      1442\n",
      "   macro avg       0.81      0.82      0.81      1442\n",
      "weighted avg       0.83      0.83      0.83      1442\n",
      "\n"
     ]
    }
   ],
   "source": [
    "kneighbors_class = LogisticRegression(C=0.6, class_weight='balanced')\n",
    "kneighbors_class.fit(tfidf_X, y)\n",
    "kneighbors_preds = kneighbors_class.predict(tfidf_X_test)\n",
    "\n",
    "print(classification_report(y_test, kneighbors_preds))"
   ],
   "metadata": {
    "collapsed": false,
    "ExecuteTime": {
     "end_time": "2023-06-07T15:13:52.867115300Z",
     "start_time": "2023-06-07T15:13:52.781289400Z"
    }
   }
  },
  {
   "cell_type": "markdown",
   "id": "6f228c3e",
   "metadata": {},
   "source": [
    "## *Задание 4 (2 балла)"
   ]
  },
  {
   "cell_type": "markdown",
   "id": "566929b7",
   "metadata": {},
   "source": [
    "Для классификаторов LogisticRegression и Random Forest найдите способ извлечь важность признаков для предсказания токсичного класса. Сопоставьте полученные числа со словами (или нграммами) в словаре и найдите топ - 5 \"токсичных\" слов для каждого из классификаторов. \n",
    "\n",
    "Важное требование: в топе не должно быть стоп-слов. Для этого вам нужно будет правильным образом настроить векторизацию."
   ]
  },
  {
   "cell_type": "code",
   "execution_count": 701,
   "id": "81f86878",
   "metadata": {
    "ExecuteTime": {
     "end_time": "2023-06-07T15:13:52.867115300Z",
     "start_time": "2023-06-07T15:13:52.829906200Z"
    }
   },
   "outputs": [],
   "source": [
    "from sklearn.feature_extraction.text import TfidfVectorizer\n",
    "from sklearn.linear_model import LogisticRegression\n",
    "from sklearn.ensemble import RandomForestClassifier\n",
    "from nltk.corpus import stopwords\n",
    "import re\n",
    "russian_stopwords = stopwords.words('russian')"
   ]
  },
  {
   "cell_type": "code",
   "execution_count": 702,
   "id": "15af4e1f",
   "metadata": {
    "ExecuteTime": {
     "end_time": "2023-06-07T15:13:52.867115300Z",
     "start_time": "2023-06-07T15:13:52.834384900Z"
    }
   },
   "outputs": [],
   "source": [
    "def razdel_tokenize(text):\n",
    "    tokens = list(tokenize(text))\n",
    "    return [_.text for _ in tokens if _.text not in russian_stopwords]"
   ]
  },
  {
   "cell_type": "code",
   "execution_count": 703,
   "outputs": [
    {
     "data": {
      "text/plain": "toxic\n0.0    0.66514\n1.0    0.33486\nName: proportion, dtype: float64"
     },
     "execution_count": 703,
     "metadata": {},
     "output_type": "execute_result"
    }
   ],
   "source": [
    "data = pd.read_csv('labeled.csv')\n",
    "data.toxic.value_counts(normalize=True)"
   ],
   "metadata": {
    "collapsed": false,
    "ExecuteTime": {
     "end_time": "2023-06-07T15:13:52.930201500Z",
     "start_time": "2023-06-07T15:13:52.858611600Z"
    }
   }
  },
  {
   "cell_type": "code",
   "execution_count": 704,
   "outputs": [],
   "source": [
    "vectorizer = TfidfVectorizer(min_df=10, max_df=0.3, tokenizer=razdel_tokenize, stop_words=list(russian_stopwords))"
   ],
   "metadata": {
    "collapsed": false,
    "ExecuteTime": {
     "end_time": "2023-06-07T15:13:52.930201500Z",
     "start_time": "2023-06-07T15:13:52.909632700Z"
    }
   }
  },
  {
   "cell_type": "code",
   "execution_count": 705,
   "outputs": [],
   "source": [
    "train, test = train_test_split(data, test_size=0.1, shuffle=True)\n",
    "train.reset_index(inplace=True)\n",
    "test.reset_index(inplace=True)"
   ],
   "metadata": {
    "collapsed": false,
    "ExecuteTime": {
     "end_time": "2023-06-07T15:13:52.930201500Z",
     "start_time": "2023-06-07T15:13:52.921197700Z"
    }
   }
  },
  {
   "cell_type": "code",
   "execution_count": 706,
   "outputs": [
    {
     "name": "stderr",
     "output_type": "stream",
     "text": [
      "C:\\Users\\robst\\PycharmProjects\\HSE_NLP\\venv\\Lib\\site-packages\\sklearn\\feature_extraction\\text.py:528: UserWarning: The parameter 'token_pattern' will not be used since 'tokenizer' is not None'\n",
      "  warnings.warn(\n"
     ]
    }
   ],
   "source": [
    "X = vectorizer.fit_transform(train.comment)\n",
    "X_test = vectorizer.transform(test.comment)"
   ],
   "metadata": {
    "collapsed": false,
    "ExecuteTime": {
     "end_time": "2023-06-07T15:13:54.654309400Z",
     "start_time": "2023-06-07T15:13:52.923202Z"
    }
   }
  },
  {
   "cell_type": "code",
   "execution_count": 707,
   "outputs": [
    {
     "data": {
      "text/plain": "((12970, 3304), (1442, 3304))"
     },
     "execution_count": 707,
     "metadata": {},
     "output_type": "execute_result"
    }
   ],
   "source": [
    "X.shape, X_test.shape"
   ],
   "metadata": {
    "collapsed": false,
    "ExecuteTime": {
     "end_time": "2023-06-07T15:13:54.657857300Z",
     "start_time": "2023-06-07T15:13:54.655313500Z"
    }
   }
  },
  {
   "cell_type": "code",
   "execution_count": 708,
   "outputs": [],
   "source": [
    "y = train.toxic.values\n",
    "y_test = test.toxic.values"
   ],
   "metadata": {
    "collapsed": false,
    "ExecuteTime": {
     "end_time": "2023-06-07T15:13:54.665187400Z",
     "start_time": "2023-06-07T15:13:54.658857600Z"
    }
   }
  },
  {
   "cell_type": "code",
   "execution_count": 709,
   "outputs": [],
   "source": [
    "lr = LogisticRegression(C=0.1, class_weight='balanced')\n",
    "lr.fit(X, y)\n",
    "lr_preds = lr.predict(X_test)\n",
    "\n",
    "rf = RandomForestClassifier(n_estimators=100, max_depth=20, )\n",
    "rf.fit(X, y)\n",
    "rf_preds = rf.predict(X_test)"
   ],
   "metadata": {
    "collapsed": false,
    "ExecuteTime": {
     "end_time": "2023-06-07T15:13:55.766743Z",
     "start_time": "2023-06-07T15:13:54.666187200Z"
    }
   }
  },
  {
   "cell_type": "code",
   "execution_count": 710,
   "outputs": [],
   "source": [
    "# важность признаков\n",
    "lr_feature_importance = lr.coef_[0]\n",
    "rf_feature_importance = rf.feature_importances_"
   ],
   "metadata": {
    "collapsed": false,
    "ExecuteTime": {
     "end_time": "2023-06-07T15:13:55.775719700Z",
     "start_time": "2023-06-07T15:13:55.767742500Z"
    }
   }
  },
  {
   "cell_type": "code",
   "execution_count": 711,
   "outputs": [],
   "source": [
    "vec_feature_names = vectorizer.get_feature_names_out()"
   ],
   "metadata": {
    "collapsed": false,
    "ExecuteTime": {
     "end_time": "2023-06-07T15:13:55.784571400Z",
     "start_time": "2023-06-07T15:13:55.776719700Z"
    }
   }
  },
  {
   "cell_type": "code",
   "execution_count": 712,
   "outputs": [
    {
     "name": "stdout",
     "output_type": "stream",
     "text": [
      "Топ-5 токсичных слов для LogisticRegression: [('тебе', 1.727446496695935), ('хохлы', 1.6180118650552706), ('хохлов', 1.5549590892173057), ('нахуй', 1.3497672331746935), ('пиздец', 1.1376157209129165)]\n"
     ]
    }
   ],
   "source": [
    "features = list(zip(vec_feature_names, lr_feature_importance))\n",
    "features = [f for f in features if re.match(r'^\\w+$', f[0])]\n",
    "features.sort(key=lambda f: f[1], reverse=True)\n",
    "top_features = features[:5]\n",
    "print(\"Топ-5 токсичных слов для LogisticRegression:\", top_features)"
   ],
   "metadata": {
    "collapsed": false,
    "ExecuteTime": {
     "end_time": "2023-06-07T15:13:55.811356300Z",
     "start_time": "2023-06-07T15:13:55.785569500Z"
    }
   }
  },
  {
   "cell_type": "code",
   "execution_count": 713,
   "outputs": [
    {
     "name": "stdout",
     "output_type": "stream",
     "text": [
      "Топ-5 токсичных слов для RandomForest: [('тебе', 0.03190231577976939), ('хохлы', 0.02754997733951765), ('хохлов', 0.023991852220358902), ('нахуй', 0.019344975123603628), ('блять', 0.017599437908520723)]\n"
     ]
    }
   ],
   "source": [
    "features = list(zip(vec_feature_names, rf_feature_importance))\n",
    "features = [f for f in features if re.match(r'^\\w+$', f[0])]\n",
    "features.sort(key=lambda f: f[1], reverse=True)\n",
    "top_features = features[:5]\n",
    "print(\"Топ-5 токсичных слов для RandomForest:\", top_features)"
   ],
   "metadata": {
    "collapsed": false,
    "ExecuteTime": {
     "end_time": "2023-06-07T15:13:55.823888700Z",
     "start_time": "2023-06-07T15:13:55.807356800Z"
    }
   }
  },
  {
   "cell_type": "markdown",
   "source": [
    "Без фильтрации"
   ],
   "metadata": {
    "collapsed": false
   }
  },
  {
   "cell_type": "code",
   "execution_count": 714,
   "outputs": [],
   "source": [
    "# топ-5\n",
    "top_five_lr_features = [vec_feature_names[i] for i in lr_feature_importance.argsort()[::-1][:5]]\n",
    "top_five_rf_features = [vec_feature_names[i] for i in rf_feature_importance.argsort()[::-1][:5]]"
   ],
   "metadata": {
    "collapsed": false,
    "ExecuteTime": {
     "end_time": "2023-06-07T15:13:55.830486200Z",
     "start_time": "2023-06-07T15:13:55.824887900Z"
    }
   }
  },
  {
   "cell_type": "code",
   "execution_count": 715,
   "outputs": [
    {
     "name": "stdout",
     "output_type": "stream",
     "text": [
      "Топ-5 токсичных слов для LogisticRegression: ['тебе', 'хохлы', 'хохлов', '!', 'нахуй']\n"
     ]
    }
   ],
   "source": [
    "print(\"Топ-5 токсичных слов для LogisticRegression:\", top_five_lr_features)"
   ],
   "metadata": {
    "collapsed": false,
    "ExecuteTime": {
     "end_time": "2023-06-07T15:13:55.875244700Z",
     "start_time": "2023-06-07T15:13:55.830486200Z"
    }
   }
  },
  {
   "cell_type": "code",
   "execution_count": 716,
   "outputs": [
    {
     "name": "stdout",
     "output_type": "stream",
     "text": [
      "Топ-5 токсичных слов для RandomForest: [')', '!', 'тебе', 'хохлы', 'хохлов']\n"
     ]
    }
   ],
   "source": [
    "print(\"Топ-5 токсичных слов для RandomForest:\", top_five_rf_features)"
   ],
   "metadata": {
    "collapsed": false,
    "ExecuteTime": {
     "end_time": "2023-06-07T15:13:55.876244800Z",
     "start_time": "2023-06-07T15:13:55.849923700Z"
    }
   }
  }
 ],
 "metadata": {
  "kernelspec": {
   "display_name": "Python 3 (ipykernel)",
   "language": "python",
   "name": "python3"
  },
  "language_info": {
   "codemirror_mode": {
    "name": "ipython",
    "version": 3
   },
   "file_extension": ".py",
   "mimetype": "text/x-python",
   "name": "python",
   "nbconvert_exporter": "python",
   "pygments_lexer": "ipython3",
   "version": "3.9.13"
  }
 },
 "nbformat": 4,
 "nbformat_minor": 5
}
