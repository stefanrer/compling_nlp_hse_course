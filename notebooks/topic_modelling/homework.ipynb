{
 "cells": [
  {
   "cell_type": "markdown",
   "id": "092e5c0d",
   "metadata": {},
   "source": [
    "# Домашнее задание  № 5. Матричные разложения/Тематическое моделирование"
   ]
  },
  {
   "cell_type": "markdown",
   "id": "f18446b7",
   "metadata": {},
   "source": [
    "### Задание № 1 (4 балла)"
   ]
  },
  {
   "cell_type": "markdown",
   "id": "cf81eecc",
   "metadata": {},
   "source": [
    "Попробуйте матричные разложения с 4 классификаторами - SGDClassifier, KNeighborsClassifier,  RandomForest, ExtraTreesClassifier (про него подробнее почитайте в документации, он похож на RF). Используйте и NMF и SVD. Сравните результаты на кросс-валидации и выберите лучшее сочетание.\n",
    "\n",
    "В итоге у вас должно получиться, как минимум 8 моделей (два разложения на каждый классификатор). Используйте 1 и те же параметры кросс-валидации. Параметры векторизации, параметры K в матричных разложениях, параметры классификаторов могут быть разными между экспериментами."
   ]
  },
  {
   "cell_type": "markdown",
   "id": "f1760960",
   "metadata": {},
   "source": [
    "Можете взять поменьше данных, если все будет обучаться слишком долго (не ставьте параметр K слишком большим в NMF, иначе точно будет слишком долго)"
   ]
  },
  {
   "cell_type": "code",
   "execution_count": 57,
   "id": "24b01bea",
   "metadata": {
    "ExecuteTime": {
     "end_time": "2023-06-11T19:14:19.299745200Z",
     "start_time": "2023-06-11T19:14:18.902591Z"
    }
   },
   "outputs": [],
   "source": [
    "import pandas as pd\n",
    "import numpy as np\n",
    "import gensim\n",
    "from string import punctuation\n",
    "from razdel import tokenize as razdel_tokenize\n",
    "from pymorphy2 import MorphAnalyzer\n",
    "from sklearn.model_selection import KFold, StratifiedKFold\n",
    "from sklearn.metrics import accuracy_score, precision_score, recall_score, f1_score, confusion_matrix\n",
    "from sklearn.feature_extraction.text import TfidfVectorizer, CountVectorizer, TfidfTransformer\n",
    "from sklearn.pipeline import Pipeline\n",
    "from sklearn.decomposition import TruncatedSVD, NMF, PCA, LatentDirichletAllocation\n",
    "from sklearn.ensemble import RandomForestClassifier, ExtraTreesClassifier\n",
    "from sklearn.linear_model import SGDClassifier\n",
    "from sklearn.neighbors import KNeighborsClassifier\n",
    "from IPython.display import Image\n",
    "from IPython.core.display import HTML\n",
    "from matplotlib import pyplot as plt\n",
    "import seaborn as sns"
   ]
  },
  {
   "cell_type": "code",
   "execution_count": 58,
   "id": "386733f4",
   "metadata": {
    "ExecuteTime": {
     "end_time": "2023-06-11T19:14:19.303642800Z",
     "start_time": "2023-06-11T19:14:18.974971300Z"
    }
   },
   "outputs": [],
   "source": [
    "morph = MorphAnalyzer()"
   ]
  },
  {
   "cell_type": "code",
   "execution_count": 59,
   "id": "cd7142ea",
   "metadata": {
    "ExecuteTime": {
     "end_time": "2023-06-11T19:14:52.534964500Z",
     "start_time": "2023-06-11T19:14:19.146095900Z"
    }
   },
   "outputs": [],
   "source": [
    "# добавим лемматизацию\n",
    "def normalize(text):\n",
    "  normalized_text = [word.text.strip(punctuation) for word \\\n",
    "                     in razdel_tokenize(text)]\n",
    "  normalized_text = [word.lower() for word in normalized_text if word and len(word) < 20]\n",
    "  normalized_text = [morph.parse(word)[0].normal_form for word in normalized_text]\n",
    "  return ' '.join(normalized_text)\n",
    "\n",
    "\n",
    "data = pd.read_csv('avito_category_classification.csv')\n",
    "data['description_norm'] = data['description'].apply(normalize)"
   ]
  },
  {
   "cell_type": "code",
   "execution_count": 60,
   "outputs": [
    {
     "data": {
      "text/plain": "(9898, 3)"
     },
     "execution_count": 60,
     "metadata": {},
     "output_type": "execute_result"
    }
   ],
   "source": [
    "data.shape"
   ],
   "metadata": {
    "collapsed": false,
    "ExecuteTime": {
     "end_time": "2023-06-11T19:14:52.549755Z",
     "start_time": "2023-06-11T19:14:52.535912700Z"
    }
   }
  },
  {
   "cell_type": "code",
   "execution_count": 61,
   "outputs": [],
   "source": [
    "data = data.iloc[:2000]"
   ],
   "metadata": {
    "collapsed": false,
    "ExecuteTime": {
     "end_time": "2023-06-11T19:14:52.587674700Z",
     "start_time": "2023-06-11T19:14:52.550909700Z"
    }
   }
  },
  {
   "cell_type": "code",
   "execution_count": 62,
   "outputs": [
    {
     "data": {
      "text/plain": "(2000, 3)"
     },
     "execution_count": 62,
     "metadata": {},
     "output_type": "execute_result"
    }
   ],
   "source": [
    "data.shape"
   ],
   "metadata": {
    "collapsed": false,
    "ExecuteTime": {
     "end_time": "2023-06-11T19:14:52.640440800Z",
     "start_time": "2023-06-11T19:14:52.580670900Z"
    }
   }
  },
  {
   "cell_type": "code",
   "execution_count": 63,
   "outputs": [
    {
     "data": {
      "text/plain": "            category_name                                        description  \\\n0              Автомобили            отличное состояние,обслужиание в салоне   \n1  Детская одежда и обувь  В отличном состоянии. Фирма KIKO. Очень теплый...   \n2       Предложение услуг  Изготовление ограждений, перил,качелей, турник...   \n3              Автомобили  Автомобиль в отличном техническом состоянии. О...   \n4         Бытовая техника  Продается газовая плита \"Гефест\" (Белоруссия) ...   \n\n                                    description_norm  \n0             отличный состояние обслужиание в салон  \n1  в отличный состояние фирма kiko очень тёплый у...  \n2  изготовление ограждение перила качели турников...  \n3  автомобиль в отличный технический состояние од...  \n4  продаваться газовый плита гефест белоруссия б ...  ",
      "text/html": "<div>\n<style scoped>\n    .dataframe tbody tr th:only-of-type {\n        vertical-align: middle;\n    }\n\n    .dataframe tbody tr th {\n        vertical-align: top;\n    }\n\n    .dataframe thead th {\n        text-align: right;\n    }\n</style>\n<table border=\"1\" class=\"dataframe\">\n  <thead>\n    <tr style=\"text-align: right;\">\n      <th></th>\n      <th>category_name</th>\n      <th>description</th>\n      <th>description_norm</th>\n    </tr>\n  </thead>\n  <tbody>\n    <tr>\n      <th>0</th>\n      <td>Автомобили</td>\n      <td>отличное состояние,обслужиание в салоне</td>\n      <td>отличный состояние обслужиание в салон</td>\n    </tr>\n    <tr>\n      <th>1</th>\n      <td>Детская одежда и обувь</td>\n      <td>В отличном состоянии. Фирма KIKO. Очень теплый...</td>\n      <td>в отличный состояние фирма kiko очень тёплый у...</td>\n    </tr>\n    <tr>\n      <th>2</th>\n      <td>Предложение услуг</td>\n      <td>Изготовление ограждений, перил,качелей, турник...</td>\n      <td>изготовление ограждение перила качели турников...</td>\n    </tr>\n    <tr>\n      <th>3</th>\n      <td>Автомобили</td>\n      <td>Автомобиль в отличном техническом состоянии. О...</td>\n      <td>автомобиль в отличный технический состояние од...</td>\n    </tr>\n    <tr>\n      <th>4</th>\n      <td>Бытовая техника</td>\n      <td>Продается газовая плита \"Гефест\" (Белоруссия) ...</td>\n      <td>продаваться газовый плита гефест белоруссия б ...</td>\n    </tr>\n  </tbody>\n</table>\n</div>"
     },
     "execution_count": 63,
     "metadata": {},
     "output_type": "execute_result"
    }
   ],
   "source": [
    "data.head()"
   ],
   "metadata": {
    "collapsed": false,
    "ExecuteTime": {
     "end_time": "2023-06-11T19:14:52.651514600Z",
     "start_time": "2023-06-11T19:14:52.611769300Z"
    }
   }
  },
  {
   "cell_type": "code",
   "execution_count": 64,
   "id": "9b84d8bd",
   "metadata": {
    "ExecuteTime": {
     "end_time": "2023-06-11T19:14:52.661548200Z",
     "start_time": "2023-06-11T19:14:52.640440800Z"
    }
   },
   "outputs": [],
   "source": [
    "def eval_table(X, y, pipeline, N=6):\n",
    "    # зафиксируем порядок классов\n",
    "    labels = list(set(y))\n",
    "\n",
    "    # метрики отдельных фолдов будет хранить в табличке\n",
    "    fold_metrics = pd.DataFrame(index=labels)\n",
    "    # дополнительно также соберем таблицу ошибок\n",
    "    errors = np.zeros((len(labels), len(labels)))\n",
    "\n",
    "    # создаем стратегию кросс-валидации\n",
    "    # shuffle=True (перемешивание) - часто критично важно указать\n",
    "    # т.к. данные могут быть упорядочены и модель на этом обучится\n",
    "    kfold = StratifiedKFold(n_splits=N, shuffle=True, )\n",
    "\n",
    "    for i, (train_index, test_index) in enumerate(kfold.split(X, y)):\n",
    "        # fit-predict как и раньше, но сразу пайплайном\n",
    "        pipeline.fit(X[train_index], y[train_index])\n",
    "        preds = pipeline.predict(X[test_index])\n",
    "\n",
    "        # записываем метрику и индекс фолда\n",
    "        fold_metrics[f'precision_{i}'] = precision_score(y[test_index], preds, labels=labels, average=None)\n",
    "        fold_metrics[f'recall_{i}'] = recall_score(y[test_index], preds, labels=labels, average=None)\n",
    "        fold_metrics[f'f1_{i}'] = f1_score(y[test_index], preds, labels=labels, average=None)\n",
    "        errors += confusion_matrix(y[test_index], preds, labels=labels, normalize='true')\n",
    "\n",
    "    # таблица для усредненных значений\n",
    "    # тут мы берем колонки со значениями и усредняем их\n",
    "    # часто также все метрики сразу суммируют и в конце просто делят на количество фолдов\n",
    "    # но мы тут помимо среднего также хотим посмотреть на стандартное отклонение\n",
    "    # чтобы понять как сильно варьируются оценки моделей\n",
    "    result = pd.DataFrame(index=labels)\n",
    "    result['precision'] = fold_metrics[[f'precision_{i}' for i in range(N)]].mean(axis=1).round(2)\n",
    "    result['precision_std'] = fold_metrics[[f'precision_{i}' for i in range(N)]].std(axis=1).round(2)\n",
    "\n",
    "    result['recall'] = fold_metrics[[f'recall_{i}' for i in range(N)]].mean(axis=1).round(2)\n",
    "    result['recall_std'] = fold_metrics[[f'recall_{i}' for i in range(N)]].std(axis=1).round(2)\n",
    "\n",
    "    result['f1'] = fold_metrics[[f'f1_{i}' for i in range(N)]].mean(axis=1).round(2)\n",
    "    result['f1_std'] = fold_metrics[[f'f1_{i}' for i in range(N)]].std(axis=1).round(2)\n",
    "\n",
    "    # добавим одну колонку со средним по всем классам\n",
    "    result.loc['mean'] = result.mean().round(2)\n",
    "    # проценты ошибок просто усредняем\n",
    "    errors /= N\n",
    "\n",
    "    return result, errors"
   ]
  },
  {
   "cell_type": "code",
   "execution_count": 65,
   "id": "283d4eb5",
   "metadata": {
    "ExecuteTime": {
     "end_time": "2023-06-11T19:14:52.691890100Z",
     "start_time": "2023-06-11T19:14:52.659518300Z"
    }
   },
   "outputs": [],
   "source": [
    "# RandomForest\n",
    "pipeline_rf_svd = Pipeline([\n",
    "    ('bow', CountVectorizer(tokenizer=lambda x: x.split(), ngram_range=(1,2), min_df=5, max_df=0.4)),\n",
    "    ('svd', TruncatedSVD(500)),\n",
    "    ('clf', RandomForestClassifier(n_estimators=100, max_depth=10))\n",
    "])\n",
    "\n",
    "pipeline_rf_nmf = Pipeline([\n",
    "    ('bow', CountVectorizer(tokenizer=lambda x: x.split(), min_df=3, max_df=0.3)),\n",
    "    ('tfidf', TfidfTransformer()),\n",
    "    ('decomposition', NMF(100)),\n",
    "    ('clf', RandomForestClassifier(n_estimators=200, max_depth=6))\n",
    "])"
   ]
  },
  {
   "cell_type": "code",
   "execution_count": 66,
   "outputs": [],
   "source": [
    "#SGDClassifier\n",
    "pipeline_sc_svd = Pipeline([\n",
    "    ('bow', CountVectorizer(tokenizer=lambda x: x.split(), ngram_range=(1,2), min_df=5, max_df=0.4)),\n",
    "    ('svd', TruncatedSVD(500)),\n",
    "    ('clf', SGDClassifier())\n",
    "])\n",
    "\n",
    "pipeline_sc_nmf = Pipeline([\n",
    "    ('bow', CountVectorizer(tokenizer=lambda x: x.split(), min_df=3, max_df=0.3)),\n",
    "    ('tfidf', TfidfTransformer()),\n",
    "    ('decomposition', NMF(100)),\n",
    "    ('clf', SGDClassifier())\n",
    "])"
   ],
   "metadata": {
    "collapsed": false,
    "ExecuteTime": {
     "end_time": "2023-06-11T19:14:52.748239800Z",
     "start_time": "2023-06-11T19:14:52.674326100Z"
    }
   }
  },
  {
   "cell_type": "code",
   "execution_count": 67,
   "outputs": [],
   "source": [
    "#KNeighborsClassifier\n",
    "pipeline_kc_svd = Pipeline([\n",
    "    ('bow', CountVectorizer(tokenizer=lambda x: x.split(), ngram_range=(1,2), min_df=5, max_df=0.4)),\n",
    "    ('svd', TruncatedSVD(500)),\n",
    "    ('clf', KNeighborsClassifier())\n",
    "])\n",
    "\n",
    "pipeline_kc_nmf = Pipeline([\n",
    "    ('bow', CountVectorizer(tokenizer=lambda x: x.split(), min_df=3, max_df=0.3)),\n",
    "    ('tfidf', TfidfTransformer()),\n",
    "    ('decomposition', NMF(100)),\n",
    "    ('clf', KNeighborsClassifier())\n",
    "])"
   ],
   "metadata": {
    "collapsed": false,
    "ExecuteTime": {
     "end_time": "2023-06-11T19:14:52.788852900Z",
     "start_time": "2023-06-11T19:14:52.706428200Z"
    }
   }
  },
  {
   "cell_type": "code",
   "execution_count": 68,
   "outputs": [],
   "source": [
    "#ExtraTreesClassifier\n",
    "pipeline_ec_svd = Pipeline([\n",
    "    ('bow', CountVectorizer(tokenizer=lambda x: x.split(), ngram_range=(1,2), min_df=5, max_df=0.4)),\n",
    "    ('svd', TruncatedSVD(500)),\n",
    "    ('clf', ExtraTreesClassifier())\n",
    "])\n",
    "\n",
    "pipeline_ec_nmf = Pipeline([\n",
    "    ('bow', CountVectorizer(tokenizer=lambda x: x.split(), min_df=3, max_df=0.3)),\n",
    "    ('tfidf', TfidfTransformer()),\n",
    "    ('decomposition', NMF(100)),\n",
    "    ('clf', ExtraTreesClassifier())\n",
    "])"
   ],
   "metadata": {
    "collapsed": false,
    "ExecuteTime": {
     "end_time": "2023-06-11T19:14:52.789365600Z",
     "start_time": "2023-06-11T19:14:52.721477100Z"
    }
   }
  },
  {
   "cell_type": "code",
   "execution_count": 69,
   "id": "60b10dbe",
   "metadata": {
    "ExecuteTime": {
     "end_time": "2023-06-11T19:17:10.329703800Z",
     "start_time": "2023-06-11T19:14:52.752759500Z"
    }
   },
   "outputs": [
    {
     "name": "stderr",
     "output_type": "stream",
     "text": [
      "C:\\Users\\robst\\PycharmProjects\\HSE_NLP\\venv2\\lib\\site-packages\\sklearn\\metrics\\_classification.py:1318: UndefinedMetricWarning: Precision is ill-defined and being set to 0.0 in labels with no predicted samples. Use `zero_division` parameter to control this behavior.\n",
      "  _warn_prf(average, modifier, msg_start, len(result))\n",
      "C:\\Users\\robst\\PycharmProjects\\HSE_NLP\\venv2\\lib\\site-packages\\sklearn\\metrics\\_classification.py:1318: UndefinedMetricWarning: Precision is ill-defined and being set to 0.0 in labels with no predicted samples. Use `zero_division` parameter to control this behavior.\n",
      "  _warn_prf(average, modifier, msg_start, len(result))\n",
      "C:\\Users\\robst\\PycharmProjects\\HSE_NLP\\venv2\\lib\\site-packages\\sklearn\\metrics\\_classification.py:1318: UndefinedMetricWarning: Precision is ill-defined and being set to 0.0 in labels with no predicted samples. Use `zero_division` parameter to control this behavior.\n",
      "  _warn_prf(average, modifier, msg_start, len(result))\n",
      "C:\\Users\\robst\\PycharmProjects\\HSE_NLP\\venv2\\lib\\site-packages\\sklearn\\metrics\\_classification.py:1318: UndefinedMetricWarning: Precision is ill-defined and being set to 0.0 in labels with no predicted samples. Use `zero_division` parameter to control this behavior.\n",
      "  _warn_prf(average, modifier, msg_start, len(result))\n",
      "C:\\Users\\robst\\PycharmProjects\\HSE_NLP\\venv2\\lib\\site-packages\\sklearn\\metrics\\_classification.py:1318: UndefinedMetricWarning: Precision is ill-defined and being set to 0.0 in labels with no predicted samples. Use `zero_division` parameter to control this behavior.\n",
      "  _warn_prf(average, modifier, msg_start, len(result))\n",
      "C:\\Users\\robst\\PycharmProjects\\HSE_NLP\\venv2\\lib\\site-packages\\sklearn\\metrics\\_classification.py:1318: UndefinedMetricWarning: Precision is ill-defined and being set to 0.0 in labels with no predicted samples. Use `zero_division` parameter to control this behavior.\n",
      "  _warn_prf(average, modifier, msg_start, len(result))\n",
      "C:\\Users\\robst\\PycharmProjects\\HSE_NLP\\venv2\\lib\\site-packages\\sklearn\\decomposition\\_nmf.py:294: FutureWarning: The 'init' value, when 'init=None' and n_components is less than n_samples and n_features, will be changed from 'nndsvd' to 'nndsvda' in 1.1 (renaming of 0.26).\n",
      "  FutureWarning,\n",
      "C:\\Users\\robst\\PycharmProjects\\HSE_NLP\\venv2\\lib\\site-packages\\sklearn\\metrics\\_classification.py:1318: UndefinedMetricWarning: Precision is ill-defined and being set to 0.0 in labels with no predicted samples. Use `zero_division` parameter to control this behavior.\n",
      "  _warn_prf(average, modifier, msg_start, len(result))\n",
      "C:\\Users\\robst\\PycharmProjects\\HSE_NLP\\venv2\\lib\\site-packages\\sklearn\\decomposition\\_nmf.py:294: FutureWarning: The 'init' value, when 'init=None' and n_components is less than n_samples and n_features, will be changed from 'nndsvd' to 'nndsvda' in 1.1 (renaming of 0.26).\n",
      "  FutureWarning,\n",
      "C:\\Users\\robst\\PycharmProjects\\HSE_NLP\\venv2\\lib\\site-packages\\sklearn\\metrics\\_classification.py:1318: UndefinedMetricWarning: Precision is ill-defined and being set to 0.0 in labels with no predicted samples. Use `zero_division` parameter to control this behavior.\n",
      "  _warn_prf(average, modifier, msg_start, len(result))\n",
      "C:\\Users\\robst\\PycharmProjects\\HSE_NLP\\venv2\\lib\\site-packages\\sklearn\\decomposition\\_nmf.py:294: FutureWarning: The 'init' value, when 'init=None' and n_components is less than n_samples and n_features, will be changed from 'nndsvd' to 'nndsvda' in 1.1 (renaming of 0.26).\n",
      "  FutureWarning,\n",
      "C:\\Users\\robst\\PycharmProjects\\HSE_NLP\\venv2\\lib\\site-packages\\sklearn\\metrics\\_classification.py:1318: UndefinedMetricWarning: Precision is ill-defined and being set to 0.0 in labels with no predicted samples. Use `zero_division` parameter to control this behavior.\n",
      "  _warn_prf(average, modifier, msg_start, len(result))\n",
      "C:\\Users\\robst\\PycharmProjects\\HSE_NLP\\venv2\\lib\\site-packages\\sklearn\\decomposition\\_nmf.py:294: FutureWarning: The 'init' value, when 'init=None' and n_components is less than n_samples and n_features, will be changed from 'nndsvd' to 'nndsvda' in 1.1 (renaming of 0.26).\n",
      "  FutureWarning,\n",
      "C:\\Users\\robst\\PycharmProjects\\HSE_NLP\\venv2\\lib\\site-packages\\sklearn\\metrics\\_classification.py:1318: UndefinedMetricWarning: Precision is ill-defined and being set to 0.0 in labels with no predicted samples. Use `zero_division` parameter to control this behavior.\n",
      "  _warn_prf(average, modifier, msg_start, len(result))\n",
      "C:\\Users\\robst\\PycharmProjects\\HSE_NLP\\venv2\\lib\\site-packages\\sklearn\\decomposition\\_nmf.py:294: FutureWarning: The 'init' value, when 'init=None' and n_components is less than n_samples and n_features, will be changed from 'nndsvd' to 'nndsvda' in 1.1 (renaming of 0.26).\n",
      "  FutureWarning,\n",
      "C:\\Users\\robst\\PycharmProjects\\HSE_NLP\\venv2\\lib\\site-packages\\sklearn\\decomposition\\_nmf.py:1641: ConvergenceWarning: Maximum number of iterations 200 reached. Increase it to improve convergence.\n",
      "  ConvergenceWarning,\n",
      "C:\\Users\\robst\\PycharmProjects\\HSE_NLP\\venv2\\lib\\site-packages\\sklearn\\metrics\\_classification.py:1318: UndefinedMetricWarning: Precision is ill-defined and being set to 0.0 in labels with no predicted samples. Use `zero_division` parameter to control this behavior.\n",
      "  _warn_prf(average, modifier, msg_start, len(result))\n",
      "C:\\Users\\robst\\PycharmProjects\\HSE_NLP\\venv2\\lib\\site-packages\\sklearn\\decomposition\\_nmf.py:294: FutureWarning: The 'init' value, when 'init=None' and n_components is less than n_samples and n_features, will be changed from 'nndsvd' to 'nndsvda' in 1.1 (renaming of 0.26).\n",
      "  FutureWarning,\n",
      "C:\\Users\\robst\\PycharmProjects\\HSE_NLP\\venv2\\lib\\site-packages\\sklearn\\metrics\\_classification.py:1318: UndefinedMetricWarning: Precision is ill-defined and being set to 0.0 in labels with no predicted samples. Use `zero_division` parameter to control this behavior.\n",
      "  _warn_prf(average, modifier, msg_start, len(result))\n",
      "C:\\Users\\robst\\PycharmProjects\\HSE_NLP\\venv2\\lib\\site-packages\\sklearn\\decomposition\\_nmf.py:294: FutureWarning: The 'init' value, when 'init=None' and n_components is less than n_samples and n_features, will be changed from 'nndsvd' to 'nndsvda' in 1.1 (renaming of 0.26).\n",
      "  FutureWarning,\n",
      "C:\\Users\\robst\\PycharmProjects\\HSE_NLP\\venv2\\lib\\site-packages\\sklearn\\decomposition\\_nmf.py:294: FutureWarning: The 'init' value, when 'init=None' and n_components is less than n_samples and n_features, will be changed from 'nndsvd' to 'nndsvda' in 1.1 (renaming of 0.26).\n",
      "  FutureWarning,\n",
      "C:\\Users\\robst\\PycharmProjects\\HSE_NLP\\venv2\\lib\\site-packages\\sklearn\\metrics\\_classification.py:1318: UndefinedMetricWarning: Precision is ill-defined and being set to 0.0 in labels with no predicted samples. Use `zero_division` parameter to control this behavior.\n",
      "  _warn_prf(average, modifier, msg_start, len(result))\n",
      "C:\\Users\\robst\\PycharmProjects\\HSE_NLP\\venv2\\lib\\site-packages\\sklearn\\decomposition\\_nmf.py:294: FutureWarning: The 'init' value, when 'init=None' and n_components is less than n_samples and n_features, will be changed from 'nndsvd' to 'nndsvda' in 1.1 (renaming of 0.26).\n",
      "  FutureWarning,\n",
      "C:\\Users\\robst\\PycharmProjects\\HSE_NLP\\venv2\\lib\\site-packages\\sklearn\\decomposition\\_nmf.py:1641: ConvergenceWarning: Maximum number of iterations 200 reached. Increase it to improve convergence.\n",
      "  ConvergenceWarning,\n",
      "C:\\Users\\robst\\PycharmProjects\\HSE_NLP\\venv2\\lib\\site-packages\\sklearn\\decomposition\\_nmf.py:294: FutureWarning: The 'init' value, when 'init=None' and n_components is less than n_samples and n_features, will be changed from 'nndsvd' to 'nndsvda' in 1.1 (renaming of 0.26).\n",
      "  FutureWarning,\n",
      "C:\\Users\\robst\\PycharmProjects\\HSE_NLP\\venv2\\lib\\site-packages\\sklearn\\metrics\\_classification.py:1318: UndefinedMetricWarning: Precision is ill-defined and being set to 0.0 in labels with no predicted samples. Use `zero_division` parameter to control this behavior.\n",
      "  _warn_prf(average, modifier, msg_start, len(result))\n",
      "C:\\Users\\robst\\PycharmProjects\\HSE_NLP\\venv2\\lib\\site-packages\\sklearn\\decomposition\\_nmf.py:294: FutureWarning: The 'init' value, when 'init=None' and n_components is less than n_samples and n_features, will be changed from 'nndsvd' to 'nndsvda' in 1.1 (renaming of 0.26).\n",
      "  FutureWarning,\n",
      "C:\\Users\\robst\\PycharmProjects\\HSE_NLP\\venv2\\lib\\site-packages\\sklearn\\metrics\\_classification.py:1318: UndefinedMetricWarning: Precision is ill-defined and being set to 0.0 in labels with no predicted samples. Use `zero_division` parameter to control this behavior.\n",
      "  _warn_prf(average, modifier, msg_start, len(result))\n",
      "C:\\Users\\robst\\PycharmProjects\\HSE_NLP\\venv2\\lib\\site-packages\\sklearn\\decomposition\\_nmf.py:294: FutureWarning: The 'init' value, when 'init=None' and n_components is less than n_samples and n_features, will be changed from 'nndsvd' to 'nndsvda' in 1.1 (renaming of 0.26).\n",
      "  FutureWarning,\n",
      "C:\\Users\\robst\\PycharmProjects\\HSE_NLP\\venv2\\lib\\site-packages\\sklearn\\metrics\\_classification.py:1318: UndefinedMetricWarning: Precision is ill-defined and being set to 0.0 in labels with no predicted samples. Use `zero_division` parameter to control this behavior.\n",
      "  _warn_prf(average, modifier, msg_start, len(result))\n",
      "C:\\Users\\robst\\PycharmProjects\\HSE_NLP\\venv2\\lib\\site-packages\\sklearn\\decomposition\\_nmf.py:294: FutureWarning: The 'init' value, when 'init=None' and n_components is less than n_samples and n_features, will be changed from 'nndsvd' to 'nndsvda' in 1.1 (renaming of 0.26).\n",
      "  FutureWarning,\n",
      "C:\\Users\\robst\\PycharmProjects\\HSE_NLP\\venv2\\lib\\site-packages\\sklearn\\decomposition\\_nmf.py:294: FutureWarning: The 'init' value, when 'init=None' and n_components is less than n_samples and n_features, will be changed from 'nndsvd' to 'nndsvda' in 1.1 (renaming of 0.26).\n",
      "  FutureWarning,\n",
      "C:\\Users\\robst\\PycharmProjects\\HSE_NLP\\venv2\\lib\\site-packages\\sklearn\\decomposition\\_nmf.py:294: FutureWarning: The 'init' value, when 'init=None' and n_components is less than n_samples and n_features, will be changed from 'nndsvd' to 'nndsvda' in 1.1 (renaming of 0.26).\n",
      "  FutureWarning,\n",
      "C:\\Users\\robst\\PycharmProjects\\HSE_NLP\\venv2\\lib\\site-packages\\sklearn\\decomposition\\_nmf.py:1641: ConvergenceWarning: Maximum number of iterations 200 reached. Increase it to improve convergence.\n",
      "  ConvergenceWarning,\n",
      "C:\\Users\\robst\\PycharmProjects\\HSE_NLP\\venv2\\lib\\site-packages\\sklearn\\decomposition\\_nmf.py:294: FutureWarning: The 'init' value, when 'init=None' and n_components is less than n_samples and n_features, will be changed from 'nndsvd' to 'nndsvda' in 1.1 (renaming of 0.26).\n",
      "  FutureWarning,\n",
      "C:\\Users\\robst\\PycharmProjects\\HSE_NLP\\venv2\\lib\\site-packages\\sklearn\\decomposition\\_nmf.py:1641: ConvergenceWarning: Maximum number of iterations 200 reached. Increase it to improve convergence.\n",
      "  ConvergenceWarning,\n",
      "C:\\Users\\robst\\PycharmProjects\\HSE_NLP\\venv2\\lib\\site-packages\\sklearn\\decomposition\\_nmf.py:294: FutureWarning: The 'init' value, when 'init=None' and n_components is less than n_samples and n_features, will be changed from 'nndsvd' to 'nndsvda' in 1.1 (renaming of 0.26).\n",
      "  FutureWarning,\n",
      "C:\\Users\\robst\\PycharmProjects\\HSE_NLP\\venv2\\lib\\site-packages\\sklearn\\decomposition\\_nmf.py:294: FutureWarning: The 'init' value, when 'init=None' and n_components is less than n_samples and n_features, will be changed from 'nndsvd' to 'nndsvda' in 1.1 (renaming of 0.26).\n",
      "  FutureWarning,\n",
      "C:\\Users\\robst\\PycharmProjects\\HSE_NLP\\venv2\\lib\\site-packages\\sklearn\\metrics\\_classification.py:1318: UndefinedMetricWarning: Precision is ill-defined and being set to 0.0 in labels with no predicted samples. Use `zero_division` parameter to control this behavior.\n",
      "  _warn_prf(average, modifier, msg_start, len(result))\n",
      "C:\\Users\\robst\\PycharmProjects\\HSE_NLP\\venv2\\lib\\site-packages\\sklearn\\metrics\\_classification.py:1318: UndefinedMetricWarning: Precision is ill-defined and being set to 0.0 in labels with no predicted samples. Use `zero_division` parameter to control this behavior.\n",
      "  _warn_prf(average, modifier, msg_start, len(result))\n",
      "C:\\Users\\robst\\PycharmProjects\\HSE_NLP\\venv2\\lib\\site-packages\\sklearn\\metrics\\_classification.py:1318: UndefinedMetricWarning: Precision is ill-defined and being set to 0.0 in labels with no predicted samples. Use `zero_division` parameter to control this behavior.\n",
      "  _warn_prf(average, modifier, msg_start, len(result))\n",
      "C:\\Users\\robst\\PycharmProjects\\HSE_NLP\\venv2\\lib\\site-packages\\sklearn\\metrics\\_classification.py:1318: UndefinedMetricWarning: Precision is ill-defined and being set to 0.0 in labels with no predicted samples. Use `zero_division` parameter to control this behavior.\n",
      "  _warn_prf(average, modifier, msg_start, len(result))\n",
      "C:\\Users\\robst\\PycharmProjects\\HSE_NLP\\venv2\\lib\\site-packages\\sklearn\\decomposition\\_nmf.py:294: FutureWarning: The 'init' value, when 'init=None' and n_components is less than n_samples and n_features, will be changed from 'nndsvd' to 'nndsvda' in 1.1 (renaming of 0.26).\n",
      "  FutureWarning,\n",
      "C:\\Users\\robst\\PycharmProjects\\HSE_NLP\\venv2\\lib\\site-packages\\sklearn\\decomposition\\_nmf.py:1641: ConvergenceWarning: Maximum number of iterations 200 reached. Increase it to improve convergence.\n",
      "  ConvergenceWarning,\n",
      "C:\\Users\\robst\\PycharmProjects\\HSE_NLP\\venv2\\lib\\site-packages\\sklearn\\decomposition\\_nmf.py:294: FutureWarning: The 'init' value, when 'init=None' and n_components is less than n_samples and n_features, will be changed from 'nndsvd' to 'nndsvda' in 1.1 (renaming of 0.26).\n",
      "  FutureWarning,\n",
      "C:\\Users\\robst\\PycharmProjects\\HSE_NLP\\venv2\\lib\\site-packages\\sklearn\\decomposition\\_nmf.py:294: FutureWarning: The 'init' value, when 'init=None' and n_components is less than n_samples and n_features, will be changed from 'nndsvd' to 'nndsvda' in 1.1 (renaming of 0.26).\n",
      "  FutureWarning,\n",
      "C:\\Users\\robst\\PycharmProjects\\HSE_NLP\\venv2\\lib\\site-packages\\sklearn\\decomposition\\_nmf.py:294: FutureWarning: The 'init' value, when 'init=None' and n_components is less than n_samples and n_features, will be changed from 'nndsvd' to 'nndsvda' in 1.1 (renaming of 0.26).\n",
      "  FutureWarning,\n",
      "C:\\Users\\robst\\PycharmProjects\\HSE_NLP\\venv2\\lib\\site-packages\\sklearn\\decomposition\\_nmf.py:294: FutureWarning: The 'init' value, when 'init=None' and n_components is less than n_samples and n_features, will be changed from 'nndsvd' to 'nndsvda' in 1.1 (renaming of 0.26).\n",
      "  FutureWarning,\n",
      "C:\\Users\\robst\\PycharmProjects\\HSE_NLP\\venv2\\lib\\site-packages\\sklearn\\decomposition\\_nmf.py:294: FutureWarning: The 'init' value, when 'init=None' and n_components is less than n_samples and n_features, will be changed from 'nndsvd' to 'nndsvda' in 1.1 (renaming of 0.26).\n",
      "  FutureWarning,\n"
     ]
    }
   ],
   "source": [
    "metrics_rf_svd, errors_rf_svd = eval_table(data['description_norm'], data['category_name'], pipeline_rf_svd)\n",
    "metrics_rf_nmf, errors_rf_nmf = eval_table(data['description_norm'], data['category_name'], pipeline_rf_nmf)\n",
    "metrics_sc_svd, errors_sc_svd = eval_table(data['description_norm'], data['category_name'], pipeline_sc_svd)\n",
    "metrics_sc_nmf, errors_sc_nmf = eval_table(data['description_norm'], data['category_name'], pipeline_sc_nmf)\n",
    "metrics_kc_svd, errors_kc_svd = eval_table(data['description_norm'], data['category_name'], pipeline_kc_svd)\n",
    "metrics_kc_nmf, errors_kc_nmf = eval_table(data['description_norm'], data['category_name'], pipeline_kc_nmf)\n",
    "metrics_ec_svd, errors_ec_svd = eval_table(data['description_norm'], data['category_name'], pipeline_ec_svd)\n",
    "metrics_ec_nmf, errors_ec_nmf = eval_table(data['description_norm'], data['category_name'], pipeline_ec_nmf)"
   ]
  },
  {
   "cell_type": "code",
   "execution_count": 70,
   "outputs": [
    {
     "data": {
      "text/plain": "                            precision  precision_std  recall  recall_std  \\\nМебель и интерьер                0.44           0.50    0.05        0.07   \nРемонт и строительство           0.00           0.00    0.00        0.00   \nДетская одежда и обувь           0.39           0.02    0.64        0.07   \nКвартиры                         0.84           0.07    0.83        0.09   \nОдежда, обувь, аксессуары        0.42           0.04    0.75        0.03   \nТелефоны                         0.83           0.41    0.10        0.07   \nПредложение услуг                0.65           0.14    0.27        0.07   \nБытовая техника                  0.33           0.52    0.03        0.04   \nАвтомобили                       0.79           0.13    0.30        0.09   \nТовары для детей и игрушки       0.61           0.15    0.11        0.04   \nmean                             0.53           0.20    0.31        0.06   \n\n                              f1  f1_std  \nМебель и интерьер           0.08    0.11  \nРемонт и строительство      0.00    0.00  \nДетская одежда и обувь      0.48    0.03  \nКвартиры                    0.83    0.06  \nОдежда, обувь, аксессуары   0.53    0.03  \nТелефоны                    0.17    0.12  \nПредложение услуг           0.38    0.08  \nБытовая техника             0.05    0.08  \nАвтомобили                  0.42    0.09  \nТовары для детей и игрушки  0.18    0.06  \nmean                        0.31    0.07  ",
      "text/html": "<div>\n<style scoped>\n    .dataframe tbody tr th:only-of-type {\n        vertical-align: middle;\n    }\n\n    .dataframe tbody tr th {\n        vertical-align: top;\n    }\n\n    .dataframe thead th {\n        text-align: right;\n    }\n</style>\n<table border=\"1\" class=\"dataframe\">\n  <thead>\n    <tr style=\"text-align: right;\">\n      <th></th>\n      <th>precision</th>\n      <th>precision_std</th>\n      <th>recall</th>\n      <th>recall_std</th>\n      <th>f1</th>\n      <th>f1_std</th>\n    </tr>\n  </thead>\n  <tbody>\n    <tr>\n      <th>Мебель и интерьер</th>\n      <td>0.44</td>\n      <td>0.50</td>\n      <td>0.05</td>\n      <td>0.07</td>\n      <td>0.08</td>\n      <td>0.11</td>\n    </tr>\n    <tr>\n      <th>Ремонт и строительство</th>\n      <td>0.00</td>\n      <td>0.00</td>\n      <td>0.00</td>\n      <td>0.00</td>\n      <td>0.00</td>\n      <td>0.00</td>\n    </tr>\n    <tr>\n      <th>Детская одежда и обувь</th>\n      <td>0.39</td>\n      <td>0.02</td>\n      <td>0.64</td>\n      <td>0.07</td>\n      <td>0.48</td>\n      <td>0.03</td>\n    </tr>\n    <tr>\n      <th>Квартиры</th>\n      <td>0.84</td>\n      <td>0.07</td>\n      <td>0.83</td>\n      <td>0.09</td>\n      <td>0.83</td>\n      <td>0.06</td>\n    </tr>\n    <tr>\n      <th>Одежда, обувь, аксессуары</th>\n      <td>0.42</td>\n      <td>0.04</td>\n      <td>0.75</td>\n      <td>0.03</td>\n      <td>0.53</td>\n      <td>0.03</td>\n    </tr>\n    <tr>\n      <th>Телефоны</th>\n      <td>0.83</td>\n      <td>0.41</td>\n      <td>0.10</td>\n      <td>0.07</td>\n      <td>0.17</td>\n      <td>0.12</td>\n    </tr>\n    <tr>\n      <th>Предложение услуг</th>\n      <td>0.65</td>\n      <td>0.14</td>\n      <td>0.27</td>\n      <td>0.07</td>\n      <td>0.38</td>\n      <td>0.08</td>\n    </tr>\n    <tr>\n      <th>Бытовая техника</th>\n      <td>0.33</td>\n      <td>0.52</td>\n      <td>0.03</td>\n      <td>0.04</td>\n      <td>0.05</td>\n      <td>0.08</td>\n    </tr>\n    <tr>\n      <th>Автомобили</th>\n      <td>0.79</td>\n      <td>0.13</td>\n      <td>0.30</td>\n      <td>0.09</td>\n      <td>0.42</td>\n      <td>0.09</td>\n    </tr>\n    <tr>\n      <th>Товары для детей и игрушки</th>\n      <td>0.61</td>\n      <td>0.15</td>\n      <td>0.11</td>\n      <td>0.04</td>\n      <td>0.18</td>\n      <td>0.06</td>\n    </tr>\n    <tr>\n      <th>mean</th>\n      <td>0.53</td>\n      <td>0.20</td>\n      <td>0.31</td>\n      <td>0.06</td>\n      <td>0.31</td>\n      <td>0.07</td>\n    </tr>\n  </tbody>\n</table>\n</div>"
     },
     "execution_count": 70,
     "metadata": {},
     "output_type": "execute_result"
    }
   ],
   "source": [
    "metrics_rf_svd"
   ],
   "metadata": {
    "collapsed": false,
    "ExecuteTime": {
     "end_time": "2023-06-11T19:17:10.345244200Z",
     "start_time": "2023-06-11T19:17:10.332211500Z"
    }
   }
  },
  {
   "cell_type": "code",
   "execution_count": 71,
   "outputs": [
    {
     "data": {
      "text/plain": "                            precision  precision_std  recall  recall_std  \\\nМебель и интерьер                0.58           0.49    0.08        0.08   \nРемонт и строительство           0.00           0.00    0.00        0.00   \nДетская одежда и обувь           0.62           0.04    0.62        0.06   \nКвартиры                         0.84           0.05    0.94        0.05   \nОдежда, обувь, аксессуары        0.40           0.03    0.81        0.02   \nТелефоны                         0.82           0.19    0.21        0.14   \nПредложение услуг                0.69           0.09    0.52        0.09   \nБытовая техника                  0.00           0.00    0.00        0.00   \nАвтомобили                       0.83           0.13    0.74        0.05   \nТовары для детей и игрушки       0.87           0.15    0.35        0.06   \nmean                             0.57           0.12    0.43        0.06   \n\n                              f1  f1_std  \nМебель и интерьер           0.12    0.12  \nРемонт и строительство      0.00    0.00  \nДетская одежда и обувь      0.62    0.05  \nКвартиры                    0.89    0.05  \nОдежда, обувь, аксессуары   0.53    0.03  \nТелефоны                    0.32    0.17  \nПредложение услуг           0.59    0.08  \nБытовая техника             0.00    0.00  \nАвтомобили                  0.78    0.08  \nТовары для детей и игрушки  0.49    0.08  \nmean                        0.43    0.07  ",
      "text/html": "<div>\n<style scoped>\n    .dataframe tbody tr th:only-of-type {\n        vertical-align: middle;\n    }\n\n    .dataframe tbody tr th {\n        vertical-align: top;\n    }\n\n    .dataframe thead th {\n        text-align: right;\n    }\n</style>\n<table border=\"1\" class=\"dataframe\">\n  <thead>\n    <tr style=\"text-align: right;\">\n      <th></th>\n      <th>precision</th>\n      <th>precision_std</th>\n      <th>recall</th>\n      <th>recall_std</th>\n      <th>f1</th>\n      <th>f1_std</th>\n    </tr>\n  </thead>\n  <tbody>\n    <tr>\n      <th>Мебель и интерьер</th>\n      <td>0.58</td>\n      <td>0.49</td>\n      <td>0.08</td>\n      <td>0.08</td>\n      <td>0.12</td>\n      <td>0.12</td>\n    </tr>\n    <tr>\n      <th>Ремонт и строительство</th>\n      <td>0.00</td>\n      <td>0.00</td>\n      <td>0.00</td>\n      <td>0.00</td>\n      <td>0.00</td>\n      <td>0.00</td>\n    </tr>\n    <tr>\n      <th>Детская одежда и обувь</th>\n      <td>0.62</td>\n      <td>0.04</td>\n      <td>0.62</td>\n      <td>0.06</td>\n      <td>0.62</td>\n      <td>0.05</td>\n    </tr>\n    <tr>\n      <th>Квартиры</th>\n      <td>0.84</td>\n      <td>0.05</td>\n      <td>0.94</td>\n      <td>0.05</td>\n      <td>0.89</td>\n      <td>0.05</td>\n    </tr>\n    <tr>\n      <th>Одежда, обувь, аксессуары</th>\n      <td>0.40</td>\n      <td>0.03</td>\n      <td>0.81</td>\n      <td>0.02</td>\n      <td>0.53</td>\n      <td>0.03</td>\n    </tr>\n    <tr>\n      <th>Телефоны</th>\n      <td>0.82</td>\n      <td>0.19</td>\n      <td>0.21</td>\n      <td>0.14</td>\n      <td>0.32</td>\n      <td>0.17</td>\n    </tr>\n    <tr>\n      <th>Предложение услуг</th>\n      <td>0.69</td>\n      <td>0.09</td>\n      <td>0.52</td>\n      <td>0.09</td>\n      <td>0.59</td>\n      <td>0.08</td>\n    </tr>\n    <tr>\n      <th>Бытовая техника</th>\n      <td>0.00</td>\n      <td>0.00</td>\n      <td>0.00</td>\n      <td>0.00</td>\n      <td>0.00</td>\n      <td>0.00</td>\n    </tr>\n    <tr>\n      <th>Автомобили</th>\n      <td>0.83</td>\n      <td>0.13</td>\n      <td>0.74</td>\n      <td>0.05</td>\n      <td>0.78</td>\n      <td>0.08</td>\n    </tr>\n    <tr>\n      <th>Товары для детей и игрушки</th>\n      <td>0.87</td>\n      <td>0.15</td>\n      <td>0.35</td>\n      <td>0.06</td>\n      <td>0.49</td>\n      <td>0.08</td>\n    </tr>\n    <tr>\n      <th>mean</th>\n      <td>0.57</td>\n      <td>0.12</td>\n      <td>0.43</td>\n      <td>0.06</td>\n      <td>0.43</td>\n      <td>0.07</td>\n    </tr>\n  </tbody>\n</table>\n</div>"
     },
     "execution_count": 71,
     "metadata": {},
     "output_type": "execute_result"
    }
   ],
   "source": [
    "metrics_rf_nmf"
   ],
   "metadata": {
    "collapsed": false,
    "ExecuteTime": {
     "end_time": "2023-06-11T19:17:10.425785300Z",
     "start_time": "2023-06-11T19:17:10.345747800Z"
    }
   }
  },
  {
   "cell_type": "code",
   "execution_count": 72,
   "outputs": [
    {
     "data": {
      "text/plain": "                            precision  precision_std  recall  recall_std  \\\nМебель и интерьер                0.14          -0.01    0.03        0.01   \nРемонт и строительство           0.00           0.00    0.00        0.00   \nДетская одежда и обувь           0.23           0.02   -0.02       -0.01   \nКвартиры                         0.00          -0.02    0.11       -0.04   \nОдежда, обувь, аксессуары       -0.02          -0.01    0.06       -0.01   \nТелефоны                        -0.01          -0.22    0.11        0.07   \nПредложение услуг                0.04          -0.05    0.25        0.02   \nБытовая техника                 -0.33          -0.52   -0.03       -0.04   \nАвтомобили                       0.04           0.00    0.44       -0.04   \nТовары для детей и игрушки       0.26           0.00    0.24        0.02   \nmean                             0.04          -0.08    0.12        0.00   \n\n                              f1  f1_std  \nМебель и интерьер           0.04    0.01  \nРемонт и строительство      0.00    0.00  \nДетская одежда и обувь      0.14    0.02  \nКвартиры                    0.06   -0.01  \nОдежда, обувь, аксессуары   0.00    0.00  \nТелефоны                    0.15    0.05  \nПредложение услуг           0.21    0.00  \nБытовая техника            -0.05   -0.08  \nАвтомобили                  0.36   -0.01  \nТовары для детей и игрушки  0.31    0.02  \nmean                        0.12    0.00  ",
      "text/html": "<div>\n<style scoped>\n    .dataframe tbody tr th:only-of-type {\n        vertical-align: middle;\n    }\n\n    .dataframe tbody tr th {\n        vertical-align: top;\n    }\n\n    .dataframe thead th {\n        text-align: right;\n    }\n</style>\n<table border=\"1\" class=\"dataframe\">\n  <thead>\n    <tr style=\"text-align: right;\">\n      <th></th>\n      <th>precision</th>\n      <th>precision_std</th>\n      <th>recall</th>\n      <th>recall_std</th>\n      <th>f1</th>\n      <th>f1_std</th>\n    </tr>\n  </thead>\n  <tbody>\n    <tr>\n      <th>Мебель и интерьер</th>\n      <td>0.14</td>\n      <td>-0.01</td>\n      <td>0.03</td>\n      <td>0.01</td>\n      <td>0.04</td>\n      <td>0.01</td>\n    </tr>\n    <tr>\n      <th>Ремонт и строительство</th>\n      <td>0.00</td>\n      <td>0.00</td>\n      <td>0.00</td>\n      <td>0.00</td>\n      <td>0.00</td>\n      <td>0.00</td>\n    </tr>\n    <tr>\n      <th>Детская одежда и обувь</th>\n      <td>0.23</td>\n      <td>0.02</td>\n      <td>-0.02</td>\n      <td>-0.01</td>\n      <td>0.14</td>\n      <td>0.02</td>\n    </tr>\n    <tr>\n      <th>Квартиры</th>\n      <td>0.00</td>\n      <td>-0.02</td>\n      <td>0.11</td>\n      <td>-0.04</td>\n      <td>0.06</td>\n      <td>-0.01</td>\n    </tr>\n    <tr>\n      <th>Одежда, обувь, аксессуары</th>\n      <td>-0.02</td>\n      <td>-0.01</td>\n      <td>0.06</td>\n      <td>-0.01</td>\n      <td>0.00</td>\n      <td>0.00</td>\n    </tr>\n    <tr>\n      <th>Телефоны</th>\n      <td>-0.01</td>\n      <td>-0.22</td>\n      <td>0.11</td>\n      <td>0.07</td>\n      <td>0.15</td>\n      <td>0.05</td>\n    </tr>\n    <tr>\n      <th>Предложение услуг</th>\n      <td>0.04</td>\n      <td>-0.05</td>\n      <td>0.25</td>\n      <td>0.02</td>\n      <td>0.21</td>\n      <td>0.00</td>\n    </tr>\n    <tr>\n      <th>Бытовая техника</th>\n      <td>-0.33</td>\n      <td>-0.52</td>\n      <td>-0.03</td>\n      <td>-0.04</td>\n      <td>-0.05</td>\n      <td>-0.08</td>\n    </tr>\n    <tr>\n      <th>Автомобили</th>\n      <td>0.04</td>\n      <td>0.00</td>\n      <td>0.44</td>\n      <td>-0.04</td>\n      <td>0.36</td>\n      <td>-0.01</td>\n    </tr>\n    <tr>\n      <th>Товары для детей и игрушки</th>\n      <td>0.26</td>\n      <td>0.00</td>\n      <td>0.24</td>\n      <td>0.02</td>\n      <td>0.31</td>\n      <td>0.02</td>\n    </tr>\n    <tr>\n      <th>mean</th>\n      <td>0.04</td>\n      <td>-0.08</td>\n      <td>0.12</td>\n      <td>0.00</td>\n      <td>0.12</td>\n      <td>0.00</td>\n    </tr>\n  </tbody>\n</table>\n</div>"
     },
     "execution_count": 72,
     "metadata": {},
     "output_type": "execute_result"
    }
   ],
   "source": [
    "metrics_rf_nmf - metrics_rf_svd"
   ],
   "metadata": {
    "collapsed": false,
    "ExecuteTime": {
     "end_time": "2023-06-11T19:17:10.446740500Z",
     "start_time": "2023-06-11T19:17:10.376985600Z"
    }
   }
  },
  {
   "cell_type": "code",
   "execution_count": 73,
   "outputs": [
    {
     "data": {
      "text/plain": "                            precision  precision_std  recall  recall_std  \\\nМебель и интерьер                0.55           0.14    0.54        0.11   \nРемонт и строительство           0.40           0.16    0.28        0.18   \nДетская одежда и обувь           0.64           0.06    0.73        0.06   \nКвартиры                         0.95           0.04    0.92        0.06   \nОдежда, обувь, аксессуары        0.67           0.07    0.67        0.07   \nТелефоны                         0.70           0.14    0.66        0.12   \nПредложение услуг                0.74           0.10    0.65        0.12   \nБытовая техника                  0.25           0.10    0.25        0.13   \nАвтомобили                       0.77           0.05    0.78        0.06   \nТовары для детей и игрушки       0.59           0.10    0.52        0.10   \nmean                             0.63           0.10    0.60        0.10   \n\n                              f1  f1_std  \nМебель и интерьер           0.54    0.12  \nРемонт и строительство      0.32    0.17  \nДетская одежда и обувь      0.68    0.02  \nКвартиры                    0.93    0.04  \nОдежда, обувь, аксессуары   0.66    0.04  \nТелефоны                    0.67    0.12  \nПредложение услуг           0.69    0.10  \nБытовая техника             0.24    0.10  \nАвтомобили                  0.77    0.04  \nТовары для детей и игрушки  0.55    0.09  \nmean                        0.60    0.08  ",
      "text/html": "<div>\n<style scoped>\n    .dataframe tbody tr th:only-of-type {\n        vertical-align: middle;\n    }\n\n    .dataframe tbody tr th {\n        vertical-align: top;\n    }\n\n    .dataframe thead th {\n        text-align: right;\n    }\n</style>\n<table border=\"1\" class=\"dataframe\">\n  <thead>\n    <tr style=\"text-align: right;\">\n      <th></th>\n      <th>precision</th>\n      <th>precision_std</th>\n      <th>recall</th>\n      <th>recall_std</th>\n      <th>f1</th>\n      <th>f1_std</th>\n    </tr>\n  </thead>\n  <tbody>\n    <tr>\n      <th>Мебель и интерьер</th>\n      <td>0.55</td>\n      <td>0.14</td>\n      <td>0.54</td>\n      <td>0.11</td>\n      <td>0.54</td>\n      <td>0.12</td>\n    </tr>\n    <tr>\n      <th>Ремонт и строительство</th>\n      <td>0.40</td>\n      <td>0.16</td>\n      <td>0.28</td>\n      <td>0.18</td>\n      <td>0.32</td>\n      <td>0.17</td>\n    </tr>\n    <tr>\n      <th>Детская одежда и обувь</th>\n      <td>0.64</td>\n      <td>0.06</td>\n      <td>0.73</td>\n      <td>0.06</td>\n      <td>0.68</td>\n      <td>0.02</td>\n    </tr>\n    <tr>\n      <th>Квартиры</th>\n      <td>0.95</td>\n      <td>0.04</td>\n      <td>0.92</td>\n      <td>0.06</td>\n      <td>0.93</td>\n      <td>0.04</td>\n    </tr>\n    <tr>\n      <th>Одежда, обувь, аксессуары</th>\n      <td>0.67</td>\n      <td>0.07</td>\n      <td>0.67</td>\n      <td>0.07</td>\n      <td>0.66</td>\n      <td>0.04</td>\n    </tr>\n    <tr>\n      <th>Телефоны</th>\n      <td>0.70</td>\n      <td>0.14</td>\n      <td>0.66</td>\n      <td>0.12</td>\n      <td>0.67</td>\n      <td>0.12</td>\n    </tr>\n    <tr>\n      <th>Предложение услуг</th>\n      <td>0.74</td>\n      <td>0.10</td>\n      <td>0.65</td>\n      <td>0.12</td>\n      <td>0.69</td>\n      <td>0.10</td>\n    </tr>\n    <tr>\n      <th>Бытовая техника</th>\n      <td>0.25</td>\n      <td>0.10</td>\n      <td>0.25</td>\n      <td>0.13</td>\n      <td>0.24</td>\n      <td>0.10</td>\n    </tr>\n    <tr>\n      <th>Автомобили</th>\n      <td>0.77</td>\n      <td>0.05</td>\n      <td>0.78</td>\n      <td>0.06</td>\n      <td>0.77</td>\n      <td>0.04</td>\n    </tr>\n    <tr>\n      <th>Товары для детей и игрушки</th>\n      <td>0.59</td>\n      <td>0.10</td>\n      <td>0.52</td>\n      <td>0.10</td>\n      <td>0.55</td>\n      <td>0.09</td>\n    </tr>\n    <tr>\n      <th>mean</th>\n      <td>0.63</td>\n      <td>0.10</td>\n      <td>0.60</td>\n      <td>0.10</td>\n      <td>0.60</td>\n      <td>0.08</td>\n    </tr>\n  </tbody>\n</table>\n</div>"
     },
     "execution_count": 73,
     "metadata": {},
     "output_type": "execute_result"
    }
   ],
   "source": [
    "metrics_sc_svd"
   ],
   "metadata": {
    "collapsed": false,
    "ExecuteTime": {
     "end_time": "2023-06-11T19:17:10.465320900Z",
     "start_time": "2023-06-11T19:17:10.409106400Z"
    }
   }
  },
  {
   "cell_type": "code",
   "execution_count": 74,
   "outputs": [
    {
     "data": {
      "text/plain": "                            precision  precision_std  recall  recall_std  \\\nМебель и интерьер                0.71           0.20    0.36        0.08   \nРемонт и строительство           0.09           0.20    0.02        0.03   \nДетская одежда и обувь           0.53           0.13    0.70        0.23   \nКвартиры                         0.70           0.14    0.96        0.03   \nОдежда, обувь, аксессуары        0.60           0.15    0.61        0.20   \nТелефоны                         0.63           0.13    0.45        0.17   \nПредложение услуг                0.87           0.13    0.25        0.10   \nБытовая техника                  0.03           0.05    0.04        0.08   \nАвтомобили                       0.72           0.16    0.76        0.16   \nТовары для детей и игрушки       0.70           0.19    0.36        0.10   \nmean                             0.56           0.15    0.45        0.12   \n\n                              f1  f1_std  \nМебель и интерьер           0.46    0.08  \nРемонт и строительство      0.03    0.05  \nДетская одежда и обувь      0.56    0.08  \nКвартиры                    0.80    0.09  \nОдежда, обувь, аксессуары   0.57    0.04  \nТелефоны                    0.50    0.10  \nПредложение услуг           0.38    0.12  \nБытовая техника             0.04    0.06  \nАвтомобили                  0.71    0.06  \nТовары для детей и игрушки  0.46    0.12  \nmean                        0.45    0.08  ",
      "text/html": "<div>\n<style scoped>\n    .dataframe tbody tr th:only-of-type {\n        vertical-align: middle;\n    }\n\n    .dataframe tbody tr th {\n        vertical-align: top;\n    }\n\n    .dataframe thead th {\n        text-align: right;\n    }\n</style>\n<table border=\"1\" class=\"dataframe\">\n  <thead>\n    <tr style=\"text-align: right;\">\n      <th></th>\n      <th>precision</th>\n      <th>precision_std</th>\n      <th>recall</th>\n      <th>recall_std</th>\n      <th>f1</th>\n      <th>f1_std</th>\n    </tr>\n  </thead>\n  <tbody>\n    <tr>\n      <th>Мебель и интерьер</th>\n      <td>0.71</td>\n      <td>0.20</td>\n      <td>0.36</td>\n      <td>0.08</td>\n      <td>0.46</td>\n      <td>0.08</td>\n    </tr>\n    <tr>\n      <th>Ремонт и строительство</th>\n      <td>0.09</td>\n      <td>0.20</td>\n      <td>0.02</td>\n      <td>0.03</td>\n      <td>0.03</td>\n      <td>0.05</td>\n    </tr>\n    <tr>\n      <th>Детская одежда и обувь</th>\n      <td>0.53</td>\n      <td>0.13</td>\n      <td>0.70</td>\n      <td>0.23</td>\n      <td>0.56</td>\n      <td>0.08</td>\n    </tr>\n    <tr>\n      <th>Квартиры</th>\n      <td>0.70</td>\n      <td>0.14</td>\n      <td>0.96</td>\n      <td>0.03</td>\n      <td>0.80</td>\n      <td>0.09</td>\n    </tr>\n    <tr>\n      <th>Одежда, обувь, аксессуары</th>\n      <td>0.60</td>\n      <td>0.15</td>\n      <td>0.61</td>\n      <td>0.20</td>\n      <td>0.57</td>\n      <td>0.04</td>\n    </tr>\n    <tr>\n      <th>Телефоны</th>\n      <td>0.63</td>\n      <td>0.13</td>\n      <td>0.45</td>\n      <td>0.17</td>\n      <td>0.50</td>\n      <td>0.10</td>\n    </tr>\n    <tr>\n      <th>Предложение услуг</th>\n      <td>0.87</td>\n      <td>0.13</td>\n      <td>0.25</td>\n      <td>0.10</td>\n      <td>0.38</td>\n      <td>0.12</td>\n    </tr>\n    <tr>\n      <th>Бытовая техника</th>\n      <td>0.03</td>\n      <td>0.05</td>\n      <td>0.04</td>\n      <td>0.08</td>\n      <td>0.04</td>\n      <td>0.06</td>\n    </tr>\n    <tr>\n      <th>Автомобили</th>\n      <td>0.72</td>\n      <td>0.16</td>\n      <td>0.76</td>\n      <td>0.16</td>\n      <td>0.71</td>\n      <td>0.06</td>\n    </tr>\n    <tr>\n      <th>Товары для детей и игрушки</th>\n      <td>0.70</td>\n      <td>0.19</td>\n      <td>0.36</td>\n      <td>0.10</td>\n      <td>0.46</td>\n      <td>0.12</td>\n    </tr>\n    <tr>\n      <th>mean</th>\n      <td>0.56</td>\n      <td>0.15</td>\n      <td>0.45</td>\n      <td>0.12</td>\n      <td>0.45</td>\n      <td>0.08</td>\n    </tr>\n  </tbody>\n</table>\n</div>"
     },
     "execution_count": 74,
     "metadata": {},
     "output_type": "execute_result"
    }
   ],
   "source": [
    "metrics_sc_nmf"
   ],
   "metadata": {
    "collapsed": false,
    "ExecuteTime": {
     "end_time": "2023-06-11T19:17:10.494125500Z",
     "start_time": "2023-06-11T19:17:10.423283600Z"
    }
   }
  },
  {
   "cell_type": "code",
   "execution_count": 75,
   "outputs": [
    {
     "data": {
      "text/plain": "                            precision  precision_std  recall  recall_std  \\\nМебель и интерьер                0.16           0.06   -0.18       -0.03   \nРемонт и строительство          -0.31           0.04   -0.26       -0.15   \nДетская одежда и обувь          -0.11           0.07   -0.03        0.17   \nКвартиры                        -0.25           0.10    0.04       -0.03   \nОдежда, обувь, аксессуары       -0.07           0.08   -0.06        0.13   \nТелефоны                        -0.07          -0.01   -0.21        0.05   \nПредложение услуг                0.13           0.03   -0.40       -0.02   \nБытовая техника                 -0.22          -0.05   -0.21       -0.05   \nАвтомобили                      -0.05           0.11   -0.02        0.10   \nТовары для детей и игрушки       0.11           0.09   -0.16        0.00   \nmean                            -0.07           0.05   -0.15        0.02   \n\n                              f1  f1_std  \nМебель и интерьер          -0.08   -0.04  \nРемонт и строительство     -0.29   -0.12  \nДетская одежда и обувь     -0.12    0.06  \nКвартиры                   -0.13    0.05  \nОдежда, обувь, аксессуары  -0.09    0.00  \nТелефоны                   -0.17   -0.02  \nПредложение услуг          -0.31    0.02  \nБытовая техника            -0.20   -0.04  \nАвтомобили                 -0.06    0.02  \nТовары для детей и игрушки -0.09    0.03  \nmean                       -0.15    0.00  ",
      "text/html": "<div>\n<style scoped>\n    .dataframe tbody tr th:only-of-type {\n        vertical-align: middle;\n    }\n\n    .dataframe tbody tr th {\n        vertical-align: top;\n    }\n\n    .dataframe thead th {\n        text-align: right;\n    }\n</style>\n<table border=\"1\" class=\"dataframe\">\n  <thead>\n    <tr style=\"text-align: right;\">\n      <th></th>\n      <th>precision</th>\n      <th>precision_std</th>\n      <th>recall</th>\n      <th>recall_std</th>\n      <th>f1</th>\n      <th>f1_std</th>\n    </tr>\n  </thead>\n  <tbody>\n    <tr>\n      <th>Мебель и интерьер</th>\n      <td>0.16</td>\n      <td>0.06</td>\n      <td>-0.18</td>\n      <td>-0.03</td>\n      <td>-0.08</td>\n      <td>-0.04</td>\n    </tr>\n    <tr>\n      <th>Ремонт и строительство</th>\n      <td>-0.31</td>\n      <td>0.04</td>\n      <td>-0.26</td>\n      <td>-0.15</td>\n      <td>-0.29</td>\n      <td>-0.12</td>\n    </tr>\n    <tr>\n      <th>Детская одежда и обувь</th>\n      <td>-0.11</td>\n      <td>0.07</td>\n      <td>-0.03</td>\n      <td>0.17</td>\n      <td>-0.12</td>\n      <td>0.06</td>\n    </tr>\n    <tr>\n      <th>Квартиры</th>\n      <td>-0.25</td>\n      <td>0.10</td>\n      <td>0.04</td>\n      <td>-0.03</td>\n      <td>-0.13</td>\n      <td>0.05</td>\n    </tr>\n    <tr>\n      <th>Одежда, обувь, аксессуары</th>\n      <td>-0.07</td>\n      <td>0.08</td>\n      <td>-0.06</td>\n      <td>0.13</td>\n      <td>-0.09</td>\n      <td>0.00</td>\n    </tr>\n    <tr>\n      <th>Телефоны</th>\n      <td>-0.07</td>\n      <td>-0.01</td>\n      <td>-0.21</td>\n      <td>0.05</td>\n      <td>-0.17</td>\n      <td>-0.02</td>\n    </tr>\n    <tr>\n      <th>Предложение услуг</th>\n      <td>0.13</td>\n      <td>0.03</td>\n      <td>-0.40</td>\n      <td>-0.02</td>\n      <td>-0.31</td>\n      <td>0.02</td>\n    </tr>\n    <tr>\n      <th>Бытовая техника</th>\n      <td>-0.22</td>\n      <td>-0.05</td>\n      <td>-0.21</td>\n      <td>-0.05</td>\n      <td>-0.20</td>\n      <td>-0.04</td>\n    </tr>\n    <tr>\n      <th>Автомобили</th>\n      <td>-0.05</td>\n      <td>0.11</td>\n      <td>-0.02</td>\n      <td>0.10</td>\n      <td>-0.06</td>\n      <td>0.02</td>\n    </tr>\n    <tr>\n      <th>Товары для детей и игрушки</th>\n      <td>0.11</td>\n      <td>0.09</td>\n      <td>-0.16</td>\n      <td>0.00</td>\n      <td>-0.09</td>\n      <td>0.03</td>\n    </tr>\n    <tr>\n      <th>mean</th>\n      <td>-0.07</td>\n      <td>0.05</td>\n      <td>-0.15</td>\n      <td>0.02</td>\n      <td>-0.15</td>\n      <td>0.00</td>\n    </tr>\n  </tbody>\n</table>\n</div>"
     },
     "execution_count": 75,
     "metadata": {},
     "output_type": "execute_result"
    }
   ],
   "source": [
    "metrics_sc_nmf - metrics_sc_svd"
   ],
   "metadata": {
    "collapsed": false,
    "ExecuteTime": {
     "end_time": "2023-06-11T19:17:10.495182500Z",
     "start_time": "2023-06-11T19:17:10.454799600Z"
    }
   }
  },
  {
   "cell_type": "code",
   "execution_count": 76,
   "outputs": [
    {
     "data": {
      "text/plain": "                            precision  precision_std  recall  recall_std  \\\nМебель и интерьер                0.30           0.12    0.25        0.08   \nРемонт и строительство           0.10           0.11    0.05        0.05   \nДетская одежда и обувь           0.42           0.06    0.47        0.07   \nКвартиры                         0.87           0.11    0.52        0.15   \nОдежда, обувь, аксессуары        0.44           0.04    0.56        0.06   \nТелефоны                         0.47           0.24    0.19        0.07   \nПредложение услуг                0.47           0.09    0.49        0.09   \nБытовая техника                  0.10           0.06    0.18        0.12   \nАвтомобили                       0.28           0.08    0.41        0.13   \nТовары для детей и игрушки       0.37           0.12    0.16        0.08   \nmean                             0.38           0.10    0.33        0.09   \n\n                              f1  f1_std  \nМебель и интерьер           0.27    0.09  \nРемонт и строительство      0.07    0.06  \nДетская одежда и обувь      0.44    0.06  \nКвартиры                    0.63    0.12  \nОдежда, обувь, аксессуары   0.49    0.04  \nТелефоны                    0.26    0.09  \nПредложение услуг           0.48    0.09  \nБытовая техника             0.13    0.08  \nАвтомобили                  0.32    0.07  \nТовары для детей и игрушки  0.22    0.10  \nmean                        0.33    0.08  ",
      "text/html": "<div>\n<style scoped>\n    .dataframe tbody tr th:only-of-type {\n        vertical-align: middle;\n    }\n\n    .dataframe tbody tr th {\n        vertical-align: top;\n    }\n\n    .dataframe thead th {\n        text-align: right;\n    }\n</style>\n<table border=\"1\" class=\"dataframe\">\n  <thead>\n    <tr style=\"text-align: right;\">\n      <th></th>\n      <th>precision</th>\n      <th>precision_std</th>\n      <th>recall</th>\n      <th>recall_std</th>\n      <th>f1</th>\n      <th>f1_std</th>\n    </tr>\n  </thead>\n  <tbody>\n    <tr>\n      <th>Мебель и интерьер</th>\n      <td>0.30</td>\n      <td>0.12</td>\n      <td>0.25</td>\n      <td>0.08</td>\n      <td>0.27</td>\n      <td>0.09</td>\n    </tr>\n    <tr>\n      <th>Ремонт и строительство</th>\n      <td>0.10</td>\n      <td>0.11</td>\n      <td>0.05</td>\n      <td>0.05</td>\n      <td>0.07</td>\n      <td>0.06</td>\n    </tr>\n    <tr>\n      <th>Детская одежда и обувь</th>\n      <td>0.42</td>\n      <td>0.06</td>\n      <td>0.47</td>\n      <td>0.07</td>\n      <td>0.44</td>\n      <td>0.06</td>\n    </tr>\n    <tr>\n      <th>Квартиры</th>\n      <td>0.87</td>\n      <td>0.11</td>\n      <td>0.52</td>\n      <td>0.15</td>\n      <td>0.63</td>\n      <td>0.12</td>\n    </tr>\n    <tr>\n      <th>Одежда, обувь, аксессуары</th>\n      <td>0.44</td>\n      <td>0.04</td>\n      <td>0.56</td>\n      <td>0.06</td>\n      <td>0.49</td>\n      <td>0.04</td>\n    </tr>\n    <tr>\n      <th>Телефоны</th>\n      <td>0.47</td>\n      <td>0.24</td>\n      <td>0.19</td>\n      <td>0.07</td>\n      <td>0.26</td>\n      <td>0.09</td>\n    </tr>\n    <tr>\n      <th>Предложение услуг</th>\n      <td>0.47</td>\n      <td>0.09</td>\n      <td>0.49</td>\n      <td>0.09</td>\n      <td>0.48</td>\n      <td>0.09</td>\n    </tr>\n    <tr>\n      <th>Бытовая техника</th>\n      <td>0.10</td>\n      <td>0.06</td>\n      <td>0.18</td>\n      <td>0.12</td>\n      <td>0.13</td>\n      <td>0.08</td>\n    </tr>\n    <tr>\n      <th>Автомобили</th>\n      <td>0.28</td>\n      <td>0.08</td>\n      <td>0.41</td>\n      <td>0.13</td>\n      <td>0.32</td>\n      <td>0.07</td>\n    </tr>\n    <tr>\n      <th>Товары для детей и игрушки</th>\n      <td>0.37</td>\n      <td>0.12</td>\n      <td>0.16</td>\n      <td>0.08</td>\n      <td>0.22</td>\n      <td>0.10</td>\n    </tr>\n    <tr>\n      <th>mean</th>\n      <td>0.38</td>\n      <td>0.10</td>\n      <td>0.33</td>\n      <td>0.09</td>\n      <td>0.33</td>\n      <td>0.08</td>\n    </tr>\n  </tbody>\n</table>\n</div>"
     },
     "execution_count": 76,
     "metadata": {},
     "output_type": "execute_result"
    }
   ],
   "source": [
    "metrics_kc_svd"
   ],
   "metadata": {
    "collapsed": false,
    "ExecuteTime": {
     "end_time": "2023-06-11T19:17:10.599061800Z",
     "start_time": "2023-06-11T19:17:10.468526600Z"
    }
   }
  },
  {
   "cell_type": "code",
   "execution_count": 77,
   "outputs": [
    {
     "data": {
      "text/plain": "                            precision  precision_std  recall  recall_std  \\\nМебель и интерьер                0.40           0.15    0.29        0.09   \nРемонт и строительство           0.17           0.18    0.07        0.05   \nДетская одежда и обувь           0.49           0.05    0.49        0.06   \nКвартиры                         0.80           0.09    0.77        0.13   \nОдежда, обувь, аксессуары        0.52           0.06    0.53        0.05   \nТелефоны                         0.42           0.15    0.25        0.07   \nПредложение услуг                0.38           0.09    0.64        0.09   \nБытовая техника                  0.09           0.06    0.16        0.09   \nАвтомобили                       0.40           0.14    0.50        0.21   \nТовары для детей и игрушки       0.38           0.08    0.19        0.06   \nmean                             0.40           0.11    0.39        0.09   \n\n                              f1  f1_std  \nМебель и интерьер           0.33    0.11  \nРемонт и строительство      0.10    0.07  \nДетская одежда и обувь      0.49    0.04  \nКвартиры                    0.78    0.09  \nОдежда, обувь, аксессуары   0.52    0.04  \nТелефоны                    0.31    0.09  \nПредложение услуг           0.47    0.07  \nБытовая техника             0.11    0.07  \nАвтомобили                  0.43    0.16  \nТовары для детей и игрушки  0.25    0.06  \nmean                        0.38    0.08  ",
      "text/html": "<div>\n<style scoped>\n    .dataframe tbody tr th:only-of-type {\n        vertical-align: middle;\n    }\n\n    .dataframe tbody tr th {\n        vertical-align: top;\n    }\n\n    .dataframe thead th {\n        text-align: right;\n    }\n</style>\n<table border=\"1\" class=\"dataframe\">\n  <thead>\n    <tr style=\"text-align: right;\">\n      <th></th>\n      <th>precision</th>\n      <th>precision_std</th>\n      <th>recall</th>\n      <th>recall_std</th>\n      <th>f1</th>\n      <th>f1_std</th>\n    </tr>\n  </thead>\n  <tbody>\n    <tr>\n      <th>Мебель и интерьер</th>\n      <td>0.40</td>\n      <td>0.15</td>\n      <td>0.29</td>\n      <td>0.09</td>\n      <td>0.33</td>\n      <td>0.11</td>\n    </tr>\n    <tr>\n      <th>Ремонт и строительство</th>\n      <td>0.17</td>\n      <td>0.18</td>\n      <td>0.07</td>\n      <td>0.05</td>\n      <td>0.10</td>\n      <td>0.07</td>\n    </tr>\n    <tr>\n      <th>Детская одежда и обувь</th>\n      <td>0.49</td>\n      <td>0.05</td>\n      <td>0.49</td>\n      <td>0.06</td>\n      <td>0.49</td>\n      <td>0.04</td>\n    </tr>\n    <tr>\n      <th>Квартиры</th>\n      <td>0.80</td>\n      <td>0.09</td>\n      <td>0.77</td>\n      <td>0.13</td>\n      <td>0.78</td>\n      <td>0.09</td>\n    </tr>\n    <tr>\n      <th>Одежда, обувь, аксессуары</th>\n      <td>0.52</td>\n      <td>0.06</td>\n      <td>0.53</td>\n      <td>0.05</td>\n      <td>0.52</td>\n      <td>0.04</td>\n    </tr>\n    <tr>\n      <th>Телефоны</th>\n      <td>0.42</td>\n      <td>0.15</td>\n      <td>0.25</td>\n      <td>0.07</td>\n      <td>0.31</td>\n      <td>0.09</td>\n    </tr>\n    <tr>\n      <th>Предложение услуг</th>\n      <td>0.38</td>\n      <td>0.09</td>\n      <td>0.64</td>\n      <td>0.09</td>\n      <td>0.47</td>\n      <td>0.07</td>\n    </tr>\n    <tr>\n      <th>Бытовая техника</th>\n      <td>0.09</td>\n      <td>0.06</td>\n      <td>0.16</td>\n      <td>0.09</td>\n      <td>0.11</td>\n      <td>0.07</td>\n    </tr>\n    <tr>\n      <th>Автомобили</th>\n      <td>0.40</td>\n      <td>0.14</td>\n      <td>0.50</td>\n      <td>0.21</td>\n      <td>0.43</td>\n      <td>0.16</td>\n    </tr>\n    <tr>\n      <th>Товары для детей и игрушки</th>\n      <td>0.38</td>\n      <td>0.08</td>\n      <td>0.19</td>\n      <td>0.06</td>\n      <td>0.25</td>\n      <td>0.06</td>\n    </tr>\n    <tr>\n      <th>mean</th>\n      <td>0.40</td>\n      <td>0.11</td>\n      <td>0.39</td>\n      <td>0.09</td>\n      <td>0.38</td>\n      <td>0.08</td>\n    </tr>\n  </tbody>\n</table>\n</div>"
     },
     "execution_count": 77,
     "metadata": {},
     "output_type": "execute_result"
    }
   ],
   "source": [
    "metrics_kc_nmf"
   ],
   "metadata": {
    "collapsed": false,
    "ExecuteTime": {
     "end_time": "2023-06-11T19:17:10.635564500Z",
     "start_time": "2023-06-11T19:17:10.499650500Z"
    }
   }
  },
  {
   "cell_type": "code",
   "execution_count": 78,
   "outputs": [
    {
     "data": {
      "text/plain": "                            precision  precision_std  recall  recall_std  \\\nМебель и интерьер                0.10           0.03    0.04        0.01   \nРемонт и строительство           0.07           0.07    0.02        0.00   \nДетская одежда и обувь           0.07          -0.01    0.02       -0.01   \nКвартиры                        -0.07          -0.02    0.25       -0.02   \nОдежда, обувь, аксессуары        0.08           0.02   -0.03       -0.01   \nТелефоны                        -0.05          -0.09    0.06        0.00   \nПредложение услуг               -0.09           0.00    0.15        0.00   \nБытовая техника                 -0.01           0.00   -0.02       -0.03   \nАвтомобили                       0.12           0.06    0.09        0.08   \nТовары для детей и игрушки       0.01          -0.04    0.03       -0.02   \nmean                             0.02           0.01    0.06        0.00   \n\n                              f1  f1_std  \nМебель и интерьер           0.06    0.02  \nРемонт и строительство      0.03    0.01  \nДетская одежда и обувь      0.05   -0.02  \nКвартиры                    0.15   -0.03  \nОдежда, обувь, аксессуары   0.03    0.00  \nТелефоны                    0.05    0.00  \nПредложение услуг          -0.01   -0.02  \nБытовая техника            -0.02   -0.01  \nАвтомобили                  0.11    0.09  \nТовары для детей и игрушки  0.03   -0.04  \nmean                        0.05    0.00  ",
      "text/html": "<div>\n<style scoped>\n    .dataframe tbody tr th:only-of-type {\n        vertical-align: middle;\n    }\n\n    .dataframe tbody tr th {\n        vertical-align: top;\n    }\n\n    .dataframe thead th {\n        text-align: right;\n    }\n</style>\n<table border=\"1\" class=\"dataframe\">\n  <thead>\n    <tr style=\"text-align: right;\">\n      <th></th>\n      <th>precision</th>\n      <th>precision_std</th>\n      <th>recall</th>\n      <th>recall_std</th>\n      <th>f1</th>\n      <th>f1_std</th>\n    </tr>\n  </thead>\n  <tbody>\n    <tr>\n      <th>Мебель и интерьер</th>\n      <td>0.10</td>\n      <td>0.03</td>\n      <td>0.04</td>\n      <td>0.01</td>\n      <td>0.06</td>\n      <td>0.02</td>\n    </tr>\n    <tr>\n      <th>Ремонт и строительство</th>\n      <td>0.07</td>\n      <td>0.07</td>\n      <td>0.02</td>\n      <td>0.00</td>\n      <td>0.03</td>\n      <td>0.01</td>\n    </tr>\n    <tr>\n      <th>Детская одежда и обувь</th>\n      <td>0.07</td>\n      <td>-0.01</td>\n      <td>0.02</td>\n      <td>-0.01</td>\n      <td>0.05</td>\n      <td>-0.02</td>\n    </tr>\n    <tr>\n      <th>Квартиры</th>\n      <td>-0.07</td>\n      <td>-0.02</td>\n      <td>0.25</td>\n      <td>-0.02</td>\n      <td>0.15</td>\n      <td>-0.03</td>\n    </tr>\n    <tr>\n      <th>Одежда, обувь, аксессуары</th>\n      <td>0.08</td>\n      <td>0.02</td>\n      <td>-0.03</td>\n      <td>-0.01</td>\n      <td>0.03</td>\n      <td>0.00</td>\n    </tr>\n    <tr>\n      <th>Телефоны</th>\n      <td>-0.05</td>\n      <td>-0.09</td>\n      <td>0.06</td>\n      <td>0.00</td>\n      <td>0.05</td>\n      <td>0.00</td>\n    </tr>\n    <tr>\n      <th>Предложение услуг</th>\n      <td>-0.09</td>\n      <td>0.00</td>\n      <td>0.15</td>\n      <td>0.00</td>\n      <td>-0.01</td>\n      <td>-0.02</td>\n    </tr>\n    <tr>\n      <th>Бытовая техника</th>\n      <td>-0.01</td>\n      <td>0.00</td>\n      <td>-0.02</td>\n      <td>-0.03</td>\n      <td>-0.02</td>\n      <td>-0.01</td>\n    </tr>\n    <tr>\n      <th>Автомобили</th>\n      <td>0.12</td>\n      <td>0.06</td>\n      <td>0.09</td>\n      <td>0.08</td>\n      <td>0.11</td>\n      <td>0.09</td>\n    </tr>\n    <tr>\n      <th>Товары для детей и игрушки</th>\n      <td>0.01</td>\n      <td>-0.04</td>\n      <td>0.03</td>\n      <td>-0.02</td>\n      <td>0.03</td>\n      <td>-0.04</td>\n    </tr>\n    <tr>\n      <th>mean</th>\n      <td>0.02</td>\n      <td>0.01</td>\n      <td>0.06</td>\n      <td>0.00</td>\n      <td>0.05</td>\n      <td>0.00</td>\n    </tr>\n  </tbody>\n</table>\n</div>"
     },
     "execution_count": 78,
     "metadata": {},
     "output_type": "execute_result"
    }
   ],
   "source": [
    "metrics_kc_nmf - metrics_kc_svd"
   ],
   "metadata": {
    "collapsed": false,
    "ExecuteTime": {
     "end_time": "2023-06-11T19:17:10.702385Z",
     "start_time": "2023-06-11T19:17:10.514851200Z"
    }
   }
  },
  {
   "cell_type": "code",
   "execution_count": 79,
   "outputs": [
    {
     "data": {
      "text/plain": "                            precision  precision_std  recall  recall_std  \\\nМебель и интерьер                0.71           0.27    0.09        0.03   \nРемонт и строительство           0.17           0.26    0.02        0.03   \nДетская одежда и обувь           0.36           0.03    0.68        0.04   \nКвартиры                         0.63           0.10    0.52        0.10   \nОдежда, обувь, аксессуары        0.38           0.03    0.65        0.06   \nТелефоны                         1.00           0.00    0.10        0.05   \nПредложение услуг                0.64           0.22    0.08        0.03   \nБытовая техника                  0.33           0.41    0.04        0.05   \nАвтомобили                       0.75           0.27    0.08        0.08   \nТовары для детей и игрушки       0.57           0.17    0.09        0.03   \nmean                             0.55           0.18    0.24        0.05   \n\n                              f1  f1_std  \nМебель и интерьер           0.15    0.05  \nРемонт и строительство      0.04    0.06  \nДетская одежда и обувь      0.47    0.03  \nКвартиры                    0.57    0.08  \nОдежда, обувь, аксессуары   0.48    0.04  \nТелефоны                    0.17    0.08  \nПредложение услуг           0.15    0.05  \nБытовая техника             0.08    0.08  \nАвтомобили                  0.14    0.13  \nТовары для детей и игрушки  0.15    0.05  \nmean                        0.24    0.06  ",
      "text/html": "<div>\n<style scoped>\n    .dataframe tbody tr th:only-of-type {\n        vertical-align: middle;\n    }\n\n    .dataframe tbody tr th {\n        vertical-align: top;\n    }\n\n    .dataframe thead th {\n        text-align: right;\n    }\n</style>\n<table border=\"1\" class=\"dataframe\">\n  <thead>\n    <tr style=\"text-align: right;\">\n      <th></th>\n      <th>precision</th>\n      <th>precision_std</th>\n      <th>recall</th>\n      <th>recall_std</th>\n      <th>f1</th>\n      <th>f1_std</th>\n    </tr>\n  </thead>\n  <tbody>\n    <tr>\n      <th>Мебель и интерьер</th>\n      <td>0.71</td>\n      <td>0.27</td>\n      <td>0.09</td>\n      <td>0.03</td>\n      <td>0.15</td>\n      <td>0.05</td>\n    </tr>\n    <tr>\n      <th>Ремонт и строительство</th>\n      <td>0.17</td>\n      <td>0.26</td>\n      <td>0.02</td>\n      <td>0.03</td>\n      <td>0.04</td>\n      <td>0.06</td>\n    </tr>\n    <tr>\n      <th>Детская одежда и обувь</th>\n      <td>0.36</td>\n      <td>0.03</td>\n      <td>0.68</td>\n      <td>0.04</td>\n      <td>0.47</td>\n      <td>0.03</td>\n    </tr>\n    <tr>\n      <th>Квартиры</th>\n      <td>0.63</td>\n      <td>0.10</td>\n      <td>0.52</td>\n      <td>0.10</td>\n      <td>0.57</td>\n      <td>0.08</td>\n    </tr>\n    <tr>\n      <th>Одежда, обувь, аксессуары</th>\n      <td>0.38</td>\n      <td>0.03</td>\n      <td>0.65</td>\n      <td>0.06</td>\n      <td>0.48</td>\n      <td>0.04</td>\n    </tr>\n    <tr>\n      <th>Телефоны</th>\n      <td>1.00</td>\n      <td>0.00</td>\n      <td>0.10</td>\n      <td>0.05</td>\n      <td>0.17</td>\n      <td>0.08</td>\n    </tr>\n    <tr>\n      <th>Предложение услуг</th>\n      <td>0.64</td>\n      <td>0.22</td>\n      <td>0.08</td>\n      <td>0.03</td>\n      <td>0.15</td>\n      <td>0.05</td>\n    </tr>\n    <tr>\n      <th>Бытовая техника</th>\n      <td>0.33</td>\n      <td>0.41</td>\n      <td>0.04</td>\n      <td>0.05</td>\n      <td>0.08</td>\n      <td>0.08</td>\n    </tr>\n    <tr>\n      <th>Автомобили</th>\n      <td>0.75</td>\n      <td>0.27</td>\n      <td>0.08</td>\n      <td>0.08</td>\n      <td>0.14</td>\n      <td>0.13</td>\n    </tr>\n    <tr>\n      <th>Товары для детей и игрушки</th>\n      <td>0.57</td>\n      <td>0.17</td>\n      <td>0.09</td>\n      <td>0.03</td>\n      <td>0.15</td>\n      <td>0.05</td>\n    </tr>\n    <tr>\n      <th>mean</th>\n      <td>0.55</td>\n      <td>0.18</td>\n      <td>0.24</td>\n      <td>0.05</td>\n      <td>0.24</td>\n      <td>0.06</td>\n    </tr>\n  </tbody>\n</table>\n</div>"
     },
     "execution_count": 79,
     "metadata": {},
     "output_type": "execute_result"
    }
   ],
   "source": [
    "metrics_ec_svd"
   ],
   "metadata": {
    "collapsed": false,
    "ExecuteTime": {
     "end_time": "2023-06-11T19:17:10.702884200Z",
     "start_time": "2023-06-11T19:17:10.546288200Z"
    }
   }
  },
  {
   "cell_type": "code",
   "execution_count": 80,
   "outputs": [
    {
     "data": {
      "text/plain": "                            precision  precision_std  recall  recall_std  \\\nМебель и интерьер                0.68           0.10    0.49        0.08   \nРемонт и строительство           0.51           0.13    0.25        0.09   \nДетская одежда и обувь           0.69           0.04    0.72        0.05   \nКвартиры                         0.92           0.04    0.96        0.04   \nОдежда, обувь, аксессуары        0.61           0.03    0.75        0.03   \nТелефоны                         0.64           0.15    0.58        0.19   \nПредложение услуг                0.65           0.09    0.70        0.06   \nБытовая техника                  0.35           0.18    0.17        0.07   \nАвтомобили                       0.74           0.09    0.79        0.06   \nТовары для детей и игрушки       0.66           0.09    0.54        0.09   \nmean                             0.64           0.09    0.60        0.08   \n\n                              f1  f1_std  \nМебель и интерьер           0.57    0.08  \nРемонт и строительство      0.32    0.08  \nДетская одежда и обувь      0.70    0.05  \nКвартиры                    0.94    0.03  \nОдежда, обувь, аксессуары   0.68    0.03  \nТелефоны                    0.60    0.17  \nПредложение услуг           0.67    0.07  \nБытовая техника             0.23    0.10  \nАвтомобили                  0.76    0.06  \nТовары для детей и игрушки  0.59    0.07  \nmean                        0.61    0.07  ",
      "text/html": "<div>\n<style scoped>\n    .dataframe tbody tr th:only-of-type {\n        vertical-align: middle;\n    }\n\n    .dataframe tbody tr th {\n        vertical-align: top;\n    }\n\n    .dataframe thead th {\n        text-align: right;\n    }\n</style>\n<table border=\"1\" class=\"dataframe\">\n  <thead>\n    <tr style=\"text-align: right;\">\n      <th></th>\n      <th>precision</th>\n      <th>precision_std</th>\n      <th>recall</th>\n      <th>recall_std</th>\n      <th>f1</th>\n      <th>f1_std</th>\n    </tr>\n  </thead>\n  <tbody>\n    <tr>\n      <th>Мебель и интерьер</th>\n      <td>0.68</td>\n      <td>0.10</td>\n      <td>0.49</td>\n      <td>0.08</td>\n      <td>0.57</td>\n      <td>0.08</td>\n    </tr>\n    <tr>\n      <th>Ремонт и строительство</th>\n      <td>0.51</td>\n      <td>0.13</td>\n      <td>0.25</td>\n      <td>0.09</td>\n      <td>0.32</td>\n      <td>0.08</td>\n    </tr>\n    <tr>\n      <th>Детская одежда и обувь</th>\n      <td>0.69</td>\n      <td>0.04</td>\n      <td>0.72</td>\n      <td>0.05</td>\n      <td>0.70</td>\n      <td>0.05</td>\n    </tr>\n    <tr>\n      <th>Квартиры</th>\n      <td>0.92</td>\n      <td>0.04</td>\n      <td>0.96</td>\n      <td>0.04</td>\n      <td>0.94</td>\n      <td>0.03</td>\n    </tr>\n    <tr>\n      <th>Одежда, обувь, аксессуары</th>\n      <td>0.61</td>\n      <td>0.03</td>\n      <td>0.75</td>\n      <td>0.03</td>\n      <td>0.68</td>\n      <td>0.03</td>\n    </tr>\n    <tr>\n      <th>Телефоны</th>\n      <td>0.64</td>\n      <td>0.15</td>\n      <td>0.58</td>\n      <td>0.19</td>\n      <td>0.60</td>\n      <td>0.17</td>\n    </tr>\n    <tr>\n      <th>Предложение услуг</th>\n      <td>0.65</td>\n      <td>0.09</td>\n      <td>0.70</td>\n      <td>0.06</td>\n      <td>0.67</td>\n      <td>0.07</td>\n    </tr>\n    <tr>\n      <th>Бытовая техника</th>\n      <td>0.35</td>\n      <td>0.18</td>\n      <td>0.17</td>\n      <td>0.07</td>\n      <td>0.23</td>\n      <td>0.10</td>\n    </tr>\n    <tr>\n      <th>Автомобили</th>\n      <td>0.74</td>\n      <td>0.09</td>\n      <td>0.79</td>\n      <td>0.06</td>\n      <td>0.76</td>\n      <td>0.06</td>\n    </tr>\n    <tr>\n      <th>Товары для детей и игрушки</th>\n      <td>0.66</td>\n      <td>0.09</td>\n      <td>0.54</td>\n      <td>0.09</td>\n      <td>0.59</td>\n      <td>0.07</td>\n    </tr>\n    <tr>\n      <th>mean</th>\n      <td>0.64</td>\n      <td>0.09</td>\n      <td>0.60</td>\n      <td>0.08</td>\n      <td>0.61</td>\n      <td>0.07</td>\n    </tr>\n  </tbody>\n</table>\n</div>"
     },
     "execution_count": 80,
     "metadata": {},
     "output_type": "execute_result"
    }
   ],
   "source": [
    "metrics_ec_nmf"
   ],
   "metadata": {
    "collapsed": false,
    "ExecuteTime": {
     "end_time": "2023-06-11T19:17:10.702884200Z",
     "start_time": "2023-06-11T19:17:10.577004800Z"
    }
   }
  },
  {
   "cell_type": "code",
   "execution_count": 81,
   "outputs": [
    {
     "data": {
      "text/plain": "                            precision  precision_std  recall  recall_std  \\\nМебель и интерьер               -0.03          -0.17    0.40        0.05   \nРемонт и строительство           0.34          -0.13    0.23        0.06   \nДетская одежда и обувь           0.33           0.01    0.04        0.01   \nКвартиры                         0.29          -0.06    0.44       -0.06   \nОдежда, обувь, аксессуары        0.23           0.00    0.10       -0.03   \nТелефоны                        -0.36           0.15    0.48        0.14   \nПредложение услуг                0.01          -0.13    0.62        0.03   \nБытовая техника                  0.02          -0.23    0.13        0.02   \nАвтомобили                      -0.01          -0.18    0.71       -0.02   \nТовары для детей и игрушки       0.09          -0.08    0.45        0.06   \nmean                             0.09          -0.09    0.36        0.03   \n\n                              f1  f1_std  \nМебель и интерьер           0.42    0.03  \nРемонт и строительство      0.28    0.02  \nДетская одежда и обувь      0.23    0.02  \nКвартиры                    0.37   -0.05  \nОдежда, обувь, аксессуары   0.20   -0.01  \nТелефоны                    0.43    0.09  \nПредложение услуг           0.52    0.02  \nБытовая техника             0.15    0.02  \nАвтомобили                  0.62   -0.07  \nТовары для детей и игрушки  0.44    0.02  \nmean                        0.37    0.01  ",
      "text/html": "<div>\n<style scoped>\n    .dataframe tbody tr th:only-of-type {\n        vertical-align: middle;\n    }\n\n    .dataframe tbody tr th {\n        vertical-align: top;\n    }\n\n    .dataframe thead th {\n        text-align: right;\n    }\n</style>\n<table border=\"1\" class=\"dataframe\">\n  <thead>\n    <tr style=\"text-align: right;\">\n      <th></th>\n      <th>precision</th>\n      <th>precision_std</th>\n      <th>recall</th>\n      <th>recall_std</th>\n      <th>f1</th>\n      <th>f1_std</th>\n    </tr>\n  </thead>\n  <tbody>\n    <tr>\n      <th>Мебель и интерьер</th>\n      <td>-0.03</td>\n      <td>-0.17</td>\n      <td>0.40</td>\n      <td>0.05</td>\n      <td>0.42</td>\n      <td>0.03</td>\n    </tr>\n    <tr>\n      <th>Ремонт и строительство</th>\n      <td>0.34</td>\n      <td>-0.13</td>\n      <td>0.23</td>\n      <td>0.06</td>\n      <td>0.28</td>\n      <td>0.02</td>\n    </tr>\n    <tr>\n      <th>Детская одежда и обувь</th>\n      <td>0.33</td>\n      <td>0.01</td>\n      <td>0.04</td>\n      <td>0.01</td>\n      <td>0.23</td>\n      <td>0.02</td>\n    </tr>\n    <tr>\n      <th>Квартиры</th>\n      <td>0.29</td>\n      <td>-0.06</td>\n      <td>0.44</td>\n      <td>-0.06</td>\n      <td>0.37</td>\n      <td>-0.05</td>\n    </tr>\n    <tr>\n      <th>Одежда, обувь, аксессуары</th>\n      <td>0.23</td>\n      <td>0.00</td>\n      <td>0.10</td>\n      <td>-0.03</td>\n      <td>0.20</td>\n      <td>-0.01</td>\n    </tr>\n    <tr>\n      <th>Телефоны</th>\n      <td>-0.36</td>\n      <td>0.15</td>\n      <td>0.48</td>\n      <td>0.14</td>\n      <td>0.43</td>\n      <td>0.09</td>\n    </tr>\n    <tr>\n      <th>Предложение услуг</th>\n      <td>0.01</td>\n      <td>-0.13</td>\n      <td>0.62</td>\n      <td>0.03</td>\n      <td>0.52</td>\n      <td>0.02</td>\n    </tr>\n    <tr>\n      <th>Бытовая техника</th>\n      <td>0.02</td>\n      <td>-0.23</td>\n      <td>0.13</td>\n      <td>0.02</td>\n      <td>0.15</td>\n      <td>0.02</td>\n    </tr>\n    <tr>\n      <th>Автомобили</th>\n      <td>-0.01</td>\n      <td>-0.18</td>\n      <td>0.71</td>\n      <td>-0.02</td>\n      <td>0.62</td>\n      <td>-0.07</td>\n    </tr>\n    <tr>\n      <th>Товары для детей и игрушки</th>\n      <td>0.09</td>\n      <td>-0.08</td>\n      <td>0.45</td>\n      <td>0.06</td>\n      <td>0.44</td>\n      <td>0.02</td>\n    </tr>\n    <tr>\n      <th>mean</th>\n      <td>0.09</td>\n      <td>-0.09</td>\n      <td>0.36</td>\n      <td>0.03</td>\n      <td>0.37</td>\n      <td>0.01</td>\n    </tr>\n  </tbody>\n</table>\n</div>"
     },
     "execution_count": 81,
     "metadata": {},
     "output_type": "execute_result"
    }
   ],
   "source": [
    "metrics_ec_nmf - metrics_ec_svd"
   ],
   "metadata": {
    "collapsed": false,
    "ExecuteTime": {
     "end_time": "2023-06-11T19:17:10.703883500Z",
     "start_time": "2023-06-11T19:17:10.596560700Z"
    }
   }
  },
  {
   "cell_type": "code",
   "execution_count": 82,
   "outputs": [
    {
     "name": "stdout",
     "output_type": "stream",
     "text": [
      "The best dataframe is: metrics_ec_nmf\n"
     ]
    }
   ],
   "source": [
    "# assuming you have 8 dataframes df1, df2, ..., df8\n",
    "dataframes = {'metrics_rf_svd': metrics_rf_svd, 'metrics_rf_nmf': metrics_rf_nmf, 'metrics_sc_svd': metrics_sc_svd, 'metrics_sc_nmf': metrics_sc_nmf, 'metrics_kc_svd': metrics_kc_svd, 'metrics_kc_nmf': metrics_kc_nmf, 'metrics_ec_svd': metrics_ec_svd, 'metrics_ec_nmf': metrics_ec_nmf}\n",
    "\n",
    "column = 'f1'\n",
    "\n",
    "means = {name: df[column].mean() for name, df in dataframes.items()}\n",
    "\n",
    "best_name = max(means, key=means.get)\n",
    "\n",
    "best_dataframe = dataframes[best_name]\n",
    "\n",
    "print(f'The best dataframe is: {best_name}')"
   ],
   "metadata": {
    "collapsed": false,
    "ExecuteTime": {
     "end_time": "2023-06-11T19:17:10.727837900Z",
     "start_time": "2023-06-11T19:17:10.624917600Z"
    }
   }
  },
  {
   "cell_type": "code",
   "execution_count": 83,
   "outputs": [
    {
     "data": {
      "text/plain": "                            precision  precision_std  recall  recall_std  \\\nМебель и интерьер                0.68           0.10    0.49        0.08   \nРемонт и строительство           0.51           0.13    0.25        0.09   \nДетская одежда и обувь           0.69           0.04    0.72        0.05   \nКвартиры                         0.92           0.04    0.96        0.04   \nОдежда, обувь, аксессуары        0.61           0.03    0.75        0.03   \nТелефоны                         0.64           0.15    0.58        0.19   \nПредложение услуг                0.65           0.09    0.70        0.06   \nБытовая техника                  0.35           0.18    0.17        0.07   \nАвтомобили                       0.74           0.09    0.79        0.06   \nТовары для детей и игрушки       0.66           0.09    0.54        0.09   \nmean                             0.64           0.09    0.60        0.08   \n\n                              f1  f1_std  \nМебель и интерьер           0.57    0.08  \nРемонт и строительство      0.32    0.08  \nДетская одежда и обувь      0.70    0.05  \nКвартиры                    0.94    0.03  \nОдежда, обувь, аксессуары   0.68    0.03  \nТелефоны                    0.60    0.17  \nПредложение услуг           0.67    0.07  \nБытовая техника             0.23    0.10  \nАвтомобили                  0.76    0.06  \nТовары для детей и игрушки  0.59    0.07  \nmean                        0.61    0.07  ",
      "text/html": "<div>\n<style scoped>\n    .dataframe tbody tr th:only-of-type {\n        vertical-align: middle;\n    }\n\n    .dataframe tbody tr th {\n        vertical-align: top;\n    }\n\n    .dataframe thead th {\n        text-align: right;\n    }\n</style>\n<table border=\"1\" class=\"dataframe\">\n  <thead>\n    <tr style=\"text-align: right;\">\n      <th></th>\n      <th>precision</th>\n      <th>precision_std</th>\n      <th>recall</th>\n      <th>recall_std</th>\n      <th>f1</th>\n      <th>f1_std</th>\n    </tr>\n  </thead>\n  <tbody>\n    <tr>\n      <th>Мебель и интерьер</th>\n      <td>0.68</td>\n      <td>0.10</td>\n      <td>0.49</td>\n      <td>0.08</td>\n      <td>0.57</td>\n      <td>0.08</td>\n    </tr>\n    <tr>\n      <th>Ремонт и строительство</th>\n      <td>0.51</td>\n      <td>0.13</td>\n      <td>0.25</td>\n      <td>0.09</td>\n      <td>0.32</td>\n      <td>0.08</td>\n    </tr>\n    <tr>\n      <th>Детская одежда и обувь</th>\n      <td>0.69</td>\n      <td>0.04</td>\n      <td>0.72</td>\n      <td>0.05</td>\n      <td>0.70</td>\n      <td>0.05</td>\n    </tr>\n    <tr>\n      <th>Квартиры</th>\n      <td>0.92</td>\n      <td>0.04</td>\n      <td>0.96</td>\n      <td>0.04</td>\n      <td>0.94</td>\n      <td>0.03</td>\n    </tr>\n    <tr>\n      <th>Одежда, обувь, аксессуары</th>\n      <td>0.61</td>\n      <td>0.03</td>\n      <td>0.75</td>\n      <td>0.03</td>\n      <td>0.68</td>\n      <td>0.03</td>\n    </tr>\n    <tr>\n      <th>Телефоны</th>\n      <td>0.64</td>\n      <td>0.15</td>\n      <td>0.58</td>\n      <td>0.19</td>\n      <td>0.60</td>\n      <td>0.17</td>\n    </tr>\n    <tr>\n      <th>Предложение услуг</th>\n      <td>0.65</td>\n      <td>0.09</td>\n      <td>0.70</td>\n      <td>0.06</td>\n      <td>0.67</td>\n      <td>0.07</td>\n    </tr>\n    <tr>\n      <th>Бытовая техника</th>\n      <td>0.35</td>\n      <td>0.18</td>\n      <td>0.17</td>\n      <td>0.07</td>\n      <td>0.23</td>\n      <td>0.10</td>\n    </tr>\n    <tr>\n      <th>Автомобили</th>\n      <td>0.74</td>\n      <td>0.09</td>\n      <td>0.79</td>\n      <td>0.06</td>\n      <td>0.76</td>\n      <td>0.06</td>\n    </tr>\n    <tr>\n      <th>Товары для детей и игрушки</th>\n      <td>0.66</td>\n      <td>0.09</td>\n      <td>0.54</td>\n      <td>0.09</td>\n      <td>0.59</td>\n      <td>0.07</td>\n    </tr>\n    <tr>\n      <th>mean</th>\n      <td>0.64</td>\n      <td>0.09</td>\n      <td>0.60</td>\n      <td>0.08</td>\n      <td>0.61</td>\n      <td>0.07</td>\n    </tr>\n  </tbody>\n</table>\n</div>"
     },
     "execution_count": 83,
     "metadata": {},
     "output_type": "execute_result"
    }
   ],
   "source": [
    "best_dataframe"
   ],
   "metadata": {
    "collapsed": false,
    "ExecuteTime": {
     "end_time": "2023-06-11T19:17:10.732359200Z",
     "start_time": "2023-06-11T19:17:10.639062700Z"
    }
   }
  },
  {
   "cell_type": "markdown",
   "id": "8436142a",
   "metadata": {},
   "source": [
    "### Задание № 2 (6 баллов)"
   ]
  },
  {
   "cell_type": "markdown",
   "id": "6cb61f26",
   "metadata": {},
   "source": [
    "В Gensim тоже можно добавить нграммы и tfidf. Постройте 1 модель без них (как в семинаре) и еще 3 модели (1 с нграммами, 1 с tfidf и 1 с нграммами и с tfidf). Сранивте качество с помощью метрик (перплексия, когерентность) и на глаз. Определите лучшую модель. Для каждой модели выберите 1 самую красивую на ваш взгляд тему.\n",
    "\n",
    "Используйте данные википедии из семинара. Можете взять поменьше данных, если все обучается долго.\n",
    "\n",
    "Важное требование - получившиеся модели не должны быть совсем плохими. Если хороших тем не получается, попробуйте настроить гиперпараметры, отфильтровать словарь по-другому."
   ]
  },
  {
   "cell_type": "code",
   "execution_count": 86,
   "id": "69bcd282",
   "metadata": {
    "ExecuteTime": {
     "end_time": "2023-06-11T19:17:26.164761600Z",
     "start_time": "2023-06-11T19:17:26.152540300Z"
    }
   },
   "outputs": [],
   "source": [
    "import gensim"
   ]
  },
  {
   "cell_type": "code",
   "execution_count": 87,
   "id": "97cfe39e",
   "metadata": {
    "ExecuteTime": {
     "end_time": "2023-06-11T19:17:27.665271Z",
     "start_time": "2023-06-11T19:17:27.653145900Z"
    }
   },
   "outputs": [],
   "source": [
    "def normalize(text):\n",
    "  normalized_text = [word.text.strip(punctuation) for word \\\n",
    "                     in razdel_tokenize(text)]\n",
    "  normalized_text = [word.lower() for word in normalized_text if word and len(word) < 20]\n",
    "  normalized_text = [morph.parse(word)[0].normal_form for word in normalized_text]\n",
    "  return ' '.join(normalized_text)"
   ]
  },
  {
   "cell_type": "code",
   "execution_count": 89,
   "id": "75e7af07",
   "metadata": {
    "ExecuteTime": {
     "end_time": "2023-06-11T19:21:42.707121100Z",
     "start_time": "2023-06-11T19:17:45.746156800Z"
    }
   },
   "outputs": [],
   "source": [
    "texts = open('wiki_data.txt', encoding='UTF8').read().splitlines()[:5000]\n",
    "texts = ([normalize(text) for text in texts])\n",
    "\n",
    "dictinary = gensim.corpora.Dictionary((text.split() for text in texts))\n",
    "corpus = [dictinary.doc2bow(text.split()) for text in texts]"
   ]
  },
  {
   "cell_type": "markdown",
   "source": [
    "# без"
   ],
   "metadata": {
    "collapsed": false
   }
  },
  {
   "cell_type": "code",
   "execution_count": 90,
   "outputs": [],
   "source": [
    "lda = gensim.models.LdaModel(corpus, 200, id2word=dictinary, passes=5)"
   ],
   "metadata": {
    "collapsed": false,
    "ExecuteTime": {
     "end_time": "2023-06-11T19:25:52.381063500Z",
     "start_time": "2023-06-11T19:21:42.714636700Z"
    }
   }
  },
  {
   "cell_type": "markdown",
   "source": [
    "# нграммы"
   ],
   "metadata": {
    "collapsed": false
   }
  },
  {
   "cell_type": "code",
   "execution_count": 92,
   "outputs": [
    {
     "name": "stdout",
     "output_type": "stream",
     "text": [
      "[['новостройка', 'нижегородский_область', 'новостро́йка', '—', 'сельский', 'посёлок', 'в', 'дивеевский_район', 'нижегородский_область', 'входить', 'в', 'состав_сатисский', 'сельсовет', 'посёлок', 'расположить', 'в', '12,5', 'км', 'к_юг', 'от', 'село_дивеево', 'и', '1_км', 'к_запад', 'от', 'город', 'саров', 'на', 'право_берег', 'река', 'вичкинза', 'правый_приток', 'река', 'сатис', 'окружить', 'смешанный_лес', 'соединить', 'асфальтовый', 'дорога', 'с', 'посёлок', 'цыгановка', '1,5_км', 'и', 'грунтовый', 'просёлочный_дорога', 'с', 'посёлок_сатис', '3,5_км', 'название', 'новостройка', 'являться', 'сугубо', 'официальный', 'местный_население', 'использовать', 'исключительно', 'альтернативный', 'название', '—', 'хитрый', 'употребляться_языковой', 'оборот', '«', '…', 'на', 'хитрый', '»', 'ранее', 'использовать', 'название', '—', 'песчаный', 'известковый', 'основать', 'в', '1920-й', 'год', 'переселенец', 'из', 'соседний', 'село_аламасовый', 'и', 'нарышкино', 'расположить', 'соответственно', 'в', '8', 'и', '14', 'км', 'к_запад', 'в', 'вознесенский_район', 'традиционно', 'в', 'посёлок', 'жить', 'рабочий', 'совхоз', '«', 'вперёд', '»', 'центр', 'в', 'посёлок_сатис', 'возле', 'посёлок', 'расположить', 'карьер', 'где', 'активно', 'добывать', 'доломитовый', 'мука', 'и', 'бутовый', 'камень', 'в', 'настоящий_время', 'официально', 'закрытый', 'по_данные', '1978', 'год', 'посёлок', 'новостройка', 'характеризоваться', 'как', 'неперспективный', 'здесь_насчитываться', '24', 'хозяйство', 'и', '43', 'житель', 'водоснабжение', 'осуществляться', 'из', 'колодец', 'и', 'родниковый', 'учреждение', 'соцкультбыт', 'отсутствовать', 'в', '1992_год', 'в', 'посёлок_насчитываться', '7', 'хозяйство', 'и', '16', 'житель', 'из', 'который', '7', 'трудоспособный', 'возраст', 'на', '1_январь', '1995_год', 'в', 'посёлок', 'иметься', '6', 'хозяйство', 'и', '12', 'житель', 'в', 'настоящий_время', 'посёлок', 'не_только', 'оставаться', 'жилой', 'но', 'и', 'получить', 'развитие', 'благодаря', 'свой', 'близость', 'к', 'святой', 'источник', 'в', 'полкилометра', 'расположить', 'казанский', 'родник', 'а', 'в', '1,2', 'км', '—', 'источник', 'святой', 'серафим_саровский', 'в', 'посёлок', 'расположить', 'скит', 'дивеевский', 'монастырь', 'в', '2012_год', 'быть', 'освятить', 'домовой', 'храм', 'в', 'честь', 'серафим_саровский'], ['эсмеральда', 'фильм', '1905', '«', 'эсмеральда', '»', '—', 'немой_короткометражный', 'драматический', 'фильм_режиссёр', 'алиса', 'ги-блаша', '1873—1968', 'и', 'викторить', 'жасс', '1862—1913', 'фильм_снятой', 'по', 'роман', 'виктор', 'гюго', 'премьера_состояться', 'в', 'франция', 'в', '1905', 'год', 'фильм', 'считаться', 'самый', 'первый', 'фильм_снятой', 'по', 'роман', '«', 'собор', 'парижский', 'богоматерь', '»', 'фильм', 'рассказывать_о', 'жизнь', 'цыганский', 'красавица', 'эсмеральда', 'и', 'горбун', 'квазимодо', 'звонарь', 'собор', 'парижский', 'богоматерь'], ['список', 'остров_архипелаг', 'норденшёльд', 'это', 'рабочий', 'список', 'для', 'координация', 'создание', 'стать', 'о', 'остров_архипелаг', 'норденшёльд', 'жирный', 'выделить', 'относительно', 'крупный', 'остров', 'пометка', 'не', 'весь', '—', 'остров', 'обозначить', 'на', 'указанный', 'карта', 'лишь', 'частично', '4', 'безымянный_остров', 'у', 'южный', 'побережье', 'остров', 'русский', 'безымянный_остров', 'к_юг', 'от', 'остров', 'ермолов']]\n"
     ]
    }
   ],
   "source": [
    "texts = [text.split() for text in texts]\n",
    "ph = gensim.models.Phrases(texts, scoring='npmi', threshold=0.4)\n",
    "p = gensim.models.phrases.Phraser(ph)\n",
    "ngrammed_texts = p[texts]\n",
    "print([text for text in ngrammed_texts[:3]])\n",
    "ngrammed_dictinary = gensim.corpora.Dictionary(ngrammed_texts)\n",
    "ngrammed_corpus = [ngrammed_dictinary.doc2bow(text) for text in ngrammed_texts]"
   ],
   "metadata": {
    "collapsed": false,
    "ExecuteTime": {
     "end_time": "2023-06-11T19:27:40.982700500Z",
     "start_time": "2023-06-11T19:27:36.117198500Z"
    }
   }
  },
  {
   "cell_type": "code",
   "execution_count": 93,
   "outputs": [],
   "source": [
    "lda_ngrams = gensim.models.LdaModel(ngrammed_corpus, 200, id2word=ngrammed_dictinary, passes=5)"
   ],
   "metadata": {
    "collapsed": false,
    "ExecuteTime": {
     "end_time": "2023-06-11T19:32:35.972437500Z",
     "start_time": "2023-06-11T19:28:02.283342100Z"
    }
   }
  },
  {
   "cell_type": "markdown",
   "source": [
    "# tf-idf"
   ],
   "metadata": {
    "collapsed": false
   }
  },
  {
   "cell_type": "code",
   "execution_count": 94,
   "outputs": [],
   "source": [
    "tfidf = gensim.models.TfidfModel(corpus, id2word=dictinary)\n",
    "tfidf_corpus = tfidf[corpus]"
   ],
   "metadata": {
    "collapsed": false,
    "ExecuteTime": {
     "end_time": "2023-06-11T19:32:36.173787900Z",
     "start_time": "2023-06-11T19:32:35.972941700Z"
    }
   }
  },
  {
   "cell_type": "code",
   "execution_count": 95,
   "outputs": [],
   "source": [
    "lda_tfidf = gensim.models.LdaModel(tfidf_corpus, 200, id2word=dictinary, passes=5)"
   ],
   "metadata": {
    "collapsed": false,
    "ExecuteTime": {
     "end_time": "2023-06-11T19:34:08.292035600Z",
     "start_time": "2023-06-11T19:32:36.174288200Z"
    }
   }
  },
  {
   "cell_type": "markdown",
   "source": [
    "# tf-idf + нграммы"
   ],
   "metadata": {
    "collapsed": false
   }
  },
  {
   "cell_type": "code",
   "execution_count": 96,
   "outputs": [],
   "source": [
    "tfidf_ngrams = gensim.models.TfidfModel(ngrammed_corpus, id2word=ngrammed_dictinary)\n",
    "tfidf_ngrams_corpus = tfidf_ngrams[ngrammed_corpus]"
   ],
   "metadata": {
    "collapsed": false,
    "ExecuteTime": {
     "end_time": "2023-06-11T19:34:08.803258100Z",
     "start_time": "2023-06-11T19:34:08.296044400Z"
    }
   }
  },
  {
   "cell_type": "code",
   "execution_count": 97,
   "outputs": [],
   "source": [
    "lda_ngrams_tfidf = gensim.models.LdaModel(tfidf_ngrams_corpus, 200, id2word=ngrammed_dictinary, passes=5)"
   ],
   "metadata": {
    "collapsed": false,
    "ExecuteTime": {
     "end_time": "2023-06-11T19:35:46.928054700Z",
     "start_time": "2023-06-11T19:34:08.803758400Z"
    }
   }
  },
  {
   "cell_type": "markdown",
   "source": [
    "# Проверяем"
   ],
   "metadata": {
    "collapsed": false
   }
  },
  {
   "cell_type": "code",
   "execution_count": 98,
   "outputs": [
    {
     "name": "stdout",
     "output_type": "stream",
     "text": [
      "Perplexity:\n",
      "lda: -24.35600400761721\n",
      "lda_ngrams: -27.376026929100693\n",
      "lda_tfidf: -254.40484788375886\n",
      "lda_ngrams_tfidf: -243.37492891486426\n",
      "Coherence:\n",
      "lda: 0.4074451002876195\n",
      "lda_ngrams: 0.429019020431781\n",
      "lda_tfidf: 0.33363131891992537\n",
      "lda_ngrams_tfidf: 0.36268328668204786\n"
     ]
    }
   ],
   "source": [
    "# calculate perplexity for each model\n",
    "perplexity = {\n",
    "    'lda': lda.log_perplexity(corpus),\n",
    "    'lda_ngrams': lda_ngrams.log_perplexity(ngrammed_corpus),\n",
    "    'lda_tfidf': lda_tfidf.log_perplexity(tfidf_corpus),\n",
    "    'lda_ngrams_tfidf': lda_ngrams_tfidf.log_perplexity(tfidf_ngrams_corpus)\n",
    "}\n",
    "\n",
    "# print perplexity for each model\n",
    "print('Perplexity:')\n",
    "for model, score in perplexity.items():\n",
    "    print(f'{model}: {score}')\n",
    "\n",
    "# calculate coherence for each model\n",
    "coherence = {\n",
    "    'lda': gensim.models.CoherenceModel(lda, texts=texts, dictionary=dictinary, coherence='c_v').get_coherence(),\n",
    "    'lda_ngrams': gensim.models.CoherenceModel(lda_ngrams, texts=ngrammed_texts, dictionary=ngrammed_dictinary, coherence='c_v').get_coherence(),\n",
    "    'lda_tfidf': gensim.models.CoherenceModel(lda_tfidf, texts=texts, dictionary=dictinary, coherence='c_v').get_coherence(),\n",
    "    'lda_ngrams_tfidf': gensim.models.CoherenceModel(lda_ngrams_tfidf, texts=ngrammed_texts, dictionary=ngrammed_dictinary, coherence='c_v').get_coherence()\n",
    "}\n",
    "\n",
    "# print coherence for each model\n",
    "print('Coherence:')\n",
    "for model, score in coherence.items():\n",
    "    print(f'{model}: {score}')"
   ],
   "metadata": {
    "collapsed": false,
    "ExecuteTime": {
     "end_time": "2023-06-11T19:41:02.936962400Z",
     "start_time": "2023-06-11T19:35:46.938803Z"
    }
   }
  },
  {
   "cell_type": "code",
   "execution_count": 100,
   "outputs": [
    {
     "name": "stdout",
     "output_type": "stream",
     "text": [
      "The model with the lowest perplexity is: lda_tfidf\n",
      "The model with the highest coherence is: lda_ngrams\n"
     ]
    }
   ],
   "source": [
    "# find the model with the lowest perplexity\n",
    "best_perplexity_model = min(perplexity, key=perplexity.get)\n",
    "\n",
    "# find the model with the highest coherence\n",
    "best_coherence_model = max(coherence, key=coherence.get)\n",
    "\n",
    "# print the best models\n",
    "print(f'The model with the lowest perplexity is: {best_perplexity_model}')\n",
    "print(f'The model with the highest coherence is: {best_coherence_model}')"
   ],
   "metadata": {
    "collapsed": false,
    "ExecuteTime": {
     "end_time": "2023-06-11T19:41:03.147032800Z",
     "start_time": "2023-06-11T19:41:03.074005400Z"
    }
   }
  },
  {
   "cell_type": "markdown",
   "source": [
    "# Топики"
   ],
   "metadata": {
    "collapsed": false
   }
  },
  {
   "cell_type": "code",
   "execution_count": 99,
   "outputs": [
    {
     "name": "stdout",
     "output_type": "stream",
     "text": [
      "lda:\n",
      "  (125, '0.113*\"китай\" + 0.077*\"китайский\" + 0.045*\"папа\" + 0.037*\"провинция\" + 0.033*\"римский\" + 0.027*\"чжан\" + 0.026*\"павел\" + 0.020*\"католический\" + 0.019*\"мученик\" + 0.019*\"вместе\"')\n",
      "lda_ngrams:\n",
      "  (182, '0.053*\"генри\" + 0.049*\"смит\" + 0.035*\"челленджер\" + 0.022*\"третий_раунд\" + 0.019*\"ovw\" + 0.017*\"нидерланды\" + 0.011*\"royal\" + 0.011*\"шотландия\" + 0.011*\"джон\" + 0.011*\"в\"')\n",
      "lda_tfidf:\n",
      "  (149, '0.000*\"нухрат\" + 0.000*\"нух\\xadрат\" + 0.000*\"паскино\" + 0.000*\"отяк\" + 0.000*\"опыт\\xadный\" + 0.000*\"опоя\\xadсали\" + 0.000*\"ом\\xadсиный\" + 0.000*\"нухратец\" + 0.000*\"нухрата\" + 0.000*\"пермец\"')\n",
      "lda_ngrams_tfidf:\n",
      "  (186, '0.000*\"503\" + 0.000*\"пономаренко\" + 0.000*\"гдол\" + 0.000*\"1/60\" + 0.000*\"1/40\" + 0.000*\"стара-болеслав\" + 0.000*\"коменский\" + 0.000*\"брандис-над-лабить\" + 0.000*\"богемский\" + 0.000*\"altbunzlau\"')\n"
     ]
    }
   ],
   "source": [
    "# number of topics to show\n",
    "num_topics = 1\n",
    "\n",
    "# show topics for each model\n",
    "topics = {\n",
    "    'lda': lda.show_topics(num_topics=num_topics),\n",
    "    'lda_ngrams': lda_ngrams.show_topics(num_topics=num_topics),\n",
    "    'lda_tfidf': lda_tfidf.show_topics(num_topics=num_topics),\n",
    "    'lda_ngrams_tfidf': lda_ngrams_tfidf.show_topics(num_topics=num_topics)\n",
    "}\n",
    "\n",
    "# print topics for each model\n",
    "for model, topic_list in topics.items():\n",
    "    print(f'{model}:')\n",
    "    for topic in topic_list:\n",
    "        print(f'  {topic}')"
   ],
   "metadata": {
    "collapsed": false,
    "ExecuteTime": {
     "end_time": "2023-06-11T19:41:03.073095600Z",
     "start_time": "2023-06-11T19:41:02.938968200Z"
    }
   }
  }
 ],
 "metadata": {
  "kernelspec": {
   "display_name": "Python 3 (ipykernel)",
   "language": "python",
   "name": "python3"
  },
  "language_info": {
   "codemirror_mode": {
    "name": "ipython",
    "version": 3
   },
   "file_extension": ".py",
   "mimetype": "text/x-python",
   "name": "python",
   "nbconvert_exporter": "python",
   "pygments_lexer": "ipython3",
   "version": "3.11.0"
  }
 },
 "nbformat": 4,
 "nbformat_minor": 5
}
