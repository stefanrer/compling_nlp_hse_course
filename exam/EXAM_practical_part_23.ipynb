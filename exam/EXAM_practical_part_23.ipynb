{
 "cells": [
  {
   "cell_type": "markdown",
   "id": "9ce6aa68",
   "metadata": {},
   "source": [
    "# Задание 1.\n",
    "\n",
    "Проанализируйте текст ниже с помощью майстема. Уберите из получившегося списка элементы, у которых нет грамматического разбора. Для каждего из оставшихся токенов выберите самый вероятный грамматический разбор. Из каждого разбора выберите только тег части речи (тэг должен состоять только из латинских букв). Найдите три самых частотных тега во всем тексте. Совместите эти три тега в одну строку (разделитель - пробел). Итоговую строку вставьте в форму для экзамена.\n",
    "\n",
    "*Пример: для такого разбора \"PR=\" частеречный тэг - \"PR\", а для такого \"S,муж,неод=твор,ед\" - \"S\" *"
   ]
  },
  {
   "cell_type": "code",
   "execution_count": 5,
   "outputs": [],
   "source": [
    "from pymystem3 import Mystem\n",
    "from collections import Counter"
   ],
   "metadata": {
    "collapsed": false,
    "ExecuteTime": {
     "end_time": "2023-06-23T15:08:33.342673600Z",
     "start_time": "2023-06-23T15:08:33.223189500Z"
    }
   }
  },
  {
   "cell_type": "code",
   "execution_count": 6,
   "outputs": [],
   "source": [
    "m = Mystem()"
   ],
   "metadata": {
    "collapsed": false,
    "ExecuteTime": {
     "end_time": "2023-06-23T15:08:33.350314500Z",
     "start_time": "2023-06-23T15:08:33.246796400Z"
    }
   }
  },
  {
   "cell_type": "code",
   "execution_count": 7,
   "id": "54488642",
   "metadata": {
    "ExecuteTime": {
     "end_time": "2023-06-23T15:08:33.351317100Z",
     "start_time": "2023-06-23T15:08:33.259907Z"
    }
   },
   "outputs": [],
   "source": [
    "text = \"\"\"\n",
    "В сетевом фольклоре есть такой жанр — пересказ научных экспериментов. \n",
    "Чтобы исследование стало вирусным, его предметом непременно должны быть социальные отношения — то есть участвуют или люди, или животные, которых легко проассоциировать с людьми, — а результат обязательно призван иллюстрировать «естественную» для человека порочность. \n",
    "Вы наверняка читали истории о несчастных обезьянах, которых отучали брать банан с помощью холодной воды, или о «мышином рае», чьи обитатели вымерли от якобы слишком комфортной жизни. \n",
    "Проблема таких рассказов в том, что они, как правило, слабо связаны с работой реальных ученых: эксперименты либо вызывали жесткую критику в научной среде, либо вообще никогда не проводились.\n",
    "\n",
    "Эти мемы эксплуатируют авторитет науки, но не меняют и не уточняют представления публики о человеке и обществе, а просто подтверждают уже существующие у нее взгляды: скажем, что люди от природы склонны к насилию или подчинению.\n",
    "Отсюда — их популярность: приятно осознавать, что, например, ваша мизантропия оказалась не беспочвенна. По сути, перед нами суррогат критического мышления: оголтелому позитиву массовой культуры противопоставлен такой же оголтелый негатив.\n",
    "\"\"\""
   ]
  },
  {
   "cell_type": "code",
   "execution_count": 8,
   "id": "c4a84424",
   "metadata": {
    "ExecuteTime": {
     "end_time": "2023-06-23T15:08:38.584277800Z",
     "start_time": "2023-06-23T15:08:33.276229400Z"
    }
   },
   "outputs": [],
   "source": [
    "analysis = m.analyze(text)\n",
    "tags = []"
   ]
  },
  {
   "cell_type": "code",
   "execution_count": 9,
   "id": "d794221b",
   "metadata": {
    "ExecuteTime": {
     "end_time": "2023-06-23T15:08:38.586277900Z",
     "start_time": "2023-06-23T15:08:38.584277800Z"
    }
   },
   "outputs": [],
   "source": [
    "for a in analysis:\n",
    "    if 'analysis' in a and a['analysis']:\n",
    "        best = a['analysis'][0]\n",
    "        gr = best['gr']\n",
    "        pos = gr.split('=')[0].split(',')[0]\n",
    "        tags.append(pos)"
   ]
  },
  {
   "cell_type": "code",
   "execution_count": 10,
   "outputs": [],
   "source": [
    "counter = Counter(tags)\n",
    "top_3_tags = [tag for tag, count in counter.most_common(3)]"
   ],
   "metadata": {
    "collapsed": false,
    "ExecuteTime": {
     "end_time": "2023-06-23T15:08:38.602289300Z",
     "start_time": "2023-06-23T15:08:38.586277900Z"
    }
   }
  },
  {
   "cell_type": "code",
   "execution_count": 11,
   "id": "4a6a63ac",
   "metadata": {
    "ExecuteTime": {
     "end_time": "2023-06-23T15:08:38.625214900Z",
     "start_time": "2023-06-23T15:08:38.603279500Z"
    }
   },
   "outputs": [],
   "source": [
    "result = \" \".join(top_3_tags)"
   ]
  },
  {
   "cell_type": "code",
   "execution_count": 12,
   "id": "a795c773",
   "metadata": {
    "ExecuteTime": {
     "end_time": "2023-06-23T15:08:38.632724600Z",
     "start_time": "2023-06-23T15:08:38.619214100Z"
    }
   },
   "outputs": [
    {
     "name": "stdout",
     "output_type": "stream",
     "text": [
      "S A V\n"
     ]
    }
   ],
   "source": [
    "print(result)"
   ]
  },
  {
   "cell_type": "markdown",
   "id": "b8492784",
   "metadata": {},
   "source": [
    "## Задание 2\n",
    "\n",
    "Вам дана последовательность правильных ответов для задачи бинарной классификации. Используя эти правильные ответы, рассчитайте accuracy модели, которая будет предсказывать только положительный класс. Округлите значение до 2 знаков после запятой. Вставьте число в форму."
   ]
  },
  {
   "cell_type": "code",
   "execution_count": 13,
   "id": "d41953d5",
   "metadata": {
    "ExecuteTime": {
     "end_time": "2023-06-23T15:08:38.679062200Z",
     "start_time": "2023-06-23T15:08:38.633723500Z"
    }
   },
   "outputs": [],
   "source": [
    "binary_true = [1,1,1,1,0,1,0,1,0,1,0,1,1,1,1,1,1,1,0,0,0]"
   ]
  },
  {
   "cell_type": "code",
   "execution_count": 14,
   "id": "d3d7fe16",
   "metadata": {
    "ExecuteTime": {
     "end_time": "2023-06-23T15:08:38.682049900Z",
     "start_time": "2023-06-23T15:08:38.649820600Z"
    }
   },
   "outputs": [],
   "source": [
    "tp = sum(binary_true)\n",
    "fp = len(binary_true) - tp\n",
    "\n",
    "accuracy = tp / (tp + fp)\n",
    "accuracy = round(accuracy, 2)"
   ]
  },
  {
   "cell_type": "code",
   "execution_count": 15,
   "outputs": [
    {
     "data": {
      "text/plain": "0.67"
     },
     "execution_count": 15,
     "metadata": {},
     "output_type": "execute_result"
    }
   ],
   "source": [
    "accuracy"
   ],
   "metadata": {
    "collapsed": false,
    "ExecuteTime": {
     "end_time": "2023-06-23T15:08:38.682049900Z",
     "start_time": "2023-06-23T15:08:38.679062200Z"
    }
   }
  },
  {
   "cell_type": "markdown",
   "id": "ede26498",
   "metadata": {},
   "source": [
    "## Задание 3.\n",
    "\n",
    "Вам дана последовательность с правильными ответами для задачи многоклассовой классификации. А также массив с предсказаниями такой же длины, но в виде вероятностей для каждого класса. Для каждой строчки выберите самый вероятный класс. Сравните полученные метки классов с правильными ответами с помощью f1-меры с макро усреднением по классам. Округлите полученную метрику до 2 знака после запятой и вставьте в форму для экзамена в соответствующее поле."
   ]
  },
  {
   "cell_type": "code",
   "execution_count": 16,
   "id": "f350110f",
   "metadata": {
    "ExecuteTime": {
     "end_time": "2023-06-23T15:08:38.696047800Z",
     "start_time": "2023-06-23T15:08:38.681048900Z"
    }
   },
   "outputs": [],
   "source": [
    "import numpy as np\n",
    "from sklearn.metrics import f1_score"
   ]
  },
  {
   "cell_type": "code",
   "execution_count": 17,
   "id": "ef070800",
   "metadata": {
    "ExecuteTime": {
     "end_time": "2023-06-23T15:08:38.742828600Z",
     "start_time": "2023-06-23T15:08:38.698552500Z"
    }
   },
   "outputs": [],
   "source": [
    "multiclass_true = [0,3,0,0,3,0,0,1,2,4,1,2,4,0,2,0,4,1,2,4,1,1,4,1,2,0]"
   ]
  },
  {
   "cell_type": "code",
   "execution_count": 18,
   "id": "bb7f465b",
   "metadata": {
    "ExecuteTime": {
     "end_time": "2023-06-23T15:08:38.748534500Z",
     "start_time": "2023-06-23T15:08:38.717788800Z"
    }
   },
   "outputs": [],
   "source": [
    "probas = np.array([[0.14283307, 0.69125398, 0.08801677, 0.05890497, 0.01899121],\n",
    "       [0.05017326, 0.16837714, 0.09787715, 0.37586925, 0.3077032 ],\n",
    "       [0.07349622, 0.20737874, 0.06666821, 0.0582571 , 0.59419973],\n",
    "       [0.08704361, 0.18970222, 0.16262277, 0.08630088, 0.47433053],\n",
    "       [0.16137361, 0.21450292, 0.22870402, 0.24422044, 0.151199  ],\n",
    "       [0.268094  , 0.43761478, 0.12385365, 0.04917541, 0.12126215],\n",
    "       [0.27161954, 0.01412896, 0.11056462, 0.09468905, 0.50899783],\n",
    "       [0.09363269, 0.02693918, 0.33977914, 0.39909705, 0.14055195],\n",
    "       [0.29520778, 0.05132426, 0.06673668, 0.45254433, 0.13418695],\n",
    "       [0.15421375, 0.22964685, 0.16662999, 0.21004033, 0.23946907],\n",
    "       [0.24755032, 0.24628846, 0.12956078, 0.24832473, 0.12827571],\n",
    "       [0.11797719, 0.03232272, 0.07293219, 0.52455883, 0.25220907],\n",
    "       [0.75835945, 0.07189134, 0.06032446, 0.04986686, 0.05955789],\n",
    "       [0.02601848, 0.26673495, 0.03124844, 0.21992134, 0.4560768 ],\n",
    "       [0.58059452, 0.03148405, 0.11400383, 0.14452069, 0.12939691],\n",
    "       [0.08215579, 0.32887402, 0.10776154, 0.30880314, 0.17240552],\n",
    "       [0.11467395, 0.07250172, 0.03868279, 0.04358503, 0.73055651],\n",
    "       [0.09546111, 0.22318028, 0.04797582, 0.42230537, 0.21107742],\n",
    "       [0.17088269, 0.31617363, 0.02329777, 0.26480448, 0.22484143],\n",
    "       [0.1573525 , 0.04416687, 0.59056588, 0.0854817 , 0.12243306],\n",
    "       [0.16300152, 0.224168  , 0.11143585, 0.09995103, 0.4014436 ],\n",
    "       [0.17649215, 0.32146966, 0.21575183, 0.0238604 , 0.26242596],\n",
    "       [0.00860468, 0.01201256, 0.96059244, 0.00327634, 0.01551398],\n",
    "       [0.06455855, 0.11772163, 0.25971348, 0.32510222, 0.23290411],\n",
    "       [0.04150647, 0.1329052 , 0.22146507, 0.03930956, 0.5648137 ],\n",
    "       [0.12671909, 0.01486602, 0.77637796, 0.06239952, 0.01963741]])"
   ]
  },
  {
   "cell_type": "code",
   "execution_count": 19,
   "id": "1f253639",
   "metadata": {
    "ExecuteTime": {
     "end_time": "2023-06-23T15:08:38.748534500Z",
     "start_time": "2023-06-23T15:08:38.742828600Z"
    }
   },
   "outputs": [],
   "source": [
    "multiclass_pred = np.argmax(probas, axis=1)"
   ]
  },
  {
   "cell_type": "code",
   "execution_count": 20,
   "id": "0a0fda55",
   "metadata": {
    "ExecuteTime": {
     "end_time": "2023-06-23T15:08:38.759307100Z",
     "start_time": "2023-06-23T15:08:38.744816800Z"
    }
   },
   "outputs": [],
   "source": [
    "f1 = f1_score(multiclass_true, multiclass_pred, average='macro')\n",
    "f1 = round(f1, 2)"
   ]
  },
  {
   "cell_type": "code",
   "execution_count": 21,
   "outputs": [
    {
     "data": {
      "text/plain": "0.18"
     },
     "execution_count": 21,
     "metadata": {},
     "output_type": "execute_result"
    }
   ],
   "source": [
    "f1"
   ],
   "metadata": {
    "collapsed": false,
    "ExecuteTime": {
     "end_time": "2023-06-23T15:08:38.804059400Z",
     "start_time": "2023-06-23T15:08:38.759307100Z"
    }
   }
  },
  {
   "cell_type": "markdown",
   "id": "3dd46798",
   "metadata": {},
   "source": [
    "## Задание 4\n",
    "\n",
    "Загрузите токенизатор и модель 'distilbert-base-multilingual-cased'. Токенизируйте и рассчитайте векторные представления для двух приведенных ниже текстов. Усредните векторные представления токенов каждого из текстов так, чтобы для каждого из текстов получился вектор размером 768. \n",
    "Рассчитайте косинусную близость между двумя этим векторами, округлите её до 2 знака после запятой и вставьте число в форму."
   ]
  },
  {
   "cell_type": "code",
   "execution_count": 22,
   "id": "04c29da9",
   "metadata": {
    "ExecuteTime": {
     "end_time": "2023-06-23T15:08:38.809571400Z",
     "start_time": "2023-06-23T15:08:38.774965400Z"
    }
   },
   "outputs": [],
   "source": [
    "from transformers import AutoTokenizer, AutoModel\n",
    "from scipy.spatial.distance import cosine\n",
    "import torch"
   ]
  },
  {
   "cell_type": "code",
   "execution_count": 23,
   "outputs": [
    {
     "data": {
      "text/plain": "Downloading model.safetensors:   0%|          | 0.00/542M [00:00<?, ?B/s]",
      "application/vnd.jupyter.widget-view+json": {
       "version_major": 2,
       "version_minor": 0,
       "model_id": "2f2a77f173934603996c758d9df0cad1"
      }
     },
     "metadata": {},
     "output_type": "display_data"
    },
    {
     "name": "stderr",
     "output_type": "stream",
     "text": [
      "Some weights of the model checkpoint at distilbert-base-multilingual-cased were not used when initializing DistilBertModel: ['vocab_transform.bias', 'vocab_transform.weight', 'vocab_projector.bias', 'vocab_layer_norm.bias', 'vocab_layer_norm.weight']\n",
      "- This IS expected if you are initializing DistilBertModel from the checkpoint of a model trained on another task or with another architecture (e.g. initializing a BertForSequenceClassification model from a BertForPreTraining model).\n",
      "- This IS NOT expected if you are initializing DistilBertModel from the checkpoint of a model that you expect to be exactly identical (initializing a BertForSequenceClassification model from a BertForSequenceClassification model).\n"
     ]
    }
   ],
   "source": [
    "tokenizer = AutoTokenizer.from_pretrained('distilbert-base-multilingual-cased')\n",
    "model = AutoModel.from_pretrained('distilbert-base-multilingual-cased')"
   ],
   "metadata": {
    "collapsed": false,
    "ExecuteTime": {
     "end_time": "2023-06-23T15:09:16.031738400Z",
     "start_time": "2023-06-23T15:08:38.804059400Z"
    }
   }
  },
  {
   "cell_type": "code",
   "execution_count": 24,
   "id": "098b59e4",
   "metadata": {
    "ExecuteTime": {
     "end_time": "2023-06-23T15:09:16.033738900Z",
     "start_time": "2023-06-23T15:09:16.031738400Z"
    }
   },
   "outputs": [],
   "source": [
    "text1 = \"Колибри не понравился сироп с повышенным содержанием спирта\"\n",
    "text2 = \"Подопытные колибри пили из всех предложенных кормушек.\""
   ]
  },
  {
   "cell_type": "code",
   "execution_count": 25,
   "id": "72f4f559",
   "metadata": {
    "ExecuteTime": {
     "end_time": "2023-06-23T15:09:16.050754100Z",
     "start_time": "2023-06-23T15:09:16.035738800Z"
    }
   },
   "outputs": [],
   "source": [
    "inputs1 = tokenizer(text1, return_tensors='pt', padding=True, truncation=True)\n",
    "inputs2 = tokenizer(text2, return_tensors='pt', padding=True, truncation=True)"
   ]
  },
  {
   "cell_type": "code",
   "execution_count": 26,
   "outputs": [
    {
     "name": "stdout",
     "output_type": "stream",
     "text": [
      "torch.Size([1, 768])\n",
      "torch.Size([1, 768])\n"
     ]
    }
   ],
   "source": [
    "with torch.no_grad():\n",
    "    outputs1 = model(**inputs1)\n",
    "    outputs2 = model(**inputs2)\n",
    "\n",
    "embeddings1 = outputs1.last_hidden_state.mean(dim=1)\n",
    "embeddings2 = outputs2.last_hidden_state.mean(dim=1)\n",
    "print(embeddings1.shape)\n",
    "print(embeddings2.shape)\n",
    "\n",
    "similarity = 1 - cosine(embeddings1[0], embeddings2[0])\n",
    "similarity = round(similarity, 2)"
   ],
   "metadata": {
    "collapsed": false,
    "ExecuteTime": {
     "end_time": "2023-06-23T15:09:16.583455400Z",
     "start_time": "2023-06-23T15:09:16.053753900Z"
    }
   }
  },
  {
   "cell_type": "code",
   "execution_count": 27,
   "outputs": [
    {
     "data": {
      "text/plain": "0.77"
     },
     "execution_count": 27,
     "metadata": {},
     "output_type": "execute_result"
    }
   ],
   "source": [
    "similarity"
   ],
   "metadata": {
    "collapsed": false,
    "ExecuteTime": {
     "end_time": "2023-06-23T15:09:16.598494400Z",
     "start_time": "2023-06-23T15:09:16.584455600Z"
    }
   }
  },
  {
   "cell_type": "markdown",
   "id": "4b4fb936",
   "metadata": {},
   "source": [
    "# Задание 5"
   ]
  },
  {
   "cell_type": "markdown",
   "id": "5af1adfb",
   "metadata": {},
   "source": [
    "Используя модель \"EleutherAI/gpt-neo-125m\" (huggingface), сгенерируйте продолжение следующего текста: \n",
    "\"The exam was\".\n",
    "\n",
    "Используйте следующее параметры при генерации: минимальная длина продолжения - 20 токенов, максимальная длина продолжения - 48 токенов, отсутствие повторов длиной 2 токена, отсутствие семплирования (выбирается только самый вероятный токен).\n",
    "\n",
    "Вставьте полученный текст (изначальный текст + сгенерированное продолжение) в форму целиком (кавычки лучше не включать, но сработает и с ними)"
   ]
  },
  {
   "cell_type": "code",
   "execution_count": 28,
   "id": "6055b4eb",
   "metadata": {
    "scrolled": true,
    "ExecuteTime": {
     "end_time": "2023-06-23T15:09:18.682042400Z",
     "start_time": "2023-06-23T15:09:16.600500500Z"
    }
   },
   "outputs": [
    {
     "name": "stdout",
     "output_type": "stream",
     "text": [
      "Requirement already satisfied: transformers in c:\\users\\robst\\anaconda3\\envs\\test\\lib\\site-packages (4.30.2)\n",
      "Requirement already satisfied: accelerate in c:\\users\\robst\\anaconda3\\envs\\test\\lib\\site-packages (0.20.3)\n",
      "Requirement already satisfied: filelock in c:\\users\\robst\\anaconda3\\envs\\test\\lib\\site-packages (from transformers) (3.9.0)\n",
      "Requirement already satisfied: huggingface-hub<1.0,>=0.14.1 in c:\\users\\robst\\anaconda3\\envs\\test\\lib\\site-packages (from transformers) (0.15.1)\n",
      "Requirement already satisfied: numpy>=1.17 in c:\\users\\robst\\anaconda3\\envs\\test\\lib\\site-packages (from transformers) (1.24.3)\n",
      "Requirement already satisfied: packaging>=20.0 in c:\\users\\robst\\anaconda3\\envs\\test\\lib\\site-packages (from transformers) (23.0)\n",
      "Requirement already satisfied: pyyaml>=5.1 in c:\\users\\robst\\anaconda3\\envs\\test\\lib\\site-packages (from transformers) (6.0)\n",
      "Requirement already satisfied: regex!=2019.12.17 in c:\\users\\robst\\anaconda3\\envs\\test\\lib\\site-packages (from transformers) (2022.7.9)\n",
      "Requirement already satisfied: requests in c:\\users\\robst\\anaconda3\\envs\\test\\lib\\site-packages (from transformers) (2.29.0)\n",
      "Requirement already satisfied: tokenizers!=0.11.3,<0.14,>=0.11.1 in c:\\users\\robst\\anaconda3\\envs\\test\\lib\\site-packages (from transformers) (0.13.2)\n",
      "Requirement already satisfied: safetensors>=0.3.1 in c:\\users\\robst\\anaconda3\\envs\\test\\lib\\site-packages (from transformers) (0.3.1)\n",
      "Requirement already satisfied: tqdm>=4.27 in c:\\users\\robst\\anaconda3\\envs\\test\\lib\\site-packages (from transformers) (4.65.0)\n",
      "Requirement already satisfied: psutil in c:\\users\\robst\\anaconda3\\envs\\test\\lib\\site-packages (from accelerate) (5.9.0)\n",
      "Requirement already satisfied: torch>=1.6.0 in c:\\users\\robst\\anaconda3\\envs\\test\\lib\\site-packages (from accelerate) (2.0.1)\n",
      "Requirement already satisfied: fsspec in c:\\users\\robst\\anaconda3\\envs\\test\\lib\\site-packages (from huggingface-hub<1.0,>=0.14.1->transformers) (2023.4.0)\n",
      "Requirement already satisfied: typing-extensions>=3.7.4.3 in c:\\users\\robst\\anaconda3\\envs\\test\\lib\\site-packages (from huggingface-hub<1.0,>=0.14.1->transformers) (4.6.3)\n",
      "Requirement already satisfied: sympy in c:\\users\\robst\\anaconda3\\envs\\test\\lib\\site-packages (from torch>=1.6.0->accelerate) (1.11.1)\n",
      "Requirement already satisfied: networkx in c:\\users\\robst\\anaconda3\\envs\\test\\lib\\site-packages (from torch>=1.6.0->accelerate) (2.8.4)\n",
      "Requirement already satisfied: jinja2 in c:\\users\\robst\\anaconda3\\envs\\test\\lib\\site-packages (from torch>=1.6.0->accelerate) (3.1.2)\n",
      "Requirement already satisfied: colorama in c:\\users\\robst\\anaconda3\\envs\\test\\lib\\site-packages (from tqdm>=4.27->transformers) (0.4.6)\n",
      "Requirement already satisfied: charset-normalizer<4,>=2 in c:\\users\\robst\\anaconda3\\envs\\test\\lib\\site-packages (from requests->transformers) (2.0.4)\n",
      "Requirement already satisfied: idna<4,>=2.5 in c:\\users\\robst\\anaconda3\\envs\\test\\lib\\site-packages (from requests->transformers) (3.4)\n",
      "Requirement already satisfied: urllib3<1.27,>=1.21.1 in c:\\users\\robst\\anaconda3\\envs\\test\\lib\\site-packages (from requests->transformers) (1.26.16)\n",
      "Requirement already satisfied: certifi>=2017.4.17 in c:\\users\\robst\\anaconda3\\envs\\test\\lib\\site-packages (from requests->transformers) (2023.5.7)\n",
      "Requirement already satisfied: MarkupSafe>=2.0 in c:\\users\\robst\\anaconda3\\envs\\test\\lib\\site-packages (from jinja2->torch>=1.6.0->accelerate) (2.1.1)\n",
      "Requirement already satisfied: mpmath>=0.19 in c:\\users\\robst\\anaconda3\\envs\\test\\lib\\site-packages (from sympy->torch>=1.6.0->accelerate) (1.2.1)\n",
      "Note: you may need to restart the kernel to use updated packages.\n"
     ]
    }
   ],
   "source": [
    "# лучше установить новые версии\n",
    "%pip install transformers accelerate --upgrade"
   ]
  },
  {
   "cell_type": "code",
   "execution_count": 29,
   "id": "681a6441",
   "metadata": {
    "ExecuteTime": {
     "end_time": "2023-06-23T15:09:18.725436100Z",
     "start_time": "2023-06-23T15:09:18.682042400Z"
    }
   },
   "outputs": [],
   "source": [
    "from transformers import pipeline"
   ]
  },
  {
   "cell_type": "code",
   "execution_count": 30,
   "outputs": [],
   "source": [
    "text = \"The exam was\""
   ],
   "metadata": {
    "collapsed": false,
    "ExecuteTime": {
     "end_time": "2023-06-23T15:09:18.727990900Z",
     "start_time": "2023-06-23T15:09:18.697694800Z"
    }
   }
  },
  {
   "cell_type": "code",
   "execution_count": 31,
   "outputs": [
    {
     "name": "stderr",
     "output_type": "stream",
     "text": [
      "Setting `pad_token_id` to `eos_token_id`:50256 for open-end generation.\n"
     ]
    }
   ],
   "source": [
    "generator = pipeline('text-generation', model='EleutherAI/gpt-neo-125m')\n",
    "result = generator(text, min_length=20, max_length=48, no_repeat_ngram_size=2, do_sample=False)"
   ],
   "metadata": {
    "collapsed": false,
    "ExecuteTime": {
     "end_time": "2023-06-23T15:09:22.689372500Z",
     "start_time": "2023-06-23T15:09:18.725436100Z"
    }
   }
  },
  {
   "cell_type": "code",
   "execution_count": 32,
   "outputs": [
    {
     "name": "stdout",
     "output_type": "stream",
     "text": [
      "The exam was held at the University of California, Berkeley, and the students were asked to complete the exam. The exam questions were written in English and Spanish.\n",
      "\n",
      "The students who were not able to finish the test were given a certificate\n"
     ]
    }
   ],
   "source": [
    "generated_text = result[0]['generated_text']\n",
    "print(generated_text)"
   ],
   "metadata": {
    "collapsed": false,
    "ExecuteTime": {
     "end_time": "2023-06-23T15:09:22.704881800Z",
     "start_time": "2023-06-23T15:09:22.690375800Z"
    }
   }
  }
 ],
 "metadata": {
  "kernelspec": {
   "display_name": "Python 3 (ipykernel)",
   "language": "python",
   "name": "python3"
  },
  "language_info": {
   "codemirror_mode": {
    "name": "ipython",
    "version": 3
   },
   "file_extension": ".py",
   "mimetype": "text/x-python",
   "name": "python",
   "nbconvert_exporter": "python",
   "pygments_lexer": "ipython3",
   "version": "3.9.13"
  }
 },
 "nbformat": 4,
 "nbformat_minor": 5
}
